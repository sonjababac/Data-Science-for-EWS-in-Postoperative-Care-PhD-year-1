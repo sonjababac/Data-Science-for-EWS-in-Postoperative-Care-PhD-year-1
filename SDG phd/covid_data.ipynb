{
 "cells": [
  {
   "cell_type": "code",
   "execution_count": 1,
   "metadata": {},
   "outputs": [
    {
     "name": "stdout",
     "output_type": "stream",
     "text": [
      "Libraries Imported\n",
      "1.8.0\n"
     ]
    }
   ],
   "source": [
    "import sdv\n",
    "import numpy as np\n",
    "import pandas as pd\n",
    "import matplotlib.pyplot as plt\n",
    "import seaborn as sns\n",
    "from sklearn import datasets  # Example, importing datasets module\n",
    "import tensorflow as tf\n",
    "import torch\n",
    "import keras\n",
    "import scipy\n",
    "import statsmodels\n",
    "\n",
    "print(\"Libraries Imported\")\n",
    "print(sdv.__version__)"
   ]
  },
  {
   "cell_type": "code",
   "execution_count": 5,
   "metadata": {},
   "outputs": [],
   "source": [
    "\n",
    "df_covid_original = pd.read_excel('C:\\\\Users\\\\20181588\\\\Desktop\\\\data\\\\kaggle data\\\\covid dataset\\\\Kaggle_Sirio_Libanes_ICU_Prediction.xlsx')\n"
   ]
  },
  {
   "cell_type": "code",
   "execution_count": 6,
   "metadata": {},
   "outputs": [],
   "source": [
    "df_covid = df_covid_original.copy()"
   ]
  },
  {
   "cell_type": "code",
   "execution_count": 7,
   "metadata": {},
   "outputs": [
    {
     "data": {
      "text/html": [
       "<div>\n",
       "<style scoped>\n",
       "    .dataframe tbody tr th:only-of-type {\n",
       "        vertical-align: middle;\n",
       "    }\n",
       "\n",
       "    .dataframe tbody tr th {\n",
       "        vertical-align: top;\n",
       "    }\n",
       "\n",
       "    .dataframe thead th {\n",
       "        text-align: right;\n",
       "    }\n",
       "</style>\n",
       "<table border=\"1\" class=\"dataframe\">\n",
       "  <thead>\n",
       "    <tr style=\"text-align: right;\">\n",
       "      <th></th>\n",
       "      <th>PATIENT_VISIT_IDENTIFIER</th>\n",
       "      <th>AGE_ABOVE65</th>\n",
       "      <th>AGE_PERCENTIL</th>\n",
       "      <th>GENDER</th>\n",
       "      <th>DISEASE GROUPING 1</th>\n",
       "      <th>DISEASE GROUPING 2</th>\n",
       "      <th>DISEASE GROUPING 3</th>\n",
       "      <th>DISEASE GROUPING 4</th>\n",
       "      <th>DISEASE GROUPING 5</th>\n",
       "      <th>DISEASE GROUPING 6</th>\n",
       "      <th>...</th>\n",
       "      <th>TEMPERATURE_DIFF</th>\n",
       "      <th>OXYGEN_SATURATION_DIFF</th>\n",
       "      <th>BLOODPRESSURE_DIASTOLIC_DIFF_REL</th>\n",
       "      <th>BLOODPRESSURE_SISTOLIC_DIFF_REL</th>\n",
       "      <th>HEART_RATE_DIFF_REL</th>\n",
       "      <th>RESPIRATORY_RATE_DIFF_REL</th>\n",
       "      <th>TEMPERATURE_DIFF_REL</th>\n",
       "      <th>OXYGEN_SATURATION_DIFF_REL</th>\n",
       "      <th>WINDOW</th>\n",
       "      <th>ICU</th>\n",
       "    </tr>\n",
       "  </thead>\n",
       "  <tbody>\n",
       "    <tr>\n",
       "      <th>0</th>\n",
       "      <td>0</td>\n",
       "      <td>1</td>\n",
       "      <td>60th</td>\n",
       "      <td>0</td>\n",
       "      <td>0.0</td>\n",
       "      <td>0.0</td>\n",
       "      <td>0.0</td>\n",
       "      <td>0.0</td>\n",
       "      <td>1.0</td>\n",
       "      <td>1.0</td>\n",
       "      <td>...</td>\n",
       "      <td>-1.000000</td>\n",
       "      <td>-1.000000</td>\n",
       "      <td>-1.000000</td>\n",
       "      <td>-1.000000</td>\n",
       "      <td>-1.000000</td>\n",
       "      <td>-1.000000</td>\n",
       "      <td>-1.000000</td>\n",
       "      <td>-1.000000</td>\n",
       "      <td>0-2</td>\n",
       "      <td>0</td>\n",
       "    </tr>\n",
       "    <tr>\n",
       "      <th>1</th>\n",
       "      <td>0</td>\n",
       "      <td>1</td>\n",
       "      <td>60th</td>\n",
       "      <td>0</td>\n",
       "      <td>0.0</td>\n",
       "      <td>0.0</td>\n",
       "      <td>0.0</td>\n",
       "      <td>0.0</td>\n",
       "      <td>1.0</td>\n",
       "      <td>1.0</td>\n",
       "      <td>...</td>\n",
       "      <td>-1.000000</td>\n",
       "      <td>-1.000000</td>\n",
       "      <td>-1.000000</td>\n",
       "      <td>-1.000000</td>\n",
       "      <td>-1.000000</td>\n",
       "      <td>-1.000000</td>\n",
       "      <td>-1.000000</td>\n",
       "      <td>-1.000000</td>\n",
       "      <td>2-4</td>\n",
       "      <td>0</td>\n",
       "    </tr>\n",
       "    <tr>\n",
       "      <th>2</th>\n",
       "      <td>0</td>\n",
       "      <td>1</td>\n",
       "      <td>60th</td>\n",
       "      <td>0</td>\n",
       "      <td>0.0</td>\n",
       "      <td>0.0</td>\n",
       "      <td>0.0</td>\n",
       "      <td>0.0</td>\n",
       "      <td>1.0</td>\n",
       "      <td>1.0</td>\n",
       "      <td>...</td>\n",
       "      <td>NaN</td>\n",
       "      <td>NaN</td>\n",
       "      <td>NaN</td>\n",
       "      <td>NaN</td>\n",
       "      <td>NaN</td>\n",
       "      <td>NaN</td>\n",
       "      <td>NaN</td>\n",
       "      <td>NaN</td>\n",
       "      <td>4-6</td>\n",
       "      <td>0</td>\n",
       "    </tr>\n",
       "    <tr>\n",
       "      <th>3</th>\n",
       "      <td>0</td>\n",
       "      <td>1</td>\n",
       "      <td>60th</td>\n",
       "      <td>0</td>\n",
       "      <td>0.0</td>\n",
       "      <td>0.0</td>\n",
       "      <td>0.0</td>\n",
       "      <td>0.0</td>\n",
       "      <td>1.0</td>\n",
       "      <td>1.0</td>\n",
       "      <td>...</td>\n",
       "      <td>-1.000000</td>\n",
       "      <td>-1.000000</td>\n",
       "      <td>NaN</td>\n",
       "      <td>NaN</td>\n",
       "      <td>NaN</td>\n",
       "      <td>NaN</td>\n",
       "      <td>-1.000000</td>\n",
       "      <td>-1.000000</td>\n",
       "      <td>6-12</td>\n",
       "      <td>0</td>\n",
       "    </tr>\n",
       "    <tr>\n",
       "      <th>4</th>\n",
       "      <td>0</td>\n",
       "      <td>1</td>\n",
       "      <td>60th</td>\n",
       "      <td>0</td>\n",
       "      <td>0.0</td>\n",
       "      <td>0.0</td>\n",
       "      <td>0.0</td>\n",
       "      <td>0.0</td>\n",
       "      <td>1.0</td>\n",
       "      <td>1.0</td>\n",
       "      <td>...</td>\n",
       "      <td>-0.238095</td>\n",
       "      <td>-0.818182</td>\n",
       "      <td>-0.389967</td>\n",
       "      <td>0.407558</td>\n",
       "      <td>-0.230462</td>\n",
       "      <td>0.096774</td>\n",
       "      <td>-0.242282</td>\n",
       "      <td>-0.814433</td>\n",
       "      <td>ABOVE_12</td>\n",
       "      <td>1</td>\n",
       "    </tr>\n",
       "  </tbody>\n",
       "</table>\n",
       "<p>5 rows × 231 columns</p>\n",
       "</div>"
      ],
      "text/plain": [
       "   PATIENT_VISIT_IDENTIFIER  AGE_ABOVE65 AGE_PERCENTIL  GENDER  \\\n",
       "0                         0            1          60th       0   \n",
       "1                         0            1          60th       0   \n",
       "2                         0            1          60th       0   \n",
       "3                         0            1          60th       0   \n",
       "4                         0            1          60th       0   \n",
       "\n",
       "   DISEASE GROUPING 1  DISEASE GROUPING 2  DISEASE GROUPING 3  \\\n",
       "0                 0.0                 0.0                 0.0   \n",
       "1                 0.0                 0.0                 0.0   \n",
       "2                 0.0                 0.0                 0.0   \n",
       "3                 0.0                 0.0                 0.0   \n",
       "4                 0.0                 0.0                 0.0   \n",
       "\n",
       "   DISEASE GROUPING 4  DISEASE GROUPING 5  DISEASE GROUPING 6  ...  \\\n",
       "0                 0.0                 1.0                 1.0  ...   \n",
       "1                 0.0                 1.0                 1.0  ...   \n",
       "2                 0.0                 1.0                 1.0  ...   \n",
       "3                 0.0                 1.0                 1.0  ...   \n",
       "4                 0.0                 1.0                 1.0  ...   \n",
       "\n",
       "   TEMPERATURE_DIFF  OXYGEN_SATURATION_DIFF  BLOODPRESSURE_DIASTOLIC_DIFF_REL  \\\n",
       "0         -1.000000               -1.000000                         -1.000000   \n",
       "1         -1.000000               -1.000000                         -1.000000   \n",
       "2               NaN                     NaN                               NaN   \n",
       "3         -1.000000               -1.000000                               NaN   \n",
       "4         -0.238095               -0.818182                         -0.389967   \n",
       "\n",
       "   BLOODPRESSURE_SISTOLIC_DIFF_REL  HEART_RATE_DIFF_REL  \\\n",
       "0                        -1.000000            -1.000000   \n",
       "1                        -1.000000            -1.000000   \n",
       "2                              NaN                  NaN   \n",
       "3                              NaN                  NaN   \n",
       "4                         0.407558            -0.230462   \n",
       "\n",
       "   RESPIRATORY_RATE_DIFF_REL  TEMPERATURE_DIFF_REL  \\\n",
       "0                  -1.000000             -1.000000   \n",
       "1                  -1.000000             -1.000000   \n",
       "2                        NaN                   NaN   \n",
       "3                        NaN             -1.000000   \n",
       "4                   0.096774             -0.242282   \n",
       "\n",
       "   OXYGEN_SATURATION_DIFF_REL    WINDOW  ICU  \n",
       "0                   -1.000000       0-2    0  \n",
       "1                   -1.000000       2-4    0  \n",
       "2                         NaN       4-6    0  \n",
       "3                   -1.000000      6-12    0  \n",
       "4                   -0.814433  ABOVE_12    1  \n",
       "\n",
       "[5 rows x 231 columns]"
      ]
     },
     "execution_count": 7,
     "metadata": {},
     "output_type": "execute_result"
    }
   ],
   "source": [
    "df_covid.head()"
   ]
  },
  {
   "cell_type": "code",
   "execution_count": 9,
   "metadata": {},
   "outputs": [
    {
     "name": "stdout",
     "output_type": "stream",
     "text": [
      "(1925, 231)\n"
     ]
    }
   ],
   "source": [
    "print(df_covid.shape)"
   ]
  },
  {
   "cell_type": "code",
   "execution_count": 10,
   "metadata": {},
   "outputs": [
    {
     "name": "stdout",
     "output_type": "stream",
     "text": [
      "['PATIENT_VISIT_IDENTIFIER', 'AGE_ABOVE65', 'AGE_PERCENTIL', 'GENDER', 'DISEASE GROUPING 1', 'DISEASE GROUPING 2', 'DISEASE GROUPING 3', 'DISEASE GROUPING 4', 'DISEASE GROUPING 5', 'DISEASE GROUPING 6', 'HTN', 'IMMUNOCOMPROMISED', 'OTHER', 'ALBUMIN_MEDIAN', 'ALBUMIN_MEAN', 'ALBUMIN_MIN', 'ALBUMIN_MAX', 'ALBUMIN_DIFF', 'BE_ARTERIAL_MEDIAN', 'BE_ARTERIAL_MEAN', 'BE_ARTERIAL_MIN', 'BE_ARTERIAL_MAX', 'BE_ARTERIAL_DIFF', 'BE_VENOUS_MEDIAN', 'BE_VENOUS_MEAN', 'BE_VENOUS_MIN', 'BE_VENOUS_MAX', 'BE_VENOUS_DIFF', 'BIC_ARTERIAL_MEDIAN', 'BIC_ARTERIAL_MEAN', 'BIC_ARTERIAL_MIN', 'BIC_ARTERIAL_MAX', 'BIC_ARTERIAL_DIFF', 'BIC_VENOUS_MEDIAN', 'BIC_VENOUS_MEAN', 'BIC_VENOUS_MIN', 'BIC_VENOUS_MAX', 'BIC_VENOUS_DIFF', 'BILLIRUBIN_MEDIAN', 'BILLIRUBIN_MEAN', 'BILLIRUBIN_MIN', 'BILLIRUBIN_MAX', 'BILLIRUBIN_DIFF', 'BLAST_MEDIAN', 'BLAST_MEAN', 'BLAST_MIN', 'BLAST_MAX', 'BLAST_DIFF', 'CALCIUM_MEDIAN', 'CALCIUM_MEAN', 'CALCIUM_MIN', 'CALCIUM_MAX', 'CALCIUM_DIFF', 'CREATININ_MEDIAN', 'CREATININ_MEAN', 'CREATININ_MIN', 'CREATININ_MAX', 'CREATININ_DIFF', 'FFA_MEDIAN', 'FFA_MEAN', 'FFA_MIN', 'FFA_MAX', 'FFA_DIFF', 'GGT_MEDIAN', 'GGT_MEAN', 'GGT_MIN', 'GGT_MAX', 'GGT_DIFF', 'GLUCOSE_MEDIAN', 'GLUCOSE_MEAN', 'GLUCOSE_MIN', 'GLUCOSE_MAX', 'GLUCOSE_DIFF', 'HEMATOCRITE_MEDIAN', 'HEMATOCRITE_MEAN', 'HEMATOCRITE_MIN', 'HEMATOCRITE_MAX', 'HEMATOCRITE_DIFF', 'HEMOGLOBIN_MEDIAN', 'HEMOGLOBIN_MEAN', 'HEMOGLOBIN_MIN', 'HEMOGLOBIN_MAX', 'HEMOGLOBIN_DIFF', 'INR_MEDIAN', 'INR_MEAN', 'INR_MIN', 'INR_MAX', 'INR_DIFF', 'LACTATE_MEDIAN', 'LACTATE_MEAN', 'LACTATE_MIN', 'LACTATE_MAX', 'LACTATE_DIFF', 'LEUKOCYTES_MEDIAN', 'LEUKOCYTES_MEAN', 'LEUKOCYTES_MIN', 'LEUKOCYTES_MAX', 'LEUKOCYTES_DIFF', 'LINFOCITOS_MEDIAN', 'LINFOCITOS_MEAN', 'LINFOCITOS_MIN', 'LINFOCITOS_MAX', 'LINFOCITOS_DIFF', 'NEUTROPHILES_MEDIAN', 'NEUTROPHILES_MEAN', 'NEUTROPHILES_MIN', 'NEUTROPHILES_MAX', 'NEUTROPHILES_DIFF', 'P02_ARTERIAL_MEDIAN', 'P02_ARTERIAL_MEAN', 'P02_ARTERIAL_MIN', 'P02_ARTERIAL_MAX', 'P02_ARTERIAL_DIFF', 'P02_VENOUS_MEDIAN', 'P02_VENOUS_MEAN', 'P02_VENOUS_MIN', 'P02_VENOUS_MAX', 'P02_VENOUS_DIFF', 'PC02_ARTERIAL_MEDIAN', 'PC02_ARTERIAL_MEAN', 'PC02_ARTERIAL_MIN', 'PC02_ARTERIAL_MAX', 'PC02_ARTERIAL_DIFF', 'PC02_VENOUS_MEDIAN', 'PC02_VENOUS_MEAN', 'PC02_VENOUS_MIN', 'PC02_VENOUS_MAX', 'PC02_VENOUS_DIFF', 'PCR_MEDIAN', 'PCR_MEAN', 'PCR_MIN', 'PCR_MAX', 'PCR_DIFF', 'PH_ARTERIAL_MEDIAN', 'PH_ARTERIAL_MEAN', 'PH_ARTERIAL_MIN', 'PH_ARTERIAL_MAX', 'PH_ARTERIAL_DIFF', 'PH_VENOUS_MEDIAN', 'PH_VENOUS_MEAN', 'PH_VENOUS_MIN', 'PH_VENOUS_MAX', 'PH_VENOUS_DIFF', 'PLATELETS_MEDIAN', 'PLATELETS_MEAN', 'PLATELETS_MIN', 'PLATELETS_MAX', 'PLATELETS_DIFF', 'POTASSIUM_MEDIAN', 'POTASSIUM_MEAN', 'POTASSIUM_MIN', 'POTASSIUM_MAX', 'POTASSIUM_DIFF', 'SAT02_ARTERIAL_MEDIAN', 'SAT02_ARTERIAL_MEAN', 'SAT02_ARTERIAL_MIN', 'SAT02_ARTERIAL_MAX', 'SAT02_ARTERIAL_DIFF', 'SAT02_VENOUS_MEDIAN', 'SAT02_VENOUS_MEAN', 'SAT02_VENOUS_MIN', 'SAT02_VENOUS_MAX', 'SAT02_VENOUS_DIFF', 'SODIUM_MEDIAN', 'SODIUM_MEAN', 'SODIUM_MIN', 'SODIUM_MAX', 'SODIUM_DIFF', 'TGO_MEDIAN', 'TGO_MEAN', 'TGO_MIN', 'TGO_MAX', 'TGO_DIFF', 'TGP_MEDIAN', 'TGP_MEAN', 'TGP_MIN', 'TGP_MAX', 'TGP_DIFF', 'TTPA_MEDIAN', 'TTPA_MEAN', 'TTPA_MIN', 'TTPA_MAX', 'TTPA_DIFF', 'UREA_MEDIAN', 'UREA_MEAN', 'UREA_MIN', 'UREA_MAX', 'UREA_DIFF', 'DIMER_MEDIAN', 'DIMER_MEAN', 'DIMER_MIN', 'DIMER_MAX', 'DIMER_DIFF', 'BLOODPRESSURE_DIASTOLIC_MEAN', 'BLOODPRESSURE_SISTOLIC_MEAN', 'HEART_RATE_MEAN', 'RESPIRATORY_RATE_MEAN', 'TEMPERATURE_MEAN', 'OXYGEN_SATURATION_MEAN', 'BLOODPRESSURE_DIASTOLIC_MEDIAN', 'BLOODPRESSURE_SISTOLIC_MEDIAN', 'HEART_RATE_MEDIAN', 'RESPIRATORY_RATE_MEDIAN', 'TEMPERATURE_MEDIAN', 'OXYGEN_SATURATION_MEDIAN', 'BLOODPRESSURE_DIASTOLIC_MIN', 'BLOODPRESSURE_SISTOLIC_MIN', 'HEART_RATE_MIN', 'RESPIRATORY_RATE_MIN', 'TEMPERATURE_MIN', 'OXYGEN_SATURATION_MIN', 'BLOODPRESSURE_DIASTOLIC_MAX', 'BLOODPRESSURE_SISTOLIC_MAX', 'HEART_RATE_MAX', 'RESPIRATORY_RATE_MAX', 'TEMPERATURE_MAX', 'OXYGEN_SATURATION_MAX', 'BLOODPRESSURE_DIASTOLIC_DIFF', 'BLOODPRESSURE_SISTOLIC_DIFF', 'HEART_RATE_DIFF', 'RESPIRATORY_RATE_DIFF', 'TEMPERATURE_DIFF', 'OXYGEN_SATURATION_DIFF', 'BLOODPRESSURE_DIASTOLIC_DIFF_REL', 'BLOODPRESSURE_SISTOLIC_DIFF_REL', 'HEART_RATE_DIFF_REL', 'RESPIRATORY_RATE_DIFF_REL', 'TEMPERATURE_DIFF_REL', 'OXYGEN_SATURATION_DIFF_REL', 'WINDOW', 'ICU']\n"
     ]
    }
   ],
   "source": [
    "# Print list of all the columns\n",
    "print(list(df_covid.columns))"
   ]
  },
  {
   "cell_type": "code",
   "execution_count": 11,
   "metadata": {},
   "outputs": [
    {
     "data": {
      "text/plain": [
       "PATIENT_VISIT_IDENTIFIER\n",
       "0      5\n",
       "193    5\n",
       "263    5\n",
       "262    5\n",
       "261    5\n",
       "      ..\n",
       "126    5\n",
       "125    5\n",
       "124    5\n",
       "123    5\n",
       "384    5\n",
       "Name: count, Length: 385, dtype: int64"
      ]
     },
     "execution_count": 11,
     "metadata": {},
     "output_type": "execute_result"
    }
   ],
   "source": [
    "# Check if the patient IDs are repetative\n",
    "df_covid['PATIENT_VISIT_IDENTIFIER'].value_counts()"
   ]
  },
  {
   "cell_type": "code",
   "execution_count": 12,
   "metadata": {},
   "outputs": [
    {
     "data": {
      "text/html": [
       "<div>\n",
       "<style scoped>\n",
       "    .dataframe tbody tr th:only-of-type {\n",
       "        vertical-align: middle;\n",
       "    }\n",
       "\n",
       "    .dataframe tbody tr th {\n",
       "        vertical-align: top;\n",
       "    }\n",
       "\n",
       "    .dataframe thead th {\n",
       "        text-align: right;\n",
       "    }\n",
       "</style>\n",
       "<table border=\"1\" class=\"dataframe\">\n",
       "  <thead>\n",
       "    <tr style=\"text-align: right;\">\n",
       "      <th></th>\n",
       "      <th>PATIENT_VISIT_IDENTIFIER</th>\n",
       "      <th>AGE_ABOVE65</th>\n",
       "      <th>AGE_PERCENTIL</th>\n",
       "      <th>GENDER</th>\n",
       "      <th>DISEASE GROUPING 1</th>\n",
       "      <th>DISEASE GROUPING 2</th>\n",
       "      <th>DISEASE GROUPING 3</th>\n",
       "      <th>DISEASE GROUPING 4</th>\n",
       "      <th>DISEASE GROUPING 5</th>\n",
       "      <th>DISEASE GROUPING 6</th>\n",
       "      <th>...</th>\n",
       "      <th>TEMPERATURE_DIFF</th>\n",
       "      <th>OXYGEN_SATURATION_DIFF</th>\n",
       "      <th>BLOODPRESSURE_DIASTOLIC_DIFF_REL</th>\n",
       "      <th>BLOODPRESSURE_SISTOLIC_DIFF_REL</th>\n",
       "      <th>HEART_RATE_DIFF_REL</th>\n",
       "      <th>RESPIRATORY_RATE_DIFF_REL</th>\n",
       "      <th>TEMPERATURE_DIFF_REL</th>\n",
       "      <th>OXYGEN_SATURATION_DIFF_REL</th>\n",
       "      <th>WINDOW</th>\n",
       "      <th>ICU</th>\n",
       "    </tr>\n",
       "  </thead>\n",
       "  <tbody>\n",
       "    <tr>\n",
       "      <th>5</th>\n",
       "      <td>1</td>\n",
       "      <td>1</td>\n",
       "      <td>90th</td>\n",
       "      <td>1</td>\n",
       "      <td>0.0</td>\n",
       "      <td>0.0</td>\n",
       "      <td>0.0</td>\n",
       "      <td>0.0</td>\n",
       "      <td>0.0</td>\n",
       "      <td>0.0</td>\n",
       "      <td>...</td>\n",
       "      <td>-1.000000</td>\n",
       "      <td>-1.00000</td>\n",
       "      <td>-1.000000</td>\n",
       "      <td>-1.000000</td>\n",
       "      <td>-1.000000</td>\n",
       "      <td>-1.000000</td>\n",
       "      <td>-1.000000</td>\n",
       "      <td>-1.000000</td>\n",
       "      <td>0-2</td>\n",
       "      <td>1</td>\n",
       "    </tr>\n",
       "    <tr>\n",
       "      <th>6</th>\n",
       "      <td>1</td>\n",
       "      <td>1</td>\n",
       "      <td>90th</td>\n",
       "      <td>1</td>\n",
       "      <td>0.0</td>\n",
       "      <td>0.0</td>\n",
       "      <td>0.0</td>\n",
       "      <td>0.0</td>\n",
       "      <td>0.0</td>\n",
       "      <td>0.0</td>\n",
       "      <td>...</td>\n",
       "      <td>-1.000000</td>\n",
       "      <td>-1.00000</td>\n",
       "      <td>-1.000000</td>\n",
       "      <td>-1.000000</td>\n",
       "      <td>-1.000000</td>\n",
       "      <td>-1.000000</td>\n",
       "      <td>-1.000000</td>\n",
       "      <td>-1.000000</td>\n",
       "      <td>2-4</td>\n",
       "      <td>1</td>\n",
       "    </tr>\n",
       "    <tr>\n",
       "      <th>7</th>\n",
       "      <td>1</td>\n",
       "      <td>1</td>\n",
       "      <td>90th</td>\n",
       "      <td>1</td>\n",
       "      <td>0.0</td>\n",
       "      <td>0.0</td>\n",
       "      <td>0.0</td>\n",
       "      <td>0.0</td>\n",
       "      <td>0.0</td>\n",
       "      <td>0.0</td>\n",
       "      <td>...</td>\n",
       "      <td>-1.000000</td>\n",
       "      <td>-1.00000</td>\n",
       "      <td>-1.000000</td>\n",
       "      <td>-1.000000</td>\n",
       "      <td>-1.000000</td>\n",
       "      <td>-1.000000</td>\n",
       "      <td>-1.000000</td>\n",
       "      <td>-1.000000</td>\n",
       "      <td>4-6</td>\n",
       "      <td>1</td>\n",
       "    </tr>\n",
       "    <tr>\n",
       "      <th>8</th>\n",
       "      <td>1</td>\n",
       "      <td>1</td>\n",
       "      <td>90th</td>\n",
       "      <td>1</td>\n",
       "      <td>0.0</td>\n",
       "      <td>0.0</td>\n",
       "      <td>0.0</td>\n",
       "      <td>0.0</td>\n",
       "      <td>0.0</td>\n",
       "      <td>0.0</td>\n",
       "      <td>...</td>\n",
       "      <td>-0.880952</td>\n",
       "      <td>-1.00000</td>\n",
       "      <td>-0.906832</td>\n",
       "      <td>-0.831132</td>\n",
       "      <td>-0.940967</td>\n",
       "      <td>-0.817204</td>\n",
       "      <td>-0.882574</td>\n",
       "      <td>-1.000000</td>\n",
       "      <td>6-12</td>\n",
       "      <td>1</td>\n",
       "    </tr>\n",
       "    <tr>\n",
       "      <th>9</th>\n",
       "      <td>1</td>\n",
       "      <td>1</td>\n",
       "      <td>90th</td>\n",
       "      <td>1</td>\n",
       "      <td>0.0</td>\n",
       "      <td>0.0</td>\n",
       "      <td>0.0</td>\n",
       "      <td>0.0</td>\n",
       "      <td>1.0</td>\n",
       "      <td>0.0</td>\n",
       "      <td>...</td>\n",
       "      <td>0.142857</td>\n",
       "      <td>-0.79798</td>\n",
       "      <td>0.315690</td>\n",
       "      <td>0.200359</td>\n",
       "      <td>-0.239515</td>\n",
       "      <td>0.645161</td>\n",
       "      <td>0.139709</td>\n",
       "      <td>-0.802317</td>\n",
       "      <td>ABOVE_12</td>\n",
       "      <td>1</td>\n",
       "    </tr>\n",
       "  </tbody>\n",
       "</table>\n",
       "<p>5 rows × 231 columns</p>\n",
       "</div>"
      ],
      "text/plain": [
       "   PATIENT_VISIT_IDENTIFIER  AGE_ABOVE65 AGE_PERCENTIL  GENDER  \\\n",
       "5                         1            1          90th       1   \n",
       "6                         1            1          90th       1   \n",
       "7                         1            1          90th       1   \n",
       "8                         1            1          90th       1   \n",
       "9                         1            1          90th       1   \n",
       "\n",
       "   DISEASE GROUPING 1  DISEASE GROUPING 2  DISEASE GROUPING 3  \\\n",
       "5                 0.0                 0.0                 0.0   \n",
       "6                 0.0                 0.0                 0.0   \n",
       "7                 0.0                 0.0                 0.0   \n",
       "8                 0.0                 0.0                 0.0   \n",
       "9                 0.0                 0.0                 0.0   \n",
       "\n",
       "   DISEASE GROUPING 4  DISEASE GROUPING 5  DISEASE GROUPING 6  ...  \\\n",
       "5                 0.0                 0.0                 0.0  ...   \n",
       "6                 0.0                 0.0                 0.0  ...   \n",
       "7                 0.0                 0.0                 0.0  ...   \n",
       "8                 0.0                 0.0                 0.0  ...   \n",
       "9                 0.0                 1.0                 0.0  ...   \n",
       "\n",
       "   TEMPERATURE_DIFF  OXYGEN_SATURATION_DIFF  BLOODPRESSURE_DIASTOLIC_DIFF_REL  \\\n",
       "5         -1.000000                -1.00000                         -1.000000   \n",
       "6         -1.000000                -1.00000                         -1.000000   \n",
       "7         -1.000000                -1.00000                         -1.000000   \n",
       "8         -0.880952                -1.00000                         -0.906832   \n",
       "9          0.142857                -0.79798                          0.315690   \n",
       "\n",
       "   BLOODPRESSURE_SISTOLIC_DIFF_REL  HEART_RATE_DIFF_REL  \\\n",
       "5                        -1.000000            -1.000000   \n",
       "6                        -1.000000            -1.000000   \n",
       "7                        -1.000000            -1.000000   \n",
       "8                        -0.831132            -0.940967   \n",
       "9                         0.200359            -0.239515   \n",
       "\n",
       "   RESPIRATORY_RATE_DIFF_REL  TEMPERATURE_DIFF_REL  \\\n",
       "5                  -1.000000             -1.000000   \n",
       "6                  -1.000000             -1.000000   \n",
       "7                  -1.000000             -1.000000   \n",
       "8                  -0.817204             -0.882574   \n",
       "9                   0.645161              0.139709   \n",
       "\n",
       "   OXYGEN_SATURATION_DIFF_REL    WINDOW  ICU  \n",
       "5                   -1.000000       0-2    1  \n",
       "6                   -1.000000       2-4    1  \n",
       "7                   -1.000000       4-6    1  \n",
       "8                   -1.000000      6-12    1  \n",
       "9                   -0.802317  ABOVE_12    1  \n",
       "\n",
       "[5 rows x 231 columns]"
      ]
     },
     "execution_count": 12,
     "metadata": {},
     "output_type": "execute_result"
    }
   ],
   "source": [
    "##  Sample a patient ID to see the importatn features\n",
    "id = 1\n",
    "df_covid[df_covid['PATIENT_VISIT_IDENTIFIER'] == id]"
   ]
  },
  {
   "cell_type": "code",
   "execution_count": 13,
   "metadata": {},
   "outputs": [
    {
     "data": {
      "text/html": [
       "<div>\n",
       "<style scoped>\n",
       "    .dataframe tbody tr th:only-of-type {\n",
       "        vertical-align: middle;\n",
       "    }\n",
       "\n",
       "    .dataframe tbody tr th {\n",
       "        vertical-align: top;\n",
       "    }\n",
       "\n",
       "    .dataframe thead th {\n",
       "        text-align: right;\n",
       "    }\n",
       "</style>\n",
       "<table border=\"1\" class=\"dataframe\">\n",
       "  <thead>\n",
       "    <tr style=\"text-align: right;\">\n",
       "      <th></th>\n",
       "      <th>PATIENT_VISIT_IDENTIFIER</th>\n",
       "      <th>AGE_ABOVE65</th>\n",
       "      <th>AGE_PERCENTIL</th>\n",
       "      <th>GENDER</th>\n",
       "      <th>IMMUNOCOMPROMISED</th>\n",
       "    </tr>\n",
       "  </thead>\n",
       "  <tbody>\n",
       "    <tr>\n",
       "      <th>4</th>\n",
       "      <td>0</td>\n",
       "      <td>1</td>\n",
       "      <td>60th</td>\n",
       "      <td>0</td>\n",
       "      <td>0.0</td>\n",
       "    </tr>\n",
       "    <tr>\n",
       "      <th>5</th>\n",
       "      <td>1</td>\n",
       "      <td>1</td>\n",
       "      <td>90th</td>\n",
       "      <td>1</td>\n",
       "      <td>1.0</td>\n",
       "    </tr>\n",
       "    <tr>\n",
       "      <th>14</th>\n",
       "      <td>2</td>\n",
       "      <td>0</td>\n",
       "      <td>10th</td>\n",
       "      <td>0</td>\n",
       "      <td>0.0</td>\n",
       "    </tr>\n",
       "    <tr>\n",
       "      <th>58</th>\n",
       "      <td>11</td>\n",
       "      <td>1</td>\n",
       "      <td>80th</td>\n",
       "      <td>0</td>\n",
       "      <td>0.0</td>\n",
       "    </tr>\n",
       "    <tr>\n",
       "      <th>69</th>\n",
       "      <td>13</td>\n",
       "      <td>0</td>\n",
       "      <td>50th</td>\n",
       "      <td>0</td>\n",
       "      <td>0.0</td>\n",
       "    </tr>\n",
       "    <tr>\n",
       "      <th>...</th>\n",
       "      <td>...</td>\n",
       "      <td>...</td>\n",
       "      <td>...</td>\n",
       "      <td>...</td>\n",
       "      <td>...</td>\n",
       "    </tr>\n",
       "    <tr>\n",
       "      <th>1866</th>\n",
       "      <td>373</td>\n",
       "      <td>1</td>\n",
       "      <td>90th</td>\n",
       "      <td>1</td>\n",
       "      <td>0.0</td>\n",
       "    </tr>\n",
       "    <tr>\n",
       "      <th>1882</th>\n",
       "      <td>376</td>\n",
       "      <td>1</td>\n",
       "      <td>90th</td>\n",
       "      <td>0</td>\n",
       "      <td>1.0</td>\n",
       "    </tr>\n",
       "    <tr>\n",
       "      <th>1895</th>\n",
       "      <td>379</td>\n",
       "      <td>1</td>\n",
       "      <td>Above 90th</td>\n",
       "      <td>1</td>\n",
       "      <td>0.0</td>\n",
       "    </tr>\n",
       "    <tr>\n",
       "      <th>1904</th>\n",
       "      <td>380</td>\n",
       "      <td>0</td>\n",
       "      <td>40th</td>\n",
       "      <td>1</td>\n",
       "      <td>1.0</td>\n",
       "    </tr>\n",
       "    <tr>\n",
       "      <th>1914</th>\n",
       "      <td>382</td>\n",
       "      <td>0</td>\n",
       "      <td>50th</td>\n",
       "      <td>0</td>\n",
       "      <td>0.0</td>\n",
       "    </tr>\n",
       "  </tbody>\n",
       "</table>\n",
       "<p>198 rows × 5 columns</p>\n",
       "</div>"
      ],
      "text/plain": [
       "      PATIENT_VISIT_IDENTIFIER  AGE_ABOVE65 AGE_PERCENTIL  GENDER  \\\n",
       "4                            0            1          60th       0   \n",
       "5                            1            1          90th       1   \n",
       "14                           2            0          10th       0   \n",
       "58                          11            1          80th       0   \n",
       "69                          13            0          50th       0   \n",
       "...                        ...          ...           ...     ...   \n",
       "1866                       373            1          90th       1   \n",
       "1882                       376            1          90th       0   \n",
       "1895                       379            1    Above 90th       1   \n",
       "1904                       380            0          40th       1   \n",
       "1914                       382            0          50th       0   \n",
       "\n",
       "      IMMUNOCOMPROMISED  \n",
       "4                   0.0  \n",
       "5                   1.0  \n",
       "14                  0.0  \n",
       "58                  0.0  \n",
       "69                  0.0  \n",
       "...                 ...  \n",
       "1866                0.0  \n",
       "1882                1.0  \n",
       "1895                0.0  \n",
       "1904                1.0  \n",
       "1914                0.0  \n",
       "\n",
       "[198 rows x 5 columns]"
      ]
     },
     "execution_count": 13,
     "metadata": {},
     "output_type": "execute_result"
    }
   ],
   "source": [
    "# Groupby Patients in ICU and explore some general features\n",
    "general_cols = ['PATIENT_VISIT_IDENTIFIER','AGE_ABOVE65','AGE_PERCENTIL','GENDER','IMMUNOCOMPROMISED']\n",
    "icu_set = df_covid[df_covid['ICU'] == 1][general_cols].drop_duplicates(keep = 'first')\n",
    "icu_set"
   ]
  },
  {
   "cell_type": "code",
   "execution_count": 14,
   "metadata": {},
   "outputs": [],
   "source": [
    "import plotly.express as px\n",
    "from plotly.subplots import make_subplots\n",
    "import plotly.graph_objects as go"
   ]
  },
  {
   "cell_type": "code",
   "execution_count": 15,
   "metadata": {},
   "outputs": [
    {
     "data": {
      "application/vnd.plotly.v1+json": {
       "config": {
        "plotlyServerURL": "https://plot.ly"
       },
       "data": [
        {
         "name": "Gender",
         "type": "bar",
         "x": [
          0,
          1
         ],
         "xaxis": "x",
         "y": [
          136,
          62
         ],
         "yaxis": "y"
        },
        {
         "name": "Ages",
         "type": "bar",
         "x": [
          "Above 90th",
          "80th",
          "90th",
          "70th",
          "60th",
          "50th",
          "30th",
          "40th",
          "20th",
          "10th"
         ],
         "xaxis": "x2",
         "y": [
          30,
          26,
          23,
          23,
          21,
          20,
          18,
          15,
          12,
          10
         ],
         "yaxis": "y2"
        },
        {
         "name": "Immunity Compramised",
         "type": "bar",
         "x": [
          0,
          1
         ],
         "xaxis": "x3",
         "y": [
          159,
          39
         ],
         "yaxis": "y3"
        },
        {
         "name": "Age > 65",
         "type": "bar",
         "x": [
          1,
          0
         ],
         "xaxis": "x4",
         "y": [
          122,
          76
         ],
         "yaxis": "y4"
        }
       ],
       "layout": {
        "annotations": [
         {
          "font": {
           "size": 16
          },
          "showarrow": false,
          "text": "Gender",
          "x": 0.10625,
          "xanchor": "center",
          "xref": "paper",
          "y": 1,
          "yanchor": "bottom",
          "yref": "paper"
         },
         {
          "font": {
           "size": 16
          },
          "showarrow": false,
          "text": "Age_group",
          "x": 0.36875,
          "xanchor": "center",
          "xref": "paper",
          "y": 1,
          "yanchor": "bottom",
          "yref": "paper"
         },
         {
          "font": {
           "size": 16
          },
          "showarrow": false,
          "text": "Immunity Compramised",
          "x": 0.6312500000000001,
          "xanchor": "center",
          "xref": "paper",
          "y": 1,
          "yanchor": "bottom",
          "yref": "paper"
         },
         {
          "font": {
           "size": 16
          },
          "showarrow": false,
          "text": "Age Above65",
          "x": 0.89375,
          "xanchor": "center",
          "xref": "paper",
          "y": 1,
          "yanchor": "bottom",
          "yref": "paper"
         }
        ],
        "height": 500,
        "template": {
         "data": {
          "bar": [
           {
            "error_x": {
             "color": "#2a3f5f"
            },
            "error_y": {
             "color": "#2a3f5f"
            },
            "marker": {
             "line": {
              "color": "#E5ECF6",
              "width": 0.5
             },
             "pattern": {
              "fillmode": "overlay",
              "size": 10,
              "solidity": 0.2
             }
            },
            "type": "bar"
           }
          ],
          "barpolar": [
           {
            "marker": {
             "line": {
              "color": "#E5ECF6",
              "width": 0.5
             },
             "pattern": {
              "fillmode": "overlay",
              "size": 10,
              "solidity": 0.2
             }
            },
            "type": "barpolar"
           }
          ],
          "carpet": [
           {
            "aaxis": {
             "endlinecolor": "#2a3f5f",
             "gridcolor": "white",
             "linecolor": "white",
             "minorgridcolor": "white",
             "startlinecolor": "#2a3f5f"
            },
            "baxis": {
             "endlinecolor": "#2a3f5f",
             "gridcolor": "white",
             "linecolor": "white",
             "minorgridcolor": "white",
             "startlinecolor": "#2a3f5f"
            },
            "type": "carpet"
           }
          ],
          "choropleth": [
           {
            "colorbar": {
             "outlinewidth": 0,
             "ticks": ""
            },
            "type": "choropleth"
           }
          ],
          "contour": [
           {
            "colorbar": {
             "outlinewidth": 0,
             "ticks": ""
            },
            "colorscale": [
             [
              0,
              "#0d0887"
             ],
             [
              0.1111111111111111,
              "#46039f"
             ],
             [
              0.2222222222222222,
              "#7201a8"
             ],
             [
              0.3333333333333333,
              "#9c179e"
             ],
             [
              0.4444444444444444,
              "#bd3786"
             ],
             [
              0.5555555555555556,
              "#d8576b"
             ],
             [
              0.6666666666666666,
              "#ed7953"
             ],
             [
              0.7777777777777778,
              "#fb9f3a"
             ],
             [
              0.8888888888888888,
              "#fdca26"
             ],
             [
              1,
              "#f0f921"
             ]
            ],
            "type": "contour"
           }
          ],
          "contourcarpet": [
           {
            "colorbar": {
             "outlinewidth": 0,
             "ticks": ""
            },
            "type": "contourcarpet"
           }
          ],
          "heatmap": [
           {
            "colorbar": {
             "outlinewidth": 0,
             "ticks": ""
            },
            "colorscale": [
             [
              0,
              "#0d0887"
             ],
             [
              0.1111111111111111,
              "#46039f"
             ],
             [
              0.2222222222222222,
              "#7201a8"
             ],
             [
              0.3333333333333333,
              "#9c179e"
             ],
             [
              0.4444444444444444,
              "#bd3786"
             ],
             [
              0.5555555555555556,
              "#d8576b"
             ],
             [
              0.6666666666666666,
              "#ed7953"
             ],
             [
              0.7777777777777778,
              "#fb9f3a"
             ],
             [
              0.8888888888888888,
              "#fdca26"
             ],
             [
              1,
              "#f0f921"
             ]
            ],
            "type": "heatmap"
           }
          ],
          "heatmapgl": [
           {
            "colorbar": {
             "outlinewidth": 0,
             "ticks": ""
            },
            "colorscale": [
             [
              0,
              "#0d0887"
             ],
             [
              0.1111111111111111,
              "#46039f"
             ],
             [
              0.2222222222222222,
              "#7201a8"
             ],
             [
              0.3333333333333333,
              "#9c179e"
             ],
             [
              0.4444444444444444,
              "#bd3786"
             ],
             [
              0.5555555555555556,
              "#d8576b"
             ],
             [
              0.6666666666666666,
              "#ed7953"
             ],
             [
              0.7777777777777778,
              "#fb9f3a"
             ],
             [
              0.8888888888888888,
              "#fdca26"
             ],
             [
              1,
              "#f0f921"
             ]
            ],
            "type": "heatmapgl"
           }
          ],
          "histogram": [
           {
            "marker": {
             "pattern": {
              "fillmode": "overlay",
              "size": 10,
              "solidity": 0.2
             }
            },
            "type": "histogram"
           }
          ],
          "histogram2d": [
           {
            "colorbar": {
             "outlinewidth": 0,
             "ticks": ""
            },
            "colorscale": [
             [
              0,
              "#0d0887"
             ],
             [
              0.1111111111111111,
              "#46039f"
             ],
             [
              0.2222222222222222,
              "#7201a8"
             ],
             [
              0.3333333333333333,
              "#9c179e"
             ],
             [
              0.4444444444444444,
              "#bd3786"
             ],
             [
              0.5555555555555556,
              "#d8576b"
             ],
             [
              0.6666666666666666,
              "#ed7953"
             ],
             [
              0.7777777777777778,
              "#fb9f3a"
             ],
             [
              0.8888888888888888,
              "#fdca26"
             ],
             [
              1,
              "#f0f921"
             ]
            ],
            "type": "histogram2d"
           }
          ],
          "histogram2dcontour": [
           {
            "colorbar": {
             "outlinewidth": 0,
             "ticks": ""
            },
            "colorscale": [
             [
              0,
              "#0d0887"
             ],
             [
              0.1111111111111111,
              "#46039f"
             ],
             [
              0.2222222222222222,
              "#7201a8"
             ],
             [
              0.3333333333333333,
              "#9c179e"
             ],
             [
              0.4444444444444444,
              "#bd3786"
             ],
             [
              0.5555555555555556,
              "#d8576b"
             ],
             [
              0.6666666666666666,
              "#ed7953"
             ],
             [
              0.7777777777777778,
              "#fb9f3a"
             ],
             [
              0.8888888888888888,
              "#fdca26"
             ],
             [
              1,
              "#f0f921"
             ]
            ],
            "type": "histogram2dcontour"
           }
          ],
          "mesh3d": [
           {
            "colorbar": {
             "outlinewidth": 0,
             "ticks": ""
            },
            "type": "mesh3d"
           }
          ],
          "parcoords": [
           {
            "line": {
             "colorbar": {
              "outlinewidth": 0,
              "ticks": ""
             }
            },
            "type": "parcoords"
           }
          ],
          "pie": [
           {
            "automargin": true,
            "type": "pie"
           }
          ],
          "scatter": [
           {
            "fillpattern": {
             "fillmode": "overlay",
             "size": 10,
             "solidity": 0.2
            },
            "type": "scatter"
           }
          ],
          "scatter3d": [
           {
            "line": {
             "colorbar": {
              "outlinewidth": 0,
              "ticks": ""
             }
            },
            "marker": {
             "colorbar": {
              "outlinewidth": 0,
              "ticks": ""
             }
            },
            "type": "scatter3d"
           }
          ],
          "scattercarpet": [
           {
            "marker": {
             "colorbar": {
              "outlinewidth": 0,
              "ticks": ""
             }
            },
            "type": "scattercarpet"
           }
          ],
          "scattergeo": [
           {
            "marker": {
             "colorbar": {
              "outlinewidth": 0,
              "ticks": ""
             }
            },
            "type": "scattergeo"
           }
          ],
          "scattergl": [
           {
            "marker": {
             "colorbar": {
              "outlinewidth": 0,
              "ticks": ""
             }
            },
            "type": "scattergl"
           }
          ],
          "scattermapbox": [
           {
            "marker": {
             "colorbar": {
              "outlinewidth": 0,
              "ticks": ""
             }
            },
            "type": "scattermapbox"
           }
          ],
          "scatterpolar": [
           {
            "marker": {
             "colorbar": {
              "outlinewidth": 0,
              "ticks": ""
             }
            },
            "type": "scatterpolar"
           }
          ],
          "scatterpolargl": [
           {
            "marker": {
             "colorbar": {
              "outlinewidth": 0,
              "ticks": ""
             }
            },
            "type": "scatterpolargl"
           }
          ],
          "scatterternary": [
           {
            "marker": {
             "colorbar": {
              "outlinewidth": 0,
              "ticks": ""
             }
            },
            "type": "scatterternary"
           }
          ],
          "surface": [
           {
            "colorbar": {
             "outlinewidth": 0,
             "ticks": ""
            },
            "colorscale": [
             [
              0,
              "#0d0887"
             ],
             [
              0.1111111111111111,
              "#46039f"
             ],
             [
              0.2222222222222222,
              "#7201a8"
             ],
             [
              0.3333333333333333,
              "#9c179e"
             ],
             [
              0.4444444444444444,
              "#bd3786"
             ],
             [
              0.5555555555555556,
              "#d8576b"
             ],
             [
              0.6666666666666666,
              "#ed7953"
             ],
             [
              0.7777777777777778,
              "#fb9f3a"
             ],
             [
              0.8888888888888888,
              "#fdca26"
             ],
             [
              1,
              "#f0f921"
             ]
            ],
            "type": "surface"
           }
          ],
          "table": [
           {
            "cells": {
             "fill": {
              "color": "#EBF0F8"
             },
             "line": {
              "color": "white"
             }
            },
            "header": {
             "fill": {
              "color": "#C8D4E3"
             },
             "line": {
              "color": "white"
             }
            },
            "type": "table"
           }
          ]
         },
         "layout": {
          "annotationdefaults": {
           "arrowcolor": "#2a3f5f",
           "arrowhead": 0,
           "arrowwidth": 1
          },
          "autotypenumbers": "strict",
          "coloraxis": {
           "colorbar": {
            "outlinewidth": 0,
            "ticks": ""
           }
          },
          "colorscale": {
           "diverging": [
            [
             0,
             "#8e0152"
            ],
            [
             0.1,
             "#c51b7d"
            ],
            [
             0.2,
             "#de77ae"
            ],
            [
             0.3,
             "#f1b6da"
            ],
            [
             0.4,
             "#fde0ef"
            ],
            [
             0.5,
             "#f7f7f7"
            ],
            [
             0.6,
             "#e6f5d0"
            ],
            [
             0.7,
             "#b8e186"
            ],
            [
             0.8,
             "#7fbc41"
            ],
            [
             0.9,
             "#4d9221"
            ],
            [
             1,
             "#276419"
            ]
           ],
           "sequential": [
            [
             0,
             "#0d0887"
            ],
            [
             0.1111111111111111,
             "#46039f"
            ],
            [
             0.2222222222222222,
             "#7201a8"
            ],
            [
             0.3333333333333333,
             "#9c179e"
            ],
            [
             0.4444444444444444,
             "#bd3786"
            ],
            [
             0.5555555555555556,
             "#d8576b"
            ],
            [
             0.6666666666666666,
             "#ed7953"
            ],
            [
             0.7777777777777778,
             "#fb9f3a"
            ],
            [
             0.8888888888888888,
             "#fdca26"
            ],
            [
             1,
             "#f0f921"
            ]
           ],
           "sequentialminus": [
            [
             0,
             "#0d0887"
            ],
            [
             0.1111111111111111,
             "#46039f"
            ],
            [
             0.2222222222222222,
             "#7201a8"
            ],
            [
             0.3333333333333333,
             "#9c179e"
            ],
            [
             0.4444444444444444,
             "#bd3786"
            ],
            [
             0.5555555555555556,
             "#d8576b"
            ],
            [
             0.6666666666666666,
             "#ed7953"
            ],
            [
             0.7777777777777778,
             "#fb9f3a"
            ],
            [
             0.8888888888888888,
             "#fdca26"
            ],
            [
             1,
             "#f0f921"
            ]
           ]
          },
          "colorway": [
           "#636efa",
           "#EF553B",
           "#00cc96",
           "#ab63fa",
           "#FFA15A",
           "#19d3f3",
           "#FF6692",
           "#B6E880",
           "#FF97FF",
           "#FECB52"
          ],
          "font": {
           "color": "#2a3f5f"
          },
          "geo": {
           "bgcolor": "white",
           "lakecolor": "white",
           "landcolor": "#E5ECF6",
           "showlakes": true,
           "showland": true,
           "subunitcolor": "white"
          },
          "hoverlabel": {
           "align": "left"
          },
          "hovermode": "closest",
          "mapbox": {
           "style": "light"
          },
          "paper_bgcolor": "white",
          "plot_bgcolor": "#E5ECF6",
          "polar": {
           "angularaxis": {
            "gridcolor": "white",
            "linecolor": "white",
            "ticks": ""
           },
           "bgcolor": "#E5ECF6",
           "radialaxis": {
            "gridcolor": "white",
            "linecolor": "white",
            "ticks": ""
           }
          },
          "scene": {
           "xaxis": {
            "backgroundcolor": "#E5ECF6",
            "gridcolor": "white",
            "gridwidth": 2,
            "linecolor": "white",
            "showbackground": true,
            "ticks": "",
            "zerolinecolor": "white"
           },
           "yaxis": {
            "backgroundcolor": "#E5ECF6",
            "gridcolor": "white",
            "gridwidth": 2,
            "linecolor": "white",
            "showbackground": true,
            "ticks": "",
            "zerolinecolor": "white"
           },
           "zaxis": {
            "backgroundcolor": "#E5ECF6",
            "gridcolor": "white",
            "gridwidth": 2,
            "linecolor": "white",
            "showbackground": true,
            "ticks": "",
            "zerolinecolor": "white"
           }
          },
          "shapedefaults": {
           "line": {
            "color": "#2a3f5f"
           }
          },
          "ternary": {
           "aaxis": {
            "gridcolor": "white",
            "linecolor": "white",
            "ticks": ""
           },
           "baxis": {
            "gridcolor": "white",
            "linecolor": "white",
            "ticks": ""
           },
           "bgcolor": "#E5ECF6",
           "caxis": {
            "gridcolor": "white",
            "linecolor": "white",
            "ticks": ""
           }
          },
          "title": {
           "x": 0.05
          },
          "xaxis": {
           "automargin": true,
           "gridcolor": "white",
           "linecolor": "white",
           "ticks": "",
           "title": {
            "standoff": 15
           },
           "zerolinecolor": "white",
           "zerolinewidth": 2
          },
          "yaxis": {
           "automargin": true,
           "gridcolor": "white",
           "linecolor": "white",
           "ticks": "",
           "title": {
            "standoff": 15
           },
           "zerolinecolor": "white",
           "zerolinewidth": 2
          }
         }
        },
        "title": {
         "text": "ICU Patients"
        },
        "width": 1060,
        "xaxis": {
         "anchor": "y",
         "domain": [
          0,
          0.2125
         ],
         "title": {
          "text": "Gender"
         }
        },
        "xaxis2": {
         "anchor": "y2",
         "domain": [
          0.2625,
          0.475
         ],
         "title": {
          "text": "Age Grouping"
         }
        },
        "xaxis3": {
         "anchor": "y3",
         "domain": [
          0.525,
          0.7375
         ],
         "title": {
          "text": "Immunity Compromised"
         }
        },
        "xaxis4": {
         "anchor": "y4",
         "domain": [
          0.7875,
          1
         ],
         "title": {
          "text": "Age Above 65"
         }
        },
        "yaxis": {
         "anchor": "x",
         "domain": [
          0,
          1
         ]
        },
        "yaxis2": {
         "anchor": "x2",
         "domain": [
          0,
          1
         ]
        },
        "yaxis3": {
         "anchor": "x3",
         "domain": [
          0,
          1
         ]
        },
        "yaxis4": {
         "anchor": "x4",
         "domain": [
          0,
          1
         ]
        }
       }
      }
     },
     "metadata": {},
     "output_type": "display_data"
    }
   ],
   "source": [
    "#from plotly.subplots import make_subplots\n",
    "#import plotly.graph_objects as go\n",
    "data1 = icu_set['GENDER'].value_counts()\n",
    "data2 = icu_set['AGE_PERCENTIL'].value_counts()\n",
    "data3 = icu_set['IMMUNOCOMPROMISED'].value_counts()\n",
    "data4 = icu_set['AGE_ABOVE65'].value_counts()\n",
    "fig = make_subplots(rows=1, cols=4, subplot_titles=(\"Gender\", \"Age_group\", \"Immunity Compramised\", \"Age Above65\"))\n",
    "\n",
    "fig.add_trace(\n",
    "    go.Bar(name = \"Gender\", x=data1.index, y = data1), row=1, col=1\n",
    ")\n",
    "\n",
    "fig.add_trace(\n",
    "    go.Bar(name = 'Ages', x=data2.index, y=data2),row=1, col=2\n",
    ")\n",
    "\n",
    "fig.add_trace(\n",
    "    go.Bar(name = \"Immunity Compramised\",x=data3.index, y=data3),row=1, col=3\n",
    ")\n",
    "\n",
    "fig.add_trace(\n",
    "    go.Bar(name = \"Age > 65\", x=data4.index, y=data4),row=1, col=4,\n",
    ")\n",
    "\n",
    "fig.update_xaxes(title_text=\"Gender\", row=1, col=1)\n",
    "fig.update_xaxes(title_text=\"Age Grouping\", row=1, col=2)\n",
    "fig.update_xaxes(title_text=\"Immunity Compromised\", row=1, col=3)\n",
    "fig.update_xaxes(title_text=\"Age Above 65\", row=1, col=4)\n",
    "\n",
    "\n",
    "fig.update_layout(height=500, width=1060,title_text=\"ICU Patients\")\n",
    "fig.show()"
   ]
  },
  {
   "cell_type": "code",
   "execution_count": 16,
   "metadata": {},
   "outputs": [],
   "source": [
    "window_set = df_covid[['WINDOW', 'ICU']]\n",
    "window_set = window_set[window_set['ICU'] == 1]"
   ]
  },
  {
   "cell_type": "code",
   "execution_count": 17,
   "metadata": {},
   "outputs": [
    {
     "data": {
      "application/vnd.plotly.v1+json": {
       "config": {
        "plotlyServerURL": "https://plot.ly"
       },
       "data": [
        {
         "alignmentgroup": "True",
         "hovertemplate": "variable=ICU<br>WINDOW=%{x}<br>value=%{y}<extra></extra>",
         "legendgroup": "ICU",
         "marker": {
          "color": "#636efa",
          "pattern": {
           "shape": ""
          }
         },
         "name": "ICU",
         "offsetgroup": "ICU",
         "orientation": "v",
         "showlegend": true,
         "textposition": "auto",
         "type": "bar",
         "x": [
          "0-2",
          "2-4",
          "4-6",
          "6-12",
          "ABOVE_12"
         ],
         "xaxis": "x",
         "y": [
          32,
          59,
          99,
          130,
          195
         ],
         "yaxis": "y"
        }
       ],
       "layout": {
        "barmode": "relative",
        "legend": {
         "title": {
          "text": "variable"
         },
         "tracegroupgap": 0
        },
        "template": {
         "data": {
          "bar": [
           {
            "error_x": {
             "color": "#2a3f5f"
            },
            "error_y": {
             "color": "#2a3f5f"
            },
            "marker": {
             "line": {
              "color": "#E5ECF6",
              "width": 0.5
             },
             "pattern": {
              "fillmode": "overlay",
              "size": 10,
              "solidity": 0.2
             }
            },
            "type": "bar"
           }
          ],
          "barpolar": [
           {
            "marker": {
             "line": {
              "color": "#E5ECF6",
              "width": 0.5
             },
             "pattern": {
              "fillmode": "overlay",
              "size": 10,
              "solidity": 0.2
             }
            },
            "type": "barpolar"
           }
          ],
          "carpet": [
           {
            "aaxis": {
             "endlinecolor": "#2a3f5f",
             "gridcolor": "white",
             "linecolor": "white",
             "minorgridcolor": "white",
             "startlinecolor": "#2a3f5f"
            },
            "baxis": {
             "endlinecolor": "#2a3f5f",
             "gridcolor": "white",
             "linecolor": "white",
             "minorgridcolor": "white",
             "startlinecolor": "#2a3f5f"
            },
            "type": "carpet"
           }
          ],
          "choropleth": [
           {
            "colorbar": {
             "outlinewidth": 0,
             "ticks": ""
            },
            "type": "choropleth"
           }
          ],
          "contour": [
           {
            "colorbar": {
             "outlinewidth": 0,
             "ticks": ""
            },
            "colorscale": [
             [
              0,
              "#0d0887"
             ],
             [
              0.1111111111111111,
              "#46039f"
             ],
             [
              0.2222222222222222,
              "#7201a8"
             ],
             [
              0.3333333333333333,
              "#9c179e"
             ],
             [
              0.4444444444444444,
              "#bd3786"
             ],
             [
              0.5555555555555556,
              "#d8576b"
             ],
             [
              0.6666666666666666,
              "#ed7953"
             ],
             [
              0.7777777777777778,
              "#fb9f3a"
             ],
             [
              0.8888888888888888,
              "#fdca26"
             ],
             [
              1,
              "#f0f921"
             ]
            ],
            "type": "contour"
           }
          ],
          "contourcarpet": [
           {
            "colorbar": {
             "outlinewidth": 0,
             "ticks": ""
            },
            "type": "contourcarpet"
           }
          ],
          "heatmap": [
           {
            "colorbar": {
             "outlinewidth": 0,
             "ticks": ""
            },
            "colorscale": [
             [
              0,
              "#0d0887"
             ],
             [
              0.1111111111111111,
              "#46039f"
             ],
             [
              0.2222222222222222,
              "#7201a8"
             ],
             [
              0.3333333333333333,
              "#9c179e"
             ],
             [
              0.4444444444444444,
              "#bd3786"
             ],
             [
              0.5555555555555556,
              "#d8576b"
             ],
             [
              0.6666666666666666,
              "#ed7953"
             ],
             [
              0.7777777777777778,
              "#fb9f3a"
             ],
             [
              0.8888888888888888,
              "#fdca26"
             ],
             [
              1,
              "#f0f921"
             ]
            ],
            "type": "heatmap"
           }
          ],
          "heatmapgl": [
           {
            "colorbar": {
             "outlinewidth": 0,
             "ticks": ""
            },
            "colorscale": [
             [
              0,
              "#0d0887"
             ],
             [
              0.1111111111111111,
              "#46039f"
             ],
             [
              0.2222222222222222,
              "#7201a8"
             ],
             [
              0.3333333333333333,
              "#9c179e"
             ],
             [
              0.4444444444444444,
              "#bd3786"
             ],
             [
              0.5555555555555556,
              "#d8576b"
             ],
             [
              0.6666666666666666,
              "#ed7953"
             ],
             [
              0.7777777777777778,
              "#fb9f3a"
             ],
             [
              0.8888888888888888,
              "#fdca26"
             ],
             [
              1,
              "#f0f921"
             ]
            ],
            "type": "heatmapgl"
           }
          ],
          "histogram": [
           {
            "marker": {
             "pattern": {
              "fillmode": "overlay",
              "size": 10,
              "solidity": 0.2
             }
            },
            "type": "histogram"
           }
          ],
          "histogram2d": [
           {
            "colorbar": {
             "outlinewidth": 0,
             "ticks": ""
            },
            "colorscale": [
             [
              0,
              "#0d0887"
             ],
             [
              0.1111111111111111,
              "#46039f"
             ],
             [
              0.2222222222222222,
              "#7201a8"
             ],
             [
              0.3333333333333333,
              "#9c179e"
             ],
             [
              0.4444444444444444,
              "#bd3786"
             ],
             [
              0.5555555555555556,
              "#d8576b"
             ],
             [
              0.6666666666666666,
              "#ed7953"
             ],
             [
              0.7777777777777778,
              "#fb9f3a"
             ],
             [
              0.8888888888888888,
              "#fdca26"
             ],
             [
              1,
              "#f0f921"
             ]
            ],
            "type": "histogram2d"
           }
          ],
          "histogram2dcontour": [
           {
            "colorbar": {
             "outlinewidth": 0,
             "ticks": ""
            },
            "colorscale": [
             [
              0,
              "#0d0887"
             ],
             [
              0.1111111111111111,
              "#46039f"
             ],
             [
              0.2222222222222222,
              "#7201a8"
             ],
             [
              0.3333333333333333,
              "#9c179e"
             ],
             [
              0.4444444444444444,
              "#bd3786"
             ],
             [
              0.5555555555555556,
              "#d8576b"
             ],
             [
              0.6666666666666666,
              "#ed7953"
             ],
             [
              0.7777777777777778,
              "#fb9f3a"
             ],
             [
              0.8888888888888888,
              "#fdca26"
             ],
             [
              1,
              "#f0f921"
             ]
            ],
            "type": "histogram2dcontour"
           }
          ],
          "mesh3d": [
           {
            "colorbar": {
             "outlinewidth": 0,
             "ticks": ""
            },
            "type": "mesh3d"
           }
          ],
          "parcoords": [
           {
            "line": {
             "colorbar": {
              "outlinewidth": 0,
              "ticks": ""
             }
            },
            "type": "parcoords"
           }
          ],
          "pie": [
           {
            "automargin": true,
            "type": "pie"
           }
          ],
          "scatter": [
           {
            "fillpattern": {
             "fillmode": "overlay",
             "size": 10,
             "solidity": 0.2
            },
            "type": "scatter"
           }
          ],
          "scatter3d": [
           {
            "line": {
             "colorbar": {
              "outlinewidth": 0,
              "ticks": ""
             }
            },
            "marker": {
             "colorbar": {
              "outlinewidth": 0,
              "ticks": ""
             }
            },
            "type": "scatter3d"
           }
          ],
          "scattercarpet": [
           {
            "marker": {
             "colorbar": {
              "outlinewidth": 0,
              "ticks": ""
             }
            },
            "type": "scattercarpet"
           }
          ],
          "scattergeo": [
           {
            "marker": {
             "colorbar": {
              "outlinewidth": 0,
              "ticks": ""
             }
            },
            "type": "scattergeo"
           }
          ],
          "scattergl": [
           {
            "marker": {
             "colorbar": {
              "outlinewidth": 0,
              "ticks": ""
             }
            },
            "type": "scattergl"
           }
          ],
          "scattermapbox": [
           {
            "marker": {
             "colorbar": {
              "outlinewidth": 0,
              "ticks": ""
             }
            },
            "type": "scattermapbox"
           }
          ],
          "scatterpolar": [
           {
            "marker": {
             "colorbar": {
              "outlinewidth": 0,
              "ticks": ""
             }
            },
            "type": "scatterpolar"
           }
          ],
          "scatterpolargl": [
           {
            "marker": {
             "colorbar": {
              "outlinewidth": 0,
              "ticks": ""
             }
            },
            "type": "scatterpolargl"
           }
          ],
          "scatterternary": [
           {
            "marker": {
             "colorbar": {
              "outlinewidth": 0,
              "ticks": ""
             }
            },
            "type": "scatterternary"
           }
          ],
          "surface": [
           {
            "colorbar": {
             "outlinewidth": 0,
             "ticks": ""
            },
            "colorscale": [
             [
              0,
              "#0d0887"
             ],
             [
              0.1111111111111111,
              "#46039f"
             ],
             [
              0.2222222222222222,
              "#7201a8"
             ],
             [
              0.3333333333333333,
              "#9c179e"
             ],
             [
              0.4444444444444444,
              "#bd3786"
             ],
             [
              0.5555555555555556,
              "#d8576b"
             ],
             [
              0.6666666666666666,
              "#ed7953"
             ],
             [
              0.7777777777777778,
              "#fb9f3a"
             ],
             [
              0.8888888888888888,
              "#fdca26"
             ],
             [
              1,
              "#f0f921"
             ]
            ],
            "type": "surface"
           }
          ],
          "table": [
           {
            "cells": {
             "fill": {
              "color": "#EBF0F8"
             },
             "line": {
              "color": "white"
             }
            },
            "header": {
             "fill": {
              "color": "#C8D4E3"
             },
             "line": {
              "color": "white"
             }
            },
            "type": "table"
           }
          ]
         },
         "layout": {
          "annotationdefaults": {
           "arrowcolor": "#2a3f5f",
           "arrowhead": 0,
           "arrowwidth": 1
          },
          "autotypenumbers": "strict",
          "coloraxis": {
           "colorbar": {
            "outlinewidth": 0,
            "ticks": ""
           }
          },
          "colorscale": {
           "diverging": [
            [
             0,
             "#8e0152"
            ],
            [
             0.1,
             "#c51b7d"
            ],
            [
             0.2,
             "#de77ae"
            ],
            [
             0.3,
             "#f1b6da"
            ],
            [
             0.4,
             "#fde0ef"
            ],
            [
             0.5,
             "#f7f7f7"
            ],
            [
             0.6,
             "#e6f5d0"
            ],
            [
             0.7,
             "#b8e186"
            ],
            [
             0.8,
             "#7fbc41"
            ],
            [
             0.9,
             "#4d9221"
            ],
            [
             1,
             "#276419"
            ]
           ],
           "sequential": [
            [
             0,
             "#0d0887"
            ],
            [
             0.1111111111111111,
             "#46039f"
            ],
            [
             0.2222222222222222,
             "#7201a8"
            ],
            [
             0.3333333333333333,
             "#9c179e"
            ],
            [
             0.4444444444444444,
             "#bd3786"
            ],
            [
             0.5555555555555556,
             "#d8576b"
            ],
            [
             0.6666666666666666,
             "#ed7953"
            ],
            [
             0.7777777777777778,
             "#fb9f3a"
            ],
            [
             0.8888888888888888,
             "#fdca26"
            ],
            [
             1,
             "#f0f921"
            ]
           ],
           "sequentialminus": [
            [
             0,
             "#0d0887"
            ],
            [
             0.1111111111111111,
             "#46039f"
            ],
            [
             0.2222222222222222,
             "#7201a8"
            ],
            [
             0.3333333333333333,
             "#9c179e"
            ],
            [
             0.4444444444444444,
             "#bd3786"
            ],
            [
             0.5555555555555556,
             "#d8576b"
            ],
            [
             0.6666666666666666,
             "#ed7953"
            ],
            [
             0.7777777777777778,
             "#fb9f3a"
            ],
            [
             0.8888888888888888,
             "#fdca26"
            ],
            [
             1,
             "#f0f921"
            ]
           ]
          },
          "colorway": [
           "#636efa",
           "#EF553B",
           "#00cc96",
           "#ab63fa",
           "#FFA15A",
           "#19d3f3",
           "#FF6692",
           "#B6E880",
           "#FF97FF",
           "#FECB52"
          ],
          "font": {
           "color": "#2a3f5f"
          },
          "geo": {
           "bgcolor": "white",
           "lakecolor": "white",
           "landcolor": "#E5ECF6",
           "showlakes": true,
           "showland": true,
           "subunitcolor": "white"
          },
          "hoverlabel": {
           "align": "left"
          },
          "hovermode": "closest",
          "mapbox": {
           "style": "light"
          },
          "paper_bgcolor": "white",
          "plot_bgcolor": "#E5ECF6",
          "polar": {
           "angularaxis": {
            "gridcolor": "white",
            "linecolor": "white",
            "ticks": ""
           },
           "bgcolor": "#E5ECF6",
           "radialaxis": {
            "gridcolor": "white",
            "linecolor": "white",
            "ticks": ""
           }
          },
          "scene": {
           "xaxis": {
            "backgroundcolor": "#E5ECF6",
            "gridcolor": "white",
            "gridwidth": 2,
            "linecolor": "white",
            "showbackground": true,
            "ticks": "",
            "zerolinecolor": "white"
           },
           "yaxis": {
            "backgroundcolor": "#E5ECF6",
            "gridcolor": "white",
            "gridwidth": 2,
            "linecolor": "white",
            "showbackground": true,
            "ticks": "",
            "zerolinecolor": "white"
           },
           "zaxis": {
            "backgroundcolor": "#E5ECF6",
            "gridcolor": "white",
            "gridwidth": 2,
            "linecolor": "white",
            "showbackground": true,
            "ticks": "",
            "zerolinecolor": "white"
           }
          },
          "shapedefaults": {
           "line": {
            "color": "#2a3f5f"
           }
          },
          "ternary": {
           "aaxis": {
            "gridcolor": "white",
            "linecolor": "white",
            "ticks": ""
           },
           "baxis": {
            "gridcolor": "white",
            "linecolor": "white",
            "ticks": ""
           },
           "bgcolor": "#E5ECF6",
           "caxis": {
            "gridcolor": "white",
            "linecolor": "white",
            "ticks": ""
           }
          },
          "title": {
           "x": 0.05
          },
          "xaxis": {
           "automargin": true,
           "gridcolor": "white",
           "linecolor": "white",
           "ticks": "",
           "title": {
            "standoff": 15
           },
           "zerolinecolor": "white",
           "zerolinewidth": 2
          },
          "yaxis": {
           "automargin": true,
           "gridcolor": "white",
           "linecolor": "white",
           "ticks": "",
           "title": {
            "standoff": 15
           },
           "zerolinecolor": "white",
           "zerolinewidth": 2
          }
         }
        },
        "title": {
         "text": "Patient Admited time window and ICU Joining"
        },
        "xaxis": {
         "anchor": "y",
         "domain": [
          0,
          1
         ],
         "title": {
          "text": "WINDOW"
         }
        },
        "yaxis": {
         "anchor": "x",
         "domain": [
          0,
          1
         ],
         "title": {
          "text": "value"
         }
        }
       }
      }
     },
     "metadata": {},
     "output_type": "display_data"
    }
   ],
   "source": [
    "import plotly.express as px\n",
    "data = window_set.groupby(\"WINDOW\").sum()\n",
    "fig = px.bar(data, title=\"Patient Admited time window and ICU Joining\")\n",
    "fig.show()"
   ]
  },
  {
   "cell_type": "code",
   "execution_count": 18,
   "metadata": {},
   "outputs": [],
   "source": [
    "# List of  Patients visit Identifiers who are into ICU \n",
    "icu_patients = icu_set['PATIENT_VISIT_IDENTIFIER'].unique()"
   ]
  },
  {
   "cell_type": "code",
   "execution_count": 19,
   "metadata": {},
   "outputs": [
    {
     "data": {
      "text/html": [
       "<div>\n",
       "<style scoped>\n",
       "    .dataframe tbody tr th:only-of-type {\n",
       "        vertical-align: middle;\n",
       "    }\n",
       "\n",
       "    .dataframe tbody tr th {\n",
       "        vertical-align: top;\n",
       "    }\n",
       "\n",
       "    .dataframe thead th {\n",
       "        text-align: right;\n",
       "    }\n",
       "</style>\n",
       "<table border=\"1\" class=\"dataframe\">\n",
       "  <thead>\n",
       "    <tr style=\"text-align: right;\">\n",
       "      <th></th>\n",
       "      <th>PATIENT_VISIT_IDENTIFIER</th>\n",
       "      <th>AGE_ABOVE65</th>\n",
       "      <th>AGE_PERCENTIL</th>\n",
       "      <th>GENDER</th>\n",
       "      <th>DISEASE GROUPING 1</th>\n",
       "      <th>DISEASE GROUPING 2</th>\n",
       "      <th>DISEASE GROUPING 3</th>\n",
       "      <th>DISEASE GROUPING 4</th>\n",
       "      <th>DISEASE GROUPING 5</th>\n",
       "      <th>DISEASE GROUPING 6</th>\n",
       "      <th>...</th>\n",
       "      <th>TEMPERATURE_DIFF</th>\n",
       "      <th>OXYGEN_SATURATION_DIFF</th>\n",
       "      <th>BLOODPRESSURE_DIASTOLIC_DIFF_REL</th>\n",
       "      <th>BLOODPRESSURE_SISTOLIC_DIFF_REL</th>\n",
       "      <th>HEART_RATE_DIFF_REL</th>\n",
       "      <th>RESPIRATORY_RATE_DIFF_REL</th>\n",
       "      <th>TEMPERATURE_DIFF_REL</th>\n",
       "      <th>OXYGEN_SATURATION_DIFF_REL</th>\n",
       "      <th>WINDOW</th>\n",
       "      <th>ICU</th>\n",
       "    </tr>\n",
       "  </thead>\n",
       "  <tbody>\n",
       "    <tr>\n",
       "      <th>0</th>\n",
       "      <td>0</td>\n",
       "      <td>1</td>\n",
       "      <td>60th</td>\n",
       "      <td>0</td>\n",
       "      <td>0.0</td>\n",
       "      <td>0.0</td>\n",
       "      <td>0.0</td>\n",
       "      <td>0.0</td>\n",
       "      <td>1.0</td>\n",
       "      <td>1.0</td>\n",
       "      <td>...</td>\n",
       "      <td>-1.0</td>\n",
       "      <td>-1.0</td>\n",
       "      <td>-1.0</td>\n",
       "      <td>-1.0</td>\n",
       "      <td>-1.0</td>\n",
       "      <td>-1.0</td>\n",
       "      <td>-1.0</td>\n",
       "      <td>-1.0</td>\n",
       "      <td>0-2</td>\n",
       "      <td>0</td>\n",
       "    </tr>\n",
       "    <tr>\n",
       "      <th>1</th>\n",
       "      <td>0</td>\n",
       "      <td>1</td>\n",
       "      <td>60th</td>\n",
       "      <td>0</td>\n",
       "      <td>0.0</td>\n",
       "      <td>0.0</td>\n",
       "      <td>0.0</td>\n",
       "      <td>0.0</td>\n",
       "      <td>1.0</td>\n",
       "      <td>1.0</td>\n",
       "      <td>...</td>\n",
       "      <td>-1.0</td>\n",
       "      <td>-1.0</td>\n",
       "      <td>-1.0</td>\n",
       "      <td>-1.0</td>\n",
       "      <td>-1.0</td>\n",
       "      <td>-1.0</td>\n",
       "      <td>-1.0</td>\n",
       "      <td>-1.0</td>\n",
       "      <td>2-4</td>\n",
       "      <td>0</td>\n",
       "    </tr>\n",
       "    <tr>\n",
       "      <th>2</th>\n",
       "      <td>0</td>\n",
       "      <td>1</td>\n",
       "      <td>60th</td>\n",
       "      <td>0</td>\n",
       "      <td>0.0</td>\n",
       "      <td>0.0</td>\n",
       "      <td>0.0</td>\n",
       "      <td>0.0</td>\n",
       "      <td>1.0</td>\n",
       "      <td>1.0</td>\n",
       "      <td>...</td>\n",
       "      <td>NaN</td>\n",
       "      <td>NaN</td>\n",
       "      <td>NaN</td>\n",
       "      <td>NaN</td>\n",
       "      <td>NaN</td>\n",
       "      <td>NaN</td>\n",
       "      <td>NaN</td>\n",
       "      <td>NaN</td>\n",
       "      <td>4-6</td>\n",
       "      <td>0</td>\n",
       "    </tr>\n",
       "    <tr>\n",
       "      <th>3</th>\n",
       "      <td>0</td>\n",
       "      <td>1</td>\n",
       "      <td>60th</td>\n",
       "      <td>0</td>\n",
       "      <td>0.0</td>\n",
       "      <td>0.0</td>\n",
       "      <td>0.0</td>\n",
       "      <td>0.0</td>\n",
       "      <td>1.0</td>\n",
       "      <td>1.0</td>\n",
       "      <td>...</td>\n",
       "      <td>-1.0</td>\n",
       "      <td>-1.0</td>\n",
       "      <td>NaN</td>\n",
       "      <td>NaN</td>\n",
       "      <td>NaN</td>\n",
       "      <td>NaN</td>\n",
       "      <td>-1.0</td>\n",
       "      <td>-1.0</td>\n",
       "      <td>6-12</td>\n",
       "      <td>0</td>\n",
       "    </tr>\n",
       "    <tr>\n",
       "      <th>10</th>\n",
       "      <td>2</td>\n",
       "      <td>0</td>\n",
       "      <td>10th</td>\n",
       "      <td>0</td>\n",
       "      <td>0.0</td>\n",
       "      <td>0.0</td>\n",
       "      <td>0.0</td>\n",
       "      <td>0.0</td>\n",
       "      <td>0.0</td>\n",
       "      <td>0.0</td>\n",
       "      <td>...</td>\n",
       "      <td>NaN</td>\n",
       "      <td>NaN</td>\n",
       "      <td>NaN</td>\n",
       "      <td>NaN</td>\n",
       "      <td>NaN</td>\n",
       "      <td>NaN</td>\n",
       "      <td>NaN</td>\n",
       "      <td>NaN</td>\n",
       "      <td>0-2</td>\n",
       "      <td>0</td>\n",
       "    </tr>\n",
       "  </tbody>\n",
       "</table>\n",
       "<p>5 rows × 231 columns</p>\n",
       "</div>"
      ],
      "text/plain": [
       "    PATIENT_VISIT_IDENTIFIER  AGE_ABOVE65 AGE_PERCENTIL  GENDER  \\\n",
       "0                          0            1          60th       0   \n",
       "1                          0            1          60th       0   \n",
       "2                          0            1          60th       0   \n",
       "3                          0            1          60th       0   \n",
       "10                         2            0          10th       0   \n",
       "\n",
       "    DISEASE GROUPING 1  DISEASE GROUPING 2  DISEASE GROUPING 3  \\\n",
       "0                  0.0                 0.0                 0.0   \n",
       "1                  0.0                 0.0                 0.0   \n",
       "2                  0.0                 0.0                 0.0   \n",
       "3                  0.0                 0.0                 0.0   \n",
       "10                 0.0                 0.0                 0.0   \n",
       "\n",
       "    DISEASE GROUPING 4  DISEASE GROUPING 5  DISEASE GROUPING 6  ...  \\\n",
       "0                  0.0                 1.0                 1.0  ...   \n",
       "1                  0.0                 1.0                 1.0  ...   \n",
       "2                  0.0                 1.0                 1.0  ...   \n",
       "3                  0.0                 1.0                 1.0  ...   \n",
       "10                 0.0                 0.0                 0.0  ...   \n",
       "\n",
       "    TEMPERATURE_DIFF  OXYGEN_SATURATION_DIFF  \\\n",
       "0               -1.0                    -1.0   \n",
       "1               -1.0                    -1.0   \n",
       "2                NaN                     NaN   \n",
       "3               -1.0                    -1.0   \n",
       "10               NaN                     NaN   \n",
       "\n",
       "    BLOODPRESSURE_DIASTOLIC_DIFF_REL  BLOODPRESSURE_SISTOLIC_DIFF_REL  \\\n",
       "0                               -1.0                             -1.0   \n",
       "1                               -1.0                             -1.0   \n",
       "2                                NaN                              NaN   \n",
       "3                                NaN                              NaN   \n",
       "10                               NaN                              NaN   \n",
       "\n",
       "    HEART_RATE_DIFF_REL  RESPIRATORY_RATE_DIFF_REL  TEMPERATURE_DIFF_REL  \\\n",
       "0                  -1.0                       -1.0                  -1.0   \n",
       "1                  -1.0                       -1.0                  -1.0   \n",
       "2                   NaN                        NaN                   NaN   \n",
       "3                   NaN                        NaN                  -1.0   \n",
       "10                  NaN                        NaN                   NaN   \n",
       "\n",
       "    OXYGEN_SATURATION_DIFF_REL  WINDOW  ICU  \n",
       "0                         -1.0     0-2    0  \n",
       "1                         -1.0     2-4    0  \n",
       "2                          NaN     4-6    0  \n",
       "3                         -1.0    6-12    0  \n",
       "10                         NaN     0-2    0  \n",
       "\n",
       "[5 rows x 231 columns]"
      ]
     },
     "execution_count": 19,
     "metadata": {},
     "output_type": "execute_result"
    }
   ],
   "source": [
    "# filter out the data that has ICU as 0 (Training data prepration)\n",
    "model_data = df_covid[df_covid['ICU'] == 0]\n",
    "model_data.head()"
   ]
  },
  {
   "cell_type": "code",
   "execution_count": 20,
   "metadata": {},
   "outputs": [
    {
     "data": {
      "text/html": [
       "<div>\n",
       "<style scoped>\n",
       "    .dataframe tbody tr th:only-of-type {\n",
       "        vertical-align: middle;\n",
       "    }\n",
       "\n",
       "    .dataframe tbody tr th {\n",
       "        vertical-align: top;\n",
       "    }\n",
       "\n",
       "    .dataframe thead th {\n",
       "        text-align: right;\n",
       "    }\n",
       "</style>\n",
       "<table border=\"1\" class=\"dataframe\">\n",
       "  <thead>\n",
       "    <tr style=\"text-align: right;\">\n",
       "      <th></th>\n",
       "      <th>PATIENT_VISIT_IDENTIFIER</th>\n",
       "      <th>AGE_ABOVE65</th>\n",
       "      <th>AGE_PERCENTIL</th>\n",
       "      <th>GENDER</th>\n",
       "      <th>DISEASE GROUPING 1</th>\n",
       "      <th>DISEASE GROUPING 2</th>\n",
       "      <th>DISEASE GROUPING 3</th>\n",
       "      <th>DISEASE GROUPING 4</th>\n",
       "      <th>DISEASE GROUPING 5</th>\n",
       "      <th>DISEASE GROUPING 6</th>\n",
       "      <th>...</th>\n",
       "      <th>OXYGEN_SATURATION_DIFF</th>\n",
       "      <th>BLOODPRESSURE_DIASTOLIC_DIFF_REL</th>\n",
       "      <th>BLOODPRESSURE_SISTOLIC_DIFF_REL</th>\n",
       "      <th>HEART_RATE_DIFF_REL</th>\n",
       "      <th>RESPIRATORY_RATE_DIFF_REL</th>\n",
       "      <th>TEMPERATURE_DIFF_REL</th>\n",
       "      <th>OXYGEN_SATURATION_DIFF_REL</th>\n",
       "      <th>WINDOW</th>\n",
       "      <th>ICU</th>\n",
       "      <th>Missingness</th>\n",
       "    </tr>\n",
       "  </thead>\n",
       "  <tbody>\n",
       "    <tr>\n",
       "      <th>0</th>\n",
       "      <td>0</td>\n",
       "      <td>1</td>\n",
       "      <td>60th</td>\n",
       "      <td>0</td>\n",
       "      <td>0.0</td>\n",
       "      <td>0.0</td>\n",
       "      <td>0.0</td>\n",
       "      <td>0.0</td>\n",
       "      <td>1.0</td>\n",
       "      <td>1.0</td>\n",
       "      <td>...</td>\n",
       "      <td>-1.0</td>\n",
       "      <td>-1.0</td>\n",
       "      <td>-1.0</td>\n",
       "      <td>-1.0</td>\n",
       "      <td>-1.0</td>\n",
       "      <td>-1.0</td>\n",
       "      <td>-1.0</td>\n",
       "      <td>0-2</td>\n",
       "      <td>0</td>\n",
       "      <td>180</td>\n",
       "    </tr>\n",
       "    <tr>\n",
       "      <th>1</th>\n",
       "      <td>0</td>\n",
       "      <td>1</td>\n",
       "      <td>60th</td>\n",
       "      <td>0</td>\n",
       "      <td>0.0</td>\n",
       "      <td>0.0</td>\n",
       "      <td>0.0</td>\n",
       "      <td>0.0</td>\n",
       "      <td>1.0</td>\n",
       "      <td>1.0</td>\n",
       "      <td>...</td>\n",
       "      <td>-1.0</td>\n",
       "      <td>-1.0</td>\n",
       "      <td>-1.0</td>\n",
       "      <td>-1.0</td>\n",
       "      <td>-1.0</td>\n",
       "      <td>-1.0</td>\n",
       "      <td>-1.0</td>\n",
       "      <td>2-4</td>\n",
       "      <td>0</td>\n",
       "      <td>180</td>\n",
       "    </tr>\n",
       "    <tr>\n",
       "      <th>2</th>\n",
       "      <td>0</td>\n",
       "      <td>1</td>\n",
       "      <td>60th</td>\n",
       "      <td>0</td>\n",
       "      <td>0.0</td>\n",
       "      <td>0.0</td>\n",
       "      <td>0.0</td>\n",
       "      <td>0.0</td>\n",
       "      <td>1.0</td>\n",
       "      <td>1.0</td>\n",
       "      <td>...</td>\n",
       "      <td>NaN</td>\n",
       "      <td>NaN</td>\n",
       "      <td>NaN</td>\n",
       "      <td>NaN</td>\n",
       "      <td>NaN</td>\n",
       "      <td>NaN</td>\n",
       "      <td>NaN</td>\n",
       "      <td>4-6</td>\n",
       "      <td>0</td>\n",
       "      <td>36</td>\n",
       "    </tr>\n",
       "    <tr>\n",
       "      <th>3</th>\n",
       "      <td>0</td>\n",
       "      <td>1</td>\n",
       "      <td>60th</td>\n",
       "      <td>0</td>\n",
       "      <td>0.0</td>\n",
       "      <td>0.0</td>\n",
       "      <td>0.0</td>\n",
       "      <td>0.0</td>\n",
       "      <td>1.0</td>\n",
       "      <td>1.0</td>\n",
       "      <td>...</td>\n",
       "      <td>-1.0</td>\n",
       "      <td>NaN</td>\n",
       "      <td>NaN</td>\n",
       "      <td>NaN</td>\n",
       "      <td>NaN</td>\n",
       "      <td>-1.0</td>\n",
       "      <td>-1.0</td>\n",
       "      <td>6-12</td>\n",
       "      <td>0</td>\n",
       "      <td>204</td>\n",
       "    </tr>\n",
       "    <tr>\n",
       "      <th>10</th>\n",
       "      <td>2</td>\n",
       "      <td>0</td>\n",
       "      <td>10th</td>\n",
       "      <td>0</td>\n",
       "      <td>0.0</td>\n",
       "      <td>0.0</td>\n",
       "      <td>0.0</td>\n",
       "      <td>0.0</td>\n",
       "      <td>0.0</td>\n",
       "      <td>0.0</td>\n",
       "      <td>...</td>\n",
       "      <td>NaN</td>\n",
       "      <td>NaN</td>\n",
       "      <td>NaN</td>\n",
       "      <td>NaN</td>\n",
       "      <td>NaN</td>\n",
       "      <td>NaN</td>\n",
       "      <td>NaN</td>\n",
       "      <td>0-2</td>\n",
       "      <td>0</td>\n",
       "      <td>36</td>\n",
       "    </tr>\n",
       "  </tbody>\n",
       "</table>\n",
       "<p>5 rows × 232 columns</p>\n",
       "</div>"
      ],
      "text/plain": [
       "    PATIENT_VISIT_IDENTIFIER  AGE_ABOVE65 AGE_PERCENTIL  GENDER  \\\n",
       "0                          0            1          60th       0   \n",
       "1                          0            1          60th       0   \n",
       "2                          0            1          60th       0   \n",
       "3                          0            1          60th       0   \n",
       "10                         2            0          10th       0   \n",
       "\n",
       "    DISEASE GROUPING 1  DISEASE GROUPING 2  DISEASE GROUPING 3  \\\n",
       "0                  0.0                 0.0                 0.0   \n",
       "1                  0.0                 0.0                 0.0   \n",
       "2                  0.0                 0.0                 0.0   \n",
       "3                  0.0                 0.0                 0.0   \n",
       "10                 0.0                 0.0                 0.0   \n",
       "\n",
       "    DISEASE GROUPING 4  DISEASE GROUPING 5  DISEASE GROUPING 6  ...  \\\n",
       "0                  0.0                 1.0                 1.0  ...   \n",
       "1                  0.0                 1.0                 1.0  ...   \n",
       "2                  0.0                 1.0                 1.0  ...   \n",
       "3                  0.0                 1.0                 1.0  ...   \n",
       "10                 0.0                 0.0                 0.0  ...   \n",
       "\n",
       "    OXYGEN_SATURATION_DIFF  BLOODPRESSURE_DIASTOLIC_DIFF_REL  \\\n",
       "0                     -1.0                              -1.0   \n",
       "1                     -1.0                              -1.0   \n",
       "2                      NaN                               NaN   \n",
       "3                     -1.0                               NaN   \n",
       "10                     NaN                               NaN   \n",
       "\n",
       "    BLOODPRESSURE_SISTOLIC_DIFF_REL  HEART_RATE_DIFF_REL  \\\n",
       "0                              -1.0                 -1.0   \n",
       "1                              -1.0                 -1.0   \n",
       "2                               NaN                  NaN   \n",
       "3                               NaN                  NaN   \n",
       "10                              NaN                  NaN   \n",
       "\n",
       "    RESPIRATORY_RATE_DIFF_REL  TEMPERATURE_DIFF_REL  \\\n",
       "0                        -1.0                  -1.0   \n",
       "1                        -1.0                  -1.0   \n",
       "2                         NaN                   NaN   \n",
       "3                         NaN                  -1.0   \n",
       "10                        NaN                   NaN   \n",
       "\n",
       "    OXYGEN_SATURATION_DIFF_REL  WINDOW  ICU  Missingness  \n",
       "0                         -1.0     0-2    0          180  \n",
       "1                         -1.0     2-4    0          180  \n",
       "2                          NaN     4-6    0           36  \n",
       "3                         -1.0    6-12    0          204  \n",
       "10                         NaN     0-2    0           36  \n",
       "\n",
       "[5 rows x 232 columns]"
      ]
     },
     "execution_count": 20,
     "metadata": {},
     "output_type": "execute_result"
    }
   ],
   "source": [
    "## Add a column that is sum of missing value row wise. \n",
    "model_data['Missingness'] = model_data.isnull().sum(axis = 1)\n",
    "model_data.head()"
   ]
  },
  {
   "cell_type": "code",
   "execution_count": 21,
   "metadata": {},
   "outputs": [],
   "source": [
    "model_data['ICU_Admitted'] = np.where(model_data['PATIENT_VISIT_IDENTIFIER'].isin(icu_patients), 1 , 0)"
   ]
  },
  {
   "cell_type": "code",
   "execution_count": 22,
   "metadata": {},
   "outputs": [
    {
     "data": {
      "text/html": [
       "<div>\n",
       "<style scoped>\n",
       "    .dataframe tbody tr th:only-of-type {\n",
       "        vertical-align: middle;\n",
       "    }\n",
       "\n",
       "    .dataframe tbody tr th {\n",
       "        vertical-align: top;\n",
       "    }\n",
       "\n",
       "    .dataframe thead th {\n",
       "        text-align: right;\n",
       "    }\n",
       "</style>\n",
       "<table border=\"1\" class=\"dataframe\">\n",
       "  <thead>\n",
       "    <tr style=\"text-align: right;\">\n",
       "      <th></th>\n",
       "      <th>PATIENT_VISIT_IDENTIFIER</th>\n",
       "      <th>AGE_ABOVE65</th>\n",
       "      <th>AGE_PERCENTIL</th>\n",
       "      <th>GENDER</th>\n",
       "      <th>DISEASE GROUPING 1</th>\n",
       "      <th>DISEASE GROUPING 2</th>\n",
       "      <th>DISEASE GROUPING 3</th>\n",
       "      <th>DISEASE GROUPING 4</th>\n",
       "      <th>DISEASE GROUPING 5</th>\n",
       "      <th>DISEASE GROUPING 6</th>\n",
       "      <th>...</th>\n",
       "      <th>BLOODPRESSURE_DIASTOLIC_DIFF_REL</th>\n",
       "      <th>BLOODPRESSURE_SISTOLIC_DIFF_REL</th>\n",
       "      <th>HEART_RATE_DIFF_REL</th>\n",
       "      <th>RESPIRATORY_RATE_DIFF_REL</th>\n",
       "      <th>TEMPERATURE_DIFF_REL</th>\n",
       "      <th>OXYGEN_SATURATION_DIFF_REL</th>\n",
       "      <th>WINDOW</th>\n",
       "      <th>ICU</th>\n",
       "      <th>Missingness</th>\n",
       "      <th>ICU_Admitted</th>\n",
       "    </tr>\n",
       "  </thead>\n",
       "  <tbody>\n",
       "    <tr>\n",
       "      <th>0</th>\n",
       "      <td>0</td>\n",
       "      <td>1</td>\n",
       "      <td>60th</td>\n",
       "      <td>0</td>\n",
       "      <td>0.0</td>\n",
       "      <td>0.0</td>\n",
       "      <td>0.0</td>\n",
       "      <td>0.0</td>\n",
       "      <td>1.0</td>\n",
       "      <td>1.0</td>\n",
       "      <td>...</td>\n",
       "      <td>-1.0</td>\n",
       "      <td>-1.0</td>\n",
       "      <td>-1.0</td>\n",
       "      <td>-1.0</td>\n",
       "      <td>-1.0</td>\n",
       "      <td>-1.0</td>\n",
       "      <td>0-2</td>\n",
       "      <td>0</td>\n",
       "      <td>180</td>\n",
       "      <td>1</td>\n",
       "    </tr>\n",
       "    <tr>\n",
       "      <th>1</th>\n",
       "      <td>0</td>\n",
       "      <td>1</td>\n",
       "      <td>60th</td>\n",
       "      <td>0</td>\n",
       "      <td>0.0</td>\n",
       "      <td>0.0</td>\n",
       "      <td>0.0</td>\n",
       "      <td>0.0</td>\n",
       "      <td>1.0</td>\n",
       "      <td>1.0</td>\n",
       "      <td>...</td>\n",
       "      <td>-1.0</td>\n",
       "      <td>-1.0</td>\n",
       "      <td>-1.0</td>\n",
       "      <td>-1.0</td>\n",
       "      <td>-1.0</td>\n",
       "      <td>-1.0</td>\n",
       "      <td>2-4</td>\n",
       "      <td>0</td>\n",
       "      <td>180</td>\n",
       "      <td>1</td>\n",
       "    </tr>\n",
       "    <tr>\n",
       "      <th>2</th>\n",
       "      <td>0</td>\n",
       "      <td>1</td>\n",
       "      <td>60th</td>\n",
       "      <td>0</td>\n",
       "      <td>0.0</td>\n",
       "      <td>0.0</td>\n",
       "      <td>0.0</td>\n",
       "      <td>0.0</td>\n",
       "      <td>1.0</td>\n",
       "      <td>1.0</td>\n",
       "      <td>...</td>\n",
       "      <td>NaN</td>\n",
       "      <td>NaN</td>\n",
       "      <td>NaN</td>\n",
       "      <td>NaN</td>\n",
       "      <td>NaN</td>\n",
       "      <td>NaN</td>\n",
       "      <td>4-6</td>\n",
       "      <td>0</td>\n",
       "      <td>36</td>\n",
       "      <td>1</td>\n",
       "    </tr>\n",
       "    <tr>\n",
       "      <th>3</th>\n",
       "      <td>0</td>\n",
       "      <td>1</td>\n",
       "      <td>60th</td>\n",
       "      <td>0</td>\n",
       "      <td>0.0</td>\n",
       "      <td>0.0</td>\n",
       "      <td>0.0</td>\n",
       "      <td>0.0</td>\n",
       "      <td>1.0</td>\n",
       "      <td>1.0</td>\n",
       "      <td>...</td>\n",
       "      <td>NaN</td>\n",
       "      <td>NaN</td>\n",
       "      <td>NaN</td>\n",
       "      <td>NaN</td>\n",
       "      <td>-1.0</td>\n",
       "      <td>-1.0</td>\n",
       "      <td>6-12</td>\n",
       "      <td>0</td>\n",
       "      <td>204</td>\n",
       "      <td>1</td>\n",
       "    </tr>\n",
       "    <tr>\n",
       "      <th>10</th>\n",
       "      <td>2</td>\n",
       "      <td>0</td>\n",
       "      <td>10th</td>\n",
       "      <td>0</td>\n",
       "      <td>0.0</td>\n",
       "      <td>0.0</td>\n",
       "      <td>0.0</td>\n",
       "      <td>0.0</td>\n",
       "      <td>0.0</td>\n",
       "      <td>0.0</td>\n",
       "      <td>...</td>\n",
       "      <td>NaN</td>\n",
       "      <td>NaN</td>\n",
       "      <td>NaN</td>\n",
       "      <td>NaN</td>\n",
       "      <td>NaN</td>\n",
       "      <td>NaN</td>\n",
       "      <td>0-2</td>\n",
       "      <td>0</td>\n",
       "      <td>36</td>\n",
       "      <td>1</td>\n",
       "    </tr>\n",
       "    <tr>\n",
       "      <th>...</th>\n",
       "      <td>...</td>\n",
       "      <td>...</td>\n",
       "      <td>...</td>\n",
       "      <td>...</td>\n",
       "      <td>...</td>\n",
       "      <td>...</td>\n",
       "      <td>...</td>\n",
       "      <td>...</td>\n",
       "      <td>...</td>\n",
       "      <td>...</td>\n",
       "      <td>...</td>\n",
       "      <td>...</td>\n",
       "      <td>...</td>\n",
       "      <td>...</td>\n",
       "      <td>...</td>\n",
       "      <td>...</td>\n",
       "      <td>...</td>\n",
       "      <td>...</td>\n",
       "      <td>...</td>\n",
       "      <td>...</td>\n",
       "      <td>...</td>\n",
       "    </tr>\n",
       "    <tr>\n",
       "      <th>1903</th>\n",
       "      <td>380</td>\n",
       "      <td>0</td>\n",
       "      <td>40th</td>\n",
       "      <td>1</td>\n",
       "      <td>0.0</td>\n",
       "      <td>0.0</td>\n",
       "      <td>0.0</td>\n",
       "      <td>0.0</td>\n",
       "      <td>0.0</td>\n",
       "      <td>0.0</td>\n",
       "      <td>...</td>\n",
       "      <td>-1.0</td>\n",
       "      <td>-1.0</td>\n",
       "      <td>-1.0</td>\n",
       "      <td>-1.0</td>\n",
       "      <td>-1.0</td>\n",
       "      <td>-1.0</td>\n",
       "      <td>6-12</td>\n",
       "      <td>0</td>\n",
       "      <td>180</td>\n",
       "      <td>1</td>\n",
       "    </tr>\n",
       "    <tr>\n",
       "      <th>1910</th>\n",
       "      <td>382</td>\n",
       "      <td>0</td>\n",
       "      <td>50th</td>\n",
       "      <td>0</td>\n",
       "      <td>0.0</td>\n",
       "      <td>0.0</td>\n",
       "      <td>0.0</td>\n",
       "      <td>0.0</td>\n",
       "      <td>0.0</td>\n",
       "      <td>0.0</td>\n",
       "      <td>...</td>\n",
       "      <td>NaN</td>\n",
       "      <td>NaN</td>\n",
       "      <td>NaN</td>\n",
       "      <td>NaN</td>\n",
       "      <td>NaN</td>\n",
       "      <td>NaN</td>\n",
       "      <td>0-2</td>\n",
       "      <td>0</td>\n",
       "      <td>36</td>\n",
       "      <td>1</td>\n",
       "    </tr>\n",
       "    <tr>\n",
       "      <th>1911</th>\n",
       "      <td>382</td>\n",
       "      <td>0</td>\n",
       "      <td>50th</td>\n",
       "      <td>0</td>\n",
       "      <td>0.0</td>\n",
       "      <td>0.0</td>\n",
       "      <td>0.0</td>\n",
       "      <td>0.0</td>\n",
       "      <td>0.0</td>\n",
       "      <td>0.0</td>\n",
       "      <td>...</td>\n",
       "      <td>-1.0</td>\n",
       "      <td>-1.0</td>\n",
       "      <td>-1.0</td>\n",
       "      <td>-1.0</td>\n",
       "      <td>-1.0</td>\n",
       "      <td>-1.0</td>\n",
       "      <td>2-4</td>\n",
       "      <td>0</td>\n",
       "      <td>180</td>\n",
       "      <td>1</td>\n",
       "    </tr>\n",
       "    <tr>\n",
       "      <th>1912</th>\n",
       "      <td>382</td>\n",
       "      <td>0</td>\n",
       "      <td>50th</td>\n",
       "      <td>0</td>\n",
       "      <td>0.0</td>\n",
       "      <td>0.0</td>\n",
       "      <td>0.0</td>\n",
       "      <td>0.0</td>\n",
       "      <td>0.0</td>\n",
       "      <td>0.0</td>\n",
       "      <td>...</td>\n",
       "      <td>NaN</td>\n",
       "      <td>NaN</td>\n",
       "      <td>NaN</td>\n",
       "      <td>NaN</td>\n",
       "      <td>NaN</td>\n",
       "      <td>NaN</td>\n",
       "      <td>4-6</td>\n",
       "      <td>0</td>\n",
       "      <td>36</td>\n",
       "      <td>1</td>\n",
       "    </tr>\n",
       "    <tr>\n",
       "      <th>1913</th>\n",
       "      <td>382</td>\n",
       "      <td>0</td>\n",
       "      <td>50th</td>\n",
       "      <td>0</td>\n",
       "      <td>0.0</td>\n",
       "      <td>0.0</td>\n",
       "      <td>0.0</td>\n",
       "      <td>0.0</td>\n",
       "      <td>0.0</td>\n",
       "      <td>0.0</td>\n",
       "      <td>...</td>\n",
       "      <td>-1.0</td>\n",
       "      <td>-1.0</td>\n",
       "      <td>-1.0</td>\n",
       "      <td>-1.0</td>\n",
       "      <td>-1.0</td>\n",
       "      <td>-1.0</td>\n",
       "      <td>6-12</td>\n",
       "      <td>0</td>\n",
       "      <td>180</td>\n",
       "      <td>1</td>\n",
       "    </tr>\n",
       "  </tbody>\n",
       "</table>\n",
       "<p>460 rows × 233 columns</p>\n",
       "</div>"
      ],
      "text/plain": [
       "      PATIENT_VISIT_IDENTIFIER  AGE_ABOVE65 AGE_PERCENTIL  GENDER  \\\n",
       "0                            0            1          60th       0   \n",
       "1                            0            1          60th       0   \n",
       "2                            0            1          60th       0   \n",
       "3                            0            1          60th       0   \n",
       "10                           2            0          10th       0   \n",
       "...                        ...          ...           ...     ...   \n",
       "1903                       380            0          40th       1   \n",
       "1910                       382            0          50th       0   \n",
       "1911                       382            0          50th       0   \n",
       "1912                       382            0          50th       0   \n",
       "1913                       382            0          50th       0   \n",
       "\n",
       "      DISEASE GROUPING 1  DISEASE GROUPING 2  DISEASE GROUPING 3  \\\n",
       "0                    0.0                 0.0                 0.0   \n",
       "1                    0.0                 0.0                 0.0   \n",
       "2                    0.0                 0.0                 0.0   \n",
       "3                    0.0                 0.0                 0.0   \n",
       "10                   0.0                 0.0                 0.0   \n",
       "...                  ...                 ...                 ...   \n",
       "1903                 0.0                 0.0                 0.0   \n",
       "1910                 0.0                 0.0                 0.0   \n",
       "1911                 0.0                 0.0                 0.0   \n",
       "1912                 0.0                 0.0                 0.0   \n",
       "1913                 0.0                 0.0                 0.0   \n",
       "\n",
       "      DISEASE GROUPING 4  DISEASE GROUPING 5  DISEASE GROUPING 6  ...  \\\n",
       "0                    0.0                 1.0                 1.0  ...   \n",
       "1                    0.0                 1.0                 1.0  ...   \n",
       "2                    0.0                 1.0                 1.0  ...   \n",
       "3                    0.0                 1.0                 1.0  ...   \n",
       "10                   0.0                 0.0                 0.0  ...   \n",
       "...                  ...                 ...                 ...  ...   \n",
       "1903                 0.0                 0.0                 0.0  ...   \n",
       "1910                 0.0                 0.0                 0.0  ...   \n",
       "1911                 0.0                 0.0                 0.0  ...   \n",
       "1912                 0.0                 0.0                 0.0  ...   \n",
       "1913                 0.0                 0.0                 0.0  ...   \n",
       "\n",
       "      BLOODPRESSURE_DIASTOLIC_DIFF_REL  BLOODPRESSURE_SISTOLIC_DIFF_REL  \\\n",
       "0                                 -1.0                             -1.0   \n",
       "1                                 -1.0                             -1.0   \n",
       "2                                  NaN                              NaN   \n",
       "3                                  NaN                              NaN   \n",
       "10                                 NaN                              NaN   \n",
       "...                                ...                              ...   \n",
       "1903                              -1.0                             -1.0   \n",
       "1910                               NaN                              NaN   \n",
       "1911                              -1.0                             -1.0   \n",
       "1912                               NaN                              NaN   \n",
       "1913                              -1.0                             -1.0   \n",
       "\n",
       "      HEART_RATE_DIFF_REL  RESPIRATORY_RATE_DIFF_REL  TEMPERATURE_DIFF_REL  \\\n",
       "0                    -1.0                       -1.0                  -1.0   \n",
       "1                    -1.0                       -1.0                  -1.0   \n",
       "2                     NaN                        NaN                   NaN   \n",
       "3                     NaN                        NaN                  -1.0   \n",
       "10                    NaN                        NaN                   NaN   \n",
       "...                   ...                        ...                   ...   \n",
       "1903                 -1.0                       -1.0                  -1.0   \n",
       "1910                  NaN                        NaN                   NaN   \n",
       "1911                 -1.0                       -1.0                  -1.0   \n",
       "1912                  NaN                        NaN                   NaN   \n",
       "1913                 -1.0                       -1.0                  -1.0   \n",
       "\n",
       "      OXYGEN_SATURATION_DIFF_REL  WINDOW  ICU  Missingness  ICU_Admitted  \n",
       "0                           -1.0     0-2    0          180             1  \n",
       "1                           -1.0     2-4    0          180             1  \n",
       "2                            NaN     4-6    0           36             1  \n",
       "3                           -1.0    6-12    0          204             1  \n",
       "10                           NaN     0-2    0           36             1  \n",
       "...                          ...     ...  ...          ...           ...  \n",
       "1903                        -1.0    6-12    0          180             1  \n",
       "1910                         NaN     0-2    0           36             1  \n",
       "1911                        -1.0     2-4    0          180             1  \n",
       "1912                         NaN     4-6    0           36             1  \n",
       "1913                        -1.0    6-12    0          180             1  \n",
       "\n",
       "[460 rows x 233 columns]"
      ]
     },
     "execution_count": 22,
     "metadata": {},
     "output_type": "execute_result"
    }
   ],
   "source": [
    "model_data[model_data[\"ICU_Admitted\"] == 1]"
   ]
  },
  {
   "cell_type": "code",
   "execution_count": 23,
   "metadata": {},
   "outputs": [
    {
     "data": {
      "text/html": [
       "<div>\n",
       "<style scoped>\n",
       "    .dataframe tbody tr th:only-of-type {\n",
       "        vertical-align: middle;\n",
       "    }\n",
       "\n",
       "    .dataframe tbody tr th {\n",
       "        vertical-align: top;\n",
       "    }\n",
       "\n",
       "    .dataframe thead th {\n",
       "        text-align: right;\n",
       "    }\n",
       "</style>\n",
       "<table border=\"1\" class=\"dataframe\">\n",
       "  <thead>\n",
       "    <tr style=\"text-align: right;\">\n",
       "      <th></th>\n",
       "      <th>PATIENT_VISIT_IDENTIFIER</th>\n",
       "      <th>AGE_ABOVE65</th>\n",
       "      <th>AGE_PERCENTIL</th>\n",
       "      <th>GENDER</th>\n",
       "      <th>DISEASE GROUPING 1</th>\n",
       "      <th>DISEASE GROUPING 2</th>\n",
       "      <th>DISEASE GROUPING 3</th>\n",
       "      <th>DISEASE GROUPING 4</th>\n",
       "      <th>DISEASE GROUPING 5</th>\n",
       "      <th>DISEASE GROUPING 6</th>\n",
       "      <th>...</th>\n",
       "      <th>OXYGEN_SATURATION_DIFF</th>\n",
       "      <th>BLOODPRESSURE_DIASTOLIC_DIFF_REL</th>\n",
       "      <th>BLOODPRESSURE_SISTOLIC_DIFF_REL</th>\n",
       "      <th>HEART_RATE_DIFF_REL</th>\n",
       "      <th>RESPIRATORY_RATE_DIFF_REL</th>\n",
       "      <th>TEMPERATURE_DIFF_REL</th>\n",
       "      <th>OXYGEN_SATURATION_DIFF_REL</th>\n",
       "      <th>WINDOW</th>\n",
       "      <th>Missingness</th>\n",
       "      <th>ICU_Admitted</th>\n",
       "    </tr>\n",
       "  </thead>\n",
       "  <tbody>\n",
       "    <tr>\n",
       "      <th>0</th>\n",
       "      <td>0</td>\n",
       "      <td>1</td>\n",
       "      <td>60th</td>\n",
       "      <td>0</td>\n",
       "      <td>0.0</td>\n",
       "      <td>0.0</td>\n",
       "      <td>0.0</td>\n",
       "      <td>0.0</td>\n",
       "      <td>1.0</td>\n",
       "      <td>1.0</td>\n",
       "      <td>...</td>\n",
       "      <td>-1.000000</td>\n",
       "      <td>-1.000000</td>\n",
       "      <td>-1.000000</td>\n",
       "      <td>-1.000000</td>\n",
       "      <td>-1.000000</td>\n",
       "      <td>-1.000000</td>\n",
       "      <td>-1.000000</td>\n",
       "      <td>0-2</td>\n",
       "      <td>180</td>\n",
       "      <td>1</td>\n",
       "    </tr>\n",
       "    <tr>\n",
       "      <th>1</th>\n",
       "      <td>0</td>\n",
       "      <td>1</td>\n",
       "      <td>60th</td>\n",
       "      <td>0</td>\n",
       "      <td>0.0</td>\n",
       "      <td>0.0</td>\n",
       "      <td>0.0</td>\n",
       "      <td>0.0</td>\n",
       "      <td>1.0</td>\n",
       "      <td>1.0</td>\n",
       "      <td>...</td>\n",
       "      <td>-1.000000</td>\n",
       "      <td>-1.000000</td>\n",
       "      <td>-1.000000</td>\n",
       "      <td>-1.000000</td>\n",
       "      <td>-1.000000</td>\n",
       "      <td>-1.000000</td>\n",
       "      <td>-1.000000</td>\n",
       "      <td>2-4</td>\n",
       "      <td>180</td>\n",
       "      <td>1</td>\n",
       "    </tr>\n",
       "    <tr>\n",
       "      <th>2</th>\n",
       "      <td>0</td>\n",
       "      <td>1</td>\n",
       "      <td>60th</td>\n",
       "      <td>0</td>\n",
       "      <td>0.0</td>\n",
       "      <td>0.0</td>\n",
       "      <td>0.0</td>\n",
       "      <td>0.0</td>\n",
       "      <td>1.0</td>\n",
       "      <td>1.0</td>\n",
       "      <td>...</td>\n",
       "      <td>NaN</td>\n",
       "      <td>NaN</td>\n",
       "      <td>NaN</td>\n",
       "      <td>NaN</td>\n",
       "      <td>NaN</td>\n",
       "      <td>NaN</td>\n",
       "      <td>NaN</td>\n",
       "      <td>4-6</td>\n",
       "      <td>36</td>\n",
       "      <td>1</td>\n",
       "    </tr>\n",
       "    <tr>\n",
       "      <th>3</th>\n",
       "      <td>0</td>\n",
       "      <td>1</td>\n",
       "      <td>60th</td>\n",
       "      <td>0</td>\n",
       "      <td>0.0</td>\n",
       "      <td>0.0</td>\n",
       "      <td>0.0</td>\n",
       "      <td>0.0</td>\n",
       "      <td>1.0</td>\n",
       "      <td>1.0</td>\n",
       "      <td>...</td>\n",
       "      <td>-1.000000</td>\n",
       "      <td>NaN</td>\n",
       "      <td>NaN</td>\n",
       "      <td>NaN</td>\n",
       "      <td>NaN</td>\n",
       "      <td>-1.000000</td>\n",
       "      <td>-1.000000</td>\n",
       "      <td>6-12</td>\n",
       "      <td>204</td>\n",
       "      <td>1</td>\n",
       "    </tr>\n",
       "    <tr>\n",
       "      <th>10</th>\n",
       "      <td>2</td>\n",
       "      <td>0</td>\n",
       "      <td>10th</td>\n",
       "      <td>0</td>\n",
       "      <td>0.0</td>\n",
       "      <td>0.0</td>\n",
       "      <td>0.0</td>\n",
       "      <td>0.0</td>\n",
       "      <td>0.0</td>\n",
       "      <td>0.0</td>\n",
       "      <td>...</td>\n",
       "      <td>NaN</td>\n",
       "      <td>NaN</td>\n",
       "      <td>NaN</td>\n",
       "      <td>NaN</td>\n",
       "      <td>NaN</td>\n",
       "      <td>NaN</td>\n",
       "      <td>NaN</td>\n",
       "      <td>0-2</td>\n",
       "      <td>36</td>\n",
       "      <td>1</td>\n",
       "    </tr>\n",
       "    <tr>\n",
       "      <th>...</th>\n",
       "      <td>...</td>\n",
       "      <td>...</td>\n",
       "      <td>...</td>\n",
       "      <td>...</td>\n",
       "      <td>...</td>\n",
       "      <td>...</td>\n",
       "      <td>...</td>\n",
       "      <td>...</td>\n",
       "      <td>...</td>\n",
       "      <td>...</td>\n",
       "      <td>...</td>\n",
       "      <td>...</td>\n",
       "      <td>...</td>\n",
       "      <td>...</td>\n",
       "      <td>...</td>\n",
       "      <td>...</td>\n",
       "      <td>...</td>\n",
       "      <td>...</td>\n",
       "      <td>...</td>\n",
       "      <td>...</td>\n",
       "      <td>...</td>\n",
       "    </tr>\n",
       "    <tr>\n",
       "      <th>1920</th>\n",
       "      <td>384</td>\n",
       "      <td>0</td>\n",
       "      <td>50th</td>\n",
       "      <td>1</td>\n",
       "      <td>0.0</td>\n",
       "      <td>0.0</td>\n",
       "      <td>0.0</td>\n",
       "      <td>0.0</td>\n",
       "      <td>0.0</td>\n",
       "      <td>0.0</td>\n",
       "      <td>...</td>\n",
       "      <td>-1.000000</td>\n",
       "      <td>-1.000000</td>\n",
       "      <td>-1.000000</td>\n",
       "      <td>-1.000000</td>\n",
       "      <td>-1.000000</td>\n",
       "      <td>-1.000000</td>\n",
       "      <td>-1.000000</td>\n",
       "      <td>0-2</td>\n",
       "      <td>180</td>\n",
       "      <td>0</td>\n",
       "    </tr>\n",
       "    <tr>\n",
       "      <th>1921</th>\n",
       "      <td>384</td>\n",
       "      <td>0</td>\n",
       "      <td>50th</td>\n",
       "      <td>1</td>\n",
       "      <td>0.0</td>\n",
       "      <td>0.0</td>\n",
       "      <td>0.0</td>\n",
       "      <td>0.0</td>\n",
       "      <td>0.0</td>\n",
       "      <td>0.0</td>\n",
       "      <td>...</td>\n",
       "      <td>-1.000000</td>\n",
       "      <td>-1.000000</td>\n",
       "      <td>-1.000000</td>\n",
       "      <td>-1.000000</td>\n",
       "      <td>-1.000000</td>\n",
       "      <td>-1.000000</td>\n",
       "      <td>-1.000000</td>\n",
       "      <td>2-4</td>\n",
       "      <td>0</td>\n",
       "      <td>0</td>\n",
       "    </tr>\n",
       "    <tr>\n",
       "      <th>1922</th>\n",
       "      <td>384</td>\n",
       "      <td>0</td>\n",
       "      <td>50th</td>\n",
       "      <td>1</td>\n",
       "      <td>0.0</td>\n",
       "      <td>0.0</td>\n",
       "      <td>0.0</td>\n",
       "      <td>0.0</td>\n",
       "      <td>0.0</td>\n",
       "      <td>0.0</td>\n",
       "      <td>...</td>\n",
       "      <td>-1.000000</td>\n",
       "      <td>-1.000000</td>\n",
       "      <td>-1.000000</td>\n",
       "      <td>-1.000000</td>\n",
       "      <td>-1.000000</td>\n",
       "      <td>-1.000000</td>\n",
       "      <td>-1.000000</td>\n",
       "      <td>4-6</td>\n",
       "      <td>180</td>\n",
       "      <td>0</td>\n",
       "    </tr>\n",
       "    <tr>\n",
       "      <th>1923</th>\n",
       "      <td>384</td>\n",
       "      <td>0</td>\n",
       "      <td>50th</td>\n",
       "      <td>1</td>\n",
       "      <td>0.0</td>\n",
       "      <td>0.0</td>\n",
       "      <td>0.0</td>\n",
       "      <td>0.0</td>\n",
       "      <td>0.0</td>\n",
       "      <td>0.0</td>\n",
       "      <td>...</td>\n",
       "      <td>-1.000000</td>\n",
       "      <td>-1.000000</td>\n",
       "      <td>-1.000000</td>\n",
       "      <td>-1.000000</td>\n",
       "      <td>-1.000000</td>\n",
       "      <td>-1.000000</td>\n",
       "      <td>-1.000000</td>\n",
       "      <td>6-12</td>\n",
       "      <td>180</td>\n",
       "      <td>0</td>\n",
       "    </tr>\n",
       "    <tr>\n",
       "      <th>1924</th>\n",
       "      <td>384</td>\n",
       "      <td>0</td>\n",
       "      <td>50th</td>\n",
       "      <td>1</td>\n",
       "      <td>0.0</td>\n",
       "      <td>0.0</td>\n",
       "      <td>1.0</td>\n",
       "      <td>0.0</td>\n",
       "      <td>0.0</td>\n",
       "      <td>0.0</td>\n",
       "      <td>...</td>\n",
       "      <td>-0.838384</td>\n",
       "      <td>-0.701863</td>\n",
       "      <td>-0.585967</td>\n",
       "      <td>-0.763868</td>\n",
       "      <td>-0.612903</td>\n",
       "      <td>-0.551337</td>\n",
       "      <td>-0.835052</td>\n",
       "      <td>ABOVE_12</td>\n",
       "      <td>0</td>\n",
       "      <td>0</td>\n",
       "    </tr>\n",
       "  </tbody>\n",
       "</table>\n",
       "<p>1410 rows × 232 columns</p>\n",
       "</div>"
      ],
      "text/plain": [
       "      PATIENT_VISIT_IDENTIFIER  AGE_ABOVE65 AGE_PERCENTIL  GENDER  \\\n",
       "0                            0            1          60th       0   \n",
       "1                            0            1          60th       0   \n",
       "2                            0            1          60th       0   \n",
       "3                            0            1          60th       0   \n",
       "10                           2            0          10th       0   \n",
       "...                        ...          ...           ...     ...   \n",
       "1920                       384            0          50th       1   \n",
       "1921                       384            0          50th       1   \n",
       "1922                       384            0          50th       1   \n",
       "1923                       384            0          50th       1   \n",
       "1924                       384            0          50th       1   \n",
       "\n",
       "      DISEASE GROUPING 1  DISEASE GROUPING 2  DISEASE GROUPING 3  \\\n",
       "0                    0.0                 0.0                 0.0   \n",
       "1                    0.0                 0.0                 0.0   \n",
       "2                    0.0                 0.0                 0.0   \n",
       "3                    0.0                 0.0                 0.0   \n",
       "10                   0.0                 0.0                 0.0   \n",
       "...                  ...                 ...                 ...   \n",
       "1920                 0.0                 0.0                 0.0   \n",
       "1921                 0.0                 0.0                 0.0   \n",
       "1922                 0.0                 0.0                 0.0   \n",
       "1923                 0.0                 0.0                 0.0   \n",
       "1924                 0.0                 0.0                 1.0   \n",
       "\n",
       "      DISEASE GROUPING 4  DISEASE GROUPING 5  DISEASE GROUPING 6  ...  \\\n",
       "0                    0.0                 1.0                 1.0  ...   \n",
       "1                    0.0                 1.0                 1.0  ...   \n",
       "2                    0.0                 1.0                 1.0  ...   \n",
       "3                    0.0                 1.0                 1.0  ...   \n",
       "10                   0.0                 0.0                 0.0  ...   \n",
       "...                  ...                 ...                 ...  ...   \n",
       "1920                 0.0                 0.0                 0.0  ...   \n",
       "1921                 0.0                 0.0                 0.0  ...   \n",
       "1922                 0.0                 0.0                 0.0  ...   \n",
       "1923                 0.0                 0.0                 0.0  ...   \n",
       "1924                 0.0                 0.0                 0.0  ...   \n",
       "\n",
       "      OXYGEN_SATURATION_DIFF  BLOODPRESSURE_DIASTOLIC_DIFF_REL  \\\n",
       "0                  -1.000000                         -1.000000   \n",
       "1                  -1.000000                         -1.000000   \n",
       "2                        NaN                               NaN   \n",
       "3                  -1.000000                               NaN   \n",
       "10                       NaN                               NaN   \n",
       "...                      ...                               ...   \n",
       "1920               -1.000000                         -1.000000   \n",
       "1921               -1.000000                         -1.000000   \n",
       "1922               -1.000000                         -1.000000   \n",
       "1923               -1.000000                         -1.000000   \n",
       "1924               -0.838384                         -0.701863   \n",
       "\n",
       "      BLOODPRESSURE_SISTOLIC_DIFF_REL  HEART_RATE_DIFF_REL  \\\n",
       "0                           -1.000000            -1.000000   \n",
       "1                           -1.000000            -1.000000   \n",
       "2                                 NaN                  NaN   \n",
       "3                                 NaN                  NaN   \n",
       "10                                NaN                  NaN   \n",
       "...                               ...                  ...   \n",
       "1920                        -1.000000            -1.000000   \n",
       "1921                        -1.000000            -1.000000   \n",
       "1922                        -1.000000            -1.000000   \n",
       "1923                        -1.000000            -1.000000   \n",
       "1924                        -0.585967            -0.763868   \n",
       "\n",
       "      RESPIRATORY_RATE_DIFF_REL  TEMPERATURE_DIFF_REL  \\\n",
       "0                     -1.000000             -1.000000   \n",
       "1                     -1.000000             -1.000000   \n",
       "2                           NaN                   NaN   \n",
       "3                           NaN             -1.000000   \n",
       "10                          NaN                   NaN   \n",
       "...                         ...                   ...   \n",
       "1920                  -1.000000             -1.000000   \n",
       "1921                  -1.000000             -1.000000   \n",
       "1922                  -1.000000             -1.000000   \n",
       "1923                  -1.000000             -1.000000   \n",
       "1924                  -0.612903             -0.551337   \n",
       "\n",
       "      OXYGEN_SATURATION_DIFF_REL    WINDOW  Missingness  ICU_Admitted  \n",
       "0                      -1.000000       0-2          180             1  \n",
       "1                      -1.000000       2-4          180             1  \n",
       "2                            NaN       4-6           36             1  \n",
       "3                      -1.000000      6-12          204             1  \n",
       "10                           NaN       0-2           36             1  \n",
       "...                          ...       ...          ...           ...  \n",
       "1920                   -1.000000       0-2          180             0  \n",
       "1921                   -1.000000       2-4            0             0  \n",
       "1922                   -1.000000       4-6          180             0  \n",
       "1923                   -1.000000      6-12          180             0  \n",
       "1924                   -0.835052  ABOVE_12            0             0  \n",
       "\n",
       "[1410 rows x 232 columns]"
      ]
     },
     "execution_count": 23,
     "metadata": {},
     "output_type": "execute_result"
    }
   ],
   "source": [
    "# Remove ICU Column from this set.\n",
    "model_data.drop('ICU', axis = 'columns', inplace = True)\n",
    "model_data"
   ]
  },
  {
   "cell_type": "code",
   "execution_count": 24,
   "metadata": {},
   "outputs": [
    {
     "data": {
      "text/plain": [
       "['ALBUMIN_DIFF',\n",
       " 'BE_ARTERIAL_DIFF',\n",
       " 'BE_VENOUS_DIFF',\n",
       " 'BIC_ARTERIAL_DIFF',\n",
       " 'BIC_VENOUS_DIFF',\n",
       " 'BILLIRUBIN_DIFF',\n",
       " 'BLAST_DIFF',\n",
       " 'CALCIUM_DIFF',\n",
       " 'CREATININ_DIFF',\n",
       " 'FFA_DIFF',\n",
       " 'GGT_DIFF',\n",
       " 'GLUCOSE_DIFF',\n",
       " 'HEMATOCRITE_DIFF',\n",
       " 'HEMOGLOBIN_DIFF',\n",
       " 'INR_DIFF',\n",
       " 'LACTATE_DIFF',\n",
       " 'LEUKOCYTES_DIFF',\n",
       " 'LINFOCITOS_DIFF',\n",
       " 'NEUTROPHILES_DIFF',\n",
       " 'P02_ARTERIAL_DIFF',\n",
       " 'P02_VENOUS_DIFF',\n",
       " 'PC02_ARTERIAL_DIFF',\n",
       " 'PC02_VENOUS_DIFF',\n",
       " 'PCR_DIFF',\n",
       " 'PH_ARTERIAL_DIFF',\n",
       " 'PH_VENOUS_DIFF',\n",
       " 'PLATELETS_DIFF',\n",
       " 'POTASSIUM_DIFF',\n",
       " 'SAT02_ARTERIAL_DIFF',\n",
       " 'SAT02_VENOUS_DIFF',\n",
       " 'SODIUM_DIFF',\n",
       " 'TGO_DIFF',\n",
       " 'TGP_DIFF',\n",
       " 'TTPA_DIFF',\n",
       " 'UREA_DIFF',\n",
       " 'DIMER_DIFF']"
      ]
     },
     "execution_count": 24,
     "metadata": {},
     "output_type": "execute_result"
    }
   ],
   "source": [
    "## Are there any constant value columns \n",
    "const_columns = list(model_data.columns[model_data.nunique() <= 1])\n",
    "const_columns"
   ]
  },
  {
   "cell_type": "code",
   "execution_count": 25,
   "metadata": {},
   "outputs": [
    {
     "data": {
      "text/html": [
       "<div>\n",
       "<style scoped>\n",
       "    .dataframe tbody tr th:only-of-type {\n",
       "        vertical-align: middle;\n",
       "    }\n",
       "\n",
       "    .dataframe tbody tr th {\n",
       "        vertical-align: top;\n",
       "    }\n",
       "\n",
       "    .dataframe thead th {\n",
       "        text-align: right;\n",
       "    }\n",
       "</style>\n",
       "<table border=\"1\" class=\"dataframe\">\n",
       "  <thead>\n",
       "    <tr style=\"text-align: right;\">\n",
       "      <th></th>\n",
       "      <th>PATIENT_VISIT_IDENTIFIER</th>\n",
       "      <th>AGE_ABOVE65</th>\n",
       "      <th>AGE_PERCENTIL</th>\n",
       "      <th>GENDER</th>\n",
       "      <th>DISEASE GROUPING 1</th>\n",
       "      <th>DISEASE GROUPING 2</th>\n",
       "      <th>DISEASE GROUPING 3</th>\n",
       "      <th>DISEASE GROUPING 4</th>\n",
       "      <th>DISEASE GROUPING 5</th>\n",
       "      <th>DISEASE GROUPING 6</th>\n",
       "      <th>...</th>\n",
       "      <th>OXYGEN_SATURATION_DIFF</th>\n",
       "      <th>BLOODPRESSURE_DIASTOLIC_DIFF_REL</th>\n",
       "      <th>BLOODPRESSURE_SISTOLIC_DIFF_REL</th>\n",
       "      <th>HEART_RATE_DIFF_REL</th>\n",
       "      <th>RESPIRATORY_RATE_DIFF_REL</th>\n",
       "      <th>TEMPERATURE_DIFF_REL</th>\n",
       "      <th>OXYGEN_SATURATION_DIFF_REL</th>\n",
       "      <th>WINDOW</th>\n",
       "      <th>Missingness</th>\n",
       "      <th>ICU_Admitted</th>\n",
       "    </tr>\n",
       "  </thead>\n",
       "  <tbody>\n",
       "    <tr>\n",
       "      <th>0</th>\n",
       "      <td>0</td>\n",
       "      <td>1</td>\n",
       "      <td>60th</td>\n",
       "      <td>0</td>\n",
       "      <td>0.0</td>\n",
       "      <td>0.0</td>\n",
       "      <td>0.0</td>\n",
       "      <td>0.0</td>\n",
       "      <td>1.0</td>\n",
       "      <td>1.0</td>\n",
       "      <td>...</td>\n",
       "      <td>-1.000000</td>\n",
       "      <td>-1.000000</td>\n",
       "      <td>-1.000000</td>\n",
       "      <td>-1.000000</td>\n",
       "      <td>-1.000000</td>\n",
       "      <td>-1.000000</td>\n",
       "      <td>-1.000000</td>\n",
       "      <td>0-2</td>\n",
       "      <td>180</td>\n",
       "      <td>1</td>\n",
       "    </tr>\n",
       "    <tr>\n",
       "      <th>1</th>\n",
       "      <td>0</td>\n",
       "      <td>1</td>\n",
       "      <td>60th</td>\n",
       "      <td>0</td>\n",
       "      <td>0.0</td>\n",
       "      <td>0.0</td>\n",
       "      <td>0.0</td>\n",
       "      <td>0.0</td>\n",
       "      <td>1.0</td>\n",
       "      <td>1.0</td>\n",
       "      <td>...</td>\n",
       "      <td>-1.000000</td>\n",
       "      <td>-1.000000</td>\n",
       "      <td>-1.000000</td>\n",
       "      <td>-1.000000</td>\n",
       "      <td>-1.000000</td>\n",
       "      <td>-1.000000</td>\n",
       "      <td>-1.000000</td>\n",
       "      <td>2-4</td>\n",
       "      <td>180</td>\n",
       "      <td>1</td>\n",
       "    </tr>\n",
       "    <tr>\n",
       "      <th>2</th>\n",
       "      <td>0</td>\n",
       "      <td>1</td>\n",
       "      <td>60th</td>\n",
       "      <td>0</td>\n",
       "      <td>0.0</td>\n",
       "      <td>0.0</td>\n",
       "      <td>0.0</td>\n",
       "      <td>0.0</td>\n",
       "      <td>1.0</td>\n",
       "      <td>1.0</td>\n",
       "      <td>...</td>\n",
       "      <td>NaN</td>\n",
       "      <td>NaN</td>\n",
       "      <td>NaN</td>\n",
       "      <td>NaN</td>\n",
       "      <td>NaN</td>\n",
       "      <td>NaN</td>\n",
       "      <td>NaN</td>\n",
       "      <td>4-6</td>\n",
       "      <td>36</td>\n",
       "      <td>1</td>\n",
       "    </tr>\n",
       "    <tr>\n",
       "      <th>3</th>\n",
       "      <td>0</td>\n",
       "      <td>1</td>\n",
       "      <td>60th</td>\n",
       "      <td>0</td>\n",
       "      <td>0.0</td>\n",
       "      <td>0.0</td>\n",
       "      <td>0.0</td>\n",
       "      <td>0.0</td>\n",
       "      <td>1.0</td>\n",
       "      <td>1.0</td>\n",
       "      <td>...</td>\n",
       "      <td>-1.000000</td>\n",
       "      <td>NaN</td>\n",
       "      <td>NaN</td>\n",
       "      <td>NaN</td>\n",
       "      <td>NaN</td>\n",
       "      <td>-1.000000</td>\n",
       "      <td>-1.000000</td>\n",
       "      <td>6-12</td>\n",
       "      <td>204</td>\n",
       "      <td>1</td>\n",
       "    </tr>\n",
       "    <tr>\n",
       "      <th>10</th>\n",
       "      <td>2</td>\n",
       "      <td>0</td>\n",
       "      <td>10th</td>\n",
       "      <td>0</td>\n",
       "      <td>0.0</td>\n",
       "      <td>0.0</td>\n",
       "      <td>0.0</td>\n",
       "      <td>0.0</td>\n",
       "      <td>0.0</td>\n",
       "      <td>0.0</td>\n",
       "      <td>...</td>\n",
       "      <td>NaN</td>\n",
       "      <td>NaN</td>\n",
       "      <td>NaN</td>\n",
       "      <td>NaN</td>\n",
       "      <td>NaN</td>\n",
       "      <td>NaN</td>\n",
       "      <td>NaN</td>\n",
       "      <td>0-2</td>\n",
       "      <td>36</td>\n",
       "      <td>1</td>\n",
       "    </tr>\n",
       "    <tr>\n",
       "      <th>...</th>\n",
       "      <td>...</td>\n",
       "      <td>...</td>\n",
       "      <td>...</td>\n",
       "      <td>...</td>\n",
       "      <td>...</td>\n",
       "      <td>...</td>\n",
       "      <td>...</td>\n",
       "      <td>...</td>\n",
       "      <td>...</td>\n",
       "      <td>...</td>\n",
       "      <td>...</td>\n",
       "      <td>...</td>\n",
       "      <td>...</td>\n",
       "      <td>...</td>\n",
       "      <td>...</td>\n",
       "      <td>...</td>\n",
       "      <td>...</td>\n",
       "      <td>...</td>\n",
       "      <td>...</td>\n",
       "      <td>...</td>\n",
       "      <td>...</td>\n",
       "    </tr>\n",
       "    <tr>\n",
       "      <th>1920</th>\n",
       "      <td>384</td>\n",
       "      <td>0</td>\n",
       "      <td>50th</td>\n",
       "      <td>1</td>\n",
       "      <td>0.0</td>\n",
       "      <td>0.0</td>\n",
       "      <td>0.0</td>\n",
       "      <td>0.0</td>\n",
       "      <td>0.0</td>\n",
       "      <td>0.0</td>\n",
       "      <td>...</td>\n",
       "      <td>-1.000000</td>\n",
       "      <td>-1.000000</td>\n",
       "      <td>-1.000000</td>\n",
       "      <td>-1.000000</td>\n",
       "      <td>-1.000000</td>\n",
       "      <td>-1.000000</td>\n",
       "      <td>-1.000000</td>\n",
       "      <td>0-2</td>\n",
       "      <td>180</td>\n",
       "      <td>0</td>\n",
       "    </tr>\n",
       "    <tr>\n",
       "      <th>1921</th>\n",
       "      <td>384</td>\n",
       "      <td>0</td>\n",
       "      <td>50th</td>\n",
       "      <td>1</td>\n",
       "      <td>0.0</td>\n",
       "      <td>0.0</td>\n",
       "      <td>0.0</td>\n",
       "      <td>0.0</td>\n",
       "      <td>0.0</td>\n",
       "      <td>0.0</td>\n",
       "      <td>...</td>\n",
       "      <td>-1.000000</td>\n",
       "      <td>-1.000000</td>\n",
       "      <td>-1.000000</td>\n",
       "      <td>-1.000000</td>\n",
       "      <td>-1.000000</td>\n",
       "      <td>-1.000000</td>\n",
       "      <td>-1.000000</td>\n",
       "      <td>2-4</td>\n",
       "      <td>0</td>\n",
       "      <td>0</td>\n",
       "    </tr>\n",
       "    <tr>\n",
       "      <th>1922</th>\n",
       "      <td>384</td>\n",
       "      <td>0</td>\n",
       "      <td>50th</td>\n",
       "      <td>1</td>\n",
       "      <td>0.0</td>\n",
       "      <td>0.0</td>\n",
       "      <td>0.0</td>\n",
       "      <td>0.0</td>\n",
       "      <td>0.0</td>\n",
       "      <td>0.0</td>\n",
       "      <td>...</td>\n",
       "      <td>-1.000000</td>\n",
       "      <td>-1.000000</td>\n",
       "      <td>-1.000000</td>\n",
       "      <td>-1.000000</td>\n",
       "      <td>-1.000000</td>\n",
       "      <td>-1.000000</td>\n",
       "      <td>-1.000000</td>\n",
       "      <td>4-6</td>\n",
       "      <td>180</td>\n",
       "      <td>0</td>\n",
       "    </tr>\n",
       "    <tr>\n",
       "      <th>1923</th>\n",
       "      <td>384</td>\n",
       "      <td>0</td>\n",
       "      <td>50th</td>\n",
       "      <td>1</td>\n",
       "      <td>0.0</td>\n",
       "      <td>0.0</td>\n",
       "      <td>0.0</td>\n",
       "      <td>0.0</td>\n",
       "      <td>0.0</td>\n",
       "      <td>0.0</td>\n",
       "      <td>...</td>\n",
       "      <td>-1.000000</td>\n",
       "      <td>-1.000000</td>\n",
       "      <td>-1.000000</td>\n",
       "      <td>-1.000000</td>\n",
       "      <td>-1.000000</td>\n",
       "      <td>-1.000000</td>\n",
       "      <td>-1.000000</td>\n",
       "      <td>6-12</td>\n",
       "      <td>180</td>\n",
       "      <td>0</td>\n",
       "    </tr>\n",
       "    <tr>\n",
       "      <th>1924</th>\n",
       "      <td>384</td>\n",
       "      <td>0</td>\n",
       "      <td>50th</td>\n",
       "      <td>1</td>\n",
       "      <td>0.0</td>\n",
       "      <td>0.0</td>\n",
       "      <td>1.0</td>\n",
       "      <td>0.0</td>\n",
       "      <td>0.0</td>\n",
       "      <td>0.0</td>\n",
       "      <td>...</td>\n",
       "      <td>-0.838384</td>\n",
       "      <td>-0.701863</td>\n",
       "      <td>-0.585967</td>\n",
       "      <td>-0.763868</td>\n",
       "      <td>-0.612903</td>\n",
       "      <td>-0.551337</td>\n",
       "      <td>-0.835052</td>\n",
       "      <td>ABOVE_12</td>\n",
       "      <td>0</td>\n",
       "      <td>0</td>\n",
       "    </tr>\n",
       "  </tbody>\n",
       "</table>\n",
       "<p>1410 rows × 196 columns</p>\n",
       "</div>"
      ],
      "text/plain": [
       "      PATIENT_VISIT_IDENTIFIER  AGE_ABOVE65 AGE_PERCENTIL  GENDER  \\\n",
       "0                            0            1          60th       0   \n",
       "1                            0            1          60th       0   \n",
       "2                            0            1          60th       0   \n",
       "3                            0            1          60th       0   \n",
       "10                           2            0          10th       0   \n",
       "...                        ...          ...           ...     ...   \n",
       "1920                       384            0          50th       1   \n",
       "1921                       384            0          50th       1   \n",
       "1922                       384            0          50th       1   \n",
       "1923                       384            0          50th       1   \n",
       "1924                       384            0          50th       1   \n",
       "\n",
       "      DISEASE GROUPING 1  DISEASE GROUPING 2  DISEASE GROUPING 3  \\\n",
       "0                    0.0                 0.0                 0.0   \n",
       "1                    0.0                 0.0                 0.0   \n",
       "2                    0.0                 0.0                 0.0   \n",
       "3                    0.0                 0.0                 0.0   \n",
       "10                   0.0                 0.0                 0.0   \n",
       "...                  ...                 ...                 ...   \n",
       "1920                 0.0                 0.0                 0.0   \n",
       "1921                 0.0                 0.0                 0.0   \n",
       "1922                 0.0                 0.0                 0.0   \n",
       "1923                 0.0                 0.0                 0.0   \n",
       "1924                 0.0                 0.0                 1.0   \n",
       "\n",
       "      DISEASE GROUPING 4  DISEASE GROUPING 5  DISEASE GROUPING 6  ...  \\\n",
       "0                    0.0                 1.0                 1.0  ...   \n",
       "1                    0.0                 1.0                 1.0  ...   \n",
       "2                    0.0                 1.0                 1.0  ...   \n",
       "3                    0.0                 1.0                 1.0  ...   \n",
       "10                   0.0                 0.0                 0.0  ...   \n",
       "...                  ...                 ...                 ...  ...   \n",
       "1920                 0.0                 0.0                 0.0  ...   \n",
       "1921                 0.0                 0.0                 0.0  ...   \n",
       "1922                 0.0                 0.0                 0.0  ...   \n",
       "1923                 0.0                 0.0                 0.0  ...   \n",
       "1924                 0.0                 0.0                 0.0  ...   \n",
       "\n",
       "      OXYGEN_SATURATION_DIFF  BLOODPRESSURE_DIASTOLIC_DIFF_REL  \\\n",
       "0                  -1.000000                         -1.000000   \n",
       "1                  -1.000000                         -1.000000   \n",
       "2                        NaN                               NaN   \n",
       "3                  -1.000000                               NaN   \n",
       "10                       NaN                               NaN   \n",
       "...                      ...                               ...   \n",
       "1920               -1.000000                         -1.000000   \n",
       "1921               -1.000000                         -1.000000   \n",
       "1922               -1.000000                         -1.000000   \n",
       "1923               -1.000000                         -1.000000   \n",
       "1924               -0.838384                         -0.701863   \n",
       "\n",
       "      BLOODPRESSURE_SISTOLIC_DIFF_REL  HEART_RATE_DIFF_REL  \\\n",
       "0                           -1.000000            -1.000000   \n",
       "1                           -1.000000            -1.000000   \n",
       "2                                 NaN                  NaN   \n",
       "3                                 NaN                  NaN   \n",
       "10                                NaN                  NaN   \n",
       "...                               ...                  ...   \n",
       "1920                        -1.000000            -1.000000   \n",
       "1921                        -1.000000            -1.000000   \n",
       "1922                        -1.000000            -1.000000   \n",
       "1923                        -1.000000            -1.000000   \n",
       "1924                        -0.585967            -0.763868   \n",
       "\n",
       "      RESPIRATORY_RATE_DIFF_REL  TEMPERATURE_DIFF_REL  \\\n",
       "0                     -1.000000             -1.000000   \n",
       "1                     -1.000000             -1.000000   \n",
       "2                           NaN                   NaN   \n",
       "3                           NaN             -1.000000   \n",
       "10                          NaN                   NaN   \n",
       "...                         ...                   ...   \n",
       "1920                  -1.000000             -1.000000   \n",
       "1921                  -1.000000             -1.000000   \n",
       "1922                  -1.000000             -1.000000   \n",
       "1923                  -1.000000             -1.000000   \n",
       "1924                  -0.612903             -0.551337   \n",
       "\n",
       "      OXYGEN_SATURATION_DIFF_REL    WINDOW  Missingness  ICU_Admitted  \n",
       "0                      -1.000000       0-2          180             1  \n",
       "1                      -1.000000       2-4          180             1  \n",
       "2                            NaN       4-6           36             1  \n",
       "3                      -1.000000      6-12          204             1  \n",
       "10                           NaN       0-2           36             1  \n",
       "...                          ...       ...          ...           ...  \n",
       "1920                   -1.000000       0-2          180             0  \n",
       "1921                   -1.000000       2-4            0             0  \n",
       "1922                   -1.000000       4-6          180             0  \n",
       "1923                   -1.000000      6-12          180             0  \n",
       "1924                   -0.835052  ABOVE_12            0             0  \n",
       "\n",
       "[1410 rows x 196 columns]"
      ]
     },
     "execution_count": 25,
     "metadata": {},
     "output_type": "execute_result"
    }
   ],
   "source": [
    "# Remove these constant value columns from the set\n",
    "model_data.drop(const_columns, axis = 'columns', inplace = True)\n",
    "model_data"
   ]
  },
  {
   "cell_type": "code",
   "execution_count": 26,
   "metadata": {},
   "outputs": [],
   "source": [
    "# Patient ID 199 seems not having data , decided to remove this from the set\n",
    "model_data = model_data[model_data['PATIENT_VISIT_IDENTIFIER'] != 199]"
   ]
  },
  {
   "cell_type": "code",
   "execution_count": 27,
   "metadata": {},
   "outputs": [
    {
     "name": "stdout",
     "output_type": "stream",
     "text": [
      "ALBUMIN_MEDIAN                     872\n",
      "ALBUMIN_MEAN                       872\n",
      "ALBUMIN_MIN                        872\n",
      "ALBUMIN_MAX                        872\n",
      "BE_ARTERIAL_MEDIAN                 872\n",
      "                                  ... \n",
      "BLOODPRESSURE_SISTOLIC_DIFF_REL    627\n",
      "HEART_RATE_DIFF_REL                620\n",
      "RESPIRATORY_RATE_DIFF_REL          675\n",
      "TEMPERATURE_DIFF_REL               626\n",
      "OXYGEN_SATURATION_DIFF_REL         617\n",
      "Length: 180, dtype: int64\n"
     ]
    }
   ],
   "source": [
    "print(model_data.isna().sum()[model_data.isna().sum() > 0])"
   ]
  },
  {
   "cell_type": "code",
   "execution_count": 28,
   "metadata": {},
   "outputs": [
    {
     "name": "stderr",
     "output_type": "stream",
     "text": [
      "C:\\Users\\20181588\\AppData\\Local\\Temp\\ipykernel_12152\\3522313779.py:3: FutureWarning:\n",
      "\n",
      "DataFrameGroupBy.fillna with 'method' is deprecated and will raise in a future version. Use obj.ffill() or obj.bfill() instead.\n",
      "\n",
      "C:\\Users\\20181588\\AppData\\Local\\Temp\\ipykernel_12152\\3522313779.py:3: FutureWarning:\n",
      "\n",
      "DataFrame.fillna with 'method' is deprecated and will raise in a future version. Use obj.ffill() or obj.bfill() instead.\n",
      "\n",
      "C:\\Users\\20181588\\AppData\\Local\\Temp\\ipykernel_12152\\3522313779.py:4: FutureWarning:\n",
      "\n",
      "DataFrame.fillna with 'method' is deprecated and will raise in a future version. Use obj.ffill() or obj.bfill() instead.\n",
      "\n"
     ]
    }
   ],
   "source": [
    "model_data = model_data.sort_values(by=['PATIENT_VISIT_IDENTIFIER', 'WINDOW'])\\\n",
    "    .groupby('PATIENT_VISIT_IDENTIFIER', as_index=False)\\\n",
    "    .fillna(method='ffill')\\\n",
    "    .fillna(method='bfill')"
   ]
  },
  {
   "cell_type": "code",
   "execution_count": 29,
   "metadata": {},
   "outputs": [
    {
     "data": {
      "text/plain": [
       "0"
      ]
     },
     "execution_count": 29,
     "metadata": {},
     "output_type": "execute_result"
    }
   ],
   "source": [
    "model_data.isna().sum().sum()"
   ]
  },
  {
   "cell_type": "code",
   "execution_count": 30,
   "metadata": {},
   "outputs": [
    {
     "data": {
      "text/plain": [
       "AGE_ABOVE65                     int64\n",
       "AGE_PERCENTIL                  object\n",
       "GENDER                          int64\n",
       "DISEASE GROUPING 1            float64\n",
       "DISEASE GROUPING 2            float64\n",
       "                               ...   \n",
       "TEMPERATURE_DIFF_REL          float64\n",
       "OXYGEN_SATURATION_DIFF_REL    float64\n",
       "WINDOW                         object\n",
       "Missingness                     int64\n",
       "ICU_Admitted                    int32\n",
       "Length: 195, dtype: object"
      ]
     },
     "execution_count": 30,
     "metadata": {},
     "output_type": "execute_result"
    }
   ],
   "source": [
    "model_data.dtypes"
   ]
  },
  {
   "cell_type": "code",
   "execution_count": 40,
   "metadata": {},
   "outputs": [
    {
     "data": {
      "text/html": [
       "<div>\n",
       "<style scoped>\n",
       "    .dataframe tbody tr th:only-of-type {\n",
       "        vertical-align: middle;\n",
       "    }\n",
       "\n",
       "    .dataframe tbody tr th {\n",
       "        vertical-align: top;\n",
       "    }\n",
       "\n",
       "    .dataframe thead th {\n",
       "        text-align: right;\n",
       "    }\n",
       "</style>\n",
       "<table border=\"1\" class=\"dataframe\">\n",
       "  <thead>\n",
       "    <tr style=\"text-align: right;\">\n",
       "      <th></th>\n",
       "      <th>AGE_ABOVE65</th>\n",
       "      <th>GENDER</th>\n",
       "      <th>DISEASE GROUPING 1</th>\n",
       "      <th>DISEASE GROUPING 2</th>\n",
       "      <th>DISEASE GROUPING 3</th>\n",
       "      <th>DISEASE GROUPING 4</th>\n",
       "      <th>DISEASE GROUPING 5</th>\n",
       "      <th>DISEASE GROUPING 6</th>\n",
       "      <th>HTN</th>\n",
       "      <th>IMMUNOCOMPROMISED</th>\n",
       "      <th>...</th>\n",
       "      <th>10th</th>\n",
       "      <th>20th</th>\n",
       "      <th>30th</th>\n",
       "      <th>40th</th>\n",
       "      <th>50th</th>\n",
       "      <th>60th</th>\n",
       "      <th>70th</th>\n",
       "      <th>80th</th>\n",
       "      <th>90th</th>\n",
       "      <th>Above 90th</th>\n",
       "    </tr>\n",
       "  </thead>\n",
       "  <tbody>\n",
       "    <tr>\n",
       "      <th>0</th>\n",
       "      <td>1</td>\n",
       "      <td>0</td>\n",
       "      <td>0.0</td>\n",
       "      <td>0.0</td>\n",
       "      <td>0.0</td>\n",
       "      <td>0.0</td>\n",
       "      <td>1.0</td>\n",
       "      <td>1.0</td>\n",
       "      <td>0.0</td>\n",
       "      <td>0.0</td>\n",
       "      <td>...</td>\n",
       "      <td>False</td>\n",
       "      <td>False</td>\n",
       "      <td>False</td>\n",
       "      <td>False</td>\n",
       "      <td>False</td>\n",
       "      <td>True</td>\n",
       "      <td>False</td>\n",
       "      <td>False</td>\n",
       "      <td>False</td>\n",
       "      <td>False</td>\n",
       "    </tr>\n",
       "    <tr>\n",
       "      <th>1</th>\n",
       "      <td>1</td>\n",
       "      <td>0</td>\n",
       "      <td>0.0</td>\n",
       "      <td>0.0</td>\n",
       "      <td>0.0</td>\n",
       "      <td>0.0</td>\n",
       "      <td>1.0</td>\n",
       "      <td>1.0</td>\n",
       "      <td>0.0</td>\n",
       "      <td>0.0</td>\n",
       "      <td>...</td>\n",
       "      <td>False</td>\n",
       "      <td>False</td>\n",
       "      <td>False</td>\n",
       "      <td>False</td>\n",
       "      <td>False</td>\n",
       "      <td>True</td>\n",
       "      <td>False</td>\n",
       "      <td>False</td>\n",
       "      <td>False</td>\n",
       "      <td>False</td>\n",
       "    </tr>\n",
       "    <tr>\n",
       "      <th>2</th>\n",
       "      <td>1</td>\n",
       "      <td>0</td>\n",
       "      <td>0.0</td>\n",
       "      <td>0.0</td>\n",
       "      <td>0.0</td>\n",
       "      <td>0.0</td>\n",
       "      <td>1.0</td>\n",
       "      <td>1.0</td>\n",
       "      <td>0.0</td>\n",
       "      <td>0.0</td>\n",
       "      <td>...</td>\n",
       "      <td>False</td>\n",
       "      <td>False</td>\n",
       "      <td>False</td>\n",
       "      <td>False</td>\n",
       "      <td>False</td>\n",
       "      <td>True</td>\n",
       "      <td>False</td>\n",
       "      <td>False</td>\n",
       "      <td>False</td>\n",
       "      <td>False</td>\n",
       "    </tr>\n",
       "    <tr>\n",
       "      <th>3</th>\n",
       "      <td>1</td>\n",
       "      <td>0</td>\n",
       "      <td>0.0</td>\n",
       "      <td>0.0</td>\n",
       "      <td>0.0</td>\n",
       "      <td>0.0</td>\n",
       "      <td>1.0</td>\n",
       "      <td>1.0</td>\n",
       "      <td>0.0</td>\n",
       "      <td>0.0</td>\n",
       "      <td>...</td>\n",
       "      <td>False</td>\n",
       "      <td>False</td>\n",
       "      <td>False</td>\n",
       "      <td>False</td>\n",
       "      <td>False</td>\n",
       "      <td>True</td>\n",
       "      <td>False</td>\n",
       "      <td>False</td>\n",
       "      <td>False</td>\n",
       "      <td>False</td>\n",
       "    </tr>\n",
       "    <tr>\n",
       "      <th>10</th>\n",
       "      <td>0</td>\n",
       "      <td>0</td>\n",
       "      <td>0.0</td>\n",
       "      <td>0.0</td>\n",
       "      <td>0.0</td>\n",
       "      <td>0.0</td>\n",
       "      <td>0.0</td>\n",
       "      <td>0.0</td>\n",
       "      <td>0.0</td>\n",
       "      <td>0.0</td>\n",
       "      <td>...</td>\n",
       "      <td>True</td>\n",
       "      <td>False</td>\n",
       "      <td>False</td>\n",
       "      <td>False</td>\n",
       "      <td>False</td>\n",
       "      <td>False</td>\n",
       "      <td>False</td>\n",
       "      <td>False</td>\n",
       "      <td>False</td>\n",
       "      <td>False</td>\n",
       "    </tr>\n",
       "  </tbody>\n",
       "</table>\n",
       "<p>5 rows × 208 columns</p>\n",
       "</div>"
      ],
      "text/plain": [
       "    AGE_ABOVE65  GENDER  DISEASE GROUPING 1  DISEASE GROUPING 2  \\\n",
       "0             1       0                 0.0                 0.0   \n",
       "1             1       0                 0.0                 0.0   \n",
       "2             1       0                 0.0                 0.0   \n",
       "3             1       0                 0.0                 0.0   \n",
       "10            0       0                 0.0                 0.0   \n",
       "\n",
       "    DISEASE GROUPING 3  DISEASE GROUPING 4  DISEASE GROUPING 5  \\\n",
       "0                  0.0                 0.0                 1.0   \n",
       "1                  0.0                 0.0                 1.0   \n",
       "2                  0.0                 0.0                 1.0   \n",
       "3                  0.0                 0.0                 1.0   \n",
       "10                 0.0                 0.0                 0.0   \n",
       "\n",
       "    DISEASE GROUPING 6  HTN  IMMUNOCOMPROMISED  ...   10th   20th   30th  \\\n",
       "0                  1.0  0.0                0.0  ...  False  False  False   \n",
       "1                  1.0  0.0                0.0  ...  False  False  False   \n",
       "2                  1.0  0.0                0.0  ...  False  False  False   \n",
       "3                  1.0  0.0                0.0  ...  False  False  False   \n",
       "10                 0.0  0.0                0.0  ...   True  False  False   \n",
       "\n",
       "     40th   50th   60th   70th   80th   90th  Above 90th  \n",
       "0   False  False   True  False  False  False       False  \n",
       "1   False  False   True  False  False  False       False  \n",
       "2   False  False   True  False  False  False       False  \n",
       "3   False  False   True  False  False  False       False  \n",
       "10  False  False  False  False  False  False       False  \n",
       "\n",
       "[5 rows x 208 columns]"
      ]
     },
     "execution_count": 40,
     "metadata": {},
     "output_type": "execute_result"
    }
   ],
   "source": [
    "model_data.head()"
   ]
  },
  {
   "cell_type": "code",
   "execution_count": 41,
   "metadata": {},
   "outputs": [
    {
     "data": {
      "text/plain": [
       "<bound method DataFrame.info of       AGE_ABOVE65  GENDER  DISEASE GROUPING 1  DISEASE GROUPING 2  \\\n",
       "0               1       0                 0.0                 0.0   \n",
       "1               1       0                 0.0                 0.0   \n",
       "2               1       0                 0.0                 0.0   \n",
       "3               1       0                 0.0                 0.0   \n",
       "10              0       0                 0.0                 0.0   \n",
       "...           ...     ...                 ...                 ...   \n",
       "1920            0       1                 0.0                 0.0   \n",
       "1921            0       1                 0.0                 0.0   \n",
       "1922            0       1                 0.0                 0.0   \n",
       "1923            0       1                 0.0                 0.0   \n",
       "1924            0       1                 0.0                 0.0   \n",
       "\n",
       "      DISEASE GROUPING 3  DISEASE GROUPING 4  DISEASE GROUPING 5  \\\n",
       "0                    0.0                 0.0                 1.0   \n",
       "1                    0.0                 0.0                 1.0   \n",
       "2                    0.0                 0.0                 1.0   \n",
       "3                    0.0                 0.0                 1.0   \n",
       "10                   0.0                 0.0                 0.0   \n",
       "...                  ...                 ...                 ...   \n",
       "1920                 0.0                 0.0                 0.0   \n",
       "1921                 0.0                 0.0                 0.0   \n",
       "1922                 0.0                 0.0                 0.0   \n",
       "1923                 0.0                 0.0                 0.0   \n",
       "1924                 1.0                 0.0                 0.0   \n",
       "\n",
       "      DISEASE GROUPING 6  HTN  IMMUNOCOMPROMISED  ...   10th   20th   30th  \\\n",
       "0                    1.0  0.0                0.0  ...  False  False  False   \n",
       "1                    1.0  0.0                0.0  ...  False  False  False   \n",
       "2                    1.0  0.0                0.0  ...  False  False  False   \n",
       "3                    1.0  0.0                0.0  ...  False  False  False   \n",
       "10                   0.0  0.0                0.0  ...   True  False  False   \n",
       "...                  ...  ...                ...  ...    ...    ...    ...   \n",
       "1920                 0.0  0.0                0.0  ...  False  False  False   \n",
       "1921                 0.0  0.0                0.0  ...  False  False  False   \n",
       "1922                 0.0  0.0                0.0  ...  False  False  False   \n",
       "1923                 0.0  0.0                0.0  ...  False  False  False   \n",
       "1924                 0.0  0.0                0.0  ...  False  False  False   \n",
       "\n",
       "       40th   50th   60th   70th   80th   90th  Above 90th  \n",
       "0     False  False   True  False  False  False       False  \n",
       "1     False  False   True  False  False  False       False  \n",
       "2     False  False   True  False  False  False       False  \n",
       "3     False  False   True  False  False  False       False  \n",
       "10    False  False  False  False  False  False       False  \n",
       "...     ...    ...    ...    ...    ...    ...         ...  \n",
       "1920  False   True  False  False  False  False       False  \n",
       "1921  False   True  False  False  False  False       False  \n",
       "1922  False   True  False  False  False  False       False  \n",
       "1923  False   True  False  False  False  False       False  \n",
       "1924  False   True  False  False  False  False       False  \n",
       "\n",
       "[1405 rows x 208 columns]>"
      ]
     },
     "execution_count": 41,
     "metadata": {},
     "output_type": "execute_result"
    }
   ],
   "source": [
    "model_data.info"
   ]
  },
  {
   "cell_type": "code",
   "execution_count": 56,
   "metadata": {},
   "outputs": [
    {
     "data": {
      "text/plain": [
       "['AGE_ABOVE65',\n",
       " 'GENDER',\n",
       " 'DISEASE GROUPING 1',\n",
       " 'DISEASE GROUPING 2',\n",
       " 'DISEASE GROUPING 3',\n",
       " 'DISEASE GROUPING 4',\n",
       " 'DISEASE GROUPING 5',\n",
       " 'DISEASE GROUPING 6',\n",
       " 'HTN',\n",
       " 'IMMUNOCOMPROMISED',\n",
       " 'OTHER',\n",
       " 'ALBUMIN_MEDIAN',\n",
       " 'ALBUMIN_MEAN',\n",
       " 'ALBUMIN_MIN',\n",
       " 'ALBUMIN_MAX',\n",
       " 'BE_ARTERIAL_MEDIAN',\n",
       " 'BE_ARTERIAL_MEAN',\n",
       " 'BE_ARTERIAL_MIN',\n",
       " 'BE_ARTERIAL_MAX',\n",
       " 'BE_VENOUS_MEDIAN',\n",
       " 'BE_VENOUS_MEAN',\n",
       " 'BE_VENOUS_MIN',\n",
       " 'BE_VENOUS_MAX',\n",
       " 'BIC_ARTERIAL_MEDIAN',\n",
       " 'BIC_ARTERIAL_MEAN',\n",
       " 'BIC_ARTERIAL_MIN',\n",
       " 'BIC_ARTERIAL_MAX',\n",
       " 'BIC_VENOUS_MEDIAN',\n",
       " 'BIC_VENOUS_MEAN',\n",
       " 'BIC_VENOUS_MIN',\n",
       " 'BIC_VENOUS_MAX',\n",
       " 'BILLIRUBIN_MEDIAN',\n",
       " 'BILLIRUBIN_MEAN',\n",
       " 'BILLIRUBIN_MIN',\n",
       " 'BILLIRUBIN_MAX',\n",
       " 'BLAST_MEDIAN',\n",
       " 'BLAST_MEAN',\n",
       " 'BLAST_MIN',\n",
       " 'BLAST_MAX',\n",
       " 'CALCIUM_MEDIAN',\n",
       " 'CALCIUM_MEAN',\n",
       " 'CALCIUM_MIN',\n",
       " 'CALCIUM_MAX',\n",
       " 'CREATININ_MEDIAN',\n",
       " 'CREATININ_MEAN',\n",
       " 'CREATININ_MIN',\n",
       " 'CREATININ_MAX',\n",
       " 'FFA_MEDIAN',\n",
       " 'FFA_MEAN',\n",
       " 'FFA_MIN',\n",
       " 'FFA_MAX',\n",
       " 'GGT_MEDIAN',\n",
       " 'GGT_MEAN',\n",
       " 'GGT_MIN',\n",
       " 'GGT_MAX',\n",
       " 'GLUCOSE_MEDIAN',\n",
       " 'GLUCOSE_MEAN',\n",
       " 'GLUCOSE_MIN',\n",
       " 'GLUCOSE_MAX',\n",
       " 'HEMATOCRITE_MEDIAN',\n",
       " 'HEMATOCRITE_MEAN',\n",
       " 'HEMATOCRITE_MIN',\n",
       " 'HEMATOCRITE_MAX',\n",
       " 'HEMOGLOBIN_MEDIAN',\n",
       " 'HEMOGLOBIN_MEAN',\n",
       " 'HEMOGLOBIN_MIN',\n",
       " 'HEMOGLOBIN_MAX',\n",
       " 'INR_MEDIAN',\n",
       " 'INR_MEAN',\n",
       " 'INR_MIN',\n",
       " 'INR_MAX',\n",
       " 'LACTATE_MEDIAN',\n",
       " 'LACTATE_MEAN',\n",
       " 'LACTATE_MIN',\n",
       " 'LACTATE_MAX',\n",
       " 'LEUKOCYTES_MEDIAN',\n",
       " 'LEUKOCYTES_MEAN',\n",
       " 'LEUKOCYTES_MIN',\n",
       " 'LEUKOCYTES_MAX',\n",
       " 'LINFOCITOS_MEDIAN',\n",
       " 'LINFOCITOS_MEAN',\n",
       " 'LINFOCITOS_MIN',\n",
       " 'LINFOCITOS_MAX',\n",
       " 'NEUTROPHILES_MEDIAN',\n",
       " 'NEUTROPHILES_MEAN',\n",
       " 'NEUTROPHILES_MIN',\n",
       " 'NEUTROPHILES_MAX',\n",
       " 'P02_ARTERIAL_MEDIAN',\n",
       " 'P02_ARTERIAL_MEAN',\n",
       " 'P02_ARTERIAL_MIN',\n",
       " 'P02_ARTERIAL_MAX',\n",
       " 'P02_VENOUS_MEDIAN',\n",
       " 'P02_VENOUS_MEAN',\n",
       " 'P02_VENOUS_MIN',\n",
       " 'P02_VENOUS_MAX',\n",
       " 'PC02_ARTERIAL_MEDIAN',\n",
       " 'PC02_ARTERIAL_MEAN',\n",
       " 'PC02_ARTERIAL_MIN',\n",
       " 'PC02_ARTERIAL_MAX',\n",
       " 'PC02_VENOUS_MEDIAN',\n",
       " 'PC02_VENOUS_MEAN',\n",
       " 'PC02_VENOUS_MIN',\n",
       " 'PC02_VENOUS_MAX',\n",
       " 'PCR_MEDIAN',\n",
       " 'PCR_MEAN',\n",
       " 'PCR_MIN',\n",
       " 'PCR_MAX',\n",
       " 'PH_ARTERIAL_MEDIAN',\n",
       " 'PH_ARTERIAL_MEAN',\n",
       " 'PH_ARTERIAL_MIN',\n",
       " 'PH_ARTERIAL_MAX',\n",
       " 'PH_VENOUS_MEDIAN',\n",
       " 'PH_VENOUS_MEAN',\n",
       " 'PH_VENOUS_MIN',\n",
       " 'PH_VENOUS_MAX',\n",
       " 'PLATELETS_MEDIAN',\n",
       " 'PLATELETS_MEAN',\n",
       " 'PLATELETS_MIN',\n",
       " 'PLATELETS_MAX',\n",
       " 'POTASSIUM_MEDIAN',\n",
       " 'POTASSIUM_MEAN',\n",
       " 'POTASSIUM_MIN',\n",
       " 'POTASSIUM_MAX',\n",
       " 'SAT02_ARTERIAL_MEDIAN',\n",
       " 'SAT02_ARTERIAL_MEAN',\n",
       " 'SAT02_ARTERIAL_MIN',\n",
       " 'SAT02_ARTERIAL_MAX',\n",
       " 'SAT02_VENOUS_MEDIAN',\n",
       " 'SAT02_VENOUS_MEAN',\n",
       " 'SAT02_VENOUS_MIN',\n",
       " 'SAT02_VENOUS_MAX',\n",
       " 'SODIUM_MEDIAN',\n",
       " 'SODIUM_MEAN',\n",
       " 'SODIUM_MIN',\n",
       " 'SODIUM_MAX',\n",
       " 'TGO_MEDIAN',\n",
       " 'TGO_MEAN',\n",
       " 'TGO_MIN',\n",
       " 'TGO_MAX',\n",
       " 'TGP_MEDIAN',\n",
       " 'TGP_MEAN',\n",
       " 'TGP_MIN',\n",
       " 'TGP_MAX',\n",
       " 'TTPA_MEDIAN',\n",
       " 'TTPA_MEAN',\n",
       " 'TTPA_MIN',\n",
       " 'TTPA_MAX',\n",
       " 'UREA_MEDIAN',\n",
       " 'UREA_MEAN',\n",
       " 'UREA_MIN',\n",
       " 'UREA_MAX',\n",
       " 'DIMER_MEDIAN',\n",
       " 'DIMER_MEAN',\n",
       " 'DIMER_MIN',\n",
       " 'DIMER_MAX',\n",
       " 'BLOODPRESSURE_DIASTOLIC_MEAN',\n",
       " 'BLOODPRESSURE_SISTOLIC_MEAN',\n",
       " 'HEART_RATE_MEAN',\n",
       " 'RESPIRATORY_RATE_MEAN',\n",
       " 'TEMPERATURE_MEAN',\n",
       " 'OXYGEN_SATURATION_MEAN',\n",
       " 'BLOODPRESSURE_DIASTOLIC_MEDIAN',\n",
       " 'BLOODPRESSURE_SISTOLIC_MEDIAN',\n",
       " 'HEART_RATE_MEDIAN',\n",
       " 'RESPIRATORY_RATE_MEDIAN',\n",
       " 'TEMPERATURE_MEDIAN',\n",
       " 'OXYGEN_SATURATION_MEDIAN',\n",
       " 'BLOODPRESSURE_DIASTOLIC_MIN',\n",
       " 'BLOODPRESSURE_SISTOLIC_MIN',\n",
       " 'HEART_RATE_MIN',\n",
       " 'RESPIRATORY_RATE_MIN',\n",
       " 'TEMPERATURE_MIN',\n",
       " 'OXYGEN_SATURATION_MIN',\n",
       " 'BLOODPRESSURE_DIASTOLIC_MAX',\n",
       " 'BLOODPRESSURE_SISTOLIC_MAX',\n",
       " 'HEART_RATE_MAX',\n",
       " 'RESPIRATORY_RATE_MAX',\n",
       " 'TEMPERATURE_MAX',\n",
       " 'OXYGEN_SATURATION_MAX',\n",
       " 'BLOODPRESSURE_DIASTOLIC_DIFF',\n",
       " 'BLOODPRESSURE_SISTOLIC_DIFF',\n",
       " 'HEART_RATE_DIFF',\n",
       " 'RESPIRATORY_RATE_DIFF',\n",
       " 'TEMPERATURE_DIFF',\n",
       " 'OXYGEN_SATURATION_DIFF',\n",
       " 'BLOODPRESSURE_DIASTOLIC_DIFF_REL',\n",
       " 'BLOODPRESSURE_SISTOLIC_DIFF_REL',\n",
       " 'HEART_RATE_DIFF_REL',\n",
       " 'RESPIRATORY_RATE_DIFF_REL',\n",
       " 'TEMPERATURE_DIFF_REL',\n",
       " 'OXYGEN_SATURATION_DIFF_REL',\n",
       " 'Missingness',\n",
       " 'ICU_Admitted',\n",
       " '0-2',\n",
       " '2-4',\n",
       " '4-6',\n",
       " '6-12',\n",
       " 'ABOVE_12',\n",
       " '10th',\n",
       " '20th',\n",
       " '30th',\n",
       " '40th',\n",
       " '50th',\n",
       " '60th',\n",
       " '70th',\n",
       " '80th',\n",
       " '90th',\n",
       " 'Above 90th']"
      ]
     },
     "execution_count": 56,
     "metadata": {},
     "output_type": "execute_result"
    }
   ],
   "source": [
    "list(model_data.columns)\n"
   ]
  },
  {
   "cell_type": "code",
   "execution_count": 85,
   "metadata": {},
   "outputs": [],
   "source": [
    "# List of columns to keep\n",
    "columns_to_keep = [\n",
    "    'AGE_ABOVE65', 'GENDER', 'IMMUNOCOMPROMISED',\n",
    "    'HEART_RATE_MEAN', 'RESPIRATORY_RATE_MEAN', 'TEMPERATURE_MEAN', 'OXYGEN_SATURATION_MEAN',\n",
    "     'HEART_RATE_MEDIAN',\n",
    "    'RESPIRATORY_RATE_MEDIAN', 'TEMPERATURE_MEDIAN', 'OXYGEN_SATURATION_MEDIAN',\n",
    "    'HEART_RATE_MIN',\n",
    "    'RESPIRATORY_RATE_MIN', 'TEMPERATURE_MIN', 'OXYGEN_SATURATION_MIN',\n",
    "     'HEART_RATE_MAX', 'RESPIRATORY_RATE_MAX', 'TEMPERATURE_MAX',\n",
    "    'OXYGEN_SATURATION_MAX',\n",
    "    'HEART_RATE_DIFF', 'RESPIRATORY_RATE_DIFF', 'TEMPERATURE_DIFF', 'OXYGEN_SATURATION_DIFF',\n",
    "     'HEART_RATE_DIFF_REL',\n",
    "    'RESPIRATORY_RATE_DIFF_REL', 'TEMPERATURE_DIFF_REL', 'OXYGEN_SATURATION_DIFF_REL',\n",
    "   'ICU_Admitted']\n",
    "\n",
    "#, '0-2', '2-4', '4-6', '6-12', 'ABOVE_12', '10th', '20th', '30th',\n",
    "    #'40th', '50th', '60th', '70th', '80th', '90th', 'Above 90th'\n",
    "\n",
    "# Keep only the specified columns\n",
    "model_data = model_data[columns_to_keep]"
   ]
  },
  {
   "cell_type": "code",
   "execution_count": 86,
   "metadata": {},
   "outputs": [
    {
     "data": {
      "text/html": [
       "<div>\n",
       "<style scoped>\n",
       "    .dataframe tbody tr th:only-of-type {\n",
       "        vertical-align: middle;\n",
       "    }\n",
       "\n",
       "    .dataframe tbody tr th {\n",
       "        vertical-align: top;\n",
       "    }\n",
       "\n",
       "    .dataframe thead th {\n",
       "        text-align: right;\n",
       "    }\n",
       "</style>\n",
       "<table border=\"1\" class=\"dataframe\">\n",
       "  <thead>\n",
       "    <tr style=\"text-align: right;\">\n",
       "      <th></th>\n",
       "      <th>AGE_ABOVE65</th>\n",
       "      <th>GENDER</th>\n",
       "      <th>IMMUNOCOMPROMISED</th>\n",
       "      <th>HEART_RATE_MEAN</th>\n",
       "      <th>RESPIRATORY_RATE_MEAN</th>\n",
       "      <th>TEMPERATURE_MEAN</th>\n",
       "      <th>OXYGEN_SATURATION_MEAN</th>\n",
       "      <th>HEART_RATE_MEDIAN</th>\n",
       "      <th>RESPIRATORY_RATE_MEDIAN</th>\n",
       "      <th>TEMPERATURE_MEDIAN</th>\n",
       "      <th>...</th>\n",
       "      <th>OXYGEN_SATURATION_MAX</th>\n",
       "      <th>HEART_RATE_DIFF</th>\n",
       "      <th>RESPIRATORY_RATE_DIFF</th>\n",
       "      <th>TEMPERATURE_DIFF</th>\n",
       "      <th>OXYGEN_SATURATION_DIFF</th>\n",
       "      <th>HEART_RATE_DIFF_REL</th>\n",
       "      <th>RESPIRATORY_RATE_DIFF_REL</th>\n",
       "      <th>TEMPERATURE_DIFF_REL</th>\n",
       "      <th>OXYGEN_SATURATION_DIFF_REL</th>\n",
       "      <th>ICU_Admitted</th>\n",
       "    </tr>\n",
       "  </thead>\n",
       "  <tbody>\n",
       "    <tr>\n",
       "      <th>0</th>\n",
       "      <td>1</td>\n",
       "      <td>0</td>\n",
       "      <td>0.0</td>\n",
       "      <td>-0.283019</td>\n",
       "      <td>-0.593220</td>\n",
       "      <td>-0.285714</td>\n",
       "      <td>0.736842</td>\n",
       "      <td>-0.283019</td>\n",
       "      <td>-0.586207</td>\n",
       "      <td>-0.285714</td>\n",
       "      <td>...</td>\n",
       "      <td>0.736842</td>\n",
       "      <td>-1.000000</td>\n",
       "      <td>-1.000000</td>\n",
       "      <td>-1.0</td>\n",
       "      <td>-1.000000</td>\n",
       "      <td>-1.000000</td>\n",
       "      <td>-1.000000</td>\n",
       "      <td>-1.0</td>\n",
       "      <td>-1.000000</td>\n",
       "      <td>1</td>\n",
       "    </tr>\n",
       "    <tr>\n",
       "      <th>1</th>\n",
       "      <td>1</td>\n",
       "      <td>0</td>\n",
       "      <td>0.0</td>\n",
       "      <td>-0.132075</td>\n",
       "      <td>-0.593220</td>\n",
       "      <td>0.535714</td>\n",
       "      <td>0.578947</td>\n",
       "      <td>-0.132075</td>\n",
       "      <td>-0.586207</td>\n",
       "      <td>0.535714</td>\n",
       "      <td>...</td>\n",
       "      <td>0.578947</td>\n",
       "      <td>-1.000000</td>\n",
       "      <td>-1.000000</td>\n",
       "      <td>-1.0</td>\n",
       "      <td>-1.000000</td>\n",
       "      <td>-1.000000</td>\n",
       "      <td>-1.000000</td>\n",
       "      <td>-1.0</td>\n",
       "      <td>-1.000000</td>\n",
       "      <td>1</td>\n",
       "    </tr>\n",
       "    <tr>\n",
       "      <th>2</th>\n",
       "      <td>1</td>\n",
       "      <td>0</td>\n",
       "      <td>0.0</td>\n",
       "      <td>-0.132075</td>\n",
       "      <td>-0.593220</td>\n",
       "      <td>0.535714</td>\n",
       "      <td>0.578947</td>\n",
       "      <td>-0.132075</td>\n",
       "      <td>-0.586207</td>\n",
       "      <td>0.535714</td>\n",
       "      <td>...</td>\n",
       "      <td>0.578947</td>\n",
       "      <td>-1.000000</td>\n",
       "      <td>-1.000000</td>\n",
       "      <td>-1.0</td>\n",
       "      <td>-1.000000</td>\n",
       "      <td>-1.000000</td>\n",
       "      <td>-1.000000</td>\n",
       "      <td>-1.0</td>\n",
       "      <td>-1.000000</td>\n",
       "      <td>1</td>\n",
       "    </tr>\n",
       "    <tr>\n",
       "      <th>3</th>\n",
       "      <td>1</td>\n",
       "      <td>0</td>\n",
       "      <td>0.0</td>\n",
       "      <td>-0.132075</td>\n",
       "      <td>-0.593220</td>\n",
       "      <td>-0.107143</td>\n",
       "      <td>0.736842</td>\n",
       "      <td>-0.132075</td>\n",
       "      <td>-0.586207</td>\n",
       "      <td>-0.107143</td>\n",
       "      <td>...</td>\n",
       "      <td>0.736842</td>\n",
       "      <td>-1.000000</td>\n",
       "      <td>-1.000000</td>\n",
       "      <td>-1.0</td>\n",
       "      <td>-1.000000</td>\n",
       "      <td>-1.000000</td>\n",
       "      <td>-1.000000</td>\n",
       "      <td>-1.0</td>\n",
       "      <td>-1.000000</td>\n",
       "      <td>1</td>\n",
       "    </tr>\n",
       "    <tr>\n",
       "      <th>10</th>\n",
       "      <td>0</td>\n",
       "      <td>0</td>\n",
       "      <td>0.0</td>\n",
       "      <td>-0.048218</td>\n",
       "      <td>-0.645951</td>\n",
       "      <td>0.357143</td>\n",
       "      <td>0.935673</td>\n",
       "      <td>-0.056604</td>\n",
       "      <td>-0.517241</td>\n",
       "      <td>0.357143</td>\n",
       "      <td>...</td>\n",
       "      <td>1.000000</td>\n",
       "      <td>-0.603053</td>\n",
       "      <td>-0.764706</td>\n",
       "      <td>-1.0</td>\n",
       "      <td>-0.959596</td>\n",
       "      <td>-0.747001</td>\n",
       "      <td>-0.756272</td>\n",
       "      <td>-1.0</td>\n",
       "      <td>-0.961262</td>\n",
       "      <td>1</td>\n",
       "    </tr>\n",
       "  </tbody>\n",
       "</table>\n",
       "<p>5 rows × 28 columns</p>\n",
       "</div>"
      ],
      "text/plain": [
       "    AGE_ABOVE65  GENDER  IMMUNOCOMPROMISED  HEART_RATE_MEAN  \\\n",
       "0             1       0                0.0        -0.283019   \n",
       "1             1       0                0.0        -0.132075   \n",
       "2             1       0                0.0        -0.132075   \n",
       "3             1       0                0.0        -0.132075   \n",
       "10            0       0                0.0        -0.048218   \n",
       "\n",
       "    RESPIRATORY_RATE_MEAN  TEMPERATURE_MEAN  OXYGEN_SATURATION_MEAN  \\\n",
       "0               -0.593220         -0.285714                0.736842   \n",
       "1               -0.593220          0.535714                0.578947   \n",
       "2               -0.593220          0.535714                0.578947   \n",
       "3               -0.593220         -0.107143                0.736842   \n",
       "10              -0.645951          0.357143                0.935673   \n",
       "\n",
       "    HEART_RATE_MEDIAN  RESPIRATORY_RATE_MEDIAN  TEMPERATURE_MEDIAN  ...  \\\n",
       "0           -0.283019                -0.586207           -0.285714  ...   \n",
       "1           -0.132075                -0.586207            0.535714  ...   \n",
       "2           -0.132075                -0.586207            0.535714  ...   \n",
       "3           -0.132075                -0.586207           -0.107143  ...   \n",
       "10          -0.056604                -0.517241            0.357143  ...   \n",
       "\n",
       "    OXYGEN_SATURATION_MAX  HEART_RATE_DIFF  RESPIRATORY_RATE_DIFF  \\\n",
       "0                0.736842        -1.000000              -1.000000   \n",
       "1                0.578947        -1.000000              -1.000000   \n",
       "2                0.578947        -1.000000              -1.000000   \n",
       "3                0.736842        -1.000000              -1.000000   \n",
       "10               1.000000        -0.603053              -0.764706   \n",
       "\n",
       "    TEMPERATURE_DIFF  OXYGEN_SATURATION_DIFF  HEART_RATE_DIFF_REL  \\\n",
       "0               -1.0               -1.000000            -1.000000   \n",
       "1               -1.0               -1.000000            -1.000000   \n",
       "2               -1.0               -1.000000            -1.000000   \n",
       "3               -1.0               -1.000000            -1.000000   \n",
       "10              -1.0               -0.959596            -0.747001   \n",
       "\n",
       "    RESPIRATORY_RATE_DIFF_REL  TEMPERATURE_DIFF_REL  \\\n",
       "0                   -1.000000                  -1.0   \n",
       "1                   -1.000000                  -1.0   \n",
       "2                   -1.000000                  -1.0   \n",
       "3                   -1.000000                  -1.0   \n",
       "10                  -0.756272                  -1.0   \n",
       "\n",
       "    OXYGEN_SATURATION_DIFF_REL  ICU_Admitted  \n",
       "0                    -1.000000             1  \n",
       "1                    -1.000000             1  \n",
       "2                    -1.000000             1  \n",
       "3                    -1.000000             1  \n",
       "10                   -0.961262             1  \n",
       "\n",
       "[5 rows x 28 columns]"
      ]
     },
     "execution_count": 86,
     "metadata": {},
     "output_type": "execute_result"
    }
   ],
   "source": [
    "model_data.head()"
   ]
  },
  {
   "cell_type": "code",
   "execution_count": 87,
   "metadata": {},
   "outputs": [
    {
     "data": {
      "text/plain": [
       "<bound method DataFrame.info of       AGE_ABOVE65  GENDER  IMMUNOCOMPROMISED  HEART_RATE_MEAN  \\\n",
       "0               1       0                0.0        -0.283019   \n",
       "1               1       0                0.0        -0.132075   \n",
       "2               1       0                0.0        -0.132075   \n",
       "3               1       0                0.0        -0.132075   \n",
       "10              0       0                0.0        -0.048218   \n",
       "...           ...     ...                ...              ...   \n",
       "1920            0       1                0.0         0.056604   \n",
       "1921            0       1                0.0        -0.113208   \n",
       "1922            0       1                0.0        -0.169811   \n",
       "1923            0       1                0.0        -0.188679   \n",
       "1924            0       1                0.0        -0.107704   \n",
       "\n",
       "      RESPIRATORY_RATE_MEAN  TEMPERATURE_MEAN  OXYGEN_SATURATION_MEAN  \\\n",
       "0                 -0.593220         -0.285714                0.736842   \n",
       "1                 -0.593220          0.535714                0.578947   \n",
       "2                 -0.593220          0.535714                0.578947   \n",
       "3                 -0.593220         -0.107143                0.736842   \n",
       "10                -0.645951          0.357143                0.935673   \n",
       "...                     ...               ...                     ...   \n",
       "1920              -0.525424          0.535714                0.789474   \n",
       "1921              -0.593220          0.142857                0.578947   \n",
       "1922              -0.593220          0.142857                0.736842   \n",
       "1923              -0.661017          0.285714                0.473684   \n",
       "1924              -0.610169          0.050595                0.662281   \n",
       "\n",
       "      HEART_RATE_MEDIAN  RESPIRATORY_RATE_MEDIAN  TEMPERATURE_MEDIAN  ...  \\\n",
       "0             -0.283019                -0.586207           -0.285714  ...   \n",
       "1             -0.132075                -0.586207            0.535714  ...   \n",
       "2             -0.132075                -0.586207            0.535714  ...   \n",
       "3             -0.132075                -0.586207           -0.107143  ...   \n",
       "10            -0.056604                -0.517241            0.357143  ...   \n",
       "...                 ...                      ...                 ...  ...   \n",
       "1920           0.056604                -0.517241            0.535714  ...   \n",
       "1921          -0.113208                -0.586207            0.142857  ...   \n",
       "1922          -0.169811                -0.586207            0.142857  ...   \n",
       "1923          -0.188679                -0.655172            0.285714  ...   \n",
       "1924          -0.075472                -0.586207            0.071429  ...   \n",
       "\n",
       "      OXYGEN_SATURATION_MAX  HEART_RATE_DIFF  RESPIRATORY_RATE_DIFF  \\\n",
       "0                  0.736842        -1.000000              -1.000000   \n",
       "1                  0.578947        -1.000000              -1.000000   \n",
       "2                  0.578947        -1.000000              -1.000000   \n",
       "3                  0.736842        -1.000000              -1.000000   \n",
       "10                 1.000000        -0.603053              -0.764706   \n",
       "...                     ...              ...                    ...   \n",
       "1920               0.789474        -1.000000              -1.000000   \n",
       "1921               0.578947        -1.000000              -1.000000   \n",
       "1922               0.736842        -1.000000              -1.000000   \n",
       "1923               0.473684        -1.000000              -1.000000   \n",
       "1924               0.842105        -0.633588              -0.647059   \n",
       "\n",
       "      TEMPERATURE_DIFF  OXYGEN_SATURATION_DIFF  HEART_RATE_DIFF_REL  \\\n",
       "0            -1.000000               -1.000000            -1.000000   \n",
       "1            -1.000000               -1.000000            -1.000000   \n",
       "2            -1.000000               -1.000000            -1.000000   \n",
       "3            -1.000000               -1.000000            -1.000000   \n",
       "10           -1.000000               -0.959596            -0.747001   \n",
       "...                ...                     ...                  ...   \n",
       "1920         -1.000000               -1.000000            -1.000000   \n",
       "1921         -1.000000               -1.000000            -1.000000   \n",
       "1922         -1.000000               -1.000000            -1.000000   \n",
       "1923         -1.000000               -1.000000            -1.000000   \n",
       "1924         -0.547619               -0.838384            -0.763868   \n",
       "\n",
       "      RESPIRATORY_RATE_DIFF_REL  TEMPERATURE_DIFF_REL  \\\n",
       "0                     -1.000000             -1.000000   \n",
       "1                     -1.000000             -1.000000   \n",
       "2                     -1.000000             -1.000000   \n",
       "3                     -1.000000             -1.000000   \n",
       "10                    -0.756272             -1.000000   \n",
       "...                         ...                   ...   \n",
       "1920                  -1.000000             -1.000000   \n",
       "1921                  -1.000000             -1.000000   \n",
       "1922                  -1.000000             -1.000000   \n",
       "1923                  -1.000000             -1.000000   \n",
       "1924                  -0.612903             -0.551337   \n",
       "\n",
       "      OXYGEN_SATURATION_DIFF_REL  ICU_Admitted  \n",
       "0                      -1.000000             1  \n",
       "1                      -1.000000             1  \n",
       "2                      -1.000000             1  \n",
       "3                      -1.000000             1  \n",
       "10                     -0.961262             1  \n",
       "...                          ...           ...  \n",
       "1920                   -1.000000             0  \n",
       "1921                   -1.000000             0  \n",
       "1922                   -1.000000             0  \n",
       "1923                   -1.000000             0  \n",
       "1924                   -0.835052             0  \n",
       "\n",
       "[1405 rows x 28 columns]>"
      ]
     },
     "execution_count": 87,
     "metadata": {},
     "output_type": "execute_result"
    }
   ],
   "source": [
    "model_data.info"
   ]
  },
  {
   "cell_type": "code",
   "execution_count": 60,
   "metadata": {},
   "outputs": [
    {
     "data": {
      "text/plain": [
       "'\\n# Convert WINDOW, AGE_PERCETIL  columns categorical\\nmodel_data[\\'AGE_PERCENTIL\\'] = model_data[\\'AGE_PERCENTIL\\'].astype(\"category\")\\nmodel_data[\\'WINDOW\\'] = model_data[\\'WINDOW\\'].astype(\"category\")\\n'"
      ]
     },
     "execution_count": 60,
     "metadata": {},
     "output_type": "execute_result"
    }
   ],
   "source": [
    "\n",
    "\"\"\"\n",
    "# Convert WINDOW, AGE_PERCETIL  columns categorical\n",
    "model_data['AGE_PERCENTIL'] = model_data['AGE_PERCENTIL'].astype(\"category\")\n",
    "model_data['WINDOW'] = model_data['WINDOW'].astype(\"category\")\n",
    "\"\"\""
   ]
  },
  {
   "cell_type": "code",
   "execution_count": 61,
   "metadata": {},
   "outputs": [
    {
     "data": {
      "text/plain": [
       "\"\\n#Create windows dummies dataframe\\nwindow_dummy = pd.get_dummies(model_data['WINDOW'])\\n#concat this to main dataframe\\nmodel_data = pd.concat([model_data, window_dummy], axis =1)\\n# Remove the WINDOW column \\nmodel_data = model_data.drop(columns=['WINDOW'])\\n#create AGE_PERCENTIL dummy dataframe\\nAGE_PERCENTIL_dummy = pd.get_dummies(model_data['AGE_PERCENTIL'])\\n#concat this to main dataframe\\nmodel_data = pd.concat([model_data, AGE_PERCENTIL_dummy], axis =1)\\n# Remove the AGE_PERCENTIL column \\nmodel_data = model_data.drop(columns=['AGE_PERCENTIL'])\\nmodel_data\\n\""
      ]
     },
     "execution_count": 61,
     "metadata": {},
     "output_type": "execute_result"
    }
   ],
   "source": [
    "\"\"\"\n",
    "#Create windows dummies dataframe\n",
    "window_dummy = pd.get_dummies(model_data['WINDOW'])\n",
    "#concat this to main dataframe\n",
    "model_data = pd.concat([model_data, window_dummy], axis =1)\n",
    "# Remove the WINDOW column \n",
    "model_data = model_data.drop(columns=['WINDOW'])\n",
    "#create AGE_PERCENTIL dummy dataframe\n",
    "AGE_PERCENTIL_dummy = pd.get_dummies(model_data['AGE_PERCENTIL'])\n",
    "#concat this to main dataframe\n",
    "model_data = pd.concat([model_data, AGE_PERCENTIL_dummy], axis =1)\n",
    "# Remove the AGE_PERCENTIL column \n",
    "model_data = model_data.drop(columns=['AGE_PERCENTIL'])\n",
    "model_data\n",
    "\"\"\"\n"
   ]
  },
  {
   "cell_type": "code",
   "execution_count": 91,
   "metadata": {},
   "outputs": [],
   "source": [
    "from sklearn.model_selection import train_test_split"
   ]
  },
  {
   "cell_type": "code",
   "execution_count": 92,
   "metadata": {},
   "outputs": [
    {
     "name": "stdout",
     "output_type": "stream",
     "text": [
      "Accuracy: 89.77%\n"
     ]
    }
   ],
   "source": [
    "\n",
    "#Independent Vector\n",
    "#All columns Except the 'ICU_Admitted' get an array of this\n",
    "X = model_data.drop('ICU_Admitted', axis = 'columns', inplace = False).values\n",
    "#Dependent Vector Target column values as an array\n",
    "y = model_data['ICU_Admitted'].values\n",
    "\n",
    "X_train, X_test, y_train, y_test = train_test_split(X, y, test_size = 0.25, stratify=y)\n",
    "\n",
    "# Import xgboost classifier\n",
    "from xgboost import XGBClassifier\n",
    "\n",
    "# fit model on training data\n",
    "model = XGBClassifier()\n",
    "model.fit(X_train, y_train)\n",
    "\n",
    "# make predictions for test data\n",
    "y_pred = model.predict(X_test)\n",
    "predictions = [round(value) for value in y_pred]\n",
    "\n",
    "from sklearn.metrics import accuracy_score\n",
    "\n",
    "# evaluate predictions\n",
    "accuracy = accuracy_score(y_test, predictions)\n",
    "print(\"Accuracy: %.2f%%\" % (accuracy * 100.0))"
   ]
  },
  {
   "cell_type": "markdown",
   "metadata": {},
   "source": [
    "with K-fold"
   ]
  },
  {
   "cell_type": "code",
   "execution_count": 93,
   "metadata": {},
   "outputs": [
    {
     "name": "stdout",
     "output_type": "stream",
     "text": [
      "K-Fold Cross-Validation Results:\n",
      "Accuracies: [0.6704545454545454, 0.7720797720797721, 0.6695156695156695, 0.717948717948718]\n",
      "AUCs: [0.7280132085855806, 0.7871407516580693, 0.67846352247605, 0.7651805453205601]\n",
      "Sensitivities: [0.40869565217391307, 0.6260869565217392, 0.391304347826087, 0.45217391304347826]\n",
      "Specificities: [0.7974683544303798, 0.8432203389830508, 0.8050847457627118, 0.847457627118644]\n"
     ]
    }
   ],
   "source": [
    "import numpy as np\n",
    "from sklearn.model_selection import StratifiedKFold\n",
    "from sklearn.metrics import accuracy_score, roc_auc_score, confusion_matrix\n",
    "from xgboost import XGBClassifier\n",
    "\n",
    "# Independent and Dependent Variables\n",
    "X = model_data.drop('ICU_Admitted', axis='columns').values\n",
    "y = model_data['ICU_Admitted'].values\n",
    "\n",
    "# Initialize the XGBoost classifier\n",
    "model = XGBClassifier()\n",
    "\n",
    "# Number of folds\n",
    "n_splits = 4\n",
    "kf = StratifiedKFold(n_splits=n_splits)\n",
    "\n",
    "# Lists to store metrics of each fold\n",
    "accuracies = []\n",
    "aucs = []\n",
    "sensitivities = []\n",
    "specificities = []\n",
    "\n",
    "for train_index, test_index in kf.split(X, y):\n",
    "    X_train, X_test = X[train_index], X[test_index]\n",
    "    y_train, y_test = y[train_index], y[test_index]\n",
    "\n",
    "    # Train the model\n",
    "    model.fit(X_train, y_train)\n",
    "\n",
    "    # Make predictions\n",
    "    y_pred = model.predict(X_test)\n",
    "    y_pred_prob = model.predict_proba(X_test)[:, 1]\n",
    "\n",
    "    # Calculate metrics\n",
    "    accuracy = accuracy_score(y_test, y_pred)\n",
    "    auc = roc_auc_score(y_test, y_pred_prob)\n",
    "    tn, fp, fn, tp = confusion_matrix(y_test, y_pred).ravel()\n",
    "    sensitivity = tp / (tp + fn)\n",
    "    specificity = tn / (tn + fp)\n",
    "\n",
    "    # Append metrics to lists\n",
    "    accuracies.append(accuracy)\n",
    "    aucs.append(auc)\n",
    "    sensitivities.append(sensitivity)\n",
    "    specificities.append(specificity)\n",
    "\n",
    "# Print the results\n",
    "print(\"K-Fold Cross-Validation Results:\")\n",
    "print(f\"Accuracies: {accuracies}\")\n",
    "print(f\"AUCs: {aucs}\")\n",
    "print(f\"Sensitivities: {sensitivities}\")\n",
    "print(f\"Specificities: {specificities}\")\n"
   ]
  },
  {
   "cell_type": "markdown",
   "metadata": {},
   "source": [
    "SGD part"
   ]
  },
  {
   "cell_type": "code",
   "execution_count": 94,
   "metadata": {},
   "outputs": [],
   "source": [
    "model_data_copy = model_data.copy()"
   ]
  },
  {
   "cell_type": "code",
   "execution_count": 95,
   "metadata": {},
   "outputs": [
    {
     "name": "stdout",
     "output_type": "stream",
     "text": [
      "(1405, 28)\n",
      "(1405, 28)\n"
     ]
    }
   ],
   "source": [
    "print(model_data.shape)\n",
    "print(model_data_copy.shape)"
   ]
  },
  {
   "cell_type": "code",
   "execution_count": 96,
   "metadata": {},
   "outputs": [
    {
     "data": {
      "text/plain": [
       "ICU_Admitted\n",
       "0    945\n",
       "1    460\n",
       "Name: count, dtype: int64"
      ]
     },
     "execution_count": 96,
     "metadata": {},
     "output_type": "execute_result"
    }
   ],
   "source": [
    "model_data['ICU_Admitted'].value_counts()\n"
   ]
  },
  {
   "cell_type": "code",
   "execution_count": 97,
   "metadata": {},
   "outputs": [
    {
     "data": {
      "text/plain": [
       "ICU_Admitted\n",
       "0    945\n",
       "1    460\n",
       "Name: count, dtype: int64"
      ]
     },
     "execution_count": 97,
     "metadata": {},
     "output_type": "execute_result"
    }
   ],
   "source": [
    "model_data_copy['ICU_Admitted'].value_counts()"
   ]
  },
  {
   "cell_type": "code",
   "execution_count": 98,
   "metadata": {},
   "outputs": [
    {
     "data": {
      "text/plain": [
       "GENDER\n",
       "0    858\n",
       "1    547\n",
       "Name: count, dtype: int64"
      ]
     },
     "execution_count": 98,
     "metadata": {},
     "output_type": "execute_result"
    }
   ],
   "source": [
    "model_data_copy['GENDER'].value_counts()"
   ]
  },
  {
   "cell_type": "code",
   "execution_count": 99,
   "metadata": {},
   "outputs": [
    {
     "data": {
      "text/html": [
       "<div>\n",
       "<style scoped>\n",
       "    .dataframe tbody tr th:only-of-type {\n",
       "        vertical-align: middle;\n",
       "    }\n",
       "\n",
       "    .dataframe tbody tr th {\n",
       "        vertical-align: top;\n",
       "    }\n",
       "\n",
       "    .dataframe thead th {\n",
       "        text-align: right;\n",
       "    }\n",
       "</style>\n",
       "<table border=\"1\" class=\"dataframe\">\n",
       "  <thead>\n",
       "    <tr style=\"text-align: right;\">\n",
       "      <th></th>\n",
       "      <th>AGE_ABOVE65</th>\n",
       "      <th>GENDER</th>\n",
       "      <th>IMMUNOCOMPROMISED</th>\n",
       "      <th>HEART_RATE_MEAN</th>\n",
       "      <th>RESPIRATORY_RATE_MEAN</th>\n",
       "      <th>TEMPERATURE_MEAN</th>\n",
       "      <th>OXYGEN_SATURATION_MEAN</th>\n",
       "      <th>HEART_RATE_MEDIAN</th>\n",
       "      <th>RESPIRATORY_RATE_MEDIAN</th>\n",
       "      <th>TEMPERATURE_MEDIAN</th>\n",
       "      <th>...</th>\n",
       "      <th>OXYGEN_SATURATION_MAX</th>\n",
       "      <th>HEART_RATE_DIFF</th>\n",
       "      <th>RESPIRATORY_RATE_DIFF</th>\n",
       "      <th>TEMPERATURE_DIFF</th>\n",
       "      <th>OXYGEN_SATURATION_DIFF</th>\n",
       "      <th>HEART_RATE_DIFF_REL</th>\n",
       "      <th>RESPIRATORY_RATE_DIFF_REL</th>\n",
       "      <th>TEMPERATURE_DIFF_REL</th>\n",
       "      <th>OXYGEN_SATURATION_DIFF_REL</th>\n",
       "      <th>ICU_Admitted</th>\n",
       "    </tr>\n",
       "  </thead>\n",
       "  <tbody>\n",
       "    <tr>\n",
       "      <th>count</th>\n",
       "      <td>1405.000000</td>\n",
       "      <td>1405.000000</td>\n",
       "      <td>1405.000000</td>\n",
       "      <td>1405.000000</td>\n",
       "      <td>1405.000000</td>\n",
       "      <td>1405.000000</td>\n",
       "      <td>1405.000000</td>\n",
       "      <td>1405.000000</td>\n",
       "      <td>1405.000000</td>\n",
       "      <td>1405.000000</td>\n",
       "      <td>...</td>\n",
       "      <td>1405.000000</td>\n",
       "      <td>1405.000000</td>\n",
       "      <td>1405.000000</td>\n",
       "      <td>1405.000000</td>\n",
       "      <td>1405.000000</td>\n",
       "      <td>1405.000000</td>\n",
       "      <td>1405.000000</td>\n",
       "      <td>1405.000000</td>\n",
       "      <td>1405.000000</td>\n",
       "      <td>1405.000000</td>\n",
       "    </tr>\n",
       "    <tr>\n",
       "      <th>mean</th>\n",
       "      <td>0.404982</td>\n",
       "      <td>0.389324</td>\n",
       "      <td>0.155160</td>\n",
       "      <td>-0.259990</td>\n",
       "      <td>-0.502206</td>\n",
       "      <td>0.088260</td>\n",
       "      <td>0.751424</td>\n",
       "      <td>-0.260162</td>\n",
       "      <td>-0.493435</td>\n",
       "      <td>0.084850</td>\n",
       "      <td>...</td>\n",
       "      <td>0.788406</td>\n",
       "      <td>-0.900312</td>\n",
       "      <td>-0.926774</td>\n",
       "      <td>-0.898797</td>\n",
       "      <td>-0.961631</td>\n",
       "      <td>-0.925962</td>\n",
       "      <td>-0.925570</td>\n",
       "      <td>-0.899514</td>\n",
       "      <td>-0.961759</td>\n",
       "      <td>0.327402</td>\n",
       "    </tr>\n",
       "    <tr>\n",
       "      <th>std</th>\n",
       "      <td>0.491063</td>\n",
       "      <td>0.487771</td>\n",
       "      <td>0.362186</td>\n",
       "      <td>0.242494</td>\n",
       "      <td>0.173586</td>\n",
       "      <td>0.247826</td>\n",
       "      <td>0.125765</td>\n",
       "      <td>0.248985</td>\n",
       "      <td>0.180394</td>\n",
       "      <td>0.253009</td>\n",
       "      <td>...</td>\n",
       "      <td>0.131118</td>\n",
       "      <td>0.202477</td>\n",
       "      <td>0.156767</td>\n",
       "      <td>0.193575</td>\n",
       "      <td>0.127351</td>\n",
       "      <td>0.148345</td>\n",
       "      <td>0.155916</td>\n",
       "      <td>0.192139</td>\n",
       "      <td>0.126679</td>\n",
       "      <td>0.469432</td>\n",
       "    </tr>\n",
       "    <tr>\n",
       "      <th>min</th>\n",
       "      <td>0.000000</td>\n",
       "      <td>0.000000</td>\n",
       "      <td>0.000000</td>\n",
       "      <td>-1.000000</td>\n",
       "      <td>-0.932203</td>\n",
       "      <td>-0.571429</td>\n",
       "      <td>-1.000000</td>\n",
       "      <td>-1.000000</td>\n",
       "      <td>-0.931034</td>\n",
       "      <td>-0.571429</td>\n",
       "      <td>...</td>\n",
       "      <td>-1.000000</td>\n",
       "      <td>-1.000000</td>\n",
       "      <td>-1.000000</td>\n",
       "      <td>-1.000000</td>\n",
       "      <td>-1.000000</td>\n",
       "      <td>-1.000000</td>\n",
       "      <td>-1.000000</td>\n",
       "      <td>-1.000000</td>\n",
       "      <td>-1.000000</td>\n",
       "      <td>0.000000</td>\n",
       "    </tr>\n",
       "    <tr>\n",
       "      <th>25%</th>\n",
       "      <td>0.000000</td>\n",
       "      <td>0.000000</td>\n",
       "      <td>0.000000</td>\n",
       "      <td>-0.415094</td>\n",
       "      <td>-0.593220</td>\n",
       "      <td>-0.107143</td>\n",
       "      <td>0.684211</td>\n",
       "      <td>-0.433962</td>\n",
       "      <td>-0.586207</td>\n",
       "      <td>-0.107143</td>\n",
       "      <td>...</td>\n",
       "      <td>0.736842</td>\n",
       "      <td>-1.000000</td>\n",
       "      <td>-1.000000</td>\n",
       "      <td>-1.000000</td>\n",
       "      <td>-1.000000</td>\n",
       "      <td>-1.000000</td>\n",
       "      <td>-1.000000</td>\n",
       "      <td>-1.000000</td>\n",
       "      <td>-1.000000</td>\n",
       "      <td>0.000000</td>\n",
       "    </tr>\n",
       "    <tr>\n",
       "      <th>50%</th>\n",
       "      <td>0.000000</td>\n",
       "      <td>0.000000</td>\n",
       "      <td>0.000000</td>\n",
       "      <td>-0.283019</td>\n",
       "      <td>-0.525424</td>\n",
       "      <td>0.071429</td>\n",
       "      <td>0.763158</td>\n",
       "      <td>-0.283019</td>\n",
       "      <td>-0.517241</td>\n",
       "      <td>0.035714</td>\n",
       "      <td>...</td>\n",
       "      <td>0.789474</td>\n",
       "      <td>-1.000000</td>\n",
       "      <td>-1.000000</td>\n",
       "      <td>-1.000000</td>\n",
       "      <td>-1.000000</td>\n",
       "      <td>-1.000000</td>\n",
       "      <td>-1.000000</td>\n",
       "      <td>-1.000000</td>\n",
       "      <td>-1.000000</td>\n",
       "      <td>0.000000</td>\n",
       "    </tr>\n",
       "    <tr>\n",
       "      <th>75%</th>\n",
       "      <td>1.000000</td>\n",
       "      <td>1.000000</td>\n",
       "      <td>0.000000</td>\n",
       "      <td>-0.132075</td>\n",
       "      <td>-0.457627</td>\n",
       "      <td>0.250000</td>\n",
       "      <td>0.842105</td>\n",
       "      <td>-0.132075</td>\n",
       "      <td>-0.448276</td>\n",
       "      <td>0.250000</td>\n",
       "      <td>...</td>\n",
       "      <td>0.894737</td>\n",
       "      <td>-0.923664</td>\n",
       "      <td>-0.941176</td>\n",
       "      <td>-0.880952</td>\n",
       "      <td>-0.959596</td>\n",
       "      <td>-0.943956</td>\n",
       "      <td>-0.935484</td>\n",
       "      <td>-0.882253</td>\n",
       "      <td>-0.959202</td>\n",
       "      <td>1.000000</td>\n",
       "    </tr>\n",
       "    <tr>\n",
       "      <th>max</th>\n",
       "      <td>1.000000</td>\n",
       "      <td>1.000000</td>\n",
       "      <td>1.000000</td>\n",
       "      <td>0.905660</td>\n",
       "      <td>0.830508</td>\n",
       "      <td>0.964286</td>\n",
       "      <td>1.000000</td>\n",
       "      <td>0.962264</td>\n",
       "      <td>0.862069</td>\n",
       "      <td>0.964286</td>\n",
       "      <td>...</td>\n",
       "      <td>1.000000</td>\n",
       "      <td>0.389313</td>\n",
       "      <td>0.411765</td>\n",
       "      <td>0.023810</td>\n",
       "      <td>0.919192</td>\n",
       "      <td>-0.069094</td>\n",
       "      <td>0.401434</td>\n",
       "      <td>0.029497</td>\n",
       "      <td>0.917526</td>\n",
       "      <td>1.000000</td>\n",
       "    </tr>\n",
       "  </tbody>\n",
       "</table>\n",
       "<p>8 rows × 28 columns</p>\n",
       "</div>"
      ],
      "text/plain": [
       "       AGE_ABOVE65       GENDER  IMMUNOCOMPROMISED  HEART_RATE_MEAN  \\\n",
       "count  1405.000000  1405.000000        1405.000000      1405.000000   \n",
       "mean      0.404982     0.389324           0.155160        -0.259990   \n",
       "std       0.491063     0.487771           0.362186         0.242494   \n",
       "min       0.000000     0.000000           0.000000        -1.000000   \n",
       "25%       0.000000     0.000000           0.000000        -0.415094   \n",
       "50%       0.000000     0.000000           0.000000        -0.283019   \n",
       "75%       1.000000     1.000000           0.000000        -0.132075   \n",
       "max       1.000000     1.000000           1.000000         0.905660   \n",
       "\n",
       "       RESPIRATORY_RATE_MEAN  TEMPERATURE_MEAN  OXYGEN_SATURATION_MEAN  \\\n",
       "count            1405.000000       1405.000000             1405.000000   \n",
       "mean               -0.502206          0.088260                0.751424   \n",
       "std                 0.173586          0.247826                0.125765   \n",
       "min                -0.932203         -0.571429               -1.000000   \n",
       "25%                -0.593220         -0.107143                0.684211   \n",
       "50%                -0.525424          0.071429                0.763158   \n",
       "75%                -0.457627          0.250000                0.842105   \n",
       "max                 0.830508          0.964286                1.000000   \n",
       "\n",
       "       HEART_RATE_MEDIAN  RESPIRATORY_RATE_MEDIAN  TEMPERATURE_MEDIAN  ...  \\\n",
       "count        1405.000000              1405.000000         1405.000000  ...   \n",
       "mean           -0.260162                -0.493435            0.084850  ...   \n",
       "std             0.248985                 0.180394            0.253009  ...   \n",
       "min            -1.000000                -0.931034           -0.571429  ...   \n",
       "25%            -0.433962                -0.586207           -0.107143  ...   \n",
       "50%            -0.283019                -0.517241            0.035714  ...   \n",
       "75%            -0.132075                -0.448276            0.250000  ...   \n",
       "max             0.962264                 0.862069            0.964286  ...   \n",
       "\n",
       "       OXYGEN_SATURATION_MAX  HEART_RATE_DIFF  RESPIRATORY_RATE_DIFF  \\\n",
       "count            1405.000000      1405.000000            1405.000000   \n",
       "mean                0.788406        -0.900312              -0.926774   \n",
       "std                 0.131118         0.202477               0.156767   \n",
       "min                -1.000000        -1.000000              -1.000000   \n",
       "25%                 0.736842        -1.000000              -1.000000   \n",
       "50%                 0.789474        -1.000000              -1.000000   \n",
       "75%                 0.894737        -0.923664              -0.941176   \n",
       "max                 1.000000         0.389313               0.411765   \n",
       "\n",
       "       TEMPERATURE_DIFF  OXYGEN_SATURATION_DIFF  HEART_RATE_DIFF_REL  \\\n",
       "count       1405.000000             1405.000000          1405.000000   \n",
       "mean          -0.898797               -0.961631            -0.925962   \n",
       "std            0.193575                0.127351             0.148345   \n",
       "min           -1.000000               -1.000000            -1.000000   \n",
       "25%           -1.000000               -1.000000            -1.000000   \n",
       "50%           -1.000000               -1.000000            -1.000000   \n",
       "75%           -0.880952               -0.959596            -0.943956   \n",
       "max            0.023810                0.919192            -0.069094   \n",
       "\n",
       "       RESPIRATORY_RATE_DIFF_REL  TEMPERATURE_DIFF_REL  \\\n",
       "count                1405.000000           1405.000000   \n",
       "mean                   -0.925570             -0.899514   \n",
       "std                     0.155916              0.192139   \n",
       "min                    -1.000000             -1.000000   \n",
       "25%                    -1.000000             -1.000000   \n",
       "50%                    -1.000000             -1.000000   \n",
       "75%                    -0.935484             -0.882253   \n",
       "max                     0.401434              0.029497   \n",
       "\n",
       "       OXYGEN_SATURATION_DIFF_REL  ICU_Admitted  \n",
       "count                 1405.000000   1405.000000  \n",
       "mean                    -0.961759      0.327402  \n",
       "std                      0.126679      0.469432  \n",
       "min                     -1.000000      0.000000  \n",
       "25%                     -1.000000      0.000000  \n",
       "50%                     -1.000000      0.000000  \n",
       "75%                     -0.959202      1.000000  \n",
       "max                      0.917526      1.000000  \n",
       "\n",
       "[8 rows x 28 columns]"
      ]
     },
     "execution_count": 99,
     "metadata": {},
     "output_type": "execute_result"
    }
   ],
   "source": [
    "model_data_copy.describe()"
   ]
  },
  {
   "cell_type": "code",
   "execution_count": 105,
   "metadata": {},
   "outputs": [],
   "source": [
    "import warnings\n",
    "\n",
    "import pandas as pd\n",
    "from sdv.evaluation.single_table import run_diagnostic, evaluate_quality\n",
    "from sdv.evaluation.single_table import get_column_plot\n",
    "from sdv.metrics.tabular import CSTest,  LogisticDetection, SVCDetection\n",
    "from sdv.single_table import CTGANSynthesizer, GaussianCopulaSynthesizer, CopulaGANSynthesizer, TVAESynthesizer\n",
    "from sdv.metadata import SingleTableMetadata\n",
    "\n",
    "\n",
    "\n",
    "warnings.filterwarnings(\"ignore\")"
   ]
  },
  {
   "cell_type": "code",
   "execution_count": 151,
   "metadata": {},
   "outputs": [],
   "source": [
    "metadata = SingleTableMetadata()"
   ]
  },
  {
   "cell_type": "code",
   "execution_count": 152,
   "metadata": {},
   "outputs": [],
   "source": [
    "metadata.detect_from_dataframe(model_data_copy)"
   ]
  },
  {
   "cell_type": "code",
   "execution_count": 153,
   "metadata": {},
   "outputs": [],
   "source": [
    "python_dict = metadata.to_dict()"
   ]
  },
  {
   "cell_type": "code",
   "execution_count": 154,
   "metadata": {},
   "outputs": [
    {
     "name": "stdout",
     "output_type": "stream",
     "text": [
      "{\n",
      "    \"METADATA_SPEC_VERSION\": \"SINGLE_TABLE_V1\",\n",
      "    \"columns\": {\n",
      "        \"AGE_ABOVE65\": {\n",
      "            \"sdtype\": \"categorical\"\n",
      "        },\n",
      "        \"GENDER\": {\n",
      "            \"sdtype\": \"categorical\"\n",
      "        },\n",
      "        \"IMMUNOCOMPROMISED\": {\n",
      "            \"sdtype\": \"categorical\"\n",
      "        },\n",
      "        \"HEART_RATE_MEAN\": {\n",
      "            \"sdtype\": \"numerical\"\n",
      "        },\n",
      "        \"RESPIRATORY_RATE_MEAN\": {\n",
      "            \"sdtype\": \"numerical\"\n",
      "        },\n",
      "        \"TEMPERATURE_MEAN\": {\n",
      "            \"sdtype\": \"numerical\"\n",
      "        },\n",
      "        \"OXYGEN_SATURATION_MEAN\": {\n",
      "            \"sdtype\": \"numerical\"\n",
      "        },\n",
      "        \"HEART_RATE_MEDIAN\": {\n",
      "            \"sdtype\": \"numerical\"\n",
      "        },\n",
      "        \"RESPIRATORY_RATE_MEDIAN\": {\n",
      "            \"sdtype\": \"numerical\"\n",
      "        },\n",
      "        \"TEMPERATURE_MEDIAN\": {\n",
      "            \"sdtype\": \"numerical\"\n",
      "        },\n",
      "        \"OXYGEN_SATURATION_MEDIAN\": {\n",
      "            \"sdtype\": \"numerical\"\n",
      "        },\n",
      "        \"HEART_RATE_MIN\": {\n",
      "            \"sdtype\": \"numerical\"\n",
      "        },\n",
      "        \"RESPIRATORY_RATE_MIN\": {\n",
      "            \"sdtype\": \"numerical\"\n",
      "        },\n",
      "        \"TEMPERATURE_MIN\": {\n",
      "            \"sdtype\": \"numerical\"\n",
      "        },\n",
      "        \"OXYGEN_SATURATION_MIN\": {\n",
      "            \"sdtype\": \"numerical\"\n",
      "        },\n",
      "        \"HEART_RATE_MAX\": {\n",
      "            \"sdtype\": \"numerical\"\n",
      "        },\n",
      "        \"RESPIRATORY_RATE_MAX\": {\n",
      "            \"sdtype\": \"numerical\"\n",
      "        },\n",
      "        \"TEMPERATURE_MAX\": {\n",
      "            \"sdtype\": \"numerical\"\n",
      "        },\n",
      "        \"OXYGEN_SATURATION_MAX\": {\n",
      "            \"sdtype\": \"numerical\"\n",
      "        },\n",
      "        \"HEART_RATE_DIFF\": {\n",
      "            \"sdtype\": \"numerical\"\n",
      "        },\n",
      "        \"RESPIRATORY_RATE_DIFF\": {\n",
      "            \"sdtype\": \"numerical\"\n",
      "        },\n",
      "        \"TEMPERATURE_DIFF\": {\n",
      "            \"sdtype\": \"numerical\"\n",
      "        },\n",
      "        \"OXYGEN_SATURATION_DIFF\": {\n",
      "            \"sdtype\": \"numerical\"\n",
      "        },\n",
      "        \"HEART_RATE_DIFF_REL\": {\n",
      "            \"sdtype\": \"numerical\"\n",
      "        },\n",
      "        \"RESPIRATORY_RATE_DIFF_REL\": {\n",
      "            \"sdtype\": \"numerical\"\n",
      "        },\n",
      "        \"TEMPERATURE_DIFF_REL\": {\n",
      "            \"sdtype\": \"numerical\"\n",
      "        },\n",
      "        \"OXYGEN_SATURATION_DIFF_REL\": {\n",
      "            \"sdtype\": \"numerical\"\n",
      "        },\n",
      "        \"ICU_Admitted\": {\n",
      "            \"sdtype\": \"categorical\"\n",
      "        }\n",
      "    }\n",
      "}\n"
     ]
    }
   ],
   "source": [
    "print(metadata)"
   ]
  },
  {
   "cell_type": "code",
   "execution_count": 155,
   "metadata": {},
   "outputs": [
    {
     "name": "stdout",
     "output_type": "stream",
     "text": [
      "{'METADATA_SPEC_VERSION': 'SINGLE_TABLE_V1', 'columns': {'AGE_ABOVE65': {'sdtype': 'categorical'}, 'GENDER': {'sdtype': 'categorical'}, 'IMMUNOCOMPROMISED': {'sdtype': 'categorical'}, 'HEART_RATE_MEAN': {'sdtype': 'numerical'}, 'RESPIRATORY_RATE_MEAN': {'sdtype': 'numerical'}, 'TEMPERATURE_MEAN': {'sdtype': 'numerical'}, 'OXYGEN_SATURATION_MEAN': {'sdtype': 'numerical'}, 'HEART_RATE_MEDIAN': {'sdtype': 'numerical'}, 'RESPIRATORY_RATE_MEDIAN': {'sdtype': 'numerical'}, 'TEMPERATURE_MEDIAN': {'sdtype': 'numerical'}, 'OXYGEN_SATURATION_MEDIAN': {'sdtype': 'numerical'}, 'HEART_RATE_MIN': {'sdtype': 'numerical'}, 'RESPIRATORY_RATE_MIN': {'sdtype': 'numerical'}, 'TEMPERATURE_MIN': {'sdtype': 'numerical'}, 'OXYGEN_SATURATION_MIN': {'sdtype': 'numerical'}, 'HEART_RATE_MAX': {'sdtype': 'numerical'}, 'RESPIRATORY_RATE_MAX': {'sdtype': 'numerical'}, 'TEMPERATURE_MAX': {'sdtype': 'numerical'}, 'OXYGEN_SATURATION_MAX': {'sdtype': 'numerical'}, 'HEART_RATE_DIFF': {'sdtype': 'numerical'}, 'RESPIRATORY_RATE_DIFF': {'sdtype': 'numerical'}, 'TEMPERATURE_DIFF': {'sdtype': 'numerical'}, 'OXYGEN_SATURATION_DIFF': {'sdtype': 'numerical'}, 'HEART_RATE_DIFF_REL': {'sdtype': 'numerical'}, 'RESPIRATORY_RATE_DIFF_REL': {'sdtype': 'numerical'}, 'TEMPERATURE_DIFF_REL': {'sdtype': 'numerical'}, 'OXYGEN_SATURATION_DIFF_REL': {'sdtype': 'numerical'}, 'ICU_Admitted': {'sdtype': 'categorical'}}}\n"
     ]
    }
   ],
   "source": [
    "print(python_dict)"
   ]
  },
  {
   "cell_type": "code",
   "execution_count": 156,
   "metadata": {},
   "outputs": [],
   "source": [
    "synthesizer = CTGANSynthesizer(\n",
    "    metadata, \n",
    "    enforce_rounding=False,\n",
    "    epochs=200,\n",
    "    verbose=True\n",
    ")"
   ]
  },
  {
   "cell_type": "code",
   "execution_count": 157,
   "metadata": {},
   "outputs": [
    {
     "name": "stdout",
     "output_type": "stream",
     "text": [
      "Unexpected exception formatting exception. Falling back to standard exception\n"
     ]
    },
    {
     "name": "stderr",
     "output_type": "stream",
     "text": [
      "Traceback (most recent call last):\n",
      "  File \"c:\\Users\\20181588\\Desktop\\code\\phd\\Lib\\site-packages\\IPython\\core\\interactiveshell.py\", line 3526, in run_code\n",
      "    exec(code_obj, self.user_global_ns, self.user_ns)\n",
      "  File \"C:\\Users\\20181588\\AppData\\Local\\Temp\\ipykernel_12152\\4021823655.py\", line 1, in <module>\n",
      "    synthesizer.fit(data=model_data_copy)\n",
      "  File \"c:\\Users\\20181588\\Desktop\\code\\phd\\Lib\\site-packages\\sdv\\single_table\\base.py\", line 437, in fit\n",
      "    self.fit_processed_data(processed_data)\n",
      "  File \"c:\\Users\\20181588\\Desktop\\code\\phd\\Lib\\site-packages\\sdv\\single_table\\base.py\", line 420, in fit_processed_data\n",
      "    self._fit(processed_data)\n",
      "  File \"c:\\Users\\20181588\\Desktop\\code\\phd\\Lib\\site-packages\\sdv\\single_table\\ctgan.py\", line 210, in _fit\n",
      "    self._model.fit(processed_data, discrete_columns=discrete_columns)\n",
      "  File \"c:\\Users\\20181588\\Desktop\\code\\phd\\Lib\\site-packages\\ctgan\\synthesizers\\base.py\", line 50, in wrapper\n",
      "    return function(self, *args, **kwargs)\n",
      "           ^^^^^^^^^^^^^^^^^^^^^^^^^^^^^^^\n",
      "  File \"c:\\Users\\20181588\\Desktop\\code\\phd\\Lib\\site-packages\\ctgan\\synthesizers\\ctgan.py\", line 307, in fit\n",
      "    train_data = self._transformer.transform(train_data)\n",
      "                 ^^^^^^^^^^^^^^^^^^^^^^^^^^^^^^^^^^^^^^^\n",
      "  File \"c:\\Users\\20181588\\Desktop\\code\\phd\\Lib\\site-packages\\ctgan\\data_transformer.py\", line 183, in transform\n",
      "    column_data_list = self._parallel_transform(\n",
      "                       ^^^^^^^^^^^^^^^^^^^^^^^^^\n",
      "  File \"c:\\Users\\20181588\\Desktop\\code\\phd\\Lib\\site-packages\\ctgan\\data_transformer.py\", line 167, in _parallel_transform\n",
      "    return Parallel(n_jobs=-1)(processes)\n",
      "           ^^^^^^^^^^^^^^^^^^^^^^^^^^^^^^\n",
      "  File \"c:\\Users\\20181588\\Desktop\\code\\phd\\Lib\\site-packages\\joblib\\parallel.py\", line 1950, in __call__\n",
      "  File \"c:\\Users\\20181588\\Desktop\\code\\phd\\Lib\\site-packages\\joblib\\parallel.py\", line 1588, in _get_outputs\n",
      "  File \"c:\\Users\\20181588\\Desktop\\code\\phd\\Lib\\site-packages\\joblib\\parallel.py\", line 1571, in _start\n",
      "  File \"c:\\Users\\20181588\\Desktop\\code\\phd\\Lib\\site-packages\\joblib\\parallel.py\", line 1462, in dispatch_one_batch\n",
      "  File \"c:\\Users\\20181588\\Desktop\\code\\phd\\Lib\\site-packages\\joblib\\parallel.py\", line 1384, in _dispatch\n",
      "  File \"c:\\Users\\20181588\\Desktop\\code\\phd\\Lib\\site-packages\\joblib\\_parallel_backends.py\", line 600, in apply_async\n",
      "    raise WorkerInterrupt() from e\n",
      "         ^^^^^^^^^^^^^^^^^^^^^^^^^^\n",
      "  File \"c:\\Users\\20181588\\Desktop\\code\\phd\\Lib\\site-packages\\joblib\\externals\\loky\\reusable_executor.py\", line 225, in submit\n",
      "    time.sleep(1e-3)\n",
      "           ^^^^^^^^^^\n",
      "  File \"c:\\Users\\20181588\\Desktop\\code\\phd\\Lib\\site-packages\\joblib\\externals\\loky\\process_executor.py\", line 1248, in submit\n",
      "  File \"c:\\Users\\20181588\\Desktop\\code\\phd\\Lib\\site-packages\\joblib\\externals\\loky\\process_executor.py\", line 1220, in _ensure_executor_running\n",
      "  File \"c:\\Users\\20181588\\Desktop\\code\\phd\\Lib\\site-packages\\joblib\\externals\\loky\\process_executor.py\", line 1209, in _adjust_process_count\n",
      "  File \"C:\\Program Files\\WindowsApps\\PythonSoftwareFoundation.Python.3.11_3.11.2032.0_x64__qbz5n2kfra8p0\\Lib\\multiprocessing\\process.py\", line 121, in start\n",
      "    self._popen = self._Popen(self)\n",
      "                  ^^^^^^^^^^^^^^^^^\n",
      "  File \"c:\\Users\\20181588\\Desktop\\code\\phd\\Lib\\site-packages\\joblib\\externals\\loky\\backend\\process.py\", line 42, in _Popen\n",
      "    def start(self):\n",
      "        ^^^^^^^^^^^^^\n",
      "  File \"c:\\Users\\20181588\\Desktop\\code\\phd\\Lib\\site-packages\\joblib\\externals\\loky\\backend\\popen_loky_win32.py\", line 8, in <module>\n",
      "    from .context import get_spawning_popen, set_spawning_popen\n",
      "ImportError: cannot import name 'get_spawning_popen' from 'joblib.externals.loky.backend.context' (c:\\Users\\20181588\\Desktop\\code\\phd\\Lib\\site-packages\\joblib\\externals\\loky\\backend\\context.py)\n",
      "\n",
      "During handling of the above exception, another exception occurred:\n",
      "\n",
      "Traceback (most recent call last):\n",
      "  File \"c:\\Users\\20181588\\Desktop\\code\\phd\\Lib\\site-packages\\IPython\\core\\interactiveshell.py\", line 2120, in showtraceback\n",
      "    stb = self.InteractiveTB.structured_traceback(\n",
      "          ^^^^^^^^^^^^^^^^^^^^^^^^^^^^^^^^^^^^^^^^\n",
      "  File \"c:\\Users\\20181588\\Desktop\\code\\phd\\Lib\\site-packages\\IPython\\core\\ultratb.py\", line 1435, in structured_traceback\n",
      "    return FormattedTB.structured_traceback(\n",
      "           ^^^^^^^^^^^^^^^^^^^^^^^^^^^^^^^^^\n",
      "  File \"c:\\Users\\20181588\\Desktop\\code\\phd\\Lib\\site-packages\\IPython\\core\\ultratb.py\", line 1326, in structured_traceback\n",
      "    return VerboseTB.structured_traceback(\n",
      "           ^^^^^^^^^^^^^^^^^^^^^^^^^^^^^^^\n",
      "  File \"c:\\Users\\20181588\\Desktop\\code\\phd\\Lib\\site-packages\\IPython\\core\\ultratb.py\", line 1173, in structured_traceback\n",
      "    formatted_exception = self.format_exception_as_a_whole(etype, evalue, etb, number_of_lines_of_context,\n",
      "                          ^^^^^^^^^^^^^^^^^^^^^^^^^^^^^^^^^^^^^^^^^^^^^^^^^^^^^^^^^^^^^^^^^^^^^^^^^^^^^^^^\n",
      "  File \"c:\\Users\\20181588\\Desktop\\code\\phd\\Lib\\site-packages\\IPython\\core\\ultratb.py\", line 1088, in format_exception_as_a_whole\n",
      "    frames.append(self.format_record(record))\n",
      "                  ^^^^^^^^^^^^^^^^^^^^^^^^^^\n",
      "  File \"c:\\Users\\20181588\\Desktop\\code\\phd\\Lib\\site-packages\\IPython\\core\\ultratb.py\", line 970, in format_record\n",
      "    frame_info.lines, Colors, self.has_colors, lvals\n",
      "    ^^^^^^^^^^^^^^^^\n",
      "  File \"c:\\Users\\20181588\\Desktop\\code\\phd\\Lib\\site-packages\\IPython\\core\\ultratb.py\", line 792, in lines\n",
      "    return self._sd.lines\n",
      "           ^^^^^^^^^^^^^^\n",
      "  File \"c:\\Users\\20181588\\Desktop\\code\\phd\\Lib\\site-packages\\stack_data\\utils.py\", line 145, in cached_property_wrapper\n",
      "    value = obj.__dict__[self.func.__name__] = self.func(obj)\n",
      "                                               ^^^^^^^^^^^^^^\n",
      "  File \"c:\\Users\\20181588\\Desktop\\code\\phd\\Lib\\site-packages\\stack_data\\core.py\", line 734, in lines\n",
      "    pieces = self.included_pieces\n",
      "             ^^^^^^^^^^^^^^^^^^^^\n",
      "  File \"c:\\Users\\20181588\\Desktop\\code\\phd\\Lib\\site-packages\\stack_data\\utils.py\", line 145, in cached_property_wrapper\n",
      "    value = obj.__dict__[self.func.__name__] = self.func(obj)\n",
      "                                               ^^^^^^^^^^^^^^\n",
      "  File \"c:\\Users\\20181588\\Desktop\\code\\phd\\Lib\\site-packages\\stack_data\\core.py\", line 681, in included_pieces\n",
      "    pos = scope_pieces.index(self.executing_piece)\n",
      "                             ^^^^^^^^^^^^^^^^^^^^\n",
      "  File \"c:\\Users\\20181588\\Desktop\\code\\phd\\Lib\\site-packages\\stack_data\\utils.py\", line 145, in cached_property_wrapper\n",
      "    value = obj.__dict__[self.func.__name__] = self.func(obj)\n",
      "                                               ^^^^^^^^^^^^^^\n",
      "  File \"c:\\Users\\20181588\\Desktop\\code\\phd\\Lib\\site-packages\\stack_data\\core.py\", line 660, in executing_piece\n",
      "    return only(\n",
      "           ^^^^^\n",
      "  File \"c:\\Users\\20181588\\Desktop\\code\\phd\\Lib\\site-packages\\executing\\executing.py\", line 116, in only\n",
      "    raise NotOneValueFound('Expected one value, found 0')\n",
      "executing.executing.NotOneValueFound: Expected one value, found 0\n"
     ]
    }
   ],
   "source": [
    "synthesizer.fit(data=model_data_copy)"
   ]
  },
  {
   "cell_type": "code",
   "execution_count": 158,
   "metadata": {},
   "outputs": [
    {
     "ename": "AttributeError",
     "evalue": "Error: Sampling terminated. Partial results are stored in a temporary file: .sample.csv.temp. This file will be overridden the next time you sample. Please rename the file if you wish to save these results.\n'NoneType' object has no attribute 'sample_original_condvec'",
     "output_type": "error",
     "traceback": [
      "\u001b[1;31m---------------------------------------------------------------------------\u001b[0m",
      "\u001b[1;31mAttributeError\u001b[0m                            Traceback (most recent call last)",
      "File \u001b[1;32mc:\\Users\\20181588\\Desktop\\code\\phd\\Lib\\site-packages\\sdv\\single_table\\base.py:791\u001b[0m, in \u001b[0;36mBaseSingleTableSynthesizer._sample_with_progress_bar\u001b[1;34m(self, num_rows, max_tries_per_batch, batch_size, output_file_path, show_progress_bar)\u001b[0m\n\u001b[0;32m    790\u001b[0m         progress_bar\u001b[38;5;241m.\u001b[39mset_description(\u001b[38;5;124m'\u001b[39m\u001b[38;5;124mSampling rows\u001b[39m\u001b[38;5;124m'\u001b[39m)\n\u001b[1;32m--> 791\u001b[0m         sampled \u001b[38;5;241m=\u001b[39m \u001b[38;5;28;43mself\u001b[39;49m\u001b[38;5;241;43m.\u001b[39;49m\u001b[43m_sample_in_batches\u001b[49m\u001b[43m(\u001b[49m\n\u001b[0;32m    792\u001b[0m \u001b[43m            \u001b[49m\u001b[43mnum_rows\u001b[49m\u001b[38;5;241;43m=\u001b[39;49m\u001b[43mnum_rows\u001b[49m\u001b[43m,\u001b[49m\n\u001b[0;32m    793\u001b[0m \u001b[43m            \u001b[49m\u001b[43mbatch_size\u001b[49m\u001b[38;5;241;43m=\u001b[39;49m\u001b[43mbatch_size\u001b[49m\u001b[43m,\u001b[49m\n\u001b[0;32m    794\u001b[0m \u001b[43m            \u001b[49m\u001b[43mmax_tries_per_batch\u001b[49m\u001b[38;5;241;43m=\u001b[39;49m\u001b[43mmax_tries_per_batch\u001b[49m\u001b[43m,\u001b[49m\n\u001b[0;32m    795\u001b[0m \u001b[43m            \u001b[49m\u001b[43mprogress_bar\u001b[49m\u001b[38;5;241;43m=\u001b[39;49m\u001b[43mprogress_bar\u001b[49m\u001b[43m,\u001b[49m\n\u001b[0;32m    796\u001b[0m \u001b[43m            \u001b[49m\u001b[43moutput_file_path\u001b[49m\u001b[38;5;241;43m=\u001b[39;49m\u001b[43moutput_file_path\u001b[49m\n\u001b[0;32m    797\u001b[0m \u001b[43m        \u001b[49m\u001b[43m)\u001b[49m\n\u001b[0;32m    799\u001b[0m \u001b[38;5;28;01mexcept\u001b[39;00m (\u001b[38;5;167;01mException\u001b[39;00m, \u001b[38;5;167;01mKeyboardInterrupt\u001b[39;00m) \u001b[38;5;28;01mas\u001b[39;00m error:\n",
      "File \u001b[1;32mc:\\Users\\20181588\\Desktop\\code\\phd\\Lib\\site-packages\\sdv\\single_table\\base.py:722\u001b[0m, in \u001b[0;36mBaseSingleTableSynthesizer._sample_in_batches\u001b[1;34m(self, num_rows, batch_size, max_tries_per_batch, conditions, transformed_conditions, float_rtol, progress_bar, output_file_path)\u001b[0m\n\u001b[0;32m    721\u001b[0m \u001b[38;5;28;01mfor\u001b[39;00m step \u001b[38;5;129;01min\u001b[39;00m \u001b[38;5;28mrange\u001b[39m(math\u001b[38;5;241m.\u001b[39mceil(num_rows \u001b[38;5;241m/\u001b[39m batch_size)):\n\u001b[1;32m--> 722\u001b[0m     sampled_rows \u001b[38;5;241m=\u001b[39m \u001b[38;5;28;43mself\u001b[39;49m\u001b[38;5;241;43m.\u001b[39;49m\u001b[43m_sample_batch\u001b[49m\u001b[43m(\u001b[49m\n\u001b[0;32m    723\u001b[0m \u001b[43m        \u001b[49m\u001b[43mbatch_size\u001b[49m\u001b[38;5;241;43m=\u001b[39;49m\u001b[43mbatch_size\u001b[49m\u001b[43m,\u001b[49m\n\u001b[0;32m    724\u001b[0m \u001b[43m        \u001b[49m\u001b[43mmax_tries\u001b[49m\u001b[38;5;241;43m=\u001b[39;49m\u001b[43mmax_tries_per_batch\u001b[49m\u001b[43m,\u001b[49m\n\u001b[0;32m    725\u001b[0m \u001b[43m        \u001b[49m\u001b[43mconditions\u001b[49m\u001b[38;5;241;43m=\u001b[39;49m\u001b[43mconditions\u001b[49m\u001b[43m,\u001b[49m\n\u001b[0;32m    726\u001b[0m \u001b[43m        \u001b[49m\u001b[43mtransformed_conditions\u001b[49m\u001b[38;5;241;43m=\u001b[39;49m\u001b[43mtransformed_conditions\u001b[49m\u001b[43m,\u001b[49m\n\u001b[0;32m    727\u001b[0m \u001b[43m        \u001b[49m\u001b[43mfloat_rtol\u001b[49m\u001b[38;5;241;43m=\u001b[39;49m\u001b[43mfloat_rtol\u001b[49m\u001b[43m,\u001b[49m\n\u001b[0;32m    728\u001b[0m \u001b[43m        \u001b[49m\u001b[43mprogress_bar\u001b[49m\u001b[38;5;241;43m=\u001b[39;49m\u001b[43mprogress_bar\u001b[49m\u001b[43m,\u001b[49m\n\u001b[0;32m    729\u001b[0m \u001b[43m        \u001b[49m\u001b[43moutput_file_path\u001b[49m\u001b[38;5;241;43m=\u001b[39;49m\u001b[43moutput_file_path\u001b[49m\u001b[43m,\u001b[49m\n\u001b[0;32m    730\u001b[0m \u001b[43m    \u001b[49m\u001b[43m)\u001b[49m\n\u001b[0;32m    731\u001b[0m     sampled\u001b[38;5;241m.\u001b[39mappend(sampled_rows)\n",
      "File \u001b[1;32mc:\\Users\\20181588\\Desktop\\code\\phd\\Lib\\site-packages\\sdv\\single_table\\base.py:654\u001b[0m, in \u001b[0;36mBaseSingleTableSynthesizer._sample_batch\u001b[1;34m(self, batch_size, max_tries, conditions, transformed_conditions, float_rtol, progress_bar, output_file_path, keep_extra_columns)\u001b[0m\n\u001b[0;32m    653\u001b[0m prev_num_valid \u001b[38;5;241m=\u001b[39m num_valid\n\u001b[1;32m--> 654\u001b[0m sampled, num_valid \u001b[38;5;241m=\u001b[39m \u001b[38;5;28;43mself\u001b[39;49m\u001b[38;5;241;43m.\u001b[39;49m\u001b[43m_sample_rows\u001b[49m\u001b[43m(\u001b[49m\n\u001b[0;32m    655\u001b[0m \u001b[43m    \u001b[49m\u001b[43mnum_rows_to_sample\u001b[49m\u001b[43m,\u001b[49m\n\u001b[0;32m    656\u001b[0m \u001b[43m    \u001b[49m\u001b[43mconditions\u001b[49m\u001b[43m,\u001b[49m\n\u001b[0;32m    657\u001b[0m \u001b[43m    \u001b[49m\u001b[43mtransformed_conditions\u001b[49m\u001b[43m,\u001b[49m\n\u001b[0;32m    658\u001b[0m \u001b[43m    \u001b[49m\u001b[43mfloat_rtol\u001b[49m\u001b[43m,\u001b[49m\n\u001b[0;32m    659\u001b[0m \u001b[43m    \u001b[49m\u001b[43msampled\u001b[49m\u001b[43m,\u001b[49m\n\u001b[0;32m    660\u001b[0m \u001b[43m    \u001b[49m\u001b[43mkeep_extra_columns\u001b[49m\n\u001b[0;32m    661\u001b[0m \u001b[43m\u001b[49m\u001b[43m)\u001b[49m\n\u001b[0;32m    663\u001b[0m num_new_valid_rows \u001b[38;5;241m=\u001b[39m num_valid \u001b[38;5;241m-\u001b[39m prev_num_valid\n",
      "File \u001b[1;32mc:\\Users\\20181588\\Desktop\\code\\phd\\Lib\\site-packages\\sdv\\single_table\\base.py:564\u001b[0m, in \u001b[0;36mBaseSingleTableSynthesizer._sample_rows\u001b[1;34m(self, num_rows, conditions, transformed_conditions, float_rtol, previous_rows, keep_extra_columns)\u001b[0m\n\u001b[0;32m    563\u001b[0m \u001b[38;5;28;01mif\u001b[39;00m conditions \u001b[38;5;129;01mis\u001b[39;00m \u001b[38;5;28;01mNone\u001b[39;00m:\n\u001b[1;32m--> 564\u001b[0m     raw_sampled \u001b[38;5;241m=\u001b[39m \u001b[38;5;28;43mself\u001b[39;49m\u001b[38;5;241;43m.\u001b[39;49m\u001b[43m_sample\u001b[49m\u001b[43m(\u001b[49m\u001b[43mnum_rows\u001b[49m\u001b[43m)\u001b[49m\n\u001b[0;32m    565\u001b[0m \u001b[38;5;28;01melse\u001b[39;00m:\n",
      "File \u001b[1;32mc:\\Users\\20181588\\Desktop\\code\\phd\\Lib\\site-packages\\sdv\\single_table\\ctgan.py:228\u001b[0m, in \u001b[0;36mCTGANSynthesizer._sample\u001b[1;34m(self, num_rows, conditions)\u001b[0m\n\u001b[0;32m    227\u001b[0m \u001b[38;5;28;01mif\u001b[39;00m conditions \u001b[38;5;129;01mis\u001b[39;00m \u001b[38;5;28;01mNone\u001b[39;00m:\n\u001b[1;32m--> 228\u001b[0m     \u001b[38;5;28;01mreturn\u001b[39;00m \u001b[38;5;28;43mself\u001b[39;49m\u001b[38;5;241;43m.\u001b[39;49m\u001b[43m_model\u001b[49m\u001b[38;5;241;43m.\u001b[39;49m\u001b[43msample\u001b[49m\u001b[43m(\u001b[49m\u001b[43mnum_rows\u001b[49m\u001b[43m)\u001b[49m\n\u001b[0;32m    230\u001b[0m \u001b[38;5;28;01mraise\u001b[39;00m \u001b[38;5;167;01mNotImplementedError\u001b[39;00m(\u001b[38;5;124m\"\u001b[39m\u001b[38;5;124mCTGANSynthesizer doesn\u001b[39m\u001b[38;5;124m'\u001b[39m\u001b[38;5;124mt support conditional sampling.\u001b[39m\u001b[38;5;124m\"\u001b[39m)\n",
      "File \u001b[1;32mc:\\Users\\20181588\\Desktop\\code\\phd\\Lib\\site-packages\\ctgan\\synthesizers\\base.py:54\u001b[0m, in \u001b[0;36mrandom_state.<locals>.wrapper\u001b[1;34m(self, *args, **kwargs)\u001b[0m\n\u001b[0;32m     53\u001b[0m \u001b[38;5;28;01mwith\u001b[39;00m set_random_states(\u001b[38;5;28mself\u001b[39m\u001b[38;5;241m.\u001b[39mrandom_states, \u001b[38;5;28mself\u001b[39m\u001b[38;5;241m.\u001b[39mset_random_state):\n\u001b[1;32m---> 54\u001b[0m     \u001b[38;5;28;01mreturn\u001b[39;00m \u001b[43mfunction\u001b[49m\u001b[43m(\u001b[49m\u001b[38;5;28;43mself\u001b[39;49m\u001b[43m,\u001b[49m\u001b[43m \u001b[49m\u001b[38;5;241;43m*\u001b[39;49m\u001b[43margs\u001b[49m\u001b[43m,\u001b[49m\u001b[43m \u001b[49m\u001b[38;5;241;43m*\u001b[39;49m\u001b[38;5;241;43m*\u001b[39;49m\u001b[43mkwargs\u001b[49m\u001b[43m)\u001b[49m\n",
      "File \u001b[1;32mc:\\Users\\20181588\\Desktop\\code\\phd\\Lib\\site-packages\\ctgan\\synthesizers\\ctgan.py:482\u001b[0m, in \u001b[0;36mCTGAN.sample\u001b[1;34m(self, n, condition_column, condition_value)\u001b[0m\n\u001b[0;32m    481\u001b[0m \u001b[38;5;28;01melse\u001b[39;00m:\n\u001b[1;32m--> 482\u001b[0m     condvec \u001b[38;5;241m=\u001b[39m \u001b[38;5;28;43mself\u001b[39;49m\u001b[38;5;241;43m.\u001b[39;49m\u001b[43m_data_sampler\u001b[49m\u001b[38;5;241;43m.\u001b[39;49m\u001b[43msample_original_condvec\u001b[49m(\u001b[38;5;28mself\u001b[39m\u001b[38;5;241m.\u001b[39m_batch_size)\n\u001b[0;32m    484\u001b[0m \u001b[38;5;28;01mif\u001b[39;00m condvec \u001b[38;5;129;01mis\u001b[39;00m \u001b[38;5;28;01mNone\u001b[39;00m:\n",
      "\u001b[1;31mAttributeError\u001b[0m: 'NoneType' object has no attribute 'sample_original_condvec'",
      "\nDuring handling of the above exception, another exception occurred:\n",
      "\u001b[1;31mAttributeError\u001b[0m                            Traceback (most recent call last)",
      "Cell \u001b[1;32mIn[158], line 1\u001b[0m\n\u001b[1;32m----> 1\u001b[0m synthetic_data \u001b[38;5;241m=\u001b[39m \u001b[43msynthesizer\u001b[49m\u001b[38;5;241;43m.\u001b[39;49m\u001b[43msample\u001b[49m\u001b[43m(\u001b[49m\u001b[43mnum_rows\u001b[49m\u001b[38;5;241;43m=\u001b[39;49m\u001b[38;5;241;43m200\u001b[39;49m\u001b[43m)\u001b[49m\n\u001b[0;32m      2\u001b[0m synthetic_data\u001b[38;5;241m.\u001b[39mhead()\n",
      "File \u001b[1;32mc:\\Users\\20181588\\Desktop\\code\\phd\\Lib\\site-packages\\sdv\\single_table\\base.py:830\u001b[0m, in \u001b[0;36mBaseSingleTableSynthesizer.sample\u001b[1;34m(self, num_rows, max_tries_per_batch, batch_size, output_file_path)\u001b[0m\n\u001b[0;32m    827\u001b[0m has_batches \u001b[38;5;241m=\u001b[39m batch_size \u001b[38;5;129;01mis\u001b[39;00m \u001b[38;5;129;01mnot\u001b[39;00m \u001b[38;5;28;01mNone\u001b[39;00m \u001b[38;5;129;01mand\u001b[39;00m batch_size \u001b[38;5;241m!=\u001b[39m num_rows\n\u001b[0;32m    828\u001b[0m show_progress_bar \u001b[38;5;241m=\u001b[39m has_constraints \u001b[38;5;129;01mor\u001b[39;00m has_batches\n\u001b[1;32m--> 830\u001b[0m \u001b[38;5;28;01mreturn\u001b[39;00m \u001b[38;5;28;43mself\u001b[39;49m\u001b[38;5;241;43m.\u001b[39;49m\u001b[43m_sample_with_progress_bar\u001b[49m\u001b[43m(\u001b[49m\n\u001b[0;32m    831\u001b[0m \u001b[43m    \u001b[49m\u001b[43mnum_rows\u001b[49m\u001b[43m,\u001b[49m\n\u001b[0;32m    832\u001b[0m \u001b[43m    \u001b[49m\u001b[43mmax_tries_per_batch\u001b[49m\u001b[43m,\u001b[49m\n\u001b[0;32m    833\u001b[0m \u001b[43m    \u001b[49m\u001b[43mbatch_size\u001b[49m\u001b[43m,\u001b[49m\n\u001b[0;32m    834\u001b[0m \u001b[43m    \u001b[49m\u001b[43moutput_file_path\u001b[49m\u001b[43m,\u001b[49m\n\u001b[0;32m    835\u001b[0m \u001b[43m    \u001b[49m\u001b[43mshow_progress_bar\u001b[49m\u001b[38;5;241;43m=\u001b[39;49m\u001b[43mshow_progress_bar\u001b[49m\n\u001b[0;32m    836\u001b[0m \u001b[43m\u001b[49m\u001b[43m)\u001b[49m\n",
      "File \u001b[1;32mc:\\Users\\20181588\\Desktop\\code\\phd\\Lib\\site-packages\\sdv\\single_table\\base.py:800\u001b[0m, in \u001b[0;36mBaseSingleTableSynthesizer._sample_with_progress_bar\u001b[1;34m(self, num_rows, max_tries_per_batch, batch_size, output_file_path, show_progress_bar)\u001b[0m\n\u001b[0;32m    791\u001b[0m         sampled \u001b[38;5;241m=\u001b[39m \u001b[38;5;28mself\u001b[39m\u001b[38;5;241m.\u001b[39m_sample_in_batches(\n\u001b[0;32m    792\u001b[0m             num_rows\u001b[38;5;241m=\u001b[39mnum_rows,\n\u001b[0;32m    793\u001b[0m             batch_size\u001b[38;5;241m=\u001b[39mbatch_size,\n\u001b[1;32m   (...)\u001b[0m\n\u001b[0;32m    796\u001b[0m             output_file_path\u001b[38;5;241m=\u001b[39moutput_file_path\n\u001b[0;32m    797\u001b[0m         )\n\u001b[0;32m    799\u001b[0m \u001b[38;5;28;01mexcept\u001b[39;00m (\u001b[38;5;167;01mException\u001b[39;00m, \u001b[38;5;167;01mKeyboardInterrupt\u001b[39;00m) \u001b[38;5;28;01mas\u001b[39;00m error:\n\u001b[1;32m--> 800\u001b[0m     \u001b[43mhandle_sampling_error\u001b[49m\u001b[43m(\u001b[49m\u001b[43moutput_file_path\u001b[49m\u001b[43m \u001b[49m\u001b[38;5;241;43m==\u001b[39;49m\u001b[43m \u001b[49m\u001b[43mTMP_FILE_NAME\u001b[49m\u001b[43m,\u001b[49m\u001b[43m \u001b[49m\u001b[43moutput_file_path\u001b[49m\u001b[43m,\u001b[49m\u001b[43m \u001b[49m\u001b[43merror\u001b[49m\u001b[43m)\u001b[49m\n\u001b[0;32m    802\u001b[0m \u001b[38;5;28;01melse\u001b[39;00m:\n\u001b[0;32m    803\u001b[0m     \u001b[38;5;28;01mif\u001b[39;00m output_file_path \u001b[38;5;241m==\u001b[39m TMP_FILE_NAME \u001b[38;5;129;01mand\u001b[39;00m os\u001b[38;5;241m.\u001b[39mpath\u001b[38;5;241m.\u001b[39mexists(output_file_path):\n",
      "File \u001b[1;32mc:\\Users\\20181588\\Desktop\\code\\phd\\Lib\\site-packages\\sdv\\single_table\\utils.py:112\u001b[0m, in \u001b[0;36mhandle_sampling_error\u001b[1;34m(is_tmp_file, output_file_path, sampling_error)\u001b[0m\n\u001b[0;32m    107\u001b[0m     error_msg \u001b[38;5;241m=\u001b[39m (\n\u001b[0;32m    108\u001b[0m         \u001b[38;5;124mf\u001b[39m\u001b[38;5;124m'\u001b[39m\u001b[38;5;124mError: Sampling terminated. Partial results are stored in \u001b[39m\u001b[38;5;132;01m{\u001b[39;00moutput_file_path\u001b[38;5;132;01m}\u001b[39;00m\u001b[38;5;124m.\u001b[39m\u001b[38;5;124m'\u001b[39m\n\u001b[0;32m    109\u001b[0m     )\n\u001b[0;32m    111\u001b[0m \u001b[38;5;28;01mif\u001b[39;00m error_msg:\n\u001b[1;32m--> 112\u001b[0m     \u001b[38;5;28;01mraise\u001b[39;00m \u001b[38;5;28mtype\u001b[39m(sampling_error)(error_msg \u001b[38;5;241m+\u001b[39m \u001b[38;5;124m'\u001b[39m\u001b[38;5;130;01m\\n\u001b[39;00m\u001b[38;5;124m'\u001b[39m \u001b[38;5;241m+\u001b[39m \u001b[38;5;28mstr\u001b[39m(sampling_error))\n\u001b[0;32m    114\u001b[0m \u001b[38;5;28;01mraise\u001b[39;00m sampling_error\n",
      "\u001b[1;31mAttributeError\u001b[0m: Error: Sampling terminated. Partial results are stored in a temporary file: .sample.csv.temp. This file will be overridden the next time you sample. Please rename the file if you wish to save these results.\n'NoneType' object has no attribute 'sample_original_condvec'"
     ]
    }
   ],
   "source": [
    "synthetic_data = synthesizer.sample(num_rows=200)\n",
    "synthetic_data.head()"
   ]
  },
  {
   "cell_type": "code",
   "execution_count": 113,
   "metadata": {},
   "outputs": [
    {
     "ename": "NotFittedError",
     "evalue": "Loss values are not available yet. Please fit your synthesizer first.",
     "output_type": "error",
     "traceback": [
      "\u001b[1;31m---------------------------------------------------------------------------\u001b[0m",
      "\u001b[1;31mNotFittedError\u001b[0m                            Traceback (most recent call last)",
      "Cell \u001b[1;32mIn[113], line 1\u001b[0m\n\u001b[1;32m----> 1\u001b[0m \u001b[43msynthesizer\u001b[49m\u001b[38;5;241;43m.\u001b[39;49m\u001b[43mget_loss_values\u001b[49m\u001b[43m(\u001b[49m\u001b[43m)\u001b[49m\n",
      "File \u001b[1;32mc:\\Users\\20181588\\Desktop\\code\\phd\\Lib\\site-packages\\sdv\\single_table\\ctgan.py:25\u001b[0m, in \u001b[0;36mLossValuesMixin.get_loss_values\u001b[1;34m(self)\u001b[0m\n\u001b[0;32m     23\u001b[0m \u001b[38;5;28;01mif\u001b[39;00m \u001b[38;5;129;01mnot\u001b[39;00m \u001b[38;5;28mself\u001b[39m\u001b[38;5;241m.\u001b[39m_fitted:\n\u001b[0;32m     24\u001b[0m     err_msg \u001b[38;5;241m=\u001b[39m \u001b[38;5;124m'\u001b[39m\u001b[38;5;124mLoss values are not available yet. Please fit your synthesizer first.\u001b[39m\u001b[38;5;124m'\u001b[39m\n\u001b[1;32m---> 25\u001b[0m     \u001b[38;5;28;01mraise\u001b[39;00m NotFittedError(err_msg)\n\u001b[0;32m     27\u001b[0m \u001b[38;5;28;01mreturn\u001b[39;00m \u001b[38;5;28mself\u001b[39m\u001b[38;5;241m.\u001b[39m_model\u001b[38;5;241m.\u001b[39mloss_values\u001b[38;5;241m.\u001b[39mcopy()\n",
      "\u001b[1;31mNotFittedError\u001b[0m: Loss values are not available yet. Please fit your synthesizer first."
     ]
    }
   ],
   "source": [
    "synthesizer.get_loss_values()"
   ]
  }
 ],
 "metadata": {
  "kernelspec": {
   "display_name": "phd",
   "language": "python",
   "name": "python3"
  },
  "language_info": {
   "codemirror_mode": {
    "name": "ipython",
    "version": 3
   },
   "file_extension": ".py",
   "mimetype": "text/x-python",
   "name": "python",
   "nbconvert_exporter": "python",
   "pygments_lexer": "ipython3",
   "version": "3.11.7"
  }
 },
 "nbformat": 4,
 "nbformat_minor": 2
}
