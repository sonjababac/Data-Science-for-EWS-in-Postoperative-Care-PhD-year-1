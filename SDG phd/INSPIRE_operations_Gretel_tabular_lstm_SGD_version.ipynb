{
 "cells": [
  {
   "cell_type": "markdown",
   "metadata": {},
   "source": [
    "<h1 style=\"font-size:36px;\">Data exploration of synthetic data generated from INSPIRE, a publicly available research dataset for perioperative medicine</h1>\n",
    "\n",
    "<h2 style=\"font-size:20px;\">In this script data exploration and analysis of \"operations_Gretel_tabular_lstm.csv\"  which is essentailly a synthetic version of original \"operations.csv\" from INSPIRE is shown</h2>\n",
    "\n",
    "link to gretel.ai: https://console.gretel.ai/proj_2Z7R2lTw5P0JagOUtSy9W3nVy5S/models/656ef7aeac3ffb4c83838dad/data\n",
    "\n",
    "link to INSPIRE dataset: https://physionet.org/content/inspire/0.1/\n",
    "\n",
    "A full list of the ICD-10-CM codes and the description can be found on the Centers for Disease Control and Prevention (CDC) website \n",
    "https://ftp.cdc.gov/pub/Health_Statistics/NCHS/Publications/ICD10CM/April-1-2023-Update/icd10cm-code%20descriptions-%20April%201%202023.zip."
   ]
  },
  {
   "cell_type": "code",
   "execution_count": 1,
   "metadata": {},
   "outputs": [
    {
     "name": "stdout",
     "output_type": "stream",
     "text": [
      "Libraries Imported\n"
     ]
    }
   ],
   "source": [
    "import numpy as np\n",
    "import pandas as pd\n",
    "import matplotlib.pyplot as plt\n",
    "import seaborn as sns\n",
    "from sklearn import datasets  # Example, importing datasets module\n",
    "import tensorflow as tf\n",
    "import torch\n",
    "import keras\n",
    "import scipy\n",
    "import statsmodels\n",
    "\n",
    "print(\"Libraries Imported\")"
   ]
  },
  {
   "cell_type": "code",
   "execution_count": 2,
   "metadata": {},
   "outputs": [],
   "source": [
    "df_sgd_operations_original = pd.read_csv('C:\\\\Users\\\\20181588\\\\Desktop\\\\data\\\\Gretel_INSPIRE_operations\\\\gretel-tabular-lstm.csv')"
   ]
  },
  {
   "cell_type": "code",
   "execution_count": 3,
   "metadata": {},
   "outputs": [],
   "source": [
    "df_operations = df_sgd_operations_original.copy()"
   ]
  },
  {
   "cell_type": "code",
   "execution_count": 4,
   "metadata": {},
   "outputs": [
    {
     "data": {
      "text/html": [
       "<div>\n",
       "<style scoped>\n",
       "    .dataframe tbody tr th:only-of-type {\n",
       "        vertical-align: middle;\n",
       "    }\n",
       "\n",
       "    .dataframe tbody tr th {\n",
       "        vertical-align: top;\n",
       "    }\n",
       "\n",
       "    .dataframe thead th {\n",
       "        text-align: right;\n",
       "    }\n",
       "</style>\n",
       "<table border=\"1\" class=\"dataframe\">\n",
       "  <thead>\n",
       "    <tr style=\"text-align: right;\">\n",
       "      <th></th>\n",
       "      <th>op_id</th>\n",
       "      <th>subject_id</th>\n",
       "      <th>hadm_id</th>\n",
       "      <th>case_id</th>\n",
       "      <th>opdate</th>\n",
       "      <th>age</th>\n",
       "      <th>sex</th>\n",
       "      <th>weight</th>\n",
       "      <th>height</th>\n",
       "      <th>race</th>\n",
       "      <th>...</th>\n",
       "      <th>opend_time</th>\n",
       "      <th>admission_time</th>\n",
       "      <th>discharge_time</th>\n",
       "      <th>anstart_time</th>\n",
       "      <th>anend_time</th>\n",
       "      <th>cpbon_time</th>\n",
       "      <th>cpboff_time</th>\n",
       "      <th>icuin_time</th>\n",
       "      <th>icuout_time</th>\n",
       "      <th>inhosp_death_time</th>\n",
       "    </tr>\n",
       "  </thead>\n",
       "  <tbody>\n",
       "    <tr>\n",
       "      <th>0</th>\n",
       "      <td>492758101</td>\n",
       "      <td>134244643</td>\n",
       "      <td>227878923</td>\n",
       "      <td>NaN</td>\n",
       "      <td>2880.0</td>\n",
       "      <td>75</td>\n",
       "      <td>M</td>\n",
       "      <td>68.0</td>\n",
       "      <td>162.0</td>\n",
       "      <td>Asian</td>\n",
       "      <td>...</td>\n",
       "      <td>4005.0</td>\n",
       "      <td>0</td>\n",
       "      <td>10075.0</td>\n",
       "      <td>3860.0</td>\n",
       "      <td>4005.0</td>\n",
       "      <td>NaN</td>\n",
       "      <td>NaN</td>\n",
       "      <td>NaN</td>\n",
       "      <td>NaN</td>\n",
       "      <td>NaN</td>\n",
       "    </tr>\n",
       "    <tr>\n",
       "      <th>1</th>\n",
       "      <td>403169137</td>\n",
       "      <td>143682322</td>\n",
       "      <td>252431967</td>\n",
       "      <td>NaN</td>\n",
       "      <td>1440.0</td>\n",
       "      <td>65</td>\n",
       "      <td>F</td>\n",
       "      <td>54.0</td>\n",
       "      <td>153.0</td>\n",
       "      <td>Asian</td>\n",
       "      <td>...</td>\n",
       "      <td>2325.0</td>\n",
       "      <td>0</td>\n",
       "      <td>4315.0</td>\n",
       "      <td>2240.0</td>\n",
       "      <td>2335.0</td>\n",
       "      <td>NaN</td>\n",
       "      <td>NaN</td>\n",
       "      <td>NaN</td>\n",
       "      <td>NaN</td>\n",
       "      <td>NaN</td>\n",
       "    </tr>\n",
       "    <tr>\n",
       "      <th>2</th>\n",
       "      <td>466199524</td>\n",
       "      <td>128959270</td>\n",
       "      <td>253814739</td>\n",
       "      <td>NaN</td>\n",
       "      <td>0.0</td>\n",
       "      <td>45</td>\n",
       "      <td>M</td>\n",
       "      <td>74.0</td>\n",
       "      <td>171.0</td>\n",
       "      <td>Asian</td>\n",
       "      <td>...</td>\n",
       "      <td>660.0</td>\n",
       "      <td>0</td>\n",
       "      <td>1435.0</td>\n",
       "      <td>640.0</td>\n",
       "      <td>660.0</td>\n",
       "      <td>NaN</td>\n",
       "      <td>NaN</td>\n",
       "      <td>NaN</td>\n",
       "      <td>NaN</td>\n",
       "      <td>NaN</td>\n",
       "    </tr>\n",
       "    <tr>\n",
       "      <th>3</th>\n",
       "      <td>414485565</td>\n",
       "      <td>138314564</td>\n",
       "      <td>229111342</td>\n",
       "      <td>NaN</td>\n",
       "      <td>1440.0</td>\n",
       "      <td>55</td>\n",
       "      <td>M</td>\n",
       "      <td>77.0</td>\n",
       "      <td>164.0</td>\n",
       "      <td>Asian</td>\n",
       "      <td>...</td>\n",
       "      <td>2060.0</td>\n",
       "      <td>0</td>\n",
       "      <td>8635.0</td>\n",
       "      <td>1915.0</td>\n",
       "      <td>2070.0</td>\n",
       "      <td>NaN</td>\n",
       "      <td>NaN</td>\n",
       "      <td>NaN</td>\n",
       "      <td>NaN</td>\n",
       "      <td>NaN</td>\n",
       "    </tr>\n",
       "    <tr>\n",
       "      <th>4</th>\n",
       "      <td>494648487</td>\n",
       "      <td>164036054</td>\n",
       "      <td>264927286</td>\n",
       "      <td>NaN</td>\n",
       "      <td>2880.0</td>\n",
       "      <td>40</td>\n",
       "      <td>F</td>\n",
       "      <td>58.0</td>\n",
       "      <td>162.0</td>\n",
       "      <td>Asian</td>\n",
       "      <td>...</td>\n",
       "      <td>3855.0</td>\n",
       "      <td>0</td>\n",
       "      <td>11515.0</td>\n",
       "      <td>3840.0</td>\n",
       "      <td>3860.0</td>\n",
       "      <td>NaN</td>\n",
       "      <td>NaN</td>\n",
       "      <td>NaN</td>\n",
       "      <td>NaN</td>\n",
       "      <td>NaN</td>\n",
       "    </tr>\n",
       "  </tbody>\n",
       "</table>\n",
       "<p>5 rows × 28 columns</p>\n",
       "</div>"
      ],
      "text/plain": [
       "       op_id  subject_id    hadm_id  case_id  opdate  age sex  weight  height  \\\n",
       "0  492758101   134244643  227878923      NaN  2880.0   75   M    68.0   162.0   \n",
       "1  403169137   143682322  252431967      NaN  1440.0   65   F    54.0   153.0   \n",
       "2  466199524   128959270  253814739      NaN     0.0   45   M    74.0   171.0   \n",
       "3  414485565   138314564  229111342      NaN  1440.0   55   M    77.0   164.0   \n",
       "4  494648487   164036054  264927286      NaN  2880.0   40   F    58.0   162.0   \n",
       "\n",
       "    race  ...  opend_time  admission_time discharge_time anstart_time  \\\n",
       "0  Asian  ...      4005.0               0        10075.0       3860.0   \n",
       "1  Asian  ...      2325.0               0         4315.0       2240.0   \n",
       "2  Asian  ...       660.0               0         1435.0        640.0   \n",
       "3  Asian  ...      2060.0               0         8635.0       1915.0   \n",
       "4  Asian  ...      3855.0               0        11515.0       3840.0   \n",
       "\n",
       "  anend_time  cpbon_time  cpboff_time  icuin_time  icuout_time  \\\n",
       "0     4005.0         NaN          NaN         NaN          NaN   \n",
       "1     2335.0         NaN          NaN         NaN          NaN   \n",
       "2      660.0         NaN          NaN         NaN          NaN   \n",
       "3     2070.0         NaN          NaN         NaN          NaN   \n",
       "4     3860.0         NaN          NaN         NaN          NaN   \n",
       "\n",
       "   inhosp_death_time  \n",
       "0                NaN  \n",
       "1                NaN  \n",
       "2                NaN  \n",
       "3                NaN  \n",
       "4                NaN  \n",
       "\n",
       "[5 rows x 28 columns]"
      ]
     },
     "execution_count": 4,
     "metadata": {},
     "output_type": "execute_result"
    }
   ],
   "source": [
    "df_operations.head()"
   ]
  },
  {
   "cell_type": "code",
   "execution_count": 5,
   "metadata": {},
   "outputs": [
    {
     "data": {
      "text/html": [
       "<div>\n",
       "<style scoped>\n",
       "    .dataframe tbody tr th:only-of-type {\n",
       "        vertical-align: middle;\n",
       "    }\n",
       "\n",
       "    .dataframe tbody tr th {\n",
       "        vertical-align: top;\n",
       "    }\n",
       "\n",
       "    .dataframe thead th {\n",
       "        text-align: right;\n",
       "    }\n",
       "</style>\n",
       "<table border=\"1\" class=\"dataframe\">\n",
       "  <thead>\n",
       "    <tr style=\"text-align: right;\">\n",
       "      <th></th>\n",
       "      <th>op_id</th>\n",
       "      <th>subject_id</th>\n",
       "      <th>hadm_id</th>\n",
       "      <th>case_id</th>\n",
       "      <th>opdate</th>\n",
       "      <th>age</th>\n",
       "      <th>sex</th>\n",
       "      <th>weight</th>\n",
       "      <th>height</th>\n",
       "      <th>race</th>\n",
       "      <th>...</th>\n",
       "      <th>opend_time</th>\n",
       "      <th>admission_time</th>\n",
       "      <th>discharge_time</th>\n",
       "      <th>anstart_time</th>\n",
       "      <th>anend_time</th>\n",
       "      <th>cpbon_time</th>\n",
       "      <th>cpboff_time</th>\n",
       "      <th>icuin_time</th>\n",
       "      <th>icuout_time</th>\n",
       "      <th>inhosp_death_time</th>\n",
       "    </tr>\n",
       "  </thead>\n",
       "  <tbody>\n",
       "    <tr>\n",
       "      <th>0</th>\n",
       "      <td>492758101</td>\n",
       "      <td>134244643</td>\n",
       "      <td>227878923</td>\n",
       "      <td>NaN</td>\n",
       "      <td>2880.0</td>\n",
       "      <td>75</td>\n",
       "      <td>M</td>\n",
       "      <td>68.0</td>\n",
       "      <td>162.0</td>\n",
       "      <td>Asian</td>\n",
       "      <td>...</td>\n",
       "      <td>4005.0</td>\n",
       "      <td>0</td>\n",
       "      <td>10075.0</td>\n",
       "      <td>3860.0</td>\n",
       "      <td>4005.0</td>\n",
       "      <td>NaN</td>\n",
       "      <td>NaN</td>\n",
       "      <td>NaN</td>\n",
       "      <td>NaN</td>\n",
       "      <td>NaN</td>\n",
       "    </tr>\n",
       "    <tr>\n",
       "      <th>1</th>\n",
       "      <td>403169137</td>\n",
       "      <td>143682322</td>\n",
       "      <td>252431967</td>\n",
       "      <td>NaN</td>\n",
       "      <td>1440.0</td>\n",
       "      <td>65</td>\n",
       "      <td>F</td>\n",
       "      <td>54.0</td>\n",
       "      <td>153.0</td>\n",
       "      <td>Asian</td>\n",
       "      <td>...</td>\n",
       "      <td>2325.0</td>\n",
       "      <td>0</td>\n",
       "      <td>4315.0</td>\n",
       "      <td>2240.0</td>\n",
       "      <td>2335.0</td>\n",
       "      <td>NaN</td>\n",
       "      <td>NaN</td>\n",
       "      <td>NaN</td>\n",
       "      <td>NaN</td>\n",
       "      <td>NaN</td>\n",
       "    </tr>\n",
       "    <tr>\n",
       "      <th>2</th>\n",
       "      <td>466199524</td>\n",
       "      <td>128959270</td>\n",
       "      <td>253814739</td>\n",
       "      <td>NaN</td>\n",
       "      <td>0.0</td>\n",
       "      <td>45</td>\n",
       "      <td>M</td>\n",
       "      <td>74.0</td>\n",
       "      <td>171.0</td>\n",
       "      <td>Asian</td>\n",
       "      <td>...</td>\n",
       "      <td>660.0</td>\n",
       "      <td>0</td>\n",
       "      <td>1435.0</td>\n",
       "      <td>640.0</td>\n",
       "      <td>660.0</td>\n",
       "      <td>NaN</td>\n",
       "      <td>NaN</td>\n",
       "      <td>NaN</td>\n",
       "      <td>NaN</td>\n",
       "      <td>NaN</td>\n",
       "    </tr>\n",
       "    <tr>\n",
       "      <th>3</th>\n",
       "      <td>414485565</td>\n",
       "      <td>138314564</td>\n",
       "      <td>229111342</td>\n",
       "      <td>NaN</td>\n",
       "      <td>1440.0</td>\n",
       "      <td>55</td>\n",
       "      <td>M</td>\n",
       "      <td>77.0</td>\n",
       "      <td>164.0</td>\n",
       "      <td>Asian</td>\n",
       "      <td>...</td>\n",
       "      <td>2060.0</td>\n",
       "      <td>0</td>\n",
       "      <td>8635.0</td>\n",
       "      <td>1915.0</td>\n",
       "      <td>2070.0</td>\n",
       "      <td>NaN</td>\n",
       "      <td>NaN</td>\n",
       "      <td>NaN</td>\n",
       "      <td>NaN</td>\n",
       "      <td>NaN</td>\n",
       "    </tr>\n",
       "    <tr>\n",
       "      <th>4</th>\n",
       "      <td>494648487</td>\n",
       "      <td>164036054</td>\n",
       "      <td>264927286</td>\n",
       "      <td>NaN</td>\n",
       "      <td>2880.0</td>\n",
       "      <td>40</td>\n",
       "      <td>F</td>\n",
       "      <td>58.0</td>\n",
       "      <td>162.0</td>\n",
       "      <td>Asian</td>\n",
       "      <td>...</td>\n",
       "      <td>3855.0</td>\n",
       "      <td>0</td>\n",
       "      <td>11515.0</td>\n",
       "      <td>3840.0</td>\n",
       "      <td>3860.0</td>\n",
       "      <td>NaN</td>\n",
       "      <td>NaN</td>\n",
       "      <td>NaN</td>\n",
       "      <td>NaN</td>\n",
       "      <td>NaN</td>\n",
       "    </tr>\n",
       "    <tr>\n",
       "      <th>5</th>\n",
       "      <td>482324420</td>\n",
       "      <td>135070272</td>\n",
       "      <td>229635081</td>\n",
       "      <td>NaN</td>\n",
       "      <td>1440.0</td>\n",
       "      <td>60</td>\n",
       "      <td>M</td>\n",
       "      <td>NaN</td>\n",
       "      <td>174.0</td>\n",
       "      <td>Asian</td>\n",
       "      <td>...</td>\n",
       "      <td>1985.0</td>\n",
       "      <td>0</td>\n",
       "      <td>2875.0</td>\n",
       "      <td>1955.0</td>\n",
       "      <td>1995.0</td>\n",
       "      <td>NaN</td>\n",
       "      <td>NaN</td>\n",
       "      <td>NaN</td>\n",
       "      <td>NaN</td>\n",
       "      <td>NaN</td>\n",
       "    </tr>\n",
       "    <tr>\n",
       "      <th>6</th>\n",
       "      <td>477725170</td>\n",
       "      <td>134478601</td>\n",
       "      <td>296365821</td>\n",
       "      <td>NaN</td>\n",
       "      <td>1440.0</td>\n",
       "      <td>75</td>\n",
       "      <td>M</td>\n",
       "      <td>51.0</td>\n",
       "      <td>158.0</td>\n",
       "      <td>Asian</td>\n",
       "      <td>...</td>\n",
       "      <td>2210.0</td>\n",
       "      <td>0</td>\n",
       "      <td>14395.0</td>\n",
       "      <td>1920.0</td>\n",
       "      <td>2215.0</td>\n",
       "      <td>NaN</td>\n",
       "      <td>NaN</td>\n",
       "      <td>NaN</td>\n",
       "      <td>NaN</td>\n",
       "      <td>NaN</td>\n",
       "    </tr>\n",
       "    <tr>\n",
       "      <th>7</th>\n",
       "      <td>410091278</td>\n",
       "      <td>197719697</td>\n",
       "      <td>254474813</td>\n",
       "      <td>NaN</td>\n",
       "      <td>1440.0</td>\n",
       "      <td>60</td>\n",
       "      <td>F</td>\n",
       "      <td>65.0</td>\n",
       "      <td>163.0</td>\n",
       "      <td>Asian</td>\n",
       "      <td>...</td>\n",
       "      <td>2315.0</td>\n",
       "      <td>0</td>\n",
       "      <td>8635.0</td>\n",
       "      <td>2210.0</td>\n",
       "      <td>2325.0</td>\n",
       "      <td>NaN</td>\n",
       "      <td>NaN</td>\n",
       "      <td>NaN</td>\n",
       "      <td>NaN</td>\n",
       "      <td>NaN</td>\n",
       "    </tr>\n",
       "    <tr>\n",
       "      <th>8</th>\n",
       "      <td>435613982</td>\n",
       "      <td>130922710</td>\n",
       "      <td>274824097</td>\n",
       "      <td>NaN</td>\n",
       "      <td>0.0</td>\n",
       "      <td>65</td>\n",
       "      <td>F</td>\n",
       "      <td>71.0</td>\n",
       "      <td>161.0</td>\n",
       "      <td>Asian</td>\n",
       "      <td>...</td>\n",
       "      <td>585.0</td>\n",
       "      <td>0</td>\n",
       "      <td>7195.0</td>\n",
       "      <td>480.0</td>\n",
       "      <td>580.0</td>\n",
       "      <td>NaN</td>\n",
       "      <td>NaN</td>\n",
       "      <td>NaN</td>\n",
       "      <td>NaN</td>\n",
       "      <td>NaN</td>\n",
       "    </tr>\n",
       "    <tr>\n",
       "      <th>9</th>\n",
       "      <td>426294358</td>\n",
       "      <td>179617042</td>\n",
       "      <td>264571024</td>\n",
       "      <td>NaN</td>\n",
       "      <td>1440.0</td>\n",
       "      <td>65</td>\n",
       "      <td>M</td>\n",
       "      <td>71.0</td>\n",
       "      <td>171.0</td>\n",
       "      <td>Asian</td>\n",
       "      <td>...</td>\n",
       "      <td>2100.0</td>\n",
       "      <td>0</td>\n",
       "      <td>14395.0</td>\n",
       "      <td>1925.0</td>\n",
       "      <td>2095.0</td>\n",
       "      <td>NaN</td>\n",
       "      <td>NaN</td>\n",
       "      <td>NaN</td>\n",
       "      <td>NaN</td>\n",
       "      <td>NaN</td>\n",
       "    </tr>\n",
       "    <tr>\n",
       "      <th>10</th>\n",
       "      <td>441541397</td>\n",
       "      <td>195584164</td>\n",
       "      <td>228241013</td>\n",
       "      <td>NaN</td>\n",
       "      <td>2880.0</td>\n",
       "      <td>45</td>\n",
       "      <td>F</td>\n",
       "      <td>63.0</td>\n",
       "      <td>160.0</td>\n",
       "      <td>Asian</td>\n",
       "      <td>...</td>\n",
       "      <td>3690.0</td>\n",
       "      <td>0</td>\n",
       "      <td>10075.0</td>\n",
       "      <td>3570.0</td>\n",
       "      <td>3690.0</td>\n",
       "      <td>NaN</td>\n",
       "      <td>NaN</td>\n",
       "      <td>NaN</td>\n",
       "      <td>NaN</td>\n",
       "      <td>NaN</td>\n",
       "    </tr>\n",
       "    <tr>\n",
       "      <th>11</th>\n",
       "      <td>461170559</td>\n",
       "      <td>189569094</td>\n",
       "      <td>258428295</td>\n",
       "      <td>NaN</td>\n",
       "      <td>1440.0</td>\n",
       "      <td>65</td>\n",
       "      <td>M</td>\n",
       "      <td>NaN</td>\n",
       "      <td>163.0</td>\n",
       "      <td>Asian</td>\n",
       "      <td>...</td>\n",
       "      <td>2255.0</td>\n",
       "      <td>0</td>\n",
       "      <td>4315.0</td>\n",
       "      <td>2145.0</td>\n",
       "      <td>2255.0</td>\n",
       "      <td>NaN</td>\n",
       "      <td>NaN</td>\n",
       "      <td>NaN</td>\n",
       "      <td>NaN</td>\n",
       "      <td>NaN</td>\n",
       "    </tr>\n",
       "    <tr>\n",
       "      <th>12</th>\n",
       "      <td>485134946</td>\n",
       "      <td>139339711</td>\n",
       "      <td>261220363</td>\n",
       "      <td>NaN</td>\n",
       "      <td>2880.0</td>\n",
       "      <td>55</td>\n",
       "      <td>F</td>\n",
       "      <td>54.0</td>\n",
       "      <td>154.0</td>\n",
       "      <td>Asian</td>\n",
       "      <td>...</td>\n",
       "      <td>3480.0</td>\n",
       "      <td>0</td>\n",
       "      <td>21595.0</td>\n",
       "      <td>3360.0</td>\n",
       "      <td>3490.0</td>\n",
       "      <td>NaN</td>\n",
       "      <td>NaN</td>\n",
       "      <td>NaN</td>\n",
       "      <td>NaN</td>\n",
       "      <td>NaN</td>\n",
       "    </tr>\n",
       "    <tr>\n",
       "      <th>13</th>\n",
       "      <td>452948164</td>\n",
       "      <td>114781894</td>\n",
       "      <td>252841189</td>\n",
       "      <td>NaN</td>\n",
       "      <td>4320.0</td>\n",
       "      <td>60</td>\n",
       "      <td>M</td>\n",
       "      <td>57.0</td>\n",
       "      <td>160.0</td>\n",
       "      <td>Asian</td>\n",
       "      <td>...</td>\n",
       "      <td>4855.0</td>\n",
       "      <td>0</td>\n",
       "      <td>8635.0</td>\n",
       "      <td>4795.0</td>\n",
       "      <td>4860.0</td>\n",
       "      <td>NaN</td>\n",
       "      <td>NaN</td>\n",
       "      <td>NaN</td>\n",
       "      <td>NaN</td>\n",
       "      <td>NaN</td>\n",
       "    </tr>\n",
       "    <tr>\n",
       "      <th>14</th>\n",
       "      <td>458356292</td>\n",
       "      <td>190742754</td>\n",
       "      <td>295483964</td>\n",
       "      <td>NaN</td>\n",
       "      <td>2880.0</td>\n",
       "      <td>60</td>\n",
       "      <td>M</td>\n",
       "      <td>59.0</td>\n",
       "      <td>164.0</td>\n",
       "      <td>Asian</td>\n",
       "      <td>...</td>\n",
       "      <td>3625.0</td>\n",
       "      <td>0</td>\n",
       "      <td>23035.0</td>\n",
       "      <td>3440.0</td>\n",
       "      <td>3625.0</td>\n",
       "      <td>NaN</td>\n",
       "      <td>NaN</td>\n",
       "      <td>NaN</td>\n",
       "      <td>NaN</td>\n",
       "      <td>NaN</td>\n",
       "    </tr>\n",
       "    <tr>\n",
       "      <th>15</th>\n",
       "      <td>437959996</td>\n",
       "      <td>123888030</td>\n",
       "      <td>281623204</td>\n",
       "      <td>NaN</td>\n",
       "      <td>2880.0</td>\n",
       "      <td>45</td>\n",
       "      <td>M</td>\n",
       "      <td>73.0</td>\n",
       "      <td>166.0</td>\n",
       "      <td>Asian</td>\n",
       "      <td>...</td>\n",
       "      <td>3460.0</td>\n",
       "      <td>0</td>\n",
       "      <td>11515.0</td>\n",
       "      <td>3365.0</td>\n",
       "      <td>3465.0</td>\n",
       "      <td>NaN</td>\n",
       "      <td>NaN</td>\n",
       "      <td>NaN</td>\n",
       "      <td>NaN</td>\n",
       "      <td>NaN</td>\n",
       "    </tr>\n",
       "    <tr>\n",
       "      <th>16</th>\n",
       "      <td>499776668</td>\n",
       "      <td>174297334</td>\n",
       "      <td>249859685</td>\n",
       "      <td>NaN</td>\n",
       "      <td>1440.0</td>\n",
       "      <td>75</td>\n",
       "      <td>M</td>\n",
       "      <td>49.0</td>\n",
       "      <td>164.0</td>\n",
       "      <td>Asian</td>\n",
       "      <td>...</td>\n",
       "      <td>2145.0</td>\n",
       "      <td>0</td>\n",
       "      <td>7195.0</td>\n",
       "      <td>2040.0</td>\n",
       "      <td>2155.0</td>\n",
       "      <td>NaN</td>\n",
       "      <td>NaN</td>\n",
       "      <td>NaN</td>\n",
       "      <td>NaN</td>\n",
       "      <td>NaN</td>\n",
       "    </tr>\n",
       "    <tr>\n",
       "      <th>17</th>\n",
       "      <td>458288381</td>\n",
       "      <td>147929790</td>\n",
       "      <td>286085204</td>\n",
       "      <td>NaN</td>\n",
       "      <td>1440.0</td>\n",
       "      <td>60</td>\n",
       "      <td>F</td>\n",
       "      <td>43.0</td>\n",
       "      <td>158.0</td>\n",
       "      <td>Asian</td>\n",
       "      <td>...</td>\n",
       "      <td>2405.0</td>\n",
       "      <td>0</td>\n",
       "      <td>8635.0</td>\n",
       "      <td>2290.0</td>\n",
       "      <td>2410.0</td>\n",
       "      <td>NaN</td>\n",
       "      <td>NaN</td>\n",
       "      <td>NaN</td>\n",
       "      <td>NaN</td>\n",
       "      <td>NaN</td>\n",
       "    </tr>\n",
       "    <tr>\n",
       "      <th>18</th>\n",
       "      <td>489229845</td>\n",
       "      <td>156349302</td>\n",
       "      <td>262119852</td>\n",
       "      <td>NaN</td>\n",
       "      <td>1440.0</td>\n",
       "      <td>60</td>\n",
       "      <td>M</td>\n",
       "      <td>73.0</td>\n",
       "      <td>172.0</td>\n",
       "      <td>Asian</td>\n",
       "      <td>...</td>\n",
       "      <td>2265.0</td>\n",
       "      <td>0</td>\n",
       "      <td>4315.0</td>\n",
       "      <td>2155.0</td>\n",
       "      <td>2270.0</td>\n",
       "      <td>NaN</td>\n",
       "      <td>NaN</td>\n",
       "      <td>NaN</td>\n",
       "      <td>NaN</td>\n",
       "      <td>NaN</td>\n",
       "    </tr>\n",
       "    <tr>\n",
       "      <th>19</th>\n",
       "      <td>438142714</td>\n",
       "      <td>114842334</td>\n",
       "      <td>247843454</td>\n",
       "      <td>NaN</td>\n",
       "      <td>2880.0</td>\n",
       "      <td>35</td>\n",
       "      <td>F</td>\n",
       "      <td>51.0</td>\n",
       "      <td>153.0</td>\n",
       "      <td>Asian</td>\n",
       "      <td>...</td>\n",
       "      <td>4040.0</td>\n",
       "      <td>0</td>\n",
       "      <td>20155.0</td>\n",
       "      <td>3780.0</td>\n",
       "      <td>4040.0</td>\n",
       "      <td>NaN</td>\n",
       "      <td>NaN</td>\n",
       "      <td>NaN</td>\n",
       "      <td>NaN</td>\n",
       "      <td>NaN</td>\n",
       "    </tr>\n",
       "    <tr>\n",
       "      <th>20</th>\n",
       "      <td>431387177</td>\n",
       "      <td>189208490</td>\n",
       "      <td>245622419</td>\n",
       "      <td>NaN</td>\n",
       "      <td>1440.0</td>\n",
       "      <td>55</td>\n",
       "      <td>F</td>\n",
       "      <td>50.0</td>\n",
       "      <td>149.0</td>\n",
       "      <td>Asian</td>\n",
       "      <td>...</td>\n",
       "      <td>2140.0</td>\n",
       "      <td>0</td>\n",
       "      <td>7195.0</td>\n",
       "      <td>1920.0</td>\n",
       "      <td>2145.0</td>\n",
       "      <td>NaN</td>\n",
       "      <td>NaN</td>\n",
       "      <td>NaN</td>\n",
       "      <td>NaN</td>\n",
       "      <td>NaN</td>\n",
       "    </tr>\n",
       "    <tr>\n",
       "      <th>21</th>\n",
       "      <td>460312223</td>\n",
       "      <td>150282051</td>\n",
       "      <td>233648230</td>\n",
       "      <td>NaN</td>\n",
       "      <td>1440.0</td>\n",
       "      <td>50</td>\n",
       "      <td>M</td>\n",
       "      <td>70.0</td>\n",
       "      <td>174.0</td>\n",
       "      <td>Asian</td>\n",
       "      <td>...</td>\n",
       "      <td>2130.0</td>\n",
       "      <td>0</td>\n",
       "      <td>4315.0</td>\n",
       "      <td>2055.0</td>\n",
       "      <td>2130.0</td>\n",
       "      <td>NaN</td>\n",
       "      <td>NaN</td>\n",
       "      <td>NaN</td>\n",
       "      <td>NaN</td>\n",
       "      <td>NaN</td>\n",
       "    </tr>\n",
       "    <tr>\n",
       "      <th>22</th>\n",
       "      <td>481240536</td>\n",
       "      <td>184414591</td>\n",
       "      <td>238745979</td>\n",
       "      <td>NaN</td>\n",
       "      <td>1440.0</td>\n",
       "      <td>55</td>\n",
       "      <td>M</td>\n",
       "      <td>82.0</td>\n",
       "      <td>172.0</td>\n",
       "      <td>Asian</td>\n",
       "      <td>...</td>\n",
       "      <td>2430.0</td>\n",
       "      <td>0</td>\n",
       "      <td>5755.0</td>\n",
       "      <td>2220.0</td>\n",
       "      <td>2425.0</td>\n",
       "      <td>NaN</td>\n",
       "      <td>NaN</td>\n",
       "      <td>NaN</td>\n",
       "      <td>NaN</td>\n",
       "      <td>NaN</td>\n",
       "    </tr>\n",
       "    <tr>\n",
       "      <th>23</th>\n",
       "      <td>414686230</td>\n",
       "      <td>113848937</td>\n",
       "      <td>203302130</td>\n",
       "      <td>NaN</td>\n",
       "      <td>5760.0</td>\n",
       "      <td>35</td>\n",
       "      <td>F</td>\n",
       "      <td>59.0</td>\n",
       "      <td>159.0</td>\n",
       "      <td>Asian</td>\n",
       "      <td>...</td>\n",
       "      <td>6795.0</td>\n",
       "      <td>0</td>\n",
       "      <td>20155.0</td>\n",
       "      <td>6545.0</td>\n",
       "      <td>6810.0</td>\n",
       "      <td>NaN</td>\n",
       "      <td>NaN</td>\n",
       "      <td>NaN</td>\n",
       "      <td>NaN</td>\n",
       "      <td>NaN</td>\n",
       "    </tr>\n",
       "    <tr>\n",
       "      <th>24</th>\n",
       "      <td>482169648</td>\n",
       "      <td>153293882</td>\n",
       "      <td>257134234</td>\n",
       "      <td>NaN</td>\n",
       "      <td>2880.0</td>\n",
       "      <td>65</td>\n",
       "      <td>F</td>\n",
       "      <td>52.0</td>\n",
       "      <td>150.0</td>\n",
       "      <td>Asian</td>\n",
       "      <td>...</td>\n",
       "      <td>4295.0</td>\n",
       "      <td>0</td>\n",
       "      <td>24475.0</td>\n",
       "      <td>3975.0</td>\n",
       "      <td>4285.0</td>\n",
       "      <td>NaN</td>\n",
       "      <td>NaN</td>\n",
       "      <td>NaN</td>\n",
       "      <td>NaN</td>\n",
       "      <td>NaN</td>\n",
       "    </tr>\n",
       "    <tr>\n",
       "      <th>25</th>\n",
       "      <td>427469408</td>\n",
       "      <td>106125331</td>\n",
       "      <td>258993433</td>\n",
       "      <td>NaN</td>\n",
       "      <td>0.0</td>\n",
       "      <td>45</td>\n",
       "      <td>F</td>\n",
       "      <td>56.0</td>\n",
       "      <td>156.0</td>\n",
       "      <td>Asian</td>\n",
       "      <td>...</td>\n",
       "      <td>560.0</td>\n",
       "      <td>0</td>\n",
       "      <td>1435.0</td>\n",
       "      <td>540.0</td>\n",
       "      <td>560.0</td>\n",
       "      <td>NaN</td>\n",
       "      <td>NaN</td>\n",
       "      <td>NaN</td>\n",
       "      <td>NaN</td>\n",
       "      <td>NaN</td>\n",
       "    </tr>\n",
       "    <tr>\n",
       "      <th>26</th>\n",
       "      <td>451454181</td>\n",
       "      <td>161883474</td>\n",
       "      <td>230524508</td>\n",
       "      <td>NaN</td>\n",
       "      <td>10080.0</td>\n",
       "      <td>75</td>\n",
       "      <td>F</td>\n",
       "      <td>78.0</td>\n",
       "      <td>154.0</td>\n",
       "      <td>Asian</td>\n",
       "      <td>...</td>\n",
       "      <td>10710.0</td>\n",
       "      <td>10080</td>\n",
       "      <td>11515.0</td>\n",
       "      <td>10680.0</td>\n",
       "      <td>10710.0</td>\n",
       "      <td>NaN</td>\n",
       "      <td>NaN</td>\n",
       "      <td>NaN</td>\n",
       "      <td>NaN</td>\n",
       "      <td>NaN</td>\n",
       "    </tr>\n",
       "    <tr>\n",
       "      <th>27</th>\n",
       "      <td>452693584</td>\n",
       "      <td>130425874</td>\n",
       "      <td>288337401</td>\n",
       "      <td>NaN</td>\n",
       "      <td>2880.0</td>\n",
       "      <td>65</td>\n",
       "      <td>F</td>\n",
       "      <td>65.0</td>\n",
       "      <td>158.0</td>\n",
       "      <td>Asian</td>\n",
       "      <td>...</td>\n",
       "      <td>3600.0</td>\n",
       "      <td>0</td>\n",
       "      <td>24475.0</td>\n",
       "      <td>3500.0</td>\n",
       "      <td>3595.0</td>\n",
       "      <td>NaN</td>\n",
       "      <td>NaN</td>\n",
       "      <td>NaN</td>\n",
       "      <td>NaN</td>\n",
       "      <td>NaN</td>\n",
       "    </tr>\n",
       "    <tr>\n",
       "      <th>28</th>\n",
       "      <td>461395205</td>\n",
       "      <td>107183003</td>\n",
       "      <td>232223592</td>\n",
       "      <td>NaN</td>\n",
       "      <td>1440.0</td>\n",
       "      <td>20</td>\n",
       "      <td>F</td>\n",
       "      <td>51.0</td>\n",
       "      <td>161.0</td>\n",
       "      <td>Asian</td>\n",
       "      <td>...</td>\n",
       "      <td>2110.0</td>\n",
       "      <td>0</td>\n",
       "      <td>10075.0</td>\n",
       "      <td>1915.0</td>\n",
       "      <td>2120.0</td>\n",
       "      <td>NaN</td>\n",
       "      <td>NaN</td>\n",
       "      <td>NaN</td>\n",
       "      <td>NaN</td>\n",
       "      <td>NaN</td>\n",
       "    </tr>\n",
       "    <tr>\n",
       "      <th>29</th>\n",
       "      <td>491765507</td>\n",
       "      <td>145034754</td>\n",
       "      <td>212305113</td>\n",
       "      <td>NaN</td>\n",
       "      <td>0.0</td>\n",
       "      <td>80</td>\n",
       "      <td>F</td>\n",
       "      <td>56.0</td>\n",
       "      <td>148.0</td>\n",
       "      <td>Asian</td>\n",
       "      <td>...</td>\n",
       "      <td>860.0</td>\n",
       "      <td>0</td>\n",
       "      <td>1435.0</td>\n",
       "      <td>830.0</td>\n",
       "      <td>865.0</td>\n",
       "      <td>NaN</td>\n",
       "      <td>NaN</td>\n",
       "      <td>NaN</td>\n",
       "      <td>NaN</td>\n",
       "      <td>NaN</td>\n",
       "    </tr>\n",
       "  </tbody>\n",
       "</table>\n",
       "<p>30 rows × 28 columns</p>\n",
       "</div>"
      ],
      "text/plain": [
       "        op_id  subject_id    hadm_id  case_id   opdate  age sex  weight  \\\n",
       "0   492758101   134244643  227878923      NaN   2880.0   75   M    68.0   \n",
       "1   403169137   143682322  252431967      NaN   1440.0   65   F    54.0   \n",
       "2   466199524   128959270  253814739      NaN      0.0   45   M    74.0   \n",
       "3   414485565   138314564  229111342      NaN   1440.0   55   M    77.0   \n",
       "4   494648487   164036054  264927286      NaN   2880.0   40   F    58.0   \n",
       "5   482324420   135070272  229635081      NaN   1440.0   60   M     NaN   \n",
       "6   477725170   134478601  296365821      NaN   1440.0   75   M    51.0   \n",
       "7   410091278   197719697  254474813      NaN   1440.0   60   F    65.0   \n",
       "8   435613982   130922710  274824097      NaN      0.0   65   F    71.0   \n",
       "9   426294358   179617042  264571024      NaN   1440.0   65   M    71.0   \n",
       "10  441541397   195584164  228241013      NaN   2880.0   45   F    63.0   \n",
       "11  461170559   189569094  258428295      NaN   1440.0   65   M     NaN   \n",
       "12  485134946   139339711  261220363      NaN   2880.0   55   F    54.0   \n",
       "13  452948164   114781894  252841189      NaN   4320.0   60   M    57.0   \n",
       "14  458356292   190742754  295483964      NaN   2880.0   60   M    59.0   \n",
       "15  437959996   123888030  281623204      NaN   2880.0   45   M    73.0   \n",
       "16  499776668   174297334  249859685      NaN   1440.0   75   M    49.0   \n",
       "17  458288381   147929790  286085204      NaN   1440.0   60   F    43.0   \n",
       "18  489229845   156349302  262119852      NaN   1440.0   60   M    73.0   \n",
       "19  438142714   114842334  247843454      NaN   2880.0   35   F    51.0   \n",
       "20  431387177   189208490  245622419      NaN   1440.0   55   F    50.0   \n",
       "21  460312223   150282051  233648230      NaN   1440.0   50   M    70.0   \n",
       "22  481240536   184414591  238745979      NaN   1440.0   55   M    82.0   \n",
       "23  414686230   113848937  203302130      NaN   5760.0   35   F    59.0   \n",
       "24  482169648   153293882  257134234      NaN   2880.0   65   F    52.0   \n",
       "25  427469408   106125331  258993433      NaN      0.0   45   F    56.0   \n",
       "26  451454181   161883474  230524508      NaN  10080.0   75   F    78.0   \n",
       "27  452693584   130425874  288337401      NaN   2880.0   65   F    65.0   \n",
       "28  461395205   107183003  232223592      NaN   1440.0   20   F    51.0   \n",
       "29  491765507   145034754  212305113      NaN      0.0   80   F    56.0   \n",
       "\n",
       "    height   race  ...  opend_time  admission_time discharge_time  \\\n",
       "0    162.0  Asian  ...      4005.0               0        10075.0   \n",
       "1    153.0  Asian  ...      2325.0               0         4315.0   \n",
       "2    171.0  Asian  ...       660.0               0         1435.0   \n",
       "3    164.0  Asian  ...      2060.0               0         8635.0   \n",
       "4    162.0  Asian  ...      3855.0               0        11515.0   \n",
       "5    174.0  Asian  ...      1985.0               0         2875.0   \n",
       "6    158.0  Asian  ...      2210.0               0        14395.0   \n",
       "7    163.0  Asian  ...      2315.0               0         8635.0   \n",
       "8    161.0  Asian  ...       585.0               0         7195.0   \n",
       "9    171.0  Asian  ...      2100.0               0        14395.0   \n",
       "10   160.0  Asian  ...      3690.0               0        10075.0   \n",
       "11   163.0  Asian  ...      2255.0               0         4315.0   \n",
       "12   154.0  Asian  ...      3480.0               0        21595.0   \n",
       "13   160.0  Asian  ...      4855.0               0         8635.0   \n",
       "14   164.0  Asian  ...      3625.0               0        23035.0   \n",
       "15   166.0  Asian  ...      3460.0               0        11515.0   \n",
       "16   164.0  Asian  ...      2145.0               0         7195.0   \n",
       "17   158.0  Asian  ...      2405.0               0         8635.0   \n",
       "18   172.0  Asian  ...      2265.0               0         4315.0   \n",
       "19   153.0  Asian  ...      4040.0               0        20155.0   \n",
       "20   149.0  Asian  ...      2140.0               0         7195.0   \n",
       "21   174.0  Asian  ...      2130.0               0         4315.0   \n",
       "22   172.0  Asian  ...      2430.0               0         5755.0   \n",
       "23   159.0  Asian  ...      6795.0               0        20155.0   \n",
       "24   150.0  Asian  ...      4295.0               0        24475.0   \n",
       "25   156.0  Asian  ...       560.0               0         1435.0   \n",
       "26   154.0  Asian  ...     10710.0           10080        11515.0   \n",
       "27   158.0  Asian  ...      3600.0               0        24475.0   \n",
       "28   161.0  Asian  ...      2110.0               0        10075.0   \n",
       "29   148.0  Asian  ...       860.0               0         1435.0   \n",
       "\n",
       "   anstart_time anend_time  cpbon_time  cpboff_time  icuin_time  icuout_time  \\\n",
       "0        3860.0     4005.0         NaN          NaN         NaN          NaN   \n",
       "1        2240.0     2335.0         NaN          NaN         NaN          NaN   \n",
       "2         640.0      660.0         NaN          NaN         NaN          NaN   \n",
       "3        1915.0     2070.0         NaN          NaN         NaN          NaN   \n",
       "4        3840.0     3860.0         NaN          NaN         NaN          NaN   \n",
       "5        1955.0     1995.0         NaN          NaN         NaN          NaN   \n",
       "6        1920.0     2215.0         NaN          NaN         NaN          NaN   \n",
       "7        2210.0     2325.0         NaN          NaN         NaN          NaN   \n",
       "8         480.0      580.0         NaN          NaN         NaN          NaN   \n",
       "9        1925.0     2095.0         NaN          NaN         NaN          NaN   \n",
       "10       3570.0     3690.0         NaN          NaN         NaN          NaN   \n",
       "11       2145.0     2255.0         NaN          NaN         NaN          NaN   \n",
       "12       3360.0     3490.0         NaN          NaN         NaN          NaN   \n",
       "13       4795.0     4860.0         NaN          NaN         NaN          NaN   \n",
       "14       3440.0     3625.0         NaN          NaN         NaN          NaN   \n",
       "15       3365.0     3465.0         NaN          NaN         NaN          NaN   \n",
       "16       2040.0     2155.0         NaN          NaN         NaN          NaN   \n",
       "17       2290.0     2410.0         NaN          NaN         NaN          NaN   \n",
       "18       2155.0     2270.0         NaN          NaN         NaN          NaN   \n",
       "19       3780.0     4040.0         NaN          NaN         NaN          NaN   \n",
       "20       1920.0     2145.0         NaN          NaN         NaN          NaN   \n",
       "21       2055.0     2130.0         NaN          NaN         NaN          NaN   \n",
       "22       2220.0     2425.0         NaN          NaN         NaN          NaN   \n",
       "23       6545.0     6810.0         NaN          NaN         NaN          NaN   \n",
       "24       3975.0     4285.0         NaN          NaN         NaN          NaN   \n",
       "25        540.0      560.0         NaN          NaN         NaN          NaN   \n",
       "26      10680.0    10710.0         NaN          NaN         NaN          NaN   \n",
       "27       3500.0     3595.0         NaN          NaN         NaN          NaN   \n",
       "28       1915.0     2120.0         NaN          NaN         NaN          NaN   \n",
       "29        830.0      865.0         NaN          NaN         NaN          NaN   \n",
       "\n",
       "    inhosp_death_time  \n",
       "0                 NaN  \n",
       "1                 NaN  \n",
       "2                 NaN  \n",
       "3                 NaN  \n",
       "4                 NaN  \n",
       "5                 NaN  \n",
       "6                 NaN  \n",
       "7                 NaN  \n",
       "8                 NaN  \n",
       "9                 NaN  \n",
       "10                NaN  \n",
       "11                NaN  \n",
       "12                NaN  \n",
       "13                NaN  \n",
       "14                NaN  \n",
       "15                NaN  \n",
       "16                NaN  \n",
       "17                NaN  \n",
       "18                NaN  \n",
       "19                NaN  \n",
       "20                NaN  \n",
       "21                NaN  \n",
       "22                NaN  \n",
       "23                NaN  \n",
       "24                NaN  \n",
       "25                NaN  \n",
       "26                NaN  \n",
       "27                NaN  \n",
       "28                NaN  \n",
       "29                NaN  \n",
       "\n",
       "[30 rows x 28 columns]"
      ]
     },
     "execution_count": 5,
     "metadata": {},
     "output_type": "execute_result"
    }
   ],
   "source": [
    "df_operations.head(30)"
   ]
  },
  {
   "cell_type": "code",
   "execution_count": 6,
   "metadata": {},
   "outputs": [
    {
     "name": "stdout",
     "output_type": "stream",
     "text": [
      "<class 'pandas.core.frame.DataFrame'>\n",
      "RangeIndex: 5000 entries, 0 to 4999\n",
      "Data columns (total 28 columns):\n",
      " #   Column             Non-Null Count  Dtype  \n",
      "---  ------             --------------  -----  \n",
      " 0   op_id              5000 non-null   int64  \n",
      " 1   subject_id         5000 non-null   int64  \n",
      " 2   hadm_id            5000 non-null   int64  \n",
      " 3   case_id            748 non-null    float64\n",
      " 4   opdate             4999 non-null   float64\n",
      " 5   age                5000 non-null   int64  \n",
      " 6   sex                5000 non-null   object \n",
      " 7   weight             4966 non-null   float64\n",
      " 8   height             4979 non-null   float64\n",
      " 9   race               5000 non-null   object \n",
      " 10  asa                4891 non-null   float64\n",
      " 11  emop               5000 non-null   int64  \n",
      " 12  department         5000 non-null   object \n",
      " 13  antype             5000 non-null   object \n",
      " 14  icd10_pcs          5000 non-null   object \n",
      " 15  orin_time          5000 non-null   int64  \n",
      " 16  orout_time         4999 non-null   float64\n",
      " 17  opstart_time       5000 non-null   float64\n",
      " 18  opend_time         5000 non-null   float64\n",
      " 19  admission_time     5000 non-null   int64  \n",
      " 20  discharge_time     4999 non-null   float64\n",
      " 21  anstart_time       5000 non-null   float64\n",
      " 22  anend_time         4998 non-null   float64\n",
      " 23  cpbon_time         44 non-null     float64\n",
      " 24  cpboff_time        44 non-null     float64\n",
      " 25  icuin_time         425 non-null    float64\n",
      " 26  icuout_time        425 non-null    float64\n",
      " 27  inhosp_death_time  9 non-null      float64\n",
      "dtypes: float64(16), int64(7), object(5)\n",
      "memory usage: 1.1+ MB\n"
     ]
    }
   ],
   "source": [
    "df_operations.info()"
   ]
  },
  {
   "cell_type": "code",
   "execution_count": 7,
   "metadata": {},
   "outputs": [
    {
     "data": {
      "text/plain": [
       "Index(['op_id', 'subject_id', 'hadm_id', 'case_id', 'opdate', 'age', 'sex',\n",
       "       'weight', 'height', 'race', 'asa', 'emop', 'department', 'antype',\n",
       "       'icd10_pcs', 'orin_time', 'orout_time', 'opstart_time', 'opend_time',\n",
       "       'admission_time', 'discharge_time', 'anstart_time', 'anend_time',\n",
       "       'cpbon_time', 'cpboff_time', 'icuin_time', 'icuout_time',\n",
       "       'inhosp_death_time'],\n",
       "      dtype='object')"
      ]
     },
     "execution_count": 7,
     "metadata": {},
     "output_type": "execute_result"
    }
   ],
   "source": [
    "df_operations.columns"
   ]
  },
  {
   "cell_type": "code",
   "execution_count": 8,
   "metadata": {},
   "outputs": [
    {
     "data": {
      "text/html": [
       "<div>\n",
       "<style scoped>\n",
       "    .dataframe tbody tr th:only-of-type {\n",
       "        vertical-align: middle;\n",
       "    }\n",
       "\n",
       "    .dataframe tbody tr th {\n",
       "        vertical-align: top;\n",
       "    }\n",
       "\n",
       "    .dataframe thead th {\n",
       "        text-align: right;\n",
       "    }\n",
       "</style>\n",
       "<table border=\"1\" class=\"dataframe\">\n",
       "  <thead>\n",
       "    <tr style=\"text-align: right;\">\n",
       "      <th></th>\n",
       "      <th>op_id</th>\n",
       "      <th>subject_id</th>\n",
       "      <th>hadm_id</th>\n",
       "      <th>case_id</th>\n",
       "      <th>opdate</th>\n",
       "      <th>age</th>\n",
       "      <th>weight</th>\n",
       "      <th>height</th>\n",
       "      <th>asa</th>\n",
       "      <th>emop</th>\n",
       "      <th>...</th>\n",
       "      <th>opend_time</th>\n",
       "      <th>admission_time</th>\n",
       "      <th>discharge_time</th>\n",
       "      <th>anstart_time</th>\n",
       "      <th>anend_time</th>\n",
       "      <th>cpbon_time</th>\n",
       "      <th>cpboff_time</th>\n",
       "      <th>icuin_time</th>\n",
       "      <th>icuout_time</th>\n",
       "      <th>inhosp_death_time</th>\n",
       "    </tr>\n",
       "  </thead>\n",
       "  <tbody>\n",
       "    <tr>\n",
       "      <th>count</th>\n",
       "      <td>5.000000e+03</td>\n",
       "      <td>5.000000e+03</td>\n",
       "      <td>5.000000e+03</td>\n",
       "      <td>748.000000</td>\n",
       "      <td>4.999000e+03</td>\n",
       "      <td>5000.00000</td>\n",
       "      <td>4966.000000</td>\n",
       "      <td>4979.000000</td>\n",
       "      <td>4891.000000</td>\n",
       "      <td>5000.000000</td>\n",
       "      <td>...</td>\n",
       "      <td>5.000000e+03</td>\n",
       "      <td>5.000000e+03</td>\n",
       "      <td>4.999000e+03</td>\n",
       "      <td>5.000000e+03</td>\n",
       "      <td>4.998000e+03</td>\n",
       "      <td>4.400000e+01</td>\n",
       "      <td>4.400000e+01</td>\n",
       "      <td>4.250000e+02</td>\n",
       "      <td>4.250000e+02</td>\n",
       "      <td>9.000000e+00</td>\n",
       "    </tr>\n",
       "    <tr>\n",
       "      <th>mean</th>\n",
       "      <td>4.503328e+08</td>\n",
       "      <td>1.509382e+08</td>\n",
       "      <td>2.500442e+08</td>\n",
       "      <td>2014.183155</td>\n",
       "      <td>1.447487e+05</td>\n",
       "      <td>55.93260</td>\n",
       "      <td>62.529400</td>\n",
       "      <td>161.821852</td>\n",
       "      <td>1.761603</td>\n",
       "      <td>0.084400</td>\n",
       "      <td>...</td>\n",
       "      <td>1.451464e+05</td>\n",
       "      <td>1.429478e+05</td>\n",
       "      <td>1.562155e+05</td>\n",
       "      <td>1.499910e+05</td>\n",
       "      <td>1.514323e+05</td>\n",
       "      <td>1.038948e+05</td>\n",
       "      <td>1.047791e+05</td>\n",
       "      <td>1.011269e+05</td>\n",
       "      <td>1.028264e+05</td>\n",
       "      <td>6.741494e+05</td>\n",
       "    </tr>\n",
       "    <tr>\n",
       "      <th>std</th>\n",
       "      <td>2.905982e+07</td>\n",
       "      <td>2.825163e+07</td>\n",
       "      <td>2.881928e+07</td>\n",
       "      <td>19959.620743</td>\n",
       "      <td>5.197226e+05</td>\n",
       "      <td>15.52591</td>\n",
       "      <td>11.502872</td>\n",
       "      <td>8.822510</td>\n",
       "      <td>0.638574</td>\n",
       "      <td>0.278015</td>\n",
       "      <td>...</td>\n",
       "      <td>5.127296e+05</td>\n",
       "      <td>5.209345e+05</td>\n",
       "      <td>5.309183e+05</td>\n",
       "      <td>5.336791e+05</td>\n",
       "      <td>5.311105e+05</td>\n",
       "      <td>3.602823e+05</td>\n",
       "      <td>3.639650e+05</td>\n",
       "      <td>3.550778e+05</td>\n",
       "      <td>3.511428e+05</td>\n",
       "      <td>6.955914e+05</td>\n",
       "    </tr>\n",
       "    <tr>\n",
       "      <th>min</th>\n",
       "      <td>4.000399e+08</td>\n",
       "      <td>1.000378e+08</td>\n",
       "      <td>2.000285e+08</td>\n",
       "      <td>-32112.000000</td>\n",
       "      <td>0.000000e+00</td>\n",
       "      <td>20.00000</td>\n",
       "      <td>1.000000</td>\n",
       "      <td>50.000000</td>\n",
       "      <td>1.000000</td>\n",
       "      <td>0.000000</td>\n",
       "      <td>...</td>\n",
       "      <td>1.350000e+02</td>\n",
       "      <td>0.000000e+00</td>\n",
       "      <td>1.435000e+03</td>\n",
       "      <td>6.500000e+01</td>\n",
       "      <td>2.300000e+02</td>\n",
       "      <td>2.035000e+03</td>\n",
       "      <td>2.195000e+03</td>\n",
       "      <td>1.400000e+01</td>\n",
       "      <td>1.300000e+03</td>\n",
       "      <td>5.055500e+04</td>\n",
       "    </tr>\n",
       "    <tr>\n",
       "      <th>25%</th>\n",
       "      <td>4.250842e+08</td>\n",
       "      <td>1.270841e+08</td>\n",
       "      <td>2.253140e+08</td>\n",
       "      <td>-18973.250000</td>\n",
       "      <td>1.440000e+03</td>\n",
       "      <td>45.00000</td>\n",
       "      <td>54.000000</td>\n",
       "      <td>155.000000</td>\n",
       "      <td>1.000000</td>\n",
       "      <td>0.000000</td>\n",
       "      <td>...</td>\n",
       "      <td>2.185000e+03</td>\n",
       "      <td>0.000000e+00</td>\n",
       "      <td>5.755000e+03</td>\n",
       "      <td>2.060000e+03</td>\n",
       "      <td>2.190000e+03</td>\n",
       "      <td>4.276250e+03</td>\n",
       "      <td>4.268750e+03</td>\n",
       "      <td>2.560000e+03</td>\n",
       "      <td>4.935000e+03</td>\n",
       "      <td>1.675900e+05</td>\n",
       "    </tr>\n",
       "    <tr>\n",
       "      <th>50%</th>\n",
       "      <td>4.507401e+08</td>\n",
       "      <td>1.520086e+08</td>\n",
       "      <td>2.494477e+08</td>\n",
       "      <td>6313.500000</td>\n",
       "      <td>1.440000e+03</td>\n",
       "      <td>60.00000</td>\n",
       "      <td>61.000000</td>\n",
       "      <td>161.000000</td>\n",
       "      <td>2.000000</td>\n",
       "      <td>0.000000</td>\n",
       "      <td>...</td>\n",
       "      <td>2.777500e+03</td>\n",
       "      <td>0.000000e+00</td>\n",
       "      <td>1.007500e+04</td>\n",
       "      <td>2.647500e+03</td>\n",
       "      <td>2.785000e+03</td>\n",
       "      <td>6.597500e+03</td>\n",
       "      <td>6.840000e+03</td>\n",
       "      <td>3.920000e+03</td>\n",
       "      <td>6.585000e+03</td>\n",
       "      <td>2.463750e+05</td>\n",
       "    </tr>\n",
       "    <tr>\n",
       "      <th>75%</th>\n",
       "      <td>4.759800e+08</td>\n",
       "      <td>1.746403e+08</td>\n",
       "      <td>2.755383e+08</td>\n",
       "      <td>18766.750000</td>\n",
       "      <td>4.320000e+03</td>\n",
       "      <td>70.00000</td>\n",
       "      <td>70.000000</td>\n",
       "      <td>168.000000</td>\n",
       "      <td>2.000000</td>\n",
       "      <td>0.000000</td>\n",
       "      <td>...</td>\n",
       "      <td>5.580000e+03</td>\n",
       "      <td>0.000000e+00</td>\n",
       "      <td>2.159500e+04</td>\n",
       "      <td>5.427500e+03</td>\n",
       "      <td>5.548750e+03</td>\n",
       "      <td>1.085750e+04</td>\n",
       "      <td>1.080125e+04</td>\n",
       "      <td>8.410000e+03</td>\n",
       "      <td>1.273000e+04</td>\n",
       "      <td>1.112655e+06</td>\n",
       "    </tr>\n",
       "    <tr>\n",
       "      <th>max</th>\n",
       "      <td>4.999609e+08</td>\n",
       "      <td>1.999934e+08</td>\n",
       "      <td>2.999760e+08</td>\n",
       "      <td>32699.000000</td>\n",
       "      <td>4.948320e+06</td>\n",
       "      <td>90.00000</td>\n",
       "      <td>165.000000</td>\n",
       "      <td>194.000000</td>\n",
       "      <td>6.000000</td>\n",
       "      <td>1.000000</td>\n",
       "      <td>...</td>\n",
       "      <td>4.772835e+06</td>\n",
       "      <td>4.998240e+06</td>\n",
       "      <td>4.950715e+06</td>\n",
       "      <td>4.998950e+06</td>\n",
       "      <td>4.823000e+06</td>\n",
       "      <td>1.704895e+06</td>\n",
       "      <td>1.736050e+06</td>\n",
       "      <td>2.978690e+06</td>\n",
       "      <td>2.978740e+06</td>\n",
       "      <td>1.894785e+06</td>\n",
       "    </tr>\n",
       "  </tbody>\n",
       "</table>\n",
       "<p>8 rows × 23 columns</p>\n",
       "</div>"
      ],
      "text/plain": [
       "              op_id    subject_id       hadm_id       case_id        opdate  \\\n",
       "count  5.000000e+03  5.000000e+03  5.000000e+03    748.000000  4.999000e+03   \n",
       "mean   4.503328e+08  1.509382e+08  2.500442e+08   2014.183155  1.447487e+05   \n",
       "std    2.905982e+07  2.825163e+07  2.881928e+07  19959.620743  5.197226e+05   \n",
       "min    4.000399e+08  1.000378e+08  2.000285e+08 -32112.000000  0.000000e+00   \n",
       "25%    4.250842e+08  1.270841e+08  2.253140e+08 -18973.250000  1.440000e+03   \n",
       "50%    4.507401e+08  1.520086e+08  2.494477e+08   6313.500000  1.440000e+03   \n",
       "75%    4.759800e+08  1.746403e+08  2.755383e+08  18766.750000  4.320000e+03   \n",
       "max    4.999609e+08  1.999934e+08  2.999760e+08  32699.000000  4.948320e+06   \n",
       "\n",
       "              age       weight       height          asa         emop  ...  \\\n",
       "count  5000.00000  4966.000000  4979.000000  4891.000000  5000.000000  ...   \n",
       "mean     55.93260    62.529400   161.821852     1.761603     0.084400  ...   \n",
       "std      15.52591    11.502872     8.822510     0.638574     0.278015  ...   \n",
       "min      20.00000     1.000000    50.000000     1.000000     0.000000  ...   \n",
       "25%      45.00000    54.000000   155.000000     1.000000     0.000000  ...   \n",
       "50%      60.00000    61.000000   161.000000     2.000000     0.000000  ...   \n",
       "75%      70.00000    70.000000   168.000000     2.000000     0.000000  ...   \n",
       "max      90.00000   165.000000   194.000000     6.000000     1.000000  ...   \n",
       "\n",
       "         opend_time  admission_time  discharge_time  anstart_time  \\\n",
       "count  5.000000e+03    5.000000e+03    4.999000e+03  5.000000e+03   \n",
       "mean   1.451464e+05    1.429478e+05    1.562155e+05  1.499910e+05   \n",
       "std    5.127296e+05    5.209345e+05    5.309183e+05  5.336791e+05   \n",
       "min    1.350000e+02    0.000000e+00    1.435000e+03  6.500000e+01   \n",
       "25%    2.185000e+03    0.000000e+00    5.755000e+03  2.060000e+03   \n",
       "50%    2.777500e+03    0.000000e+00    1.007500e+04  2.647500e+03   \n",
       "75%    5.580000e+03    0.000000e+00    2.159500e+04  5.427500e+03   \n",
       "max    4.772835e+06    4.998240e+06    4.950715e+06  4.998950e+06   \n",
       "\n",
       "         anend_time    cpbon_time   cpboff_time    icuin_time   icuout_time  \\\n",
       "count  4.998000e+03  4.400000e+01  4.400000e+01  4.250000e+02  4.250000e+02   \n",
       "mean   1.514323e+05  1.038948e+05  1.047791e+05  1.011269e+05  1.028264e+05   \n",
       "std    5.311105e+05  3.602823e+05  3.639650e+05  3.550778e+05  3.511428e+05   \n",
       "min    2.300000e+02  2.035000e+03  2.195000e+03  1.400000e+01  1.300000e+03   \n",
       "25%    2.190000e+03  4.276250e+03  4.268750e+03  2.560000e+03  4.935000e+03   \n",
       "50%    2.785000e+03  6.597500e+03  6.840000e+03  3.920000e+03  6.585000e+03   \n",
       "75%    5.548750e+03  1.085750e+04  1.080125e+04  8.410000e+03  1.273000e+04   \n",
       "max    4.823000e+06  1.704895e+06  1.736050e+06  2.978690e+06  2.978740e+06   \n",
       "\n",
       "       inhosp_death_time  \n",
       "count       9.000000e+00  \n",
       "mean        6.741494e+05  \n",
       "std         6.955914e+05  \n",
       "min         5.055500e+04  \n",
       "25%         1.675900e+05  \n",
       "50%         2.463750e+05  \n",
       "75%         1.112655e+06  \n",
       "max         1.894785e+06  \n",
       "\n",
       "[8 rows x 23 columns]"
      ]
     },
     "execution_count": 8,
     "metadata": {},
     "output_type": "execute_result"
    }
   ],
   "source": [
    "df_operations.describe()"
   ]
  },
  {
   "cell_type": "markdown",
   "metadata": {},
   "source": [
    "Op id"
   ]
  },
  {
   "cell_type": "markdown",
   "metadata": {},
   "source": [
    "Each admission and operation were randomly assigned with unique numbers (hadm_id and op_id, respectively)."
   ]
  },
  {
   "cell_type": "code",
   "execution_count": 9,
   "metadata": {},
   "outputs": [
    {
     "name": "stdout",
     "output_type": "stream",
     "text": [
      "5000\n"
     ]
    }
   ],
   "source": [
    "unique_subject_ids = df_operations['op_id'].nunique()\n",
    "print(unique_subject_ids)"
   ]
  },
  {
   "cell_type": "code",
   "execution_count": 10,
   "metadata": {},
   "outputs": [
    {
     "name": "stdout",
     "output_type": "stream",
     "text": [
      "[492758101 403169137 466199524 414485565 494648487 482324420 477725170\n",
      " 410091278 435613982 426294358 441541397 461170559 485134946 452948164\n",
      " 458356292 437959996 499776668 458288381 489229845 438142714 431387177\n",
      " 460312223 481240536 414686230 482169648 427469408 451454181 452693584\n",
      " 461395205 491765507]\n"
     ]
    }
   ],
   "source": [
    "unique_icd10_pcs_values = df_operations['op_id'].unique()\n",
    "print(unique_icd10_pcs_values[:30])"
   ]
  },
  {
   "cell_type": "markdown",
   "metadata": {},
   "source": [
    "Subject id"
   ]
  },
  {
   "cell_type": "markdown",
   "metadata": {},
   "source": [
    "Each table can be connected using subject_id. A subject_id may be matched to one or more hadm_ids. A single hadm_id may be matched with one or more op_ids. \n",
    "We did not extract these variables except for the medical record number, which was subsequently substituted with unique random integers as the subject id (described as subject_id). Each admission and operation were randomly assigned with unique numbers (hadm_id and op_id, respectively). To allow identifiers to be easily distinguished, subject_id begin with “1”, hadm_id begin with “2”, and and op_id, respectively begin with “4”."
   ]
  },
  {
   "cell_type": "code",
   "execution_count": 11,
   "metadata": {},
   "outputs": [
    {
     "name": "stdout",
     "output_type": "stream",
     "text": [
      "4998\n"
     ]
    }
   ],
   "source": [
    "unique_subject_ids = df_operations['subject_id'].nunique()\n",
    "print(unique_subject_ids)"
   ]
  },
  {
   "cell_type": "code",
   "execution_count": 12,
   "metadata": {},
   "outputs": [
    {
     "name": "stdout",
     "output_type": "stream",
     "text": [
      "[134244643 143682322 128959270 138314564 164036054 135070272 134478601\n",
      " 197719697 130922710 179617042 195584164 189569094 139339711 114781894\n",
      " 190742754 123888030 174297334 147929790 156349302 114842334 189208490\n",
      " 150282051 184414591 113848937 153293882 106125331 161883474 130425874\n",
      " 107183003 145034754]\n"
     ]
    }
   ],
   "source": [
    "unique_subject_id = df_operations['subject_id'].unique()\n",
    "print(unique_subject_id[:30])"
   ]
  },
  {
   "cell_type": "code",
   "execution_count": 13,
   "metadata": {},
   "outputs": [
    {
     "name": "stdout",
     "output_type": "stream",
     "text": [
      "subject_id\n",
      "110040240    2\n",
      "190742754    2\n",
      "134244643    1\n",
      "179425943    1\n",
      "128776228    1\n",
      "178940853    1\n",
      "149684624    1\n",
      "133038430    1\n",
      "192700941    1\n",
      "108164874    1\n",
      "150001781    1\n",
      "196319380    1\n",
      "163813871    1\n",
      "100808430    1\n",
      "196004039    1\n",
      "150750641    1\n",
      "162438021    1\n",
      "120133703    1\n",
      "194146024    1\n",
      "195351287    1\n",
      "193419397    1\n",
      "172920441    1\n",
      "164132802    1\n",
      "116654670    1\n",
      "175921143    1\n",
      "136936630    1\n",
      "129720910    1\n",
      "118737380    1\n",
      "186627778    1\n",
      "199993363    1\n",
      "Name: count, dtype: int64\n"
     ]
    }
   ],
   "source": [
    "top_10_subject_id = df_operations['subject_id'].value_counts().head(30)\n",
    "print(top_10_subject_id)"
   ]
  },
  {
   "cell_type": "markdown",
   "metadata": {},
   "source": [
    "Hadm_id"
   ]
  },
  {
   "cell_type": "code",
   "execution_count": 14,
   "metadata": {},
   "outputs": [
    {
     "name": "stdout",
     "output_type": "stream",
     "text": [
      "4997\n"
     ]
    }
   ],
   "source": [
    "unique_hadm_id = df_operations['hadm_id'].nunique()\n",
    "print(unique_hadm_id)"
   ]
  },
  {
   "cell_type": "code",
   "execution_count": 15,
   "metadata": {},
   "outputs": [
    {
     "name": "stdout",
     "output_type": "stream",
     "text": [
      "[227878923 252431967 253814739 229111342 264927286 229635081 296365821\n",
      " 254474813 274824097 264571024 228241013 258428295 261220363 252841189\n",
      " 295483964 281623204 249859685 286085204 262119852 247843454 245622419\n",
      " 233648230 238745979 203302130 257134234 258993433 230524508 288337401\n",
      " 232223592 212305113]\n"
     ]
    }
   ],
   "source": [
    "unique_hadm_id = df_operations['hadm_id'].unique()\n",
    "print(unique_hadm_id[:30])"
   ]
  },
  {
   "cell_type": "code",
   "execution_count": 16,
   "metadata": {},
   "outputs": [
    {
     "name": "stdout",
     "output_type": "stream",
     "text": [
      "hadm_id\n",
      "209181966    2\n",
      "295483964    2\n",
      "246137863    2\n",
      "227878923    1\n",
      "284213981    1\n",
      "275318618    1\n",
      "235032079    1\n",
      "220471885    1\n",
      "270483846    1\n",
      "284215760    1\n",
      "237442430    1\n",
      "208375669    1\n",
      "200266054    1\n",
      "233651846    1\n",
      "238754015    1\n",
      "244247873    1\n",
      "234300547    1\n",
      "271471317    1\n",
      "255069068    1\n",
      "219600313    1\n",
      "252203423    1\n",
      "249294013    1\n",
      "262549285    1\n",
      "283087991    1\n",
      "209543158    1\n",
      "242081280    1\n",
      "239652213    1\n",
      "261414690    1\n",
      "272586743    1\n",
      "298928122    1\n",
      "Name: count, dtype: int64\n"
     ]
    }
   ],
   "source": [
    "top_10_hadm_id = df_operations['hadm_id'].value_counts().head(30)\n",
    "print(top_10_hadm_id)"
   ]
  },
  {
   "cell_type": "markdown",
   "metadata": {},
   "source": [
    "ICS-10-PCS"
   ]
  },
  {
   "cell_type": "markdown",
   "metadata": {},
   "source": [
    " Operation names were converted to the first four codes of ICD-10-PCS"
   ]
  },
  {
   "cell_type": "code",
   "execution_count": 17,
   "metadata": {},
   "outputs": [
    {
     "name": "stdout",
     "output_type": "stream",
     "text": [
      "532\n"
     ]
    }
   ],
   "source": [
    "unique_subject_ids = df_operations['icd10_pcs'].nunique()\n",
    "print(unique_subject_ids)"
   ]
  },
  {
   "cell_type": "code",
   "execution_count": 18,
   "metadata": {},
   "outputs": [
    {
     "name": "stdout",
     "output_type": "stream",
     "text": [
      "['08RJ3' '0D160' '08DJ3' '08Q1X' '08BSX' '08R43' '08RK3' '0FT10' '0BBF4'\n",
      " '0TY00' '0DTP0' '09B00' '0XP6X' '0HBT0' '0GTK0' '0CQ80' '0HBU0' '0TBB4'\n",
      " '09Q70' '0RG00' '0FB04' '08D43' '0UT04' '0SBD0' '02QA0' '0TT00' '0BTC4'\n",
      " '0VB08' '009T0' '0FT44']\n"
     ]
    }
   ],
   "source": [
    "unique_icd10_pcs_values = df_operations['icd10_pcs'].unique()\n",
    "print(unique_icd10_pcs_values[:30])"
   ]
  },
  {
   "cell_type": "code",
   "execution_count": 19,
   "metadata": {},
   "outputs": [
    {
     "name": "stdout",
     "output_type": "stream",
     "text": [
      "icd10_pcs\n",
      "08DJ3    219\n",
      "09Q70    163\n",
      "0HBT0    145\n",
      "0GTK0    138\n",
      "08R43    132\n",
      "0HBU0    129\n",
      "0FT44    104\n",
      "0DB64    104\n",
      "08RJ3     81\n",
      "0RG00     79\n",
      "0TBB8     78\n",
      "0TBB7     74\n",
      "10D00     70\n",
      "08RK3     70\n",
      "09B00     68\n",
      "0DTP0     67\n",
      "0WQN0     57\n",
      "0WJG0     56\n",
      "0UJD8     56\n",
      "0VB08     56\n",
      "0UT94     49\n",
      "0HD0X     48\n",
      "0HQ0X     46\n",
      "0VT00     45\n",
      "0D160     45\n",
      "00B00     44\n",
      "0YQ50     42\n",
      "0DB60     40\n",
      "0SRA0     40\n",
      "0PB00     40\n",
      "Name: count, dtype: int64\n"
     ]
    }
   ],
   "source": [
    "top_10_icd10_pcs = df_operations['icd10_pcs'].value_counts().head(30)\n",
    "print(top_10_icd10_pcs)\n"
   ]
  },
  {
   "cell_type": "code",
   "execution_count": 20,
   "metadata": {},
   "outputs": [
    {
     "name": "stderr",
     "output_type": "stream",
     "text": [
      "C:\\Users\\20181588\\AppData\\Local\\Temp\\ipykernel_3108\\2299865560.py:6: FutureWarning: \n",
      "\n",
      "Passing `palette` without assigning `hue` is deprecated and will be removed in v0.14.0. Assign the `x` variable to `hue` and set `legend=False` for the same effect.\n",
      "\n",
      "  sns.barplot(x=top_10_icd10_pcs.index, y=top_10_icd10_pcs.values, palette=\"viridis\")\n"
     ]
    },
    {
     "data": {
      "image/png": "[encoded data removed]",
      "text/plain": [
       "<Figure size 1200x800 with 1 Axes>"
      ]
     },
     "metadata": {},
     "output_type": "display_data"
    }
   ],
   "source": [
    "import matplotlib.pyplot as plt\n",
    "import seaborn as sns\n",
    "\n",
    "# Plotting the top 10 ICD-10-PCS codes\n",
    "plt.figure(figsize=(12, 8))\n",
    "sns.barplot(x=top_10_icd10_pcs.index, y=top_10_icd10_pcs.values, palette=\"viridis\")\n",
    "plt.xticks(rotation=45)\n",
    "plt.title(\"International Classification of Diseases, 10th revision, Clinical Modification (ICD-10-CM) Codes\")\n",
    "plt.ylabel(\"Number of Occurrences\")\n",
    "plt.xlabel(\"ICD-10-PCS Code\")\n",
    "plt.show()"
   ]
  },
  {
   "cell_type": "markdown",
   "metadata": {},
   "source": [
    "Department"
   ]
  },
  {
   "cell_type": "code",
   "execution_count": 21,
   "metadata": {},
   "outputs": [
    {
     "name": "stdout",
     "output_type": "stream",
     "text": [
      "12\n"
     ]
    }
   ],
   "source": [
    "unique_department = df_operations['department'].nunique()\n",
    "print(unique_department)"
   ]
  },
  {
   "cell_type": "code",
   "execution_count": 22,
   "metadata": {},
   "outputs": [
    {
     "name": "stdout",
     "output_type": "stream",
     "text": [
      "['OT' 'GS' 'CTS' 'OS' 'OL' 'OG' 'UR' 'NS' 'PS' 'RAD' 'AN' 'IM']\n"
     ]
    }
   ],
   "source": [
    "unique_department = df_operations['department'].unique()\n",
    "print(unique_department[:16])"
   ]
  },
  {
   "cell_type": "code",
   "execution_count": 23,
   "metadata": {},
   "outputs": [
    {
     "name": "stdout",
     "output_type": "stream",
     "text": [
      "department\n",
      "GS     1432\n",
      "OS      686\n",
      "OT      599\n",
      "UR      524\n",
      "OG      464\n",
      "OL      408\n",
      "NS      372\n",
      "CTS     285\n",
      "PS      221\n",
      "RAD       5\n",
      "AN        3\n",
      "IM        1\n",
      "Name: count, dtype: int64\n"
     ]
    }
   ],
   "source": [
    "top_10_department  = df_operations['department'].value_counts().head(16)\n",
    "print(top_10_department )"
   ]
  },
  {
   "cell_type": "markdown",
   "metadata": {},
   "source": [
    "OG: Obstetrics and Gynecology\n",
    "GS: General Surgery\n",
    "OS: Orthopedic Surgery\n",
    "OT: Occupational Therapy (though in a department context, this might mean something else)\n",
    "CTS: Cardiothoracic Surgery\n",
    "UR: Urology\n",
    "OL: Otolaryngology (Ear, Nose, and Throat or ENT)\n",
    "NS: Neurosurgery or Neurological Surgery\n",
    "PS: Plastic Surgery\n",
    "EM: Emergency Medicine\n",
    "AN: Anesthesiology\n",
    "RO: Radiation Oncology\n",
    "IM: Internal Medicine\n",
    "PED: Pediatrics\n",
    "DM:  Dhermathology\n",
    "RAD: Radiology"
   ]
  },
  {
   "cell_type": "markdown",
   "metadata": {},
   "source": [
    "Anaesthesia type"
   ]
  },
  {
   "cell_type": "code",
   "execution_count": 24,
   "metadata": {},
   "outputs": [
    {
     "name": "stdout",
     "output_type": "stream",
     "text": [
      "4\n"
     ]
    }
   ],
   "source": [
    "unique_antype = df_operations['antype'].nunique()\n",
    "print(unique_antype)"
   ]
  },
  {
   "cell_type": "code",
   "execution_count": 25,
   "metadata": {},
   "outputs": [
    {
     "name": "stdout",
     "output_type": "stream",
     "text": [
      "['MAC' 'General' 'Neuraxial' 'Regional']\n"
     ]
    }
   ],
   "source": [
    "unique_antype = df_operations['antype'].unique()\n",
    "print(unique_antype[:4])"
   ]
  },
  {
   "cell_type": "code",
   "execution_count": 26,
   "metadata": {},
   "outputs": [
    {
     "name": "stdout",
     "output_type": "stream",
     "text": [
      "antype\n",
      "General      3878\n",
      "MAC           580\n",
      "Neuraxial     540\n",
      "Regional        2\n",
      "Name: count, dtype: int64\n"
     ]
    }
   ],
   "source": [
    "top_10_antype= df_operations['antype'].value_counts().head(4)\n",
    "print(top_10_antype)"
   ]
  },
  {
   "cell_type": "markdown",
   "metadata": {},
   "source": [
    "Duration of stay time is dischage time (all tines are shown in minutes)"
   ]
  },
  {
   "cell_type": "code",
   "execution_count": 27,
   "metadata": {},
   "outputs": [
    {
     "name": "stdout",
     "output_type": "stream",
     "text": [
      "0     0\n",
      "1     0\n",
      "2     0\n",
      "3     0\n",
      "4     0\n",
      "5     0\n",
      "6     0\n",
      "7     0\n",
      "8     0\n",
      "9     0\n",
      "10    0\n",
      "11    0\n",
      "12    0\n",
      "13    0\n",
      "14    0\n",
      "Name: admission_time, dtype: int64\n"
     ]
    }
   ],
   "source": [
    "print(df_operations['admission_time'] [:15])"
   ]
  },
  {
   "cell_type": "code",
   "execution_count": 28,
   "metadata": {},
   "outputs": [
    {
     "name": "stdout",
     "output_type": "stream",
     "text": [
      "0     10075.0\n",
      "1      4315.0\n",
      "2      1435.0\n",
      "3      8635.0\n",
      "4     11515.0\n",
      "5      2875.0\n",
      "6     14395.0\n",
      "7      8635.0\n",
      "8      7195.0\n",
      "9     14395.0\n",
      "10    10075.0\n",
      "11     4315.0\n",
      "12    21595.0\n",
      "13     8635.0\n",
      "14    23035.0\n",
      "Name: discharge_time, dtype: float64\n"
     ]
    }
   ],
   "source": [
    "print(df_operations['discharge_time'] [:15])"
   ]
  },
  {
   "cell_type": "markdown",
   "metadata": {},
   "source": [
    "Duration of anesthesia"
   ]
  },
  {
   "cell_type": "code",
   "execution_count": 29,
   "metadata": {},
   "outputs": [
    {
     "name": "stdout",
     "output_type": "stream",
     "text": [
      "0     3860.0\n",
      "1     2240.0\n",
      "2      640.0\n",
      "3     1915.0\n",
      "4     3840.0\n",
      "5     1955.0\n",
      "6     1920.0\n",
      "7     2210.0\n",
      "8      480.0\n",
      "9     1925.0\n",
      "10    3570.0\n",
      "11    2145.0\n",
      "12    3360.0\n",
      "13    4795.0\n",
      "14    3440.0\n",
      "Name: anstart_time, dtype: float64\n"
     ]
    }
   ],
   "source": [
    "print(df_operations['anstart_time'] [:15])"
   ]
  },
  {
   "cell_type": "code",
   "execution_count": 30,
   "metadata": {},
   "outputs": [
    {
     "name": "stdout",
     "output_type": "stream",
     "text": [
      "0     4005.0\n",
      "1     2335.0\n",
      "2      660.0\n",
      "3     2070.0\n",
      "4     3860.0\n",
      "5     1995.0\n",
      "6     2215.0\n",
      "7     2325.0\n",
      "8      580.0\n",
      "9     2095.0\n",
      "10    3690.0\n",
      "11    2255.0\n",
      "12    3490.0\n",
      "13    4860.0\n",
      "14    3625.0\n",
      "Name: anend_time, dtype: float64\n"
     ]
    }
   ],
   "source": [
    "print(df_operations['anend_time'] [:15])"
   ]
  },
  {
   "cell_type": "code",
   "execution_count": 31,
   "metadata": {},
   "outputs": [
    {
     "name": "stdout",
     "output_type": "stream",
     "text": [
      "0     145.0\n",
      "1      95.0\n",
      "2      20.0\n",
      "3     155.0\n",
      "4      20.0\n",
      "5      40.0\n",
      "6     295.0\n",
      "7     115.0\n",
      "8     100.0\n",
      "9     170.0\n",
      "10    120.0\n",
      "11    110.0\n",
      "12    130.0\n",
      "13     65.0\n",
      "14    185.0\n",
      "Name: an_duration, dtype: float64\n"
     ]
    }
   ],
   "source": [
    "df_operations['an_duration'] = df_operations['anend_time'] - df_operations['anstart_time']\n",
    "print(df_operations['an_duration'] [:15])"
   ]
  },
  {
   "cell_type": "code",
   "execution_count": 32,
   "metadata": {},
   "outputs": [
    {
     "data": {
      "text/plain": [
       "Index(['op_id', 'subject_id', 'hadm_id', 'case_id', 'opdate', 'age', 'sex',\n",
       "       'weight', 'height', 'race', 'asa', 'emop', 'department', 'antype',\n",
       "       'icd10_pcs', 'orin_time', 'orout_time', 'opstart_time', 'opend_time',\n",
       "       'admission_time', 'discharge_time', 'anstart_time', 'anend_time',\n",
       "       'cpbon_time', 'cpboff_time', 'icuin_time', 'icuout_time',\n",
       "       'inhosp_death_time', 'an_duration'],\n",
       "      dtype='object')"
      ]
     },
     "execution_count": 32,
     "metadata": {},
     "output_type": "execute_result"
    }
   ],
   "source": [
    "df_operations.columns"
   ]
  },
  {
   "cell_type": "markdown",
   "metadata": {},
   "source": [
    "Duration of operation"
   ]
  },
  {
   "cell_type": "code",
   "execution_count": 33,
   "metadata": {},
   "outputs": [
    {
     "name": "stdout",
     "output_type": "stream",
     "text": [
      "0     3905.0\n",
      "1     2255.0\n",
      "2      640.0\n",
      "3     1940.0\n",
      "4     3860.0\n",
      "5     1965.0\n",
      "6     1950.0\n",
      "7     2240.0\n",
      "8      490.0\n",
      "9     1960.0\n",
      "10    3615.0\n",
      "11    2165.0\n",
      "12    3410.0\n",
      "13    4825.0\n",
      "14    3470.0\n",
      "Name: opstart_time, dtype: float64\n"
     ]
    }
   ],
   "source": [
    "print(df_operations['opstart_time'] [:15])"
   ]
  },
  {
   "cell_type": "code",
   "execution_count": 34,
   "metadata": {},
   "outputs": [
    {
     "name": "stdout",
     "output_type": "stream",
     "text": [
      "0     4005.0\n",
      "1     2325.0\n",
      "2      660.0\n",
      "3     2060.0\n",
      "4     3855.0\n",
      "5     1985.0\n",
      "6     2210.0\n",
      "7     2315.0\n",
      "8      585.0\n",
      "9     2100.0\n",
      "10    3690.0\n",
      "11    2255.0\n",
      "12    3480.0\n",
      "13    4855.0\n",
      "14    3625.0\n",
      "Name: opend_time, dtype: float64\n"
     ]
    }
   ],
   "source": [
    "print(df_operations['opend_time'] [:15])"
   ]
  },
  {
   "cell_type": "code",
   "execution_count": 35,
   "metadata": {},
   "outputs": [
    {
     "name": "stdout",
     "output_type": "stream",
     "text": [
      "0     100.0\n",
      "1      70.0\n",
      "2      20.0\n",
      "3     120.0\n",
      "4      -5.0\n",
      "5      20.0\n",
      "6     260.0\n",
      "7      75.0\n",
      "8      95.0\n",
      "9     140.0\n",
      "10     75.0\n",
      "11     90.0\n",
      "12     70.0\n",
      "13     30.0\n",
      "14    155.0\n",
      "Name: op_duration, dtype: float64\n"
     ]
    }
   ],
   "source": [
    "df_operations['op_duration'] = df_operations['opend_time'] - df_operations['opstart_time']\n",
    "print(df_operations['op_duration'] [:15])"
   ]
  },
  {
   "cell_type": "code",
   "execution_count": 36,
   "metadata": {},
   "outputs": [
    {
     "name": "stdout",
     "output_type": "stream",
     "text": [
      "[ 1.000000e+02  7.000000e+01  2.000000e+01  1.200000e+02 -5.000000e+00\n",
      "  2.600000e+02  7.500000e+01  9.500000e+01  1.400000e+02  9.000000e+01\n",
      "  3.000000e+01  1.550000e+02  8.000000e+01  6.000000e+01  8.500000e+01\n",
      "  1.950000e+02  1.700000e+02  5.000000e+01  2.150000e+02  3.000000e+02\n",
      "  1.000000e+01  1.600000e+02  1.250000e+02  6.500000e+01  3.500000e+01\n",
      "  4.000000e+01  2.100000e+02  1.900000e+02  1.650000e+02  1.050000e+02\n",
      "  3.300000e+02  2.200000e+02  2.700000e+02  1.500000e+01  1.750000e+02\n",
      "  5.030000e+03 -7.000000e+02  1.272700e+05  1.006000e+04 -9.150000e+02\n",
      "  1.800000e+02 -1.914150e+05  1.150000e+02 -4.090500e+04  4.500000e+01\n",
      " -8.370000e+03  2.050000e+02 -5.350000e+04  1.500000e+02  2.750000e+02\n",
      "  1.100000e+02  0.000000e+00  1.300000e+02  3.900000e+02  2.500000e+02\n",
      "  2.250000e+02 -1.390000e+03  5.953450e+05  2.400000e+02  1.850000e+02\n",
      "  5.000000e+00  2.500000e+01  1.450000e+02 -1.024500e+04  1.350000e+02\n",
      "  2.000000e+02  2.450000e+02 -1.000000e+01 -1.599400e+05 -2.760000e+03\n",
      "  3.600000e+02  3.829630e+06  1.994000e+04 -4.500000e+01 -1.000000e+02\n",
      " -1.045000e+03 -8.450000e+02 -2.450000e+02  2.619980e+06 -1.616990e+06\n",
      "  5.500000e+01  2.350000e+02  6.400000e+02  2.550000e+02 -3.500000e+01\n",
      "  4.700000e+02 -2.500000e+01  3.100000e+02 -4.805000e+03  2.900000e+02\n",
      "  3.700000e+02  4.400000e+02  5.500000e+02 -2.000000e+01  1.078555e+06\n",
      " -7.500000e+01  2.650000e+02  5.600000e+02  2.850000e+02 -5.000000e+01\n",
      " -2.480800e+05 -1.450000e+02  1.557200e+05 -5.565000e+03 -1.285000e+03\n",
      " -1.500000e+01  4.290000e+03  3.245000e+03  5.205000e+03  5.150000e+02\n",
      " -1.165000e+03  1.245000e+03 -3.910795e+06 -2.707000e+04  3.450000e+02\n",
      "  2.290000e+03 -8.000000e+01 -1.773500e+05  1.504000e+04 -6.800000e+02\n",
      "  1.160500e+04 -4.275000e+03 -4.900000e+02  4.750000e+02 -1.309350e+05\n",
      " -8.005500e+04  3.200000e+02  3.150000e+02  3.400000e+02  4.755000e+03\n",
      "  4.200000e+02 -8.665500e+04  2.300000e+02 -5.970000e+03  4.150000e+02\n",
      " -4.250000e+02  2.950000e+02 -5.148700e+05 -7.425000e+03  5.786500e+05\n",
      "  2.145000e+03  2.673590e+06 -1.623215e+06 -1.964500e+04 -1.897880e+06\n",
      "  6.536200e+05  1.700000e+03  1.380000e+03  4.430050e+05  4.100000e+02\n",
      " -9.000000e+01  1.085000e+03  2.770000e+02  2.800000e+02  1.525000e+03\n",
      "  3.050000e+02  1.024500e+04 -4.322300e+05 -3.000000e+01 -5.590000e+03\n",
      "  1.898880e+06 -6.393000e+04 -7.810000e+03  2.770000e+03 -4.075000e+03\n",
      "  2.688000e+04  9.040000e+03 -6.895000e+03  5.705000e+03 -8.775500e+04\n",
      " -1.280000e+03  4.105000e+03 -6.745000e+03 -9.500000e+02 -9.935000e+03\n",
      "  3.950000e+02 -6.500000e+01  1.012000e+04  1.315000e+03  4.190000e+03\n",
      "  9.875000e+03  6.000000e+02 -1.305000e+03 -7.857850e+05  1.626500e+04\n",
      "  4.250000e+02  1.290000e+03  1.225000e+03 -4.100000e+02 -5.510000e+04\n",
      " -1.050000e+02 -7.470000e+03 -1.100000e+02  1.845000e+03  1.592000e+04\n",
      "  6.849650e+05  4.300000e+02  1.513300e+05  5.450000e+02 -3.300000e+02\n",
      "  4.457550e+05 -1.650000e+02  4.672000e+04 -1.295000e+03  1.810000e+03\n",
      " -1.734000e+04 -8.825000e+03 -8.500000e+01 -4.000000e+02 -1.362200e+05\n",
      "  8.800000e+02 -1.020000e+03 -9.735000e+03  3.250000e+02  2.840000e+03\n",
      "  9.550000e+02  2.025000e+03 -6.815000e+03 -3.799400e+05  1.395000e+03\n",
      " -1.225000e+03  3.046950e+05 -4.296500e+04  1.580000e+03  1.650000e+03\n",
      " -1.055000e+03 -2.915000e+03  1.972695e+06  2.830000e+03  1.065000e+03\n",
      " -4.410550e+05 -1.034800e+05 -1.705000e+03  3.800000e+02  4.840000e+03\n",
      "  5.700000e+02 -7.150000e+02  4.450000e+03  6.835000e+03  3.650000e+02\n",
      "  2.174500e+04 -8.270000e+03 -4.580870e+06  5.200000e+02  7.270000e+03\n",
      " -5.975000e+03 -3.203150e+05  1.760000e+03  3.750000e+03 -6.000000e+01\n",
      "  1.627000e+04  3.750000e+02  4.500000e+02  1.560000e+03  2.769000e+04\n",
      "  1.235000e+03 -3.592500e+04 -2.250000e+02  1.083500e+04  1.013500e+04\n",
      " -2.312500e+04  4.850000e+02 -4.890000e+03 -5.325000e+03  1.745000e+03\n",
      "  1.505000e+03  2.189000e+04 -3.991000e+04  1.000000e+03 -1.685950e+05\n",
      " -2.300000e+02 -3.169550e+05 -1.399650e+05 -1.700000e+02 -2.348000e+04\n",
      " -7.320000e+03 -1.185000e+03 -1.943450e+05  1.727500e+04 -5.934000e+04\n",
      "  2.013000e+04 -2.477500e+04  8.905000e+03  7.750000e+02  7.200000e+02\n",
      " -1.609475e+06  3.420000e+03  6.150000e+02 -4.650000e+02 -1.972300e+05\n",
      "  2.190500e+04 -4.261500e+04 -1.210000e+03  4.600000e+02  1.025000e+03\n",
      " -8.402600e+05 -8.700000e+02 -5.500000e+01  3.550000e+02  1.001000e+04\n",
      "  5.750000e+02 -3.350000e+02 -1.767350e+05  1.549670e+06 -5.100000e+02\n",
      " -9.745000e+03  5.850000e+02  1.052000e+05 -1.095000e+03 -5.650000e+02\n",
      "  1.350500e+04 -1.115000e+03 -2.627065e+06 -1.010000e+03  5.800000e+02\n",
      " -4.000000e+01  8.555000e+03  3.350000e+02 -3.750000e+02  2.520000e+03\n",
      "  3.850000e+02  5.785000e+03 -1.032500e+04  2.100000e+03 -6.975000e+03\n",
      "  1.295000e+03 -7.133000e+04  4.349650e+05  2.352930e+06  9.105000e+03\n",
      " -2.410500e+05  4.479000e+04  5.050000e+02  1.019500e+04  1.019000e+04\n",
      " -1.270000e+03 -1.628150e+05  1.564500e+04  3.426150e+05  5.000000e+03\n",
      " -5.838000e+04  1.171000e+04  8.116500e+04  4.535000e+03  1.156425e+06\n",
      " -2.840000e+03 -2.950000e+03  8.293300e+05 -1.938350e+05  6.671000e+04\n",
      " -9.810000e+03  1.134485e+06  2.010500e+04 -1.850000e+02  6.550000e+02\n",
      "  1.402850e+05 -1.630130e+06 -2.457930e+06 -1.480000e+03  6.100000e+02\n",
      "  3.500000e+02  2.617500e+04 -8.294700e+05  8.650000e+02  1.041000e+04\n",
      " -8.950000e+02  1.415000e+03 -7.000000e+01  4.800000e+02  6.430000e+02\n",
      " -9.945000e+03 -5.125000e+03  4.050000e+02  4.058500e+04  5.350000e+02\n",
      " -5.812800e+05  5.859500e+04 -1.273500e+04 -3.549930e+06  4.450000e+02\n",
      "  4.650000e+02 -5.010000e+03 -1.150000e+02 -2.491000e+04 -6.350000e+02\n",
      " -1.235000e+03 -3.205000e+03 -1.044500e+04 -2.770000e+03 -8.850000e+02\n",
      "  4.170000e+03 -2.520000e+03  5.485000e+03 -4.580000e+03  7.315000e+03\n",
      " -1.506485e+06 -1.170000e+03 -1.012500e+04  6.500000e+02  1.565000e+03\n",
      " -9.600000e+02  7.050000e+02  1.572000e+04  4.950000e+02 -3.250000e+02\n",
      " -6.850000e+03  6.900000e+02  1.488000e+04 -2.652600e+05  2.800000e+03\n",
      "  2.480000e+03  1.645000e+03  4.015000e+03  1.260000e+03 -2.855000e+03\n",
      "  3.715000e+03 -1.695000e+03  1.475000e+03  1.012500e+04  9.006900e+05\n",
      " -3.485000e+03 -4.036300e+04 -1.109750e+06  1.106500e+04  2.950000e+03\n",
      "  1.485000e+03  5.100000e+02 -1.242800e+05  6.655000e+03 -4.859000e+04\n",
      " -1.940800e+05 -1.315000e+03 -4.685000e+03  9.542000e+04  2.175150e+05\n",
      "  7.063000e+04  4.481300e+05 -7.305200e+05  5.960500e+04 -5.472500e+04\n",
      "  1.045305e+06  1.605500e+04 -1.400000e+02 -1.150000e+03  4.568000e+04\n",
      " -3.000000e+04 -3.160000e+04 -9.108000e+04 -1.613500e+04 -1.555100e+05\n",
      "  5.900000e+02  5.314500e+04 -5.005000e+03  9.900000e+02 -4.147795e+06\n",
      " -9.590000e+03  4.000000e+02  4.994000e+04  3.332500e+04 -2.909150e+05\n",
      "  1.420075e+06 -1.016000e+04 -9.870000e+03 -1.190000e+03  1.155000e+03\n",
      "  1.200000e+03  5.300000e+02  5.323500e+04 -1.300000e+02 -9.500000e+01\n",
      "  6.950000e+02 -5.865000e+03  1.132500e+04 -4.020500e+04 -5.265000e+03\n",
      "  4.557000e+04 -7.350000e+02  5.950000e+02  2.740000e+03 -1.749500e+04\n",
      "  5.741500e+05 -4.880000e+03  2.975000e+03 -3.025000e+03 -9.855000e+03\n",
      "  1.405000e+03  1.605000e+03 -2.179975e+06 -1.520000e+03 -8.100000e+02\n",
      "  9.890000e+03  1.007500e+04  4.350000e+02  8.326500e+04 -2.868230e+06\n",
      " -2.796995e+06 -1.345000e+03  7.430000e+03 -3.000000e+03  3.605000e+03\n",
      " -1.750000e+02  4.155000e+03  2.915000e+03 -1.462500e+04 -1.800000e+02\n",
      "  2.035000e+03 -1.350000e+02  5.435000e+03 -3.300350e+05 -1.084500e+04\n",
      "  1.970000e+03  3.040000e+03  5.321450e+05  3.545000e+03  1.413000e+04\n",
      "  1.385000e+03  2.465000e+03 -4.691150e+05  3.225000e+04  4.330000e+03\n",
      "  5.000000e+02 -6.175950e+05 -2.550000e+02 -7.950150e+05 -7.315000e+03\n",
      " -1.375000e+03  4.052500e+04 -5.470600e+05  2.188650e+06  1.050000e+03\n",
      " -2.600000e+02  4.322500e+04  1.070000e+04  6.700000e+02  8.417000e+04\n",
      " -1.415000e+03  5.110000e+03 -1.566695e+06  1.270000e+03 -1.641500e+04\n",
      " -1.665000e+03 -4.045000e+03 -1.335000e+03  5.250000e+02  4.880000e+03\n",
      " -1.710000e+03 -2.133450e+05  9.685000e+03 -1.360000e+03 -2.390000e+03\n",
      "  1.003500e+04  1.465000e+03 -3.700000e+02  1.275000e+03 -3.295000e+03\n",
      " -2.200000e+02 -1.485000e+03 -5.500000e+02  5.400000e+02  3.720000e+03\n",
      "  2.151500e+04 -1.550000e+02  2.264000e+04 -9.400000e+02 -1.715000e+04\n",
      "  1.730000e+03  1.466550e+05 -3.825000e+03 -4.850000e+03  2.425000e+03\n",
      " -3.915000e+03 -1.320000e+03 -2.750000e+02  1.435000e+03  1.784500e+04\n",
      " -4.450000e+03 -8.395000e+03 -1.500000e+02 -9.650000e+03  7.438500e+04\n",
      " -7.912500e+04 -5.118940e+05 -1.590000e+03  5.465000e+03  1.470000e+04\n",
      "  5.280000e+03]\n"
     ]
    }
   ],
   "source": [
    "unique_op_time = df_operations['op_duration'].unique()\n",
    "print(unique_op_time)"
   ]
  },
  {
   "cell_type": "code",
   "execution_count": 37,
   "metadata": {},
   "outputs": [
    {
     "name": "stdout",
     "output_type": "stream",
     "text": [
      "op_duration\n",
      "20.0    163\n",
      "30.0    159\n",
      "60.0    158\n",
      "40.0    152\n",
      "55.0    152\n",
      "50.0    145\n",
      "35.0    138\n",
      "65.0    137\n",
      "25.0    137\n",
      "80.0    137\n",
      "Name: count, dtype: int64\n"
     ]
    }
   ],
   "source": [
    "top_10_op_time= df_operations['op_duration'].value_counts().head(10)\n",
    "print(top_10_op_time)"
   ]
  },
  {
   "cell_type": "code",
   "execution_count": 38,
   "metadata": {},
   "outputs": [
    {
     "data": {
      "text/plain": [
       "Index(['op_id', 'subject_id', 'hadm_id', 'case_id', 'opdate', 'age', 'sex',\n",
       "       'weight', 'height', 'race', 'asa', 'emop', 'department', 'antype',\n",
       "       'icd10_pcs', 'orin_time', 'orout_time', 'opstart_time', 'opend_time',\n",
       "       'admission_time', 'discharge_time', 'anstart_time', 'anend_time',\n",
       "       'cpbon_time', 'cpboff_time', 'icuin_time', 'icuout_time',\n",
       "       'inhosp_death_time', 'an_duration', 'op_duration'],\n",
       "      dtype='object')"
      ]
     },
     "execution_count": 38,
     "metadata": {},
     "output_type": "execute_result"
    }
   ],
   "source": [
    "df_operations.columns"
   ]
  },
  {
   "cell_type": "markdown",
   "metadata": {},
   "source": [
    "Duration of Cardiopumonary bypass"
   ]
  },
  {
   "cell_type": "code",
   "execution_count": 39,
   "metadata": {},
   "outputs": [
    {
     "name": "stdout",
     "output_type": "stream",
     "text": [
      "0    NaN\n",
      "1    NaN\n",
      "2    NaN\n",
      "3    NaN\n",
      "4    NaN\n",
      "5    NaN\n",
      "6    NaN\n",
      "7    NaN\n",
      "8    NaN\n",
      "9    NaN\n",
      "10   NaN\n",
      "11   NaN\n",
      "12   NaN\n",
      "13   NaN\n",
      "14   NaN\n",
      "Name: cpbon_time, dtype: float64\n"
     ]
    }
   ],
   "source": [
    "print(df_operations['cpbon_time'] [:15])"
   ]
  },
  {
   "cell_type": "code",
   "execution_count": 40,
   "metadata": {},
   "outputs": [
    {
     "name": "stdout",
     "output_type": "stream",
     "text": [
      "[     nan   15045.    3670.    3745.    3465.    6795.    4500.    7720.\n",
      "    6405.   17025.   65720.    9505.    9750.    2035.  402500.    6390.\n",
      " 1704895.    5095.    6385.    8225.    2660.    7790.    3715.    6395.\n",
      "   13445.   13650.    9470.    6660.    6780.  140180.    2050. 1695230.\n",
      "    4235.    4290.    3820.    6655.    5120.  295875.    9995.    3735.\n",
      "    6540.    6360.    3490.   19460.    4900.]\n"
     ]
    }
   ],
   "source": [
    "unique_cpbon_time = df_operations['cpbon_time'].unique()\n",
    "print(unique_cpbon_time)"
   ]
  },
  {
   "cell_type": "code",
   "execution_count": 41,
   "metadata": {},
   "outputs": [
    {
     "name": "stdout",
     "output_type": "stream",
     "text": [
      "0    NaN\n",
      "1    NaN\n",
      "2    NaN\n",
      "3    NaN\n",
      "4    NaN\n",
      "5    NaN\n",
      "6    NaN\n",
      "7    NaN\n",
      "8    NaN\n",
      "9    NaN\n",
      "10   NaN\n",
      "11   NaN\n",
      "12   NaN\n",
      "13   NaN\n",
      "14   NaN\n",
      "Name: cpboff_time, dtype: float64\n"
     ]
    }
   ],
   "source": [
    "print(df_operations['cpboff_time'] [:15])"
   ]
  },
  {
   "cell_type": "code",
   "execution_count": 42,
   "metadata": {},
   "outputs": [
    {
     "name": "stdout",
     "output_type": "stream",
     "text": [
      "0    NaN\n",
      "1    NaN\n",
      "2    NaN\n",
      "3    NaN\n",
      "4    NaN\n",
      "5    NaN\n",
      "6    NaN\n",
      "7    NaN\n",
      "8    NaN\n",
      "9    NaN\n",
      "10   NaN\n",
      "11   NaN\n",
      "12   NaN\n",
      "13   NaN\n",
      "14   NaN\n",
      "Name: cpb_duration, dtype: float64\n"
     ]
    }
   ],
   "source": [
    "df_operations['cpb_duration'] = df_operations['cpboff_time'] - df_operations['cpbon_time']\n",
    "print(df_operations['cpb_duration'] [:15])"
   ]
  },
  {
   "cell_type": "code",
   "execution_count": 43,
   "metadata": {},
   "outputs": [
    {
     "name": "stdout",
     "output_type": "stream",
     "text": [
      "[       nan  2.250e+02  1.950e+02 -5.000e+00  3.300e+02  2.350e+02\n",
      "  4.860e+03  2.450e+02  7.500e+01  1.800e+02  3.000e+02  2.750e+02\n",
      "  4.000e+01  1.600e+02  1.590e+03  2.200e+02 -3.835e+03  1.350e+02\n",
      "  1.050e+02  1.150e+02  9.000e+01  3.200e+02  1.400e+02  1.900e+02\n",
      "  3.900e+02  2.600e+02  3.100e+02  2.050e+02  4.500e+01  3.450e+02\n",
      "  3.250e+02  4.082e+04 -1.265e+03  2.000e+02 -9.895e+03 -7.250e+02\n",
      "  1.850e+02  2.700e+02  2.850e+02  3.400e+02]\n"
     ]
    }
   ],
   "source": [
    "unique_cpb_time = df_operations['cpb_duration'].unique()\n",
    "print(unique_cpb_time)"
   ]
  },
  {
   "cell_type": "code",
   "execution_count": 44,
   "metadata": {},
   "outputs": [
    {
     "data": {
      "text/plain": [
       "Index(['op_id', 'subject_id', 'hadm_id', 'case_id', 'opdate', 'age', 'sex',\n",
       "       'weight', 'height', 'race', 'asa', 'emop', 'department', 'antype',\n",
       "       'icd10_pcs', 'orin_time', 'orout_time', 'opstart_time', 'opend_time',\n",
       "       'admission_time', 'discharge_time', 'anstart_time', 'anend_time',\n",
       "       'cpbon_time', 'cpboff_time', 'icuin_time', 'icuout_time',\n",
       "       'inhosp_death_time', 'an_duration', 'op_duration', 'cpb_duration'],\n",
       "      dtype='object')"
      ]
     },
     "execution_count": 44,
     "metadata": {},
     "output_type": "execute_result"
    }
   ],
   "source": [
    "df_operations.columns"
   ]
  },
  {
   "cell_type": "markdown",
   "metadata": {},
   "source": [
    "Duration of ICU stay"
   ]
  },
  {
   "cell_type": "code",
   "execution_count": 45,
   "metadata": {},
   "outputs": [
    {
     "name": "stdout",
     "output_type": "stream",
     "text": [
      "0    NaN\n",
      "1    NaN\n",
      "2    NaN\n",
      "3    NaN\n",
      "4    NaN\n",
      "5    NaN\n",
      "6    NaN\n",
      "7    NaN\n",
      "8    NaN\n",
      "9    NaN\n",
      "10   NaN\n",
      "11   NaN\n",
      "12   NaN\n",
      "13   NaN\n",
      "14   NaN\n",
      "Name: icuin_time, dtype: float64\n"
     ]
    }
   ],
   "source": [
    "print(df_operations['icuin_time'] [:15])"
   ]
  },
  {
   "cell_type": "code",
   "execution_count": 46,
   "metadata": {},
   "outputs": [
    {
     "name": "stdout",
     "output_type": "stream",
     "text": [
      "0    NaN\n",
      "1    NaN\n",
      "2    NaN\n",
      "3    NaN\n",
      "4    NaN\n",
      "5    NaN\n",
      "6    NaN\n",
      "7    NaN\n",
      "8    NaN\n",
      "9    NaN\n",
      "10   NaN\n",
      "11   NaN\n",
      "12   NaN\n",
      "13   NaN\n",
      "14   NaN\n",
      "Name: icuout_time, dtype: float64\n"
     ]
    }
   ],
   "source": [
    "print(df_operations['icuout_time'] [:15])"
   ]
  },
  {
   "cell_type": "code",
   "execution_count": 47,
   "metadata": {},
   "outputs": [
    {
     "name": "stdout",
     "output_type": "stream",
     "text": [
      "0    NaN\n",
      "1    NaN\n",
      "2    NaN\n",
      "3    NaN\n",
      "4    NaN\n",
      "5    NaN\n",
      "6    NaN\n",
      "7    NaN\n",
      "8    NaN\n",
      "9    NaN\n",
      "10   NaN\n",
      "11   NaN\n",
      "12   NaN\n",
      "13   NaN\n",
      "14   NaN\n",
      "Name: icu_duration, dtype: float64\n"
     ]
    }
   ],
   "source": [
    "df_operations['icu_duration'] = df_operations['icuout_time'] - df_operations['icuin_time']\n",
    "print(df_operations['icu_duration'] [:15])\n"
   ]
  },
  {
   "cell_type": "code",
   "execution_count": 48,
   "metadata": {},
   "outputs": [
    {
     "name": "stdout",
     "output_type": "stream",
     "text": [
      "[          nan  1.225000e+03  1.395000e+03  1.385000e+03  1.605000e+03\n",
      "  3.135000e+03  1.515000e+03  2.874500e+05  1.805000e+03  2.370000e+03\n",
      "  1.590000e+03 -5.400000e+02 -2.200000e+02  1.445000e+03  1.425000e+03\n",
      "  4.150000e+02  1.290000e+03  1.120000e+03  4.000000e+03  2.770000e+03\n",
      " -4.050000e+03 -1.900150e+05  5.500000e+03  8.090000e+03  3.685000e+03\n",
      " -1.250000e+03  3.975000e+03  2.775000e+03  1.540000e+03  1.550000e+03\n",
      "  2.785000e+03  1.400000e+03  4.245000e+03  3.020000e+03  2.310000e+03\n",
      "  2.795000e+03  2.660000e+03  1.280000e+03  2.700000e+03  1.440000e+03\n",
      "  2.250000e+02 -2.687500e+04  1.020000e+03  4.181500e+04  1.460000e+03\n",
      "  1.090000e+03  1.475000e+03  8.995000e+03  1.250000e+03 -1.346500e+04\n",
      "  1.485000e+03  8.690000e+03  1.570000e+03  2.655000e+03  4.455000e+03\n",
      "  3.964000e+04  2.595000e+03  5.470000e+03  1.240000e+03  2.885000e+03\n",
      "  2.385000e+03  1.635000e+03  4.215000e+03  4.190000e+03  2.685000e+03\n",
      "  4.600000e+02 -3.770000e+04  9.750000e+02  3.619900e+04  2.109500e+04\n",
      "  8.950000e+02  4.475000e+03  1.530000e+03 -1.385000e+03 -5.500000e+01\n",
      "  2.915000e+03  9.100000e+02  2.703500e+04  9.050000e+02  1.275000e+03\n",
      "  1.075000e+03  1.400000e+02  1.495000e+03  3.245000e+03 -1.397000e+04\n",
      "  4.030000e+03  2.600000e+02  1.295000e+03  3.653500e+04  1.762000e+04\n",
      "  5.990000e+03  1.350000e+03  1.734000e+04  1.260000e+03  1.000000e+03\n",
      " -4.200000e+02  2.050000e+02  1.835000e+03 -2.250000e+02  2.475000e+03\n",
      "  5.325000e+03  1.195000e+03  1.430000e+03  8.460000e+03  1.560000e+03\n",
      "  4.055000e+03  9.985000e+03  1.150000e+03  4.205000e+03  6.350000e+02\n",
      "  3.035500e+04  1.245000e+03 -1.650000e+02  4.265000e+03  1.220000e+03\n",
      "  1.025000e+03  5.380000e+03  3.155000e+03  1.200000e+03  1.205000e+03\n",
      "  1.564500e+04  1.435000e+03  1.305000e+03  1.405000e+03  5.228000e+04\n",
      "  3.660450e+05  1.535000e+03  4.015000e+03  1.070000e+03  6.450000e+02\n",
      "  2.543000e+04  2.145000e+03  1.580000e+03  1.315000e+03  1.230000e+03\n",
      " -9.050000e+02  3.644500e+04  4.445000e+03 -1.790000e+03  6.805000e+03\n",
      "  1.665000e+03  0.000000e+00  1.270000e+03  1.657000e+04  3.870000e+03\n",
      "  1.240500e+04  1.121000e+04 -2.860000e+03  2.855000e+03  1.470000e+03\n",
      "  1.810000e+03 -4.465000e+03 -1.765050e+05 -3.055000e+03  6.200000e+02\n",
      "  3.711000e+04  1.100000e+03  2.920000e+03  1.360000e+03  2.650000e+03\n",
      "  5.540000e+03  8.590000e+03  1.370000e+03  4.270000e+03  6.465000e+03\n",
      "  1.615000e+03  5.500000e+01  1.155000e+03 -5.225000e+03  1.340000e+03\n",
      "  3.750000e+03  1.465000e+03  1.365000e+03 -5.540000e+03  1.800500e+04\n",
      "  7.785000e+03 -8.500000e+03  2.114600e+04  2.530000e+03  5.300000e+02\n",
      "  2.710000e+03  2.574000e+04  5.000000e+01 -8.825000e+03  9.065000e+03\n",
      "  2.261000e+04  6.400000e+02  9.200000e+02  3.120000e+03  4.550000e+02\n",
      "  5.905000e+03  1.685000e+03  2.820000e+03  1.233000e+04  1.060000e+03\n",
      "  1.185000e+03  1.330000e+03  2.000000e+02  1.505000e+03  2.605000e+03\n",
      "  5.295000e+03  9.850000e+02  1.050000e+03  1.406900e+05  8.860000e+03\n",
      "  9.150000e+02  3.905000e+03 -7.580000e+03  1.506700e+05  3.972000e+04\n",
      "  5.850000e+02  1.959000e+04  1.145000e+03  3.075000e+03  5.650000e+02\n",
      "  1.125000e+03  1.101500e+04  2.930000e+03 -1.085515e+06 -2.615000e+04\n",
      "  4.040000e+03  1.175000e+03  6.500000e+02  2.835000e+03  1.450000e+03\n",
      "  1.355000e+03  1.680000e+03  1.235000e+03  1.105000e+03 -5.000000e+00\n",
      "  3.797000e+04  2.780000e+03 -1.560000e+03  2.680000e+03  8.500000e+01\n",
      "  8.455000e+03  7.010000e+03  1.740000e+03  1.770000e+03  5.475000e+03\n",
      "  1.765000e+03 -3.100000e+02  1.655000e+03  1.500000e+03  1.110000e+03\n",
      "  1.725000e+03  8.650000e+02 -1.880500e+04 -5.355000e+03 -1.375000e+03\n",
      "  1.525000e+03  1.520000e+03  3.050000e+03 -3.750000e+03 -1.180000e+03\n",
      "  9.400000e+03  9.600000e+02  7.100000e+03  2.100000e+02  6.910000e+03\n",
      "  2.870000e+03  3.150000e+03  5.840000e+03  5.880000e+03 -2.450000e+02\n",
      "  1.410000e+03 -5.380000e+03 -1.600000e+02  1.200000e+02  2.810000e+03\n",
      " -1.435000e+03  2.935000e+03  9.450000e+02  3.605000e+03 -1.135000e+03\n",
      "  6.446000e+04  8.915000e+03  1.670000e+03  1.527000e+04 -1.720000e+03\n",
      "  1.490500e+04 -2.925000e+03  2.640000e+03  2.235000e+03  1.675000e+03\n",
      "  1.455000e+03  4.125000e+03 -1.950000e+02  1.285000e+03 -2.900000e+02\n",
      "  2.735000e+03 -3.150000e+02  1.565000e+03 -3.700000e+02 -9.945000e+03\n",
      " -3.365050e+05  2.573250e+05  2.615000e+03  5.700000e+03  1.450000e+02\n",
      "  3.000000e+01  1.490000e+03  2.465000e+03  3.810000e+03  2.745000e+03\n",
      "  7.955000e+03 -8.745000e+03  8.270000e+03  4.665000e+03 -1.294000e+04\n",
      "  2.600000e+03 -2.940000e+03  5.680000e+03  1.135000e+03  7.175000e+03\n",
      "  8.375000e+03  9.400000e+02 -4.820000e+03 -1.850000e+02  1.065000e+03\n",
      "  1.695000e+03  4.575000e+03  6.650000e+02 -3.750000e+02  2.995000e+03\n",
      "  2.435000e+03 -3.400000e+02  3.455000e+03  1.420000e+03  2.765000e+03\n",
      "  5.535000e+03 -4.300000e+02  2.783000e+03  5.575000e+03]\n"
     ]
    }
   ],
   "source": [
    "unique_icu_time = df_operations['icu_duration'].unique()\n",
    "print(unique_icu_time)"
   ]
  },
  {
   "cell_type": "code",
   "execution_count": 49,
   "metadata": {},
   "outputs": [
    {
     "data": {
      "text/plain": [
       "Index(['op_id', 'subject_id', 'hadm_id', 'case_id', 'opdate', 'age', 'sex',\n",
       "       'weight', 'height', 'race', 'asa', 'emop', 'department', 'antype',\n",
       "       'icd10_pcs', 'orin_time', 'orout_time', 'opstart_time', 'opend_time',\n",
       "       'admission_time', 'discharge_time', 'anstart_time', 'anend_time',\n",
       "       'cpbon_time', 'cpboff_time', 'icuin_time', 'icuout_time',\n",
       "       'inhosp_death_time', 'an_duration', 'op_duration', 'cpb_duration',\n",
       "       'icu_duration'],\n",
       "      dtype='object')"
      ]
     },
     "execution_count": 49,
     "metadata": {},
     "output_type": "execute_result"
    }
   ],
   "source": [
    "df_operations.columns"
   ]
  },
  {
   "cell_type": "markdown",
   "metadata": {},
   "source": [
    "In hospital death"
   ]
  },
  {
   "cell_type": "code",
   "execution_count": 50,
   "metadata": {},
   "outputs": [
    {
     "name": "stdout",
     "output_type": "stream",
     "text": [
      "[     nan  676590. 1590205.   50555. 1894785. 1112655.  141815.  167590.\n",
      "  186775.  246375.]\n"
     ]
    }
   ],
   "source": [
    "unique_inhosp_death_time = df_operations['inhosp_death_time'].unique()\n",
    "print(unique_inhosp_death_time)"
   ]
  },
  {
   "cell_type": "markdown",
   "metadata": {},
   "source": [
    "Correlation analysis"
   ]
  },
  {
   "cell_type": "markdown",
   "metadata": {},
   "source": [
    "Correlation values range between -1 and 1. A value close to 1 implies a strong positive correlation: as one variable increases, the other also tends to. A value close to -1 implies a strong negative correlation: as one variable increases, the other tends to decrease.\n",
    "This analysis only checks for linear relationships. Non-linear relationships won't be captured well by the correlation coefficient.\n",
    "Correlation does not imply causation. Even if two variables are correlated, it doesn't mean one causes the other."
   ]
  },
  {
   "cell_type": "code",
   "execution_count": 51,
   "metadata": {},
   "outputs": [
    {
     "name": "stdout",
     "output_type": "stream",
     "text": [
      "Correlation of operation duration with age: -0.00011525973985311153\n"
     ]
    }
   ],
   "source": [
    "#Find the correlation between operation duration and age\n",
    "\n",
    "correlation_with_age = df_operations['op_duration'].corr(df_operations['age'])\n",
    "print(f\"Correlation of operation duration with age: {correlation_with_age}\")\n"
   ]
  },
  {
   "cell_type": "code",
   "execution_count": 52,
   "metadata": {},
   "outputs": [
    {
     "name": "stdout",
     "output_type": "stream",
     "text": [
      "icd10_pcs\n",
      "03LY3    532145.000000\n",
      "09QP0    250760.882353\n",
      "0UT9F    113561.500000\n",
      "0UB90     88126.346154\n",
      "0BTK4     84507.500000\n",
      "             ...      \n",
      "0PH00   -230909.285714\n",
      "0CB70   -231893.571429\n",
      "02VP0   -254394.166667\n",
      "0H0T0   -267027.666667\n",
      "0LX00   -948842.500000\n",
      "Name: op_duration, Length: 532, dtype: float64\n"
     ]
    }
   ],
   "source": [
    "#'Type of surgery' is likely categorical (represented by the icd10_pcs column). Find the average operation duration for each type of surgery\n",
    "\n",
    "average_duration_per_surgery = df_operations.groupby('icd10_pcs')['op_duration'].mean().sort_values(ascending=False)\n",
    "print(average_duration_per_surgery)"
   ]
  },
  {
   "cell_type": "code",
   "execution_count": 53,
   "metadata": {},
   "outputs": [
    {
     "name": "stdout",
     "output_type": "stream",
     "text": [
      "Correlation of operation duration with post-op ICU admission: 0.012685697378281003\n"
     ]
    }
   ],
   "source": [
    "#Infer post-op ICU admission based on whether icuin_time is non-null. Create a binary column to indicate this and compute its correlation with operation duration.\n",
    "df_operations['icu_admission_postop'] = ~df_operations['icuin_time'].isna()\n",
    "correlation_with_icu_admission = df_operations['op_duration'].corr(df_operations['icu_admission_postop'])\n",
    "print(f\"Correlation of operation duration with post-op ICU admission: {correlation_with_icu_admission}\")\n"
   ]
  },
  {
   "cell_type": "code",
   "execution_count": 54,
   "metadata": {},
   "outputs": [
    {
     "name": "stdout",
     "output_type": "stream",
     "text": [
      "Correlation between duration of stay and deterioration: -0.0073263833716906\n"
     ]
    }
   ],
   "source": [
    "correlation_duration_deterioration = df_operations['discharge_time'].corr(df_operations['inhosp_death_time'].notnull().astype(int))\n",
    "print(f\"Correlation between duration of stay and deterioration: {correlation_duration_deterioration}\")"
   ]
  },
  {
   "cell_type": "code",
   "execution_count": 55,
   "metadata": {},
   "outputs": [
    {
     "name": "stdout",
     "output_type": "stream",
     "text": [
      "Correlation between ICU duration and deterioration: 0.018796659380130896\n"
     ]
    }
   ],
   "source": [
    "correlation_icu_deterioration = df_operations['icu_duration'].corr(df_operations['inhosp_death_time'].notnull().astype(int))\n",
    "print(f\"Correlation between ICU duration and deterioration: {correlation_icu_deterioration}\")"
   ]
  },
  {
   "cell_type": "code",
   "execution_count": 56,
   "metadata": {},
   "outputs": [
    {
     "name": "stdout",
     "output_type": "stream",
     "text": [
      "Correlation between patient's age and deterioration: -0.013188488394430972\n"
     ]
    }
   ],
   "source": [
    "correlation_age_deterioration = df_operations['age'].corr(df_operations['inhosp_death_time'].notnull().astype(int))\n",
    "print(f\"Correlation between patient's age and deterioration: {correlation_age_deterioration}\")"
   ]
  },
  {
   "cell_type": "code",
   "execution_count": 57,
   "metadata": {},
   "outputs": [
    {
     "name": "stdout",
     "output_type": "stream",
     "text": [
      "Correlation between anesthesia time and deterioration: -0.00018064942838247482\n"
     ]
    }
   ],
   "source": [
    "correlation_anesthesia_deterioration = df_operations['an_duration'].corr(df_operations['inhosp_death_time'].notnull().astype(int))\n",
    "print(f\"Correlation between anesthesia time and deterioration: {correlation_anesthesia_deterioration}\")"
   ]
  },
  {
   "cell_type": "code",
   "execution_count": 58,
   "metadata": {},
   "outputs": [
    {
     "name": "stdout",
     "output_type": "stream",
     "text": [
      "department\n",
      "OS     0.004373\n",
      "OT     0.003339\n",
      "OG     0.002155\n",
      "GS     0.002095\n",
      "AN     0.000000\n",
      "CTS    0.000000\n",
      "IM     0.000000\n",
      "NS     0.000000\n",
      "OL     0.000000\n",
      "PS     0.000000\n",
      "RAD    0.000000\n",
      "UR     0.000000\n",
      "dtype: float64\n"
     ]
    }
   ],
   "source": [
    "deterioration_by_department = df_operations.groupby('department').apply(lambda x: x['inhosp_death_time'].notnull().mean())\n",
    "print(deterioration_by_department.sort_values(ascending=False))\n"
   ]
  },
  {
   "cell_type": "code",
   "execution_count": 59,
   "metadata": {},
   "outputs": [
    {
     "name": "stdout",
     "output_type": "stream",
     "text": [
      "Correlation between emergency operation and deterioration: 0.021053417488854285\n"
     ]
    }
   ],
   "source": [
    "correlation_emop_deterioration = df_operations['emop'].corr(df_operations['inhosp_death_time'].notnull().astype(int))\n",
    "print(f\"Correlation between emergency operation and deterioration: {correlation_emop_deterioration}\")\n"
   ]
  },
  {
   "cell_type": "code",
   "execution_count": 60,
   "metadata": {},
   "outputs": [
    {
     "name": "stdout",
     "output_type": "stream",
     "text": [
      "Correlation between weight and deterioration: 0.0021550466497595863\n",
      "Correlation between height and deterioration: 0.006755188429616568\n"
     ]
    }
   ],
   "source": [
    "correlation_weight_deterioration = df_operations['weight'].corr(df_operations['inhosp_death_time'].notnull().astype(int))\n",
    "correlation_height_deterioration = df_operations['height'].corr(df_operations['inhosp_death_time'].notnull().astype(int))\n",
    "print(f\"Correlation between weight and deterioration: {correlation_weight_deterioration}\")\n",
    "print(f\"Correlation between height and deterioration: {correlation_height_deterioration}\")\n"
   ]
  },
  {
   "cell_type": "code",
   "execution_count": 61,
   "metadata": {},
   "outputs": [
    {
     "name": "stdout",
     "output_type": "stream",
     "text": [
      "sex\n",
      "F    0.001387\n",
      "M    0.002362\n",
      "dtype: float64\n",
      "race\n",
      "Asian    0.0018\n",
      "dtype: float64\n"
     ]
    }
   ],
   "source": [
    "# For categorical variables like sex and race, you might want to use groupby and calculate deterioration rates for each group\n",
    "sex_deterioration_rate = df_operations.groupby('sex').apply(lambda x: x['inhosp_death_time'].notnull().mean())\n",
    "race_deterioration_rate = df_operations.groupby('race').apply(lambda x: x['inhosp_death_time'].notnull().mean())\n",
    "print(sex_deterioration_rate)\n",
    "print(race_deterioration_rate)\n"
   ]
  },
  {
   "cell_type": "code",
   "execution_count": 62,
   "metadata": {},
   "outputs": [
    {
     "name": "stdout",
     "output_type": "stream",
     "text": [
      "Correlation between ASA score and deterioration: 0.023502431104307452\n"
     ]
    }
   ],
   "source": [
    "correlation_asa_deterioration = df_operations['asa'].corr(df_operations['inhosp_death_time'].notnull().astype(int))\n",
    "print(f\"Correlation between ASA score and deterioration: {correlation_asa_deterioration}\")\n"
   ]
  },
  {
   "cell_type": "code",
   "execution_count": 63,
   "metadata": {},
   "outputs": [
    {
     "name": "stdout",
     "output_type": "stream",
     "text": [
      "icd10_pcs\n",
      "0TT20    1.000000\n",
      "0RB30    0.050000\n",
      "0PQ00    0.030303\n",
      "0WQN0    0.017544\n",
      "0RG00    0.012658\n",
      "0FT44    0.009615\n",
      "08DJ3    0.009132\n",
      "0GTK0    0.007246\n",
      "0PX00    0.000000\n",
      "0Q6M0    0.000000\n",
      "0QK00    0.000000\n",
      "0QHH3    0.000000\n",
      "0QHH0    0.000000\n",
      "0QHG0    0.000000\n",
      "0QHC0    0.000000\n",
      "0QH93    0.000000\n",
      "0PQ0X    0.000000\n",
      "0QH84    0.000000\n",
      "0QH83    0.000000\n",
      "0PQR0    0.000000\n",
      "0QH80    0.000000\n",
      "0PQS0    0.000000\n",
      "0QH73    0.000000\n",
      "0QH70    0.000000\n",
      "0QH61    0.000000\n",
      "0QH60    0.000000\n",
      "0QN60    0.000000\n",
      "0PS00    0.000000\n",
      "0PS0X    0.000000\n",
      "0QBQ8    0.000000\n",
      "dtype: float64\n"
     ]
    }
   ],
   "source": [
    "#Certain surgical procedures might have higher risks associated with them.\n",
    "procedure_deterioration_rate = df_operations.groupby('icd10_pcs').apply(lambda x: x['inhosp_death_time'].notnull().mean())\n",
    "print(procedure_deterioration_rate.sort_values(ascending=False).head(30))\n"
   ]
  },
  {
   "cell_type": "code",
   "execution_count": 64,
   "metadata": {},
   "outputs": [
    {
     "name": "stdout",
     "output_type": "stream",
     "text": [
      "Correlation between time to ICU post-operation and deterioration: 0.0026421730681769895\n"
     ]
    }
   ],
   "source": [
    "df_operations['time_to_icu_postop'] = df_operations['icuin_time'] - df_operations['opend_time']\n",
    "correlation_time_to_icu_deterioration = df_operations['time_to_icu_postop'].corr(df_operations['inhosp_death_time'].notnull().astype(int))\n",
    "print(f\"Correlation between time to ICU post-operation and deterioration: {correlation_time_to_icu_deterioration}\")\n"
   ]
  },
  {
   "cell_type": "code",
   "execution_count": 65,
   "metadata": {},
   "outputs": [
    {
     "name": "stdout",
     "output_type": "stream",
     "text": [
      "Correlation between ICU stay duration and deterioration: 0.018796659380130896\n"
     ]
    }
   ],
   "source": [
    "\n",
    "correlation_icu_stay_deterioration = df_operations['icu_duration'].corr(df_operations['inhosp_death_time'].notnull().astype(int))\n",
    "print(f\"Correlation between ICU stay duration and deterioration: {correlation_icu_stay_deterioration}\")\n"
   ]
  },
  {
   "cell_type": "code",
   "execution_count": 66,
   "metadata": {},
   "outputs": [
    {
     "name": "stdout",
     "output_type": "stream",
     "text": [
      "department\n",
      "OS     0.004373\n",
      "OT     0.003339\n",
      "OG     0.002155\n",
      "GS     0.002095\n",
      "AN     0.000000\n",
      "CTS    0.000000\n",
      "IM     0.000000\n",
      "NS     0.000000\n",
      "OL     0.000000\n",
      "PS     0.000000\n",
      "RAD    0.000000\n",
      "UR     0.000000\n",
      "dtype: float64\n"
     ]
    }
   ],
   "source": [
    "department_deterioration_rate = df_operations.groupby('department').apply(lambda x: x['inhosp_death_time'].notnull().mean())\n",
    "print(department_deterioration_rate.sort_values(ascending=False))\n"
   ]
  },
  {
   "cell_type": "code",
   "execution_count": 67,
   "metadata": {},
   "outputs": [
    {
     "name": "stdout",
     "output_type": "stream",
     "text": [
      "antype\n",
      "MAC          0.003448\n",
      "General      0.001805\n",
      "Neuraxial    0.000000\n",
      "Regional     0.000000\n",
      "dtype: float64\n"
     ]
    }
   ],
   "source": [
    "antype_deterioration_rate = df_operations.groupby('antype').apply(lambda x: x['inhosp_death_time'].notnull().mean())\n",
    "print(antype_deterioration_rate.sort_values(ascending=False))\n"
   ]
  },
  {
   "cell_type": "code",
   "execution_count": 70,
   "metadata": {},
   "outputs": [
    {
     "name": "stdout",
     "output_type": "stream",
     "text": [
      "Operation start time(s) for subject_id 106125331: [550.]\n",
      "Operation end time(s) for subject_id 106125331: [560.]\n",
      "No ICU admission time found for subject_id 106125331\n",
      "No ICU discharge time found for subject_id 106125331\n",
      "Discharge time(s) for subject_id 106125331: [0]\n",
      "No hospital death time found for subject_id 106125331\n",
      "Department(s) for subject_id 106125331: ['OL']\n",
      "ICD-10-PCS code(s) for subject_id 106125331: ['09Q70']\n",
      "Anesthesia start time(s) for subject_id 106125331: [540.]\n",
      "Anesthesia end time(s) for subject_id 106125331: [560.]\n"
     ]
    }
   ],
   "source": [
    "import pandas as pd\n",
    "\n",
    "# Assuming df is your DataFrame with the INSPIRE dataset\n",
    "# And the function is being passed the dataframe and a subject_id to look for\n",
    "def print_patient_operation_details(df, subject_id):\n",
    "    # Filter the DataFrame for the given subject_id\n",
    "    patient_data = df[df['subject_id'] == subject_id]\n",
    "    \n",
    "    # Extracting the relevant information\n",
    "    operation_begin = patient_data['opstart_time'].dropna()\n",
    "    operation_end = patient_data['opend_time'].dropna()\n",
    "    icu_in = patient_data['icuin_time'].dropna()\n",
    "    icu_out = patient_data['icuout_time'].dropna()\n",
    "    discharge_time = patient_data['admission_time'].dropna() # Verify if 'admission_time' is correct for discharge time\n",
    "    death_time = patient_data['inhosp_death_time'].dropna() # Verify if 'inhosp_death_time' is correct for hospital death time\n",
    "    department_info = patient_data['department'].dropna()\n",
    "    icd10_pcs_codes = patient_data['icd10_pcs'].dropna()\n",
    "    anesthesia_start = patient_data['anstart_time'].dropna() # Assuming 'anestart_time' is the column for anesthesia start time\n",
    "    anesthesia_end = patient_data['anend_time'].dropna() # Assuming 'aneend_time' is the column for anesthesia end time\n",
    "    \n",
    "    # Print the details\n",
    "    if not operation_begin.empty:\n",
    "        print(f\"Operation start time(s) for subject_id {subject_id}: {operation_begin.values}\")\n",
    "    else:\n",
    "        print(f\"No operation start time found for subject_id {subject_id}\")\n",
    "    \n",
    "    if not operation_end.empty:\n",
    "        print(f\"Operation end time(s) for subject_id {subject_id}: {operation_end.values}\")\n",
    "    else:\n",
    "        print(f\"No operation end time found for subject_id {subject_id}\")\n",
    "    \n",
    "    if not icu_in.empty:\n",
    "        print(f\"ICU admission time(s) for subject_id {subject_id}: {icu_in.values}\")\n",
    "    else:\n",
    "        print(f\"No ICU admission time found for subject_id {subject_id}\")\n",
    "    \n",
    "    if not icu_out.empty:\n",
    "        print(f\"ICU discharge time(s) for subject_id {subject_id}: {icu_out.values}\")\n",
    "    else:\n",
    "        print(f\"No ICU discharge time found for subject_id {subject_id}\")\n",
    "    \n",
    "    if not discharge_time.empty:\n",
    "        print(f\"Discharge time(s) for subject_id {subject_id}: {discharge_time.values}\")\n",
    "    else:\n",
    "        print(f\"No discharge time found for subject_id {subject_id}\")\n",
    "    \n",
    "    if not death_time.empty:\n",
    "        print(f\"Hospital death time(s) for subject_id {subject_id}: {death_time.values}\")\n",
    "    else:\n",
    "        print(f\"No hospital death time found for subject_id {subject_id}\")\n",
    "    \n",
    "    if not department_info.empty:\n",
    "        print(f\"Department(s) for subject_id {subject_id}: {department_info.values}\")\n",
    "    else:\n",
    "        print(f\"No department information found for subject_id {subject_id}\")\n",
    "    \n",
    "    if not icd10_pcs_codes.empty:\n",
    "        print(f\"ICD-10-PCS code(s) for subject_id {subject_id}: {icd10_pcs_codes.values}\")\n",
    "    else:\n",
    "        print(f\"No ICD-10-PCS codes found for subject_id {subject_id}\")\n",
    "    \n",
    "    if not anesthesia_start.empty:\n",
    "        print(f\"Anesthesia start time(s) for subject_id {subject_id}: {anesthesia_start.values}\")\n",
    "    else:\n",
    "        print(f\"No anesthesia start time found for subject_id {subject_id}\")\n",
    "    \n",
    "    if not anesthesia_end.empty: \n",
    "        print(f\"Anesthesia end time(s) for subject_id {subject_id}: {anesthesia_end.values}\")\n",
    "    else:\n",
    "        print(f\"No anesthesia end time found for subject_id {subject_id}\")\n",
    "\n",
    "# Example usage:\n",
    "# Replace 'your_dataframe' with the variable name of your actual DataFrame\n",
    "print_patient_operation_details(df=df_operations, subject_id=106125331)\n"
   ]
  },
  {
   "cell_type": "markdown",
   "metadata": {},
   "source": [
    "[134244643 143682322 128959270 138314564 164036054 135070272 134478601\n",
    " 197719697 130922710 179617042 195584164 189569094 139339711 114781894\n",
    " 190742754 123888030 174297334 147929790 156349302 114842334 189208490\n",
    " 150282051 184414591 113848937 153293882 106125331 161883474 130425874\n",
    " 107183003 145034754]"
   ]
  }
 ],
 "metadata": {
  "kernelspec": {
   "display_name": "phd",
   "language": "python",
   "name": "python3"
  },
  "language_info": {
   "codemirror_mode": {
    "name": "ipython",
    "version": 3
   },
   "file_extension": ".py",
   "mimetype": "text/x-python",
   "name": "python",
   "nbconvert_exporter": "python",
   "pygments_lexer": "ipython3",
   "version": "3.11.7"
  }
 },
 "nbformat": 4,
 "nbformat_minor": 2
}
