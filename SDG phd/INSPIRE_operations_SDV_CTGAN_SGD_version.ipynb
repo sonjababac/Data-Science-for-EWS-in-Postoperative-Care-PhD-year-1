{
 "cells": [
  {
   "cell_type": "markdown",
   "metadata": {},
   "source": [
    "<h1 style=\"font-size:36px;\">Data exploration of synthetic data generated from INSPIRE, a publicly available research dataset for perioperative medicine</h1>\n",
    "\n",
    "<h2 style=\"font-size:20px;\">In this script data exploration and analysis of \"operations_Gretel_tabular_actgan.csv\"  which is essentailly a synthetic version of original \"operations.csv\" from INSPIRE is shown</h2>\n",
    "\n",
    "link to gretel.ai: https://console.gretel.ai/proj_2Z7R2lTw5P0JagOUtSy9W3nVy5S/models/656ef7aeac3ffb4c83838dad/data\n",
    "\n",
    "link to INSPIRE dataset: https://physionet.org/content/inspire/0.1/\n",
    "\n",
    "A full list of the ICD-10-CM codes and the description can be found on the Centers for Disease Control and Prevention (CDC) website \n",
    "https://ftp.cdc.gov/pub/Health_Statistics/NCHS/Publications/ICD10CM/April-1-2023-Update/icd10cm-code%20descriptions-%20April%201%202023.zip."
   ]
  },
  {
   "cell_type": "code",
   "execution_count": 5,
   "metadata": {},
   "outputs": [
    {
     "name": "stdout",
     "output_type": "stream",
     "text": [
      "Libraries Imported\n"
     ]
    }
   ],
   "source": [
    "import numpy as np\n",
    "import pandas as pd\n",
    "import matplotlib.pyplot as plt\n",
    "import seaborn as sns\n",
    "from sklearn import datasets  # Example, importing datasets module\n",
    "import tensorflow as tf\n",
    "import torch\n",
    "import keras\n",
    "import scipy\n",
    "import statsmodels\n",
    "import sdv\n",
    "from ctgan import CTGAN\n",
    "from ctgan import load_demo\n",
    "from sdv.single_table import CTGANSynthesizer\n",
    "\n",
    "\n",
    "print(\"Libraries Imported\")"
   ]
  },
  {
   "cell_type": "code",
   "execution_count": 6,
   "metadata": {},
   "outputs": [],
   "source": [
    "df_real_operations_original = pd.read_csv('C:\\\\Users\\\\20181588\\\\Desktop\\\\data\\\\inspire-a-publicly-available-research-dataset-for-perioperative-medicine-1.0\\\\inspire-a-publicly-available-research-dataset-for-perioperative-medicine-1.0\\\\operations.csv')"
   ]
  },
  {
   "cell_type": "code",
   "execution_count": 7,
   "metadata": {},
   "outputs": [],
   "source": [
    "df_real_operations = df_real_operations_original.copy()\n"
   ]
  },
  {
   "cell_type": "code",
   "execution_count": 8,
   "metadata": {},
   "outputs": [
    {
     "data": {
      "text/html": [
       "<div>\n",
       "<style scoped>\n",
       "    .dataframe tbody tr th:only-of-type {\n",
       "        vertical-align: middle;\n",
       "    }\n",
       "\n",
       "    .dataframe tbody tr th {\n",
       "        vertical-align: top;\n",
       "    }\n",
       "\n",
       "    .dataframe thead th {\n",
       "        text-align: right;\n",
       "    }\n",
       "</style>\n",
       "<table border=\"1\" class=\"dataframe\">\n",
       "  <thead>\n",
       "    <tr style=\"text-align: right;\">\n",
       "      <th></th>\n",
       "      <th>op_id</th>\n",
       "      <th>subject_id</th>\n",
       "      <th>hadm_id</th>\n",
       "      <th>case_id</th>\n",
       "      <th>opdate</th>\n",
       "      <th>age</th>\n",
       "      <th>sex</th>\n",
       "      <th>weight</th>\n",
       "      <th>height</th>\n",
       "      <th>race</th>\n",
       "      <th>...</th>\n",
       "      <th>opend_time</th>\n",
       "      <th>admission_time</th>\n",
       "      <th>discharge_time</th>\n",
       "      <th>anstart_time</th>\n",
       "      <th>anend_time</th>\n",
       "      <th>cpbon_time</th>\n",
       "      <th>cpboff_time</th>\n",
       "      <th>icuin_time</th>\n",
       "      <th>icuout_time</th>\n",
       "      <th>inhosp_death_time</th>\n",
       "    </tr>\n",
       "  </thead>\n",
       "  <tbody>\n",
       "    <tr>\n",
       "      <th>0</th>\n",
       "      <td>484069807</td>\n",
       "      <td>178742874</td>\n",
       "      <td>229842382</td>\n",
       "      <td>NaN</td>\n",
       "      <td>0</td>\n",
       "      <td>30</td>\n",
       "      <td>F</td>\n",
       "      <td>48.0</td>\n",
       "      <td>153.0</td>\n",
       "      <td>Asian</td>\n",
       "      <td>...</td>\n",
       "      <td>1230.0</td>\n",
       "      <td>0</td>\n",
       "      <td>7195</td>\n",
       "      <td>1120.0</td>\n",
       "      <td>1235.0</td>\n",
       "      <td>NaN</td>\n",
       "      <td>NaN</td>\n",
       "      <td>NaN</td>\n",
       "      <td>NaN</td>\n",
       "      <td>NaN</td>\n",
       "    </tr>\n",
       "    <tr>\n",
       "      <th>1</th>\n",
       "      <td>446270725</td>\n",
       "      <td>158995752</td>\n",
       "      <td>257857903</td>\n",
       "      <td>NaN</td>\n",
       "      <td>0</td>\n",
       "      <td>70</td>\n",
       "      <td>M</td>\n",
       "      <td>43.0</td>\n",
       "      <td>169.0</td>\n",
       "      <td>Asian</td>\n",
       "      <td>...</td>\n",
       "      <td>1540.0</td>\n",
       "      <td>0</td>\n",
       "      <td>70555</td>\n",
       "      <td>1345.0</td>\n",
       "      <td>1540.0</td>\n",
       "      <td>NaN</td>\n",
       "      <td>NaN</td>\n",
       "      <td>1550.0</td>\n",
       "      <td>19595.0</td>\n",
       "      <td>69860.0</td>\n",
       "    </tr>\n",
       "    <tr>\n",
       "      <th>2</th>\n",
       "      <td>406892271</td>\n",
       "      <td>108553242</td>\n",
       "      <td>200664328</td>\n",
       "      <td>NaN</td>\n",
       "      <td>61920</td>\n",
       "      <td>50</td>\n",
       "      <td>F</td>\n",
       "      <td>69.0</td>\n",
       "      <td>165.0</td>\n",
       "      <td>Asian</td>\n",
       "      <td>...</td>\n",
       "      <td>62380.0</td>\n",
       "      <td>0</td>\n",
       "      <td>178555</td>\n",
       "      <td>62170.0</td>\n",
       "      <td>62370.0</td>\n",
       "      <td>NaN</td>\n",
       "      <td>NaN</td>\n",
       "      <td>NaN</td>\n",
       "      <td>NaN</td>\n",
       "      <td>NaN</td>\n",
       "    </tr>\n",
       "    <tr>\n",
       "      <th>3</th>\n",
       "      <td>478413008</td>\n",
       "      <td>133278262</td>\n",
       "      <td>277235295</td>\n",
       "      <td>NaN</td>\n",
       "      <td>0</td>\n",
       "      <td>35</td>\n",
       "      <td>F</td>\n",
       "      <td>54.0</td>\n",
       "      <td>NaN</td>\n",
       "      <td>Asian</td>\n",
       "      <td>...</td>\n",
       "      <td>330.0</td>\n",
       "      <td>0</td>\n",
       "      <td>5755</td>\n",
       "      <td>215.0</td>\n",
       "      <td>340.0</td>\n",
       "      <td>NaN</td>\n",
       "      <td>NaN</td>\n",
       "      <td>NaN</td>\n",
       "      <td>NaN</td>\n",
       "      <td>NaN</td>\n",
       "    </tr>\n",
       "    <tr>\n",
       "      <th>4</th>\n",
       "      <td>468516791</td>\n",
       "      <td>116924034</td>\n",
       "      <td>299190423</td>\n",
       "      <td>NaN</td>\n",
       "      <td>17280</td>\n",
       "      <td>45</td>\n",
       "      <td>F</td>\n",
       "      <td>47.0</td>\n",
       "      <td>152.0</td>\n",
       "      <td>Asian</td>\n",
       "      <td>...</td>\n",
       "      <td>18070.0</td>\n",
       "      <td>0</td>\n",
       "      <td>25915</td>\n",
       "      <td>17950.0</td>\n",
       "      <td>18070.0</td>\n",
       "      <td>NaN</td>\n",
       "      <td>NaN</td>\n",
       "      <td>NaN</td>\n",
       "      <td>NaN</td>\n",
       "      <td>NaN</td>\n",
       "    </tr>\n",
       "  </tbody>\n",
       "</table>\n",
       "<p>5 rows × 28 columns</p>\n",
       "</div>"
      ],
      "text/plain": [
       "       op_id  subject_id    hadm_id  case_id  opdate  age sex  weight  height  \\\n",
       "0  484069807   178742874  229842382      NaN       0   30   F    48.0   153.0   \n",
       "1  446270725   158995752  257857903      NaN       0   70   M    43.0   169.0   \n",
       "2  406892271   108553242  200664328      NaN   61920   50   F    69.0   165.0   \n",
       "3  478413008   133278262  277235295      NaN       0   35   F    54.0     NaN   \n",
       "4  468516791   116924034  299190423      NaN   17280   45   F    47.0   152.0   \n",
       "\n",
       "    race  ...  opend_time  admission_time discharge_time anstart_time  \\\n",
       "0  Asian  ...      1230.0               0           7195       1120.0   \n",
       "1  Asian  ...      1540.0               0          70555       1345.0   \n",
       "2  Asian  ...     62380.0               0         178555      62170.0   \n",
       "3  Asian  ...       330.0               0           5755        215.0   \n",
       "4  Asian  ...     18070.0               0          25915      17950.0   \n",
       "\n",
       "  anend_time  cpbon_time  cpboff_time  icuin_time  icuout_time  \\\n",
       "0     1235.0         NaN          NaN         NaN          NaN   \n",
       "1     1540.0         NaN          NaN      1550.0      19595.0   \n",
       "2    62370.0         NaN          NaN         NaN          NaN   \n",
       "3      340.0         NaN          NaN         NaN          NaN   \n",
       "4    18070.0         NaN          NaN         NaN          NaN   \n",
       "\n",
       "   inhosp_death_time  \n",
       "0                NaN  \n",
       "1            69860.0  \n",
       "2                NaN  \n",
       "3                NaN  \n",
       "4                NaN  \n",
       "\n",
       "[5 rows x 28 columns]"
      ]
     },
     "execution_count": 8,
     "metadata": {},
     "output_type": "execute_result"
    }
   ],
   "source": [
    "df_real_operations.head()"
   ]
  },
  {
   "cell_type": "code",
   "execution_count": 50,
   "metadata": {},
   "outputs": [],
   "source": [
    "from sdv.metadata import SingleTableMetadata\n",
    "\n",
    "metadata = SingleTableMetadata()\n",
    "metadata.detect_from_dataframe(df_real_operations)\n"
   ]
  },
  {
   "cell_type": "code",
   "execution_count": 44,
   "metadata": {},
   "outputs": [
    {
     "name": "stdout",
     "output_type": "stream",
     "text": [
      "{'METADATA_SPEC_VERSION': 'SINGLE_TABLE_V1', 'columns': {'op_id': {'sdtype': 'id'}, 'subject_id': {'sdtype': 'numerical'}, 'hadm_id': {'sdtype': 'numerical'}, 'case_id': {'sdtype': 'numerical'}, 'opdate': {'sdtype': 'numerical'}, 'age': {'sdtype': 'numerical'}, 'sex': {'sdtype': 'categorical'}, 'weight': {'sdtype': 'numerical'}, 'height': {'sdtype': 'numerical'}, 'race': {'sdtype': 'categorical'}, 'asa': {'sdtype': 'categorical'}, 'emop': {'sdtype': 'categorical'}, 'department': {'sdtype': 'categorical'}, 'antype': {'sdtype': 'categorical'}, 'icd10_pcs': {'sdtype': 'categorical'}, 'orin_time': {'sdtype': 'numerical'}, 'orout_time': {'sdtype': 'numerical'}, 'opstart_time': {'sdtype': 'numerical'}, 'opend_time': {'sdtype': 'numerical'}, 'admission_time': {'sdtype': 'numerical'}, 'discharge_time': {'sdtype': 'numerical'}, 'anstart_time': {'sdtype': 'numerical'}, 'anend_time': {'sdtype': 'numerical'}, 'cpbon_time': {'sdtype': 'numerical'}, 'cpboff_time': {'sdtype': 'numerical'}, 'icuin_time': {'sdtype': 'numerical'}, 'icuout_time': {'sdtype': 'numerical'}, 'inhosp_death_time': {'sdtype': 'numerical'}}, 'primary_key': 'op_id'}\n"
     ]
    }
   ],
   "source": [
    "python_dict = metadata.to_dict()\n",
    "print(python_dict)"
   ]
  },
  {
   "cell_type": "code",
   "execution_count": 45,
   "metadata": {},
   "outputs": [],
   "source": [
    "metadata.validate()"
   ]
  },
  {
   "cell_type": "code",
   "execution_count": 46,
   "metadata": {},
   "outputs": [],
   "source": [
    "metadata.validate_data(data=df_real_operations)"
   ]
  },
  {
   "cell_type": "code",
   "execution_count": 51,
   "metadata": {},
   "outputs": [
    {
     "name": "stdout",
     "output_type": "stream",
     "text": [
      "PerformanceAlert: Using the CTGANSynthesizer on this data is not recommended. To model this data, CTGAN will generate a large number of columns.\n",
      "\n",
      "Original Column Name   Est # of Columns (CTGAN)\n",
      "subject_id             11\n",
      "hadm_id                11\n",
      "case_id                11\n",
      "opdate                 11\n",
      "age                    11\n",
      "sex                    2\n",
      "weight                 11\n",
      "height                 11\n",
      "race                   1\n",
      "asa                    7\n",
      "emop                   2\n",
      "department             16\n",
      "antype                 4\n",
      "icd10_pcs              2255\n",
      "orin_time              11\n",
      "orout_time             11\n",
      "opstart_time           11\n",
      "opend_time             11\n",
      "admission_time         11\n",
      "discharge_time         11\n",
      "anstart_time           11\n",
      "anend_time             11\n",
      "cpbon_time             11\n",
      "cpboff_time            11\n",
      "icuin_time             11\n",
      "icuout_time            11\n",
      "inhosp_death_time      11\n",
      "\n",
      "We recommend preprocessing discrete columns that can have many values, using 'update_transformers'. Or you may drop columns that are not necessary to model. (Exit this script using ctrl-C)\n"
     ]
    },
    {
     "name": "stderr",
     "output_type": "stream",
     "text": [
      "Gen. (0.00) | Discrim. (0.00):   0%|          | 0/300 [02:34<?, ?it/s]\n"
     ]
    },
    {
     "ename": "KeyboardInterrupt",
     "evalue": "",
     "output_type": "error",
     "traceback": [
      "\u001b[1;31m---------------------------------------------------------------------------\u001b[0m",
      "\u001b[1;31mKeyboardInterrupt\u001b[0m                         Traceback (most recent call last)",
      "\u001b[1;32mc:\\Users\\20181588\\Desktop\\code\\SDG phd\\INSPIRE_operations_SDV_CTGAN_SGD_version.ipynb Cell 10\u001b[0m line \u001b[0;36m1\n\u001b[0;32m      <a href='vscode-notebook-cell:/c%3A/Users/20181588/Desktop/code/SDG%20phd/INSPIRE_operations_SDV_CTGAN_SGD_version.ipynb#Y156sZmlsZQ%3D%3D?line=2'>3</a>\u001b[0m synthesizer \u001b[39m=\u001b[39m CTGANSynthesizer(\n\u001b[0;32m      <a href='vscode-notebook-cell:/c%3A/Users/20181588/Desktop/code/SDG%20phd/INSPIRE_operations_SDV_CTGAN_SGD_version.ipynb#Y156sZmlsZQ%3D%3D?line=3'>4</a>\u001b[0m     metadata \u001b[39m=\u001b[39m metadata, \u001b[39m# required\u001b[39;00m\n\u001b[0;32m      <a href='vscode-notebook-cell:/c%3A/Users/20181588/Desktop/code/SDG%20phd/INSPIRE_operations_SDV_CTGAN_SGD_version.ipynb#Y156sZmlsZQ%3D%3D?line=4'>5</a>\u001b[0m     enforce_rounding\u001b[39m=\u001b[39m\u001b[39mTrue\u001b[39;00m,\n\u001b[0;32m      <a href='vscode-notebook-cell:/c%3A/Users/20181588/Desktop/code/SDG%20phd/INSPIRE_operations_SDV_CTGAN_SGD_version.ipynb#Y156sZmlsZQ%3D%3D?line=5'>6</a>\u001b[0m     epochs\u001b[39m=\u001b[39m\u001b[39m300\u001b[39m,\n\u001b[0;32m      <a href='vscode-notebook-cell:/c%3A/Users/20181588/Desktop/code/SDG%20phd/INSPIRE_operations_SDV_CTGAN_SGD_version.ipynb#Y156sZmlsZQ%3D%3D?line=6'>7</a>\u001b[0m     verbose\u001b[39m=\u001b[39m\u001b[39mTrue\u001b[39;00m\n\u001b[0;32m      <a href='vscode-notebook-cell:/c%3A/Users/20181588/Desktop/code/SDG%20phd/INSPIRE_operations_SDV_CTGAN_SGD_version.ipynb#Y156sZmlsZQ%3D%3D?line=7'>8</a>\u001b[0m )\n\u001b[0;32m      <a href='vscode-notebook-cell:/c%3A/Users/20181588/Desktop/code/SDG%20phd/INSPIRE_operations_SDV_CTGAN_SGD_version.ipynb#Y156sZmlsZQ%3D%3D?line=8'>9</a>\u001b[0m \u001b[39m# Fit the CTGAN model to your DataFrame\u001b[39;00m\n\u001b[1;32m---> <a href='vscode-notebook-cell:/c%3A/Users/20181588/Desktop/code/SDG%20phd/INSPIRE_operations_SDV_CTGAN_SGD_version.ipynb#Y156sZmlsZQ%3D%3D?line=9'>10</a>\u001b[0m synthesizer\u001b[39m.\u001b[39;49mfit(df_real_operations)\n\u001b[0;32m     <a href='vscode-notebook-cell:/c%3A/Users/20181588/Desktop/code/SDG%20phd/INSPIRE_operations_SDV_CTGAN_SGD_version.ipynb#Y156sZmlsZQ%3D%3D?line=11'>12</a>\u001b[0m \u001b[39m# Sample synthetic data\u001b[39;00m\n\u001b[0;32m     <a href='vscode-notebook-cell:/c%3A/Users/20181588/Desktop/code/SDG%20phd/INSPIRE_operations_SDV_CTGAN_SGD_version.ipynb#Y156sZmlsZQ%3D%3D?line=12'>13</a>\u001b[0m synthetic_data \u001b[39m=\u001b[39m synthesizer\u001b[39m.\u001b[39msample(\u001b[39mlen\u001b[39m(df_real_operations))\n",
      "File \u001b[1;32mc:\\Users\\20181588\\Desktop\\code\\phd\\Lib\\site-packages\\sdv\\single_table\\base.py:437\u001b[0m, in \u001b[0;36mBaseSynthesizer.fit\u001b[1;34m(self, data)\u001b[0m\n\u001b[0;32m    435\u001b[0m \u001b[39mself\u001b[39m\u001b[39m.\u001b[39m_random_state_set \u001b[39m=\u001b[39m \u001b[39mFalse\u001b[39;00m\n\u001b[0;32m    436\u001b[0m processed_data \u001b[39m=\u001b[39m \u001b[39mself\u001b[39m\u001b[39m.\u001b[39m_preprocess(data)\n\u001b[1;32m--> 437\u001b[0m \u001b[39mself\u001b[39;49m\u001b[39m.\u001b[39;49mfit_processed_data(processed_data)\n",
      "File \u001b[1;32mc:\\Users\\20181588\\Desktop\\code\\phd\\Lib\\site-packages\\sdv\\single_table\\base.py:420\u001b[0m, in \u001b[0;36mBaseSynthesizer.fit_processed_data\u001b[1;34m(self, processed_data)\u001b[0m\n\u001b[0;32m    413\u001b[0m \u001b[39m\u001b[39m\u001b[39m\"\"\"Fit this model to the transformed data.\u001b[39;00m\n\u001b[0;32m    414\u001b[0m \n\u001b[0;32m    415\u001b[0m \u001b[39mArgs:\u001b[39;00m\n\u001b[0;32m    416\u001b[0m \u001b[39m    processed_data (pandas.DataFrame):\u001b[39;00m\n\u001b[0;32m    417\u001b[0m \u001b[39m        The transformed data used to fit the model to.\u001b[39;00m\n\u001b[0;32m    418\u001b[0m \u001b[39m\"\"\"\u001b[39;00m\n\u001b[0;32m    419\u001b[0m \u001b[39mif\u001b[39;00m \u001b[39mnot\u001b[39;00m processed_data\u001b[39m.\u001b[39mempty:\n\u001b[1;32m--> 420\u001b[0m     \u001b[39mself\u001b[39;49m\u001b[39m.\u001b[39;49m_fit(processed_data)\n\u001b[0;32m    422\u001b[0m \u001b[39mself\u001b[39m\u001b[39m.\u001b[39m_fitted \u001b[39m=\u001b[39m \u001b[39mTrue\u001b[39;00m\n\u001b[0;32m    423\u001b[0m \u001b[39mself\u001b[39m\u001b[39m.\u001b[39m_fitted_date \u001b[39m=\u001b[39m datetime\u001b[39m.\u001b[39mdatetime\u001b[39m.\u001b[39mtoday()\u001b[39m.\u001b[39mstrftime(\u001b[39m'\u001b[39m\u001b[39m%\u001b[39m\u001b[39mY-\u001b[39m\u001b[39m%\u001b[39m\u001b[39mm-\u001b[39m\u001b[39m%d\u001b[39;00m\u001b[39m'\u001b[39m)\n",
      "File \u001b[1;32mc:\\Users\\20181588\\Desktop\\code\\phd\\Lib\\site-packages\\sdv\\single_table\\ctgan.py:189\u001b[0m, in \u001b[0;36m_fit\u001b[1;34m(self, processed_data)\u001b[0m\n\u001b[0;32m    177\u001b[0m         generated_columns_str \u001b[39m=\u001b[39m \u001b[39m'\u001b[39m\u001b[39m\\n\u001b[39;00m\u001b[39m'\u001b[39m\u001b[39m.\u001b[39mjoin(lines_to_print)\n\u001b[0;32m    178\u001b[0m         \u001b[39mprint\u001b[39m(  \u001b[39m# noqa: T001\u001b[39;00m\n\u001b[0;32m    179\u001b[0m             \u001b[39m'\u001b[39m\u001b[39mPerformanceAlert: Using the CTGANSynthesizer on this data is not recommended. \u001b[39m\u001b[39m'\u001b[39m\n\u001b[0;32m    180\u001b[0m             \u001b[39m'\u001b[39m\u001b[39mTo model this data, CTGAN will generate a large number of columns.\u001b[39m\u001b[39m'\u001b[39m\n\u001b[1;32m   (...)\u001b[0m\n\u001b[0;32m    186\u001b[0m             \u001b[39m'\u001b[39m\u001b[39mto model. (Exit this script using ctrl-C)\u001b[39m\u001b[39m'\u001b[39m\n\u001b[0;32m    187\u001b[0m         )\n\u001b[1;32m--> 189\u001b[0m \u001b[39mdef\u001b[39;00m \u001b[39m_preprocess\u001b[39m(\u001b[39mself\u001b[39m, data):\n\u001b[0;32m    190\u001b[0m     \u001b[39mself\u001b[39m\u001b[39m.\u001b[39mvalidate(data)\n\u001b[0;32m    191\u001b[0m     \u001b[39mself\u001b[39m\u001b[39m.\u001b[39m_data_processor\u001b[39m.\u001b[39mfit(data)\n",
      "File \u001b[1;32mc:\\Users\\20181588\\Desktop\\code\\phd\\Lib\\site-packages\\ctgan\\synthesizers\\base.py:50\u001b[0m, in \u001b[0;36mrandom_state.<locals>.wrapper\u001b[1;34m(self, *args, **kwargs)\u001b[0m\n\u001b[0;32m     48\u001b[0m \u001b[39mdef\u001b[39;00m \u001b[39mwrapper\u001b[39m(\u001b[39mself\u001b[39m, \u001b[39m*\u001b[39margs, \u001b[39m*\u001b[39m\u001b[39m*\u001b[39mkwargs):\n\u001b[0;32m     49\u001b[0m     \u001b[39mif\u001b[39;00m \u001b[39mself\u001b[39m\u001b[39m.\u001b[39mrandom_states \u001b[39mis\u001b[39;00m \u001b[39mNone\u001b[39;00m:\n\u001b[1;32m---> 50\u001b[0m         \u001b[39mreturn\u001b[39;00m function(\u001b[39mself\u001b[39;49m, \u001b[39m*\u001b[39;49margs, \u001b[39m*\u001b[39;49m\u001b[39m*\u001b[39;49mkwargs)\n\u001b[0;32m     52\u001b[0m     \u001b[39melse\u001b[39;00m:\n\u001b[0;32m     53\u001b[0m         \u001b[39mwith\u001b[39;00m set_random_states(\u001b[39mself\u001b[39m\u001b[39m.\u001b[39mrandom_states, \u001b[39mself\u001b[39m\u001b[39m.\u001b[39mset_random_state):\n",
      "File \u001b[1;32mc:\\Users\\20181588\\Desktop\\code\\phd\\Lib\\site-packages\\ctgan\\synthesizers\\ctgan.py:392\u001b[0m, in \u001b[0;36mCTGAN.fit\u001b[1;34m(self, train_data, discrete_columns, epochs)\u001b[0m\n\u001b[0;32m    390\u001b[0m     optimizerD\u001b[39m.\u001b[39mzero_grad(set_to_none\u001b[39m=\u001b[39m\u001b[39mFalse\u001b[39;00m)\n\u001b[0;32m    391\u001b[0m     pen\u001b[39m.\u001b[39mbackward(retain_graph\u001b[39m=\u001b[39m\u001b[39mTrue\u001b[39;00m)\n\u001b[1;32m--> 392\u001b[0m     loss_d\u001b[39m.\u001b[39;49mbackward()\n\u001b[0;32m    393\u001b[0m     optimizerD\u001b[39m.\u001b[39mstep()\n\u001b[0;32m    395\u001b[0m fakez \u001b[39m=\u001b[39m torch\u001b[39m.\u001b[39mnormal(mean\u001b[39m=\u001b[39mmean, std\u001b[39m=\u001b[39mstd)\n",
      "File \u001b[1;32mc:\\Users\\20181588\\Desktop\\code\\phd\\Lib\\site-packages\\torch\\_tensor.py:492\u001b[0m, in \u001b[0;36mTensor.backward\u001b[1;34m(self, gradient, retain_graph, create_graph, inputs)\u001b[0m\n\u001b[0;32m    482\u001b[0m \u001b[39mif\u001b[39;00m has_torch_function_unary(\u001b[39mself\u001b[39m):\n\u001b[0;32m    483\u001b[0m     \u001b[39mreturn\u001b[39;00m handle_torch_function(\n\u001b[0;32m    484\u001b[0m         Tensor\u001b[39m.\u001b[39mbackward,\n\u001b[0;32m    485\u001b[0m         (\u001b[39mself\u001b[39m,),\n\u001b[1;32m   (...)\u001b[0m\n\u001b[0;32m    490\u001b[0m         inputs\u001b[39m=\u001b[39minputs,\n\u001b[0;32m    491\u001b[0m     )\n\u001b[1;32m--> 492\u001b[0m torch\u001b[39m.\u001b[39;49mautograd\u001b[39m.\u001b[39;49mbackward(\n\u001b[0;32m    493\u001b[0m     \u001b[39mself\u001b[39;49m, gradient, retain_graph, create_graph, inputs\u001b[39m=\u001b[39;49minputs\n\u001b[0;32m    494\u001b[0m )\n",
      "File \u001b[1;32mc:\\Users\\20181588\\Desktop\\code\\phd\\Lib\\site-packages\\torch\\autograd\\__init__.py:251\u001b[0m, in \u001b[0;36mbackward\u001b[1;34m(tensors, grad_tensors, retain_graph, create_graph, grad_variables, inputs)\u001b[0m\n\u001b[0;32m    246\u001b[0m     retain_graph \u001b[39m=\u001b[39m create_graph\n\u001b[0;32m    248\u001b[0m \u001b[39m# The reason we repeat the same comment below is that\u001b[39;00m\n\u001b[0;32m    249\u001b[0m \u001b[39m# some Python versions print out the first line of a multi-line function\u001b[39;00m\n\u001b[0;32m    250\u001b[0m \u001b[39m# calls in the traceback and some print out the last line\u001b[39;00m\n\u001b[1;32m--> 251\u001b[0m Variable\u001b[39m.\u001b[39;49m_execution_engine\u001b[39m.\u001b[39;49mrun_backward(  \u001b[39m# Calls into the C++ engine to run the backward pass\u001b[39;49;00m\n\u001b[0;32m    252\u001b[0m     tensors,\n\u001b[0;32m    253\u001b[0m     grad_tensors_,\n\u001b[0;32m    254\u001b[0m     retain_graph,\n\u001b[0;32m    255\u001b[0m     create_graph,\n\u001b[0;32m    256\u001b[0m     inputs,\n\u001b[0;32m    257\u001b[0m     allow_unreachable\u001b[39m=\u001b[39;49m\u001b[39mTrue\u001b[39;49;00m,\n\u001b[0;32m    258\u001b[0m     accumulate_grad\u001b[39m=\u001b[39;49m\u001b[39mTrue\u001b[39;49;00m,\n\u001b[0;32m    259\u001b[0m )\n",
      "\u001b[1;31mKeyboardInterrupt\u001b[0m: "
     ]
    }
   ],
   "source": [
    "\n",
    "from sdv.single_table import CTGANSynthesizer\n",
    "\n",
    "synthesizer = CTGANSynthesizer(\n",
    "    metadata = metadata, # required\n",
    "    enforce_rounding=True,\n",
    "    epochs=300,\n",
    "    verbose=True\n",
    ")\n",
    "# Fit the CTGAN model to your DataFrame\n",
    "synthesizer.fit(df_real_operations)\n",
    "\n",
    "# Sample synthetic data\n",
    "synthetic_data = synthesizer.sample(len(df_real_operations))"
   ]
  },
  {
   "cell_type": "code",
   "execution_count": 3,
   "metadata": {},
   "outputs": [],
   "source": [
    "df_operations = df_sgd_operations_original.copy()"
   ]
  },
  {
   "cell_type": "code",
   "execution_count": 4,
   "metadata": {},
   "outputs": [
    {
     "data": {
      "text/html": [
       "<div>\n",
       "<style scoped>\n",
       "    .dataframe tbody tr th:only-of-type {\n",
       "        vertical-align: middle;\n",
       "    }\n",
       "\n",
       "    .dataframe tbody tr th {\n",
       "        vertical-align: top;\n",
       "    }\n",
       "\n",
       "    .dataframe thead th {\n",
       "        text-align: right;\n",
       "    }\n",
       "</style>\n",
       "<table border=\"1\" class=\"dataframe\">\n",
       "  <thead>\n",
       "    <tr style=\"text-align: right;\">\n",
       "      <th></th>\n",
       "      <th>op_id</th>\n",
       "      <th>subject_id</th>\n",
       "      <th>hadm_id</th>\n",
       "      <th>case_id</th>\n",
       "      <th>opdate</th>\n",
       "      <th>age</th>\n",
       "      <th>sex</th>\n",
       "      <th>weight</th>\n",
       "      <th>height</th>\n",
       "      <th>race</th>\n",
       "      <th>...</th>\n",
       "      <th>opend_time</th>\n",
       "      <th>admission_time</th>\n",
       "      <th>discharge_time</th>\n",
       "      <th>anstart_time</th>\n",
       "      <th>anend_time</th>\n",
       "      <th>cpbon_time</th>\n",
       "      <th>cpboff_time</th>\n",
       "      <th>icuin_time</th>\n",
       "      <th>icuout_time</th>\n",
       "      <th>inhosp_death_time</th>\n",
       "    </tr>\n",
       "  </thead>\n",
       "  <tbody>\n",
       "    <tr>\n",
       "      <th>0</th>\n",
       "      <td>447893992</td>\n",
       "      <td>147111913</td>\n",
       "      <td>236365916</td>\n",
       "      <td>-24251.0</td>\n",
       "      <td>-385</td>\n",
       "      <td>45</td>\n",
       "      <td>F</td>\n",
       "      <td>54.0</td>\n",
       "      <td>147.0</td>\n",
       "      <td>Asian</td>\n",
       "      <td>...</td>\n",
       "      <td>3415.0</td>\n",
       "      <td>0</td>\n",
       "      <td>14269</td>\n",
       "      <td>2198.0</td>\n",
       "      <td>3146.0</td>\n",
       "      <td>NaN</td>\n",
       "      <td>NaN</td>\n",
       "      <td>NaN</td>\n",
       "      <td>NaN</td>\n",
       "      <td>NaN</td>\n",
       "    </tr>\n",
       "    <tr>\n",
       "      <th>1</th>\n",
       "      <td>413222004</td>\n",
       "      <td>143088952</td>\n",
       "      <td>269955929</td>\n",
       "      <td>NaN</td>\n",
       "      <td>2078017</td>\n",
       "      <td>70</td>\n",
       "      <td>F</td>\n",
       "      <td>65.0</td>\n",
       "      <td>152.0</td>\n",
       "      <td>Asian</td>\n",
       "      <td>...</td>\n",
       "      <td>565.0</td>\n",
       "      <td>681</td>\n",
       "      <td>1405183</td>\n",
       "      <td>76.0</td>\n",
       "      <td>1728838.0</td>\n",
       "      <td>NaN</td>\n",
       "      <td>NaN</td>\n",
       "      <td>NaN</td>\n",
       "      <td>NaN</td>\n",
       "      <td>NaN</td>\n",
       "    </tr>\n",
       "    <tr>\n",
       "      <th>2</th>\n",
       "      <td>438958134</td>\n",
       "      <td>129805443</td>\n",
       "      <td>231064166</td>\n",
       "      <td>23504.0</td>\n",
       "      <td>3541389</td>\n",
       "      <td>79</td>\n",
       "      <td>F</td>\n",
       "      <td>71.0</td>\n",
       "      <td>164.0</td>\n",
       "      <td>Asian</td>\n",
       "      <td>...</td>\n",
       "      <td>3576500.0</td>\n",
       "      <td>2231764</td>\n",
       "      <td>2990006</td>\n",
       "      <td>1349676.0</td>\n",
       "      <td>1810647.0</td>\n",
       "      <td>NaN</td>\n",
       "      <td>NaN</td>\n",
       "      <td>NaN</td>\n",
       "      <td>NaN</td>\n",
       "      <td>NaN</td>\n",
       "    </tr>\n",
       "    <tr>\n",
       "      <th>3</th>\n",
       "      <td>465915250</td>\n",
       "      <td>171722058</td>\n",
       "      <td>279385117</td>\n",
       "      <td>22761.0</td>\n",
       "      <td>808</td>\n",
       "      <td>80</td>\n",
       "      <td>F</td>\n",
       "      <td>46.0</td>\n",
       "      <td>145.0</td>\n",
       "      <td>Asian</td>\n",
       "      <td>...</td>\n",
       "      <td>4864.0</td>\n",
       "      <td>153</td>\n",
       "      <td>12221</td>\n",
       "      <td>1282.0</td>\n",
       "      <td>3795.0</td>\n",
       "      <td>NaN</td>\n",
       "      <td>NaN</td>\n",
       "      <td>NaN</td>\n",
       "      <td>NaN</td>\n",
       "      <td>NaN</td>\n",
       "    </tr>\n",
       "    <tr>\n",
       "      <th>4</th>\n",
       "      <td>414769195</td>\n",
       "      <td>102580460</td>\n",
       "      <td>289356448</td>\n",
       "      <td>NaN</td>\n",
       "      <td>-761</td>\n",
       "      <td>45</td>\n",
       "      <td>M</td>\n",
       "      <td>83.0</td>\n",
       "      <td>179.0</td>\n",
       "      <td>Asian</td>\n",
       "      <td>...</td>\n",
       "      <td>2757.0</td>\n",
       "      <td>0</td>\n",
       "      <td>8841</td>\n",
       "      <td>1340.0</td>\n",
       "      <td>2269.0</td>\n",
       "      <td>NaN</td>\n",
       "      <td>NaN</td>\n",
       "      <td>NaN</td>\n",
       "      <td>NaN</td>\n",
       "      <td>NaN</td>\n",
       "    </tr>\n",
       "  </tbody>\n",
       "</table>\n",
       "<p>5 rows × 28 columns</p>\n",
       "</div>"
      ],
      "text/plain": [
       "       op_id  subject_id    hadm_id  case_id   opdate  age sex  weight  \\\n",
       "0  447893992   147111913  236365916 -24251.0     -385   45   F    54.0   \n",
       "1  413222004   143088952  269955929      NaN  2078017   70   F    65.0   \n",
       "2  438958134   129805443  231064166  23504.0  3541389   79   F    71.0   \n",
       "3  465915250   171722058  279385117  22761.0      808   80   F    46.0   \n",
       "4  414769195   102580460  289356448      NaN     -761   45   M    83.0   \n",
       "\n",
       "   height   race  ...  opend_time  admission_time discharge_time anstart_time  \\\n",
       "0   147.0  Asian  ...      3415.0               0          14269       2198.0   \n",
       "1   152.0  Asian  ...       565.0             681        1405183         76.0   \n",
       "2   164.0  Asian  ...   3576500.0         2231764        2990006    1349676.0   \n",
       "3   145.0  Asian  ...      4864.0             153          12221       1282.0   \n",
       "4   179.0  Asian  ...      2757.0               0           8841       1340.0   \n",
       "\n",
       "  anend_time  cpbon_time  cpboff_time  icuin_time  icuout_time  \\\n",
       "0     3146.0         NaN          NaN         NaN          NaN   \n",
       "1  1728838.0         NaN          NaN         NaN          NaN   \n",
       "2  1810647.0         NaN          NaN         NaN          NaN   \n",
       "3     3795.0         NaN          NaN         NaN          NaN   \n",
       "4     2269.0         NaN          NaN         NaN          NaN   \n",
       "\n",
       "   inhosp_death_time  \n",
       "0                NaN  \n",
       "1                NaN  \n",
       "2                NaN  \n",
       "3                NaN  \n",
       "4                NaN  \n",
       "\n",
       "[5 rows x 28 columns]"
      ]
     },
     "execution_count": 4,
     "metadata": {},
     "output_type": "execute_result"
    }
   ],
   "source": [
    "df_operations.head()"
   ]
  },
  {
   "cell_type": "code",
   "execution_count": 5,
   "metadata": {},
   "outputs": [
    {
     "name": "stdout",
     "output_type": "stream",
     "text": [
      "<class 'pandas.core.frame.DataFrame'>\n",
      "RangeIndex: 5000 entries, 0 to 4999\n",
      "Data columns (total 28 columns):\n",
      " #   Column             Non-Null Count  Dtype  \n",
      "---  ------             --------------  -----  \n",
      " 0   op_id              5000 non-null   int64  \n",
      " 1   subject_id         5000 non-null   int64  \n",
      " 2   hadm_id            5000 non-null   int64  \n",
      " 3   case_id            813 non-null    float64\n",
      " 4   opdate             5000 non-null   int64  \n",
      " 5   age                5000 non-null   int64  \n",
      " 6   sex                5000 non-null   object \n",
      " 7   weight             4957 non-null   float64\n",
      " 8   height             4995 non-null   float64\n",
      " 9   race               5000 non-null   object \n",
      " 10  asa                4923 non-null   float64\n",
      " 11  emop               5000 non-null   int64  \n",
      " 12  department         5000 non-null   object \n",
      " 13  antype             5000 non-null   object \n",
      " 14  icd10_pcs          5000 non-null   object \n",
      " 15  orin_time          5000 non-null   int64  \n",
      " 16  orout_time         5000 non-null   int64  \n",
      " 17  opstart_time       4999 non-null   float64\n",
      " 18  opend_time         4999 non-null   float64\n",
      " 19  admission_time     5000 non-null   int64  \n",
      " 20  discharge_time     5000 non-null   int64  \n",
      " 21  anstart_time       4997 non-null   float64\n",
      " 22  anend_time         4983 non-null   float64\n",
      " 23  cpbon_time         54 non-null     float64\n",
      " 24  cpboff_time        44 non-null     float64\n",
      " 25  icuin_time         567 non-null    float64\n",
      " 26  icuout_time        539 non-null    float64\n",
      " 27  inhosp_death_time  25 non-null     float64\n",
      "dtypes: float64(13), int64(10), object(5)\n",
      "memory usage: 1.1+ MB\n"
     ]
    }
   ],
   "source": [
    "df_operations.info()"
   ]
  },
  {
   "cell_type": "code",
   "execution_count": 6,
   "metadata": {},
   "outputs": [
    {
     "data": {
      "text/plain": [
       "Index(['op_id', 'subject_id', 'hadm_id', 'case_id', 'opdate', 'age', 'sex',\n",
       "       'weight', 'height', 'race', 'asa', 'emop', 'department', 'antype',\n",
       "       'icd10_pcs', 'orin_time', 'orout_time', 'opstart_time', 'opend_time',\n",
       "       'admission_time', 'discharge_time', 'anstart_time', 'anend_time',\n",
       "       'cpbon_time', 'cpboff_time', 'icuin_time', 'icuout_time',\n",
       "       'inhosp_death_time'],\n",
       "      dtype='object')"
      ]
     },
     "execution_count": 6,
     "metadata": {},
     "output_type": "execute_result"
    }
   ],
   "source": [
    "df_operations.columns"
   ]
  },
  {
   "cell_type": "code",
   "execution_count": 7,
   "metadata": {},
   "outputs": [
    {
     "data": {
      "text/html": [
       "<div>\n",
       "<style scoped>\n",
       "    .dataframe tbody tr th:only-of-type {\n",
       "        vertical-align: middle;\n",
       "    }\n",
       "\n",
       "    .dataframe tbody tr th {\n",
       "        vertical-align: top;\n",
       "    }\n",
       "\n",
       "    .dataframe thead th {\n",
       "        text-align: right;\n",
       "    }\n",
       "</style>\n",
       "<table border=\"1\" class=\"dataframe\">\n",
       "  <thead>\n",
       "    <tr style=\"text-align: right;\">\n",
       "      <th></th>\n",
       "      <th>op_id</th>\n",
       "      <th>subject_id</th>\n",
       "      <th>hadm_id</th>\n",
       "      <th>case_id</th>\n",
       "      <th>opdate</th>\n",
       "      <th>age</th>\n",
       "      <th>weight</th>\n",
       "      <th>height</th>\n",
       "      <th>asa</th>\n",
       "      <th>emop</th>\n",
       "      <th>...</th>\n",
       "      <th>opend_time</th>\n",
       "      <th>admission_time</th>\n",
       "      <th>discharge_time</th>\n",
       "      <th>anstart_time</th>\n",
       "      <th>anend_time</th>\n",
       "      <th>cpbon_time</th>\n",
       "      <th>cpboff_time</th>\n",
       "      <th>icuin_time</th>\n",
       "      <th>icuout_time</th>\n",
       "      <th>inhosp_death_time</th>\n",
       "    </tr>\n",
       "  </thead>\n",
       "  <tbody>\n",
       "    <tr>\n",
       "      <th>count</th>\n",
       "      <td>5.000000e+03</td>\n",
       "      <td>5.000000e+03</td>\n",
       "      <td>5.000000e+03</td>\n",
       "      <td>813.000000</td>\n",
       "      <td>5.000000e+03</td>\n",
       "      <td>5000.000000</td>\n",
       "      <td>4957.000000</td>\n",
       "      <td>4995.000000</td>\n",
       "      <td>4923.000000</td>\n",
       "      <td>5000.00000</td>\n",
       "      <td>...</td>\n",
       "      <td>4.999000e+03</td>\n",
       "      <td>5.000000e+03</td>\n",
       "      <td>5.000000e+03</td>\n",
       "      <td>4.997000e+03</td>\n",
       "      <td>4.983000e+03</td>\n",
       "      <td>54.000000</td>\n",
       "      <td>44.000000</td>\n",
       "      <td>5.670000e+02</td>\n",
       "      <td>539.000000</td>\n",
       "      <td>25.000000</td>\n",
       "    </tr>\n",
       "    <tr>\n",
       "      <th>mean</th>\n",
       "      <td>4.522082e+08</td>\n",
       "      <td>1.489548e+08</td>\n",
       "      <td>2.463808e+08</td>\n",
       "      <td>3946.057811</td>\n",
       "      <td>1.869716e+05</td>\n",
       "      <td>54.154600</td>\n",
       "      <td>62.392576</td>\n",
       "      <td>162.340541</td>\n",
       "      <td>1.739996</td>\n",
       "      <td>0.14560</td>\n",
       "      <td>...</td>\n",
       "      <td>2.249903e+05</td>\n",
       "      <td>2.313486e+05</td>\n",
       "      <td>2.627719e+05</td>\n",
       "      <td>2.031566e+05</td>\n",
       "      <td>2.023749e+05</td>\n",
       "      <td>50610.759259</td>\n",
       "      <td>22353.500000</td>\n",
       "      <td>1.275845e+05</td>\n",
       "      <td>87463.265306</td>\n",
       "      <td>486420.120000</td>\n",
       "    </tr>\n",
       "    <tr>\n",
       "      <th>std</th>\n",
       "      <td>2.535777e+07</td>\n",
       "      <td>2.803146e+07</td>\n",
       "      <td>2.791218e+07</td>\n",
       "      <td>18144.913372</td>\n",
       "      <td>5.965462e+05</td>\n",
       "      <td>16.036862</td>\n",
       "      <td>10.911598</td>\n",
       "      <td>9.800613</td>\n",
       "      <td>0.648694</td>\n",
       "      <td>0.35274</td>\n",
       "      <td>...</td>\n",
       "      <td>6.690647e+05</td>\n",
       "      <td>6.658349e+05</td>\n",
       "      <td>7.156208e+05</td>\n",
       "      <td>6.176323e+05</td>\n",
       "      <td>6.213492e+05</td>\n",
       "      <td>76864.788966</td>\n",
       "      <td>46854.534093</td>\n",
       "      <td>2.493789e+05</td>\n",
       "      <td>162647.862306</td>\n",
       "      <td>308390.170714</td>\n",
       "    </tr>\n",
       "    <tr>\n",
       "      <th>min</th>\n",
       "      <td>4.007420e+08</td>\n",
       "      <td>1.000008e+08</td>\n",
       "      <td>2.000009e+08</td>\n",
       "      <td>-31984.000000</td>\n",
       "      <td>-1.440000e+03</td>\n",
       "      <td>20.000000</td>\n",
       "      <td>36.000000</td>\n",
       "      <td>133.000000</td>\n",
       "      <td>1.000000</td>\n",
       "      <td>0.00000</td>\n",
       "      <td>...</td>\n",
       "      <td>5.500000e+01</td>\n",
       "      <td>0.000000e+00</td>\n",
       "      <td>1.435000e+03</td>\n",
       "      <td>-1.000000e+01</td>\n",
       "      <td>6.500000e+01</td>\n",
       "      <td>3546.000000</td>\n",
       "      <td>4507.000000</td>\n",
       "      <td>-1.042000e+03</td>\n",
       "      <td>685.000000</td>\n",
       "      <td>49035.000000</td>\n",
       "    </tr>\n",
       "    <tr>\n",
       "      <th>25%</th>\n",
       "      <td>4.356751e+08</td>\n",
       "      <td>1.261999e+08</td>\n",
       "      <td>2.239670e+08</td>\n",
       "      <td>1770.000000</td>\n",
       "      <td>-4.570000e+02</td>\n",
       "      <td>45.000000</td>\n",
       "      <td>55.000000</td>\n",
       "      <td>155.000000</td>\n",
       "      <td>1.000000</td>\n",
       "      <td>0.00000</td>\n",
       "      <td>...</td>\n",
       "      <td>2.481500e+03</td>\n",
       "      <td>0.000000e+00</td>\n",
       "      <td>7.970000e+03</td>\n",
       "      <td>1.198000e+03</td>\n",
       "      <td>1.714500e+03</td>\n",
       "      <td>8497.500000</td>\n",
       "      <td>7760.250000</td>\n",
       "      <td>2.660500e+03</td>\n",
       "      <td>4260.000000</td>\n",
       "      <td>131777.000000</td>\n",
       "    </tr>\n",
       "    <tr>\n",
       "      <th>50%</th>\n",
       "      <td>4.512216e+08</td>\n",
       "      <td>1.502011e+08</td>\n",
       "      <td>2.401361e+08</td>\n",
       "      <td>6919.000000</td>\n",
       "      <td>1.055000e+03</td>\n",
       "      <td>55.000000</td>\n",
       "      <td>61.000000</td>\n",
       "      <td>162.000000</td>\n",
       "      <td>2.000000</td>\n",
       "      <td>0.00000</td>\n",
       "      <td>...</td>\n",
       "      <td>3.842000e+03</td>\n",
       "      <td>2.490000e+02</td>\n",
       "      <td>1.160150e+04</td>\n",
       "      <td>2.566000e+03</td>\n",
       "      <td>3.234000e+03</td>\n",
       "      <td>10212.000000</td>\n",
       "      <td>9494.500000</td>\n",
       "      <td>3.982000e+03</td>\n",
       "      <td>5981.000000</td>\n",
       "      <td>712186.000000</td>\n",
       "    </tr>\n",
       "    <tr>\n",
       "      <th>75%</th>\n",
       "      <td>4.695504e+08</td>\n",
       "      <td>1.719079e+08</td>\n",
       "      <td>2.700099e+08</td>\n",
       "      <td>17369.000000</td>\n",
       "      <td>4.348750e+03</td>\n",
       "      <td>65.000000</td>\n",
       "      <td>70.000000</td>\n",
       "      <td>170.000000</td>\n",
       "      <td>2.000000</td>\n",
       "      <td>0.00000</td>\n",
       "      <td>...</td>\n",
       "      <td>7.367000e+03</td>\n",
       "      <td>9.292500e+02</td>\n",
       "      <td>3.879125e+04</td>\n",
       "      <td>1.083700e+04</td>\n",
       "      <td>7.264000e+03</td>\n",
       "      <td>17059.250000</td>\n",
       "      <td>12314.000000</td>\n",
       "      <td>1.991475e+05</td>\n",
       "      <td>39398.000000</td>\n",
       "      <td>712350.000000</td>\n",
       "    </tr>\n",
       "    <tr>\n",
       "      <th>max</th>\n",
       "      <td>4.997001e+08</td>\n",
       "      <td>1.985882e+08</td>\n",
       "      <td>2.989555e+08</td>\n",
       "      <td>30367.000000</td>\n",
       "      <td>4.868910e+06</td>\n",
       "      <td>82.000000</td>\n",
       "      <td>108.000000</td>\n",
       "      <td>190.000000</td>\n",
       "      <td>4.000000</td>\n",
       "      <td>1.00000</td>\n",
       "      <td>...</td>\n",
       "      <td>5.185165e+06</td>\n",
       "      <td>4.958354e+06</td>\n",
       "      <td>5.378395e+06</td>\n",
       "      <td>5.100446e+06</td>\n",
       "      <td>5.136067e+06</td>\n",
       "      <td>193137.000000</td>\n",
       "      <td>193287.000000</td>\n",
       "      <td>1.069026e+06</td>\n",
       "      <td>706394.000000</td>\n",
       "      <td>712572.000000</td>\n",
       "    </tr>\n",
       "  </tbody>\n",
       "</table>\n",
       "<p>8 rows × 23 columns</p>\n",
       "</div>"
      ],
      "text/plain": [
       "              op_id    subject_id       hadm_id       case_id        opdate  \\\n",
       "count  5.000000e+03  5.000000e+03  5.000000e+03    813.000000  5.000000e+03   \n",
       "mean   4.522082e+08  1.489548e+08  2.463808e+08   3946.057811  1.869716e+05   \n",
       "std    2.535777e+07  2.803146e+07  2.791218e+07  18144.913372  5.965462e+05   \n",
       "min    4.007420e+08  1.000008e+08  2.000009e+08 -31984.000000 -1.440000e+03   \n",
       "25%    4.356751e+08  1.261999e+08  2.239670e+08   1770.000000 -4.570000e+02   \n",
       "50%    4.512216e+08  1.502011e+08  2.401361e+08   6919.000000  1.055000e+03   \n",
       "75%    4.695504e+08  1.719079e+08  2.700099e+08  17369.000000  4.348750e+03   \n",
       "max    4.997001e+08  1.985882e+08  2.989555e+08  30367.000000  4.868910e+06   \n",
       "\n",
       "               age       weight       height          asa        emop  ...  \\\n",
       "count  5000.000000  4957.000000  4995.000000  4923.000000  5000.00000  ...   \n",
       "mean     54.154600    62.392576   162.340541     1.739996     0.14560  ...   \n",
       "std      16.036862    10.911598     9.800613     0.648694     0.35274  ...   \n",
       "min      20.000000    36.000000   133.000000     1.000000     0.00000  ...   \n",
       "25%      45.000000    55.000000   155.000000     1.000000     0.00000  ...   \n",
       "50%      55.000000    61.000000   162.000000     2.000000     0.00000  ...   \n",
       "75%      65.000000    70.000000   170.000000     2.000000     0.00000  ...   \n",
       "max      82.000000   108.000000   190.000000     4.000000     1.00000  ...   \n",
       "\n",
       "         opend_time  admission_time  discharge_time  anstart_time  \\\n",
       "count  4.999000e+03    5.000000e+03    5.000000e+03  4.997000e+03   \n",
       "mean   2.249903e+05    2.313486e+05    2.627719e+05  2.031566e+05   \n",
       "std    6.690647e+05    6.658349e+05    7.156208e+05  6.176323e+05   \n",
       "min    5.500000e+01    0.000000e+00    1.435000e+03 -1.000000e+01   \n",
       "25%    2.481500e+03    0.000000e+00    7.970000e+03  1.198000e+03   \n",
       "50%    3.842000e+03    2.490000e+02    1.160150e+04  2.566000e+03   \n",
       "75%    7.367000e+03    9.292500e+02    3.879125e+04  1.083700e+04   \n",
       "max    5.185165e+06    4.958354e+06    5.378395e+06  5.100446e+06   \n",
       "\n",
       "         anend_time     cpbon_time    cpboff_time    icuin_time  \\\n",
       "count  4.983000e+03      54.000000      44.000000  5.670000e+02   \n",
       "mean   2.023749e+05   50610.759259   22353.500000  1.275845e+05   \n",
       "std    6.213492e+05   76864.788966   46854.534093  2.493789e+05   \n",
       "min    6.500000e+01    3546.000000    4507.000000 -1.042000e+03   \n",
       "25%    1.714500e+03    8497.500000    7760.250000  2.660500e+03   \n",
       "50%    3.234000e+03   10212.000000    9494.500000  3.982000e+03   \n",
       "75%    7.264000e+03   17059.250000   12314.000000  1.991475e+05   \n",
       "max    5.136067e+06  193137.000000  193287.000000  1.069026e+06   \n",
       "\n",
       "         icuout_time  inhosp_death_time  \n",
       "count     539.000000          25.000000  \n",
       "mean    87463.265306      486420.120000  \n",
       "std    162647.862306      308390.170714  \n",
       "min       685.000000       49035.000000  \n",
       "25%      4260.000000      131777.000000  \n",
       "50%      5981.000000      712186.000000  \n",
       "75%     39398.000000      712350.000000  \n",
       "max    706394.000000      712572.000000  \n",
       "\n",
       "[8 rows x 23 columns]"
      ]
     },
     "execution_count": 7,
     "metadata": {},
     "output_type": "execute_result"
    }
   ],
   "source": [
    "df_operations.describe()"
   ]
  },
  {
   "cell_type": "markdown",
   "metadata": {},
   "source": [
    "Op id"
   ]
  },
  {
   "cell_type": "markdown",
   "metadata": {},
   "source": [
    "Each admission and operation were randomly assigned with unique numbers (hadm_id and op_id, respectively)."
   ]
  },
  {
   "cell_type": "code",
   "execution_count": 8,
   "metadata": {},
   "outputs": [
    {
     "name": "stdout",
     "output_type": "stream",
     "text": [
      "5000\n"
     ]
    }
   ],
   "source": [
    "unique_subject_ids = df_operations['op_id'].nunique()\n",
    "print(unique_subject_ids)"
   ]
  },
  {
   "cell_type": "code",
   "execution_count": 9,
   "metadata": {},
   "outputs": [
    {
     "name": "stdout",
     "output_type": "stream",
     "text": [
      "[447893992 413222004 438958134 465915250 414769195 437044455 455034946\n",
      " 456188098 466142374 416514841 431721758 427355264 449673740 495900417\n",
      " 449322676 441117320 475874727 474787883 476630882 458023766 468344749\n",
      " 436297814 448816542 445064085 446424556 438374808 448057226 497051118\n",
      " 476639017 428032895]\n"
     ]
    }
   ],
   "source": [
    "unique_icd10_pcs_values = df_operations['op_id'].unique()\n",
    "print(unique_icd10_pcs_values[:30])"
   ]
  },
  {
   "cell_type": "markdown",
   "metadata": {},
   "source": [
    "Subject id"
   ]
  },
  {
   "cell_type": "markdown",
   "metadata": {},
   "source": [
    "Each table can be connected using subject_id. A subject_id may be matched to one or more hadm_ids. A single hadm_id may be matched with one or more op_ids. \n",
    "We did not extract these variables except for the medical record number, which was subsequently substituted with unique random integers as the subject id (described as subject_id). Each admission and operation were randomly assigned with unique numbers (hadm_id and op_id, respectively). To allow identifiers to be easily distinguished, subject_id begin with “1”, hadm_id begin with “2”, and and op_id, respectively begin with “4”."
   ]
  },
  {
   "cell_type": "code",
   "execution_count": 10,
   "metadata": {},
   "outputs": [
    {
     "name": "stdout",
     "output_type": "stream",
     "text": [
      "4998\n"
     ]
    }
   ],
   "source": [
    "unique_subject_ids = df_operations['subject_id'].nunique()\n",
    "print(unique_subject_ids)"
   ]
  },
  {
   "cell_type": "code",
   "execution_count": 11,
   "metadata": {},
   "outputs": [
    {
     "name": "stdout",
     "output_type": "stream",
     "text": [
      "[147111913 143088952 129805443 171722058 102580460 145739438 161155338\n",
      " 151014117 152497007 172234516 110395289 112613171 174695688 101726611\n",
      " 148204368 120920393 172645535 161704798 194241122 173328259 103551079\n",
      " 180388377 147765754 130476061 101594386 167940870 109071037 165949853\n",
      " 109895005 118509191]\n"
     ]
    }
   ],
   "source": [
    "unique_subject_id = df_operations['subject_id'].unique()\n",
    "print(unique_subject_id[:30])"
   ]
  },
  {
   "cell_type": "code",
   "execution_count": 12,
   "metadata": {},
   "outputs": [
    {
     "name": "stdout",
     "output_type": "stream",
     "text": [
      "subject_id\n",
      "100000842    3\n",
      "147111913    1\n",
      "184616565    1\n",
      "109765847    1\n",
      "127930895    1\n",
      "108382346    1\n",
      "171066611    1\n",
      "174207053    1\n",
      "139117909    1\n",
      "170014607    1\n",
      "172083140    1\n",
      "183671099    1\n",
      "146645441    1\n",
      "171018424    1\n",
      "188187062    1\n",
      "173330184    1\n",
      "168727975    1\n",
      "158797970    1\n",
      "186507181    1\n",
      "171648049    1\n",
      "156893744    1\n",
      "173847632    1\n",
      "128860259    1\n",
      "143484374    1\n",
      "138451275    1\n",
      "111525719    1\n",
      "107795285    1\n",
      "130686863    1\n",
      "136416348    1\n",
      "180962647    1\n",
      "Name: count, dtype: int64\n"
     ]
    }
   ],
   "source": [
    "top_10_subject_id = df_operations['subject_id'].value_counts().head(30)\n",
    "print(top_10_subject_id)"
   ]
  },
  {
   "cell_type": "markdown",
   "metadata": {},
   "source": [
    "Hadm_id"
   ]
  },
  {
   "cell_type": "code",
   "execution_count": 13,
   "metadata": {},
   "outputs": [
    {
     "name": "stdout",
     "output_type": "stream",
     "text": [
      "4994\n"
     ]
    }
   ],
   "source": [
    "unique_hadm_id = df_operations['hadm_id'].nunique()\n",
    "print(unique_hadm_id)"
   ]
  },
  {
   "cell_type": "code",
   "execution_count": 14,
   "metadata": {},
   "outputs": [
    {
     "name": "stdout",
     "output_type": "stream",
     "text": [
      "[236365916 269955929 231064166 279385117 289356448 251315786 298358216\n",
      " 285487224 234059809 208376244 235581728 256917965 285303299 264001351\n",
      " 286001389 232457193 219217249 231189625 268176819 287253646 286323507\n",
      " 288551942 200979417 223868510 235123955 234473676 265327541 201430853\n",
      " 221067961 289350145]\n"
     ]
    }
   ],
   "source": [
    "unique_hadm_id = df_operations['hadm_id'].unique()\n",
    "print(unique_hadm_id[:30])"
   ]
  },
  {
   "cell_type": "code",
   "execution_count": 15,
   "metadata": {},
   "outputs": [
    {
     "name": "stdout",
     "output_type": "stream",
     "text": [
      "hadm_id\n",
      "200000866    7\n",
      "236365916    1\n",
      "295014337    1\n",
      "220484933    1\n",
      "249062747    1\n",
      "267480722    1\n",
      "268764141    1\n",
      "265240042    1\n",
      "243828164    1\n",
      "244957208    1\n",
      "216273490    1\n",
      "256731368    1\n",
      "242460496    1\n",
      "235432526    1\n",
      "243184894    1\n",
      "242757598    1\n",
      "208667475    1\n",
      "266793194    1\n",
      "223639078    1\n",
      "201177167    1\n",
      "281378875    1\n",
      "231373852    1\n",
      "268134302    1\n",
      "273894661    1\n",
      "229385970    1\n",
      "263645405    1\n",
      "201252843    1\n",
      "263926343    1\n",
      "211318430    1\n",
      "221576746    1\n",
      "Name: count, dtype: int64\n"
     ]
    }
   ],
   "source": [
    "top_10_hadm_id = df_operations['hadm_id'].value_counts().head(30)\n",
    "print(top_10_hadm_id)"
   ]
  },
  {
   "cell_type": "markdown",
   "metadata": {},
   "source": [
    "ICS-10-PCS"
   ]
  },
  {
   "cell_type": "markdown",
   "metadata": {},
   "source": [
    " Operation names were converted to the first four codes of ICD-10-PCS"
   ]
  },
  {
   "cell_type": "code",
   "execution_count": 16,
   "metadata": {},
   "outputs": [
    {
     "name": "stdout",
     "output_type": "stream",
     "text": [
      "685\n"
     ]
    }
   ],
   "source": [
    "unique_subject_ids = df_operations['icd10_pcs'].nunique()\n",
    "print(unique_subject_ids)"
   ]
  },
  {
   "cell_type": "code",
   "execution_count": 17,
   "metadata": {},
   "outputs": [
    {
     "name": "stdout",
     "output_type": "stream",
     "text": [
      "['0WBN4' '0DB50' '0DT54' '0TBB4' '03120' '09QM0' '0D1K0' '0H0T0' '0TT00'\n",
      " '0TB14' '0PB30' '0YQ60' '0NSN0' '09B00' '0UTGF' '0HD0X' '0GTK4' '0PH00'\n",
      " '0H003' '0UBD0' '0BBK4' '0VT00' '0J760' '07B50' '0SRC0' '0JQC0' '0WQN0'\n",
      " '0SGH0' '0RB30' '08923']\n"
     ]
    }
   ],
   "source": [
    "unique_icd10_pcs_values = df_operations['icd10_pcs'].unique()\n",
    "print(unique_icd10_pcs_values[:30])"
   ]
  },
  {
   "cell_type": "code",
   "execution_count": 18,
   "metadata": {},
   "outputs": [
    {
     "name": "stdout",
     "output_type": "stream",
     "text": [
      "icd10_pcs\n",
      "08DJ3    140\n",
      "0HBT0    135\n",
      "0GTK0    126\n",
      "0WJG0     82\n",
      "09QM0     80\n",
      "0HBU0     72\n",
      "0DB60     69\n",
      "0VB04     67\n",
      "0TBB4     63\n",
      "0TB10     61\n",
      "09Q70     59\n",
      "0PB30     59\n",
      "0TT00     56\n",
      "10D00     55\n",
      "0HD0X     55\n",
      "0RHP0     52\n",
      "0H0T0     50\n",
      "0PB00     49\n",
      "0TT10     46\n",
      "0FT44     45\n",
      "0FB00     44\n",
      "0X6L0     43\n",
      "0SBD0     41\n",
      "09B00     37\n",
      "00B00     36\n",
      "0VT00     35\n",
      "08R43     34\n",
      "0BTC4     32\n",
      "0DTF0     32\n",
      "06BY0     32\n",
      "Name: count, dtype: int64\n"
     ]
    }
   ],
   "source": [
    "top_10_icd10_pcs = df_operations['icd10_pcs'].value_counts().head(30)\n",
    "print(top_10_icd10_pcs)\n"
   ]
  },
  {
   "cell_type": "code",
   "execution_count": 19,
   "metadata": {},
   "outputs": [
    {
     "name": "stderr",
     "output_type": "stream",
     "text": [
      "C:\\Users\\20181588\\AppData\\Local\\Temp\\ipykernel_25048\\2299865560.py:6: FutureWarning: \n",
      "\n",
      "Passing `palette` without assigning `hue` is deprecated and will be removed in v0.14.0. Assign the `x` variable to `hue` and set `legend=False` for the same effect.\n",
      "\n",
      "  sns.barplot(x=top_10_icd10_pcs.index, y=top_10_icd10_pcs.values, palette=\"viridis\")\n"
     ]
    },
    {
     "data": {
      "image/png": "[encoded data removed]",
      "text/plain": [
       "<Figure size 1200x800 with 1 Axes>"
      ]
     },
     "metadata": {},
     "output_type": "display_data"
    }
   ],
   "source": [
    "import matplotlib.pyplot as plt\n",
    "import seaborn as sns\n",
    "\n",
    "# Plotting the top 10 ICD-10-PCS codes\n",
    "plt.figure(figsize=(12, 8))\n",
    "sns.barplot(x=top_10_icd10_pcs.index, y=top_10_icd10_pcs.values, palette=\"viridis\")\n",
    "plt.xticks(rotation=45)\n",
    "plt.title(\"International Classification of Diseases, 10th revision, Clinical Modification (ICD-10-CM) Codes\")\n",
    "plt.ylabel(\"Number of Occurrences\")\n",
    "plt.xlabel(\"ICD-10-PCS Code\")\n",
    "plt.show()"
   ]
  },
  {
   "cell_type": "markdown",
   "metadata": {},
   "source": [
    "Department"
   ]
  },
  {
   "cell_type": "code",
   "execution_count": 20,
   "metadata": {},
   "outputs": [
    {
     "name": "stdout",
     "output_type": "stream",
     "text": [
      "11\n"
     ]
    }
   ],
   "source": [
    "unique_department = df_operations['department'].nunique()\n",
    "print(unique_department)"
   ]
  },
  {
   "cell_type": "code",
   "execution_count": 21,
   "metadata": {},
   "outputs": [
    {
     "name": "stdout",
     "output_type": "stream",
     "text": [
      "['OS' 'OT' 'GS' 'OL' 'UR' 'NS' 'CTS' 'OG' 'PS' 'RAD' 'IM']\n"
     ]
    }
   ],
   "source": [
    "unique_department = df_operations['department'].unique()\n",
    "print(unique_department[:16])"
   ]
  },
  {
   "cell_type": "code",
   "execution_count": 22,
   "metadata": {},
   "outputs": [
    {
     "name": "stdout",
     "output_type": "stream",
     "text": [
      "department\n",
      "GS     1560\n",
      "OS      828\n",
      "OT      608\n",
      "OL      446\n",
      "OG      425\n",
      "NS      392\n",
      "UR      388\n",
      "CTS     207\n",
      "PS      133\n",
      "RAD       8\n",
      "IM        5\n",
      "Name: count, dtype: int64\n"
     ]
    }
   ],
   "source": [
    "top_10_department  = df_operations['department'].value_counts().head(16)\n",
    "print(top_10_department )"
   ]
  },
  {
   "cell_type": "markdown",
   "metadata": {},
   "source": [
    "OG: Obstetrics and Gynecology\n",
    "GS: General Surgery\n",
    "OS: Orthopedic Surgery\n",
    "OT: Occupational Therapy (though in a department context, this might mean something else)\n",
    "CTS: Cardiothoracic Surgery\n",
    "UR: Urology\n",
    "OL: Otolaryngology (Ear, Nose, and Throat or ENT)\n",
    "NS: Neurosurgery or Neurological Surgery\n",
    "PS: Plastic Surgery\n",
    "EM: Emergency Medicine\n",
    "AN: Anesthesiology\n",
    "RO: Radiation Oncology\n",
    "IM: Internal Medicine\n",
    "PED: Pediatrics\n",
    "DM:  Dhermathology\n",
    "RAD: Radiology"
   ]
  },
  {
   "cell_type": "markdown",
   "metadata": {},
   "source": [
    "Anaesthesia type"
   ]
  },
  {
   "cell_type": "code",
   "execution_count": 23,
   "metadata": {},
   "outputs": [
    {
     "name": "stdout",
     "output_type": "stream",
     "text": [
      "4\n"
     ]
    }
   ],
   "source": [
    "unique_antype = df_operations['antype'].nunique()\n",
    "print(unique_antype)"
   ]
  },
  {
   "cell_type": "code",
   "execution_count": 24,
   "metadata": {},
   "outputs": [
    {
     "name": "stdout",
     "output_type": "stream",
     "text": [
      "['General' 'MAC' 'Neuraxial' 'Regional']\n"
     ]
    }
   ],
   "source": [
    "unique_antype = df_operations['antype'].unique()\n",
    "print(unique_antype[:4])"
   ]
  },
  {
   "cell_type": "code",
   "execution_count": 25,
   "metadata": {},
   "outputs": [
    {
     "name": "stdout",
     "output_type": "stream",
     "text": [
      "antype\n",
      "General      4187\n",
      "MAC           462\n",
      "Neuraxial     348\n",
      "Regional        3\n",
      "Name: count, dtype: int64\n"
     ]
    }
   ],
   "source": [
    "top_10_antype= df_operations['antype'].value_counts().head(4)\n",
    "print(top_10_antype)"
   ]
  },
  {
   "cell_type": "markdown",
   "metadata": {},
   "source": [
    "Duration of stay time is dischage time (all tines are shown in minutes)"
   ]
  },
  {
   "cell_type": "code",
   "execution_count": 26,
   "metadata": {},
   "outputs": [
    {
     "name": "stdout",
     "output_type": "stream",
     "text": [
      "0           0\n",
      "1         681\n",
      "2     2231764\n",
      "3         153\n",
      "4           0\n",
      "5           0\n",
      "6        1340\n",
      "7         442\n",
      "8     1145400\n",
      "9         445\n",
      "10      38880\n",
      "11      30459\n",
      "12          0\n",
      "13         12\n",
      "14          0\n",
      "Name: admission_time, dtype: int64\n"
     ]
    }
   ],
   "source": [
    "print(df_operations['admission_time'] [:15])"
   ]
  },
  {
   "cell_type": "code",
   "execution_count": 27,
   "metadata": {},
   "outputs": [
    {
     "name": "stdout",
     "output_type": "stream",
     "text": [
      "0       14269\n",
      "1     1405183\n",
      "2     2990006\n",
      "3       12221\n",
      "4        8841\n",
      "5      128520\n",
      "6        6821\n",
      "7        7854\n",
      "8      324633\n",
      "9       11280\n",
      "10      50430\n",
      "11      37566\n",
      "12       1435\n",
      "13      14106\n",
      "14       8544\n",
      "Name: discharge_time, dtype: int64\n"
     ]
    }
   ],
   "source": [
    "print(df_operations['discharge_time'] [:15])"
   ]
  },
  {
   "cell_type": "markdown",
   "metadata": {},
   "source": [
    "Duration of anesthesia"
   ]
  },
  {
   "cell_type": "code",
   "execution_count": 28,
   "metadata": {},
   "outputs": [
    {
     "name": "stdout",
     "output_type": "stream",
     "text": [
      "0        2198.0\n",
      "1          76.0\n",
      "2     1349676.0\n",
      "3        1282.0\n",
      "4        1340.0\n",
      "5      100412.0\n",
      "6        3093.0\n",
      "7         -10.0\n",
      "8       16345.0\n",
      "9        2986.0\n",
      "10      51535.0\n",
      "11      34789.0\n",
      "12       1473.0\n",
      "13        786.0\n",
      "14       2872.0\n",
      "Name: anstart_time, dtype: float64\n"
     ]
    }
   ],
   "source": [
    "print(df_operations['anstart_time'] [:15])"
   ]
  },
  {
   "cell_type": "code",
   "execution_count": 29,
   "metadata": {},
   "outputs": [
    {
     "name": "stdout",
     "output_type": "stream",
     "text": [
      "0        3146.0\n",
      "1     1728838.0\n",
      "2     1810647.0\n",
      "3        3795.0\n",
      "4        2269.0\n",
      "5      140139.0\n",
      "6        3458.0\n",
      "7          65.0\n",
      "8      756687.0\n",
      "9        2560.0\n",
      "10      61695.0\n",
      "11      43983.0\n",
      "12        101.0\n",
      "13       2637.0\n",
      "14       3208.0\n",
      "Name: anend_time, dtype: float64\n"
     ]
    }
   ],
   "source": [
    "print(df_operations['anend_time'] [:15])"
   ]
  },
  {
   "cell_type": "code",
   "execution_count": 30,
   "metadata": {},
   "outputs": [
    {
     "name": "stdout",
     "output_type": "stream",
     "text": [
      "0         948.0\n",
      "1     1728762.0\n",
      "2      460971.0\n",
      "3        2513.0\n",
      "4         929.0\n",
      "5       39727.0\n",
      "6         365.0\n",
      "7          75.0\n",
      "8      740342.0\n",
      "9        -426.0\n",
      "10      10160.0\n",
      "11       9194.0\n",
      "12      -1372.0\n",
      "13       1851.0\n",
      "14        336.0\n",
      "Name: an_duration, dtype: float64\n"
     ]
    }
   ],
   "source": [
    "df_operations['an_duration'] = df_operations['anend_time'] - df_operations['anstart_time']\n",
    "print(df_operations['an_duration'] [:15])"
   ]
  },
  {
   "cell_type": "code",
   "execution_count": 31,
   "metadata": {},
   "outputs": [
    {
     "data": {
      "text/plain": [
       "Index(['op_id', 'subject_id', 'hadm_id', 'case_id', 'opdate', 'age', 'sex',\n",
       "       'weight', 'height', 'race', 'asa', 'emop', 'department', 'antype',\n",
       "       'icd10_pcs', 'orin_time', 'orout_time', 'opstart_time', 'opend_time',\n",
       "       'admission_time', 'discharge_time', 'anstart_time', 'anend_time',\n",
       "       'cpbon_time', 'cpboff_time', 'icuin_time', 'icuout_time',\n",
       "       'inhosp_death_time', 'an_duration'],\n",
       "      dtype='object')"
      ]
     },
     "execution_count": 31,
     "metadata": {},
     "output_type": "execute_result"
    }
   ],
   "source": [
    "df_operations.columns"
   ]
  },
  {
   "cell_type": "markdown",
   "metadata": {},
   "source": [
    "Duration of operation"
   ]
  },
  {
   "cell_type": "code",
   "execution_count": 32,
   "metadata": {},
   "outputs": [
    {
     "name": "stdout",
     "output_type": "stream",
     "text": [
      "0        1646.0\n",
      "1     1067240.0\n",
      "2     2214716.0\n",
      "3        3612.0\n",
      "4        1206.0\n",
      "5       95945.0\n",
      "6        3006.0\n",
      "7          83.0\n",
      "8           0.0\n",
      "9        2206.0\n",
      "10      59129.0\n",
      "11      34254.0\n",
      "12          0.0\n",
      "13       1757.0\n",
      "14       2927.0\n",
      "Name: opstart_time, dtype: float64\n"
     ]
    }
   ],
   "source": [
    "print(df_operations['opstart_time'] [:15])"
   ]
  },
  {
   "cell_type": "code",
   "execution_count": 33,
   "metadata": {},
   "outputs": [
    {
     "name": "stdout",
     "output_type": "stream",
     "text": [
      "0        3415.0\n",
      "1         565.0\n",
      "2     3576500.0\n",
      "3        4864.0\n",
      "4        2757.0\n",
      "5       96501.0\n",
      "6        5132.0\n",
      "7        1347.0\n",
      "8      304421.0\n",
      "9        3656.0\n",
      "10      67427.0\n",
      "11      49310.0\n",
      "12       2028.0\n",
      "13       3645.0\n",
      "14       2826.0\n",
      "Name: opend_time, dtype: float64\n"
     ]
    }
   ],
   "source": [
    "print(df_operations['opend_time'] [:15])"
   ]
  },
  {
   "cell_type": "code",
   "execution_count": 34,
   "metadata": {},
   "outputs": [
    {
     "name": "stdout",
     "output_type": "stream",
     "text": [
      "0        1769.0\n",
      "1    -1066675.0\n",
      "2     1361784.0\n",
      "3        1252.0\n",
      "4        1551.0\n",
      "5         556.0\n",
      "6        2126.0\n",
      "7        1264.0\n",
      "8      304421.0\n",
      "9        1450.0\n",
      "10       8298.0\n",
      "11      15056.0\n",
      "12       2028.0\n",
      "13       1888.0\n",
      "14       -101.0\n",
      "Name: op_duration, dtype: float64\n"
     ]
    }
   ],
   "source": [
    "df_operations['op_duration'] = df_operations['opend_time'] - df_operations['opstart_time']\n",
    "print(df_operations['op_duration'] [:15])"
   ]
  },
  {
   "cell_type": "code",
   "execution_count": 35,
   "metadata": {},
   "outputs": [
    {
     "name": "stdout",
     "output_type": "stream",
     "text": [
      "[ 1.769000e+03 -1.066675e+06  1.361784e+06 ... -6.750000e+02 -2.346100e+05\n",
      "  1.572000e+03]\n"
     ]
    }
   ],
   "source": [
    "unique_op_time = df_operations['op_duration'].unique()\n",
    "print(unique_op_time)"
   ]
  },
  {
   "cell_type": "code",
   "execution_count": 36,
   "metadata": {},
   "outputs": [
    {
     "name": "stdout",
     "output_type": "stream",
     "text": [
      "op_duration\n",
      "55.0      62\n",
      "416.0      8\n",
      "1041.0     6\n",
      "1372.0     6\n",
      "1314.0     6\n",
      "815.0      6\n",
      "540.0      6\n",
      "717.0      5\n",
      "658.0      5\n",
      "1108.0     5\n",
      "Name: count, dtype: int64\n"
     ]
    }
   ],
   "source": [
    "top_10_op_time= df_operations['op_duration'].value_counts().head(10)\n",
    "print(top_10_op_time)"
   ]
  },
  {
   "cell_type": "code",
   "execution_count": 37,
   "metadata": {},
   "outputs": [
    {
     "data": {
      "text/plain": [
       "Index(['op_id', 'subject_id', 'hadm_id', 'case_id', 'opdate', 'age', 'sex',\n",
       "       'weight', 'height', 'race', 'asa', 'emop', 'department', 'antype',\n",
       "       'icd10_pcs', 'orin_time', 'orout_time', 'opstart_time', 'opend_time',\n",
       "       'admission_time', 'discharge_time', 'anstart_time', 'anend_time',\n",
       "       'cpbon_time', 'cpboff_time', 'icuin_time', 'icuout_time',\n",
       "       'inhosp_death_time', 'an_duration', 'op_duration'],\n",
       "      dtype='object')"
      ]
     },
     "execution_count": 37,
     "metadata": {},
     "output_type": "execute_result"
    }
   ],
   "source": [
    "df_operations.columns"
   ]
  },
  {
   "cell_type": "markdown",
   "metadata": {},
   "source": [
    "Duration of Cardiopumonary bypass"
   ]
  },
  {
   "cell_type": "code",
   "execution_count": 38,
   "metadata": {},
   "outputs": [
    {
     "name": "stdout",
     "output_type": "stream",
     "text": [
      "0    NaN\n",
      "1    NaN\n",
      "2    NaN\n",
      "3    NaN\n",
      "4    NaN\n",
      "5    NaN\n",
      "6    NaN\n",
      "7    NaN\n",
      "8    NaN\n",
      "9    NaN\n",
      "10   NaN\n",
      "11   NaN\n",
      "12   NaN\n",
      "13   NaN\n",
      "14   NaN\n",
      "Name: cpbon_time, dtype: float64\n"
     ]
    }
   ],
   "source": [
    "print(df_operations['cpbon_time'] [:15])"
   ]
  },
  {
   "cell_type": "code",
   "execution_count": 39,
   "metadata": {},
   "outputs": [
    {
     "name": "stdout",
     "output_type": "stream",
     "text": [
      "[    nan  10500. 192946.   6799.  10160.  10178. 192960.   5989.   7293.\n",
      " 192866.  13932.  11512.  10246.   9934.   9386.  13982.   8661.   9324.\n",
      "   8218.   9137. 192990.  16631.   9808.   5503.  17360. 193085.   8592.\n",
      "  14104. 193035. 192835.   7405.   3546. 193000. 192839.  11075.   8260.\n",
      "   9113.   8553. 192925.   9720.  14877. 193077.   7558. 193137.  13607.\n",
      "  17202.  12842.   9098.   7579.   4666.  11183.   8479.   6066.  12078.\n",
      "   7130.]\n"
     ]
    }
   ],
   "source": [
    "unique_cpbon_time = df_operations['cpbon_time'].unique()\n",
    "print(unique_cpbon_time)"
   ]
  },
  {
   "cell_type": "code",
   "execution_count": 40,
   "metadata": {},
   "outputs": [
    {
     "name": "stdout",
     "output_type": "stream",
     "text": [
      "0    NaN\n",
      "1    NaN\n",
      "2    NaN\n",
      "3    NaN\n",
      "4    NaN\n",
      "5    NaN\n",
      "6    NaN\n",
      "7    NaN\n",
      "8    NaN\n",
      "9    NaN\n",
      "10   NaN\n",
      "11   NaN\n",
      "12   NaN\n",
      "13   NaN\n",
      "14   NaN\n",
      "Name: cpboff_time, dtype: float64\n"
     ]
    }
   ],
   "source": [
    "print(df_operations['cpboff_time'] [:15])"
   ]
  },
  {
   "cell_type": "code",
   "execution_count": 41,
   "metadata": {},
   "outputs": [
    {
     "name": "stdout",
     "output_type": "stream",
     "text": [
      "0    NaN\n",
      "1    NaN\n",
      "2    NaN\n",
      "3    NaN\n",
      "4    NaN\n",
      "5    NaN\n",
      "6    NaN\n",
      "7    NaN\n",
      "8    NaN\n",
      "9    NaN\n",
      "10   NaN\n",
      "11   NaN\n",
      "12   NaN\n",
      "13   NaN\n",
      "14   NaN\n",
      "Name: cpb_duration, dtype: float64\n"
     ]
    }
   ],
   "source": [
    "df_operations['cpb_duration'] = df_operations['cpboff_time'] - df_operations['cpbon_time']\n",
    "print(df_operations['cpb_duration'] [:15])"
   ]
  },
  {
   "cell_type": "code",
   "execution_count": 42,
   "metadata": {},
   "outputs": [
    {
     "name": "stdout",
     "output_type": "stream",
     "text": [
      "[         nan -1.54700e+03 -1.39600e+03  1.06700e+03 -1.84284e+05\n",
      " -1.48200e+03  3.63400e+03  5.15000e+02 -2.79300e+03  1.11700e+03\n",
      "  1.78200e+03  1.27000e+03  8.91000e+02  1.90300e+03  1.21900e+03\n",
      " -1.50200e+03 -1.07400e+03 -2.00600e+03  1.01600e+03 -1.41800e+03\n",
      "  1.61000e+02  7.99000e+02  2.11000e+02  1.36500e+03 -1.86843e+05\n",
      "  8.67000e+02 -1.17400e+03  1.05100e+03 -2.37000e+03 -3.03800e+03\n",
      "  9.62000e+02 -2.01000e+02 -2.83100e+03  7.54000e+02 -2.92000e+03\n",
      "  2.81800e+03  2.00000e+03  5.98000e+02 -1.61000e+03  1.87140e+05\n",
      " -1.28000e+02 -1.94500e+03]\n"
     ]
    }
   ],
   "source": [
    "unique_cpb_time = df_operations['cpb_duration'].unique()\n",
    "print(unique_cpb_time)"
   ]
  },
  {
   "cell_type": "code",
   "execution_count": 43,
   "metadata": {},
   "outputs": [
    {
     "data": {
      "text/plain": [
       "Index(['op_id', 'subject_id', 'hadm_id', 'case_id', 'opdate', 'age', 'sex',\n",
       "       'weight', 'height', 'race', 'asa', 'emop', 'department', 'antype',\n",
       "       'icd10_pcs', 'orin_time', 'orout_time', 'opstart_time', 'opend_time',\n",
       "       'admission_time', 'discharge_time', 'anstart_time', 'anend_time',\n",
       "       'cpbon_time', 'cpboff_time', 'icuin_time', 'icuout_time',\n",
       "       'inhosp_death_time', 'an_duration', 'op_duration', 'cpb_duration'],\n",
       "      dtype='object')"
      ]
     },
     "execution_count": 43,
     "metadata": {},
     "output_type": "execute_result"
    }
   ],
   "source": [
    "df_operations.columns"
   ]
  },
  {
   "cell_type": "markdown",
   "metadata": {},
   "source": [
    "Duration of ICU stay"
   ]
  },
  {
   "cell_type": "code",
   "execution_count": 44,
   "metadata": {},
   "outputs": [
    {
     "name": "stdout",
     "output_type": "stream",
     "text": [
      "0        NaN\n",
      "1        NaN\n",
      "2        NaN\n",
      "3        NaN\n",
      "4        NaN\n",
      "5        NaN\n",
      "6        NaN\n",
      "7        NaN\n",
      "8        NaN\n",
      "9        NaN\n",
      "10       NaN\n",
      "11       NaN\n",
      "12       NaN\n",
      "13    1925.0\n",
      "14       NaN\n",
      "Name: icuin_time, dtype: float64\n"
     ]
    }
   ],
   "source": [
    "print(df_operations['icuin_time'] [:15])"
   ]
  },
  {
   "cell_type": "code",
   "execution_count": 45,
   "metadata": {},
   "outputs": [
    {
     "name": "stdout",
     "output_type": "stream",
     "text": [
      "0        NaN\n",
      "1        NaN\n",
      "2        NaN\n",
      "3        NaN\n",
      "4        NaN\n",
      "5        NaN\n",
      "6        NaN\n",
      "7        NaN\n",
      "8        NaN\n",
      "9        NaN\n",
      "10       NaN\n",
      "11       NaN\n",
      "12       NaN\n",
      "13    4349.0\n",
      "14       NaN\n",
      "Name: icuout_time, dtype: float64\n"
     ]
    }
   ],
   "source": [
    "print(df_operations['icuout_time'] [:15])"
   ]
  },
  {
   "cell_type": "code",
   "execution_count": 46,
   "metadata": {},
   "outputs": [
    {
     "name": "stdout",
     "output_type": "stream",
     "text": [
      "0        NaN\n",
      "1        NaN\n",
      "2        NaN\n",
      "3        NaN\n",
      "4        NaN\n",
      "5        NaN\n",
      "6        NaN\n",
      "7        NaN\n",
      "8        NaN\n",
      "9        NaN\n",
      "10       NaN\n",
      "11       NaN\n",
      "12       NaN\n",
      "13    2424.0\n",
      "14       NaN\n",
      "Name: icu_duration, dtype: float64\n"
     ]
    }
   ],
   "source": [
    "df_operations['icu_duration'] = df_operations['icuout_time'] - df_operations['icuin_time']\n",
    "print(df_operations['icu_duration'] [:15])\n"
   ]
  },
  {
   "cell_type": "code",
   "execution_count": 47,
   "metadata": {},
   "outputs": [
    {
     "name": "stdout",
     "output_type": "stream",
     "text": [
      "[          nan  2.424000e+03  3.328000e+03  3.260000e+02  3.247000e+03\n",
      "  2.526000e+03  2.744300e+04  1.832000e+03  2.049000e+03  6.260000e+02\n",
      "  6.333000e+03  2.824000e+03 -4.860000e+02 -8.000000e+00  2.009000e+03\n",
      "  6.969000e+03  1.222000e+03  4.810000e+02  3.699000e+03  1.680000e+03\n",
      "  1.679000e+03  1.927000e+03  1.735000e+03  3.071000e+03  1.779000e+03\n",
      "  1.406000e+03  4.089000e+03  2.246900e+04 -5.361000e+03  2.492100e+04\n",
      " -7.920600e+04  1.413000e+03 -9.790000e+03 -5.410000e+03 -1.806000e+03\n",
      "  1.781000e+03  1.665000e+03 -1.010215e+06  4.666000e+03  6.190000e+02\n",
      " -7.372450e+05 -1.718810e+05  5.310000e+02 -7.530000e+02 -5.346300e+04\n",
      "  1.697000e+03 -2.800000e+02  3.850000e+02  3.350000e+03  2.106000e+03\n",
      "  7.680000e+02  2.959000e+03 -3.580000e+03 -1.655970e+05  2.110000e+03\n",
      " -3.043320e+05 -3.464070e+05  1.436000e+03  1.932000e+03  2.502000e+03\n",
      "  2.604000e+03  7.720000e+02  1.767300e+04 -2.977000e+03 -1.580000e+02\n",
      "  9.860000e+02  2.442000e+03  2.495200e+04 -4.231600e+05 -1.423000e+03\n",
      " -5.939000e+03 -1.404090e+05  4.540000e+02  1.458000e+03  8.770000e+02\n",
      "  1.305000e+03  2.009520e+05  8.050000e+02  5.130000e+02  1.006000e+03\n",
      "  1.514000e+03  6.990000e+02 -2.056290e+05 -2.526210e+05  6.090000e+02\n",
      "  1.369000e+03  1.490700e+04  1.719180e+05 -1.924240e+05  1.573000e+03\n",
      "  2.793000e+03 -3.634800e+05  6.530000e+02  1.172000e+03  2.300000e+03\n",
      "  4.865000e+03  2.651000e+03  1.940000e+02  1.749000e+03  2.181000e+03\n",
      "  3.566000e+03  5.180000e+02 -8.080140e+05  4.697000e+03  3.783000e+03\n",
      "  2.517000e+03  1.666000e+03  1.493000e+03  2.307000e+03  2.905000e+03\n",
      " -3.494000e+03 -1.466300e+05  9.510000e+02 -1.901000e+03  1.272000e+03\n",
      "  2.020100e+04  7.204000e+03  2.304000e+03  2.527000e+03 -2.395000e+03\n",
      " -2.621740e+05  2.420000e+03 -1.091000e+03  3.021000e+03  2.711000e+03\n",
      "  3.258100e+04 -3.230000e+02  2.800000e+02  4.758610e+05  1.454000e+03\n",
      "  2.279000e+03  2.197000e+03 -2.770000e+02  3.629000e+03 -2.773000e+03\n",
      "  1.119000e+03  9.780000e+02  9.830000e+02  7.595000e+03  1.154000e+03\n",
      "  4.944000e+03 -6.387450e+05  1.445000e+03 -1.029000e+03 -2.032380e+05\n",
      "  6.220000e+02  2.878000e+03  1.778000e+03 -5.753050e+05  1.359000e+03\n",
      "  1.966000e+03  1.704000e+03  1.844000e+03  2.800000e+01  5.410000e+02\n",
      "  1.994000e+03 -1.745130e+05  2.804000e+04  2.037190e+05  2.341000e+03\n",
      "  2.439000e+03  6.960000e+03  2.450000e+03  6.948000e+03  1.891000e+03\n",
      "  2.361000e+03 -4.197000e+03  2.960000e+03  1.418000e+03  6.645000e+03\n",
      " -2.860000e+02 -2.100000e+02  1.225000e+03 -3.515370e+05  3.171000e+03\n",
      "  7.590000e+02  6.779000e+03 -4.863230e+05  2.099000e+03 -2.066500e+05\n",
      "  7.578000e+03  1.144000e+03  1.962000e+03 -7.918000e+03  2.406000e+03\n",
      " -4.520000e+02  2.329000e+03  7.900000e+01  6.768000e+03  1.064000e+03\n",
      "  8.180000e+02  3.480000e+02  3.065000e+03  3.330000e+02  3.963000e+03\n",
      "  2.324000e+03  1.846000e+03 -8.980000e+02 -2.800700e+04  2.132000e+03\n",
      "  5.859210e+05  5.900000e+02  2.436000e+03 -2.860430e+05  1.161000e+03\n",
      "  8.458000e+03 -1.597230e+05  3.418000e+03 -3.290000e+02  3.050000e+03\n",
      "  3.184000e+03  2.610000e+03  2.027310e+05 -2.489150e+05 -2.748080e+05\n",
      " -1.173200e+04  3.969000e+03  1.196000e+03 -2.663290e+05 -1.432080e+05\n",
      "  1.023000e+03  2.126000e+03  6.963000e+03  6.947000e+03  9.930000e+02\n",
      " -4.252000e+03  5.270000e+02  4.352580e+05  9.700000e+02 -6.028240e+05\n",
      "  1.407000e+03  3.746050e+05  5.795000e+03  2.328000e+04  2.025250e+05\n",
      " -1.941530e+05  1.180000e+03 -6.194400e+04  1.980000e+02  3.222000e+03\n",
      " -2.753170e+05  1.934000e+03 -1.074700e+04  2.040160e+05  3.646000e+03\n",
      " -7.800000e+01  1.047000e+03  4.308000e+03 -3.070000e+03  8.920000e+02\n",
      "  1.031000e+03  1.505800e+04  4.739660e+05 -1.910000e+04  1.319000e+03\n",
      "  1.241000e+03 -1.124900e+05  1.944000e+03  3.497000e+03 -3.000000e+01\n",
      "  2.431000e+03  5.560000e+02 -7.854810e+05 -2.550000e+02  1.988000e+03\n",
      "  4.860000e+02  1.329000e+03 -6.593590e+05  3.134000e+03  1.443000e+03\n",
      "  2.070000e+02 -6.180000e+03  4.240000e+03  2.200000e+02  1.584000e+03\n",
      "  3.804000e+03  2.848000e+03  2.053000e+03 -1.945560e+05  3.144000e+03\n",
      "  2.451000e+03 -1.733830e+05  2.205600e+04 -2.407570e+05  1.788800e+04\n",
      " -2.104500e+04  1.818000e+03 -2.477950e+05  1.583000e+03  1.136000e+03\n",
      "  1.400000e+01  2.414000e+03 -1.160160e+05  1.423200e+04  7.420000e+02\n",
      "  1.264000e+03  1.101000e+03  2.222000e+03  2.395000e+03 -8.542000e+03\n",
      "  1.290000e+03 -1.058130e+05 -3.318620e+05  6.859000e+03  2.600000e+02\n",
      "  1.137000e+03 -3.392830e+05  1.071000e+03  1.783000e+03  2.750000e+03\n",
      "  6.909000e+03  2.041500e+04  2.035700e+05  4.130000e+02  1.203000e+03\n",
      "  1.732000e+03  2.090000e+03  2.187000e+03 -1.933870e+05  6.710000e+02\n",
      " -1.942970e+05  1.434000e+03  9.910000e+02 -2.735590e+05 -1.961300e+05\n",
      "  1.611000e+03  2.250000e+03  3.962410e+05  1.936200e+04 -8.350000e+02\n",
      " -2.970000e+02  3.625000e+03  3.384000e+03  2.144000e+03 -3.470000e+02\n",
      "  1.102000e+03  1.620000e+03 -5.357130e+05 -1.377170e+05  1.509000e+03\n",
      "  6.876000e+03  1.138000e+03  5.330000e+02 -6.054400e+04  6.740000e+02\n",
      " -1.277000e+03  1.127000e+03 -3.104800e+04  1.211000e+03  4.329700e+04\n",
      "  1.558000e+03  7.900000e+02  1.279000e+03  7.940000e+02  1.637000e+03\n",
      "  6.010000e+02  4.665000e+03  2.211000e+03  1.096000e+03 -2.253380e+05\n",
      "  3.299000e+03  2.157000e+03  2.820000e+02  2.682000e+03 -5.290000e+03\n",
      "  2.776000e+03  1.000900e+04 -2.049630e+05  3.110000e+03 -1.706740e+05\n",
      "  3.612210e+05 -3.382920e+05  2.920000e+03  2.146000e+03  3.898000e+03\n",
      "  1.835000e+03 -8.414600e+04 -1.412260e+05 -8.908930e+05  1.615000e+03\n",
      "  1.032000e+03 -1.642790e+05  1.110000e+02  3.422400e+04 -2.275680e+05\n",
      "  7.026000e+03  3.630000e+02 -6.000000e+01  3.468000e+03 -5.417810e+05\n",
      "  3.740000e+02  1.315000e+03  3.160000e+03  1.400000e+03 -1.718450e+05\n",
      " -3.475000e+03  1.930000e+03  3.686010e+05 -2.070640e+05  1.470000e+02\n",
      " -1.947520e+05  7.930000e+02 -7.897000e+03  2.124100e+04  2.235000e+03\n",
      " -3.337490e+05 -1.926520e+05  3.571910e+05  2.780000e+03  1.941000e+03\n",
      "  2.028720e+05  1.993000e+03  6.556000e+03  1.310000e+02 -9.000000e+01\n",
      "  1.873000e+03  2.280000e+02 -9.866000e+05 -1.630550e+05 -1.962540e+05\n",
      "  4.390000e+02 -2.762380e+05  1.152000e+03  5.420000e+02  3.328130e+05\n",
      "  2.358000e+03 -1.848170e+05  3.436000e+03  3.709000e+03  2.650000e+03\n",
      " -1.331670e+05  1.936000e+03 -5.486210e+05  1.209000e+03  1.709000e+03\n",
      "  1.920000e+02 -1.932500e+05  1.000000e+02  1.104000e+03  6.857000e+03\n",
      "  7.032000e+03 -9.252430e+05 -8.925820e+05 -3.162710e+05  2.565000e+03\n",
      "  1.514300e+04  5.790000e+02 -1.578780e+05 -1.628950e+05 -2.220000e+02\n",
      "  1.688000e+03  2.128000e+03  5.701000e+03  7.289000e+03  1.917000e+03\n",
      " -2.463960e+05 -1.687340e+05  2.924000e+03 -4.350000e+02  1.837000e+03\n",
      "  2.160900e+04  6.400000e+02  1.995000e+03  4.424000e+03  1.541000e+03\n",
      "  1.189000e+03  3.679000e+04  9.720000e+02  2.417000e+03  2.010000e+02\n",
      "  2.709000e+03  3.380000e+02  4.787000e+03  1.479000e+03  4.360000e+03\n",
      " -3.920000e+03  3.837000e+03 -6.520000e+02 -1.340370e+05  5.400230e+05\n",
      "  3.756000e+03  2.319300e+04]\n"
     ]
    }
   ],
   "source": [
    "unique_icu_time = df_operations['icu_duration'].unique()\n",
    "print(unique_icu_time)"
   ]
  },
  {
   "cell_type": "code",
   "execution_count": 48,
   "metadata": {},
   "outputs": [
    {
     "data": {
      "text/plain": [
       "Index(['op_id', 'subject_id', 'hadm_id', 'case_id', 'opdate', 'age', 'sex',\n",
       "       'weight', 'height', 'race', 'asa', 'emop', 'department', 'antype',\n",
       "       'icd10_pcs', 'orin_time', 'orout_time', 'opstart_time', 'opend_time',\n",
       "       'admission_time', 'discharge_time', 'anstart_time', 'anend_time',\n",
       "       'cpbon_time', 'cpboff_time', 'icuin_time', 'icuout_time',\n",
       "       'inhosp_death_time', 'an_duration', 'op_duration', 'cpb_duration',\n",
       "       'icu_duration'],\n",
       "      dtype='object')"
      ]
     },
     "execution_count": 48,
     "metadata": {},
     "output_type": "execute_result"
    }
   ],
   "source": [
    "df_operations.columns"
   ]
  },
  {
   "cell_type": "markdown",
   "metadata": {},
   "source": [
    "In hospital death"
   ]
  },
  {
   "cell_type": "code",
   "execution_count": 49,
   "metadata": {},
   "outputs": [
    {
     "name": "stdout",
     "output_type": "stream",
     "text": [
      "[    nan 131777. 712225. 712446. 133097. 712351. 712353.  49035.  54256.\n",
      "  71683. 712311. 712177.  54568. 712282.  50606. 712303. 712361. 712186.\n",
      " 712350. 712406. 712140. 156572. 712572. 712149. 712344.  61953.]\n"
     ]
    }
   ],
   "source": [
    "unique_inhosp_death_time = df_operations['inhosp_death_time'].unique()\n",
    "print(unique_inhosp_death_time)"
   ]
  },
  {
   "cell_type": "markdown",
   "metadata": {},
   "source": [
    "Correlation analysis"
   ]
  },
  {
   "cell_type": "markdown",
   "metadata": {},
   "source": [
    "Correlation values range between -1 and 1. A value close to 1 implies a strong positive correlation: as one variable increases, the other also tends to. A value close to -1 implies a strong negative correlation: as one variable increases, the other tends to decrease.\n",
    "This analysis only checks for linear relationships. Non-linear relationships won't be captured well by the correlation coefficient.\n",
    "Correlation does not imply causation. Even if two variables are correlated, it doesn't mean one causes the other."
   ]
  },
  {
   "cell_type": "code",
   "execution_count": 50,
   "metadata": {},
   "outputs": [
    {
     "name": "stdout",
     "output_type": "stream",
     "text": [
      "Correlation of operation duration with age: 0.024943776824717448\n"
     ]
    }
   ],
   "source": [
    "#Find the correlation between operation duration and age\n",
    "\n",
    "correlation_with_age = df_operations['op_duration'].corr(df_operations['age'])\n",
    "print(f\"Correlation of operation duration with age: {correlation_with_age}\")\n"
   ]
  },
  {
   "cell_type": "code",
   "execution_count": 51,
   "metadata": {},
   "outputs": [
    {
     "name": "stdout",
     "output_type": "stream",
     "text": [
      "icd10_pcs\n",
      "08DJ7    2.039688e+06\n",
      "0PP00    1.937252e+06\n",
      "0BBG4    1.422633e+06\n",
      "0DT54    1.361784e+06\n",
      "0T0B0    1.239443e+06\n",
      "             ...     \n",
      "0X6S0   -1.184815e+06\n",
      "0020D   -1.404253e+06\n",
      "07BH0   -1.866510e+06\n",
      "0HS00   -2.404518e+06\n",
      "0N0RX   -2.604233e+06\n",
      "Name: op_duration, Length: 685, dtype: float64\n"
     ]
    }
   ],
   "source": [
    "#'Type of surgery' is likely categorical (represented by the icd10_pcs column). Find the average operation duration for each type of surgery\n",
    "\n",
    "average_duration_per_surgery = df_operations.groupby('icd10_pcs')['op_duration'].mean().sort_values(ascending=False)\n",
    "print(average_duration_per_surgery)"
   ]
  },
  {
   "cell_type": "code",
   "execution_count": 52,
   "metadata": {},
   "outputs": [
    {
     "name": "stdout",
     "output_type": "stream",
     "text": [
      "Correlation of operation duration with post-op ICU admission: -0.008113761292122764\n"
     ]
    }
   ],
   "source": [
    "#Infer post-op ICU admission based on whether icuin_time is non-null. Create a binary column to indicate this and compute its correlation with operation duration.\n",
    "df_operations['icu_admission_postop'] = ~df_operations['icuin_time'].isna()\n",
    "correlation_with_icu_admission = df_operations['op_duration'].corr(df_operations['icu_admission_postop'])\n",
    "print(f\"Correlation of operation duration with post-op ICU admission: {correlation_with_icu_admission}\")\n"
   ]
  },
  {
   "cell_type": "code",
   "execution_count": 53,
   "metadata": {},
   "outputs": [
    {
     "name": "stdout",
     "output_type": "stream",
     "text": [
      "Correlation between duration of stay and deterioration: -0.0002863602910907662\n"
     ]
    }
   ],
   "source": [
    "correlation_duration_deterioration = df_operations['discharge_time'].corr(df_operations['inhosp_death_time'].notnull().astype(int))\n",
    "print(f\"Correlation between duration of stay and deterioration: {correlation_duration_deterioration}\")"
   ]
  },
  {
   "cell_type": "code",
   "execution_count": 54,
   "metadata": {},
   "outputs": [
    {
     "name": "stdout",
     "output_type": "stream",
     "text": [
      "Correlation between ICU duration and deterioration: -0.027225331061133968\n"
     ]
    }
   ],
   "source": [
    "correlation_icu_deterioration = df_operations['icu_duration'].corr(df_operations['inhosp_death_time'].notnull().astype(int))\n",
    "print(f\"Correlation between ICU duration and deterioration: {correlation_icu_deterioration}\")"
   ]
  },
  {
   "cell_type": "code",
   "execution_count": 55,
   "metadata": {},
   "outputs": [
    {
     "name": "stdout",
     "output_type": "stream",
     "text": [
      "Correlation between patient's age and deterioration: 0.04653032860059013\n"
     ]
    }
   ],
   "source": [
    "correlation_age_deterioration = df_operations['age'].corr(df_operations['inhosp_death_time'].notnull().astype(int))\n",
    "print(f\"Correlation between patient's age and deterioration: {correlation_age_deterioration}\")"
   ]
  },
  {
   "cell_type": "code",
   "execution_count": 56,
   "metadata": {},
   "outputs": [
    {
     "name": "stdout",
     "output_type": "stream",
     "text": [
      "Correlation between anesthesia time and deterioration: -0.002558997576903286\n"
     ]
    }
   ],
   "source": [
    "correlation_anesthesia_deterioration = df_operations['an_duration'].corr(df_operations['inhosp_death_time'].notnull().astype(int))\n",
    "print(f\"Correlation between anesthesia time and deterioration: {correlation_anesthesia_deterioration}\")"
   ]
  },
  {
   "cell_type": "code",
   "execution_count": 57,
   "metadata": {},
   "outputs": [
    {
     "name": "stdout",
     "output_type": "stream",
     "text": [
      "department\n",
      "CTS    0.043478\n",
      "NS     0.017857\n",
      "PS     0.007519\n",
      "OL     0.004484\n",
      "UR     0.002577\n",
      "GS     0.001923\n",
      "OT     0.001645\n",
      "OS     0.001208\n",
      "IM     0.000000\n",
      "OG     0.000000\n",
      "RAD    0.000000\n",
      "dtype: float64\n"
     ]
    }
   ],
   "source": [
    "deterioration_by_department = df_operations.groupby('department').apply(lambda x: x['inhosp_death_time'].notnull().mean())\n",
    "print(deterioration_by_department.sort_values(ascending=False))\n"
   ]
  },
  {
   "cell_type": "code",
   "execution_count": 58,
   "metadata": {},
   "outputs": [
    {
     "name": "stdout",
     "output_type": "stream",
     "text": [
      "Correlation between emergency operation and deterioration: 0.059169780763825584\n"
     ]
    }
   ],
   "source": [
    "correlation_emop_deterioration = df_operations['emop'].corr(df_operations['inhosp_death_time'].notnull().astype(int))\n",
    "print(f\"Correlation between emergency operation and deterioration: {correlation_emop_deterioration}\")\n"
   ]
  },
  {
   "cell_type": "code",
   "execution_count": 59,
   "metadata": {},
   "outputs": [
    {
     "name": "stdout",
     "output_type": "stream",
     "text": [
      "Correlation between weight and deterioration: -0.02944682539962461\n",
      "Correlation between height and deterioration: 0.025037461987269468\n"
     ]
    }
   ],
   "source": [
    "correlation_weight_deterioration = df_operations['weight'].corr(df_operations['inhosp_death_time'].notnull().astype(int))\n",
    "correlation_height_deterioration = df_operations['height'].corr(df_operations['inhosp_death_time'].notnull().astype(int))\n",
    "print(f\"Correlation between weight and deterioration: {correlation_weight_deterioration}\")\n",
    "print(f\"Correlation between height and deterioration: {correlation_height_deterioration}\")\n"
   ]
  },
  {
   "cell_type": "code",
   "execution_count": 60,
   "metadata": {},
   "outputs": [
    {
     "name": "stdout",
     "output_type": "stream",
     "text": [
      "sex\n",
      "F    0.003188\n",
      "M    0.008052\n",
      "dtype: float64\n",
      "race\n",
      "Asian    0.005\n",
      "dtype: float64\n"
     ]
    }
   ],
   "source": [
    "# For categorical variables like sex and race, you might want to use groupby and calculate deterioration rates for each group\n",
    "sex_deterioration_rate = df_operations.groupby('sex').apply(lambda x: x['inhosp_death_time'].notnull().mean())\n",
    "race_deterioration_rate = df_operations.groupby('race').apply(lambda x: x['inhosp_death_time'].notnull().mean())\n",
    "print(sex_deterioration_rate)\n",
    "print(race_deterioration_rate)\n"
   ]
  },
  {
   "cell_type": "code",
   "execution_count": 61,
   "metadata": {},
   "outputs": [
    {
     "name": "stdout",
     "output_type": "stream",
     "text": [
      "Correlation between ASA score and deterioration: 0.08789388690539376\n"
     ]
    }
   ],
   "source": [
    "correlation_asa_deterioration = df_operations['asa'].corr(df_operations['inhosp_death_time'].notnull().astype(int))\n",
    "print(f\"Correlation between ASA score and deterioration: {correlation_asa_deterioration}\")\n"
   ]
  },
  {
   "cell_type": "code",
   "execution_count": 62,
   "metadata": {},
   "outputs": [
    {
     "name": "stdout",
     "output_type": "stream",
     "text": [
      "icd10_pcs\n",
      "0TSC0    0.500000\n",
      "0DBP0    0.500000\n",
      "0LB00    0.333333\n",
      "0UQG0    0.333333\n",
      "001U0    0.250000\n",
      "0PSC0    0.250000\n",
      "0TB00    0.142857\n",
      "0UT9F    0.125000\n",
      "00BT0    0.111111\n",
      "0PHPX    0.111111\n",
      "0WBC0    0.100000\n",
      "0BTJ4    0.100000\n",
      "081J3    0.083333\n",
      "0W3G0    0.052632\n",
      "0RB30    0.050000\n",
      "0BTK3    0.045455\n",
      "0QHD0    0.040000\n",
      "0RHP0    0.038462\n",
      "0UT94    0.034483\n",
      "0FB00    0.022727\n",
      "0H0T0    0.020000\n",
      "09Q70    0.016949\n",
      "0TBB4    0.015873\n",
      "0HBT0    0.007407\n",
      "0PPC0    0.000000\n",
      "0PS30    0.000000\n",
      "0PHC0    0.000000\n",
      "0QB90    0.000000\n",
      "0QB60    0.000000\n",
      "0Q870    0.000000\n",
      "dtype: float64\n"
     ]
    }
   ],
   "source": [
    "#Certain surgical procedures might have higher risks associated with them.\n",
    "procedure_deterioration_rate = df_operations.groupby('icd10_pcs').apply(lambda x: x['inhosp_death_time'].notnull().mean())\n",
    "print(procedure_deterioration_rate.sort_values(ascending=False).head(30))\n"
   ]
  },
  {
   "cell_type": "code",
   "execution_count": 63,
   "metadata": {},
   "outputs": [
    {
     "name": "stdout",
     "output_type": "stream",
     "text": [
      "Correlation between time to ICU post-operation and deterioration: -0.04531463961766051\n"
     ]
    }
   ],
   "source": [
    "df_operations['time_to_icu_postop'] = df_operations['icuin_time'] - df_operations['opend_time']\n",
    "correlation_time_to_icu_deterioration = df_operations['time_to_icu_postop'].corr(df_operations['inhosp_death_time'].notnull().astype(int))\n",
    "print(f\"Correlation between time to ICU post-operation and deterioration: {correlation_time_to_icu_deterioration}\")\n"
   ]
  },
  {
   "cell_type": "code",
   "execution_count": 64,
   "metadata": {},
   "outputs": [
    {
     "name": "stdout",
     "output_type": "stream",
     "text": [
      "Correlation between ICU stay duration and deterioration: -0.027225331061133968\n"
     ]
    }
   ],
   "source": [
    "\n",
    "correlation_icu_stay_deterioration = df_operations['icu_duration'].corr(df_operations['inhosp_death_time'].notnull().astype(int))\n",
    "print(f\"Correlation between ICU stay duration and deterioration: {correlation_icu_stay_deterioration}\")\n"
   ]
  },
  {
   "cell_type": "code",
   "execution_count": 65,
   "metadata": {},
   "outputs": [
    {
     "name": "stdout",
     "output_type": "stream",
     "text": [
      "department\n",
      "CTS    0.043478\n",
      "NS     0.017857\n",
      "PS     0.007519\n",
      "OL     0.004484\n",
      "UR     0.002577\n",
      "GS     0.001923\n",
      "OT     0.001645\n",
      "OS     0.001208\n",
      "IM     0.000000\n",
      "OG     0.000000\n",
      "RAD    0.000000\n",
      "dtype: float64\n"
     ]
    }
   ],
   "source": [
    "department_deterioration_rate = df_operations.groupby('department').apply(lambda x: x['inhosp_death_time'].notnull().mean())\n",
    "print(department_deterioration_rate.sort_values(ascending=False))\n"
   ]
  },
  {
   "cell_type": "code",
   "execution_count": 66,
   "metadata": {},
   "outputs": [
    {
     "name": "stdout",
     "output_type": "stream",
     "text": [
      "antype\n",
      "General      0.005732\n",
      "MAC          0.002165\n",
      "Neuraxial    0.000000\n",
      "Regional     0.000000\n",
      "dtype: float64\n"
     ]
    }
   ],
   "source": [
    "antype_deterioration_rate = df_operations.groupby('antype').apply(lambda x: x['inhosp_death_time'].notnull().mean())\n",
    "print(antype_deterioration_rate.sort_values(ascending=False))\n"
   ]
  },
  {
   "cell_type": "code",
   "execution_count": 68,
   "metadata": {},
   "outputs": [
    {
     "name": "stdout",
     "output_type": "stream",
     "text": [
      "Operation start time(s) for subject_id 143088952: [1067240.]\n",
      "Operation end time(s) for subject_id 143088952: [565.]\n",
      "No ICU admission time found for subject_id 143088952\n",
      "No ICU discharge time found for subject_id 143088952\n",
      "Discharge time(s) for subject_id 143088952: [681]\n",
      "No hospital death time found for subject_id 143088952\n",
      "Department(s) for subject_id 143088952: ['OT']\n",
      "ICD-10-PCS code(s) for subject_id 143088952: ['0DB50']\n",
      "Anesthesia start time(s) for subject_id 143088952: [76.]\n",
      "Anesthesia end time(s) for subject_id 143088952: [1728838.]\n"
     ]
    }
   ],
   "source": [
    "import pandas as pd\n",
    "\n",
    "# Assuming df is your DataFrame with the INSPIRE dataset\n",
    "# And the function is being passed the dataframe and a subject_id to look for\n",
    "def print_patient_operation_details(df, subject_id):\n",
    "    # Filter the DataFrame for the given subject_id\n",
    "    patient_data = df[df['subject_id'] == subject_id]\n",
    "    \n",
    "    # Extracting the relevant information\n",
    "    operation_begin = patient_data['opstart_time'].dropna()\n",
    "    operation_end = patient_data['opend_time'].dropna()\n",
    "    icu_in = patient_data['icuin_time'].dropna()\n",
    "    icu_out = patient_data['icuout_time'].dropna()\n",
    "    discharge_time = patient_data['admission_time'].dropna() # Verify if 'admission_time' is correct for discharge time\n",
    "    death_time = patient_data['inhosp_death_time'].dropna() # Verify if 'inhosp_death_time' is correct for hospital death time\n",
    "    department_info = patient_data['department'].dropna()\n",
    "    icd10_pcs_codes = patient_data['icd10_pcs'].dropna()\n",
    "    anesthesia_start = patient_data['anstart_time'].dropna() # Assuming 'anestart_time' is the column for anesthesia start time\n",
    "    anesthesia_end = patient_data['anend_time'].dropna() # Assuming 'aneend_time' is the column for anesthesia end time\n",
    "    \n",
    "    # Print the details\n",
    "    if not operation_begin.empty:\n",
    "        print(f\"Operation start time(s) for subject_id {subject_id}: {operation_begin.values}\")\n",
    "    else:\n",
    "        print(f\"No operation start time found for subject_id {subject_id}\")\n",
    "    \n",
    "    if not operation_end.empty:\n",
    "        print(f\"Operation end time(s) for subject_id {subject_id}: {operation_end.values}\")\n",
    "    else:\n",
    "        print(f\"No operation end time found for subject_id {subject_id}\")\n",
    "    \n",
    "    if not icu_in.empty:\n",
    "        print(f\"ICU admission time(s) for subject_id {subject_id}: {icu_in.values}\")\n",
    "    else:\n",
    "        print(f\"No ICU admission time found for subject_id {subject_id}\")\n",
    "    \n",
    "    if not icu_out.empty:\n",
    "        print(f\"ICU discharge time(s) for subject_id {subject_id}: {icu_out.values}\")\n",
    "    else:\n",
    "        print(f\"No ICU discharge time found for subject_id {subject_id}\")\n",
    "    \n",
    "    if not discharge_time.empty:\n",
    "        print(f\"Discharge time(s) for subject_id {subject_id}: {discharge_time.values}\")\n",
    "    else:\n",
    "        print(f\"No discharge time found for subject_id {subject_id}\")\n",
    "    \n",
    "    if not death_time.empty:\n",
    "        print(f\"Hospital death time(s) for subject_id {subject_id}: {death_time.values}\")\n",
    "    else:\n",
    "        print(f\"No hospital death time found for subject_id {subject_id}\")\n",
    "    \n",
    "    if not department_info.empty:\n",
    "        print(f\"Department(s) for subject_id {subject_id}: {department_info.values}\")\n",
    "    else:\n",
    "        print(f\"No department information found for subject_id {subject_id}\")\n",
    "    \n",
    "    if not icd10_pcs_codes.empty:\n",
    "        print(f\"ICD-10-PCS code(s) for subject_id {subject_id}: {icd10_pcs_codes.values}\")\n",
    "    else:\n",
    "        print(f\"No ICD-10-PCS codes found for subject_id {subject_id}\")\n",
    "    \n",
    "    if not anesthesia_start.empty:\n",
    "        print(f\"Anesthesia start time(s) for subject_id {subject_id}: {anesthesia_start.values}\")\n",
    "    else:\n",
    "        print(f\"No anesthesia start time found for subject_id {subject_id}\")\n",
    "    \n",
    "    if not anesthesia_end.empty: \n",
    "        print(f\"Anesthesia end time(s) for subject_id {subject_id}: {anesthesia_end.values}\")\n",
    "    else:\n",
    "        print(f\"No anesthesia end time found for subject_id {subject_id}\")\n",
    "\n",
    "# Example usage:\n",
    "# Replace 'your_dataframe' with the variable name of your actual DataFrame\n",
    "print_patient_operation_details(df=df_operations, subject_id=143088952)\n"
   ]
  },
  {
   "cell_type": "markdown",
   "metadata": {},
   "source": [
    "[147111913 143088952 129805443 171722058 102580460 145739438 161155338\n",
    " 151014117 152497007 172234516 110395289 112613171 174695688 101726611\n",
    " 148204368 120920393 172645535 161704798 194241122 173328259 103551079\n",
    " 180388377 147765754 130476061 101594386 167940870 109071037 165949853\n",
    " 109895005 118509191]"
   ]
  }
 ],
 "metadata": {
  "kernelspec": {
   "display_name": "phd",
   "language": "python",
   "name": "python3"
  },
  "language_info": {
   "codemirror_mode": {
    "name": "ipython",
    "version": 3
   },
   "file_extension": ".py",
   "mimetype": "text/x-python",
   "name": "python",
   "nbconvert_exporter": "python",
   "pygments_lexer": "ipython3",
   "version": "3.11.7"
  }
 },
 "nbformat": 4,
 "nbformat_minor": 2
}
