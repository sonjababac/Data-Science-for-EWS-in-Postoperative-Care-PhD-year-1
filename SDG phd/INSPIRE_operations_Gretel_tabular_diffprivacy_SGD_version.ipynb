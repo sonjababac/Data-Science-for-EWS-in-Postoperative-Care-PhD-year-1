{
 "cells": [
  {
   "cell_type": "markdown",
   "metadata": {},
   "source": [
    "<h1 style=\"font-size:36px;\">Data exploration of synthetic data generated from INSPIRE, a publicly available research dataset for perioperative medicine</h1>\n",
    "\n",
    "<h2 style=\"font-size:20px;\">In this script data exploration and analysis of \"operations_Gretel_tabular_differential-privacy.csv\"  which is essentailly a synthetic version of original \"operations.csv\" from INSPIRE is shown</h2>\n",
    "\n",
    "link to gretel.ai: https://console.gretel.ai/proj_2Z7R2lTw5P0JagOUtSy9W3nVy5S/models/656ef7aeac3ffb4c83838dad/data\n",
    "\n",
    "link to INSPIRE dataset: https://physionet.org/content/inspire/0.1/\n",
    "\n",
    "A full list of the ICD-10-CM codes and the description can be found on the Centers for Disease Control and Prevention (CDC) website \n",
    "https://ftp.cdc.gov/pub/Health_Statistics/NCHS/Publications/ICD10CM/April-1-2023-Update/icd10cm-code%20descriptions-%20April%201%202023.zip."
   ]
  },
  {
   "cell_type": "code",
   "execution_count": 1,
   "metadata": {},
   "outputs": [
    {
     "name": "stdout",
     "output_type": "stream",
     "text": [
      "Libraries Imported\n"
     ]
    }
   ],
   "source": [
    "import numpy as np\n",
    "import pandas as pd\n",
    "import matplotlib.pyplot as plt\n",
    "import seaborn as sns\n",
    "from sklearn import datasets  # Example, importing datasets module\n",
    "import tensorflow as tf\n",
    "import torch\n",
    "import keras\n",
    "import scipy\n",
    "import statsmodels\n",
    "\n",
    "print(\"Libraries Imported\")"
   ]
  },
  {
   "cell_type": "code",
   "execution_count": 2,
   "metadata": {},
   "outputs": [],
   "source": [
    "df_sgd_operations_original = pd.read_csv('C:\\\\Users\\\\20181588\\\\Desktop\\\\data\\\\Gretel_INSPIRE_operations\\\\gretel-tabular-differential-privacy.csv')"
   ]
  },
  {
   "cell_type": "code",
   "execution_count": 3,
   "metadata": {},
   "outputs": [],
   "source": [
    "df_operations = df_sgd_operations_original.copy()"
   ]
  },
  {
   "cell_type": "code",
   "execution_count": 4,
   "metadata": {},
   "outputs": [
    {
     "data": {
      "text/html": [
       "<div>\n",
       "<style scoped>\n",
       "    .dataframe tbody tr th:only-of-type {\n",
       "        vertical-align: middle;\n",
       "    }\n",
       "\n",
       "    .dataframe tbody tr th {\n",
       "        vertical-align: top;\n",
       "    }\n",
       "\n",
       "    .dataframe thead th {\n",
       "        text-align: right;\n",
       "    }\n",
       "</style>\n",
       "<table border=\"1\" class=\"dataframe\">\n",
       "  <thead>\n",
       "    <tr style=\"text-align: right;\">\n",
       "      <th></th>\n",
       "      <th>op_id</th>\n",
       "      <th>subject_id</th>\n",
       "      <th>hadm_id</th>\n",
       "      <th>case_id</th>\n",
       "      <th>opdate</th>\n",
       "      <th>age</th>\n",
       "      <th>sex</th>\n",
       "      <th>weight</th>\n",
       "      <th>height</th>\n",
       "      <th>race</th>\n",
       "      <th>...</th>\n",
       "      <th>opend_time</th>\n",
       "      <th>admission_time</th>\n",
       "      <th>discharge_time</th>\n",
       "      <th>anstart_time</th>\n",
       "      <th>anend_time</th>\n",
       "      <th>cpbon_time</th>\n",
       "      <th>cpboff_time</th>\n",
       "      <th>icuin_time</th>\n",
       "      <th>icuout_time</th>\n",
       "      <th>inhosp_death_time</th>\n",
       "    </tr>\n",
       "  </thead>\n",
       "  <tbody>\n",
       "    <tr>\n",
       "      <th>0</th>\n",
       "      <td>491041638</td>\n",
       "      <td>121054734</td>\n",
       "      <td>240194463</td>\n",
       "      <td>274.284941</td>\n",
       "      <td>1025479</td>\n",
       "      <td>80</td>\n",
       "      <td>M</td>\n",
       "      <td>74.865118</td>\n",
       "      <td>88.523601</td>\n",
       "      <td>Asian</td>\n",
       "      <td>...</td>\n",
       "      <td>1.027943e+06</td>\n",
       "      <td>78618</td>\n",
       "      <td>1530082</td>\n",
       "      <td>2.841679e+06</td>\n",
       "      <td>2.637132e+06</td>\n",
       "      <td>2.577912e+06</td>\n",
       "      <td>2.593028e+06</td>\n",
       "      <td>2.598174e+06</td>\n",
       "      <td>2.594544e+06</td>\n",
       "      <td>2.326923e+06</td>\n",
       "    </tr>\n",
       "    <tr>\n",
       "      <th>1</th>\n",
       "      <td>478465895</td>\n",
       "      <td>198631209</td>\n",
       "      <td>268397753</td>\n",
       "      <td>521.106183</td>\n",
       "      <td>46323</td>\n",
       "      <td>75</td>\n",
       "      <td>F</td>\n",
       "      <td>41.476125</td>\n",
       "      <td>145.015576</td>\n",
       "      <td>Asian</td>\n",
       "      <td>...</td>\n",
       "      <td>2.819608e+04</td>\n",
       "      <td>22823</td>\n",
       "      <td>8972</td>\n",
       "      <td>1.529713e+03</td>\n",
       "      <td>3.466138e+04</td>\n",
       "      <td>2.611480e+06</td>\n",
       "      <td>2.582872e+06</td>\n",
       "      <td>2.605391e+06</td>\n",
       "      <td>2.607593e+06</td>\n",
       "      <td>2.325758e+06</td>\n",
       "    </tr>\n",
       "    <tr>\n",
       "      <th>2</th>\n",
       "      <td>441786873</td>\n",
       "      <td>174969512</td>\n",
       "      <td>290765750</td>\n",
       "      <td>5151.901879</td>\n",
       "      <td>26756</td>\n",
       "      <td>60</td>\n",
       "      <td>F</td>\n",
       "      <td>41.196068</td>\n",
       "      <td>71.962255</td>\n",
       "      <td>Asian</td>\n",
       "      <td>...</td>\n",
       "      <td>1.970609e+04</td>\n",
       "      <td>50604</td>\n",
       "      <td>24979</td>\n",
       "      <td>4.749639e+04</td>\n",
       "      <td>2.000189e+02</td>\n",
       "      <td>2.595778e+06</td>\n",
       "      <td>2.605240e+06</td>\n",
       "      <td>2.583546e+06</td>\n",
       "      <td>2.596706e+06</td>\n",
       "      <td>2.326529e+06</td>\n",
       "    </tr>\n",
       "    <tr>\n",
       "      <th>3</th>\n",
       "      <td>429031729</td>\n",
       "      <td>178985173</td>\n",
       "      <td>243778706</td>\n",
       "      <td>384.031749</td>\n",
       "      <td>24025</td>\n",
       "      <td>40</td>\n",
       "      <td>F</td>\n",
       "      <td>57.462956</td>\n",
       "      <td>158.916569</td>\n",
       "      <td>Asian</td>\n",
       "      <td>...</td>\n",
       "      <td>1.536295e+04</td>\n",
       "      <td>14566</td>\n",
       "      <td>35576</td>\n",
       "      <td>4.470030e+04</td>\n",
       "      <td>1.457811e+04</td>\n",
       "      <td>2.575863e+06</td>\n",
       "      <td>2.610047e+06</td>\n",
       "      <td>2.591386e+06</td>\n",
       "      <td>2.585693e+06</td>\n",
       "      <td>2.323262e+06</td>\n",
       "    </tr>\n",
       "    <tr>\n",
       "      <th>4</th>\n",
       "      <td>497334615</td>\n",
       "      <td>115260075</td>\n",
       "      <td>263160719</td>\n",
       "      <td>298.683006</td>\n",
       "      <td>42487</td>\n",
       "      <td>70</td>\n",
       "      <td>M</td>\n",
       "      <td>76.146153</td>\n",
       "      <td>73.941532</td>\n",
       "      <td>Asian</td>\n",
       "      <td>...</td>\n",
       "      <td>4.582673e+04</td>\n",
       "      <td>12504</td>\n",
       "      <td>52324</td>\n",
       "      <td>3.220559e+03</td>\n",
       "      <td>2.562154e+04</td>\n",
       "      <td>2.605470e+06</td>\n",
       "      <td>2.586330e+06</td>\n",
       "      <td>4.623223e+03</td>\n",
       "      <td>4.725974e+03</td>\n",
       "      <td>2.342781e+06</td>\n",
       "    </tr>\n",
       "  </tbody>\n",
       "</table>\n",
       "<p>5 rows × 28 columns</p>\n",
       "</div>"
      ],
      "text/plain": [
       "       op_id  subject_id    hadm_id      case_id   opdate  age sex     weight  \\\n",
       "0  491041638   121054734  240194463   274.284941  1025479   80   M  74.865118   \n",
       "1  478465895   198631209  268397753   521.106183    46323   75   F  41.476125   \n",
       "2  441786873   174969512  290765750  5151.901879    26756   60   F  41.196068   \n",
       "3  429031729   178985173  243778706   384.031749    24025   40   F  57.462956   \n",
       "4  497334615   115260075  263160719   298.683006    42487   70   M  76.146153   \n",
       "\n",
       "       height   race  ...    opend_time  admission_time discharge_time  \\\n",
       "0   88.523601  Asian  ...  1.027943e+06           78618        1530082   \n",
       "1  145.015576  Asian  ...  2.819608e+04           22823           8972   \n",
       "2   71.962255  Asian  ...  1.970609e+04           50604          24979   \n",
       "3  158.916569  Asian  ...  1.536295e+04           14566          35576   \n",
       "4   73.941532  Asian  ...  4.582673e+04           12504          52324   \n",
       "\n",
       "   anstart_time    anend_time    cpbon_time   cpboff_time    icuin_time  \\\n",
       "0  2.841679e+06  2.637132e+06  2.577912e+06  2.593028e+06  2.598174e+06   \n",
       "1  1.529713e+03  3.466138e+04  2.611480e+06  2.582872e+06  2.605391e+06   \n",
       "2  4.749639e+04  2.000189e+02  2.595778e+06  2.605240e+06  2.583546e+06   \n",
       "3  4.470030e+04  1.457811e+04  2.575863e+06  2.610047e+06  2.591386e+06   \n",
       "4  3.220559e+03  2.562154e+04  2.605470e+06  2.586330e+06  4.623223e+03   \n",
       "\n",
       "    icuout_time  inhosp_death_time  \n",
       "0  2.594544e+06       2.326923e+06  \n",
       "1  2.607593e+06       2.325758e+06  \n",
       "2  2.596706e+06       2.326529e+06  \n",
       "3  2.585693e+06       2.323262e+06  \n",
       "4  4.725974e+03       2.342781e+06  \n",
       "\n",
       "[5 rows x 28 columns]"
      ]
     },
     "execution_count": 4,
     "metadata": {},
     "output_type": "execute_result"
    }
   ],
   "source": [
    "df_operations.head()"
   ]
  },
  {
   "cell_type": "code",
   "execution_count": 68,
   "metadata": {},
   "outputs": [
    {
     "data": {
      "text/html": [
       "<div>\n",
       "<style scoped>\n",
       "    .dataframe tbody tr th:only-of-type {\n",
       "        vertical-align: middle;\n",
       "    }\n",
       "\n",
       "    .dataframe tbody tr th {\n",
       "        vertical-align: top;\n",
       "    }\n",
       "\n",
       "    .dataframe thead th {\n",
       "        text-align: right;\n",
       "    }\n",
       "</style>\n",
       "<table border=\"1\" class=\"dataframe\">\n",
       "  <thead>\n",
       "    <tr style=\"text-align: right;\">\n",
       "      <th></th>\n",
       "      <th>op_id</th>\n",
       "      <th>subject_id</th>\n",
       "      <th>hadm_id</th>\n",
       "      <th>case_id</th>\n",
       "      <th>opdate</th>\n",
       "      <th>age</th>\n",
       "      <th>sex</th>\n",
       "      <th>weight</th>\n",
       "      <th>height</th>\n",
       "      <th>race</th>\n",
       "      <th>...</th>\n",
       "      <th>cpboff_time</th>\n",
       "      <th>icuin_time</th>\n",
       "      <th>icuout_time</th>\n",
       "      <th>inhosp_death_time</th>\n",
       "      <th>an_duration</th>\n",
       "      <th>op_duration</th>\n",
       "      <th>cpb_duration</th>\n",
       "      <th>icu_duration</th>\n",
       "      <th>icu_admission_postop</th>\n",
       "      <th>time_to_icu_postop</th>\n",
       "    </tr>\n",
       "  </thead>\n",
       "  <tbody>\n",
       "    <tr>\n",
       "      <th>0</th>\n",
       "      <td>491041638</td>\n",
       "      <td>121054734</td>\n",
       "      <td>240194463</td>\n",
       "      <td>274.284941</td>\n",
       "      <td>1025479</td>\n",
       "      <td>80</td>\n",
       "      <td>M</td>\n",
       "      <td>74.865118</td>\n",
       "      <td>88.523601</td>\n",
       "      <td>Asian</td>\n",
       "      <td>...</td>\n",
       "      <td>2.593028e+06</td>\n",
       "      <td>2.598174e+06</td>\n",
       "      <td>2.594544e+06</td>\n",
       "      <td>2.326923e+06</td>\n",
       "      <td>-204547.014383</td>\n",
       "      <td>-1.571209e+05</td>\n",
       "      <td>1.511655e+04</td>\n",
       "      <td>-3.630234e+03</td>\n",
       "      <td>True</td>\n",
       "      <td>1.570232e+06</td>\n",
       "    </tr>\n",
       "    <tr>\n",
       "      <th>1</th>\n",
       "      <td>478465895</td>\n",
       "      <td>198631209</td>\n",
       "      <td>268397753</td>\n",
       "      <td>521.106183</td>\n",
       "      <td>46323</td>\n",
       "      <td>75</td>\n",
       "      <td>F</td>\n",
       "      <td>41.476125</td>\n",
       "      <td>145.015576</td>\n",
       "      <td>Asian</td>\n",
       "      <td>...</td>\n",
       "      <td>2.582872e+06</td>\n",
       "      <td>2.605391e+06</td>\n",
       "      <td>2.607593e+06</td>\n",
       "      <td>2.325758e+06</td>\n",
       "      <td>33131.670577</td>\n",
       "      <td>-1.169692e+04</td>\n",
       "      <td>-2.860824e+04</td>\n",
       "      <td>2.201834e+03</td>\n",
       "      <td>True</td>\n",
       "      <td>2.577195e+06</td>\n",
       "    </tr>\n",
       "    <tr>\n",
       "      <th>2</th>\n",
       "      <td>441786873</td>\n",
       "      <td>174969512</td>\n",
       "      <td>290765750</td>\n",
       "      <td>5151.901879</td>\n",
       "      <td>26756</td>\n",
       "      <td>60</td>\n",
       "      <td>F</td>\n",
       "      <td>41.196068</td>\n",
       "      <td>71.962255</td>\n",
       "      <td>Asian</td>\n",
       "      <td>...</td>\n",
       "      <td>2.605240e+06</td>\n",
       "      <td>2.583546e+06</td>\n",
       "      <td>2.596706e+06</td>\n",
       "      <td>2.326529e+06</td>\n",
       "      <td>-47296.367516</td>\n",
       "      <td>-1.453532e+04</td>\n",
       "      <td>9.462251e+03</td>\n",
       "      <td>1.316013e+04</td>\n",
       "      <td>True</td>\n",
       "      <td>2.563840e+06</td>\n",
       "    </tr>\n",
       "    <tr>\n",
       "      <th>3</th>\n",
       "      <td>429031729</td>\n",
       "      <td>178985173</td>\n",
       "      <td>243778706</td>\n",
       "      <td>384.031749</td>\n",
       "      <td>24025</td>\n",
       "      <td>40</td>\n",
       "      <td>F</td>\n",
       "      <td>57.462956</td>\n",
       "      <td>158.916569</td>\n",
       "      <td>Asian</td>\n",
       "      <td>...</td>\n",
       "      <td>2.610047e+06</td>\n",
       "      <td>2.591386e+06</td>\n",
       "      <td>2.585693e+06</td>\n",
       "      <td>2.323262e+06</td>\n",
       "      <td>-30122.192265</td>\n",
       "      <td>-2.099210e+04</td>\n",
       "      <td>3.418380e+04</td>\n",
       "      <td>-5.692642e+03</td>\n",
       "      <td>True</td>\n",
       "      <td>2.576023e+06</td>\n",
       "    </tr>\n",
       "    <tr>\n",
       "      <th>4</th>\n",
       "      <td>497334615</td>\n",
       "      <td>115260075</td>\n",
       "      <td>263160719</td>\n",
       "      <td>298.683006</td>\n",
       "      <td>42487</td>\n",
       "      <td>70</td>\n",
       "      <td>M</td>\n",
       "      <td>76.146153</td>\n",
       "      <td>73.941532</td>\n",
       "      <td>Asian</td>\n",
       "      <td>...</td>\n",
       "      <td>2.586330e+06</td>\n",
       "      <td>4.623223e+03</td>\n",
       "      <td>4.725974e+03</td>\n",
       "      <td>2.342781e+06</td>\n",
       "      <td>22400.977699</td>\n",
       "      <td>9.455218e+03</td>\n",
       "      <td>-1.914049e+04</td>\n",
       "      <td>1.027516e+02</td>\n",
       "      <td>True</td>\n",
       "      <td>-4.120351e+04</td>\n",
       "    </tr>\n",
       "    <tr>\n",
       "      <th>5</th>\n",
       "      <td>460982007</td>\n",
       "      <td>182676977</td>\n",
       "      <td>280870551</td>\n",
       "      <td>273.117577</td>\n",
       "      <td>23119</td>\n",
       "      <td>80</td>\n",
       "      <td>F</td>\n",
       "      <td>47.204875</td>\n",
       "      <td>45.596022</td>\n",
       "      <td>Asian</td>\n",
       "      <td>...</td>\n",
       "      <td>2.607487e+06</td>\n",
       "      <td>2.592809e+06</td>\n",
       "      <td>2.600996e+06</td>\n",
       "      <td>2.347178e+06</td>\n",
       "      <td>-11853.454147</td>\n",
       "      <td>1.279143e+04</td>\n",
       "      <td>1.793010e+04</td>\n",
       "      <td>8.186853e+03</td>\n",
       "      <td>True</td>\n",
       "      <td>2.569687e+06</td>\n",
       "    </tr>\n",
       "    <tr>\n",
       "      <th>6</th>\n",
       "      <td>418764942</td>\n",
       "      <td>181724298</td>\n",
       "      <td>262576234</td>\n",
       "      <td>-15867.885402</td>\n",
       "      <td>9440</td>\n",
       "      <td>75</td>\n",
       "      <td>F</td>\n",
       "      <td>66.874576</td>\n",
       "      <td>17.593558</td>\n",
       "      <td>Asian</td>\n",
       "      <td>...</td>\n",
       "      <td>2.586098e+06</td>\n",
       "      <td>2.588219e+06</td>\n",
       "      <td>2.616660e+06</td>\n",
       "      <td>2.351274e+06</td>\n",
       "      <td>-12608.801634</td>\n",
       "      <td>4.747821e+04</td>\n",
       "      <td>8.945017e+03</td>\n",
       "      <td>2.844163e+04</td>\n",
       "      <td>True</td>\n",
       "      <td>2.538316e+06</td>\n",
       "    </tr>\n",
       "    <tr>\n",
       "      <th>7</th>\n",
       "      <td>453223487</td>\n",
       "      <td>186957590</td>\n",
       "      <td>264891851</td>\n",
       "      <td>236.013092</td>\n",
       "      <td>-48</td>\n",
       "      <td>40</td>\n",
       "      <td>F</td>\n",
       "      <td>61.217894</td>\n",
       "      <td>101.972014</td>\n",
       "      <td>Asian</td>\n",
       "      <td>...</td>\n",
       "      <td>2.578770e+06</td>\n",
       "      <td>2.570376e+06</td>\n",
       "      <td>2.616748e+06</td>\n",
       "      <td>2.346525e+06</td>\n",
       "      <td>22451.587267</td>\n",
       "      <td>-3.769840e+04</td>\n",
       "      <td>5.313928e+03</td>\n",
       "      <td>4.637182e+04</td>\n",
       "      <td>True</td>\n",
       "      <td>2.565581e+06</td>\n",
       "    </tr>\n",
       "    <tr>\n",
       "      <th>8</th>\n",
       "      <td>488409369</td>\n",
       "      <td>196709068</td>\n",
       "      <td>266569328</td>\n",
       "      <td>389.268878</td>\n",
       "      <td>43663</td>\n",
       "      <td>85</td>\n",
       "      <td>F</td>\n",
       "      <td>60.269966</td>\n",
       "      <td>126.477010</td>\n",
       "      <td>Asian</td>\n",
       "      <td>...</td>\n",
       "      <td>2.600260e+06</td>\n",
       "      <td>2.567892e+06</td>\n",
       "      <td>2.573189e+06</td>\n",
       "      <td>2.318840e+06</td>\n",
       "      <td>42452.393211</td>\n",
       "      <td>-2.955945e+04</td>\n",
       "      <td>2.537074e+04</td>\n",
       "      <td>5.296229e+03</td>\n",
       "      <td>True</td>\n",
       "      <td>2.547756e+06</td>\n",
       "    </tr>\n",
       "    <tr>\n",
       "      <th>9</th>\n",
       "      <td>413531114</td>\n",
       "      <td>121798698</td>\n",
       "      <td>277055818</td>\n",
       "      <td>27523.014786</td>\n",
       "      <td>8365</td>\n",
       "      <td>85</td>\n",
       "      <td>F</td>\n",
       "      <td>83.467851</td>\n",
       "      <td>107.873318</td>\n",
       "      <td>Asian</td>\n",
       "      <td>...</td>\n",
       "      <td>2.600126e+06</td>\n",
       "      <td>2.585695e+06</td>\n",
       "      <td>2.572063e+06</td>\n",
       "      <td>2.318107e+06</td>\n",
       "      <td>-902.958414</td>\n",
       "      <td>9.945163e+03</td>\n",
       "      <td>3.287488e+04</td>\n",
       "      <td>-1.363152e+04</td>\n",
       "      <td>True</td>\n",
       "      <td>2.565293e+06</td>\n",
       "    </tr>\n",
       "    <tr>\n",
       "      <th>10</th>\n",
       "      <td>462770885</td>\n",
       "      <td>146627427</td>\n",
       "      <td>221680403</td>\n",
       "      <td>394.349388</td>\n",
       "      <td>13109</td>\n",
       "      <td>70</td>\n",
       "      <td>F</td>\n",
       "      <td>55.939406</td>\n",
       "      <td>138.189083</td>\n",
       "      <td>Asian</td>\n",
       "      <td>...</td>\n",
       "      <td>2.579656e+06</td>\n",
       "      <td>2.609442e+06</td>\n",
       "      <td>2.578945e+06</td>\n",
       "      <td>2.323942e+06</td>\n",
       "      <td>4285.040131</td>\n",
       "      <td>3.934267e+04</td>\n",
       "      <td>1.212981e+04</td>\n",
       "      <td>-3.049697e+04</td>\n",
       "      <td>True</td>\n",
       "      <td>2.566426e+06</td>\n",
       "    </tr>\n",
       "    <tr>\n",
       "      <th>11</th>\n",
       "      <td>461736396</td>\n",
       "      <td>170776624</td>\n",
       "      <td>224549747</td>\n",
       "      <td>454.457183</td>\n",
       "      <td>596981</td>\n",
       "      <td>55</td>\n",
       "      <td>M</td>\n",
       "      <td>59.431286</td>\n",
       "      <td>167.565389</td>\n",
       "      <td>Asian</td>\n",
       "      <td>...</td>\n",
       "      <td>2.570786e+06</td>\n",
       "      <td>2.601371e+06</td>\n",
       "      <td>2.618197e+06</td>\n",
       "      <td>2.326010e+06</td>\n",
       "      <td>-6707.076275</td>\n",
       "      <td>1.038246e+04</td>\n",
       "      <td>-1.297074e+04</td>\n",
       "      <td>1.682641e+04</td>\n",
       "      <td>True</td>\n",
       "      <td>2.013953e+06</td>\n",
       "    </tr>\n",
       "    <tr>\n",
       "      <th>12</th>\n",
       "      <td>466089671</td>\n",
       "      <td>110422967</td>\n",
       "      <td>277039853</td>\n",
       "      <td>578.259759</td>\n",
       "      <td>31350</td>\n",
       "      <td>70</td>\n",
       "      <td>M</td>\n",
       "      <td>70.973748</td>\n",
       "      <td>43.008394</td>\n",
       "      <td>Asian</td>\n",
       "      <td>...</td>\n",
       "      <td>2.596122e+06</td>\n",
       "      <td>2.572442e+06</td>\n",
       "      <td>2.582810e+06</td>\n",
       "      <td>2.330458e+06</td>\n",
       "      <td>13887.475856</td>\n",
       "      <td>-5.841232e+03</td>\n",
       "      <td>-6.567523e+03</td>\n",
       "      <td>1.036791e+04</td>\n",
       "      <td>True</td>\n",
       "      <td>2.532195e+06</td>\n",
       "    </tr>\n",
       "    <tr>\n",
       "      <th>13</th>\n",
       "      <td>461525535</td>\n",
       "      <td>165393967</td>\n",
       "      <td>265024732</td>\n",
       "      <td>3923.745810</td>\n",
       "      <td>1198823</td>\n",
       "      <td>55</td>\n",
       "      <td>M</td>\n",
       "      <td>46.595103</td>\n",
       "      <td>82.459297</td>\n",
       "      <td>Asian</td>\n",
       "      <td>...</td>\n",
       "      <td>2.576255e+06</td>\n",
       "      <td>2.181063e+04</td>\n",
       "      <td>3.073056e+04</td>\n",
       "      <td>2.326073e+06</td>\n",
       "      <td>9896.879489</td>\n",
       "      <td>5.534577e+05</td>\n",
       "      <td>2.529366e+06</td>\n",
       "      <td>8.919925e+03</td>\n",
       "      <td>True</td>\n",
       "      <td>-1.771862e+06</td>\n",
       "    </tr>\n",
       "    <tr>\n",
       "      <th>14</th>\n",
       "      <td>440873608</td>\n",
       "      <td>150995715</td>\n",
       "      <td>245971249</td>\n",
       "      <td>450.038198</td>\n",
       "      <td>10211</td>\n",
       "      <td>45</td>\n",
       "      <td>M</td>\n",
       "      <td>57.940287</td>\n",
       "      <td>95.934465</td>\n",
       "      <td>Asian</td>\n",
       "      <td>...</td>\n",
       "      <td>2.603748e+06</td>\n",
       "      <td>2.582179e+06</td>\n",
       "      <td>2.569725e+06</td>\n",
       "      <td>2.332429e+06</td>\n",
       "      <td>-25170.598406</td>\n",
       "      <td>-2.338237e+04</td>\n",
       "      <td>-7.373815e+03</td>\n",
       "      <td>-1.245468e+04</td>\n",
       "      <td>True</td>\n",
       "      <td>2.578934e+06</td>\n",
       "    </tr>\n",
       "    <tr>\n",
       "      <th>15</th>\n",
       "      <td>430306633</td>\n",
       "      <td>160905993</td>\n",
       "      <td>223960164</td>\n",
       "      <td>15807.293744</td>\n",
       "      <td>40103</td>\n",
       "      <td>75</td>\n",
       "      <td>F</td>\n",
       "      <td>44.767961</td>\n",
       "      <td>112.952904</td>\n",
       "      <td>Asian</td>\n",
       "      <td>...</td>\n",
       "      <td>2.573192e+06</td>\n",
       "      <td>2.585265e+06</td>\n",
       "      <td>2.589007e+06</td>\n",
       "      <td>2.355283e+06</td>\n",
       "      <td>6415.939127</td>\n",
       "      <td>-4.885359e+03</td>\n",
       "      <td>-4.161995e+04</td>\n",
       "      <td>3.742130e+03</td>\n",
       "      <td>True</td>\n",
       "      <td>2.552910e+06</td>\n",
       "    </tr>\n",
       "    <tr>\n",
       "      <th>16</th>\n",
       "      <td>421547719</td>\n",
       "      <td>126081346</td>\n",
       "      <td>205960982</td>\n",
       "      <td>431.831059</td>\n",
       "      <td>39340</td>\n",
       "      <td>25</td>\n",
       "      <td>M</td>\n",
       "      <td>50.610904</td>\n",
       "      <td>8.758824</td>\n",
       "      <td>Asian</td>\n",
       "      <td>...</td>\n",
       "      <td>2.605222e+06</td>\n",
       "      <td>2.589184e+06</td>\n",
       "      <td>2.593719e+06</td>\n",
       "      <td>2.322961e+06</td>\n",
       "      <td>-40437.195290</td>\n",
       "      <td>-1.961051e+04</td>\n",
       "      <td>-4.116357e+03</td>\n",
       "      <td>4.535421e+03</td>\n",
       "      <td>True</td>\n",
       "      <td>2.558668e+06</td>\n",
       "    </tr>\n",
       "    <tr>\n",
       "      <th>17</th>\n",
       "      <td>417628887</td>\n",
       "      <td>117719117</td>\n",
       "      <td>200555861</td>\n",
       "      <td>249.424498</td>\n",
       "      <td>16805</td>\n",
       "      <td>50</td>\n",
       "      <td>F</td>\n",
       "      <td>54.683430</td>\n",
       "      <td>93.798416</td>\n",
       "      <td>Asian</td>\n",
       "      <td>...</td>\n",
       "      <td>2.578581e+06</td>\n",
       "      <td>2.579935e+06</td>\n",
       "      <td>2.595378e+06</td>\n",
       "      <td>2.335669e+06</td>\n",
       "      <td>-31218.977584</td>\n",
       "      <td>-1.960604e+04</td>\n",
       "      <td>1.070260e+04</td>\n",
       "      <td>1.544296e+04</td>\n",
       "      <td>True</td>\n",
       "      <td>2.551255e+06</td>\n",
       "    </tr>\n",
       "    <tr>\n",
       "      <th>18</th>\n",
       "      <td>461033663</td>\n",
       "      <td>132913626</td>\n",
       "      <td>209382444</td>\n",
       "      <td>189.956404</td>\n",
       "      <td>25173</td>\n",
       "      <td>40</td>\n",
       "      <td>M</td>\n",
       "      <td>63.308769</td>\n",
       "      <td>157.915109</td>\n",
       "      <td>Asian</td>\n",
       "      <td>...</td>\n",
       "      <td>2.590906e+06</td>\n",
       "      <td>2.576018e+06</td>\n",
       "      <td>2.584209e+06</td>\n",
       "      <td>2.337216e+06</td>\n",
       "      <td>30754.194784</td>\n",
       "      <td>3.881230e+04</td>\n",
       "      <td>-9.133753e+03</td>\n",
       "      <td>8.191185e+03</td>\n",
       "      <td>True</td>\n",
       "      <td>2.531273e+06</td>\n",
       "    </tr>\n",
       "    <tr>\n",
       "      <th>19</th>\n",
       "      <td>424166395</td>\n",
       "      <td>161055594</td>\n",
       "      <td>218878129</td>\n",
       "      <td>570.100570</td>\n",
       "      <td>20784</td>\n",
       "      <td>30</td>\n",
       "      <td>F</td>\n",
       "      <td>72.059427</td>\n",
       "      <td>109.678964</td>\n",
       "      <td>Asian</td>\n",
       "      <td>...</td>\n",
       "      <td>2.590828e+06</td>\n",
       "      <td>2.606427e+06</td>\n",
       "      <td>2.578526e+06</td>\n",
       "      <td>2.326474e+06</td>\n",
       "      <td>20184.468620</td>\n",
       "      <td>1.624392e+03</td>\n",
       "      <td>1.047432e+04</td>\n",
       "      <td>-2.790056e+04</td>\n",
       "      <td>True</td>\n",
       "      <td>2.568913e+06</td>\n",
       "    </tr>\n",
       "    <tr>\n",
       "      <th>20</th>\n",
       "      <td>490142899</td>\n",
       "      <td>184311510</td>\n",
       "      <td>257816792</td>\n",
       "      <td>350.247100</td>\n",
       "      <td>24805</td>\n",
       "      <td>70</td>\n",
       "      <td>F</td>\n",
       "      <td>58.500488</td>\n",
       "      <td>104.745507</td>\n",
       "      <td>Asian</td>\n",
       "      <td>...</td>\n",
       "      <td>2.574921e+06</td>\n",
       "      <td>2.906825e+04</td>\n",
       "      <td>3.379490e+04</td>\n",
       "      <td>2.317542e+06</td>\n",
       "      <td>23691.277748</td>\n",
       "      <td>-1.949175e+04</td>\n",
       "      <td>2.564305e+06</td>\n",
       "      <td>4.726657e+03</td>\n",
       "      <td>True</td>\n",
       "      <td>1.219972e+04</td>\n",
       "    </tr>\n",
       "    <tr>\n",
       "      <th>21</th>\n",
       "      <td>495624028</td>\n",
       "      <td>180464848</td>\n",
       "      <td>201415532</td>\n",
       "      <td>-19027.143778</td>\n",
       "      <td>21731</td>\n",
       "      <td>45</td>\n",
       "      <td>F</td>\n",
       "      <td>77.369437</td>\n",
       "      <td>135.095871</td>\n",
       "      <td>Asian</td>\n",
       "      <td>...</td>\n",
       "      <td>2.585934e+06</td>\n",
       "      <td>4.065817e+06</td>\n",
       "      <td>4.687182e+05</td>\n",
       "      <td>2.331845e+06</td>\n",
       "      <td>10591.075261</td>\n",
       "      <td>-2.049077e+04</td>\n",
       "      <td>1.298068e+04</td>\n",
       "      <td>-3.597099e+06</td>\n",
       "      <td>True</td>\n",
       "      <td>4.063308e+06</td>\n",
       "    </tr>\n",
       "    <tr>\n",
       "      <th>22</th>\n",
       "      <td>455163743</td>\n",
       "      <td>132878481</td>\n",
       "      <td>242800236</td>\n",
       "      <td>300.849107</td>\n",
       "      <td>16918</td>\n",
       "      <td>70</td>\n",
       "      <td>M</td>\n",
       "      <td>59.092428</td>\n",
       "      <td>13.330763</td>\n",
       "      <td>Asian</td>\n",
       "      <td>...</td>\n",
       "      <td>2.607533e+06</td>\n",
       "      <td>2.578089e+06</td>\n",
       "      <td>2.570956e+06</td>\n",
       "      <td>2.342685e+06</td>\n",
       "      <td>-7216.166196</td>\n",
       "      <td>1.583327e+04</td>\n",
       "      <td>-2.888770e+03</td>\n",
       "      <td>-7.132878e+03</td>\n",
       "      <td>True</td>\n",
       "      <td>2.561139e+06</td>\n",
       "    </tr>\n",
       "    <tr>\n",
       "      <th>23</th>\n",
       "      <td>413881633</td>\n",
       "      <td>125052097</td>\n",
       "      <td>239869265</td>\n",
       "      <td>382.070452</td>\n",
       "      <td>4184</td>\n",
       "      <td>45</td>\n",
       "      <td>F</td>\n",
       "      <td>75.396148</td>\n",
       "      <td>52.166843</td>\n",
       "      <td>Asian</td>\n",
       "      <td>...</td>\n",
       "      <td>2.567891e+06</td>\n",
       "      <td>2.568439e+06</td>\n",
       "      <td>2.583775e+06</td>\n",
       "      <td>2.326170e+06</td>\n",
       "      <td>12211.487654</td>\n",
       "      <td>-1.276792e+04</td>\n",
       "      <td>-3.816843e+04</td>\n",
       "      <td>1.533640e+04</td>\n",
       "      <td>True</td>\n",
       "      <td>2.537580e+06</td>\n",
       "    </tr>\n",
       "    <tr>\n",
       "      <th>24</th>\n",
       "      <td>432477934</td>\n",
       "      <td>170084078</td>\n",
       "      <td>281667987</td>\n",
       "      <td>463.263324</td>\n",
       "      <td>42088</td>\n",
       "      <td>65</td>\n",
       "      <td>M</td>\n",
       "      <td>80.422829</td>\n",
       "      <td>83.048706</td>\n",
       "      <td>Asian</td>\n",
       "      <td>...</td>\n",
       "      <td>2.591363e+06</td>\n",
       "      <td>2.573675e+06</td>\n",
       "      <td>2.599861e+06</td>\n",
       "      <td>2.344768e+06</td>\n",
       "      <td>-34508.658979</td>\n",
       "      <td>-2.024913e+04</td>\n",
       "      <td>-2.221206e+04</td>\n",
       "      <td>2.618642e+04</td>\n",
       "      <td>True</td>\n",
       "      <td>2.545403e+06</td>\n",
       "    </tr>\n",
       "    <tr>\n",
       "      <th>25</th>\n",
       "      <td>432300282</td>\n",
       "      <td>159537094</td>\n",
       "      <td>260896782</td>\n",
       "      <td>543.657664</td>\n",
       "      <td>1957</td>\n",
       "      <td>65</td>\n",
       "      <td>F</td>\n",
       "      <td>53.944086</td>\n",
       "      <td>9.265488</td>\n",
       "      <td>Asian</td>\n",
       "      <td>...</td>\n",
       "      <td>5.220422e+02</td>\n",
       "      <td>1.168109e+04</td>\n",
       "      <td>4.249956e+04</td>\n",
       "      <td>2.320638e+06</td>\n",
       "      <td>35.639117</td>\n",
       "      <td>-1.439199e+04</td>\n",
       "      <td>-1.137253e+04</td>\n",
       "      <td>3.081847e+04</td>\n",
       "      <td>True</td>\n",
       "      <td>-4.538015e+03</td>\n",
       "    </tr>\n",
       "    <tr>\n",
       "      <th>26</th>\n",
       "      <td>499260044</td>\n",
       "      <td>197380989</td>\n",
       "      <td>247867963</td>\n",
       "      <td>261.892178</td>\n",
       "      <td>26395</td>\n",
       "      <td>45</td>\n",
       "      <td>M</td>\n",
       "      <td>70.221108</td>\n",
       "      <td>104.253848</td>\n",
       "      <td>Asian</td>\n",
       "      <td>...</td>\n",
       "      <td>2.588742e+06</td>\n",
       "      <td>2.574852e+06</td>\n",
       "      <td>2.606538e+06</td>\n",
       "      <td>2.323556e+06</td>\n",
       "      <td>-3200.090006</td>\n",
       "      <td>3.112289e+04</td>\n",
       "      <td>-1.222627e+04</td>\n",
       "      <td>3.168572e+04</td>\n",
       "      <td>True</td>\n",
       "      <td>2.527580e+06</td>\n",
       "    </tr>\n",
       "    <tr>\n",
       "      <th>27</th>\n",
       "      <td>430920662</td>\n",
       "      <td>137295160</td>\n",
       "      <td>239345400</td>\n",
       "      <td>131.130312</td>\n",
       "      <td>17507</td>\n",
       "      <td>55</td>\n",
       "      <td>F</td>\n",
       "      <td>229.042239</td>\n",
       "      <td>45.689820</td>\n",
       "      <td>Asian</td>\n",
       "      <td>...</td>\n",
       "      <td>2.606652e+06</td>\n",
       "      <td>2.568328e+06</td>\n",
       "      <td>2.605368e+06</td>\n",
       "      <td>2.339022e+06</td>\n",
       "      <td>-20194.917557</td>\n",
       "      <td>1.674718e+04</td>\n",
       "      <td>1.106191e+04</td>\n",
       "      <td>3.703974e+04</td>\n",
       "      <td>True</td>\n",
       "      <td>2.541105e+06</td>\n",
       "    </tr>\n",
       "    <tr>\n",
       "      <th>28</th>\n",
       "      <td>426984522</td>\n",
       "      <td>190883278</td>\n",
       "      <td>213864836</td>\n",
       "      <td>330.030803</td>\n",
       "      <td>20693</td>\n",
       "      <td>25</td>\n",
       "      <td>F</td>\n",
       "      <td>63.168674</td>\n",
       "      <td>68.965597</td>\n",
       "      <td>Asian</td>\n",
       "      <td>...</td>\n",
       "      <td>2.597701e+06</td>\n",
       "      <td>2.590693e+06</td>\n",
       "      <td>2.592275e+06</td>\n",
       "      <td>2.324721e+06</td>\n",
       "      <td>9026.931057</td>\n",
       "      <td>-9.347059e+03</td>\n",
       "      <td>-1.404195e+04</td>\n",
       "      <td>1.581927e+03</td>\n",
       "      <td>True</td>\n",
       "      <td>2.588925e+06</td>\n",
       "    </tr>\n",
       "    <tr>\n",
       "      <th>29</th>\n",
       "      <td>473682429</td>\n",
       "      <td>128975148</td>\n",
       "      <td>274944461</td>\n",
       "      <td>20662.415586</td>\n",
       "      <td>2683970</td>\n",
       "      <td>50</td>\n",
       "      <td>F</td>\n",
       "      <td>55.632962</td>\n",
       "      <td>64.156658</td>\n",
       "      <td>Asian</td>\n",
       "      <td>...</td>\n",
       "      <td>2.605908e+06</td>\n",
       "      <td>2.608106e+06</td>\n",
       "      <td>2.597764e+06</td>\n",
       "      <td>2.329591e+06</td>\n",
       "      <td>-16025.482824</td>\n",
       "      <td>4.429417e+06</td>\n",
       "      <td>5.345860e+03</td>\n",
       "      <td>-1.034239e+04</td>\n",
       "      <td>True</td>\n",
       "      <td>-1.870888e+06</td>\n",
       "    </tr>\n",
       "  </tbody>\n",
       "</table>\n",
       "<p>30 rows × 34 columns</p>\n",
       "</div>"
      ],
      "text/plain": [
       "        op_id  subject_id    hadm_id       case_id   opdate  age sex  \\\n",
       "0   491041638   121054734  240194463    274.284941  1025479   80   M   \n",
       "1   478465895   198631209  268397753    521.106183    46323   75   F   \n",
       "2   441786873   174969512  290765750   5151.901879    26756   60   F   \n",
       "3   429031729   178985173  243778706    384.031749    24025   40   F   \n",
       "4   497334615   115260075  263160719    298.683006    42487   70   M   \n",
       "5   460982007   182676977  280870551    273.117577    23119   80   F   \n",
       "6   418764942   181724298  262576234 -15867.885402     9440   75   F   \n",
       "7   453223487   186957590  264891851    236.013092      -48   40   F   \n",
       "8   488409369   196709068  266569328    389.268878    43663   85   F   \n",
       "9   413531114   121798698  277055818  27523.014786     8365   85   F   \n",
       "10  462770885   146627427  221680403    394.349388    13109   70   F   \n",
       "11  461736396   170776624  224549747    454.457183   596981   55   M   \n",
       "12  466089671   110422967  277039853    578.259759    31350   70   M   \n",
       "13  461525535   165393967  265024732   3923.745810  1198823   55   M   \n",
       "14  440873608   150995715  245971249    450.038198    10211   45   M   \n",
       "15  430306633   160905993  223960164  15807.293744    40103   75   F   \n",
       "16  421547719   126081346  205960982    431.831059    39340   25   M   \n",
       "17  417628887   117719117  200555861    249.424498    16805   50   F   \n",
       "18  461033663   132913626  209382444    189.956404    25173   40   M   \n",
       "19  424166395   161055594  218878129    570.100570    20784   30   F   \n",
       "20  490142899   184311510  257816792    350.247100    24805   70   F   \n",
       "21  495624028   180464848  201415532 -19027.143778    21731   45   F   \n",
       "22  455163743   132878481  242800236    300.849107    16918   70   M   \n",
       "23  413881633   125052097  239869265    382.070452     4184   45   F   \n",
       "24  432477934   170084078  281667987    463.263324    42088   65   M   \n",
       "25  432300282   159537094  260896782    543.657664     1957   65   F   \n",
       "26  499260044   197380989  247867963    261.892178    26395   45   M   \n",
       "27  430920662   137295160  239345400    131.130312    17507   55   F   \n",
       "28  426984522   190883278  213864836    330.030803    20693   25   F   \n",
       "29  473682429   128975148  274944461  20662.415586  2683970   50   F   \n",
       "\n",
       "        weight      height   race  ...   cpboff_time    icuin_time  \\\n",
       "0    74.865118   88.523601  Asian  ...  2.593028e+06  2.598174e+06   \n",
       "1    41.476125  145.015576  Asian  ...  2.582872e+06  2.605391e+06   \n",
       "2    41.196068   71.962255  Asian  ...  2.605240e+06  2.583546e+06   \n",
       "3    57.462956  158.916569  Asian  ...  2.610047e+06  2.591386e+06   \n",
       "4    76.146153   73.941532  Asian  ...  2.586330e+06  4.623223e+03   \n",
       "5    47.204875   45.596022  Asian  ...  2.607487e+06  2.592809e+06   \n",
       "6    66.874576   17.593558  Asian  ...  2.586098e+06  2.588219e+06   \n",
       "7    61.217894  101.972014  Asian  ...  2.578770e+06  2.570376e+06   \n",
       "8    60.269966  126.477010  Asian  ...  2.600260e+06  2.567892e+06   \n",
       "9    83.467851  107.873318  Asian  ...  2.600126e+06  2.585695e+06   \n",
       "10   55.939406  138.189083  Asian  ...  2.579656e+06  2.609442e+06   \n",
       "11   59.431286  167.565389  Asian  ...  2.570786e+06  2.601371e+06   \n",
       "12   70.973748   43.008394  Asian  ...  2.596122e+06  2.572442e+06   \n",
       "13   46.595103   82.459297  Asian  ...  2.576255e+06  2.181063e+04   \n",
       "14   57.940287   95.934465  Asian  ...  2.603748e+06  2.582179e+06   \n",
       "15   44.767961  112.952904  Asian  ...  2.573192e+06  2.585265e+06   \n",
       "16   50.610904    8.758824  Asian  ...  2.605222e+06  2.589184e+06   \n",
       "17   54.683430   93.798416  Asian  ...  2.578581e+06  2.579935e+06   \n",
       "18   63.308769  157.915109  Asian  ...  2.590906e+06  2.576018e+06   \n",
       "19   72.059427  109.678964  Asian  ...  2.590828e+06  2.606427e+06   \n",
       "20   58.500488  104.745507  Asian  ...  2.574921e+06  2.906825e+04   \n",
       "21   77.369437  135.095871  Asian  ...  2.585934e+06  4.065817e+06   \n",
       "22   59.092428   13.330763  Asian  ...  2.607533e+06  2.578089e+06   \n",
       "23   75.396148   52.166843  Asian  ...  2.567891e+06  2.568439e+06   \n",
       "24   80.422829   83.048706  Asian  ...  2.591363e+06  2.573675e+06   \n",
       "25   53.944086    9.265488  Asian  ...  5.220422e+02  1.168109e+04   \n",
       "26   70.221108  104.253848  Asian  ...  2.588742e+06  2.574852e+06   \n",
       "27  229.042239   45.689820  Asian  ...  2.606652e+06  2.568328e+06   \n",
       "28   63.168674   68.965597  Asian  ...  2.597701e+06  2.590693e+06   \n",
       "29   55.632962   64.156658  Asian  ...  2.605908e+06  2.608106e+06   \n",
       "\n",
       "     icuout_time inhosp_death_time    an_duration   op_duration  cpb_duration  \\\n",
       "0   2.594544e+06      2.326923e+06 -204547.014383 -1.571209e+05  1.511655e+04   \n",
       "1   2.607593e+06      2.325758e+06   33131.670577 -1.169692e+04 -2.860824e+04   \n",
       "2   2.596706e+06      2.326529e+06  -47296.367516 -1.453532e+04  9.462251e+03   \n",
       "3   2.585693e+06      2.323262e+06  -30122.192265 -2.099210e+04  3.418380e+04   \n",
       "4   4.725974e+03      2.342781e+06   22400.977699  9.455218e+03 -1.914049e+04   \n",
       "5   2.600996e+06      2.347178e+06  -11853.454147  1.279143e+04  1.793010e+04   \n",
       "6   2.616660e+06      2.351274e+06  -12608.801634  4.747821e+04  8.945017e+03   \n",
       "7   2.616748e+06      2.346525e+06   22451.587267 -3.769840e+04  5.313928e+03   \n",
       "8   2.573189e+06      2.318840e+06   42452.393211 -2.955945e+04  2.537074e+04   \n",
       "9   2.572063e+06      2.318107e+06    -902.958414  9.945163e+03  3.287488e+04   \n",
       "10  2.578945e+06      2.323942e+06    4285.040131  3.934267e+04  1.212981e+04   \n",
       "11  2.618197e+06      2.326010e+06   -6707.076275  1.038246e+04 -1.297074e+04   \n",
       "12  2.582810e+06      2.330458e+06   13887.475856 -5.841232e+03 -6.567523e+03   \n",
       "13  3.073056e+04      2.326073e+06    9896.879489  5.534577e+05  2.529366e+06   \n",
       "14  2.569725e+06      2.332429e+06  -25170.598406 -2.338237e+04 -7.373815e+03   \n",
       "15  2.589007e+06      2.355283e+06    6415.939127 -4.885359e+03 -4.161995e+04   \n",
       "16  2.593719e+06      2.322961e+06  -40437.195290 -1.961051e+04 -4.116357e+03   \n",
       "17  2.595378e+06      2.335669e+06  -31218.977584 -1.960604e+04  1.070260e+04   \n",
       "18  2.584209e+06      2.337216e+06   30754.194784  3.881230e+04 -9.133753e+03   \n",
       "19  2.578526e+06      2.326474e+06   20184.468620  1.624392e+03  1.047432e+04   \n",
       "20  3.379490e+04      2.317542e+06   23691.277748 -1.949175e+04  2.564305e+06   \n",
       "21  4.687182e+05      2.331845e+06   10591.075261 -2.049077e+04  1.298068e+04   \n",
       "22  2.570956e+06      2.342685e+06   -7216.166196  1.583327e+04 -2.888770e+03   \n",
       "23  2.583775e+06      2.326170e+06   12211.487654 -1.276792e+04 -3.816843e+04   \n",
       "24  2.599861e+06      2.344768e+06  -34508.658979 -2.024913e+04 -2.221206e+04   \n",
       "25  4.249956e+04      2.320638e+06      35.639117 -1.439199e+04 -1.137253e+04   \n",
       "26  2.606538e+06      2.323556e+06   -3200.090006  3.112289e+04 -1.222627e+04   \n",
       "27  2.605368e+06      2.339022e+06  -20194.917557  1.674718e+04  1.106191e+04   \n",
       "28  2.592275e+06      2.324721e+06    9026.931057 -9.347059e+03 -1.404195e+04   \n",
       "29  2.597764e+06      2.329591e+06  -16025.482824  4.429417e+06  5.345860e+03   \n",
       "\n",
       "    icu_duration  icu_admission_postop  time_to_icu_postop  \n",
       "0  -3.630234e+03                  True        1.570232e+06  \n",
       "1   2.201834e+03                  True        2.577195e+06  \n",
       "2   1.316013e+04                  True        2.563840e+06  \n",
       "3  -5.692642e+03                  True        2.576023e+06  \n",
       "4   1.027516e+02                  True       -4.120351e+04  \n",
       "5   8.186853e+03                  True        2.569687e+06  \n",
       "6   2.844163e+04                  True        2.538316e+06  \n",
       "7   4.637182e+04                  True        2.565581e+06  \n",
       "8   5.296229e+03                  True        2.547756e+06  \n",
       "9  -1.363152e+04                  True        2.565293e+06  \n",
       "10 -3.049697e+04                  True        2.566426e+06  \n",
       "11  1.682641e+04                  True        2.013953e+06  \n",
       "12  1.036791e+04                  True        2.532195e+06  \n",
       "13  8.919925e+03                  True       -1.771862e+06  \n",
       "14 -1.245468e+04                  True        2.578934e+06  \n",
       "15  3.742130e+03                  True        2.552910e+06  \n",
       "16  4.535421e+03                  True        2.558668e+06  \n",
       "17  1.544296e+04                  True        2.551255e+06  \n",
       "18  8.191185e+03                  True        2.531273e+06  \n",
       "19 -2.790056e+04                  True        2.568913e+06  \n",
       "20  4.726657e+03                  True        1.219972e+04  \n",
       "21 -3.597099e+06                  True        4.063308e+06  \n",
       "22 -7.132878e+03                  True        2.561139e+06  \n",
       "23  1.533640e+04                  True        2.537580e+06  \n",
       "24  2.618642e+04                  True        2.545403e+06  \n",
       "25  3.081847e+04                  True       -4.538015e+03  \n",
       "26  3.168572e+04                  True        2.527580e+06  \n",
       "27  3.703974e+04                  True        2.541105e+06  \n",
       "28  1.581927e+03                  True        2.588925e+06  \n",
       "29 -1.034239e+04                  True       -1.870888e+06  \n",
       "\n",
       "[30 rows x 34 columns]"
      ]
     },
     "execution_count": 68,
     "metadata": {},
     "output_type": "execute_result"
    }
   ],
   "source": [
    "df_operations.head(30)"
   ]
  },
  {
   "cell_type": "code",
   "execution_count": 5,
   "metadata": {},
   "outputs": [
    {
     "name": "stdout",
     "output_type": "stream",
     "text": [
      "<class 'pandas.core.frame.DataFrame'>\n",
      "RangeIndex: 5000 entries, 0 to 4999\n",
      "Data columns (total 28 columns):\n",
      " #   Column             Non-Null Count  Dtype  \n",
      "---  ------             --------------  -----  \n",
      " 0   op_id              5000 non-null   int64  \n",
      " 1   subject_id         5000 non-null   int64  \n",
      " 2   hadm_id            5000 non-null   int64  \n",
      " 3   case_id            5000 non-null   float64\n",
      " 4   opdate             5000 non-null   int64  \n",
      " 5   age                5000 non-null   int64  \n",
      " 6   sex                5000 non-null   object \n",
      " 7   weight             5000 non-null   float64\n",
      " 8   height             5000 non-null   float64\n",
      " 9   race               5000 non-null   object \n",
      " 10  asa                4856 non-null   float64\n",
      " 11  emop               5000 non-null   int64  \n",
      " 12  department         5000 non-null   object \n",
      " 13  antype             5000 non-null   object \n",
      " 14  icd10_pcs          5000 non-null   object \n",
      " 15  orin_time          5000 non-null   int64  \n",
      " 16  orout_time         5000 non-null   int64  \n",
      " 17  opstart_time       5000 non-null   float64\n",
      " 18  opend_time         5000 non-null   float64\n",
      " 19  admission_time     5000 non-null   int64  \n",
      " 20  discharge_time     5000 non-null   int64  \n",
      " 21  anstart_time       5000 non-null   float64\n",
      " 22  anend_time         5000 non-null   float64\n",
      " 23  cpbon_time         5000 non-null   float64\n",
      " 24  cpboff_time        5000 non-null   float64\n",
      " 25  icuin_time         5000 non-null   float64\n",
      " 26  icuout_time        5000 non-null   float64\n",
      " 27  inhosp_death_time  5000 non-null   float64\n",
      "dtypes: float64(13), int64(10), object(5)\n",
      "memory usage: 1.1+ MB\n"
     ]
    }
   ],
   "source": [
    "df_operations.info()"
   ]
  },
  {
   "cell_type": "code",
   "execution_count": 6,
   "metadata": {},
   "outputs": [
    {
     "data": {
      "text/plain": [
       "Index(['op_id', 'subject_id', 'hadm_id', 'case_id', 'opdate', 'age', 'sex',\n",
       "       'weight', 'height', 'race', 'asa', 'emop', 'department', 'antype',\n",
       "       'icd10_pcs', 'orin_time', 'orout_time', 'opstart_time', 'opend_time',\n",
       "       'admission_time', 'discharge_time', 'anstart_time', 'anend_time',\n",
       "       'cpbon_time', 'cpboff_time', 'icuin_time', 'icuout_time',\n",
       "       'inhosp_death_time'],\n",
       "      dtype='object')"
      ]
     },
     "execution_count": 6,
     "metadata": {},
     "output_type": "execute_result"
    }
   ],
   "source": [
    "df_operations.columns"
   ]
  },
  {
   "cell_type": "code",
   "execution_count": 7,
   "metadata": {},
   "outputs": [
    {
     "data": {
      "text/html": [
       "<div>\n",
       "<style scoped>\n",
       "    .dataframe tbody tr th:only-of-type {\n",
       "        vertical-align: middle;\n",
       "    }\n",
       "\n",
       "    .dataframe tbody tr th {\n",
       "        vertical-align: top;\n",
       "    }\n",
       "\n",
       "    .dataframe thead th {\n",
       "        text-align: right;\n",
       "    }\n",
       "</style>\n",
       "<table border=\"1\" class=\"dataframe\">\n",
       "  <thead>\n",
       "    <tr style=\"text-align: right;\">\n",
       "      <th></th>\n",
       "      <th>op_id</th>\n",
       "      <th>subject_id</th>\n",
       "      <th>hadm_id</th>\n",
       "      <th>case_id</th>\n",
       "      <th>opdate</th>\n",
       "      <th>age</th>\n",
       "      <th>weight</th>\n",
       "      <th>height</th>\n",
       "      <th>asa</th>\n",
       "      <th>emop</th>\n",
       "      <th>...</th>\n",
       "      <th>opend_time</th>\n",
       "      <th>admission_time</th>\n",
       "      <th>discharge_time</th>\n",
       "      <th>anstart_time</th>\n",
       "      <th>anend_time</th>\n",
       "      <th>cpbon_time</th>\n",
       "      <th>cpboff_time</th>\n",
       "      <th>icuin_time</th>\n",
       "      <th>icuout_time</th>\n",
       "      <th>inhosp_death_time</th>\n",
       "    </tr>\n",
       "  </thead>\n",
       "  <tbody>\n",
       "    <tr>\n",
       "      <th>count</th>\n",
       "      <td>5.000000e+03</td>\n",
       "      <td>5.000000e+03</td>\n",
       "      <td>5.000000e+03</td>\n",
       "      <td>5000.000000</td>\n",
       "      <td>5.000000e+03</td>\n",
       "      <td>5000.00000</td>\n",
       "      <td>5000.000000</td>\n",
       "      <td>5000.000000</td>\n",
       "      <td>4856.000000</td>\n",
       "      <td>5000.000000</td>\n",
       "      <td>...</td>\n",
       "      <td>5.000000e+03</td>\n",
       "      <td>5.000000e+03</td>\n",
       "      <td>5.000000e+03</td>\n",
       "      <td>5.000000e+03</td>\n",
       "      <td>5.000000e+03</td>\n",
       "      <td>5.000000e+03</td>\n",
       "      <td>5.000000e+03</td>\n",
       "      <td>5.000000e+03</td>\n",
       "      <td>5.000000e+03</td>\n",
       "      <td>5.000000e+03</td>\n",
       "    </tr>\n",
       "    <tr>\n",
       "      <th>mean</th>\n",
       "      <td>4.506487e+08</td>\n",
       "      <td>1.498109e+08</td>\n",
       "      <td>2.502494e+08</td>\n",
       "      <td>845.077146</td>\n",
       "      <td>2.510860e+05</td>\n",
       "      <td>55.70600</td>\n",
       "      <td>64.787782</td>\n",
       "      <td>155.648262</td>\n",
       "      <td>1.763591</td>\n",
       "      <td>0.093800</td>\n",
       "      <td>...</td>\n",
       "      <td>2.494826e+05</td>\n",
       "      <td>2.446305e+05</td>\n",
       "      <td>2.604911e+05</td>\n",
       "      <td>2.546228e+05</td>\n",
       "      <td>2.593451e+05</td>\n",
       "      <td>2.547872e+06</td>\n",
       "      <td>2.545389e+06</td>\n",
       "      <td>2.330240e+06</td>\n",
       "      <td>2.339977e+06</td>\n",
       "      <td>2.323432e+06</td>\n",
       "    </tr>\n",
       "    <tr>\n",
       "      <th>std</th>\n",
       "      <td>2.889487e+07</td>\n",
       "      <td>2.881892e+07</td>\n",
       "      <td>2.865696e+07</td>\n",
       "      <td>8600.926816</td>\n",
       "      <td>7.218121e+05</td>\n",
       "      <td>16.11594</td>\n",
       "      <td>22.681171</td>\n",
       "      <td>778.497194</td>\n",
       "      <td>0.643850</td>\n",
       "      <td>0.291579</td>\n",
       "      <td>...</td>\n",
       "      <td>7.064161e+05</td>\n",
       "      <td>6.856787e+05</td>\n",
       "      <td>7.115900e+05</td>\n",
       "      <td>7.159367e+05</td>\n",
       "      <td>7.306499e+05</td>\n",
       "      <td>3.439031e+05</td>\n",
       "      <td>3.435720e+05</td>\n",
       "      <td>7.921008e+05</td>\n",
       "      <td>7.848277e+05</td>\n",
       "      <td>1.904296e+05</td>\n",
       "    </tr>\n",
       "    <tr>\n",
       "      <th>min</th>\n",
       "      <td>4.000143e+08</td>\n",
       "      <td>1.000038e+08</td>\n",
       "      <td>2.000033e+08</td>\n",
       "      <td>-32754.452039</td>\n",
       "      <td>-1.433000e+03</td>\n",
       "      <td>20.00000</td>\n",
       "      <td>0.475863</td>\n",
       "      <td>-0.995960</td>\n",
       "      <td>1.000000</td>\n",
       "      <td>0.000000</td>\n",
       "      <td>...</td>\n",
       "      <td>8.633802e+01</td>\n",
       "      <td>2.900000e+01</td>\n",
       "      <td>1.462000e+03</td>\n",
       "      <td>4.681370e+00</td>\n",
       "      <td>7.760991e+01</td>\n",
       "      <td>2.750476e+02</td>\n",
       "      <td>4.104891e+02</td>\n",
       "      <td>-4.775168e+03</td>\n",
       "      <td>8.129364e+02</td>\n",
       "      <td>8.034373e+03</td>\n",
       "    </tr>\n",
       "    <tr>\n",
       "      <th>25%</th>\n",
       "      <td>4.254584e+08</td>\n",
       "      <td>1.250777e+08</td>\n",
       "      <td>2.255177e+08</td>\n",
       "      <td>159.815240</td>\n",
       "      <td>1.477225e+04</td>\n",
       "      <td>45.00000</td>\n",
       "      <td>54.391155</td>\n",
       "      <td>47.661720</td>\n",
       "      <td>1.000000</td>\n",
       "      <td>0.000000</td>\n",
       "      <td>...</td>\n",
       "      <td>1.591761e+04</td>\n",
       "      <td>1.544900e+04</td>\n",
       "      <td>1.854550e+04</td>\n",
       "      <td>1.592972e+04</td>\n",
       "      <td>1.662699e+04</td>\n",
       "      <td>2.578704e+06</td>\n",
       "      <td>2.578641e+06</td>\n",
       "      <td>2.572532e+06</td>\n",
       "      <td>2.577645e+06</td>\n",
       "      <td>2.323925e+06</td>\n",
       "    </tr>\n",
       "    <tr>\n",
       "      <th>50%</th>\n",
       "      <td>4.512015e+08</td>\n",
       "      <td>1.498524e+08</td>\n",
       "      <td>2.502614e+08</td>\n",
       "      <td>357.755953</td>\n",
       "      <td>3.084100e+04</td>\n",
       "      <td>60.00000</td>\n",
       "      <td>61.636523</td>\n",
       "      <td>93.495192</td>\n",
       "      <td>2.000000</td>\n",
       "      <td>0.000000</td>\n",
       "      <td>...</td>\n",
       "      <td>3.190707e+04</td>\n",
       "      <td>3.133600e+04</td>\n",
       "      <td>3.559450e+04</td>\n",
       "      <td>3.211387e+04</td>\n",
       "      <td>3.241189e+04</td>\n",
       "      <td>2.592063e+06</td>\n",
       "      <td>2.592083e+06</td>\n",
       "      <td>2.587130e+06</td>\n",
       "      <td>2.592007e+06</td>\n",
       "      <td>2.335062e+06</td>\n",
       "    </tr>\n",
       "    <tr>\n",
       "      <th>75%</th>\n",
       "      <td>4.756649e+08</td>\n",
       "      <td>1.742227e+08</td>\n",
       "      <td>2.748328e+08</td>\n",
       "      <td>551.822254</td>\n",
       "      <td>4.701300e+04</td>\n",
       "      <td>70.00000</td>\n",
       "      <td>70.724183</td>\n",
       "      <td>138.726480</td>\n",
       "      <td>2.000000</td>\n",
       "      <td>0.000000</td>\n",
       "      <td>...</td>\n",
       "      <td>4.801763e+04</td>\n",
       "      <td>4.756625e+04</td>\n",
       "      <td>5.259950e+04</td>\n",
       "      <td>4.824874e+04</td>\n",
       "      <td>4.844744e+04</td>\n",
       "      <td>2.604943e+06</td>\n",
       "      <td>2.605253e+06</td>\n",
       "      <td>2.601581e+06</td>\n",
       "      <td>2.606173e+06</td>\n",
       "      <td>2.346565e+06</td>\n",
       "    </tr>\n",
       "    <tr>\n",
       "      <th>max</th>\n",
       "      <td>4.999990e+08</td>\n",
       "      <td>1.999994e+08</td>\n",
       "      <td>2.999994e+08</td>\n",
       "      <td>32767.000000</td>\n",
       "      <td>5.184000e+06</td>\n",
       "      <td>90.00000</td>\n",
       "      <td>454.000000</td>\n",
       "      <td>17937.000000</td>\n",
       "      <td>6.000000</td>\n",
       "      <td>1.000000</td>\n",
       "      <td>...</td>\n",
       "      <td>5.107051e+06</td>\n",
       "      <td>5.182560e+06</td>\n",
       "      <td>5.378395e+06</td>\n",
       "      <td>5.185070e+06</td>\n",
       "      <td>5.185170e+06</td>\n",
       "      <td>4.842752e+06</td>\n",
       "      <td>2.918344e+06</td>\n",
       "      <td>5.072593e+06</td>\n",
       "      <td>4.928596e+06</td>\n",
       "      <td>4.552559e+06</td>\n",
       "    </tr>\n",
       "  </tbody>\n",
       "</table>\n",
       "<p>8 rows × 23 columns</p>\n",
       "</div>"
      ],
      "text/plain": [
       "              op_id    subject_id       hadm_id       case_id        opdate  \\\n",
       "count  5.000000e+03  5.000000e+03  5.000000e+03   5000.000000  5.000000e+03   \n",
       "mean   4.506487e+08  1.498109e+08  2.502494e+08    845.077146  2.510860e+05   \n",
       "std    2.889487e+07  2.881892e+07  2.865696e+07   8600.926816  7.218121e+05   \n",
       "min    4.000143e+08  1.000038e+08  2.000033e+08 -32754.452039 -1.433000e+03   \n",
       "25%    4.254584e+08  1.250777e+08  2.255177e+08    159.815240  1.477225e+04   \n",
       "50%    4.512015e+08  1.498524e+08  2.502614e+08    357.755953  3.084100e+04   \n",
       "75%    4.756649e+08  1.742227e+08  2.748328e+08    551.822254  4.701300e+04   \n",
       "max    4.999990e+08  1.999994e+08  2.999994e+08  32767.000000  5.184000e+06   \n",
       "\n",
       "              age       weight        height          asa         emop  ...  \\\n",
       "count  5000.00000  5000.000000   5000.000000  4856.000000  5000.000000  ...   \n",
       "mean     55.70600    64.787782    155.648262     1.763591     0.093800  ...   \n",
       "std      16.11594    22.681171    778.497194     0.643850     0.291579  ...   \n",
       "min      20.00000     0.475863     -0.995960     1.000000     0.000000  ...   \n",
       "25%      45.00000    54.391155     47.661720     1.000000     0.000000  ...   \n",
       "50%      60.00000    61.636523     93.495192     2.000000     0.000000  ...   \n",
       "75%      70.00000    70.724183    138.726480     2.000000     0.000000  ...   \n",
       "max      90.00000   454.000000  17937.000000     6.000000     1.000000  ...   \n",
       "\n",
       "         opend_time  admission_time  discharge_time  anstart_time  \\\n",
       "count  5.000000e+03    5.000000e+03    5.000000e+03  5.000000e+03   \n",
       "mean   2.494826e+05    2.446305e+05    2.604911e+05  2.546228e+05   \n",
       "std    7.064161e+05    6.856787e+05    7.115900e+05  7.159367e+05   \n",
       "min    8.633802e+01    2.900000e+01    1.462000e+03  4.681370e+00   \n",
       "25%    1.591761e+04    1.544900e+04    1.854550e+04  1.592972e+04   \n",
       "50%    3.190707e+04    3.133600e+04    3.559450e+04  3.211387e+04   \n",
       "75%    4.801763e+04    4.756625e+04    5.259950e+04  4.824874e+04   \n",
       "max    5.107051e+06    5.182560e+06    5.378395e+06  5.185070e+06   \n",
       "\n",
       "         anend_time    cpbon_time   cpboff_time    icuin_time   icuout_time  \\\n",
       "count  5.000000e+03  5.000000e+03  5.000000e+03  5.000000e+03  5.000000e+03   \n",
       "mean   2.593451e+05  2.547872e+06  2.545389e+06  2.330240e+06  2.339977e+06   \n",
       "std    7.306499e+05  3.439031e+05  3.435720e+05  7.921008e+05  7.848277e+05   \n",
       "min    7.760991e+01  2.750476e+02  4.104891e+02 -4.775168e+03  8.129364e+02   \n",
       "25%    1.662699e+04  2.578704e+06  2.578641e+06  2.572532e+06  2.577645e+06   \n",
       "50%    3.241189e+04  2.592063e+06  2.592083e+06  2.587130e+06  2.592007e+06   \n",
       "75%    4.844744e+04  2.604943e+06  2.605253e+06  2.601581e+06  2.606173e+06   \n",
       "max    5.185170e+06  4.842752e+06  2.918344e+06  5.072593e+06  4.928596e+06   \n",
       "\n",
       "       inhosp_death_time  \n",
       "count       5.000000e+03  \n",
       "mean        2.323432e+06  \n",
       "std         1.904296e+05  \n",
       "min         8.034373e+03  \n",
       "25%         2.323925e+06  \n",
       "50%         2.335062e+06  \n",
       "75%         2.346565e+06  \n",
       "max         4.552559e+06  \n",
       "\n",
       "[8 rows x 23 columns]"
      ]
     },
     "execution_count": 7,
     "metadata": {},
     "output_type": "execute_result"
    }
   ],
   "source": [
    "df_operations.describe()"
   ]
  },
  {
   "cell_type": "markdown",
   "metadata": {},
   "source": [
    "Op id"
   ]
  },
  {
   "cell_type": "markdown",
   "metadata": {},
   "source": [
    "Each admission and operation were randomly assigned with unique numbers (hadm_id and op_id, respectively)."
   ]
  },
  {
   "cell_type": "code",
   "execution_count": 8,
   "metadata": {},
   "outputs": [
    {
     "name": "stdout",
     "output_type": "stream",
     "text": [
      "4999\n"
     ]
    }
   ],
   "source": [
    "unique_subject_ids = df_operations['op_id'].nunique()\n",
    "print(unique_subject_ids)"
   ]
  },
  {
   "cell_type": "code",
   "execution_count": 9,
   "metadata": {},
   "outputs": [
    {
     "name": "stdout",
     "output_type": "stream",
     "text": [
      "[491041638 478465895 441786873 429031729 497334615 460982007 418764942\n",
      " 453223487 488409369 413531114 462770885 461736396 466089671 461525535\n",
      " 440873608 430306633 421547719 417628887 461033663 424166395 490142899\n",
      " 495624028 455163743 413881633 432477934 432300282 499260044 430920662\n",
      " 426984522 473682429]\n"
     ]
    }
   ],
   "source": [
    "unique_icd10_pcs_values = df_operations['op_id'].unique()\n",
    "print(unique_icd10_pcs_values[:30])"
   ]
  },
  {
   "cell_type": "markdown",
   "metadata": {},
   "source": [
    "Subject id"
   ]
  },
  {
   "cell_type": "markdown",
   "metadata": {},
   "source": [
    "Each table can be connected using subject_id. A subject_id may be matched to one or more hadm_ids. A single hadm_id may be matched with one or more op_ids. \n",
    "We did not extract these variables except for the medical record number, which was subsequently substituted with unique random integers as the subject id (described as subject_id). Each admission and operation were randomly assigned with unique numbers (hadm_id and op_id, respectively). To allow identifiers to be easily distinguished, subject_id begin with “1”, hadm_id begin with “2”, and and op_id, respectively begin with “4”."
   ]
  },
  {
   "cell_type": "code",
   "execution_count": 10,
   "metadata": {},
   "outputs": [
    {
     "name": "stdout",
     "output_type": "stream",
     "text": [
      "5000\n"
     ]
    }
   ],
   "source": [
    "unique_subject_ids = df_operations['subject_id'].nunique()\n",
    "print(unique_subject_ids)"
   ]
  },
  {
   "cell_type": "code",
   "execution_count": 11,
   "metadata": {},
   "outputs": [
    {
     "name": "stdout",
     "output_type": "stream",
     "text": [
      "[121054734 198631209 174969512 178985173 115260075 182676977 181724298\n",
      " 186957590 196709068 121798698 146627427 170776624 110422967 165393967\n",
      " 150995715 160905993 126081346 117719117 132913626 161055594 184311510\n",
      " 180464848 132878481 125052097 170084078 159537094 197380989 137295160\n",
      " 190883278 128975148]\n"
     ]
    }
   ],
   "source": [
    "unique_subject_id = df_operations['subject_id'].unique()\n",
    "print(unique_subject_id[:30])"
   ]
  },
  {
   "cell_type": "code",
   "execution_count": 12,
   "metadata": {},
   "outputs": [
    {
     "name": "stdout",
     "output_type": "stream",
     "text": [
      "subject_id\n",
      "121054734    1\n",
      "110749981    1\n",
      "161486903    1\n",
      "172790360    1\n",
      "115393440    1\n",
      "100208784    1\n",
      "121887770    1\n",
      "161030361    1\n",
      "189457393    1\n",
      "154201651    1\n",
      "134438561    1\n",
      "154884841    1\n",
      "166682924    1\n",
      "114518270    1\n",
      "124010776    1\n",
      "113206751    1\n",
      "154266878    1\n",
      "146238253    1\n",
      "184221019    1\n",
      "100387540    1\n",
      "151081390    1\n",
      "152999148    1\n",
      "188868989    1\n",
      "170974656    1\n",
      "157334213    1\n",
      "162988455    1\n",
      "132555192    1\n",
      "129477782    1\n",
      "196554534    1\n",
      "185564004    1\n",
      "Name: count, dtype: int64\n"
     ]
    }
   ],
   "source": [
    "top_10_subject_id = df_operations['subject_id'].value_counts().head(30)\n",
    "print(top_10_subject_id)"
   ]
  },
  {
   "cell_type": "markdown",
   "metadata": {},
   "source": [
    "Hadm_id"
   ]
  },
  {
   "cell_type": "code",
   "execution_count": 13,
   "metadata": {},
   "outputs": [
    {
     "name": "stdout",
     "output_type": "stream",
     "text": [
      "4999\n"
     ]
    }
   ],
   "source": [
    "unique_hadm_id = df_operations['hadm_id'].nunique()\n",
    "print(unique_hadm_id)"
   ]
  },
  {
   "cell_type": "code",
   "execution_count": 14,
   "metadata": {},
   "outputs": [
    {
     "name": "stdout",
     "output_type": "stream",
     "text": [
      "[240194463 268397753 290765750 243778706 263160719 280870551 262576234\n",
      " 264891851 266569328 277055818 221680403 224549747 277039853 265024732\n",
      " 245971249 223960164 205960982 200555861 209382444 218878129 257816792\n",
      " 201415532 242800236 239869265 281667987 260896782 247867963 239345400\n",
      " 213864836 274944461]\n"
     ]
    }
   ],
   "source": [
    "unique_hadm_id = df_operations['hadm_id'].unique()\n",
    "print(unique_hadm_id[:30])"
   ]
  },
  {
   "cell_type": "code",
   "execution_count": 15,
   "metadata": {},
   "outputs": [
    {
     "name": "stdout",
     "output_type": "stream",
     "text": [
      "hadm_id\n",
      "299999432    2\n",
      "254309749    1\n",
      "268605387    1\n",
      "217952055    1\n",
      "231716794    1\n",
      "214422198    1\n",
      "274918375    1\n",
      "245331313    1\n",
      "239152522    1\n",
      "240194463    1\n",
      "251047553    1\n",
      "274282548    1\n",
      "216300233    1\n",
      "255507373    1\n",
      "263417380    1\n",
      "297778684    1\n",
      "216321265    1\n",
      "297366318    1\n",
      "208656540    1\n",
      "259005272    1\n",
      "245827285    1\n",
      "262098596    1\n",
      "236384952    1\n",
      "232298308    1\n",
      "232175076    1\n",
      "200811227    1\n",
      "222262020    1\n",
      "226681611    1\n",
      "299281716    1\n",
      "230411816    1\n",
      "Name: count, dtype: int64\n"
     ]
    }
   ],
   "source": [
    "top_10_hadm_id = df_operations['hadm_id'].value_counts().head(30)\n",
    "print(top_10_hadm_id)"
   ]
  },
  {
   "cell_type": "markdown",
   "metadata": {},
   "source": [
    "ICS-10-PCS"
   ]
  },
  {
   "cell_type": "markdown",
   "metadata": {},
   "source": [
    " Operation names were converted to the first four codes of ICD-10-PCS"
   ]
  },
  {
   "cell_type": "code",
   "execution_count": 16,
   "metadata": {},
   "outputs": [
    {
     "name": "stdout",
     "output_type": "stream",
     "text": [
      "868\n"
     ]
    }
   ],
   "source": [
    "unique_subject_ids = df_operations['icd10_pcs'].nunique()\n",
    "print(unique_subject_ids)"
   ]
  },
  {
   "cell_type": "code",
   "execution_count": 17,
   "metadata": {},
   "outputs": [
    {
     "name": "stdout",
     "output_type": "stream",
     "text": [
      "['08123' '0VT00' '0HBT0' '0JB00' '0W3G0' '08DJ3' '0SRD0' '09B00' '10D00'\n",
      " '0SPD0' '0H003' '08B0X' '0T0D7' '04R00' '0FB04' '03VG3' '090K0' '0FT44'\n",
      " '0JQCX' '08RJ3' '02RG0' '0DJ00' '02B64' '08R43' '02RF0' '0LX80' '0HC0X'\n",
      " '0E9RX' '0GTK0' '0MB70']\n"
     ]
    }
   ],
   "source": [
    "unique_icd10_pcs_values = df_operations['icd10_pcs'].unique()\n",
    "print(unique_icd10_pcs_values[:30])"
   ]
  },
  {
   "cell_type": "code",
   "execution_count": 18,
   "metadata": {},
   "outputs": [
    {
     "name": "stdout",
     "output_type": "stream",
     "text": [
      "icd10_pcs\n",
      "08DJ3    264\n",
      "09Q70    158\n",
      "08R43    127\n",
      "0HBT0    124\n",
      "0HBU0    116\n",
      "0GTK0    114\n",
      "0FT44    107\n",
      "10D00    104\n",
      "0DB64     79\n",
      "0TBB8     77\n",
      "08RJ3     69\n",
      "08RK3     65\n",
      "00B00     63\n",
      "09B00     59\n",
      "0DTP0     56\n",
      "0TBB7     55\n",
      "0UJD8     53\n",
      "0WJG0     51\n",
      "0WQN0     51\n",
      "0RG00     49\n",
      "0VT00     48\n",
      "009T0     48\n",
      "0UT94     45\n",
      "0HD0X     42\n",
      "0YQ50     41\n",
      "0VB08     40\n",
      "09QM0     38\n",
      "0DTP4     38\n",
      "0PB00     35\n",
      "0D160     34\n",
      "Name: count, dtype: int64\n"
     ]
    }
   ],
   "source": [
    "top_10_icd10_pcs = df_operations['icd10_pcs'].value_counts().head(30)\n",
    "print(top_10_icd10_pcs)\n"
   ]
  },
  {
   "cell_type": "code",
   "execution_count": 19,
   "metadata": {},
   "outputs": [
    {
     "name": "stderr",
     "output_type": "stream",
     "text": [
      "C:\\Users\\20181588\\AppData\\Local\\Temp\\ipykernel_32376\\2299865560.py:6: FutureWarning: \n",
      "\n",
      "Passing `palette` without assigning `hue` is deprecated and will be removed in v0.14.0. Assign the `x` variable to `hue` and set `legend=False` for the same effect.\n",
      "\n",
      "  sns.barplot(x=top_10_icd10_pcs.index, y=top_10_icd10_pcs.values, palette=\"viridis\")\n"
     ]
    },
    {
     "data": {
      "image/png": "[encoded data removed]",
      "text/plain": [
       "<Figure size 1200x800 with 1 Axes>"
      ]
     },
     "metadata": {},
     "output_type": "display_data"
    }
   ],
   "source": [
    "import matplotlib.pyplot as plt\n",
    "import seaborn as sns\n",
    "\n",
    "# Plotting the top 10 ICD-10-PCS codes\n",
    "plt.figure(figsize=(12, 8))\n",
    "sns.barplot(x=top_10_icd10_pcs.index, y=top_10_icd10_pcs.values, palette=\"viridis\")\n",
    "plt.xticks(rotation=45)\n",
    "plt.title(\"International Classification of Diseases, 10th revision, Clinical Modification (ICD-10-CM) Codes\")\n",
    "plt.ylabel(\"Number of Occurrences\")\n",
    "plt.xlabel(\"ICD-10-PCS Code\")\n",
    "plt.show()"
   ]
  },
  {
   "cell_type": "markdown",
   "metadata": {},
   "source": [
    "Department"
   ]
  },
  {
   "cell_type": "code",
   "execution_count": 20,
   "metadata": {},
   "outputs": [
    {
     "name": "stdout",
     "output_type": "stream",
     "text": [
      "14\n"
     ]
    }
   ],
   "source": [
    "unique_department = df_operations['department'].nunique()\n",
    "print(unique_department)"
   ]
  },
  {
   "cell_type": "code",
   "execution_count": 21,
   "metadata": {},
   "outputs": [
    {
     "name": "stdout",
     "output_type": "stream",
     "text": [
      "['CTS' 'NS' 'GS' 'OS' 'UR' 'OT' 'OG' 'OL' 'PED' 'PS' 'RAD' 'AN' 'IM' 'RO']\n"
     ]
    }
   ],
   "source": [
    "unique_department = df_operations['department'].unique()\n",
    "print(unique_department[:16])"
   ]
  },
  {
   "cell_type": "code",
   "execution_count": 22,
   "metadata": {},
   "outputs": [
    {
     "name": "stdout",
     "output_type": "stream",
     "text": [
      "department\n",
      "GS     1312\n",
      "OS      664\n",
      "OT      659\n",
      "OG      499\n",
      "UR      467\n",
      "OL      449\n",
      "NS      388\n",
      "CTS     331\n",
      "PS      205\n",
      "RAD      14\n",
      "IM        7\n",
      "RO        3\n",
      "PED       1\n",
      "AN        1\n",
      "Name: count, dtype: int64\n"
     ]
    }
   ],
   "source": [
    "top_10_department  = df_operations['department'].value_counts().head(16)\n",
    "print(top_10_department )"
   ]
  },
  {
   "cell_type": "markdown",
   "metadata": {},
   "source": [
    "OG: Obstetrics and Gynecology\n",
    "GS: General Surgery\n",
    "OS: Orthopedic Surgery\n",
    "OT: Occupational Therapy (though in a department context, this might mean something else)\n",
    "CTS: Cardiothoracic Surgery\n",
    "UR: Urology\n",
    "OL: Otolaryngology (Ear, Nose, and Throat or ENT)\n",
    "NS: Neurosurgery or Neurological Surgery\n",
    "PS: Plastic Surgery\n",
    "EM: Emergency Medicine\n",
    "AN: Anesthesiology\n",
    "RO: Radiation Oncology\n",
    "IM: Internal Medicine\n",
    "PED: Pediatrics\n",
    "DM:  Dhermathology\n",
    "RAD: Radiology"
   ]
  },
  {
   "cell_type": "markdown",
   "metadata": {},
   "source": [
    "Anaesthesia type"
   ]
  },
  {
   "cell_type": "code",
   "execution_count": 23,
   "metadata": {},
   "outputs": [
    {
     "name": "stdout",
     "output_type": "stream",
     "text": [
      "4\n"
     ]
    }
   ],
   "source": [
    "unique_antype = df_operations['antype'].nunique()\n",
    "print(unique_antype)"
   ]
  },
  {
   "cell_type": "code",
   "execution_count": 24,
   "metadata": {},
   "outputs": [
    {
     "name": "stdout",
     "output_type": "stream",
     "text": [
      "['MAC' 'General' 'Neuraxial' 'Regional']\n"
     ]
    }
   ],
   "source": [
    "unique_antype = df_operations['antype'].unique()\n",
    "print(unique_antype[:4])"
   ]
  },
  {
   "cell_type": "code",
   "execution_count": 25,
   "metadata": {},
   "outputs": [
    {
     "name": "stdout",
     "output_type": "stream",
     "text": [
      "antype\n",
      "General      3916\n",
      "MAC           575\n",
      "Neuraxial     498\n",
      "Regional       11\n",
      "Name: count, dtype: int64\n"
     ]
    }
   ],
   "source": [
    "top_10_antype= df_operations['antype'].value_counts().head(4)\n",
    "print(top_10_antype)"
   ]
  },
  {
   "cell_type": "markdown",
   "metadata": {},
   "source": [
    "Duration of stay time is dischage time (all tines are shown in minutes)"
   ]
  },
  {
   "cell_type": "code",
   "execution_count": 26,
   "metadata": {},
   "outputs": [
    {
     "name": "stdout",
     "output_type": "stream",
     "text": [
      "0       78618\n",
      "1       22823\n",
      "2       50604\n",
      "3       14566\n",
      "4       12504\n",
      "5        7807\n",
      "6       11375\n",
      "7       46833\n",
      "8       43996\n",
      "9       21912\n",
      "10      50894\n",
      "11     571409\n",
      "12      42348\n",
      "13    2256339\n",
      "14      17460\n",
      "Name: admission_time, dtype: int64\n"
     ]
    }
   ],
   "source": [
    "print(df_operations['admission_time'] [:15])"
   ]
  },
  {
   "cell_type": "code",
   "execution_count": 27,
   "metadata": {},
   "outputs": [
    {
     "name": "stdout",
     "output_type": "stream",
     "text": [
      "0     1530082\n",
      "1        8972\n",
      "2       24979\n",
      "3       35576\n",
      "4       52324\n",
      "5       10749\n",
      "6       16017\n",
      "7       21040\n",
      "8       39704\n",
      "9       65319\n",
      "10      35649\n",
      "11     601958\n",
      "12      31543\n",
      "13    2214091\n",
      "14       9891\n",
      "Name: discharge_time, dtype: int64\n"
     ]
    }
   ],
   "source": [
    "print(df_operations['discharge_time'] [:15])"
   ]
  },
  {
   "cell_type": "markdown",
   "metadata": {},
   "source": [
    "Duration of anesthesia"
   ]
  },
  {
   "cell_type": "code",
   "execution_count": 28,
   "metadata": {},
   "outputs": [
    {
     "name": "stdout",
     "output_type": "stream",
     "text": [
      "0     2.841679e+06\n",
      "1     1.529713e+03\n",
      "2     4.749639e+04\n",
      "3     4.470030e+04\n",
      "4     3.220559e+03\n",
      "5     4.182445e+04\n",
      "6     2.199184e+04\n",
      "7     1.978078e+04\n",
      "8     5.636172e+03\n",
      "9     2.249979e+04\n",
      "10    4.852008e+03\n",
      "11    5.776626e+05\n",
      "12    1.450709e+04\n",
      "13    1.192710e+06\n",
      "14    3.956656e+04\n",
      "Name: anstart_time, dtype: float64\n"
     ]
    }
   ],
   "source": [
    "print(df_operations['anstart_time'] [:15])"
   ]
  },
  {
   "cell_type": "code",
   "execution_count": 29,
   "metadata": {},
   "outputs": [
    {
     "name": "stdout",
     "output_type": "stream",
     "text": [
      "0     2.637132e+06\n",
      "1     3.466138e+04\n",
      "2     2.000189e+02\n",
      "3     1.457811e+04\n",
      "4     2.562154e+04\n",
      "5     2.997099e+04\n",
      "6     9.383038e+03\n",
      "7     4.223237e+04\n",
      "8     4.808857e+04\n",
      "9     2.159683e+04\n",
      "10    9.137048e+03\n",
      "11    5.709555e+05\n",
      "12    2.839456e+04\n",
      "13    1.202607e+06\n",
      "14    1.439596e+04\n",
      "Name: anend_time, dtype: float64\n"
     ]
    }
   ],
   "source": [
    "print(df_operations['anend_time'] [:15])"
   ]
  },
  {
   "cell_type": "code",
   "execution_count": 30,
   "metadata": {},
   "outputs": [
    {
     "name": "stdout",
     "output_type": "stream",
     "text": [
      "0    -204547.014383\n",
      "1      33131.670577\n",
      "2     -47296.367516\n",
      "3     -30122.192265\n",
      "4      22400.977699\n",
      "5     -11853.454147\n",
      "6     -12608.801634\n",
      "7      22451.587267\n",
      "8      42452.393211\n",
      "9       -902.958414\n",
      "10      4285.040131\n",
      "11     -6707.076275\n",
      "12     13887.475856\n",
      "13      9896.879489\n",
      "14    -25170.598406\n",
      "Name: an_duration, dtype: float64\n"
     ]
    }
   ],
   "source": [
    "df_operations['an_duration'] = df_operations['anend_time'] - df_operations['anstart_time']\n",
    "print(df_operations['an_duration'] [:15])"
   ]
  },
  {
   "cell_type": "code",
   "execution_count": 31,
   "metadata": {},
   "outputs": [
    {
     "data": {
      "text/plain": [
       "Index(['op_id', 'subject_id', 'hadm_id', 'case_id', 'opdate', 'age', 'sex',\n",
       "       'weight', 'height', 'race', 'asa', 'emop', 'department', 'antype',\n",
       "       'icd10_pcs', 'orin_time', 'orout_time', 'opstart_time', 'opend_time',\n",
       "       'admission_time', 'discharge_time', 'anstart_time', 'anend_time',\n",
       "       'cpbon_time', 'cpboff_time', 'icuin_time', 'icuout_time',\n",
       "       'inhosp_death_time', 'an_duration'],\n",
       "      dtype='object')"
      ]
     },
     "execution_count": 31,
     "metadata": {},
     "output_type": "execute_result"
    }
   ],
   "source": [
    "df_operations.columns"
   ]
  },
  {
   "cell_type": "markdown",
   "metadata": {},
   "source": [
    "Duration of operation"
   ]
  },
  {
   "cell_type": "code",
   "execution_count": 32,
   "metadata": {},
   "outputs": [
    {
     "name": "stdout",
     "output_type": "stream",
     "text": [
      "0     1.185064e+06\n",
      "1     3.989300e+04\n",
      "2     3.424141e+04\n",
      "3     3.635504e+04\n",
      "4     3.637151e+04\n",
      "5     1.033012e+04\n",
      "6     2.424295e+03\n",
      "7     4.249378e+04\n",
      "8     4.969535e+04\n",
      "9     1.045685e+04\n",
      "10    3.673861e+03\n",
      "11    5.770359e+05\n",
      "12    4.608837e+04\n",
      "13    1.240215e+06\n",
      "14    2.662765e+04\n",
      "Name: opstart_time, dtype: float64\n"
     ]
    }
   ],
   "source": [
    "print(df_operations['opstart_time'] [:15])"
   ]
  },
  {
   "cell_type": "code",
   "execution_count": 33,
   "metadata": {},
   "outputs": [
    {
     "name": "stdout",
     "output_type": "stream",
     "text": [
      "0     1.027943e+06\n",
      "1     2.819608e+04\n",
      "2     1.970609e+04\n",
      "3     1.536295e+04\n",
      "4     4.582673e+04\n",
      "5     2.312155e+04\n",
      "6     4.990251e+04\n",
      "7     4.795383e+03\n",
      "8     2.013590e+04\n",
      "9     2.040201e+04\n",
      "10    4.301653e+04\n",
      "11    5.874183e+05\n",
      "12    4.024714e+04\n",
      "13    1.793672e+06\n",
      "14    3.245279e+03\n",
      "Name: opend_time, dtype: float64\n"
     ]
    }
   ],
   "source": [
    "print(df_operations['opend_time'] [:15])"
   ]
  },
  {
   "cell_type": "code",
   "execution_count": 34,
   "metadata": {},
   "outputs": [
    {
     "name": "stdout",
     "output_type": "stream",
     "text": [
      "0    -157120.917260\n",
      "1     -11696.923621\n",
      "2     -14535.318871\n",
      "3     -20992.095067\n",
      "4       9455.217741\n",
      "5      12791.432044\n",
      "6      47478.213589\n",
      "7     -37698.402293\n",
      "8     -29559.451247\n",
      "9       9945.163482\n",
      "10     39342.671304\n",
      "11     10382.464839\n",
      "12     -5841.231840\n",
      "13    553457.671284\n",
      "14    -23382.371673\n",
      "Name: op_duration, dtype: float64\n"
     ]
    }
   ],
   "source": [
    "df_operations['op_duration'] = df_operations['opend_time'] - df_operations['opstart_time']\n",
    "print(df_operations['op_duration'] [:15])"
   ]
  },
  {
   "cell_type": "code",
   "execution_count": 35,
   "metadata": {},
   "outputs": [
    {
     "name": "stdout",
     "output_type": "stream",
     "text": [
      "[-157120.9172597   -11696.92362069  -14535.31887063 ...   41743.37522588\n",
      "  -12483.76183228   -9253.26589842]\n"
     ]
    }
   ],
   "source": [
    "unique_op_time = df_operations['op_duration'].unique()\n",
    "print(unique_op_time)"
   ]
  },
  {
   "cell_type": "code",
   "execution_count": 36,
   "metadata": {},
   "outputs": [
    {
     "name": "stdout",
     "output_type": "stream",
     "text": [
      "op_duration\n",
      "-1.571209e+05    1\n",
      "-2.493280e+04    1\n",
      "-2.676553e+06    1\n",
      "-8.831210e+03    1\n",
      "-7.655917e+03    1\n",
      "-6.791571e+03    1\n",
      " 1.285839e+04    1\n",
      "-4.916667e+04    1\n",
      "-8.026159e+03    1\n",
      "-2.556694e+04    1\n",
      "Name: count, dtype: int64\n"
     ]
    }
   ],
   "source": [
    "top_10_op_time= df_operations['op_duration'].value_counts().head(10)\n",
    "print(top_10_op_time)"
   ]
  },
  {
   "cell_type": "code",
   "execution_count": 37,
   "metadata": {},
   "outputs": [
    {
     "data": {
      "text/plain": [
       "Index(['op_id', 'subject_id', 'hadm_id', 'case_id', 'opdate', 'age', 'sex',\n",
       "       'weight', 'height', 'race', 'asa', 'emop', 'department', 'antype',\n",
       "       'icd10_pcs', 'orin_time', 'orout_time', 'opstart_time', 'opend_time',\n",
       "       'admission_time', 'discharge_time', 'anstart_time', 'anend_time',\n",
       "       'cpbon_time', 'cpboff_time', 'icuin_time', 'icuout_time',\n",
       "       'inhosp_death_time', 'an_duration', 'op_duration'],\n",
       "      dtype='object')"
      ]
     },
     "execution_count": 37,
     "metadata": {},
     "output_type": "execute_result"
    }
   ],
   "source": [
    "df_operations.columns"
   ]
  },
  {
   "cell_type": "markdown",
   "metadata": {},
   "source": [
    "Duration of Cardiopumonary bypass"
   ]
  },
  {
   "cell_type": "code",
   "execution_count": 38,
   "metadata": {},
   "outputs": [
    {
     "name": "stdout",
     "output_type": "stream",
     "text": [
      "0     2.577912e+06\n",
      "1     2.611480e+06\n",
      "2     2.595778e+06\n",
      "3     2.575863e+06\n",
      "4     2.605470e+06\n",
      "5     2.589557e+06\n",
      "6     2.577153e+06\n",
      "7     2.573456e+06\n",
      "8     2.574889e+06\n",
      "9     2.567251e+06\n",
      "10    2.567526e+06\n",
      "11    2.583756e+06\n",
      "12    2.602689e+06\n",
      "13    4.688955e+04\n",
      "14    2.611122e+06\n",
      "Name: cpbon_time, dtype: float64\n"
     ]
    }
   ],
   "source": [
    "print(df_operations['cpbon_time'] [:15])"
   ]
  },
  {
   "cell_type": "code",
   "execution_count": 39,
   "metadata": {},
   "outputs": [
    {
     "name": "stdout",
     "output_type": "stream",
     "text": [
      "[2577911.54761259 2611479.96639895 2595778.19744353 ... 2572769.67741341\n",
      " 2596276.3836676  2608410.34525889]\n"
     ]
    }
   ],
   "source": [
    "unique_cpbon_time = df_operations['cpbon_time'].unique()\n",
    "print(unique_cpbon_time)"
   ]
  },
  {
   "cell_type": "code",
   "execution_count": 40,
   "metadata": {},
   "outputs": [
    {
     "name": "stdout",
     "output_type": "stream",
     "text": [
      "0     2.593028e+06\n",
      "1     2.582872e+06\n",
      "2     2.605240e+06\n",
      "3     2.610047e+06\n",
      "4     2.586330e+06\n",
      "5     2.607487e+06\n",
      "6     2.586098e+06\n",
      "7     2.578770e+06\n",
      "8     2.600260e+06\n",
      "9     2.600126e+06\n",
      "10    2.579656e+06\n",
      "11    2.570786e+06\n",
      "12    2.596122e+06\n",
      "13    2.576255e+06\n",
      "14    2.603748e+06\n",
      "Name: cpboff_time, dtype: float64\n"
     ]
    }
   ],
   "source": [
    "print(df_operations['cpboff_time'] [:15])"
   ]
  },
  {
   "cell_type": "code",
   "execution_count": 41,
   "metadata": {},
   "outputs": [
    {
     "name": "stdout",
     "output_type": "stream",
     "text": [
      "0     1.511655e+04\n",
      "1    -2.860824e+04\n",
      "2     9.462251e+03\n",
      "3     3.418380e+04\n",
      "4    -1.914049e+04\n",
      "5     1.793010e+04\n",
      "6     8.945017e+03\n",
      "7     5.313928e+03\n",
      "8     2.537074e+04\n",
      "9     3.287488e+04\n",
      "10    1.212981e+04\n",
      "11   -1.297074e+04\n",
      "12   -6.567523e+03\n",
      "13    2.529366e+06\n",
      "14   -7.373815e+03\n",
      "Name: cpb_duration, dtype: float64\n"
     ]
    }
   ],
   "source": [
    "df_operations['cpb_duration'] = df_operations['cpboff_time'] - df_operations['cpbon_time']\n",
    "print(df_operations['cpb_duration'] [:15])"
   ]
  },
  {
   "cell_type": "code",
   "execution_count": 42,
   "metadata": {},
   "outputs": [
    {
     "name": "stdout",
     "output_type": "stream",
     "text": [
      "[   15116.55120984   -28608.23505993     9462.2513931  ...\n",
      "    41015.64343671    -8484.92474842 -2557103.17471937]\n"
     ]
    }
   ],
   "source": [
    "unique_cpb_time = df_operations['cpb_duration'].unique()\n",
    "print(unique_cpb_time)"
   ]
  },
  {
   "cell_type": "code",
   "execution_count": 43,
   "metadata": {},
   "outputs": [
    {
     "data": {
      "text/plain": [
       "Index(['op_id', 'subject_id', 'hadm_id', 'case_id', 'opdate', 'age', 'sex',\n",
       "       'weight', 'height', 'race', 'asa', 'emop', 'department', 'antype',\n",
       "       'icd10_pcs', 'orin_time', 'orout_time', 'opstart_time', 'opend_time',\n",
       "       'admission_time', 'discharge_time', 'anstart_time', 'anend_time',\n",
       "       'cpbon_time', 'cpboff_time', 'icuin_time', 'icuout_time',\n",
       "       'inhosp_death_time', 'an_duration', 'op_duration', 'cpb_duration'],\n",
       "      dtype='object')"
      ]
     },
     "execution_count": 43,
     "metadata": {},
     "output_type": "execute_result"
    }
   ],
   "source": [
    "df_operations.columns"
   ]
  },
  {
   "cell_type": "markdown",
   "metadata": {},
   "source": [
    "Duration of ICU stay"
   ]
  },
  {
   "cell_type": "code",
   "execution_count": 44,
   "metadata": {},
   "outputs": [
    {
     "name": "stdout",
     "output_type": "stream",
     "text": [
      "0     2.598174e+06\n",
      "1     2.605391e+06\n",
      "2     2.583546e+06\n",
      "3     2.591386e+06\n",
      "4     4.623223e+03\n",
      "5     2.592809e+06\n",
      "6     2.588219e+06\n",
      "7     2.570376e+06\n",
      "8     2.567892e+06\n",
      "9     2.585695e+06\n",
      "10    2.609442e+06\n",
      "11    2.601371e+06\n",
      "12    2.572442e+06\n",
      "13    2.181063e+04\n",
      "14    2.582179e+06\n",
      "Name: icuin_time, dtype: float64\n"
     ]
    }
   ],
   "source": [
    "print(df_operations['icuin_time'] [:15])"
   ]
  },
  {
   "cell_type": "code",
   "execution_count": 45,
   "metadata": {},
   "outputs": [
    {
     "name": "stdout",
     "output_type": "stream",
     "text": [
      "0     2.594544e+06\n",
      "1     2.607593e+06\n",
      "2     2.596706e+06\n",
      "3     2.585693e+06\n",
      "4     4.725974e+03\n",
      "5     2.600996e+06\n",
      "6     2.616660e+06\n",
      "7     2.616748e+06\n",
      "8     2.573189e+06\n",
      "9     2.572063e+06\n",
      "10    2.578945e+06\n",
      "11    2.618197e+06\n",
      "12    2.582810e+06\n",
      "13    3.073056e+04\n",
      "14    2.569725e+06\n",
      "Name: icuout_time, dtype: float64\n"
     ]
    }
   ],
   "source": [
    "print(df_operations['icuout_time'] [:15])"
   ]
  },
  {
   "cell_type": "code",
   "execution_count": 46,
   "metadata": {},
   "outputs": [
    {
     "name": "stdout",
     "output_type": "stream",
     "text": [
      "0     -3630.234303\n",
      "1      2201.833732\n",
      "2     13160.132137\n",
      "3     -5692.641595\n",
      "4       102.751644\n",
      "5      8186.852977\n",
      "6     28441.628314\n",
      "7     46371.820060\n",
      "8      5296.229415\n",
      "9    -13631.522354\n",
      "10   -30496.968158\n",
      "11    16826.412132\n",
      "12    10367.908773\n",
      "13     8919.924846\n",
      "14   -12454.679214\n",
      "Name: icu_duration, dtype: float64\n"
     ]
    }
   ],
   "source": [
    "df_operations['icu_duration'] = df_operations['icuout_time'] - df_operations['icuin_time']\n",
    "print(df_operations['icu_duration'] [:15])\n"
   ]
  },
  {
   "cell_type": "code",
   "execution_count": 47,
   "metadata": {},
   "outputs": [
    {
     "name": "stdout",
     "output_type": "stream",
     "text": [
      "[ -3630.2343025    2201.83373168  13160.13213692 ... -40686.19907502\n",
      "  29635.90728122  26926.71991278]\n"
     ]
    }
   ],
   "source": [
    "unique_icu_time = df_operations['icu_duration'].unique()\n",
    "print(unique_icu_time)"
   ]
  },
  {
   "cell_type": "code",
   "execution_count": 48,
   "metadata": {},
   "outputs": [
    {
     "data": {
      "text/plain": [
       "Index(['op_id', 'subject_id', 'hadm_id', 'case_id', 'opdate', 'age', 'sex',\n",
       "       'weight', 'height', 'race', 'asa', 'emop', 'department', 'antype',\n",
       "       'icd10_pcs', 'orin_time', 'orout_time', 'opstart_time', 'opend_time',\n",
       "       'admission_time', 'discharge_time', 'anstart_time', 'anend_time',\n",
       "       'cpbon_time', 'cpboff_time', 'icuin_time', 'icuout_time',\n",
       "       'inhosp_death_time', 'an_duration', 'op_duration', 'cpb_duration',\n",
       "       'icu_duration'],\n",
       "      dtype='object')"
      ]
     },
     "execution_count": 48,
     "metadata": {},
     "output_type": "execute_result"
    }
   ],
   "source": [
    "df_operations.columns"
   ]
  },
  {
   "cell_type": "markdown",
   "metadata": {},
   "source": [
    "In hospital death"
   ]
  },
  {
   "cell_type": "code",
   "execution_count": 49,
   "metadata": {},
   "outputs": [
    {
     "name": "stdout",
     "output_type": "stream",
     "text": [
      "[2326923.24940662 2325757.53494349 2326528.62665754 ... 2322018.66453749\n",
      " 2343446.32846875 2353751.74714938]\n"
     ]
    }
   ],
   "source": [
    "unique_inhosp_death_time = df_operations['inhosp_death_time'].unique()\n",
    "print(unique_inhosp_death_time)"
   ]
  },
  {
   "cell_type": "markdown",
   "metadata": {},
   "source": [
    "Correlation analysis"
   ]
  },
  {
   "cell_type": "markdown",
   "metadata": {},
   "source": [
    "Correlation values range between -1 and 1. A value close to 1 implies a strong positive correlation: as one variable increases, the other also tends to. A value close to -1 implies a strong negative correlation: as one variable increases, the other tends to decrease.\n",
    "This analysis only checks for linear relationships. Non-linear relationships won't be captured well by the correlation coefficient.\n",
    "Correlation does not imply causation. Even if two variables are correlated, it doesn't mean one causes the other."
   ]
  },
  {
   "cell_type": "code",
   "execution_count": 50,
   "metadata": {},
   "outputs": [
    {
     "name": "stdout",
     "output_type": "stream",
     "text": [
      "Correlation of operation duration with age: -0.017488151965079614\n"
     ]
    }
   ],
   "source": [
    "#Find the correlation between operation duration and age\n",
    "\n",
    "correlation_with_age = df_operations['op_duration'].corr(df_operations['age'])\n",
    "print(f\"Correlation of operation duration with age: {correlation_with_age}\")\n"
   ]
  },
  {
   "cell_type": "code",
   "execution_count": 51,
   "metadata": {},
   "outputs": [
    {
     "name": "stdout",
     "output_type": "stream",
     "text": [
      "icd10_pcs\n",
      "04C50    3.915233e+06\n",
      "0QW60    3.716010e+06\n",
      "0DH63    3.444673e+06\n",
      "0M8R0    3.328687e+06\n",
      "0RB60    2.766581e+06\n",
      "             ...     \n",
      "0WQ80   -2.803176e+06\n",
      "0UB14   -2.924491e+06\n",
      "0X6L0   -3.130810e+06\n",
      "0CB00   -4.497584e+06\n",
      "08RNX   -4.513078e+06\n",
      "Name: op_duration, Length: 868, dtype: float64\n"
     ]
    }
   ],
   "source": [
    "#'Type of surgery' is likely categorical (represented by the icd10_pcs column). Find the average operation duration for each type of surgery\n",
    "\n",
    "average_duration_per_surgery = df_operations.groupby('icd10_pcs')['op_duration'].mean().sort_values(ascending=False)\n",
    "print(average_duration_per_surgery)"
   ]
  },
  {
   "cell_type": "code",
   "execution_count": 52,
   "metadata": {},
   "outputs": [
    {
     "name": "stdout",
     "output_type": "stream",
     "text": [
      "Correlation of operation duration with post-op ICU admission: nan\n"
     ]
    },
    {
     "name": "stderr",
     "output_type": "stream",
     "text": [
      "c:\\Users\\20181588\\Desktop\\code\\phd\\Lib\\site-packages\\numpy\\lib\\function_base.py:2897: RuntimeWarning: invalid value encountered in divide\n",
      "  c /= stddev[:, None]\n",
      "c:\\Users\\20181588\\Desktop\\code\\phd\\Lib\\site-packages\\numpy\\lib\\function_base.py:2898: RuntimeWarning: invalid value encountered in divide\n",
      "  c /= stddev[None, :]\n"
     ]
    }
   ],
   "source": [
    "#Infer post-op ICU admission based on whether icuin_time is non-null. Create a binary column to indicate this and compute its correlation with operation duration.\n",
    "df_operations['icu_admission_postop'] = ~df_operations['icuin_time'].isna()\n",
    "correlation_with_icu_admission = df_operations['op_duration'].corr(df_operations['icu_admission_postop'])\n",
    "print(f\"Correlation of operation duration with post-op ICU admission: {correlation_with_icu_admission}\")\n"
   ]
  },
  {
   "cell_type": "code",
   "execution_count": 53,
   "metadata": {},
   "outputs": [
    {
     "name": "stdout",
     "output_type": "stream",
     "text": [
      "Correlation between duration of stay and deterioration: nan\n"
     ]
    },
    {
     "name": "stderr",
     "output_type": "stream",
     "text": [
      "c:\\Users\\20181588\\Desktop\\code\\phd\\Lib\\site-packages\\numpy\\lib\\function_base.py:2897: RuntimeWarning: invalid value encountered in divide\n",
      "  c /= stddev[:, None]\n",
      "c:\\Users\\20181588\\Desktop\\code\\phd\\Lib\\site-packages\\numpy\\lib\\function_base.py:2898: RuntimeWarning: invalid value encountered in divide\n",
      "  c /= stddev[None, :]\n"
     ]
    }
   ],
   "source": [
    "correlation_duration_deterioration = df_operations['discharge_time'].corr(df_operations['inhosp_death_time'].notnull().astype(int))\n",
    "print(f\"Correlation between duration of stay and deterioration: {correlation_duration_deterioration}\")"
   ]
  },
  {
   "cell_type": "code",
   "execution_count": 54,
   "metadata": {},
   "outputs": [
    {
     "name": "stdout",
     "output_type": "stream",
     "text": [
      "Correlation between ICU duration and deterioration: nan\n"
     ]
    },
    {
     "name": "stderr",
     "output_type": "stream",
     "text": [
      "c:\\Users\\20181588\\Desktop\\code\\phd\\Lib\\site-packages\\numpy\\lib\\function_base.py:2897: RuntimeWarning: invalid value encountered in divide\n",
      "  c /= stddev[:, None]\n",
      "c:\\Users\\20181588\\Desktop\\code\\phd\\Lib\\site-packages\\numpy\\lib\\function_base.py:2898: RuntimeWarning: invalid value encountered in divide\n",
      "  c /= stddev[None, :]\n"
     ]
    }
   ],
   "source": [
    "correlation_icu_deterioration = df_operations['icu_duration'].corr(df_operations['inhosp_death_time'].notnull().astype(int))\n",
    "print(f\"Correlation between ICU duration and deterioration: {correlation_icu_deterioration}\")"
   ]
  },
  {
   "cell_type": "code",
   "execution_count": 55,
   "metadata": {},
   "outputs": [
    {
     "name": "stdout",
     "output_type": "stream",
     "text": [
      "Correlation between patient's age and deterioration: nan\n"
     ]
    },
    {
     "name": "stderr",
     "output_type": "stream",
     "text": [
      "c:\\Users\\20181588\\Desktop\\code\\phd\\Lib\\site-packages\\numpy\\lib\\function_base.py:2897: RuntimeWarning: invalid value encountered in divide\n",
      "  c /= stddev[:, None]\n",
      "c:\\Users\\20181588\\Desktop\\code\\phd\\Lib\\site-packages\\numpy\\lib\\function_base.py:2898: RuntimeWarning: invalid value encountered in divide\n",
      "  c /= stddev[None, :]\n"
     ]
    }
   ],
   "source": [
    "correlation_age_deterioration = df_operations['age'].corr(df_operations['inhosp_death_time'].notnull().astype(int))\n",
    "print(f\"Correlation between patient's age and deterioration: {correlation_age_deterioration}\")"
   ]
  },
  {
   "cell_type": "code",
   "execution_count": 56,
   "metadata": {},
   "outputs": [
    {
     "name": "stdout",
     "output_type": "stream",
     "text": [
      "Correlation between anesthesia time and deterioration: nan\n"
     ]
    },
    {
     "name": "stderr",
     "output_type": "stream",
     "text": [
      "c:\\Users\\20181588\\Desktop\\code\\phd\\Lib\\site-packages\\numpy\\lib\\function_base.py:2897: RuntimeWarning: invalid value encountered in divide\n",
      "  c /= stddev[:, None]\n",
      "c:\\Users\\20181588\\Desktop\\code\\phd\\Lib\\site-packages\\numpy\\lib\\function_base.py:2898: RuntimeWarning: invalid value encountered in divide\n",
      "  c /= stddev[None, :]\n"
     ]
    }
   ],
   "source": [
    "correlation_anesthesia_deterioration = df_operations['an_duration'].corr(df_operations['inhosp_death_time'].notnull().astype(int))\n",
    "print(f\"Correlation between anesthesia time and deterioration: {correlation_anesthesia_deterioration}\")"
   ]
  },
  {
   "cell_type": "code",
   "execution_count": 57,
   "metadata": {},
   "outputs": [
    {
     "name": "stdout",
     "output_type": "stream",
     "text": [
      "department\n",
      "AN     1.0\n",
      "CTS    1.0\n",
      "GS     1.0\n",
      "IM     1.0\n",
      "NS     1.0\n",
      "OG     1.0\n",
      "OL     1.0\n",
      "OS     1.0\n",
      "OT     1.0\n",
      "PED    1.0\n",
      "PS     1.0\n",
      "RAD    1.0\n",
      "RO     1.0\n",
      "UR     1.0\n",
      "dtype: float64\n"
     ]
    }
   ],
   "source": [
    "deterioration_by_department = df_operations.groupby('department').apply(lambda x: x['inhosp_death_time'].notnull().mean())\n",
    "print(deterioration_by_department.sort_values(ascending=False))\n"
   ]
  },
  {
   "cell_type": "code",
   "execution_count": 58,
   "metadata": {},
   "outputs": [
    {
     "name": "stdout",
     "output_type": "stream",
     "text": [
      "Correlation between emergency operation and deterioration: nan\n"
     ]
    },
    {
     "name": "stderr",
     "output_type": "stream",
     "text": [
      "c:\\Users\\20181588\\Desktop\\code\\phd\\Lib\\site-packages\\numpy\\lib\\function_base.py:2897: RuntimeWarning: invalid value encountered in divide\n",
      "  c /= stddev[:, None]\n",
      "c:\\Users\\20181588\\Desktop\\code\\phd\\Lib\\site-packages\\numpy\\lib\\function_base.py:2898: RuntimeWarning: invalid value encountered in divide\n",
      "  c /= stddev[None, :]\n"
     ]
    }
   ],
   "source": [
    "correlation_emop_deterioration = df_operations['emop'].corr(df_operations['inhosp_death_time'].notnull().astype(int))\n",
    "print(f\"Correlation between emergency operation and deterioration: {correlation_emop_deterioration}\")\n"
   ]
  },
  {
   "cell_type": "code",
   "execution_count": 59,
   "metadata": {},
   "outputs": [
    {
     "name": "stdout",
     "output_type": "stream",
     "text": [
      "Correlation between weight and deterioration: nan\n",
      "Correlation between height and deterioration: nan\n"
     ]
    },
    {
     "name": "stderr",
     "output_type": "stream",
     "text": [
      "c:\\Users\\20181588\\Desktop\\code\\phd\\Lib\\site-packages\\numpy\\lib\\function_base.py:2897: RuntimeWarning: invalid value encountered in divide\n",
      "  c /= stddev[:, None]\n",
      "c:\\Users\\20181588\\Desktop\\code\\phd\\Lib\\site-packages\\numpy\\lib\\function_base.py:2898: RuntimeWarning: invalid value encountered in divide\n",
      "  c /= stddev[None, :]\n",
      "c:\\Users\\20181588\\Desktop\\code\\phd\\Lib\\site-packages\\numpy\\lib\\function_base.py:2897: RuntimeWarning: invalid value encountered in divide\n",
      "  c /= stddev[:, None]\n",
      "c:\\Users\\20181588\\Desktop\\code\\phd\\Lib\\site-packages\\numpy\\lib\\function_base.py:2898: RuntimeWarning: invalid value encountered in divide\n",
      "  c /= stddev[None, :]\n"
     ]
    }
   ],
   "source": [
    "correlation_weight_deterioration = df_operations['weight'].corr(df_operations['inhosp_death_time'].notnull().astype(int))\n",
    "correlation_height_deterioration = df_operations['height'].corr(df_operations['inhosp_death_time'].notnull().astype(int))\n",
    "print(f\"Correlation between weight and deterioration: {correlation_weight_deterioration}\")\n",
    "print(f\"Correlation between height and deterioration: {correlation_height_deterioration}\")\n"
   ]
  },
  {
   "cell_type": "code",
   "execution_count": 60,
   "metadata": {},
   "outputs": [
    {
     "name": "stdout",
     "output_type": "stream",
     "text": [
      "sex\n",
      "F    1.0\n",
      "M    1.0\n",
      "dtype: float64\n",
      "race\n",
      "Asian    1.0\n",
      "dtype: float64\n"
     ]
    }
   ],
   "source": [
    "# For categorical variables like sex and race, you might want to use groupby and calculate deterioration rates for each group\n",
    "sex_deterioration_rate = df_operations.groupby('sex').apply(lambda x: x['inhosp_death_time'].notnull().mean())\n",
    "race_deterioration_rate = df_operations.groupby('race').apply(lambda x: x['inhosp_death_time'].notnull().mean())\n",
    "print(sex_deterioration_rate)\n",
    "print(race_deterioration_rate)\n"
   ]
  },
  {
   "cell_type": "code",
   "execution_count": 61,
   "metadata": {},
   "outputs": [
    {
     "name": "stdout",
     "output_type": "stream",
     "text": [
      "Correlation between ASA score and deterioration: nan\n"
     ]
    },
    {
     "name": "stderr",
     "output_type": "stream",
     "text": [
      "c:\\Users\\20181588\\Desktop\\code\\phd\\Lib\\site-packages\\numpy\\lib\\function_base.py:2897: RuntimeWarning: invalid value encountered in divide\n",
      "  c /= stddev[:, None]\n",
      "c:\\Users\\20181588\\Desktop\\code\\phd\\Lib\\site-packages\\numpy\\lib\\function_base.py:2898: RuntimeWarning: invalid value encountered in divide\n",
      "  c /= stddev[None, :]\n"
     ]
    }
   ],
   "source": [
    "correlation_asa_deterioration = df_operations['asa'].corr(df_operations['inhosp_death_time'].notnull().astype(int))\n",
    "print(f\"Correlation between ASA score and deterioration: {correlation_asa_deterioration}\")\n"
   ]
  },
  {
   "cell_type": "code",
   "execution_count": 62,
   "metadata": {},
   "outputs": [
    {
     "name": "stdout",
     "output_type": "stream",
     "text": [
      "icd10_pcs\n",
      "00100    1.0\n",
      "0QHF0    1.0\n",
      "0QB77    1.0\n",
      "0QB7X    1.0\n",
      "0QB90    1.0\n",
      "0QBM0    1.0\n",
      "0QD60    1.0\n",
      "0QD70    1.0\n",
      "0QG00    1.0\n",
      "0QGG0    1.0\n",
      "0QH60    1.0\n",
      "0QH6X    1.0\n",
      "0QH73    1.0\n",
      "0QHG0    1.0\n",
      "0PHV3    1.0\n",
      "0QHH0    1.0\n",
      "0QHN0    1.0\n",
      "0QJ70    1.0\n",
      "0QN60    1.0\n",
      "0QN70    1.0\n",
      "0QNH0    1.0\n",
      "0QP80    1.0\n",
      "0QPH0    1.0\n",
      "0QPM0    1.0\n",
      "0QQ60    1.0\n",
      "0QQ70    1.0\n",
      "0Q9H0    1.0\n",
      "0Q9C0    1.0\n",
      "0Q8N0    1.0\n",
      "0PU00    1.0\n",
      "dtype: float64\n"
     ]
    }
   ],
   "source": [
    "#Certain surgical procedures might have higher risks associated with them.\n",
    "procedure_deterioration_rate = df_operations.groupby('icd10_pcs').apply(lambda x: x['inhosp_death_time'].notnull().mean())\n",
    "print(procedure_deterioration_rate.sort_values(ascending=False).head(30))\n"
   ]
  },
  {
   "cell_type": "code",
   "execution_count": 63,
   "metadata": {},
   "outputs": [
    {
     "name": "stderr",
     "output_type": "stream",
     "text": [
      "c:\\Users\\20181588\\Desktop\\code\\phd\\Lib\\site-packages\\numpy\\lib\\function_base.py:2897: RuntimeWarning: invalid value encountered in divide\n",
      "  c /= stddev[:, None]\n"
     ]
    },
    {
     "name": "stdout",
     "output_type": "stream",
     "text": [
      "Correlation between time to ICU post-operation and deterioration: nan\n"
     ]
    },
    {
     "name": "stderr",
     "output_type": "stream",
     "text": [
      "c:\\Users\\20181588\\Desktop\\code\\phd\\Lib\\site-packages\\numpy\\lib\\function_base.py:2898: RuntimeWarning: invalid value encountered in divide\n",
      "  c /= stddev[None, :]\n"
     ]
    }
   ],
   "source": [
    "df_operations['time_to_icu_postop'] = df_operations['icuin_time'] - df_operations['opend_time']\n",
    "correlation_time_to_icu_deterioration = df_operations['time_to_icu_postop'].corr(df_operations['inhosp_death_time'].notnull().astype(int))\n",
    "print(f\"Correlation between time to ICU post-operation and deterioration: {correlation_time_to_icu_deterioration}\")\n"
   ]
  },
  {
   "cell_type": "code",
   "execution_count": 64,
   "metadata": {},
   "outputs": [
    {
     "name": "stdout",
     "output_type": "stream",
     "text": [
      "Correlation between ICU stay duration and deterioration: nan\n"
     ]
    },
    {
     "name": "stderr",
     "output_type": "stream",
     "text": [
      "c:\\Users\\20181588\\Desktop\\code\\phd\\Lib\\site-packages\\numpy\\lib\\function_base.py:2897: RuntimeWarning: invalid value encountered in divide\n",
      "  c /= stddev[:, None]\n",
      "c:\\Users\\20181588\\Desktop\\code\\phd\\Lib\\site-packages\\numpy\\lib\\function_base.py:2898: RuntimeWarning: invalid value encountered in divide\n",
      "  c /= stddev[None, :]\n"
     ]
    }
   ],
   "source": [
    "\n",
    "correlation_icu_stay_deterioration = df_operations['icu_duration'].corr(df_operations['inhosp_death_time'].notnull().astype(int))\n",
    "print(f\"Correlation between ICU stay duration and deterioration: {correlation_icu_stay_deterioration}\")\n"
   ]
  },
  {
   "cell_type": "code",
   "execution_count": 65,
   "metadata": {},
   "outputs": [
    {
     "name": "stdout",
     "output_type": "stream",
     "text": [
      "department\n",
      "AN     1.0\n",
      "CTS    1.0\n",
      "GS     1.0\n",
      "IM     1.0\n",
      "NS     1.0\n",
      "OG     1.0\n",
      "OL     1.0\n",
      "OS     1.0\n",
      "OT     1.0\n",
      "PED    1.0\n",
      "PS     1.0\n",
      "RAD    1.0\n",
      "RO     1.0\n",
      "UR     1.0\n",
      "dtype: float64\n"
     ]
    }
   ],
   "source": [
    "department_deterioration_rate = df_operations.groupby('department').apply(lambda x: x['inhosp_death_time'].notnull().mean())\n",
    "print(department_deterioration_rate.sort_values(ascending=False))\n"
   ]
  },
  {
   "cell_type": "code",
   "execution_count": 66,
   "metadata": {},
   "outputs": [
    {
     "name": "stdout",
     "output_type": "stream",
     "text": [
      "antype\n",
      "General      1.0\n",
      "MAC          1.0\n",
      "Neuraxial    1.0\n",
      "Regional     1.0\n",
      "dtype: float64\n"
     ]
    }
   ],
   "source": [
    "antype_deterioration_rate = df_operations.groupby('antype').apply(lambda x: x['inhosp_death_time'].notnull().mean())\n",
    "print(antype_deterioration_rate.sort_values(ascending=False))\n"
   ]
  },
  {
   "cell_type": "code",
   "execution_count": 69,
   "metadata": {},
   "outputs": [
    {
     "name": "stdout",
     "output_type": "stream",
     "text": [
      "Operation start time(s) for subject_id 198631209: [39893.00186626]\n",
      "Operation end time(s) for subject_id 198631209: [28196.07824557]\n",
      "ICU admission time(s) for subject_id 198631209: [2605391.32908894]\n",
      "ICU discharge time(s) for subject_id 198631209: [2607593.16282061]\n",
      "Discharge time(s) for subject_id 198631209: [22823]\n",
      "Hospital death time(s) for subject_id 198631209: [2325757.53494349]\n",
      "Department(s) for subject_id 198631209: ['NS']\n",
      "ICD-10-PCS code(s) for subject_id 198631209: ['0VT00']\n",
      "Anesthesia start time(s) for subject_id 198631209: [1529.7129788]\n",
      "Anesthesia end time(s) for subject_id 198631209: [34661.38355595]\n"
     ]
    }
   ],
   "source": [
    "import pandas as pd\n",
    "\n",
    "# Assuming df is your DataFrame with the INSPIRE dataset\n",
    "# And the function is being passed the dataframe and a subject_id to look for\n",
    "def print_patient_operation_details(df, subject_id):\n",
    "    # Filter the DataFrame for the given subject_id\n",
    "    patient_data = df[df['subject_id'] == subject_id]\n",
    "    \n",
    "    # Extracting the relevant information\n",
    "    operation_begin = patient_data['opstart_time'].dropna()\n",
    "    operation_end = patient_data['opend_time'].dropna()\n",
    "    icu_in = patient_data['icuin_time'].dropna()\n",
    "    icu_out = patient_data['icuout_time'].dropna()\n",
    "    discharge_time = patient_data['admission_time'].dropna() # Verify if 'admission_time' is correct for discharge time\n",
    "    death_time = patient_data['inhosp_death_time'].dropna() # Verify if 'inhosp_death_time' is correct for hospital death time\n",
    "    department_info = patient_data['department'].dropna()\n",
    "    icd10_pcs_codes = patient_data['icd10_pcs'].dropna()\n",
    "    anesthesia_start = patient_data['anstart_time'].dropna() # Assuming 'anestart_time' is the column for anesthesia start time\n",
    "    anesthesia_end = patient_data['anend_time'].dropna() # Assuming 'aneend_time' is the column for anesthesia end time\n",
    "    \n",
    "    # Print the details\n",
    "    if not operation_begin.empty:\n",
    "        print(f\"Operation start time(s) for subject_id {subject_id}: {operation_begin.values}\")\n",
    "    else:\n",
    "        print(f\"No operation start time found for subject_id {subject_id}\")\n",
    "    \n",
    "    if not operation_end.empty:\n",
    "        print(f\"Operation end time(s) for subject_id {subject_id}: {operation_end.values}\")\n",
    "    else:\n",
    "        print(f\"No operation end time found for subject_id {subject_id}\")\n",
    "    \n",
    "    if not icu_in.empty:\n",
    "        print(f\"ICU admission time(s) for subject_id {subject_id}: {icu_in.values}\")\n",
    "    else:\n",
    "        print(f\"No ICU admission time found for subject_id {subject_id}\")\n",
    "    \n",
    "    if not icu_out.empty:\n",
    "        print(f\"ICU discharge time(s) for subject_id {subject_id}: {icu_out.values}\")\n",
    "    else:\n",
    "        print(f\"No ICU discharge time found for subject_id {subject_id}\")\n",
    "    \n",
    "    if not discharge_time.empty:\n",
    "        print(f\"Discharge time(s) for subject_id {subject_id}: {discharge_time.values}\")\n",
    "    else:\n",
    "        print(f\"No discharge time found for subject_id {subject_id}\")\n",
    "    \n",
    "    if not death_time.empty:\n",
    "        print(f\"Hospital death time(s) for subject_id {subject_id}: {death_time.values}\")\n",
    "    else:\n",
    "        print(f\"No hospital death time found for subject_id {subject_id}\")\n",
    "    \n",
    "    if not department_info.empty:\n",
    "        print(f\"Department(s) for subject_id {subject_id}: {department_info.values}\")\n",
    "    else:\n",
    "        print(f\"No department information found for subject_id {subject_id}\")\n",
    "    \n",
    "    if not icd10_pcs_codes.empty:\n",
    "        print(f\"ICD-10-PCS code(s) for subject_id {subject_id}: {icd10_pcs_codes.values}\")\n",
    "    else:\n",
    "        print(f\"No ICD-10-PCS codes found for subject_id {subject_id}\")\n",
    "    \n",
    "    if not anesthesia_start.empty:\n",
    "        print(f\"Anesthesia start time(s) for subject_id {subject_id}: {anesthesia_start.values}\")\n",
    "    else:\n",
    "        print(f\"No anesthesia start time found for subject_id {subject_id}\")\n",
    "    \n",
    "    if not anesthesia_end.empty: \n",
    "        print(f\"Anesthesia end time(s) for subject_id {subject_id}: {anesthesia_end.values}\")\n",
    "    else:\n",
    "        print(f\"No anesthesia end time found for subject_id {subject_id}\")\n",
    "\n",
    "# Example usage:\n",
    "# Replace 'your_dataframe' with the variable name of your actual DataFrame\n",
    "print_patient_operation_details(df=df_operations, subject_id=198631209)\n"
   ]
  },
  {
   "cell_type": "markdown",
   "metadata": {},
   "source": [
    "[121054734 198631209 174969512 178985173 115260075 182676977 181724298\n",
    " 186957590 196709068 121798698 146627427 170776624 110422967 165393967\n",
    " 150995715 160905993 126081346 117719117 132913626 161055594 184311510\n",
    " 180464848 132878481 125052097 170084078 159537094 197380989 137295160\n",
    " 190883278 128975148]"
   ]
  }
 ],
 "metadata": {
  "kernelspec": {
   "display_name": "phd",
   "language": "python",
   "name": "python3"
  },
  "language_info": {
   "codemirror_mode": {
    "name": "ipython",
    "version": 3
   },
   "file_extension": ".py",
   "mimetype": "text/x-python",
   "name": "python",
   "nbconvert_exporter": "python",
   "pygments_lexer": "ipython3",
   "version": "3.11.7"
  }
 },
 "nbformat": 4,
 "nbformat_minor": 2
}
