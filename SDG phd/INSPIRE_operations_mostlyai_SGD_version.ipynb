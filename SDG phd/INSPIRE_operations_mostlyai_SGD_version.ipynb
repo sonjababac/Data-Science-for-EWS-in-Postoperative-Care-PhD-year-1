{
 "cells": [
  {
   "cell_type": "markdown",
   "metadata": {},
   "source": [
    "<h1 style=\"font-size:36px;\">Data exploration of synthetic data generated from INSPIRE, a publicly available research dataset for perioperative medicine</h1>\n",
    "\n",
    "<h2 style=\"font-size:20px;\">In this script data exploration and analysis of \"operations_mostlyai.csv\"  which is essentailly a synthetic version of original \"operations.csv\" from INSPIRE is shown</h2>\n",
    "\n",
    "link to mostly.ai: https://synthetic.mostly.ai/d/jobs \n",
    "\n",
    "link to INSPIRE dataset: https://physionet.org/content/inspire/0.1/\n",
    "\n",
    "A full list of the ICD-10-CM codes and the description can be found on the Centers for Disease Control and Prevention (CDC) website \n",
    "https://ftp.cdc.gov/pub/Health_Statistics/NCHS/Publications/ICD10CM/April-1-2023-Update/icd10cm-code%20descriptions-%20April%201%202023.zip."
   ]
  },
  {
   "cell_type": "code",
   "execution_count": 1,
   "metadata": {},
   "outputs": [
    {
     "name": "stdout",
     "output_type": "stream",
     "text": [
      "Libraries Imported\n"
     ]
    }
   ],
   "source": [
    "import numpy as np\n",
    "import pandas as pd\n",
    "import matplotlib.pyplot as plt\n",
    "import seaborn as sns\n",
    "from sklearn import datasets  # Example, importing datasets module\n",
    "import tensorflow as tf\n",
    "import torch\n",
    "import keras\n",
    "import scipy\n",
    "import statsmodels\n",
    "\n",
    "print(\"Libraries Imported\")"
   ]
  },
  {
   "cell_type": "code",
   "execution_count": 2,
   "metadata": {},
   "outputs": [],
   "source": [
    "df_sgd_operations_original = pd.read_csv('C:\\\\Users\\\\20181588\\\\Desktop\\\\data\\\\operations_mostlyai_a4cd19-synthetic-CSV - Synthetic Data by MOSTLY AI\\\\operations_mostlyai\\\\operations_mostlyai.csv')"
   ]
  },
  {
   "cell_type": "code",
   "execution_count": 3,
   "metadata": {},
   "outputs": [],
   "source": [
    "df_operations = df_sgd_operations_original.copy()"
   ]
  },
  {
   "cell_type": "code",
   "execution_count": 4,
   "metadata": {},
   "outputs": [
    {
     "data": {
      "text/html": [
       "<div>\n",
       "<style scoped>\n",
       "    .dataframe tbody tr th:only-of-type {\n",
       "        vertical-align: middle;\n",
       "    }\n",
       "\n",
       "    .dataframe tbody tr th {\n",
       "        vertical-align: top;\n",
       "    }\n",
       "\n",
       "    .dataframe thead th {\n",
       "        text-align: right;\n",
       "    }\n",
       "</style>\n",
       "<table border=\"1\" class=\"dataframe\">\n",
       "  <thead>\n",
       "    <tr style=\"text-align: right;\">\n",
       "      <th></th>\n",
       "      <th>op_id</th>\n",
       "      <th>subject_id</th>\n",
       "      <th>hadm_id</th>\n",
       "      <th>case_id</th>\n",
       "      <th>opdate</th>\n",
       "      <th>age</th>\n",
       "      <th>sex</th>\n",
       "      <th>weight</th>\n",
       "      <th>height</th>\n",
       "      <th>race</th>\n",
       "      <th>...</th>\n",
       "      <th>opend_time</th>\n",
       "      <th>admission_time</th>\n",
       "      <th>discharge_time</th>\n",
       "      <th>anstart_time</th>\n",
       "      <th>anend_time</th>\n",
       "      <th>cpbon_time</th>\n",
       "      <th>cpboff_time</th>\n",
       "      <th>icuin_time</th>\n",
       "      <th>icuout_time</th>\n",
       "      <th>inhosp_death_time</th>\n",
       "    </tr>\n",
       "  </thead>\n",
       "  <tbody>\n",
       "    <tr>\n",
       "      <th>0</th>\n",
       "      <td>475566718</td>\n",
       "      <td>171577851</td>\n",
       "      <td>241843976</td>\n",
       "      <td>NaN</td>\n",
       "      <td>11020</td>\n",
       "      <td>75</td>\n",
       "      <td>M</td>\n",
       "      <td>65.0</td>\n",
       "      <td>175.0</td>\n",
       "      <td>Asian</td>\n",
       "      <td>...</td>\n",
       "      <td>10679</td>\n",
       "      <td>14310</td>\n",
       "      <td>12573</td>\n",
       "      <td>9975.0</td>\n",
       "      <td>9670.0</td>\n",
       "      <td>NaN</td>\n",
       "      <td>NaN</td>\n",
       "      <td>NaN</td>\n",
       "      <td>NaN</td>\n",
       "      <td>NaN</td>\n",
       "    </tr>\n",
       "    <tr>\n",
       "      <th>1</th>\n",
       "      <td>484647286</td>\n",
       "      <td>199842522</td>\n",
       "      <td>234339534</td>\n",
       "      <td>4929.0</td>\n",
       "      <td>3520</td>\n",
       "      <td>55</td>\n",
       "      <td>F</td>\n",
       "      <td>68.0</td>\n",
       "      <td>169.0</td>\n",
       "      <td>Asian</td>\n",
       "      <td>...</td>\n",
       "      <td>3811</td>\n",
       "      <td>0</td>\n",
       "      <td>9489</td>\n",
       "      <td>3588.0</td>\n",
       "      <td>3835.0</td>\n",
       "      <td>NaN</td>\n",
       "      <td>NaN</td>\n",
       "      <td>3836.0</td>\n",
       "      <td>5154.0</td>\n",
       "      <td>NaN</td>\n",
       "    </tr>\n",
       "    <tr>\n",
       "      <th>2</th>\n",
       "      <td>444866901</td>\n",
       "      <td>157372538</td>\n",
       "      <td>253734319</td>\n",
       "      <td>NaN</td>\n",
       "      <td>4620</td>\n",
       "      <td>70</td>\n",
       "      <td>M</td>\n",
       "      <td>71.0</td>\n",
       "      <td>173.0</td>\n",
       "      <td>Asian</td>\n",
       "      <td>...</td>\n",
       "      <td>5164</td>\n",
       "      <td>0</td>\n",
       "      <td>10482</td>\n",
       "      <td>5009.0</td>\n",
       "      <td>5196.0</td>\n",
       "      <td>NaN</td>\n",
       "      <td>NaN</td>\n",
       "      <td>NaN</td>\n",
       "      <td>NaN</td>\n",
       "      <td>NaN</td>\n",
       "    </tr>\n",
       "    <tr>\n",
       "      <th>3</th>\n",
       "      <td>445758955</td>\n",
       "      <td>138629067</td>\n",
       "      <td>244624747</td>\n",
       "      <td>NaN</td>\n",
       "      <td>2830</td>\n",
       "      <td>50</td>\n",
       "      <td>F</td>\n",
       "      <td>56.0</td>\n",
       "      <td>159.0</td>\n",
       "      <td>Asian</td>\n",
       "      <td>...</td>\n",
       "      <td>2102</td>\n",
       "      <td>0</td>\n",
       "      <td>5627</td>\n",
       "      <td>2073.0</td>\n",
       "      <td>2107.0</td>\n",
       "      <td>NaN</td>\n",
       "      <td>NaN</td>\n",
       "      <td>NaN</td>\n",
       "      <td>NaN</td>\n",
       "      <td>NaN</td>\n",
       "    </tr>\n",
       "    <tr>\n",
       "      <th>4</th>\n",
       "      <td>445865239</td>\n",
       "      <td>114308752</td>\n",
       "      <td>201252994</td>\n",
       "      <td>NaN</td>\n",
       "      <td>2850</td>\n",
       "      <td>55</td>\n",
       "      <td>F</td>\n",
       "      <td>73.0</td>\n",
       "      <td>158.0</td>\n",
       "      <td>Asian</td>\n",
       "      <td>...</td>\n",
       "      <td>2604</td>\n",
       "      <td>0</td>\n",
       "      <td>7595</td>\n",
       "      <td>2457.0</td>\n",
       "      <td>2579.0</td>\n",
       "      <td>NaN</td>\n",
       "      <td>NaN</td>\n",
       "      <td>NaN</td>\n",
       "      <td>NaN</td>\n",
       "      <td>NaN</td>\n",
       "    </tr>\n",
       "  </tbody>\n",
       "</table>\n",
       "<p>5 rows × 28 columns</p>\n",
       "</div>"
      ],
      "text/plain": [
       "       op_id  subject_id    hadm_id  case_id  opdate  age sex  weight  height  \\\n",
       "0  475566718   171577851  241843976      NaN   11020   75   M    65.0   175.0   \n",
       "1  484647286   199842522  234339534   4929.0    3520   55   F    68.0   169.0   \n",
       "2  444866901   157372538  253734319      NaN    4620   70   M    71.0   173.0   \n",
       "3  445758955   138629067  244624747      NaN    2830   50   F    56.0   159.0   \n",
       "4  445865239   114308752  201252994      NaN    2850   55   F    73.0   158.0   \n",
       "\n",
       "    race  ...  opend_time  admission_time discharge_time anstart_time  \\\n",
       "0  Asian  ...       10679           14310          12573       9975.0   \n",
       "1  Asian  ...        3811               0           9489       3588.0   \n",
       "2  Asian  ...        5164               0          10482       5009.0   \n",
       "3  Asian  ...        2102               0           5627       2073.0   \n",
       "4  Asian  ...        2604               0           7595       2457.0   \n",
       "\n",
       "  anend_time  cpbon_time  cpboff_time  icuin_time  icuout_time  \\\n",
       "0     9670.0         NaN          NaN         NaN          NaN   \n",
       "1     3835.0         NaN          NaN      3836.0       5154.0   \n",
       "2     5196.0         NaN          NaN         NaN          NaN   \n",
       "3     2107.0         NaN          NaN         NaN          NaN   \n",
       "4     2579.0         NaN          NaN         NaN          NaN   \n",
       "\n",
       "   inhosp_death_time  \n",
       "0                NaN  \n",
       "1                NaN  \n",
       "2                NaN  \n",
       "3                NaN  \n",
       "4                NaN  \n",
       "\n",
       "[5 rows x 28 columns]"
      ]
     },
     "execution_count": 4,
     "metadata": {},
     "output_type": "execute_result"
    }
   ],
   "source": [
    "df_operations.head()"
   ]
  },
  {
   "cell_type": "code",
   "execution_count": 5,
   "metadata": {},
   "outputs": [
    {
     "name": "stdout",
     "output_type": "stream",
     "text": [
      "<class 'pandas.core.frame.DataFrame'>\n",
      "RangeIndex: 131109 entries, 0 to 131108\n",
      "Data columns (total 28 columns):\n",
      " #   Column             Non-Null Count   Dtype  \n",
      "---  ------             --------------   -----  \n",
      " 0   op_id              131109 non-null  int64  \n",
      " 1   subject_id         131109 non-null  int64  \n",
      " 2   hadm_id            131109 non-null  int64  \n",
      " 3   case_id            20311 non-null   float64\n",
      " 4   opdate             131109 non-null  int64  \n",
      " 5   age                131109 non-null  int64  \n",
      " 6   sex                131109 non-null  object \n",
      " 7   weight             129575 non-null  float64\n",
      " 8   height             130330 non-null  float64\n",
      " 9   race               131109 non-null  object \n",
      " 10  asa                127141 non-null  float64\n",
      " 11  emop               131109 non-null  int64  \n",
      " 12  department         131109 non-null  object \n",
      " 13  antype             131109 non-null  object \n",
      " 14  icd10_pcs          131109 non-null  object \n",
      " 15  orin_time          131109 non-null  int64  \n",
      " 16  orout_time         131109 non-null  int64  \n",
      " 17  opstart_time       131109 non-null  int64  \n",
      " 18  opend_time         131109 non-null  int64  \n",
      " 19  admission_time     131109 non-null  int64  \n",
      " 20  discharge_time     131109 non-null  int64  \n",
      " 21  anstart_time       131108 non-null  float64\n",
      " 22  anend_time         131041 non-null  float64\n",
      " 23  cpbon_time         2635 non-null    float64\n",
      " 24  cpboff_time        2633 non-null    float64\n",
      " 25  icuin_time         17105 non-null   float64\n",
      " 26  icuout_time        17096 non-null   float64\n",
      " 27  inhosp_death_time  1312 non-null    float64\n",
      "dtypes: float64(11), int64(12), object(5)\n",
      "memory usage: 28.0+ MB\n"
     ]
    }
   ],
   "source": [
    "df_operations.info()"
   ]
  },
  {
   "cell_type": "code",
   "execution_count": 6,
   "metadata": {},
   "outputs": [
    {
     "data": {
      "text/plain": [
       "Index(['op_id', 'subject_id', 'hadm_id', 'case_id', 'opdate', 'age', 'sex',\n",
       "       'weight', 'height', 'race', 'asa', 'emop', 'department', 'antype',\n",
       "       'icd10_pcs', 'orin_time', 'orout_time', 'opstart_time', 'opend_time',\n",
       "       'admission_time', 'discharge_time', 'anstart_time', 'anend_time',\n",
       "       'cpbon_time', 'cpboff_time', 'icuin_time', 'icuout_time',\n",
       "       'inhosp_death_time'],\n",
       "      dtype='object')"
      ]
     },
     "execution_count": 6,
     "metadata": {},
     "output_type": "execute_result"
    }
   ],
   "source": [
    "df_operations.columns"
   ]
  },
  {
   "cell_type": "code",
   "execution_count": 7,
   "metadata": {},
   "outputs": [
    {
     "data": {
      "text/html": [
       "<div>\n",
       "<style scoped>\n",
       "    .dataframe tbody tr th:only-of-type {\n",
       "        vertical-align: middle;\n",
       "    }\n",
       "\n",
       "    .dataframe tbody tr th {\n",
       "        vertical-align: top;\n",
       "    }\n",
       "\n",
       "    .dataframe thead th {\n",
       "        text-align: right;\n",
       "    }\n",
       "</style>\n",
       "<table border=\"1\" class=\"dataframe\">\n",
       "  <thead>\n",
       "    <tr style=\"text-align: right;\">\n",
       "      <th></th>\n",
       "      <th>op_id</th>\n",
       "      <th>subject_id</th>\n",
       "      <th>hadm_id</th>\n",
       "      <th>case_id</th>\n",
       "      <th>opdate</th>\n",
       "      <th>age</th>\n",
       "      <th>weight</th>\n",
       "      <th>height</th>\n",
       "      <th>asa</th>\n",
       "      <th>emop</th>\n",
       "      <th>...</th>\n",
       "      <th>opend_time</th>\n",
       "      <th>admission_time</th>\n",
       "      <th>discharge_time</th>\n",
       "      <th>anstart_time</th>\n",
       "      <th>anend_time</th>\n",
       "      <th>cpbon_time</th>\n",
       "      <th>cpboff_time</th>\n",
       "      <th>icuin_time</th>\n",
       "      <th>icuout_time</th>\n",
       "      <th>inhosp_death_time</th>\n",
       "    </tr>\n",
       "  </thead>\n",
       "  <tbody>\n",
       "    <tr>\n",
       "      <th>count</th>\n",
       "      <td>1.311090e+05</td>\n",
       "      <td>1.311090e+05</td>\n",
       "      <td>1.311090e+05</td>\n",
       "      <td>20311.000000</td>\n",
       "      <td>1.311090e+05</td>\n",
       "      <td>131109.000000</td>\n",
       "      <td>129575.000000</td>\n",
       "      <td>130330.000000</td>\n",
       "      <td>127141.000000</td>\n",
       "      <td>131109.000000</td>\n",
       "      <td>...</td>\n",
       "      <td>1.311090e+05</td>\n",
       "      <td>1.311090e+05</td>\n",
       "      <td>1.311090e+05</td>\n",
       "      <td>1.311080e+05</td>\n",
       "      <td>1.310410e+05</td>\n",
       "      <td>2.635000e+03</td>\n",
       "      <td>2.633000e+03</td>\n",
       "      <td>1.710500e+04</td>\n",
       "      <td>1.709600e+04</td>\n",
       "      <td>1.312000e+03</td>\n",
       "    </tr>\n",
       "    <tr>\n",
       "      <th>mean</th>\n",
       "      <td>4.502004e+08</td>\n",
       "      <td>1.501893e+08</td>\n",
       "      <td>2.500417e+08</td>\n",
       "      <td>2447.888681</td>\n",
       "      <td>2.364801e+05</td>\n",
       "      <td>55.650260</td>\n",
       "      <td>62.819201</td>\n",
       "      <td>162.520502</td>\n",
       "      <td>1.771089</td>\n",
       "      <td>0.093182</td>\n",
       "      <td>...</td>\n",
       "      <td>2.392154e+05</td>\n",
       "      <td>2.330286e+05</td>\n",
       "      <td>2.479141e+05</td>\n",
       "      <td>2.388943e+05</td>\n",
       "      <td>2.389559e+05</td>\n",
       "      <td>2.173970e+05</td>\n",
       "      <td>2.182593e+05</td>\n",
       "      <td>2.371402e+05</td>\n",
       "      <td>2.417418e+05</td>\n",
       "      <td>8.653029e+05</td>\n",
       "    </tr>\n",
       "    <tr>\n",
       "      <th>std</th>\n",
       "      <td>2.890589e+07</td>\n",
       "      <td>2.887928e+07</td>\n",
       "      <td>2.881581e+07</td>\n",
       "      <td>20971.441338</td>\n",
       "      <td>6.807004e+05</td>\n",
       "      <td>16.206132</td>\n",
       "      <td>12.389208</td>\n",
       "      <td>27.109188</td>\n",
       "      <td>0.638974</td>\n",
       "      <td>0.290688</td>\n",
       "      <td>...</td>\n",
       "      <td>6.936495e+05</td>\n",
       "      <td>6.818562e+05</td>\n",
       "      <td>6.851572e+05</td>\n",
       "      <td>6.934444e+05</td>\n",
       "      <td>6.926712e+05</td>\n",
       "      <td>7.166954e+05</td>\n",
       "      <td>7.180792e+05</td>\n",
       "      <td>6.937616e+05</td>\n",
       "      <td>6.960523e+05</td>\n",
       "      <td>1.123870e+06</td>\n",
       "    </tr>\n",
       "    <tr>\n",
       "      <th>min</th>\n",
       "      <td>4.000040e+08</td>\n",
       "      <td>1.000023e+08</td>\n",
       "      <td>2.000068e+08</td>\n",
       "      <td>-32750.000000</td>\n",
       "      <td>0.000000e+00</td>\n",
       "      <td>20.000000</td>\n",
       "      <td>-1.000000</td>\n",
       "      <td>3.000000</td>\n",
       "      <td>1.000000</td>\n",
       "      <td>0.000000</td>\n",
       "      <td>...</td>\n",
       "      <td>1.150000e+02</td>\n",
       "      <td>0.000000e+00</td>\n",
       "      <td>1.435000e+03</td>\n",
       "      <td>1.500000e+01</td>\n",
       "      <td>1.050000e+02</td>\n",
       "      <td>7.950000e+02</td>\n",
       "      <td>9.650000e+02</td>\n",
       "      <td>4.300000e+01</td>\n",
       "      <td>8.370000e+02</td>\n",
       "      <td>1.414000e+03</td>\n",
       "    </tr>\n",
       "    <tr>\n",
       "      <th>25%</th>\n",
       "      <td>4.251196e+08</td>\n",
       "      <td>1.252255e+08</td>\n",
       "      <td>2.250865e+08</td>\n",
       "      <td>-19881.500000</td>\n",
       "      <td>2.070000e+03</td>\n",
       "      <td>45.000000</td>\n",
       "      <td>54.000000</td>\n",
       "      <td>156.000000</td>\n",
       "      <td>1.000000</td>\n",
       "      <td>0.000000</td>\n",
       "      <td>...</td>\n",
       "      <td>2.221000e+03</td>\n",
       "      <td>0.000000e+00</td>\n",
       "      <td>6.653000e+03</td>\n",
       "      <td>2.090000e+03</td>\n",
       "      <td>2.226000e+03</td>\n",
       "      <td>4.893000e+03</td>\n",
       "      <td>5.050000e+03</td>\n",
       "      <td>3.363000e+03</td>\n",
       "      <td>5.092000e+03</td>\n",
       "      <td>7.864575e+04</td>\n",
       "    </tr>\n",
       "    <tr>\n",
       "      <th>50%</th>\n",
       "      <td>4.503200e+08</td>\n",
       "      <td>1.503283e+08</td>\n",
       "      <td>2.501955e+08</td>\n",
       "      <td>8006.000000</td>\n",
       "      <td>3.160000e+03</td>\n",
       "      <td>60.000000</td>\n",
       "      <td>62.000000</td>\n",
       "      <td>162.000000</td>\n",
       "      <td>2.000000</td>\n",
       "      <td>0.000000</td>\n",
       "      <td>...</td>\n",
       "      <td>3.526000e+03</td>\n",
       "      <td>0.000000e+00</td>\n",
       "      <td>1.207800e+04</td>\n",
       "      <td>3.360000e+03</td>\n",
       "      <td>3.532000e+03</td>\n",
       "      <td>7.812000e+03</td>\n",
       "      <td>8.047000e+03</td>\n",
       "      <td>5.119000e+03</td>\n",
       "      <td>8.127000e+03</td>\n",
       "      <td>3.146850e+05</td>\n",
       "    </tr>\n",
       "    <tr>\n",
       "      <th>75%</th>\n",
       "      <td>4.753116e+08</td>\n",
       "      <td>1.752130e+08</td>\n",
       "      <td>2.749596e+08</td>\n",
       "      <td>20359.500000</td>\n",
       "      <td>1.254000e+04</td>\n",
       "      <td>70.000000</td>\n",
       "      <td>70.000000</td>\n",
       "      <td>168.000000</td>\n",
       "      <td>2.000000</td>\n",
       "      <td>0.000000</td>\n",
       "      <td>...</td>\n",
       "      <td>1.279300e+04</td>\n",
       "      <td>0.000000e+00</td>\n",
       "      <td>3.688900e+04</td>\n",
       "      <td>1.250825e+04</td>\n",
       "      <td>1.275600e+04</td>\n",
       "      <td>1.526100e+04</td>\n",
       "      <td>1.558500e+04</td>\n",
       "      <td>2.062500e+04</td>\n",
       "      <td>3.238400e+04</td>\n",
       "      <td>1.356918e+06</td>\n",
       "    </tr>\n",
       "    <tr>\n",
       "      <th>max</th>\n",
       "      <td>4.999955e+08</td>\n",
       "      <td>1.999977e+08</td>\n",
       "      <td>2.999979e+08</td>\n",
       "      <td>32758.000000</td>\n",
       "      <td>5.106890e+06</td>\n",
       "      <td>90.000000</td>\n",
       "      <td>172.000000</td>\n",
       "      <td>1528.000000</td>\n",
       "      <td>6.000000</td>\n",
       "      <td>1.000000</td>\n",
       "      <td>...</td>\n",
       "      <td>5.109987e+06</td>\n",
       "      <td>5.085540e+06</td>\n",
       "      <td>5.184437e+06</td>\n",
       "      <td>5.113609e+06</td>\n",
       "      <td>5.114705e+06</td>\n",
       "      <td>4.584902e+06</td>\n",
       "      <td>4.573281e+06</td>\n",
       "      <td>4.874615e+06</td>\n",
       "      <td>4.878425e+06</td>\n",
       "      <td>4.515220e+06</td>\n",
       "    </tr>\n",
       "  </tbody>\n",
       "</table>\n",
       "<p>8 rows × 23 columns</p>\n",
       "</div>"
      ],
      "text/plain": [
       "              op_id    subject_id       hadm_id       case_id        opdate  \\\n",
       "count  1.311090e+05  1.311090e+05  1.311090e+05  20311.000000  1.311090e+05   \n",
       "mean   4.502004e+08  1.501893e+08  2.500417e+08   2447.888681  2.364801e+05   \n",
       "std    2.890589e+07  2.887928e+07  2.881581e+07  20971.441338  6.807004e+05   \n",
       "min    4.000040e+08  1.000023e+08  2.000068e+08 -32750.000000  0.000000e+00   \n",
       "25%    4.251196e+08  1.252255e+08  2.250865e+08 -19881.500000  2.070000e+03   \n",
       "50%    4.503200e+08  1.503283e+08  2.501955e+08   8006.000000  3.160000e+03   \n",
       "75%    4.753116e+08  1.752130e+08  2.749596e+08  20359.500000  1.254000e+04   \n",
       "max    4.999955e+08  1.999977e+08  2.999979e+08  32758.000000  5.106890e+06   \n",
       "\n",
       "                 age         weight         height            asa  \\\n",
       "count  131109.000000  129575.000000  130330.000000  127141.000000   \n",
       "mean       55.650260      62.819201     162.520502       1.771089   \n",
       "std        16.206132      12.389208      27.109188       0.638974   \n",
       "min        20.000000      -1.000000       3.000000       1.000000   \n",
       "25%        45.000000      54.000000     156.000000       1.000000   \n",
       "50%        60.000000      62.000000     162.000000       2.000000   \n",
       "75%        70.000000      70.000000     168.000000       2.000000   \n",
       "max        90.000000     172.000000    1528.000000       6.000000   \n",
       "\n",
       "                emop  ...    opend_time  admission_time  discharge_time  \\\n",
       "count  131109.000000  ...  1.311090e+05    1.311090e+05    1.311090e+05   \n",
       "mean        0.093182  ...  2.392154e+05    2.330286e+05    2.479141e+05   \n",
       "std         0.290688  ...  6.936495e+05    6.818562e+05    6.851572e+05   \n",
       "min         0.000000  ...  1.150000e+02    0.000000e+00    1.435000e+03   \n",
       "25%         0.000000  ...  2.221000e+03    0.000000e+00    6.653000e+03   \n",
       "50%         0.000000  ...  3.526000e+03    0.000000e+00    1.207800e+04   \n",
       "75%         0.000000  ...  1.279300e+04    0.000000e+00    3.688900e+04   \n",
       "max         1.000000  ...  5.109987e+06    5.085540e+06    5.184437e+06   \n",
       "\n",
       "       anstart_time    anend_time    cpbon_time   cpboff_time    icuin_time  \\\n",
       "count  1.311080e+05  1.310410e+05  2.635000e+03  2.633000e+03  1.710500e+04   \n",
       "mean   2.388943e+05  2.389559e+05  2.173970e+05  2.182593e+05  2.371402e+05   \n",
       "std    6.934444e+05  6.926712e+05  7.166954e+05  7.180792e+05  6.937616e+05   \n",
       "min    1.500000e+01  1.050000e+02  7.950000e+02  9.650000e+02  4.300000e+01   \n",
       "25%    2.090000e+03  2.226000e+03  4.893000e+03  5.050000e+03  3.363000e+03   \n",
       "50%    3.360000e+03  3.532000e+03  7.812000e+03  8.047000e+03  5.119000e+03   \n",
       "75%    1.250825e+04  1.275600e+04  1.526100e+04  1.558500e+04  2.062500e+04   \n",
       "max    5.113609e+06  5.114705e+06  4.584902e+06  4.573281e+06  4.874615e+06   \n",
       "\n",
       "        icuout_time  inhosp_death_time  \n",
       "count  1.709600e+04       1.312000e+03  \n",
       "mean   2.417418e+05       8.653029e+05  \n",
       "std    6.960523e+05       1.123870e+06  \n",
       "min    8.370000e+02       1.414000e+03  \n",
       "25%    5.092000e+03       7.864575e+04  \n",
       "50%    8.127000e+03       3.146850e+05  \n",
       "75%    3.238400e+04       1.356918e+06  \n",
       "max    4.878425e+06       4.515220e+06  \n",
       "\n",
       "[8 rows x 23 columns]"
      ]
     },
     "execution_count": 7,
     "metadata": {},
     "output_type": "execute_result"
    }
   ],
   "source": [
    "df_operations.describe()"
   ]
  },
  {
   "cell_type": "markdown",
   "metadata": {},
   "source": [
    "Op id"
   ]
  },
  {
   "cell_type": "markdown",
   "metadata": {},
   "source": [
    "Each admission and operation were randomly assigned with unique numbers (hadm_id and op_id, respectively)."
   ]
  },
  {
   "cell_type": "code",
   "execution_count": 8,
   "metadata": {},
   "outputs": [
    {
     "name": "stdout",
     "output_type": "stream",
     "text": [
      "131030\n"
     ]
    }
   ],
   "source": [
    "unique_subject_ids = df_operations['op_id'].nunique()\n",
    "print(unique_subject_ids)"
   ]
  },
  {
   "cell_type": "code",
   "execution_count": 9,
   "metadata": {},
   "outputs": [
    {
     "name": "stdout",
     "output_type": "stream",
     "text": [
      "[475566718 484647286 444866901 445758955 445865239 477269323 435602742\n",
      " 479644047 434942844 409283951 410924225 418771504 410343930 439039023\n",
      " 463347320 461258519 476666835 496012352 413793745 408010111 494295458\n",
      " 480035857 491359973 497915238 492215057 447717457 408622139 454533071\n",
      " 405325535 492177531]\n"
     ]
    }
   ],
   "source": [
    "unique_icd10_pcs_values = df_operations['op_id'].unique()\n",
    "print(unique_icd10_pcs_values[:30])"
   ]
  },
  {
   "cell_type": "markdown",
   "metadata": {},
   "source": [
    "Subject id"
   ]
  },
  {
   "cell_type": "markdown",
   "metadata": {},
   "source": [
    "Each table can be connected using subject_id. A subject_id may be matched to one or more hadm_ids. A single hadm_id may be matched with one or more op_ids. \n",
    "We did not extract these variables except for the medical record number, which was subsequently substituted with unique random integers as the subject id (described as subject_id). Each admission and operation were randomly assigned with unique numbers (hadm_id and op_id, respectively). To allow identifiers to be easily distinguished, subject_id begin with “1”, hadm_id begin with “2”, and and op_id, respectively begin with “4”."
   ]
  },
  {
   "cell_type": "code",
   "execution_count": 10,
   "metadata": {},
   "outputs": [
    {
     "name": "stdout",
     "output_type": "stream",
     "text": [
      "131017\n"
     ]
    }
   ],
   "source": [
    "unique_subject_ids = df_operations['subject_id'].nunique()\n",
    "print(unique_subject_ids)"
   ]
  },
  {
   "cell_type": "code",
   "execution_count": 11,
   "metadata": {},
   "outputs": [
    {
     "name": "stdout",
     "output_type": "stream",
     "text": [
      "[171577851 199842522 157372538 138629067 114308752 168395939 115643709\n",
      " 118323634 144334157 174707479 189376549 177514832 169257722 106563384\n",
      " 199296356 128019302 173268022 165486739 156308623 148416862 109849330\n",
      " 141859736 140919518 143814056 153822752 126333765 185281173 146240841\n",
      " 198508261 167123353]\n"
     ]
    }
   ],
   "source": [
    "unique_subject_id = df_operations['subject_id'].unique()\n",
    "print(unique_subject_id[:30])"
   ]
  },
  {
   "cell_type": "code",
   "execution_count": 12,
   "metadata": {},
   "outputs": [
    {
     "name": "stdout",
     "output_type": "stream",
     "text": [
      "subject_id\n",
      "169928828    2\n",
      "196705675    2\n",
      "189557553    2\n",
      "157016862    2\n",
      "199219664    2\n",
      "121714019    2\n",
      "169298191    2\n",
      "170208794    2\n",
      "181309357    2\n",
      "186973342    2\n",
      "173974759    2\n",
      "106919429    2\n",
      "185844753    2\n",
      "101171171    2\n",
      "166351051    2\n",
      "170485473    2\n",
      "119758138    2\n",
      "160953145    2\n",
      "114785719    2\n",
      "172613743    2\n",
      "189365415    2\n",
      "176067393    2\n",
      "140679391    2\n",
      "116159794    2\n",
      "105189136    2\n",
      "126662545    2\n",
      "113008592    2\n",
      "111969809    2\n",
      "114697830    2\n",
      "180049566    2\n",
      "Name: count, dtype: int64\n"
     ]
    }
   ],
   "source": [
    "top_10_subject_id = df_operations['subject_id'].value_counts().head(30)\n",
    "print(top_10_subject_id)"
   ]
  },
  {
   "cell_type": "markdown",
   "metadata": {},
   "source": [
    "Hadm_id"
   ]
  },
  {
   "cell_type": "code",
   "execution_count": 13,
   "metadata": {},
   "outputs": [
    {
     "name": "stdout",
     "output_type": "stream",
     "text": [
      "131030\n"
     ]
    }
   ],
   "source": [
    "unique_hadm_id = df_operations['hadm_id'].nunique()\n",
    "print(unique_hadm_id)"
   ]
  },
  {
   "cell_type": "code",
   "execution_count": 14,
   "metadata": {},
   "outputs": [
    {
     "name": "stdout",
     "output_type": "stream",
     "text": [
      "[241843976 234339534 253734319 244624747 201252994 221810544 267091297\n",
      " 274698412 220468120 241392362 292515238 263602493 252570601 273334612\n",
      " 293058841 212819373 220871957 233598169 222174081 228398401 272470237\n",
      " 283626615 247796190 256177531 240724395 227615683 200401553 297204335\n",
      " 296789447 272506030]\n"
     ]
    }
   ],
   "source": [
    "unique_hadm_id = df_operations['hadm_id'].unique()\n",
    "print(unique_hadm_id[:30])"
   ]
  },
  {
   "cell_type": "code",
   "execution_count": 15,
   "metadata": {},
   "outputs": [
    {
     "name": "stdout",
     "output_type": "stream",
     "text": [
      "hadm_id\n",
      "280029516    2\n",
      "278495496    2\n",
      "220726419    2\n",
      "235078607    2\n",
      "236686787    2\n",
      "284127436    2\n",
      "242367099    2\n",
      "245752132    2\n",
      "281218074    2\n",
      "220354628    2\n",
      "218369533    2\n",
      "264150642    2\n",
      "246756653    2\n",
      "256906425    2\n",
      "253547278    2\n",
      "252175422    2\n",
      "291961450    2\n",
      "225779208    2\n",
      "251066918    2\n",
      "247558211    2\n",
      "205310569    2\n",
      "284767999    2\n",
      "214787229    2\n",
      "254318480    2\n",
      "228703685    2\n",
      "290026889    2\n",
      "235910800    2\n",
      "210380695    2\n",
      "256917501    2\n",
      "249443595    2\n",
      "Name: count, dtype: int64\n"
     ]
    }
   ],
   "source": [
    "top_10_hadm_id = df_operations['hadm_id'].value_counts().head(30)\n",
    "print(top_10_hadm_id)"
   ]
  },
  {
   "cell_type": "markdown",
   "metadata": {},
   "source": [
    "ICS-10-PCS"
   ]
  },
  {
   "cell_type": "markdown",
   "metadata": {},
   "source": [
    " Operation names were converted to the first four codes of ICD-10-PCS"
   ]
  },
  {
   "cell_type": "code",
   "execution_count": 16,
   "metadata": {},
   "outputs": [
    {
     "name": "stdout",
     "output_type": "stream",
     "text": [
      "896\n"
     ]
    }
   ],
   "source": [
    "unique_subject_ids = df_operations['icd10_pcs'].nunique()\n",
    "print(unique_subject_ids)"
   ]
  },
  {
   "cell_type": "code",
   "execution_count": 17,
   "metadata": {},
   "outputs": [
    {
     "name": "stdout",
     "output_type": "stream",
     "text": [
      "['08DJ3' '0BTC4' '0TC00' '08R43' '09BC0' '09Q70' '0UT94' '02110' '0VBF0'\n",
      " '0TY00' '0DTP0' '0XH94' '0BBD4' '0UT90' '0GTK0' '0XH80' '03LG0' '0PHH0'\n",
      " '0FT44' '0BBG4' '08QK3' '10D00' '0VB04' '0WQN0' '_RARE_' '0HC0X' '00BT0'\n",
      " '0VB07' '09BB0' '0HBU0']\n"
     ]
    }
   ],
   "source": [
    "unique_icd10_pcs_values = df_operations['icd10_pcs'].unique()\n",
    "print(unique_icd10_pcs_values[:30])"
   ]
  },
  {
   "cell_type": "code",
   "execution_count": 18,
   "metadata": {},
   "outputs": [
    {
     "name": "stdout",
     "output_type": "stream",
     "text": [
      "icd10_pcs\n",
      "08DJ3     7087\n",
      "09Q70     3361\n",
      "0GTK0     3240\n",
      "08R43     3049\n",
      "0HBU0     2966\n",
      "0FT44     2965\n",
      "0HBT0     2860\n",
      "10D00     2473\n",
      "0DB64     2298\n",
      "0TBB8     1958\n",
      "08RJ3     1795\n",
      "08RK3     1747\n",
      "_RARE_    1639\n",
      "00B00     1619\n",
      "0DTP0     1516\n",
      "0TBB7     1488\n",
      "0WQN0     1409\n",
      "0UJD8     1342\n",
      "09B00     1275\n",
      "0UT94     1270\n",
      "0VT00     1265\n",
      "009T0     1246\n",
      "0VB08     1205\n",
      "0WJG0     1130\n",
      "0RG00     1108\n",
      "0DTP4     1067\n",
      "03VG3     1018\n",
      "09QM0      995\n",
      "0YQ50      990\n",
      "0HD0X      937\n",
      "Name: count, dtype: int64\n"
     ]
    }
   ],
   "source": [
    "top_10_icd10_pcs = df_operations['icd10_pcs'].value_counts().head(30)\n",
    "print(top_10_icd10_pcs)\n"
   ]
  },
  {
   "cell_type": "code",
   "execution_count": 19,
   "metadata": {},
   "outputs": [
    {
     "name": "stderr",
     "output_type": "stream",
     "text": [
      "C:\\Users\\20181588\\AppData\\Local\\Temp\\ipykernel_28284\\2299865560.py:6: FutureWarning: \n",
      "\n",
      "Passing `palette` without assigning `hue` is deprecated and will be removed in v0.14.0. Assign the `x` variable to `hue` and set `legend=False` for the same effect.\n",
      "\n",
      "  sns.barplot(x=top_10_icd10_pcs.index, y=top_10_icd10_pcs.values, palette=\"viridis\")\n"
     ]
    },
    {
     "data": {
      "image/png": "[encoded data removed]",
      "text/plain": [
       "<Figure size 1200x800 with 1 Axes>"
      ]
     },
     "metadata": {},
     "output_type": "display_data"
    }
   ],
   "source": [
    "import matplotlib.pyplot as plt\n",
    "import seaborn as sns\n",
    "\n",
    "# Plotting the top 10 ICD-10-PCS codes\n",
    "plt.figure(figsize=(12, 8))\n",
    "sns.barplot(x=top_10_icd10_pcs.index, y=top_10_icd10_pcs.values, palette=\"viridis\")\n",
    "plt.xticks(rotation=45)\n",
    "plt.title(\"International Classification of Diseases, 10th revision, Clinical Modification (ICD-10-CM) Codes\")\n",
    "plt.ylabel(\"Number of Occurrences\")\n",
    "plt.xlabel(\"ICD-10-PCS Code\")\n",
    "plt.show()"
   ]
  },
  {
   "cell_type": "markdown",
   "metadata": {},
   "source": [
    "Department"
   ]
  },
  {
   "cell_type": "code",
   "execution_count": 20,
   "metadata": {},
   "outputs": [
    {
     "name": "stdout",
     "output_type": "stream",
     "text": [
      "15\n"
     ]
    }
   ],
   "source": [
    "unique_department = df_operations['department'].nunique()\n",
    "print(unique_department)"
   ]
  },
  {
   "cell_type": "code",
   "execution_count": 21,
   "metadata": {},
   "outputs": [
    {
     "name": "stdout",
     "output_type": "stream",
     "text": [
      "['OT' 'CTS' 'UR' 'OL' 'GS' 'OG' 'OS' 'RAD' 'NS' 'PS' 'AN' 'PED' 'IM'\n",
      " '_RARE_' 'RO']\n"
     ]
    }
   ],
   "source": [
    "unique_department = df_operations['department'].unique()\n",
    "print(unique_department[:16])"
   ]
  },
  {
   "cell_type": "code",
   "execution_count": 22,
   "metadata": {},
   "outputs": [
    {
     "name": "stdout",
     "output_type": "stream",
     "text": [
      "department\n",
      "GS        34758\n",
      "OT        17296\n",
      "OS        17080\n",
      "UR        12835\n",
      "OG        12474\n",
      "OL        11399\n",
      "NS        10539\n",
      "CTS        8846\n",
      "PS         5302\n",
      "RAD         363\n",
      "IM          114\n",
      "AN           58\n",
      "PED          28\n",
      "RO           14\n",
      "_RARE_        3\n",
      "Name: count, dtype: int64\n"
     ]
    }
   ],
   "source": [
    "top_10_department  = df_operations['department'].value_counts().head(16)\n",
    "print(top_10_department )"
   ]
  },
  {
   "cell_type": "markdown",
   "metadata": {},
   "source": [
    "OG: Obstetrics and Gynecology\n",
    "GS: General Surgery\n",
    "OS: Orthopedic Surgery\n",
    "OT: Occupational Therapy (though in a department context, this might mean something else)\n",
    "CTS: Cardiothoracic Surgery\n",
    "UR: Urology\n",
    "OL: Otolaryngology (Ear, Nose, and Throat or ENT)\n",
    "NS: Neurosurgery or Neurological Surgery\n",
    "PS: Plastic Surgery\n",
    "EM: Emergency Medicine\n",
    "AN: Anesthesiology\n",
    "RO: Radiation Oncology\n",
    "IM: Internal Medicine\n",
    "PED: Pediatrics\n",
    "DM:  Dhermathology\n",
    "RAD: Radiology"
   ]
  },
  {
   "cell_type": "markdown",
   "metadata": {},
   "source": [
    "Anaesthesia type"
   ]
  },
  {
   "cell_type": "code",
   "execution_count": 23,
   "metadata": {},
   "outputs": [
    {
     "name": "stdout",
     "output_type": "stream",
     "text": [
      "4\n"
     ]
    }
   ],
   "source": [
    "unique_antype = df_operations['antype'].nunique()\n",
    "print(unique_antype)"
   ]
  },
  {
   "cell_type": "code",
   "execution_count": 24,
   "metadata": {},
   "outputs": [
    {
     "name": "stdout",
     "output_type": "stream",
     "text": [
      "['MAC' 'General' 'Neuraxial' 'Regional']\n"
     ]
    }
   ],
   "source": [
    "unique_antype = df_operations['antype'].unique()\n",
    "print(unique_antype[:4])"
   ]
  },
  {
   "cell_type": "code",
   "execution_count": 25,
   "metadata": {},
   "outputs": [
    {
     "name": "stdout",
     "output_type": "stream",
     "text": [
      "antype\n",
      "General      102717\n",
      "MAC           15262\n",
      "Neuraxial     12993\n",
      "Regional        137\n",
      "Name: count, dtype: int64\n"
     ]
    }
   ],
   "source": [
    "top_10_antype= df_operations['antype'].value_counts().head(4)\n",
    "print(top_10_antype)"
   ]
  },
  {
   "cell_type": "markdown",
   "metadata": {},
   "source": [
    "Duration of stay time is dischage time (all tines are shown in minutes)"
   ]
  },
  {
   "cell_type": "code",
   "execution_count": 26,
   "metadata": {},
   "outputs": [
    {
     "name": "stdout",
     "output_type": "stream",
     "text": [
      "0       14310\n",
      "1           0\n",
      "2           0\n",
      "3           0\n",
      "4           0\n",
      "5           0\n",
      "6           0\n",
      "7           0\n",
      "8           0\n",
      "9     3460460\n",
      "10     687260\n",
      "11    1011010\n",
      "12          0\n",
      "13          0\n",
      "14          0\n",
      "Name: admission_time, dtype: int64\n"
     ]
    }
   ],
   "source": [
    "print(df_operations['admission_time'] [:15])"
   ]
  },
  {
   "cell_type": "code",
   "execution_count": 27,
   "metadata": {},
   "outputs": [
    {
     "name": "stdout",
     "output_type": "stream",
     "text": [
      "0       12573\n",
      "1        9489\n",
      "2       10482\n",
      "3        5627\n",
      "4        7595\n",
      "5        7149\n",
      "6        9892\n",
      "7       18924\n",
      "8        1435\n",
      "9     3481956\n",
      "10     699739\n",
      "11    1030841\n",
      "12       1435\n",
      "13       6905\n",
      "14       9065\n",
      "Name: discharge_time, dtype: int64\n"
     ]
    }
   ],
   "source": [
    "print(df_operations['discharge_time'] [:15])"
   ]
  },
  {
   "cell_type": "markdown",
   "metadata": {},
   "source": [
    "Duration of anesthesia"
   ]
  },
  {
   "cell_type": "code",
   "execution_count": 28,
   "metadata": {},
   "outputs": [
    {
     "name": "stdout",
     "output_type": "stream",
     "text": [
      "0        9975.0\n",
      "1        3588.0\n",
      "2        5009.0\n",
      "3        2073.0\n",
      "4        2457.0\n",
      "5        2311.0\n",
      "6        1911.0\n",
      "7        3364.0\n",
      "8         400.0\n",
      "9     3573816.0\n",
      "10     740541.0\n",
      "11     906891.0\n",
      "12        573.0\n",
      "13       2481.0\n",
      "14       3752.0\n",
      "Name: anstart_time, dtype: float64\n"
     ]
    }
   ],
   "source": [
    "print(df_operations['anstart_time'] [:15])"
   ]
  },
  {
   "cell_type": "code",
   "execution_count": 29,
   "metadata": {},
   "outputs": [
    {
     "name": "stdout",
     "output_type": "stream",
     "text": [
      "0        9670.0\n",
      "1        3835.0\n",
      "2        5196.0\n",
      "3        2107.0\n",
      "4        2579.0\n",
      "5        2433.0\n",
      "6        2114.0\n",
      "7        3971.0\n",
      "8         317.0\n",
      "9     3056822.0\n",
      "10     685966.0\n",
      "11    1077607.0\n",
      "12        593.0\n",
      "13       2524.0\n",
      "14       4000.0\n",
      "Name: anend_time, dtype: float64\n"
     ]
    }
   ],
   "source": [
    "print(df_operations['anend_time'] [:15])"
   ]
  },
  {
   "cell_type": "code",
   "execution_count": 30,
   "metadata": {},
   "outputs": [
    {
     "name": "stdout",
     "output_type": "stream",
     "text": [
      "0       -305.0\n",
      "1        247.0\n",
      "2        187.0\n",
      "3         34.0\n",
      "4        122.0\n",
      "5        122.0\n",
      "6        203.0\n",
      "7        607.0\n",
      "8        -83.0\n",
      "9    -516994.0\n",
      "10    -54575.0\n",
      "11    170716.0\n",
      "12        20.0\n",
      "13        43.0\n",
      "14       248.0\n",
      "Name: an_duration, dtype: float64\n"
     ]
    }
   ],
   "source": [
    "df_operations['an_duration'] = df_operations['anend_time'] - df_operations['anstart_time']\n",
    "print(df_operations['an_duration'] [:15])"
   ]
  },
  {
   "cell_type": "code",
   "execution_count": 31,
   "metadata": {},
   "outputs": [
    {
     "data": {
      "text/plain": [
       "Index(['op_id', 'subject_id', 'hadm_id', 'case_id', 'opdate', 'age', 'sex',\n",
       "       'weight', 'height', 'race', 'asa', 'emop', 'department', 'antype',\n",
       "       'icd10_pcs', 'orin_time', 'orout_time', 'opstart_time', 'opend_time',\n",
       "       'admission_time', 'discharge_time', 'anstart_time', 'anend_time',\n",
       "       'cpbon_time', 'cpboff_time', 'icuin_time', 'icuout_time',\n",
       "       'inhosp_death_time', 'an_duration'],\n",
       "      dtype='object')"
      ]
     },
     "execution_count": 31,
     "metadata": {},
     "output_type": "execute_result"
    }
   ],
   "source": [
    "df_operations.columns"
   ]
  },
  {
   "cell_type": "markdown",
   "metadata": {},
   "source": [
    "Duration of operation"
   ]
  },
  {
   "cell_type": "code",
   "execution_count": 32,
   "metadata": {},
   "outputs": [
    {
     "name": "stdout",
     "output_type": "stream",
     "text": [
      "0       10644\n",
      "1        3642\n",
      "2        5042\n",
      "3        2065\n",
      "4        2499\n",
      "5        2325\n",
      "6        1969\n",
      "7        3409\n",
      "8         575\n",
      "9     3297534\n",
      "10     664443\n",
      "11    1119389\n",
      "12        554\n",
      "13       2463\n",
      "14       3800\n",
      "Name: opstart_time, dtype: int64\n"
     ]
    }
   ],
   "source": [
    "print(df_operations['opstart_time'] [:15])"
   ]
  },
  {
   "cell_type": "code",
   "execution_count": 33,
   "metadata": {},
   "outputs": [
    {
     "name": "stdout",
     "output_type": "stream",
     "text": [
      "0       10679\n",
      "1        3811\n",
      "2        5164\n",
      "3        2102\n",
      "4        2604\n",
      "5        2403\n",
      "6        2092\n",
      "7        3985\n",
      "8         534\n",
      "9     3126849\n",
      "10     649681\n",
      "11    1138027\n",
      "12        589\n",
      "13       2495\n",
      "14       3995\n",
      "Name: opend_time, dtype: int64\n"
     ]
    }
   ],
   "source": [
    "print(df_operations['opend_time'] [:15])"
   ]
  },
  {
   "cell_type": "code",
   "execution_count": 34,
   "metadata": {},
   "outputs": [
    {
     "name": "stdout",
     "output_type": "stream",
     "text": [
      "0         35\n",
      "1        169\n",
      "2        122\n",
      "3         37\n",
      "4        105\n",
      "5         78\n",
      "6        123\n",
      "7        576\n",
      "8        -41\n",
      "9    -170685\n",
      "10    -14762\n",
      "11     18638\n",
      "12        35\n",
      "13        32\n",
      "14       195\n",
      "Name: op_duration, dtype: int64\n"
     ]
    }
   ],
   "source": [
    "df_operations['op_duration'] = df_operations['opend_time'] - df_operations['opstart_time']\n",
    "print(df_operations['op_duration'] [:15])"
   ]
  },
  {
   "cell_type": "code",
   "execution_count": 35,
   "metadata": {},
   "outputs": [
    {
     "name": "stdout",
     "output_type": "stream",
     "text": [
      "[   35   169   122 ... 12500 60477 14132]\n"
     ]
    }
   ],
   "source": [
    "unique_op_time = df_operations['op_duration'].unique()\n",
    "print(unique_op_time)"
   ]
  },
  {
   "cell_type": "code",
   "execution_count": 36,
   "metadata": {},
   "outputs": [
    {
     "name": "stdout",
     "output_type": "stream",
     "text": [
      "op_duration\n",
      "53    599\n",
      "58    594\n",
      "57    593\n",
      "56    589\n",
      "46    575\n",
      "66    573\n",
      "55    573\n",
      "70    572\n",
      "52    561\n",
      "48    560\n",
      "Name: count, dtype: int64\n"
     ]
    }
   ],
   "source": [
    "top_10_op_time= df_operations['op_duration'].value_counts().head(10)\n",
    "print(top_10_op_time)"
   ]
  },
  {
   "cell_type": "code",
   "execution_count": 37,
   "metadata": {},
   "outputs": [
    {
     "data": {
      "text/plain": [
       "Index(['op_id', 'subject_id', 'hadm_id', 'case_id', 'opdate', 'age', 'sex',\n",
       "       'weight', 'height', 'race', 'asa', 'emop', 'department', 'antype',\n",
       "       'icd10_pcs', 'orin_time', 'orout_time', 'opstart_time', 'opend_time',\n",
       "       'admission_time', 'discharge_time', 'anstart_time', 'anend_time',\n",
       "       'cpbon_time', 'cpboff_time', 'icuin_time', 'icuout_time',\n",
       "       'inhosp_death_time', 'an_duration', 'op_duration'],\n",
       "      dtype='object')"
      ]
     },
     "execution_count": 37,
     "metadata": {},
     "output_type": "execute_result"
    }
   ],
   "source": [
    "df_operations.columns"
   ]
  },
  {
   "cell_type": "markdown",
   "metadata": {},
   "source": [
    "Duration of Cardiopumonary bypass"
   ]
  },
  {
   "cell_type": "code",
   "execution_count": 38,
   "metadata": {},
   "outputs": [
    {
     "name": "stdout",
     "output_type": "stream",
     "text": [
      "0        NaN\n",
      "1        NaN\n",
      "2        NaN\n",
      "3        NaN\n",
      "4        NaN\n",
      "5        NaN\n",
      "6        NaN\n",
      "7     3600.0\n",
      "8        NaN\n",
      "9        NaN\n",
      "10       NaN\n",
      "11       NaN\n",
      "12       NaN\n",
      "13       NaN\n",
      "14       NaN\n",
      "Name: cpbon_time, dtype: float64\n"
     ]
    }
   ],
   "source": [
    "print(df_operations['cpbon_time'] [:15])"
   ]
  },
  {
   "cell_type": "code",
   "execution_count": 39,
   "metadata": {},
   "outputs": [
    {
     "name": "stdout",
     "output_type": "stream",
     "text": [
      "[   nan  3600. 20652. ... 25513. 13959.  7833.]\n"
     ]
    }
   ],
   "source": [
    "unique_cpbon_time = df_operations['cpbon_time'].unique()\n",
    "print(unique_cpbon_time)"
   ]
  },
  {
   "cell_type": "code",
   "execution_count": 40,
   "metadata": {},
   "outputs": [
    {
     "name": "stdout",
     "output_type": "stream",
     "text": [
      "0        NaN\n",
      "1        NaN\n",
      "2        NaN\n",
      "3        NaN\n",
      "4        NaN\n",
      "5        NaN\n",
      "6        NaN\n",
      "7     3965.0\n",
      "8        NaN\n",
      "9        NaN\n",
      "10       NaN\n",
      "11       NaN\n",
      "12       NaN\n",
      "13       NaN\n",
      "14       NaN\n",
      "Name: cpboff_time, dtype: float64\n"
     ]
    }
   ],
   "source": [
    "print(df_operations['cpboff_time'] [:15])"
   ]
  },
  {
   "cell_type": "code",
   "execution_count": 41,
   "metadata": {},
   "outputs": [
    {
     "name": "stdout",
     "output_type": "stream",
     "text": [
      "0       NaN\n",
      "1       NaN\n",
      "2       NaN\n",
      "3       NaN\n",
      "4       NaN\n",
      "5       NaN\n",
      "6       NaN\n",
      "7     365.0\n",
      "8       NaN\n",
      "9       NaN\n",
      "10      NaN\n",
      "11      NaN\n",
      "12      NaN\n",
      "13      NaN\n",
      "14      NaN\n",
      "Name: cpb_duration, dtype: float64\n"
     ]
    }
   ],
   "source": [
    "df_operations['cpb_duration'] = df_operations['cpboff_time'] - df_operations['cpbon_time']\n",
    "print(df_operations['cpb_duration'] [:15])"
   ]
  },
  {
   "cell_type": "code",
   "execution_count": 42,
   "metadata": {},
   "outputs": [
    {
     "name": "stdout",
     "output_type": "stream",
     "text": [
      "[  nan  365.   88. ... 1203.  320. -362.]\n"
     ]
    }
   ],
   "source": [
    "unique_cpb_time = df_operations['cpb_duration'].unique()\n",
    "print(unique_cpb_time)"
   ]
  },
  {
   "cell_type": "code",
   "execution_count": 43,
   "metadata": {},
   "outputs": [
    {
     "data": {
      "text/plain": [
       "Index(['op_id', 'subject_id', 'hadm_id', 'case_id', 'opdate', 'age', 'sex',\n",
       "       'weight', 'height', 'race', 'asa', 'emop', 'department', 'antype',\n",
       "       'icd10_pcs', 'orin_time', 'orout_time', 'opstart_time', 'opend_time',\n",
       "       'admission_time', 'discharge_time', 'anstart_time', 'anend_time',\n",
       "       'cpbon_time', 'cpboff_time', 'icuin_time', 'icuout_time',\n",
       "       'inhosp_death_time', 'an_duration', 'op_duration', 'cpb_duration'],\n",
       "      dtype='object')"
      ]
     },
     "execution_count": 43,
     "metadata": {},
     "output_type": "execute_result"
    }
   ],
   "source": [
    "df_operations.columns"
   ]
  },
  {
   "cell_type": "markdown",
   "metadata": {},
   "source": [
    "Duration of ICU stay"
   ]
  },
  {
   "cell_type": "code",
   "execution_count": 44,
   "metadata": {},
   "outputs": [
    {
     "name": "stdout",
     "output_type": "stream",
     "text": [
      "0        NaN\n",
      "1     3836.0\n",
      "2        NaN\n",
      "3        NaN\n",
      "4        NaN\n",
      "5        NaN\n",
      "6        NaN\n",
      "7     3675.0\n",
      "8        NaN\n",
      "9        NaN\n",
      "10       NaN\n",
      "11       NaN\n",
      "12       NaN\n",
      "13       NaN\n",
      "14    4017.0\n",
      "Name: icuin_time, dtype: float64\n"
     ]
    }
   ],
   "source": [
    "print(df_operations['icuin_time'] [:15])"
   ]
  },
  {
   "cell_type": "code",
   "execution_count": 45,
   "metadata": {},
   "outputs": [
    {
     "name": "stdout",
     "output_type": "stream",
     "text": [
      "0        NaN\n",
      "1     5154.0\n",
      "2        NaN\n",
      "3        NaN\n",
      "4        NaN\n",
      "5        NaN\n",
      "6        NaN\n",
      "7     6592.0\n",
      "8        NaN\n",
      "9        NaN\n",
      "10       NaN\n",
      "11       NaN\n",
      "12       NaN\n",
      "13       NaN\n",
      "14    5444.0\n",
      "Name: icuout_time, dtype: float64\n"
     ]
    }
   ],
   "source": [
    "print(df_operations['icuout_time'] [:15])"
   ]
  },
  {
   "cell_type": "code",
   "execution_count": 46,
   "metadata": {},
   "outputs": [
    {
     "name": "stdout",
     "output_type": "stream",
     "text": [
      "0        NaN\n",
      "1     1318.0\n",
      "2        NaN\n",
      "3        NaN\n",
      "4        NaN\n",
      "5        NaN\n",
      "6        NaN\n",
      "7     2917.0\n",
      "8        NaN\n",
      "9        NaN\n",
      "10       NaN\n",
      "11       NaN\n",
      "12       NaN\n",
      "13       NaN\n",
      "14    1427.0\n",
      "Name: icu_duration, dtype: float64\n"
     ]
    }
   ],
   "source": [
    "df_operations['icu_duration'] = df_operations['icuout_time'] - df_operations['icuin_time']\n",
    "print(df_operations['icu_duration'] [:15])\n"
   ]
  },
  {
   "cell_type": "code",
   "execution_count": 47,
   "metadata": {},
   "outputs": [
    {
     "name": "stdout",
     "output_type": "stream",
     "text": [
      "[    nan   1318.   2917. ...  29889. -48656.  -4484.]\n"
     ]
    }
   ],
   "source": [
    "unique_icu_time = df_operations['icu_duration'].unique()\n",
    "print(unique_icu_time)"
   ]
  },
  {
   "cell_type": "code",
   "execution_count": 48,
   "metadata": {},
   "outputs": [
    {
     "data": {
      "text/plain": [
       "Index(['op_id', 'subject_id', 'hadm_id', 'case_id', 'opdate', 'age', 'sex',\n",
       "       'weight', 'height', 'race', 'asa', 'emop', 'department', 'antype',\n",
       "       'icd10_pcs', 'orin_time', 'orout_time', 'opstart_time', 'opend_time',\n",
       "       'admission_time', 'discharge_time', 'anstart_time', 'anend_time',\n",
       "       'cpbon_time', 'cpboff_time', 'icuin_time', 'icuout_time',\n",
       "       'inhosp_death_time', 'an_duration', 'op_duration', 'cpb_duration',\n",
       "       'icu_duration'],\n",
       "      dtype='object')"
      ]
     },
     "execution_count": 48,
     "metadata": {},
     "output_type": "execute_result"
    }
   ],
   "source": [
    "df_operations.columns"
   ]
  },
  {
   "cell_type": "markdown",
   "metadata": {},
   "source": [
    "In hospital death"
   ]
  },
  {
   "cell_type": "code",
   "execution_count": 49,
   "metadata": {},
   "outputs": [
    {
     "name": "stdout",
     "output_type": "stream",
     "text": [
      "[     nan 4361167. 1173904. ...  109529. 2976229.   82701.]\n"
     ]
    }
   ],
   "source": [
    "unique_inhosp_death_time = df_operations['inhosp_death_time'].unique()\n",
    "print(unique_inhosp_death_time)"
   ]
  },
  {
   "cell_type": "markdown",
   "metadata": {},
   "source": [
    "Correlation analysis"
   ]
  },
  {
   "cell_type": "markdown",
   "metadata": {},
   "source": [
    "Correlation values range between -1 and 1. A value close to 1 implies a strong positive correlation: as one variable increases, the other also tends to. A value close to -1 implies a strong negative correlation: as one variable increases, the other tends to decrease.\n",
    "This analysis only checks for linear relationships. Non-linear relationships won't be captured well by the correlation coefficient.\n",
    "Correlation does not imply causation. Even if two variables are correlated, it doesn't mean one causes the other."
   ]
  },
  {
   "cell_type": "code",
   "execution_count": 50,
   "metadata": {},
   "outputs": [
    {
     "name": "stdout",
     "output_type": "stream",
     "text": [
      "Correlation of operation duration with age: -0.00432741605114983\n"
     ]
    }
   ],
   "source": [
    "#Find the correlation between operation duration and age\n",
    "\n",
    "correlation_with_age = df_operations['op_duration'].corr(df_operations['age'])\n",
    "print(f\"Correlation of operation duration with age: {correlation_with_age}\")\n"
   ]
  },
  {
   "cell_type": "code",
   "execution_count": 51,
   "metadata": {},
   "outputs": [
    {
     "name": "stdout",
     "output_type": "stream",
     "text": [
      "icd10_pcs\n",
      "0T770    226021.750000\n",
      "009F0    178353.333333\n",
      "0BQR4    117658.777778\n",
      "0W040    116310.000000\n",
      "0090D    109519.777778\n",
      "             ...      \n",
      "00P60   -136302.666667\n",
      "0WBG4   -152722.428571\n",
      "0FT90   -162959.166667\n",
      "08DN0   -194392.250000\n",
      "0CB00   -199845.400000\n",
      "Name: op_duration, Length: 896, dtype: float64\n"
     ]
    }
   ],
   "source": [
    "#'Type of surgery' is likely categorical (represented by the icd10_pcs column). Find the average operation duration for each type of surgery\n",
    "\n",
    "average_duration_per_surgery = df_operations.groupby('icd10_pcs')['op_duration'].mean().sort_values(ascending=False)\n",
    "print(average_duration_per_surgery)"
   ]
  },
  {
   "cell_type": "code",
   "execution_count": 52,
   "metadata": {},
   "outputs": [
    {
     "name": "stdout",
     "output_type": "stream",
     "text": [
      "Correlation of operation duration with post-op ICU admission: 0.003075137646612569\n"
     ]
    }
   ],
   "source": [
    "#Infer post-op ICU admission based on whether icuin_time is non-null. Create a binary column to indicate this and compute its correlation with operation duration.\n",
    "df_operations['icu_admission_postop'] = ~df_operations['icuin_time'].isna()\n",
    "correlation_with_icu_admission = df_operations['op_duration'].corr(df_operations['icu_admission_postop'])\n",
    "print(f\"Correlation of operation duration with post-op ICU admission: {correlation_with_icu_admission}\")\n"
   ]
  },
  {
   "cell_type": "code",
   "execution_count": 53,
   "metadata": {},
   "outputs": [
    {
     "name": "stdout",
     "output_type": "stream",
     "text": [
      "Correlation between duration of stay and deterioration: 0.03416861742175205\n"
     ]
    }
   ],
   "source": [
    "correlation_duration_deterioration = df_operations['discharge_time'].corr(df_operations['inhosp_death_time'].notnull().astype(int))\n",
    "print(f\"Correlation between duration of stay and deterioration: {correlation_duration_deterioration}\")"
   ]
  },
  {
   "cell_type": "code",
   "execution_count": 54,
   "metadata": {},
   "outputs": [
    {
     "name": "stdout",
     "output_type": "stream",
     "text": [
      "Correlation between ICU duration and deterioration: 0.0024493341388818046\n"
     ]
    }
   ],
   "source": [
    "correlation_icu_deterioration = df_operations['icu_duration'].corr(df_operations['inhosp_death_time'].notnull().astype(int))\n",
    "print(f\"Correlation between ICU duration and deterioration: {correlation_icu_deterioration}\")"
   ]
  },
  {
   "cell_type": "code",
   "execution_count": 55,
   "metadata": {},
   "outputs": [
    {
     "name": "stdout",
     "output_type": "stream",
     "text": [
      "Correlation between patient's age and deterioration: 0.0465608310269543\n"
     ]
    }
   ],
   "source": [
    "correlation_age_deterioration = df_operations['age'].corr(df_operations['inhosp_death_time'].notnull().astype(int))\n",
    "print(f\"Correlation between patient's age and deterioration: {correlation_age_deterioration}\")"
   ]
  },
  {
   "cell_type": "code",
   "execution_count": 56,
   "metadata": {},
   "outputs": [
    {
     "name": "stdout",
     "output_type": "stream",
     "text": [
      "Correlation between anesthesia time and deterioration: -0.0017012852824361113\n"
     ]
    }
   ],
   "source": [
    "correlation_anesthesia_deterioration = df_operations['an_duration'].corr(df_operations['inhosp_death_time'].notnull().astype(int))\n",
    "print(f\"Correlation between anesthesia time and deterioration: {correlation_anesthesia_deterioration}\")"
   ]
  },
  {
   "cell_type": "code",
   "execution_count": 57,
   "metadata": {},
   "outputs": [
    {
     "name": "stdout",
     "output_type": "stream",
     "text": [
      "department\n",
      "IM        0.035088\n",
      "AN        0.034483\n",
      "CTS       0.026905\n",
      "NS        0.020400\n",
      "GS        0.012199\n",
      "OL        0.011317\n",
      "OS        0.008080\n",
      "RAD       0.005510\n",
      "PS        0.004715\n",
      "UR        0.004597\n",
      "OT        0.002833\n",
      "OG        0.002165\n",
      "PED       0.000000\n",
      "RO        0.000000\n",
      "_RARE_    0.000000\n",
      "dtype: float64\n"
     ]
    }
   ],
   "source": [
    "deterioration_by_department = df_operations.groupby('department').apply(lambda x: x['inhosp_death_time'].notnull().mean())\n",
    "print(deterioration_by_department.sort_values(ascending=False))\n"
   ]
  },
  {
   "cell_type": "code",
   "execution_count": 58,
   "metadata": {},
   "outputs": [
    {
     "name": "stdout",
     "output_type": "stream",
     "text": [
      "Correlation between emergency operation and deterioration: 0.10142566690640242\n"
     ]
    }
   ],
   "source": [
    "correlation_emop_deterioration = df_operations['emop'].corr(df_operations['inhosp_death_time'].notnull().astype(int))\n",
    "print(f\"Correlation between emergency operation and deterioration: {correlation_emop_deterioration}\")\n"
   ]
  },
  {
   "cell_type": "code",
   "execution_count": 59,
   "metadata": {},
   "outputs": [
    {
     "name": "stdout",
     "output_type": "stream",
     "text": [
      "Correlation between weight and deterioration: -0.03343656518491055\n",
      "Correlation between height and deterioration: -0.0009322125288106863\n"
     ]
    }
   ],
   "source": [
    "correlation_weight_deterioration = df_operations['weight'].corr(df_operations['inhosp_death_time'].notnull().astype(int))\n",
    "correlation_height_deterioration = df_operations['height'].corr(df_operations['inhosp_death_time'].notnull().astype(int))\n",
    "print(f\"Correlation between weight and deterioration: {correlation_weight_deterioration}\")\n",
    "print(f\"Correlation between height and deterioration: {correlation_height_deterioration}\")\n"
   ]
  },
  {
   "cell_type": "code",
   "execution_count": 60,
   "metadata": {},
   "outputs": [
    {
     "name": "stdout",
     "output_type": "stream",
     "text": [
      "sex\n",
      "F    0.006853\n",
      "M    0.013912\n",
      "dtype: float64\n",
      "race\n",
      "Asian    0.010007\n",
      "dtype: float64\n"
     ]
    }
   ],
   "source": [
    "# For categorical variables like sex and race, you might want to use groupby and calculate deterioration rates for each group\n",
    "sex_deterioration_rate = df_operations.groupby('sex').apply(lambda x: x['inhosp_death_time'].notnull().mean())\n",
    "race_deterioration_rate = df_operations.groupby('race').apply(lambda x: x['inhosp_death_time'].notnull().mean())\n",
    "print(sex_deterioration_rate)\n",
    "print(race_deterioration_rate)\n"
   ]
  },
  {
   "cell_type": "code",
   "execution_count": 61,
   "metadata": {},
   "outputs": [
    {
     "name": "stdout",
     "output_type": "stream",
     "text": [
      "Correlation between ASA score and deterioration: 0.11428018616350337\n"
     ]
    }
   ],
   "source": [
    "correlation_asa_deterioration = df_operations['asa'].corr(df_operations['inhosp_death_time'].notnull().astype(int))\n",
    "print(f\"Correlation between ASA score and deterioration: {correlation_asa_deterioration}\")\n"
   ]
  },
  {
   "cell_type": "code",
   "execution_count": 62,
   "metadata": {},
   "outputs": [
    {
     "name": "stdout",
     "output_type": "stream",
     "text": [
      "icd10_pcs\n",
      "09QN0    0.500000\n",
      "0GT30    0.333333\n",
      "0TT20    0.285714\n",
      "0A122    0.285714\n",
      "0BNN0    0.277778\n",
      "0D1BX    0.250000\n",
      "0A152    0.250000\n",
      "09G70    0.200000\n",
      "0QQ70    0.200000\n",
      "0Y6J0    0.200000\n",
      "0W390    0.200000\n",
      "0FYG0    0.200000\n",
      "0BW10    0.187500\n",
      "0DQ50    0.176471\n",
      "0W3D0    0.170213\n",
      "08T1X    0.166667\n",
      "0B110    0.163934\n",
      "0DH80    0.150000\n",
      "0H10X    0.142857\n",
      "00Q10    0.142857\n",
      "03LY0    0.142857\n",
      "0P000    0.133333\n",
      "04BY0    0.125000\n",
      "001U0    0.125000\n",
      "0P600    0.125000\n",
      "02RP0    0.117647\n",
      "04CK0    0.117647\n",
      "00B0X    0.111111\n",
      "02QA0    0.102273\n",
      "0TYB0    0.100000\n",
      "dtype: float64\n"
     ]
    }
   ],
   "source": [
    "#Certain surgical procedures might have higher risks associated with them.\n",
    "procedure_deterioration_rate = df_operations.groupby('icd10_pcs').apply(lambda x: x['inhosp_death_time'].notnull().mean())\n",
    "print(procedure_deterioration_rate.sort_values(ascending=False).head(30))\n"
   ]
  },
  {
   "cell_type": "code",
   "execution_count": 63,
   "metadata": {},
   "outputs": [
    {
     "name": "stdout",
     "output_type": "stream",
     "text": [
      "Correlation between time to ICU post-operation and deterioration: 0.00965647430385212\n"
     ]
    }
   ],
   "source": [
    "df_operations['time_to_icu_postop'] = df_operations['icuin_time'] - df_operations['opend_time']\n",
    "correlation_time_to_icu_deterioration = df_operations['time_to_icu_postop'].corr(df_operations['inhosp_death_time'].notnull().astype(int))\n",
    "print(f\"Correlation between time to ICU post-operation and deterioration: {correlation_time_to_icu_deterioration}\")\n"
   ]
  },
  {
   "cell_type": "code",
   "execution_count": 64,
   "metadata": {},
   "outputs": [
    {
     "name": "stdout",
     "output_type": "stream",
     "text": [
      "Correlation between ICU stay duration and deterioration: 0.0024493341388818046\n"
     ]
    }
   ],
   "source": [
    "\n",
    "correlation_icu_stay_deterioration = df_operations['icu_duration'].corr(df_operations['inhosp_death_time'].notnull().astype(int))\n",
    "print(f\"Correlation between ICU stay duration and deterioration: {correlation_icu_stay_deterioration}\")\n"
   ]
  },
  {
   "cell_type": "code",
   "execution_count": 65,
   "metadata": {},
   "outputs": [
    {
     "name": "stdout",
     "output_type": "stream",
     "text": [
      "department\n",
      "IM        0.035088\n",
      "AN        0.034483\n",
      "CTS       0.026905\n",
      "NS        0.020400\n",
      "GS        0.012199\n",
      "OL        0.011317\n",
      "OS        0.008080\n",
      "RAD       0.005510\n",
      "PS        0.004715\n",
      "UR        0.004597\n",
      "OT        0.002833\n",
      "OG        0.002165\n",
      "PED       0.000000\n",
      "RO        0.000000\n",
      "_RARE_    0.000000\n",
      "dtype: float64\n"
     ]
    }
   ],
   "source": [
    "department_deterioration_rate = df_operations.groupby('department').apply(lambda x: x['inhosp_death_time'].notnull().mean())\n",
    "print(department_deterioration_rate.sort_values(ascending=False))\n"
   ]
  },
  {
   "cell_type": "code",
   "execution_count": 66,
   "metadata": {},
   "outputs": [
    {
     "name": "stdout",
     "output_type": "stream",
     "text": [
      "antype\n",
      "Regional     0.021898\n",
      "General      0.011712\n",
      "Neuraxial    0.004387\n",
      "MAC          0.003211\n",
      "dtype: float64\n"
     ]
    }
   ],
   "source": [
    "antype_deterioration_rate = df_operations.groupby('antype').apply(lambda x: x['inhosp_death_time'].notnull().mean())\n",
    "print(antype_deterioration_rate.sort_values(ascending=False))\n"
   ]
  },
  {
   "cell_type": "code",
   "execution_count": 70,
   "metadata": {},
   "outputs": [
    {
     "name": "stdout",
     "output_type": "stream",
     "text": [
      "Operation start time(s) for subject_id 199842522: [3642]\n",
      "Operation end time(s) for subject_id 199842522: [3811]\n",
      "ICU admission time(s) for subject_id 199842522: [3836.]\n",
      "ICU discharge time(s) for subject_id 199842522: [5154.]\n",
      "Discharge time(s) for subject_id 199842522: [0]\n",
      "No hospital death time found for subject_id 199842522\n",
      "Department(s) for subject_id 199842522: ['CTS']\n",
      "ICD-10-PCS code(s) for subject_id 199842522: ['0BTC4']\n",
      "Anesthesia start time(s) for subject_id 199842522: [3588.]\n",
      "Anesthesia end time(s) for subject_id 199842522: [3835.]\n"
     ]
    }
   ],
   "source": [
    "import pandas as pd\n",
    "\n",
    "# Assuming df is your DataFrame with the INSPIRE dataset\n",
    "# And the function is being passed the dataframe and a subject_id to look for\n",
    "def print_patient_operation_details(df, subject_id):\n",
    "    # Filter the DataFrame for the given subject_id\n",
    "    patient_data = df[df['subject_id'] == subject_id]\n",
    "    \n",
    "    # Extracting the relevant information\n",
    "    operation_begin = patient_data['opstart_time'].dropna()\n",
    "    operation_end = patient_data['opend_time'].dropna()\n",
    "    icu_in = patient_data['icuin_time'].dropna()\n",
    "    icu_out = patient_data['icuout_time'].dropna()\n",
    "    discharge_time = patient_data['admission_time'].dropna() # Verify if 'admission_time' is correct for discharge time\n",
    "    death_time = patient_data['inhosp_death_time'].dropna() # Verify if 'inhosp_death_time' is correct for hospital death time\n",
    "    department_info = patient_data['department'].dropna()\n",
    "    icd10_pcs_codes = patient_data['icd10_pcs'].dropna()\n",
    "    anesthesia_start = patient_data['anstart_time'].dropna() # Assuming 'anestart_time' is the column for anesthesia start time\n",
    "    anesthesia_end = patient_data['anend_time'].dropna() # Assuming 'aneend_time' is the column for anesthesia end time\n",
    "    \n",
    "    # Print the details\n",
    "    if not operation_begin.empty:\n",
    "        print(f\"Operation start time(s) for subject_id {subject_id}: {operation_begin.values}\")\n",
    "    else:\n",
    "        print(f\"No operation start time found for subject_id {subject_id}\")\n",
    "    \n",
    "    if not operation_end.empty:\n",
    "        print(f\"Operation end time(s) for subject_id {subject_id}: {operation_end.values}\")\n",
    "    else:\n",
    "        print(f\"No operation end time found for subject_id {subject_id}\")\n",
    "    \n",
    "    if not icu_in.empty:\n",
    "        print(f\"ICU admission time(s) for subject_id {subject_id}: {icu_in.values}\")\n",
    "    else:\n",
    "        print(f\"No ICU admission time found for subject_id {subject_id}\")\n",
    "    \n",
    "    if not icu_out.empty:\n",
    "        print(f\"ICU discharge time(s) for subject_id {subject_id}: {icu_out.values}\")\n",
    "    else:\n",
    "        print(f\"No ICU discharge time found for subject_id {subject_id}\")\n",
    "    \n",
    "    if not discharge_time.empty:\n",
    "        print(f\"Discharge time(s) for subject_id {subject_id}: {discharge_time.values}\")\n",
    "    else:\n",
    "        print(f\"No discharge time found for subject_id {subject_id}\")\n",
    "    \n",
    "    if not death_time.empty:\n",
    "        print(f\"Hospital death time(s) for subject_id {subject_id}: {death_time.values}\")\n",
    "    else:\n",
    "        print(f\"No hospital death time found for subject_id {subject_id}\")\n",
    "    \n",
    "    if not department_info.empty:\n",
    "        print(f\"Department(s) for subject_id {subject_id}: {department_info.values}\")\n",
    "    else:\n",
    "        print(f\"No department information found for subject_id {subject_id}\")\n",
    "    \n",
    "    if not icd10_pcs_codes.empty:\n",
    "        print(f\"ICD-10-PCS code(s) for subject_id {subject_id}: {icd10_pcs_codes.values}\")\n",
    "    else:\n",
    "        print(f\"No ICD-10-PCS codes found for subject_id {subject_id}\")\n",
    "    \n",
    "    if not anesthesia_start.empty:\n",
    "        print(f\"Anesthesia start time(s) for subject_id {subject_id}: {anesthesia_start.values}\")\n",
    "    else:\n",
    "        print(f\"No anesthesia start time found for subject_id {subject_id}\")\n",
    "    \n",
    "    if not anesthesia_end.empty: \n",
    "        print(f\"Anesthesia end time(s) for subject_id {subject_id}: {anesthesia_end.values}\")\n",
    "    else:\n",
    "        print(f\"No anesthesia end time found for subject_id {subject_id}\")\n",
    "\n",
    "# Example usage:\n",
    "# Replace 'your_dataframe' with the variable name of your actual DataFrame\n",
    "print_patient_operation_details(df=df_operations, subject_id=199842522)\n"
   ]
  },
  {
   "cell_type": "markdown",
   "metadata": {},
   "source": [
    "[171577851 199842522 157372538 138629067 114308752 168395939 115643709\n",
    " 118323634 144334157 174707479 189376549 177514832 169257722 106563384\n",
    " 199296356 128019302 173268022 165486739 156308623 148416862 109849330\n",
    " 141859736 140919518 143814056 153822752 126333765 185281173 146240841\n",
    " 198508261 167123353]"
   ]
  }
 ],
 "metadata": {
  "kernelspec": {
   "display_name": "phd",
   "language": "python",
   "name": "python3"
  },
  "language_info": {
   "codemirror_mode": {
    "name": "ipython",
    "version": 3
   },
   "file_extension": ".py",
   "mimetype": "text/x-python",
   "name": "python",
   "nbconvert_exporter": "python",
   "pygments_lexer": "ipython3",
   "version": "3.11.7"
  }
 },
 "nbformat": 4,
 "nbformat_minor": 2
}
