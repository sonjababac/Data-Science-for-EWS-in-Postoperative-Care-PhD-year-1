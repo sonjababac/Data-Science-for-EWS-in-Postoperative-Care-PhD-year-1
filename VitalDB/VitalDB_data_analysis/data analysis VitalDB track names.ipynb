{
 "cells": [
  {
   "cell_type": "code",
   "execution_count": 1,
   "metadata": {},
   "outputs": [
    {
     "name": "stdout",
     "output_type": "stream",
     "text": [
      "Libraries Imported\n"
     ]
    }
   ],
   "source": [
    "import numpy as np\n",
    "import pandas as pd\n",
    "import matplotlib.pyplot as plt\n",
    "import seaborn as sns\n",
    "from sklearn import datasets  # Example, importing datasets module\n",
    "import tensorflow as tf\n",
    "import torch\n",
    "import keras\n",
    "import scipy\n",
    "import statsmodels\n",
    "import vitaldb as vt\n",
    "\n",
    "print(\"Libraries Imported\")"
   ]
  },
  {
   "cell_type": "code",
   "execution_count": 2,
   "metadata": {},
   "outputs": [],
   "source": [
    "df_vitalDB_track_names = pd.read_csv('C:\\\\Users\\\\20181588\\\\Desktop\\\\data\\\\vitaldb-a-high-fidelity-multi-parameter-vital-signs-database-in-surgical-patients-1.0.0\\\\vitaldb-a-high-fidelity-multi-parameter-vital-signs-database-in-surgical-patients-1.0.0\\\\track_names.csv')"
   ]
  },
  {
   "cell_type": "code",
   "execution_count": 13,
   "metadata": {},
   "outputs": [
    {
     "data": {
      "text/html": [
       "<div>\n",
       "<style scoped>\n",
       "    .dataframe tbody tr th:only-of-type {\n",
       "        vertical-align: middle;\n",
       "    }\n",
       "\n",
       "    .dataframe tbody tr th {\n",
       "        vertical-align: top;\n",
       "    }\n",
       "\n",
       "    .dataframe thead th {\n",
       "        text-align: right;\n",
       "    }\n",
       "</style>\n",
       "<table border=\"1\" class=\"dataframe\">\n",
       "  <thead>\n",
       "    <tr style=\"text-align: right;\">\n",
       "      <th></th>\n",
       "      <th>Parameter</th>\n",
       "      <th>Description</th>\n",
       "      <th>Type/Hz</th>\n",
       "      <th>Unit</th>\n",
       "    </tr>\n",
       "  </thead>\n",
       "  <tbody>\n",
       "    <tr>\n",
       "      <th>0</th>\n",
       "      <td>SNUADC/ART</td>\n",
       "      <td>Arterial pressure wave</td>\n",
       "      <td>W/500</td>\n",
       "      <td>mmHg</td>\n",
       "    </tr>\n",
       "    <tr>\n",
       "      <th>1</th>\n",
       "      <td>SNUADC/CVP</td>\n",
       "      <td>Central venous pressure wave</td>\n",
       "      <td>W/500</td>\n",
       "      <td>mmHg</td>\n",
       "    </tr>\n",
       "    <tr>\n",
       "      <th>2</th>\n",
       "      <td>SNUADC/ECG_II</td>\n",
       "      <td>ECG lead II wave</td>\n",
       "      <td>W/500</td>\n",
       "      <td>mV</td>\n",
       "    </tr>\n",
       "    <tr>\n",
       "      <th>3</th>\n",
       "      <td>SNUADC/ECG_V5</td>\n",
       "      <td>ECG lead V5 wave</td>\n",
       "      <td>W/500</td>\n",
       "      <td>mV</td>\n",
       "    </tr>\n",
       "    <tr>\n",
       "      <th>4</th>\n",
       "      <td>SNUADC/FEM</td>\n",
       "      <td>Femoral arterial pressure wave</td>\n",
       "      <td>W/500</td>\n",
       "      <td>mmHg</td>\n",
       "    </tr>\n",
       "    <tr>\n",
       "      <th>...</th>\n",
       "      <td>...</td>\n",
       "      <td>...</td>\n",
       "      <td>...</td>\n",
       "      <td>...</td>\n",
       "    </tr>\n",
       "    <tr>\n",
       "      <th>171</th>\n",
       "      <td>Vigilance/SNR</td>\n",
       "      <td>Signal to noise ratio</td>\n",
       "      <td>N</td>\n",
       "      <td>dB</td>\n",
       "    </tr>\n",
       "    <tr>\n",
       "      <th>172</th>\n",
       "      <td>Vigilance/SQI</td>\n",
       "      <td>Signal quality index</td>\n",
       "      <td>N</td>\n",
       "      <td>%</td>\n",
       "    </tr>\n",
       "    <tr>\n",
       "      <th>173</th>\n",
       "      <td>Vigilance/SV</td>\n",
       "      <td>Stroke volume</td>\n",
       "      <td>N</td>\n",
       "      <td>mL/beat</td>\n",
       "    </tr>\n",
       "    <tr>\n",
       "      <th>174</th>\n",
       "      <td>Vigilance/SVI</td>\n",
       "      <td>Stroke volume index</td>\n",
       "      <td>N</td>\n",
       "      <td>mL/beat/m2</td>\n",
       "    </tr>\n",
       "    <tr>\n",
       "      <th>175</th>\n",
       "      <td>Vigilance/SVO2</td>\n",
       "      <td>Mixed venous oxygen saturation</td>\n",
       "      <td>N</td>\n",
       "      <td>%</td>\n",
       "    </tr>\n",
       "  </tbody>\n",
       "</table>\n",
       "<p>176 rows × 4 columns</p>\n",
       "</div>"
      ],
      "text/plain": [
       "          Parameter                     Description Type/Hz        Unit\n",
       "0        SNUADC/ART          Arterial pressure wave   W/500        mmHg\n",
       "1        SNUADC/CVP    Central venous pressure wave   W/500        mmHg\n",
       "2     SNUADC/ECG_II                ECG lead II wave   W/500          mV\n",
       "3     SNUADC/ECG_V5                ECG lead V5 wave   W/500          mV\n",
       "4        SNUADC/FEM  Femoral arterial pressure wave   W/500        mmHg\n",
       "..              ...                             ...     ...         ...\n",
       "171   Vigilance/SNR           Signal to noise ratio       N          dB\n",
       "172   Vigilance/SQI            Signal quality index       N           %\n",
       "173    Vigilance/SV                   Stroke volume       N     mL/beat\n",
       "174   Vigilance/SVI             Stroke volume index       N  mL/beat/m2\n",
       "175  Vigilance/SVO2  Mixed venous oxygen saturation       N           %\n",
       "\n",
       "[176 rows x 4 columns]"
      ]
     },
     "execution_count": 13,
     "metadata": {},
     "output_type": "execute_result"
    }
   ],
   "source": [
    "df_vitalDB_track_names.head(-20)\n"
   ]
  },
  {
   "cell_type": "markdown",
   "metadata": {},
   "source": []
  },
  {
   "cell_type": "code",
   "execution_count": 4,
   "metadata": {},
   "outputs": [
    {
     "name": "stdout",
     "output_type": "stream",
     "text": [
      "<class 'pandas.core.frame.DataFrame'>\n",
      "RangeIndex: 196 entries, 0 to 195\n",
      "Data columns (total 4 columns):\n",
      " #   Column       Non-Null Count  Dtype \n",
      "---  ------       --------------  ----- \n",
      " 0   Parameter    196 non-null    object\n",
      " 1   Description  196 non-null    object\n",
      " 2   Type/Hz      196 non-null    object\n",
      " 3   Unit         196 non-null    object\n",
      "dtypes: object(4)\n",
      "memory usage: 6.3+ KB\n"
     ]
    }
   ],
   "source": [
    "df_vitalDB_track_names.info()"
   ]
  }
 ],
 "metadata": {
  "kernelspec": {
   "display_name": "phd",
   "language": "python",
   "name": "python3"
  },
  "language_info": {
   "codemirror_mode": {
    "name": "ipython",
    "version": 3
   },
   "file_extension": ".py",
   "mimetype": "text/x-python",
   "name": "python",
   "nbconvert_exporter": "python",
   "pygments_lexer": "ipython3",
   "version": "3.11.6"
  }
 },
 "nbformat": 4,
 "nbformat_minor": 2
}
