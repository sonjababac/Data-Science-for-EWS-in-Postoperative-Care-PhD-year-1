{
 "cells": [
  {
   "cell_type": "markdown",
   "metadata": {},
   "source": [
    "<h1 style=\"font-size:36px;\">Data exploration of INSPIRE, a publicly available research dataset for perioperative medicine</h1>\n",
    "\n",
    "<h2 style=\"font-size:20px;\">In this script data exploration and analysis of \"\"labs.csv\" is shown</h2>\n",
    "\n",
    "link: https://physionet.org/content/inspire/0.1/"
   ]
  },
  {
   "cell_type": "code",
   "execution_count": 1,
   "metadata": {},
   "outputs": [
    {
     "name": "stdout",
     "output_type": "stream",
     "text": [
      "Libraries Imported\n"
     ]
    }
   ],
   "source": [
    "import numpy as np\n",
    "import pandas as pd\n",
    "import matplotlib.pyplot as plt\n",
    "import seaborn as sns\n",
    "from sklearn import datasets  # Example, importing datasets module\n",
    "import tensorflow as tf\n",
    "import torch\n",
    "import keras\n",
    "import scipy\n",
    "import statsmodels\n",
    "\n",
    "print(\"Libraries Imported\")\n"
   ]
  },
  {
   "cell_type": "code",
   "execution_count": 2,
   "metadata": {},
   "outputs": [
    {
     "data": {
      "text/plain": [
       "\"\\n# Creating a NumPy array\\narr = np.array([1, 2, 3, 4, 5])\\n\\n# Creating a Pandas DataFrame\\ndata = {'A': [1, 2, 3], 'B': [4, 5, 6]}\\ndf = pd.DataFrame(data)\\n\\n# Creating a Matplotlib plot\\nplt.plot([1, 2, 3], [4, 5, 6])\\n\\n# Creating a Seaborn plot\\nsns.scatterplot(data=df, x='A', y='B')\\n\\n# Creating a TensorFlow constant\\ntensor = tf.constant([1, 2, 3])\\n\\n# Creating a PyTorch tensor\\ntensor = torch.tensor([1, 2, 3])\\n\\n# Using Keras layers\\nmodel = keras.Sequential()\\n\""
      ]
     },
     "execution_count": 2,
     "metadata": {},
     "output_type": "execute_result"
    }
   ],
   "source": [
    "#test\n",
    "\"\"\"\n",
    "# Creating a NumPy array\n",
    "arr = np.array([1, 2, 3, 4, 5])\n",
    "\n",
    "# Creating a Pandas DataFrame\n",
    "data = {'A': [1, 2, 3], 'B': [4, 5, 6]}\n",
    "df = pd.DataFrame(data)\n",
    "\n",
    "# Creating a Matplotlib plot\n",
    "plt.plot([1, 2, 3], [4, 5, 6])\n",
    "\n",
    "# Creating a Seaborn plot\n",
    "sns.scatterplot(data=df, x='A', y='B')\n",
    "\n",
    "# Creating a TensorFlow constant\n",
    "tensor = tf.constant([1, 2, 3])\n",
    "\n",
    "# Creating a PyTorch tensor\n",
    "tensor = torch.tensor([1, 2, 3])\n",
    "\n",
    "# Using Keras layers\n",
    "model = keras.Sequential()\n",
    "\"\"\""
   ]
  },
  {
   "cell_type": "code",
   "execution_count": 8,
   "metadata": {},
   "outputs": [],
   "source": [
    "df_labs = pd.read_csv('c:\\\\Users\\\\20181588\\\\Desktop\\\\data\\\\inspire-a-publicly-available-research-dataset-for-perioperative-medicine-0.1\\\\inspire-a-publicly-available-research-dataset-for-perioperative-medicine-0.1\\\\labs.csv')"
   ]
  },
  {
   "cell_type": "code",
   "execution_count": 9,
   "metadata": {},
   "outputs": [
    {
     "data": {
      "text/html": [
       "<div>\n",
       "<style scoped>\n",
       "    .dataframe tbody tr th:only-of-type {\n",
       "        vertical-align: middle;\n",
       "    }\n",
       "\n",
       "    .dataframe tbody tr th {\n",
       "        vertical-align: top;\n",
       "    }\n",
       "\n",
       "    .dataframe thead th {\n",
       "        text-align: right;\n",
       "    }\n",
       "</style>\n",
       "<table border=\"1\" class=\"dataframe\">\n",
       "  <thead>\n",
       "    <tr style=\"text-align: right;\">\n",
       "      <th></th>\n",
       "      <th>subject_id</th>\n",
       "      <th>chart_time</th>\n",
       "      <th>item_name</th>\n",
       "      <th>value</th>\n",
       "    </tr>\n",
       "  </thead>\n",
       "  <tbody>\n",
       "    <tr>\n",
       "      <th>0</th>\n",
       "      <td>133338290</td>\n",
       "      <td>86155</td>\n",
       "      <td>total_protein</td>\n",
       "      <td>7.0</td>\n",
       "    </tr>\n",
       "    <tr>\n",
       "      <th>1</th>\n",
       "      <td>133338290</td>\n",
       "      <td>86155</td>\n",
       "      <td>sodium</td>\n",
       "      <td>141.0</td>\n",
       "    </tr>\n",
       "    <tr>\n",
       "      <th>2</th>\n",
       "      <td>133338290</td>\n",
       "      <td>86155</td>\n",
       "      <td>potassium</td>\n",
       "      <td>4.4</td>\n",
       "    </tr>\n",
       "    <tr>\n",
       "      <th>3</th>\n",
       "      <td>133338290</td>\n",
       "      <td>86155</td>\n",
       "      <td>platelet</td>\n",
       "      <td>151.0</td>\n",
       "    </tr>\n",
       "    <tr>\n",
       "      <th>4</th>\n",
       "      <td>133338290</td>\n",
       "      <td>93150</td>\n",
       "      <td>glucose</td>\n",
       "      <td>123.0</td>\n",
       "    </tr>\n",
       "  </tbody>\n",
       "</table>\n",
       "</div>"
      ],
      "text/plain": [
       "   subject_id  chart_time      item_name  value\n",
       "0   133338290       86155  total_protein    7.0\n",
       "1   133338290       86155         sodium  141.0\n",
       "2   133338290       86155      potassium    4.4\n",
       "3   133338290       86155       platelet  151.0\n",
       "4   133338290       93150        glucose  123.0"
      ]
     },
     "execution_count": 9,
     "metadata": {},
     "output_type": "execute_result"
    }
   ],
   "source": [
    "df_labs.head()\n"
   ]
  },
  {
   "cell_type": "code",
   "execution_count": 10,
   "metadata": {},
   "outputs": [
    {
     "name": "stdout",
     "output_type": "stream",
     "text": [
      "<class 'pandas.core.frame.DataFrame'>\n",
      "RangeIndex: 8490061 entries, 0 to 8490060\n",
      "Data columns (total 4 columns):\n",
      " #   Column      Dtype  \n",
      "---  ------      -----  \n",
      " 0   subject_id  int64  \n",
      " 1   chart_time  int64  \n",
      " 2   item_name   object \n",
      " 3   value       float64\n",
      "dtypes: float64(1), int64(2), object(1)\n",
      "memory usage: 259.1+ MB\n"
     ]
    }
   ],
   "source": [
    "df_labs.info()"
   ]
  },
  {
   "cell_type": "code",
   "execution_count": 11,
   "metadata": {},
   "outputs": [
    {
     "data": {
      "text/html": [
       "<div>\n",
       "<style scoped>\n",
       "    .dataframe tbody tr th:only-of-type {\n",
       "        vertical-align: middle;\n",
       "    }\n",
       "\n",
       "    .dataframe tbody tr th {\n",
       "        vertical-align: top;\n",
       "    }\n",
       "\n",
       "    .dataframe thead th {\n",
       "        text-align: right;\n",
       "    }\n",
       "</style>\n",
       "<table border=\"1\" class=\"dataframe\">\n",
       "  <thead>\n",
       "    <tr style=\"text-align: right;\">\n",
       "      <th></th>\n",
       "      <th>subject_id</th>\n",
       "      <th>chart_time</th>\n",
       "      <th>value</th>\n",
       "    </tr>\n",
       "  </thead>\n",
       "  <tbody>\n",
       "    <tr>\n",
       "      <th>count</th>\n",
       "      <td>8.490061e+06</td>\n",
       "      <td>8.490061e+06</td>\n",
       "      <td>8.490061e+06</td>\n",
       "    </tr>\n",
       "    <tr>\n",
       "      <th>mean</th>\n",
       "      <td>1.498364e+08</td>\n",
       "      <td>4.326038e+05</td>\n",
       "      <td>5.050987e+01</td>\n",
       "    </tr>\n",
       "    <tr>\n",
       "      <th>std</th>\n",
       "      <td>2.883143e+07</td>\n",
       "      <td>9.209441e+05</td>\n",
       "      <td>1.050658e+02</td>\n",
       "    </tr>\n",
       "    <tr>\n",
       "      <th>min</th>\n",
       "      <td>1.000018e+08</td>\n",
       "      <td>-2.591350e+05</td>\n",
       "      <td>-3.000000e+01</td>\n",
       "    </tr>\n",
       "    <tr>\n",
       "      <th>25%</th>\n",
       "      <td>1.251157e+08</td>\n",
       "      <td>3.615000e+03</td>\n",
       "      <td>3.800000e+00</td>\n",
       "    </tr>\n",
       "    <tr>\n",
       "      <th>50%</th>\n",
       "      <td>1.492227e+08</td>\n",
       "      <td>1.861500e+04</td>\n",
       "      <td>1.200000e+01</td>\n",
       "    </tr>\n",
       "    <tr>\n",
       "      <th>75%</th>\n",
       "      <td>1.749861e+08</td>\n",
       "      <td>2.987000e+05</td>\n",
       "      <td>7.700000e+01</td>\n",
       "    </tr>\n",
       "    <tr>\n",
       "      <th>max</th>\n",
       "      <td>1.999978e+08</td>\n",
       "      <td>5.512830e+06</td>\n",
       "      <td>7.491400e+04</td>\n",
       "    </tr>\n",
       "  </tbody>\n",
       "</table>\n",
       "</div>"
      ],
      "text/plain": [
       "         subject_id    chart_time         value\n",
       "count  8.490061e+06  8.490061e+06  8.490061e+06\n",
       "mean   1.498364e+08  4.326038e+05  5.050987e+01\n",
       "std    2.883143e+07  9.209441e+05  1.050658e+02\n",
       "min    1.000018e+08 -2.591350e+05 -3.000000e+01\n",
       "25%    1.251157e+08  3.615000e+03  3.800000e+00\n",
       "50%    1.492227e+08  1.861500e+04  1.200000e+01\n",
       "75%    1.749861e+08  2.987000e+05  7.700000e+01\n",
       "max    1.999978e+08  5.512830e+06  7.491400e+04"
      ]
     },
     "execution_count": 11,
     "metadata": {},
     "output_type": "execute_result"
    }
   ],
   "source": [
    "df_labs.describe()"
   ]
  },
  {
   "cell_type": "code",
   "execution_count": 12,
   "metadata": {},
   "outputs": [
    {
     "data": {
      "text/plain": [
       "Index(['subject_id', 'chart_time', 'item_name', 'value'], dtype='object')"
      ]
     },
     "execution_count": 12,
     "metadata": {},
     "output_type": "execute_result"
    }
   ],
   "source": [
    "df_labs.columns"
   ]
  }
 ],
 "metadata": {
  "kernelspec": {
   "display_name": "phd1",
   "language": "python",
   "name": "python3"
  },
  "language_info": {
   "codemirror_mode": {
    "name": "ipython",
    "version": 3
   },
   "file_extension": ".py",
   "mimetype": "text/x-python",
   "name": "python",
   "nbconvert_exporter": "python",
   "pygments_lexer": "ipython3",
   "version": "3.11.6"
  }
 },
 "nbformat": 4,
 "nbformat_minor": 2
}
