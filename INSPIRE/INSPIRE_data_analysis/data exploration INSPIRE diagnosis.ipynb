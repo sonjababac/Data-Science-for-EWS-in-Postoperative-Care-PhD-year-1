{
 "cells": [
  {
   "cell_type": "markdown",
   "metadata": {},
   "source": [
    "Data exploration of INSPIRE, a publicly available research dataset for perioperative medicine\n",
    "\n",
    "In this script data exploration and analysis of \"\"diagnosis.csv\" is shown\n",
    "\n",
    "link: https://physionet.org/content/inspire/0.1/"
   ]
  },
  {
   "cell_type": "code",
   "execution_count": 1,
   "metadata": {},
   "outputs": [
    {
     "name": "stdout",
     "output_type": "stream",
     "text": [
      "Libraries Imported\n"
     ]
    }
   ],
   "source": [
    "import numpy as np\n",
    "import pandas as pd\n",
    "import matplotlib.pyplot as plt\n",
    "import seaborn as sns\n",
    "from sklearn import datasets  # Example, importing datasets module\n",
    "import tensorflow as tf\n",
    "import torch\n",
    "import keras\n",
    "import scipy\n",
    "import statsmodels\n",
    "\n",
    "print(\"Libraries Imported\")\n"
   ]
  },
  {
   "cell_type": "code",
   "execution_count": 2,
   "metadata": {},
   "outputs": [],
   "source": [
    "df_diagnosis = pd.read_csv('C:\\\\Users\\\\20181588\\\\Desktop\\\\data\\\\inspire-a-publicly-available-research-dataset-for-perioperative-medicine-1.0\\\\inspire-a-publicly-available-research-dataset-for-perioperative-medicine-1.0\\\\diagnosis.csv')"
   ]
  },
  {
   "cell_type": "code",
   "execution_count": 3,
   "metadata": {},
   "outputs": [
    {
     "data": {
      "text/html": [
       "<div>\n",
       "<style scoped>\n",
       "    .dataframe tbody tr th:only-of-type {\n",
       "        vertical-align: middle;\n",
       "    }\n",
       "\n",
       "    .dataframe tbody tr th {\n",
       "        vertical-align: top;\n",
       "    }\n",
       "\n",
       "    .dataframe thead th {\n",
       "        text-align: right;\n",
       "    }\n",
       "</style>\n",
       "<table border=\"1\" class=\"dataframe\">\n",
       "  <thead>\n",
       "    <tr style=\"text-align: right;\">\n",
       "      <th></th>\n",
       "      <th>subject_id</th>\n",
       "      <th>chart_time</th>\n",
       "      <th>icd10_cm</th>\n",
       "    </tr>\n",
       "  </thead>\n",
       "  <tbody>\n",
       "    <tr>\n",
       "      <th>0</th>\n",
       "      <td>190852492</td>\n",
       "      <td>325440</td>\n",
       "      <td>R06</td>\n",
       "    </tr>\n",
       "    <tr>\n",
       "      <th>1</th>\n",
       "      <td>190852492</td>\n",
       "      <td>325440</td>\n",
       "      <td>G20</td>\n",
       "    </tr>\n",
       "    <tr>\n",
       "      <th>2</th>\n",
       "      <td>142367193</td>\n",
       "      <td>0</td>\n",
       "      <td>I61</td>\n",
       "    </tr>\n",
       "    <tr>\n",
       "      <th>3</th>\n",
       "      <td>142367193</td>\n",
       "      <td>658080</td>\n",
       "      <td>E11</td>\n",
       "    </tr>\n",
       "    <tr>\n",
       "      <th>4</th>\n",
       "      <td>142367193</td>\n",
       "      <td>658080</td>\n",
       "      <td>G44</td>\n",
       "    </tr>\n",
       "  </tbody>\n",
       "</table>\n",
       "</div>"
      ],
      "text/plain": [
       "   subject_id  chart_time icd10_cm\n",
       "0   190852492      325440      R06\n",
       "1   190852492      325440      G20\n",
       "2   142367193           0      I61\n",
       "3   142367193      658080      E11\n",
       "4   142367193      658080      G44"
      ]
     },
     "execution_count": 3,
     "metadata": {},
     "output_type": "execute_result"
    }
   ],
   "source": [
    "df_diagnosis.head()\n"
   ]
  },
  {
   "cell_type": "code",
   "execution_count": 4,
   "metadata": {},
   "outputs": [
    {
     "name": "stdout",
     "output_type": "stream",
     "text": [
      "<class 'pandas.core.frame.DataFrame'>\n",
      "RangeIndex: 4733046 entries, 0 to 4733045\n",
      "Data columns (total 3 columns):\n",
      " #   Column      Dtype \n",
      "---  ------      ----- \n",
      " 0   subject_id  int64 \n",
      " 1   chart_time  int64 \n",
      " 2   icd10_cm    object\n",
      "dtypes: int64(2), object(1)\n",
      "memory usage: 108.3+ MB\n"
     ]
    }
   ],
   "source": [
    "df_diagnosis.info()"
   ]
  },
  {
   "cell_type": "code",
   "execution_count": 5,
   "metadata": {},
   "outputs": [
    {
     "name": "stdout",
     "output_type": "stream",
     "text": [
      "['R06' 'G20' 'I61' ... 'A85' 'J99' 'S07']\n"
     ]
    }
   ],
   "source": [
    "unique_icd10_cm_values = df_diagnosis['icd10_cm'].unique()\n",
    "print(unique_icd10_cm_values)"
   ]
  },
  {
   "cell_type": "code",
   "execution_count": 6,
   "metadata": {},
   "outputs": [
    {
     "name": "stdout",
     "output_type": "stream",
     "text": [
      "['R06' 'G20' 'I61' 'E11' 'G44' 'R25' 'R51' 'A16' 'J98' 'R55' 'R35' 'S02'\n",
      " 'T84' 'S73' 'N18' 'Z94' 'C18' 'S42' 'C50' 'D05' 'R05' 'N30' 'R50' 'J06'\n",
      " 'K29' 'S72' 'R52' 'S52' 'N40' 'R33']\n"
     ]
    }
   ],
   "source": [
    "unique_icd10_cm_values = df_diagnosis['icd10_cm'].unique()\n",
    "print(unique_icd10_cm_values[:30])"
   ]
  },
  {
   "cell_type": "code",
   "execution_count": 7,
   "metadata": {},
   "outputs": [
    {
     "name": "stdout",
     "output_type": "stream",
     "text": [
      "icd10_cm\n",
      "C50    267313\n",
      "N18    195865\n",
      "C16    108251\n",
      "E14     99653\n",
      "H26     97693\n",
      "E78     97131\n",
      "I10     90988\n",
      "C18     89839\n",
      "C34     78714\n",
      "Z94     71332\n",
      "C22     68677\n",
      "C73     67184\n",
      "H35     62953\n",
      "H40     60545\n",
      "R52     59472\n",
      "C20     53982\n",
      "I20     51221\n",
      "K29     48470\n",
      "E11     48051\n",
      "E04     46822\n",
      "C61     42146\n",
      "M48     41808\n",
      "K21     41762\n",
      "N40     39689\n",
      "N64     35538\n",
      "C67     34216\n",
      "D25     32687\n",
      "I48     30687\n",
      "N83     30519\n",
      "H04     28582\n",
      "Name: count, dtype: int64\n"
     ]
    }
   ],
   "source": [
    "top_10_icd10_cm = df_diagnosis['icd10_cm'].value_counts().head(30)\n",
    "print(top_10_icd10_cm)"
   ]
  },
  {
   "cell_type": "markdown",
   "metadata": {},
   "source": [
    "C50: Malignant neoplasm of breast\n",
    "N18: Chronic kidney disease (CKD)\n",
    "C16: Malignant neoplasm of the stomach\n",
    "E14: Unspecified diabetes mellitus\n",
    "H26: Other cataract\n",
    "E78: Disorders of lipoprotein metabolism and other lipidemias\n",
    "I10: Essential (primary) hypertension\n",
    "C18: Malignant neoplasm of the colon\n",
    "C34: Malignant neoplasm of bronchus and lung\n",
    "Z94: Presence of transplanted organ and tissue\n",
    "C22: Malignant neoplasm of liver and intrahepatic bile ducts\n",
    "C73: Malignant neoplasm of the thyroid gland\n",
    "H35: Other retinal disorders\n",
    "H40: Glaucoma\n",
    "R52: Pain, not elsewhere classified\n",
    "C20: Malignant neoplasm of the rectum\n",
    "I20: Angina pectoris\n",
    "K29: Gastritis and duodenitis\n",
    "E11: Type 2 diabetes mellitus\n",
    "E04: Other non-toxic goiter\n",
    "C61: Malignant neoplasm of the prostate\n",
    "M48: Other spondylopathies\n",
    "K21: Gastro-esophageal reflux disease\n",
    "N40: Hyperplasia of the prostate\n",
    "N64: Disorders of the breast, not elsewhere classified\n",
    "C67: Malignant neoplasm of the bladder\n",
    "D25: Leiomyoma of the uterus\n",
    "I48: Atrial fibrillation and flutter\n",
    "N83: Noninflammatory disorders of the ovary, fallopian tube, and broad ligament\n",
    "H04: Disorders of the lacrimal system"
   ]
  },
  {
   "cell_type": "code",
   "execution_count": 8,
   "metadata": {},
   "outputs": [
    {
     "name": "stderr",
     "output_type": "stream",
     "text": [
      "C:\\Users\\20181588\\AppData\\Local\\Temp\\ipykernel_21900\\3205744819.py:3: FutureWarning: \n",
      "\n",
      "Passing `palette` without assigning `hue` is deprecated and will be removed in v0.14.0. Assign the `x` variable to `hue` and set `legend=False` for the same effect.\n",
      "\n",
      "  sns.barplot(x=top_10_icd10_cm.index, y=top_10_icd10_cm.values, palette=\"viridis\")\n"
     ]
    },
    {
     "data": {
      "image/png": "[encoded data removed]",
      "text/plain": [
       "<Figure size 1200x800 with 1 Axes>"
      ]
     },
     "metadata": {},
     "output_type": "display_data"
    }
   ],
   "source": [
    "\n",
    "# Plotting the top 10 ICD-10-PCS codes\n",
    "plt.figure(figsize=(12, 8))\n",
    "sns.barplot(x=top_10_icd10_cm.index, y=top_10_icd10_cm.values, palette=\"viridis\")\n",
    "plt.xticks(rotation=45)\n",
    "plt.title(\"International Classification of Diseases, 10th revision, Clinical Modification (ICD-10-CM) Codes\")\n",
    "plt.ylabel(\"Number of Occurrences\")\n",
    "plt.xlabel(\"ICD-10-CM Code\")\n",
    "plt.show()"
   ]
  },
  {
   "cell_type": "code",
   "execution_count": 9,
   "metadata": {},
   "outputs": [
    {
     "name": "stdout",
     "output_type": "stream",
     "text": [
      "subject_id\n",
      "171623622    5076\n",
      "156395380    4836\n",
      "171958003    4027\n",
      "162680034    3560\n",
      "193988404    3543\n",
      "136917112    2962\n",
      "190852492    2723\n",
      "196808860    2647\n",
      "103392702    2637\n",
      "116012853    2482\n",
      "140987440    2129\n",
      "173455490    2045\n",
      "129213220    1940\n",
      "143934173    1859\n",
      "155759933    1694\n",
      "197676281    1688\n",
      "154971752    1563\n",
      "183368773    1528\n",
      "140778301    1473\n",
      "130903941    1427\n",
      "103166491    1415\n",
      "123085872    1412\n",
      "191191533    1354\n",
      "110659561    1349\n",
      "198978000    1212\n",
      "148741814    1191\n",
      "163406604    1161\n",
      "116039971    1125\n",
      "150998832    1090\n",
      "145195143    1067\n",
      "Name: count, dtype: int64\n"
     ]
    }
   ],
   "source": [
    "#check which subject had multiple diagnoses\n",
    "top_subject_id= df_diagnosis['subject_id'].value_counts().head(30)\n",
    "print(top_subject_id)"
   ]
  },
  {
   "cell_type": "code",
   "execution_count": 10,
   "metadata": {},
   "outputs": [
    {
     "name": "stdout",
     "output_type": "stream",
     "text": [
      "subject_id\n",
      "128372761    1\n",
      "180387390    1\n",
      "112053241    1\n",
      "143422770    1\n",
      "151344751    1\n",
      "150234271    1\n",
      "176198281    1\n",
      "187724752    1\n",
      "194440072    1\n",
      "175189804    1\n",
      "181411103    1\n",
      "138280213    1\n",
      "149878451    1\n",
      "165622950    1\n",
      "134880530    1\n",
      "131940070    1\n",
      "193506022    1\n",
      "100563083    1\n",
      "156195190    1\n",
      "173479702    1\n",
      "195666670    1\n",
      "170405991    1\n",
      "199026581    1\n",
      "172621783    1\n",
      "192379230    1\n",
      "139312784    1\n",
      "129524613    1\n",
      "104675571    1\n",
      "153098861    1\n",
      "145239503    1\n",
      "Name: count, dtype: int64\n"
     ]
    }
   ],
   "source": [
    "#check which subject had multiple diagnoses\n",
    "top_subject_id= df_diagnosis['subject_id'].value_counts().tail(30)\n",
    "print(top_subject_id)"
   ]
  },
  {
   "cell_type": "code",
   "execution_count": 11,
   "metadata": {},
   "outputs": [
    {
     "name": "stdout",
     "output_type": "stream",
     "text": [
      "[ 325440       0  658080   80640    1440   -1440 -156960  -41760   -5760\n",
      " -110880   20160  -40320   83520  144000  159840  823680  911520 1334880\n",
      " 1339200  -24480 -256320  796320  100800  948960 1258560 1774080 1188000\n",
      "   24480  273600  303840]\n"
     ]
    }
   ],
   "source": [
    "unique_chart_time = df_diagnosis['chart_time'].unique()\n",
    "print(unique_chart_time[:30])"
   ]
  },
  {
   "cell_type": "code",
   "execution_count": 12,
   "metadata": {},
   "outputs": [
    {
     "name": "stdout",
     "output_type": "stream",
     "text": [
      "[190852492 142367193 178346414 128748700 109644621 172098362 117033203\n",
      " 189240010 121299142 140788534 170001893 144464483 197356761 129028203\n",
      " 149650122 162084742 121839981 192477153 193838042 195452213 118735512\n",
      " 104550663 104495240 140464442 195768734 149912663 147682702 131034901\n",
      " 198544171 100880723]\n"
     ]
    }
   ],
   "source": [
    "unique_subject_id = df_diagnosis['subject_id'].unique()\n",
    "print(unique_subject_id[:30])"
   ]
  },
  {
   "cell_type": "code",
   "execution_count": 13,
   "metadata": {},
   "outputs": [
    {
     "data": {
      "text/html": [
       "<div>\n",
       "<style scoped>\n",
       "    .dataframe tbody tr th:only-of-type {\n",
       "        vertical-align: middle;\n",
       "    }\n",
       "\n",
       "    .dataframe tbody tr th {\n",
       "        vertical-align: top;\n",
       "    }\n",
       "\n",
       "    .dataframe thead th {\n",
       "        text-align: right;\n",
       "    }\n",
       "</style>\n",
       "<table border=\"1\" class=\"dataframe\">\n",
       "  <thead>\n",
       "    <tr style=\"text-align: right;\">\n",
       "      <th></th>\n",
       "      <th>subject_id</th>\n",
       "      <th>chart_time</th>\n",
       "    </tr>\n",
       "  </thead>\n",
       "  <tbody>\n",
       "    <tr>\n",
       "      <th>count</th>\n",
       "      <td>4.733046e+06</td>\n",
       "      <td>4.733046e+06</td>\n",
       "    </tr>\n",
       "    <tr>\n",
       "      <th>mean</th>\n",
       "      <td>1.501308e+08</td>\n",
       "      <td>1.079468e+06</td>\n",
       "    </tr>\n",
       "    <tr>\n",
       "      <th>std</th>\n",
       "      <td>2.885684e+07</td>\n",
       "      <td>1.221519e+06</td>\n",
       "    </tr>\n",
       "    <tr>\n",
       "      <th>min</th>\n",
       "      <td>1.000008e+08</td>\n",
       "      <td>-2.592000e+05</td>\n",
       "    </tr>\n",
       "    <tr>\n",
       "      <th>25%</th>\n",
       "      <td>1.251906e+08</td>\n",
       "      <td>6.768000e+04</td>\n",
       "    </tr>\n",
       "    <tr>\n",
       "      <th>50%</th>\n",
       "      <td>1.501546e+08</td>\n",
       "      <td>6.220800e+05</td>\n",
       "    </tr>\n",
       "    <tr>\n",
       "      <th>75%</th>\n",
       "      <td>1.749923e+08</td>\n",
       "      <td>1.784160e+06</td>\n",
       "    </tr>\n",
       "    <tr>\n",
       "      <th>max</th>\n",
       "      <td>1.999994e+08</td>\n",
       "      <td>7.457760e+06</td>\n",
       "    </tr>\n",
       "  </tbody>\n",
       "</table>\n",
       "</div>"
      ],
      "text/plain": [
       "         subject_id    chart_time\n",
       "count  4.733046e+06  4.733046e+06\n",
       "mean   1.501308e+08  1.079468e+06\n",
       "std    2.885684e+07  1.221519e+06\n",
       "min    1.000008e+08 -2.592000e+05\n",
       "25%    1.251906e+08  6.768000e+04\n",
       "50%    1.501546e+08  6.220800e+05\n",
       "75%    1.749923e+08  1.784160e+06\n",
       "max    1.999994e+08  7.457760e+06"
      ]
     },
     "execution_count": 13,
     "metadata": {},
     "output_type": "execute_result"
    }
   ],
   "source": [
    "df_diagnosis.describe()"
   ]
  },
  {
   "cell_type": "code",
   "execution_count": 14,
   "metadata": {},
   "outputs": [
    {
     "data": {
      "text/plain": [
       "Index(['subject_id', 'chart_time', 'icd10_cm'], dtype='object')"
      ]
     },
     "execution_count": 14,
     "metadata": {},
     "output_type": "execute_result"
    }
   ],
   "source": [
    "df_diagnosis.columns"
   ]
  }
 ],
 "metadata": {
  "kernelspec": {
   "display_name": "phd1",
   "language": "python",
   "name": "python3"
  },
  "language_info": {
   "codemirror_mode": {
    "name": "ipython",
    "version": 3
   },
   "file_extension": ".py",
   "mimetype": "text/x-python",
   "name": "python",
   "nbconvert_exporter": "python",
   "pygments_lexer": "ipython3",
   "version": "3.11.7"
  }
 },
 "nbformat": 4,
 "nbformat_minor": 2
}
