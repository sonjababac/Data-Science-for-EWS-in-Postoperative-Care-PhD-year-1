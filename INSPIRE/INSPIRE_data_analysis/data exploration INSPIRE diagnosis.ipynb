{
 "cells": [
  {
   "cell_type": "markdown",
   "metadata": {},
   "source": [
    "Data exploration of INSPIRE, a publicly available research dataset for perioperative medicine\n",
    "\n",
    "In this script data exploration and analysis of \"\"diagnosis.csv\" is shown\n",
    "\n",
    "link: https://physionet.org/content/inspire/0.1/"
   ]
  },
  {
   "cell_type": "code",
   "execution_count": 1,
   "metadata": {},
   "outputs": [
    {
     "name": "stdout",
     "output_type": "stream",
     "text": [
      "Libraries Imported\n"
     ]
    }
   ],
   "source": [
    "import numpy as np\n",
    "import pandas as pd\n",
    "import matplotlib.pyplot as plt\n",
    "import seaborn as sns\n",
    "from sklearn import datasets  # Example, importing datasets module\n",
    "import tensorflow as tf\n",
    "import torch\n",
    "import keras\n",
    "import scipy\n",
    "import statsmodels\n",
    "\n",
    "print(\"Libraries Imported\")\n"
   ]
  },
  {
   "cell_type": "code",
   "execution_count": 2,
   "metadata": {},
   "outputs": [],
   "source": [
    "df_diagnosis = pd.read_csv('C:\\\\Users\\\\20181588\\\\Desktop\\\\data\\\\inspire-a-publicly-available-research-dataset-for-perioperative-medicine-1.0\\\\inspire-a-publicly-available-research-dataset-for-perioperative-medicine-1.0\\\\diagnosis.csv')"
   ]
  },
  {
   "cell_type": "code",
   "execution_count": 3,
   "metadata": {},
   "outputs": [
    {
     "data": {
      "text/html": [
       "<div>\n",
       "<style scoped>\n",
       "    .dataframe tbody tr th:only-of-type {\n",
       "        vertical-align: middle;\n",
       "    }\n",
       "\n",
       "    .dataframe tbody tr th {\n",
       "        vertical-align: top;\n",
       "    }\n",
       "\n",
       "    .dataframe thead th {\n",
       "        text-align: right;\n",
       "    }\n",
       "</style>\n",
       "<table border=\"1\" class=\"dataframe\">\n",
       "  <thead>\n",
       "    <tr style=\"text-align: right;\">\n",
       "      <th></th>\n",
       "      <th>subject_id</th>\n",
       "      <th>chart_time</th>\n",
       "      <th>icd10_cm</th>\n",
       "    </tr>\n",
       "  </thead>\n",
       "  <tbody>\n",
       "    <tr>\n",
       "      <th>0</th>\n",
       "      <td>190852492</td>\n",
       "      <td>325440</td>\n",
       "      <td>R06</td>\n",
       "    </tr>\n",
       "    <tr>\n",
       "      <th>1</th>\n",
       "      <td>190852492</td>\n",
       "      <td>325440</td>\n",
       "      <td>G20</td>\n",
       "    </tr>\n",
       "    <tr>\n",
       "      <th>2</th>\n",
       "      <td>142367193</td>\n",
       "      <td>0</td>\n",
       "      <td>I61</td>\n",
       "    </tr>\n",
       "    <tr>\n",
       "      <th>3</th>\n",
       "      <td>142367193</td>\n",
       "      <td>658080</td>\n",
       "      <td>E11</td>\n",
       "    </tr>\n",
       "    <tr>\n",
       "      <th>4</th>\n",
       "      <td>142367193</td>\n",
       "      <td>658080</td>\n",
       "      <td>G44</td>\n",
       "    </tr>\n",
       "  </tbody>\n",
       "</table>\n",
       "</div>"
      ],
      "text/plain": [
       "   subject_id  chart_time icd10_cm\n",
       "0   190852492      325440      R06\n",
       "1   190852492      325440      G20\n",
       "2   142367193           0      I61\n",
       "3   142367193      658080      E11\n",
       "4   142367193      658080      G44"
      ]
     },
     "execution_count": 3,
     "metadata": {},
     "output_type": "execute_result"
    }
   ],
   "source": [
    "df_diagnosis.head()\n"
   ]
  },
  {
   "cell_type": "code",
   "execution_count": 4,
   "metadata": {},
   "outputs": [
    {
     "name": "stdout",
     "output_type": "stream",
     "text": [
      "<class 'pandas.core.frame.DataFrame'>\n",
      "RangeIndex: 4733046 entries, 0 to 4733045\n",
      "Data columns (total 3 columns):\n",
      " #   Column      Dtype \n",
      "---  ------      ----- \n",
      " 0   subject_id  int64 \n",
      " 1   chart_time  int64 \n",
      " 2   icd10_cm    object\n",
      "dtypes: int64(2), object(1)\n",
      "memory usage: 108.3+ MB\n"
     ]
    }
   ],
   "source": [
    "df_diagnosis.info()"
   ]
  },
  {
   "cell_type": "code",
   "execution_count": 7,
   "metadata": {},
   "outputs": [
    {
     "name": "stdout",
     "output_type": "stream",
     "text": [
      "['R06' 'G20' 'I61' 'E11' 'G44' 'R25' 'R51' 'A16' 'J98' 'R55' 'R35' 'S02'\n",
      " 'T84' 'S73' 'N18' 'Z94' 'C18' 'S42' 'C50' 'D05' 'R05' 'N30' 'R50' 'J06'\n",
      " 'K29' 'S72' 'R52' 'S52' 'N40' 'R33']\n"
     ]
    }
   ],
   "source": [
    "unique_icd10_pcs_values = df_diagnosis['icd10_cm'].unique()\n",
    "print(unique_icd10_pcs_values[:30])"
   ]
  },
  {
   "cell_type": "code",
   "execution_count": 8,
   "metadata": {},
   "outputs": [
    {
     "name": "stdout",
     "output_type": "stream",
     "text": [
      "[ 325440       0  658080   80640    1440   -1440 -156960  -41760   -5760\n",
      " -110880   20160  -40320   83520  144000  159840  823680  911520 1334880\n",
      " 1339200  -24480 -256320  796320  100800  948960 1258560 1774080 1188000\n",
      "   24480  273600  303840]\n"
     ]
    }
   ],
   "source": [
    "unique_icd10_pcs_values = df_diagnosis['chart_time'].unique()\n",
    "print(unique_icd10_pcs_values[:30])"
   ]
  },
  {
   "cell_type": "code",
   "execution_count": 9,
   "metadata": {},
   "outputs": [
    {
     "name": "stdout",
     "output_type": "stream",
     "text": [
      "[190852492 142367193 178346414 128748700 109644621 172098362 117033203\n",
      " 189240010 121299142 140788534 170001893 144464483 197356761 129028203\n",
      " 149650122 162084742 121839981 192477153 193838042 195452213 118735512\n",
      " 104550663 104495240 140464442 195768734 149912663 147682702 131034901\n",
      " 198544171 100880723]\n"
     ]
    }
   ],
   "source": [
    "unique_icd10_pcs_values = df_diagnosis['subject_id'].unique()\n",
    "print(unique_icd10_pcs_values[:30])"
   ]
  },
  {
   "cell_type": "code",
   "execution_count": 5,
   "metadata": {},
   "outputs": [
    {
     "data": {
      "text/html": [
       "<div>\n",
       "<style scoped>\n",
       "    .dataframe tbody tr th:only-of-type {\n",
       "        vertical-align: middle;\n",
       "    }\n",
       "\n",
       "    .dataframe tbody tr th {\n",
       "        vertical-align: top;\n",
       "    }\n",
       "\n",
       "    .dataframe thead th {\n",
       "        text-align: right;\n",
       "    }\n",
       "</style>\n",
       "<table border=\"1\" class=\"dataframe\">\n",
       "  <thead>\n",
       "    <tr style=\"text-align: right;\">\n",
       "      <th></th>\n",
       "      <th>subject_id</th>\n",
       "      <th>chart_time</th>\n",
       "    </tr>\n",
       "  </thead>\n",
       "  <tbody>\n",
       "    <tr>\n",
       "      <th>count</th>\n",
       "      <td>4.733046e+06</td>\n",
       "      <td>4.733046e+06</td>\n",
       "    </tr>\n",
       "    <tr>\n",
       "      <th>mean</th>\n",
       "      <td>1.501308e+08</td>\n",
       "      <td>1.079468e+06</td>\n",
       "    </tr>\n",
       "    <tr>\n",
       "      <th>std</th>\n",
       "      <td>2.885684e+07</td>\n",
       "      <td>1.221519e+06</td>\n",
       "    </tr>\n",
       "    <tr>\n",
       "      <th>min</th>\n",
       "      <td>1.000008e+08</td>\n",
       "      <td>-2.592000e+05</td>\n",
       "    </tr>\n",
       "    <tr>\n",
       "      <th>25%</th>\n",
       "      <td>1.251906e+08</td>\n",
       "      <td>6.768000e+04</td>\n",
       "    </tr>\n",
       "    <tr>\n",
       "      <th>50%</th>\n",
       "      <td>1.501546e+08</td>\n",
       "      <td>6.220800e+05</td>\n",
       "    </tr>\n",
       "    <tr>\n",
       "      <th>75%</th>\n",
       "      <td>1.749923e+08</td>\n",
       "      <td>1.784160e+06</td>\n",
       "    </tr>\n",
       "    <tr>\n",
       "      <th>max</th>\n",
       "      <td>1.999994e+08</td>\n",
       "      <td>7.457760e+06</td>\n",
       "    </tr>\n",
       "  </tbody>\n",
       "</table>\n",
       "</div>"
      ],
      "text/plain": [
       "         subject_id    chart_time\n",
       "count  4.733046e+06  4.733046e+06\n",
       "mean   1.501308e+08  1.079468e+06\n",
       "std    2.885684e+07  1.221519e+06\n",
       "min    1.000008e+08 -2.592000e+05\n",
       "25%    1.251906e+08  6.768000e+04\n",
       "50%    1.501546e+08  6.220800e+05\n",
       "75%    1.749923e+08  1.784160e+06\n",
       "max    1.999994e+08  7.457760e+06"
      ]
     },
     "execution_count": 5,
     "metadata": {},
     "output_type": "execute_result"
    }
   ],
   "source": [
    "df_diagnosis.describe()"
   ]
  },
  {
   "cell_type": "code",
   "execution_count": 6,
   "metadata": {},
   "outputs": [
    {
     "data": {
      "text/plain": [
       "Index(['subject_id', 'chart_time', 'icd10_cm'], dtype='object')"
      ]
     },
     "execution_count": 6,
     "metadata": {},
     "output_type": "execute_result"
    }
   ],
   "source": [
    "df_diagnosis.columns"
   ]
  }
 ],
 "metadata": {
  "kernelspec": {
   "display_name": "phd1",
   "language": "python",
   "name": "python3"
  },
  "language_info": {
   "codemirror_mode": {
    "name": "ipython",
    "version": 3
   },
   "file_extension": ".py",
   "mimetype": "text/x-python",
   "name": "python",
   "nbconvert_exporter": "python",
   "pygments_lexer": "ipython3",
   "version": "3.11.6"
  }
 },
 "nbformat": 4,
 "nbformat_minor": 2
}
