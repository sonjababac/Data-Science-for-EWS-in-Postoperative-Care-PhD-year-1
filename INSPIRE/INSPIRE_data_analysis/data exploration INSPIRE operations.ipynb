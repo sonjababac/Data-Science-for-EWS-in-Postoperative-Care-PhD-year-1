{
 "cells": [
  {
   "cell_type": "markdown",
   "metadata": {},
   "source": [
    "<h1 style=\"font-size:36px;\">Data exploration of INSPIRE, a publicly available research dataset for perioperative medicine</h1>\n",
    "\n",
    "<h2 style=\"font-size:20px;\">In this script data exploration and analysis of \"\"operations.csv\" is shown</h2>\n",
    "\n",
    "link: https://physionet.org/content/inspire/0.1/\n",
    "\n",
    "A full list of the ICD-10-CM codes and the description can be found on the Centers for Disease Control and Prevention (CDC) website \n",
    "https://ftp.cdc.gov/pub/Health_Statistics/NCHS/Publications/ICD10CM/April-1-2023-Update/icd10cm-code%20descriptions-%20April%201%202023.zip."
   ]
  },
  {
   "cell_type": "code",
   "execution_count": 1,
   "metadata": {},
   "outputs": [
    {
     "name": "stdout",
     "output_type": "stream",
     "text": [
      "Libraries Imported\n"
     ]
    }
   ],
   "source": [
    "import numpy as np\n",
    "import pandas as pd\n",
    "import matplotlib.pyplot as plt\n",
    "import seaborn as sns\n",
    "from sklearn import datasets  # Example, importing datasets module\n",
    "import tensorflow as tf\n",
    "import torch\n",
    "import keras\n",
    "import scipy\n",
    "import statsmodels\n",
    "\n",
    "print(\"Libraries Imported\")\n"
   ]
  },
  {
   "cell_type": "code",
   "execution_count": 2,
   "metadata": {},
   "outputs": [],
   "source": [
    "df_operations_original = pd.read_csv('C:\\\\Users\\\\20181588\\\\Desktop\\\\data\\\\inspire-a-publicly-available-research-dataset-for-perioperative-medicine-1.0\\\\inspire-a-publicly-available-research-dataset-for-perioperative-medicine-1.0\\\\operations.csv')"
   ]
  },
  {
   "cell_type": "code",
   "execution_count": 3,
   "metadata": {},
   "outputs": [],
   "source": [
    "df_operations = df_operations_original.copy()"
   ]
  },
  {
   "cell_type": "code",
   "execution_count": 4,
   "metadata": {},
   "outputs": [
    {
     "data": {
      "text/html": [
       "<div>\n",
       "<style scoped>\n",
       "    .dataframe tbody tr th:only-of-type {\n",
       "        vertical-align: middle;\n",
       "    }\n",
       "\n",
       "    .dataframe tbody tr th {\n",
       "        vertical-align: top;\n",
       "    }\n",
       "\n",
       "    .dataframe thead th {\n",
       "        text-align: right;\n",
       "    }\n",
       "</style>\n",
       "<table border=\"1\" class=\"dataframe\">\n",
       "  <thead>\n",
       "    <tr style=\"text-align: right;\">\n",
       "      <th></th>\n",
       "      <th>op_id</th>\n",
       "      <th>subject_id</th>\n",
       "      <th>hadm_id</th>\n",
       "      <th>case_id</th>\n",
       "      <th>opdate</th>\n",
       "      <th>age</th>\n",
       "      <th>sex</th>\n",
       "      <th>weight</th>\n",
       "      <th>height</th>\n",
       "      <th>race</th>\n",
       "      <th>...</th>\n",
       "      <th>opend_time</th>\n",
       "      <th>admission_time</th>\n",
       "      <th>discharge_time</th>\n",
       "      <th>anstart_time</th>\n",
       "      <th>anend_time</th>\n",
       "      <th>cpbon_time</th>\n",
       "      <th>cpboff_time</th>\n",
       "      <th>icuin_time</th>\n",
       "      <th>icuout_time</th>\n",
       "      <th>inhosp_death_time</th>\n",
       "    </tr>\n",
       "  </thead>\n",
       "  <tbody>\n",
       "    <tr>\n",
       "      <th>0</th>\n",
       "      <td>484069807</td>\n",
       "      <td>178742874</td>\n",
       "      <td>229842382</td>\n",
       "      <td>NaN</td>\n",
       "      <td>0</td>\n",
       "      <td>30</td>\n",
       "      <td>F</td>\n",
       "      <td>48.0</td>\n",
       "      <td>153.0</td>\n",
       "      <td>Asian</td>\n",
       "      <td>...</td>\n",
       "      <td>1230.0</td>\n",
       "      <td>0</td>\n",
       "      <td>7195</td>\n",
       "      <td>1120.0</td>\n",
       "      <td>1235.0</td>\n",
       "      <td>NaN</td>\n",
       "      <td>NaN</td>\n",
       "      <td>NaN</td>\n",
       "      <td>NaN</td>\n",
       "      <td>NaN</td>\n",
       "    </tr>\n",
       "    <tr>\n",
       "      <th>1</th>\n",
       "      <td>446270725</td>\n",
       "      <td>158995752</td>\n",
       "      <td>257857903</td>\n",
       "      <td>NaN</td>\n",
       "      <td>0</td>\n",
       "      <td>70</td>\n",
       "      <td>M</td>\n",
       "      <td>43.0</td>\n",
       "      <td>169.0</td>\n",
       "      <td>Asian</td>\n",
       "      <td>...</td>\n",
       "      <td>1540.0</td>\n",
       "      <td>0</td>\n",
       "      <td>70555</td>\n",
       "      <td>1345.0</td>\n",
       "      <td>1540.0</td>\n",
       "      <td>NaN</td>\n",
       "      <td>NaN</td>\n",
       "      <td>1550.0</td>\n",
       "      <td>19595.0</td>\n",
       "      <td>69860.0</td>\n",
       "    </tr>\n",
       "    <tr>\n",
       "      <th>2</th>\n",
       "      <td>406892271</td>\n",
       "      <td>108553242</td>\n",
       "      <td>200664328</td>\n",
       "      <td>NaN</td>\n",
       "      <td>61920</td>\n",
       "      <td>50</td>\n",
       "      <td>F</td>\n",
       "      <td>69.0</td>\n",
       "      <td>165.0</td>\n",
       "      <td>Asian</td>\n",
       "      <td>...</td>\n",
       "      <td>62380.0</td>\n",
       "      <td>0</td>\n",
       "      <td>178555</td>\n",
       "      <td>62170.0</td>\n",
       "      <td>62370.0</td>\n",
       "      <td>NaN</td>\n",
       "      <td>NaN</td>\n",
       "      <td>NaN</td>\n",
       "      <td>NaN</td>\n",
       "      <td>NaN</td>\n",
       "    </tr>\n",
       "    <tr>\n",
       "      <th>3</th>\n",
       "      <td>478413008</td>\n",
       "      <td>133278262</td>\n",
       "      <td>277235295</td>\n",
       "      <td>NaN</td>\n",
       "      <td>0</td>\n",
       "      <td>35</td>\n",
       "      <td>F</td>\n",
       "      <td>54.0</td>\n",
       "      <td>NaN</td>\n",
       "      <td>Asian</td>\n",
       "      <td>...</td>\n",
       "      <td>330.0</td>\n",
       "      <td>0</td>\n",
       "      <td>5755</td>\n",
       "      <td>215.0</td>\n",
       "      <td>340.0</td>\n",
       "      <td>NaN</td>\n",
       "      <td>NaN</td>\n",
       "      <td>NaN</td>\n",
       "      <td>NaN</td>\n",
       "      <td>NaN</td>\n",
       "    </tr>\n",
       "    <tr>\n",
       "      <th>4</th>\n",
       "      <td>468516791</td>\n",
       "      <td>116924034</td>\n",
       "      <td>299190423</td>\n",
       "      <td>NaN</td>\n",
       "      <td>17280</td>\n",
       "      <td>45</td>\n",
       "      <td>F</td>\n",
       "      <td>47.0</td>\n",
       "      <td>152.0</td>\n",
       "      <td>Asian</td>\n",
       "      <td>...</td>\n",
       "      <td>18070.0</td>\n",
       "      <td>0</td>\n",
       "      <td>25915</td>\n",
       "      <td>17950.0</td>\n",
       "      <td>18070.0</td>\n",
       "      <td>NaN</td>\n",
       "      <td>NaN</td>\n",
       "      <td>NaN</td>\n",
       "      <td>NaN</td>\n",
       "      <td>NaN</td>\n",
       "    </tr>\n",
       "  </tbody>\n",
       "</table>\n",
       "<p>5 rows × 28 columns</p>\n",
       "</div>"
      ],
      "text/plain": [
       "       op_id  subject_id    hadm_id  case_id  opdate  age sex  weight  height  \\\n",
       "0  484069807   178742874  229842382      NaN       0   30   F    48.0   153.0   \n",
       "1  446270725   158995752  257857903      NaN       0   70   M    43.0   169.0   \n",
       "2  406892271   108553242  200664328      NaN   61920   50   F    69.0   165.0   \n",
       "3  478413008   133278262  277235295      NaN       0   35   F    54.0     NaN   \n",
       "4  468516791   116924034  299190423      NaN   17280   45   F    47.0   152.0   \n",
       "\n",
       "    race  ...  opend_time  admission_time discharge_time anstart_time  \\\n",
       "0  Asian  ...      1230.0               0           7195       1120.0   \n",
       "1  Asian  ...      1540.0               0          70555       1345.0   \n",
       "2  Asian  ...     62380.0               0         178555      62170.0   \n",
       "3  Asian  ...       330.0               0           5755        215.0   \n",
       "4  Asian  ...     18070.0               0          25915      17950.0   \n",
       "\n",
       "  anend_time  cpbon_time  cpboff_time  icuin_time  icuout_time  \\\n",
       "0     1235.0         NaN          NaN         NaN          NaN   \n",
       "1     1540.0         NaN          NaN      1550.0      19595.0   \n",
       "2    62370.0         NaN          NaN         NaN          NaN   \n",
       "3      340.0         NaN          NaN         NaN          NaN   \n",
       "4    18070.0         NaN          NaN         NaN          NaN   \n",
       "\n",
       "   inhosp_death_time  \n",
       "0                NaN  \n",
       "1            69860.0  \n",
       "2                NaN  \n",
       "3                NaN  \n",
       "4                NaN  \n",
       "\n",
       "[5 rows x 28 columns]"
      ]
     },
     "execution_count": 4,
     "metadata": {},
     "output_type": "execute_result"
    }
   ],
   "source": [
    "df_operations.head()\n",
    "\n"
   ]
  },
  {
   "cell_type": "code",
   "execution_count": 5,
   "metadata": {},
   "outputs": [
    {
     "name": "stdout",
     "output_type": "stream",
     "text": [
      "<class 'pandas.core.frame.DataFrame'>\n",
      "RangeIndex: 131109 entries, 0 to 131108\n",
      "Data columns (total 28 columns):\n",
      " #   Column             Non-Null Count   Dtype  \n",
      "---  ------             --------------   -----  \n",
      " 0   op_id              131109 non-null  int64  \n",
      " 1   subject_id         131109 non-null  int64  \n",
      " 2   hadm_id            131109 non-null  int64  \n",
      " 3   case_id            21122 non-null   float64\n",
      " 4   opdate             131109 non-null  int64  \n",
      " 5   age                131109 non-null  int64  \n",
      " 6   sex                131109 non-null  object \n",
      " 7   weight             129642 non-null  float64\n",
      " 8   height             130321 non-null  float64\n",
      " 9   race               131109 non-null  object \n",
      " 10  asa                127557 non-null  float64\n",
      " 11  emop               131109 non-null  int64  \n",
      " 12  department         131109 non-null  object \n",
      " 13  antype             131109 non-null  object \n",
      " 14  icd10_pcs          131109 non-null  object \n",
      " 15  orin_time          131109 non-null  int64  \n",
      " 16  orout_time         131109 non-null  int64  \n",
      " 17  opstart_time       131097 non-null  float64\n",
      " 18  opend_time         131098 non-null  float64\n",
      " 19  admission_time     131109 non-null  int64  \n",
      " 20  discharge_time     131109 non-null  int64  \n",
      " 21  anstart_time       131056 non-null  float64\n",
      " 22  anend_time         130752 non-null  float64\n",
      " 23  cpbon_time         2522 non-null    float64\n",
      " 24  cpboff_time        2522 non-null    float64\n",
      " 25  icuin_time         14971 non-null   float64\n",
      " 26  icuout_time        14971 non-null   float64\n",
      " 27  inhosp_death_time  1581 non-null    float64\n",
      "dtypes: float64(13), int64(10), object(5)\n",
      "memory usage: 28.0+ MB\n"
     ]
    }
   ],
   "source": [
    "df_operations.info()"
   ]
  },
  {
   "cell_type": "code",
   "execution_count": 6,
   "metadata": {},
   "outputs": [
    {
     "data": {
      "text/plain": [
       "Index(['op_id', 'subject_id', 'hadm_id', 'case_id', 'opdate', 'age', 'sex',\n",
       "       'weight', 'height', 'race', 'asa', 'emop', 'department', 'antype',\n",
       "       'icd10_pcs', 'orin_time', 'orout_time', 'opstart_time', 'opend_time',\n",
       "       'admission_time', 'discharge_time', 'anstart_time', 'anend_time',\n",
       "       'cpbon_time', 'cpboff_time', 'icuin_time', 'icuout_time',\n",
       "       'inhosp_death_time'],\n",
       "      dtype='object')"
      ]
     },
     "execution_count": 6,
     "metadata": {},
     "output_type": "execute_result"
    }
   ],
   "source": [
    "df_operations.columns"
   ]
  },
  {
   "cell_type": "code",
   "execution_count": 7,
   "metadata": {},
   "outputs": [
    {
     "data": {
      "text/html": [
       "<div>\n",
       "<style scoped>\n",
       "    .dataframe tbody tr th:only-of-type {\n",
       "        vertical-align: middle;\n",
       "    }\n",
       "\n",
       "    .dataframe tbody tr th {\n",
       "        vertical-align: top;\n",
       "    }\n",
       "\n",
       "    .dataframe thead th {\n",
       "        text-align: right;\n",
       "    }\n",
       "</style>\n",
       "<table border=\"1\" class=\"dataframe\">\n",
       "  <thead>\n",
       "    <tr style=\"text-align: right;\">\n",
       "      <th></th>\n",
       "      <th>op_id</th>\n",
       "      <th>subject_id</th>\n",
       "      <th>hadm_id</th>\n",
       "      <th>case_id</th>\n",
       "      <th>opdate</th>\n",
       "      <th>age</th>\n",
       "      <th>weight</th>\n",
       "      <th>height</th>\n",
       "      <th>asa</th>\n",
       "      <th>emop</th>\n",
       "      <th>...</th>\n",
       "      <th>opend_time</th>\n",
       "      <th>admission_time</th>\n",
       "      <th>discharge_time</th>\n",
       "      <th>anstart_time</th>\n",
       "      <th>anend_time</th>\n",
       "      <th>cpbon_time</th>\n",
       "      <th>cpboff_time</th>\n",
       "      <th>icuin_time</th>\n",
       "      <th>icuout_time</th>\n",
       "      <th>inhosp_death_time</th>\n",
       "    </tr>\n",
       "  </thead>\n",
       "  <tbody>\n",
       "    <tr>\n",
       "      <th>count</th>\n",
       "      <td>1.311090e+05</td>\n",
       "      <td>1.311090e+05</td>\n",
       "      <td>1.311090e+05</td>\n",
       "      <td>21122.000000</td>\n",
       "      <td>1.311090e+05</td>\n",
       "      <td>131109.000000</td>\n",
       "      <td>129642.000000</td>\n",
       "      <td>130321.000000</td>\n",
       "      <td>127557.000000</td>\n",
       "      <td>131109.000000</td>\n",
       "      <td>...</td>\n",
       "      <td>1.310980e+05</td>\n",
       "      <td>1.311090e+05</td>\n",
       "      <td>1.311090e+05</td>\n",
       "      <td>1.310560e+05</td>\n",
       "      <td>1.307520e+05</td>\n",
       "      <td>2.522000e+03</td>\n",
       "      <td>2.522000e+03</td>\n",
       "      <td>1.497100e+04</td>\n",
       "      <td>1.497100e+04</td>\n",
       "      <td>1.581000e+03</td>\n",
       "    </tr>\n",
       "    <tr>\n",
       "      <th>mean</th>\n",
       "      <td>4.501849e+08</td>\n",
       "      <td>1.501151e+08</td>\n",
       "      <td>2.500605e+08</td>\n",
       "      <td>2655.172427</td>\n",
       "      <td>2.230799e+05</td>\n",
       "      <td>55.741826</td>\n",
       "      <td>62.715995</td>\n",
       "      <td>162.088696</td>\n",
       "      <td>1.762914</td>\n",
       "      <td>0.094311</td>\n",
       "      <td>...</td>\n",
       "      <td>2.239465e+05</td>\n",
       "      <td>2.195089e+05</td>\n",
       "      <td>2.341425e+05</td>\n",
       "      <td>2.237091e+05</td>\n",
       "      <td>2.239670e+05</td>\n",
       "      <td>1.930163e+05</td>\n",
       "      <td>1.932140e+05</td>\n",
       "      <td>1.995326e+05</td>\n",
       "      <td>2.066151e+05</td>\n",
       "      <td>7.123040e+05</td>\n",
       "    </tr>\n",
       "    <tr>\n",
       "      <th>std</th>\n",
       "      <td>2.890456e+07</td>\n",
       "      <td>2.885181e+07</td>\n",
       "      <td>2.885371e+07</td>\n",
       "      <td>20959.840599</td>\n",
       "      <td>6.632678e+05</td>\n",
       "      <td>16.043584</td>\n",
       "      <td>12.339016</td>\n",
       "      <td>69.809115</td>\n",
       "      <td>0.638805</td>\n",
       "      <td>0.292262</td>\n",
       "      <td>...</td>\n",
       "      <td>6.632842e+05</td>\n",
       "      <td>6.629503e+05</td>\n",
       "      <td>6.650847e+05</td>\n",
       "      <td>6.631010e+05</td>\n",
       "      <td>6.633736e+05</td>\n",
       "      <td>6.819669e+05</td>\n",
       "      <td>6.819694e+05</td>\n",
       "      <td>6.306320e+05</td>\n",
       "      <td>6.329729e+05</td>\n",
       "      <td>1.025400e+06</td>\n",
       "    </tr>\n",
       "    <tr>\n",
       "      <th>min</th>\n",
       "      <td>4.000005e+08</td>\n",
       "      <td>1.000008e+08</td>\n",
       "      <td>2.000009e+08</td>\n",
       "      <td>-32763.000000</td>\n",
       "      <td>-1.440000e+03</td>\n",
       "      <td>20.000000</td>\n",
       "      <td>-1.000000</td>\n",
       "      <td>-1.000000</td>\n",
       "      <td>1.000000</td>\n",
       "      <td>0.000000</td>\n",
       "      <td>...</td>\n",
       "      <td>5.500000e+01</td>\n",
       "      <td>0.000000e+00</td>\n",
       "      <td>1.435000e+03</td>\n",
       "      <td>-1.000000e+01</td>\n",
       "      <td>6.500000e+01</td>\n",
       "      <td>1.150000e+02</td>\n",
       "      <td>2.900000e+02</td>\n",
       "      <td>-4.965000e+03</td>\n",
       "      <td>6.850000e+02</td>\n",
       "      <td>7.850000e+02</td>\n",
       "    </tr>\n",
       "    <tr>\n",
       "      <th>25%</th>\n",
       "      <td>4.251141e+08</td>\n",
       "      <td>1.251336e+08</td>\n",
       "      <td>2.250803e+08</td>\n",
       "      <td>-19803.750000</td>\n",
       "      <td>1.440000e+03</td>\n",
       "      <td>45.000000</td>\n",
       "      <td>54.000000</td>\n",
       "      <td>156.000000</td>\n",
       "      <td>1.000000</td>\n",
       "      <td>0.000000</td>\n",
       "      <td>...</td>\n",
       "      <td>2.205000e+03</td>\n",
       "      <td>0.000000e+00</td>\n",
       "      <td>5.755000e+03</td>\n",
       "      <td>2.080000e+03</td>\n",
       "      <td>2.210000e+03</td>\n",
       "      <td>4.900000e+03</td>\n",
       "      <td>5.065000e+03</td>\n",
       "      <td>2.785000e+03</td>\n",
       "      <td>5.090000e+03</td>\n",
       "      <td>5.173500e+04</td>\n",
       "    </tr>\n",
       "    <tr>\n",
       "      <th>50%</th>\n",
       "      <td>4.503346e+08</td>\n",
       "      <td>1.502662e+08</td>\n",
       "      <td>2.501240e+08</td>\n",
       "      <td>8173.500000</td>\n",
       "      <td>2.880000e+03</td>\n",
       "      <td>60.000000</td>\n",
       "      <td>62.000000</td>\n",
       "      <td>162.000000</td>\n",
       "      <td>2.000000</td>\n",
       "      <td>0.000000</td>\n",
       "      <td>...</td>\n",
       "      <td>3.485000e+03</td>\n",
       "      <td>0.000000e+00</td>\n",
       "      <td>1.151500e+04</td>\n",
       "      <td>3.355000e+03</td>\n",
       "      <td>3.490000e+03</td>\n",
       "      <td>7.800000e+03</td>\n",
       "      <td>8.000000e+03</td>\n",
       "      <td>4.270000e+03</td>\n",
       "      <td>8.080000e+03</td>\n",
       "      <td>1.928650e+05</td>\n",
       "    </tr>\n",
       "    <tr>\n",
       "      <th>75%</th>\n",
       "      <td>4.752661e+08</td>\n",
       "      <td>1.750171e+08</td>\n",
       "      <td>2.750994e+08</td>\n",
       "      <td>20441.500000</td>\n",
       "      <td>1.008000e+04</td>\n",
       "      <td>70.000000</td>\n",
       "      <td>70.000000</td>\n",
       "      <td>168.000000</td>\n",
       "      <td>2.000000</td>\n",
       "      <td>0.000000</td>\n",
       "      <td>...</td>\n",
       "      <td>1.077500e+04</td>\n",
       "      <td>0.000000e+00</td>\n",
       "      <td>3.167500e+04</td>\n",
       "      <td>1.068500e+04</td>\n",
       "      <td>1.077000e+04</td>\n",
       "      <td>1.268000e+04</td>\n",
       "      <td>1.282875e+04</td>\n",
       "      <td>1.393500e+04</td>\n",
       "      <td>2.650250e+04</td>\n",
       "      <td>9.723300e+05</td>\n",
       "    </tr>\n",
       "    <tr>\n",
       "      <th>max</th>\n",
       "      <td>4.999990e+08</td>\n",
       "      <td>1.999994e+08</td>\n",
       "      <td>2.999994e+08</td>\n",
       "      <td>32767.000000</td>\n",
       "      <td>5.184000e+06</td>\n",
       "      <td>90.000000</td>\n",
       "      <td>454.000000</td>\n",
       "      <td>17937.000000</td>\n",
       "      <td>6.000000</td>\n",
       "      <td>1.000000</td>\n",
       "      <td>...</td>\n",
       "      <td>5.185165e+06</td>\n",
       "      <td>5.182560e+06</td>\n",
       "      <td>5.378395e+06</td>\n",
       "      <td>5.185070e+06</td>\n",
       "      <td>5.185170e+06</td>\n",
       "      <td>5.133215e+06</td>\n",
       "      <td>5.133375e+06</td>\n",
       "      <td>5.133635e+06</td>\n",
       "      <td>5.137400e+06</td>\n",
       "      <td>4.623645e+06</td>\n",
       "    </tr>\n",
       "  </tbody>\n",
       "</table>\n",
       "<p>8 rows × 23 columns</p>\n",
       "</div>"
      ],
      "text/plain": [
       "              op_id    subject_id       hadm_id       case_id        opdate  \\\n",
       "count  1.311090e+05  1.311090e+05  1.311090e+05  21122.000000  1.311090e+05   \n",
       "mean   4.501849e+08  1.501151e+08  2.500605e+08   2655.172427  2.230799e+05   \n",
       "std    2.890456e+07  2.885181e+07  2.885371e+07  20959.840599  6.632678e+05   \n",
       "min    4.000005e+08  1.000008e+08  2.000009e+08 -32763.000000 -1.440000e+03   \n",
       "25%    4.251141e+08  1.251336e+08  2.250803e+08 -19803.750000  1.440000e+03   \n",
       "50%    4.503346e+08  1.502662e+08  2.501240e+08   8173.500000  2.880000e+03   \n",
       "75%    4.752661e+08  1.750171e+08  2.750994e+08  20441.500000  1.008000e+04   \n",
       "max    4.999990e+08  1.999994e+08  2.999994e+08  32767.000000  5.184000e+06   \n",
       "\n",
       "                 age         weight         height            asa  \\\n",
       "count  131109.000000  129642.000000  130321.000000  127557.000000   \n",
       "mean       55.741826      62.715995     162.088696       1.762914   \n",
       "std        16.043584      12.339016      69.809115       0.638805   \n",
       "min        20.000000      -1.000000      -1.000000       1.000000   \n",
       "25%        45.000000      54.000000     156.000000       1.000000   \n",
       "50%        60.000000      62.000000     162.000000       2.000000   \n",
       "75%        70.000000      70.000000     168.000000       2.000000   \n",
       "max        90.000000     454.000000   17937.000000       6.000000   \n",
       "\n",
       "                emop  ...    opend_time  admission_time  discharge_time  \\\n",
       "count  131109.000000  ...  1.310980e+05    1.311090e+05    1.311090e+05   \n",
       "mean        0.094311  ...  2.239465e+05    2.195089e+05    2.341425e+05   \n",
       "std         0.292262  ...  6.632842e+05    6.629503e+05    6.650847e+05   \n",
       "min         0.000000  ...  5.500000e+01    0.000000e+00    1.435000e+03   \n",
       "25%         0.000000  ...  2.205000e+03    0.000000e+00    5.755000e+03   \n",
       "50%         0.000000  ...  3.485000e+03    0.000000e+00    1.151500e+04   \n",
       "75%         0.000000  ...  1.077500e+04    0.000000e+00    3.167500e+04   \n",
       "max         1.000000  ...  5.185165e+06    5.182560e+06    5.378395e+06   \n",
       "\n",
       "       anstart_time    anend_time    cpbon_time   cpboff_time    icuin_time  \\\n",
       "count  1.310560e+05  1.307520e+05  2.522000e+03  2.522000e+03  1.497100e+04   \n",
       "mean   2.237091e+05  2.239670e+05  1.930163e+05  1.932140e+05  1.995326e+05   \n",
       "std    6.631010e+05  6.633736e+05  6.819669e+05  6.819694e+05  6.306320e+05   \n",
       "min   -1.000000e+01  6.500000e+01  1.150000e+02  2.900000e+02 -4.965000e+03   \n",
       "25%    2.080000e+03  2.210000e+03  4.900000e+03  5.065000e+03  2.785000e+03   \n",
       "50%    3.355000e+03  3.490000e+03  7.800000e+03  8.000000e+03  4.270000e+03   \n",
       "75%    1.068500e+04  1.077000e+04  1.268000e+04  1.282875e+04  1.393500e+04   \n",
       "max    5.185070e+06  5.185170e+06  5.133215e+06  5.133375e+06  5.133635e+06   \n",
       "\n",
       "        icuout_time  inhosp_death_time  \n",
       "count  1.497100e+04       1.581000e+03  \n",
       "mean   2.066151e+05       7.123040e+05  \n",
       "std    6.329729e+05       1.025400e+06  \n",
       "min    6.850000e+02       7.850000e+02  \n",
       "25%    5.090000e+03       5.173500e+04  \n",
       "50%    8.080000e+03       1.928650e+05  \n",
       "75%    2.650250e+04       9.723300e+05  \n",
       "max    5.137400e+06       4.623645e+06  \n",
       "\n",
       "[8 rows x 23 columns]"
      ]
     },
     "execution_count": 7,
     "metadata": {},
     "output_type": "execute_result"
    }
   ],
   "source": [
    "df_operations.describe()"
   ]
  },
  {
   "cell_type": "markdown",
   "metadata": {},
   "source": [
    "Op id"
   ]
  },
  {
   "cell_type": "markdown",
   "metadata": {},
   "source": [
    "Each admission and operation were randomly assigned with unique numbers (hadm_id and op_id, respectively)."
   ]
  },
  {
   "cell_type": "code",
   "execution_count": 8,
   "metadata": {},
   "outputs": [
    {
     "name": "stdout",
     "output_type": "stream",
     "text": [
      "131109\n"
     ]
    }
   ],
   "source": [
    "unique_subject_ids = df_operations['op_id'].nunique()\n",
    "print(unique_subject_ids)"
   ]
  },
  {
   "cell_type": "code",
   "execution_count": 9,
   "metadata": {},
   "outputs": [
    {
     "name": "stdout",
     "output_type": "stream",
     "text": [
      "[484069807 446270725 406892271 478413008 468516791 493866243 491416905\n",
      " 467806534 471265968 466411896 467425045 461473883 430539801 466389608\n",
      " 487807079 406915930 469265516 439560439 435144202 459562341 473020149\n",
      " 454482202 480242953 462956682 485183540 476759898 408038149 418223935\n",
      " 407131122 432945014]\n"
     ]
    }
   ],
   "source": [
    "unique_icd10_pcs_values = df_operations['op_id'].unique()\n",
    "print(unique_icd10_pcs_values[:30])"
   ]
  },
  {
   "cell_type": "markdown",
   "metadata": {},
   "source": [
    "Subject id"
   ]
  },
  {
   "cell_type": "markdown",
   "metadata": {},
   "source": [
    "Each table can be connected using subject_id. A subject_id may be matched to one or more hadm_ids. A single hadm_id may be matched with one or more op_ids. \n",
    "We did not extract these variables except for the medical record number, which was subsequently substituted with unique random integers as the subject id (described as subject_id). Each admission and operation were randomly assigned with unique numbers (hadm_id and op_id, respectively). To allow identifiers to be easily distinguished, subject_id begin with “1”, hadm_id begin with “2”, and and op_id, respectively begin with “4”."
   ]
  },
  {
   "cell_type": "code",
   "execution_count": 10,
   "metadata": {},
   "outputs": [
    {
     "name": "stdout",
     "output_type": "stream",
     "text": [
      "99900\n"
     ]
    }
   ],
   "source": [
    "unique_subject_ids = df_operations['subject_id'].nunique()\n",
    "print(unique_subject_ids)"
   ]
  },
  {
   "cell_type": "code",
   "execution_count": 11,
   "metadata": {},
   "outputs": [
    {
     "name": "stdout",
     "output_type": "stream",
     "text": [
      "[178742874 158995752 108553242 133278262 116924034 174229093 153073110\n",
      " 156776324 198640844 100259714 134213281 134195201 181420324 160947402\n",
      " 145247513 133372632 136920223 163619571 102512074 132888590 186168623\n",
      " 152346954 187733661 162604840 160631734 157101224 189066504 188451054\n",
      " 125708871 126077562]\n"
     ]
    }
   ],
   "source": [
    "unique_subject_id = df_operations['subject_id'].unique()\n",
    "print(unique_subject_id[:30])"
   ]
  },
  {
   "cell_type": "code",
   "execution_count": 12,
   "metadata": {},
   "outputs": [
    {
     "name": "stdout",
     "output_type": "stream",
     "text": [
      "subject_id\n",
      "168207873    30\n",
      "124078924    26\n",
      "189346024    25\n",
      "147473251    20\n",
      "104885221    18\n",
      "153202172    18\n",
      "123942194    17\n",
      "109801041    16\n",
      "196178403    16\n",
      "186695842    15\n",
      "131907602    15\n",
      "189784570    15\n",
      "134966010    15\n",
      "157756183    15\n",
      "198868043    14\n",
      "180171972    13\n",
      "194544513    13\n",
      "120738743    13\n",
      "132322393    13\n",
      "154890944    13\n",
      "118936510    12\n",
      "156486520    12\n",
      "126453571    12\n",
      "160688762    12\n",
      "174033733    12\n",
      "108745941    12\n",
      "172335624    12\n",
      "147283461    12\n",
      "185801010    11\n",
      "156110181    11\n",
      "Name: count, dtype: int64\n"
     ]
    }
   ],
   "source": [
    "top_10_subject_id = df_operations['subject_id'].value_counts().head(30)\n",
    "print(top_10_subject_id)\n"
   ]
  },
  {
   "cell_type": "markdown",
   "metadata": {},
   "source": [
    "Hadm_id"
   ]
  },
  {
   "cell_type": "code",
   "execution_count": 13,
   "metadata": {},
   "outputs": [
    {
     "name": "stdout",
     "output_type": "stream",
     "text": [
      "126754\n"
     ]
    }
   ],
   "source": [
    "unique_hadm_id = df_operations['hadm_id'].nunique()\n",
    "print(unique_hadm_id)"
   ]
  },
  {
   "cell_type": "code",
   "execution_count": 14,
   "metadata": {},
   "outputs": [
    {
     "name": "stdout",
     "output_type": "stream",
     "text": [
      "[229842382 257857903 200664328 277235295 299190423 275813505 210586983\n",
      " 201100899 244836112 241547739 225860669 265770645 208290342 262240911\n",
      " 259299532 207465029 222607767 279388936 267113463 267511777 201726392\n",
      " 229023207 238035661 267911567 285012362 262140617 242779851 269366215\n",
      " 291177123 272790506]\n"
     ]
    }
   ],
   "source": [
    "unique_hadm_id = df_operations['hadm_id'].unique()\n",
    "print(unique_hadm_id[:30])"
   ]
  },
  {
   "cell_type": "code",
   "execution_count": 15,
   "metadata": {},
   "outputs": [
    {
     "name": "stdout",
     "output_type": "stream",
     "text": [
      "hadm_id\n",
      "275124301    26\n",
      "298197118    18\n",
      "246137863    18\n",
      "270266180    15\n",
      "239025361    15\n",
      "223219466    13\n",
      "209181966    13\n",
      "254271269    12\n",
      "272735176    12\n",
      "248175012    10\n",
      "223652876    10\n",
      "239075635    10\n",
      "279037429    10\n",
      "283230482    10\n",
      "231919923    10\n",
      "207042461    10\n",
      "295483964    10\n",
      "294874464     9\n",
      "212400163     9\n",
      "254443527     9\n",
      "221334926     9\n",
      "295639305     9\n",
      "291076036     9\n",
      "254092465     9\n",
      "201401353     9\n",
      "226318938     8\n",
      "294955901     8\n",
      "281137464     8\n",
      "203052978     8\n",
      "298161333     8\n",
      "Name: count, dtype: int64\n"
     ]
    }
   ],
   "source": [
    "top_10_hadm_id = df_operations['hadm_id'].value_counts().head(30)\n",
    "print(top_10_hadm_id)"
   ]
  },
  {
   "cell_type": "markdown",
   "metadata": {},
   "source": [
    "ICS-10-PCS"
   ]
  },
  {
   "cell_type": "markdown",
   "metadata": {},
   "source": [
    " Operation names were converted to the first four codes of ICD-10-PCS"
   ]
  },
  {
   "cell_type": "code",
   "execution_count": 16,
   "metadata": {},
   "outputs": [
    {
     "name": "stdout",
     "output_type": "stream",
     "text": [
      "2255\n"
     ]
    }
   ],
   "source": [
    "unique_subject_ids = df_operations['icd10_pcs'].nunique()\n",
    "print(unique_subject_ids)"
   ]
  },
  {
   "cell_type": "code",
   "execution_count": 17,
   "metadata": {},
   "outputs": [
    {
     "name": "stdout",
     "output_type": "stream",
     "text": [
      "['09B70' '0WJG0' '0DHS0' '10D00' '0JQC0' '0WTF0' '0QB90' '0X6L0' '0NQR0'\n",
      " '0GTK0' '09B00' '09QM0' '09Q70' '08DJ3' '02RG0' '0VTS0' '02100' '0HD0X'\n",
      " '009T0' '0RB30' '0TBB7' '0FY00' '03BY0' '0DTP0' '0FB00' '0DB60' '0TT00'\n",
      " '0TB14' '0TT10' '0BTC4']\n"
     ]
    }
   ],
   "source": [
    "unique_icd10_pcs_values = df_operations['icd10_pcs'].unique()\n",
    "print(unique_icd10_pcs_values[:30])"
   ]
  },
  {
   "cell_type": "code",
   "execution_count": 18,
   "metadata": {},
   "outputs": [
    {
     "name": "stdout",
     "output_type": "stream",
     "text": [
      "icd10_pcs\n",
      "08DJ3    6906\n",
      "09Q70    4178\n",
      "08R43    3371\n",
      "0HBT0    3190\n",
      "0GTK0    2982\n",
      "0HBU0    2959\n",
      "0FT44    2857\n",
      "10D00    2661\n",
      "0DB64    2128\n",
      "0TBB8    2026\n",
      "08RJ3    1850\n",
      "08RK3    1742\n",
      "00B00    1661\n",
      "09B00    1573\n",
      "0DTP0    1497\n",
      "0RG00    1387\n",
      "0TBB7    1386\n",
      "0UJD8    1359\n",
      "0WQN0    1358\n",
      "0WJG0    1314\n",
      "009T0    1257\n",
      "0VT00    1230\n",
      "0UT94    1197\n",
      "0HD0X    1140\n",
      "0VB08    1075\n",
      "09QM0    1012\n",
      "0YQ50     988\n",
      "0DTP4     963\n",
      "0PB00     930\n",
      "03VG3     926\n",
      "Name: count, dtype: int64\n"
     ]
    }
   ],
   "source": [
    "top_10_icd10_pcs = df_operations['icd10_pcs'].value_counts().head(30)\n",
    "print(top_10_icd10_pcs)\n"
   ]
  },
  {
   "cell_type": "code",
   "execution_count": 19,
   "metadata": {},
   "outputs": [
    {
     "name": "stderr",
     "output_type": "stream",
     "text": [
      "C:\\Users\\20181588\\AppData\\Local\\Temp\\ipykernel_4736\\2299865560.py:6: FutureWarning: \n",
      "\n",
      "Passing `palette` without assigning `hue` is deprecated and will be removed in v0.14.0. Assign the `x` variable to `hue` and set `legend=False` for the same effect.\n",
      "\n",
      "  sns.barplot(x=top_10_icd10_pcs.index, y=top_10_icd10_pcs.values, palette=\"viridis\")\n"
     ]
    },
    {
     "data": {
      "image/png": "[encoded data removed]",
      "text/plain": [
       "<Figure size 1200x800 with 1 Axes>"
      ]
     },
     "metadata": {},
     "output_type": "display_data"
    }
   ],
   "source": [
    "import matplotlib.pyplot as plt\n",
    "import seaborn as sns\n",
    "\n",
    "# Plotting the top 10 ICD-10-PCS codes\n",
    "plt.figure(figsize=(12, 8))\n",
    "sns.barplot(x=top_10_icd10_pcs.index, y=top_10_icd10_pcs.values, palette=\"viridis\")\n",
    "plt.xticks(rotation=45)\n",
    "plt.title(\"International Classification of Diseases, 10th revision, Clinical Modification (ICD-10-CM) Codes\")\n",
    "plt.ylabel(\"Number of Occurrences\")\n",
    "plt.xlabel(\"ICD-10-PCS Code\")\n",
    "plt.show()"
   ]
  },
  {
   "cell_type": "markdown",
   "metadata": {},
   "source": [
    "Department"
   ]
  },
  {
   "cell_type": "code",
   "execution_count": 20,
   "metadata": {},
   "outputs": [
    {
     "name": "stdout",
     "output_type": "stream",
     "text": [
      "16\n"
     ]
    }
   ],
   "source": [
    "unique_department = df_operations['department'].nunique()\n",
    "print(unique_department)"
   ]
  },
  {
   "cell_type": "code",
   "execution_count": 21,
   "metadata": {},
   "outputs": [
    {
     "name": "stdout",
     "output_type": "stream",
     "text": [
      "['OT' 'GS' 'OG' 'OS' 'OL' 'CTS' 'NS' 'UR' 'PS' 'RO' 'AN' 'EM' 'IM' 'PED'\n",
      " 'DM' 'RAD']\n"
     ]
    }
   ],
   "source": [
    "unique_department = df_operations['department'].unique()\n",
    "print(unique_department[:16])"
   ]
  },
  {
   "cell_type": "code",
   "execution_count": 22,
   "metadata": {},
   "outputs": [
    {
     "name": "stdout",
     "output_type": "stream",
     "text": [
      "department\n",
      "GS     34764\n",
      "OS     17499\n",
      "OT     17251\n",
      "OG     12948\n",
      "UR     12237\n",
      "OL     11711\n",
      "NS     10180\n",
      "CTS     8757\n",
      "PS      5170\n",
      "RAD      379\n",
      "IM        89\n",
      "AN        68\n",
      "PED       38\n",
      "RO        15\n",
      "EM         2\n",
      "DM         1\n",
      "Name: count, dtype: int64\n"
     ]
    }
   ],
   "source": [
    "top_10_department  = df_operations['department'].value_counts().head(16)\n",
    "print(top_10_department )"
   ]
  },
  {
   "cell_type": "markdown",
   "metadata": {},
   "source": [
    "OG: Obstetrics and Gynecology\n",
    "GS: General Surgery\n",
    "OS: Orthopedic Surgery\n",
    "OT: Occupational Therapy (though in a department context, this might mean something else)\n",
    "CTS: Cardiothoracic Surgery\n",
    "UR: Urology\n",
    "OL: Otolaryngology (Ear, Nose, and Throat or ENT)\n",
    "NS: Neurosurgery or Neurological Surgery\n",
    "PS: Plastic Surgery\n",
    "EM: Emergency Medicine\n",
    "AN: Anesthesiology\n",
    "RO: Radiation Oncology\n",
    "IM: Internal Medicine\n",
    "PED: Pediatrics\n",
    "DM:  Dhermathology\n",
    "RAD: Radiology"
   ]
  },
  {
   "cell_type": "markdown",
   "metadata": {},
   "source": [
    "Anaesthesia type"
   ]
  },
  {
   "cell_type": "code",
   "execution_count": 23,
   "metadata": {},
   "outputs": [
    {
     "name": "stdout",
     "output_type": "stream",
     "text": [
      "4\n"
     ]
    }
   ],
   "source": [
    "\n",
    "unique_antype = df_operations['antype'].nunique()\n",
    "print(unique_antype)"
   ]
  },
  {
   "cell_type": "code",
   "execution_count": 24,
   "metadata": {},
   "outputs": [
    {
     "name": "stdout",
     "output_type": "stream",
     "text": [
      "['General' 'Neuraxial' 'MAC' 'Regional']\n"
     ]
    }
   ],
   "source": [
    "unique_antype = df_operations['antype'].unique()\n",
    "print(unique_antype[:4])"
   ]
  },
  {
   "cell_type": "code",
   "execution_count": 25,
   "metadata": {},
   "outputs": [
    {
     "name": "stdout",
     "output_type": "stream",
     "text": [
      "antype\n",
      "General      102904\n",
      "MAC           15034\n",
      "Neuraxial     13005\n",
      "Regional        166\n",
      "Name: count, dtype: int64\n"
     ]
    }
   ],
   "source": [
    "top_10_antype= df_operations['antype'].value_counts().head(4)\n",
    "print(top_10_antype)"
   ]
  },
  {
   "cell_type": "markdown",
   "metadata": {},
   "source": [
    "Duration of stay time is dischage time (all tines are shown in minutes)"
   ]
  },
  {
   "cell_type": "code",
   "execution_count": 26,
   "metadata": {},
   "outputs": [
    {
     "name": "stdout",
     "output_type": "stream",
     "text": [
      "0     0\n",
      "1     0\n",
      "2     0\n",
      "3     0\n",
      "4     0\n",
      "5     0\n",
      "6     0\n",
      "7     0\n",
      "8     0\n",
      "9     0\n",
      "10    0\n",
      "11    0\n",
      "12    0\n",
      "13    0\n",
      "14    0\n",
      "Name: admission_time, dtype: int64\n"
     ]
    }
   ],
   "source": [
    "print(df_operations['admission_time'] [:15])"
   ]
  },
  {
   "cell_type": "code",
   "execution_count": 27,
   "metadata": {},
   "outputs": [
    {
     "name": "stdout",
     "output_type": "stream",
     "text": [
      "0       7195\n",
      "1      70555\n",
      "2     178555\n",
      "3       5755\n",
      "4      25915\n",
      "5       5755\n",
      "6      17275\n",
      "7     154075\n",
      "8      28795\n",
      "9       5755\n",
      "10      7195\n",
      "11      8635\n",
      "12      4315\n",
      "13      4315\n",
      "14    109435\n",
      "Name: discharge_time, dtype: int64\n"
     ]
    }
   ],
   "source": [
    "print(df_operations['discharge_time'] [:15])"
   ]
  },
  {
   "cell_type": "markdown",
   "metadata": {},
   "source": [
    "Duration of anesthesia"
   ]
  },
  {
   "cell_type": "code",
   "execution_count": 28,
   "metadata": {},
   "outputs": [
    {
     "name": "stdout",
     "output_type": "stream",
     "text": [
      "0      1120.0\n",
      "1      1345.0\n",
      "2     62170.0\n",
      "3       215.0\n",
      "4     17950.0\n",
      "5      1990.0\n",
      "6      2270.0\n",
      "7     85440.0\n",
      "8     10585.0\n",
      "9      2150.0\n",
      "10     2070.0\n",
      "11     2380.0\n",
      "12     1915.0\n",
      "13     1915.0\n",
      "14    76070.0\n",
      "Name: anstart_time, dtype: float64\n"
     ]
    }
   ],
   "source": [
    "print(df_operations['anstart_time'] [:15])\n"
   ]
  },
  {
   "cell_type": "code",
   "execution_count": 29,
   "metadata": {},
   "outputs": [
    {
     "name": "stdout",
     "output_type": "stream",
     "text": [
      "0      1235.0\n",
      "1      1540.0\n",
      "2     62370.0\n",
      "3       340.0\n",
      "4     18070.0\n",
      "5      2070.0\n",
      "6      2580.0\n",
      "7     85920.0\n",
      "8     10700.0\n",
      "9      2220.0\n",
      "10     2160.0\n",
      "11     2530.0\n",
      "12     2050.0\n",
      "13     2005.0\n",
      "14    76125.0\n",
      "Name: anend_time, dtype: float64\n"
     ]
    }
   ],
   "source": [
    "print(df_operations['anend_time'] [:15])"
   ]
  },
  {
   "cell_type": "code",
   "execution_count": 30,
   "metadata": {},
   "outputs": [
    {
     "name": "stdout",
     "output_type": "stream",
     "text": [
      "0     115.0\n",
      "1     195.0\n",
      "2     200.0\n",
      "3     125.0\n",
      "4     120.0\n",
      "5      80.0\n",
      "6     310.0\n",
      "7     480.0\n",
      "8     115.0\n",
      "9      70.0\n",
      "10     90.0\n",
      "11    150.0\n",
      "12    135.0\n",
      "13     90.0\n",
      "14     55.0\n",
      "Name: an_duration, dtype: float64\n"
     ]
    }
   ],
   "source": [
    "\n",
    "df_operations['an_duration'] = df_operations['anend_time'] - df_operations['anstart_time']\n",
    "print(df_operations['an_duration'] [:15])\n"
   ]
  },
  {
   "cell_type": "code",
   "execution_count": 31,
   "metadata": {},
   "outputs": [
    {
     "data": {
      "text/plain": [
       "Index(['op_id', 'subject_id', 'hadm_id', 'case_id', 'opdate', 'age', 'sex',\n",
       "       'weight', 'height', 'race', 'asa', 'emop', 'department', 'antype',\n",
       "       'icd10_pcs', 'orin_time', 'orout_time', 'opstart_time', 'opend_time',\n",
       "       'admission_time', 'discharge_time', 'anstart_time', 'anend_time',\n",
       "       'cpbon_time', 'cpboff_time', 'icuin_time', 'icuout_time',\n",
       "       'inhosp_death_time', 'an_duration'],\n",
       "      dtype='object')"
      ]
     },
     "execution_count": 31,
     "metadata": {},
     "output_type": "execute_result"
    }
   ],
   "source": [
    "df_operations.columns"
   ]
  },
  {
   "cell_type": "markdown",
   "metadata": {},
   "source": [
    "Duration of operation"
   ]
  },
  {
   "cell_type": "code",
   "execution_count": 32,
   "metadata": {},
   "outputs": [
    {
     "name": "stdout",
     "output_type": "stream",
     "text": [
      "0      1140.0\n",
      "1      1370.0\n",
      "2     62200.0\n",
      "3       230.0\n",
      "4     17970.0\n",
      "5      2020.0\n",
      "6      2295.0\n",
      "7     85490.0\n",
      "8     10630.0\n",
      "9      2175.0\n",
      "10     2080.0\n",
      "11     2410.0\n",
      "12     1950.0\n",
      "13     1950.0\n",
      "14    76095.0\n",
      "Name: opstart_time, dtype: float64\n"
     ]
    }
   ],
   "source": [
    "print(df_operations['opstart_time'] [:15])"
   ]
  },
  {
   "cell_type": "code",
   "execution_count": 33,
   "metadata": {},
   "outputs": [
    {
     "name": "stdout",
     "output_type": "stream",
     "text": [
      "0      1230.0\n",
      "1      1540.0\n",
      "2     62380.0\n",
      "3       330.0\n",
      "4     18070.0\n",
      "5      2070.0\n",
      "6      2565.0\n",
      "7     85895.0\n",
      "8     10690.0\n",
      "9      2220.0\n",
      "10     2150.0\n",
      "11     2525.0\n",
      "12     2040.0\n",
      "13     1980.0\n",
      "14    76120.0\n",
      "Name: opend_time, dtype: float64\n"
     ]
    }
   ],
   "source": [
    "print(df_operations['opend_time'] [:15])"
   ]
  },
  {
   "cell_type": "code",
   "execution_count": 34,
   "metadata": {},
   "outputs": [
    {
     "name": "stdout",
     "output_type": "stream",
     "text": [
      "0      90.0\n",
      "1     170.0\n",
      "2     180.0\n",
      "3     100.0\n",
      "4     100.0\n",
      "5      50.0\n",
      "6     270.0\n",
      "7     405.0\n",
      "8      60.0\n",
      "9      45.0\n",
      "10     70.0\n",
      "11    115.0\n",
      "12     90.0\n",
      "13     30.0\n",
      "14     25.0\n",
      "Name: op_duration, dtype: float64\n"
     ]
    }
   ],
   "source": [
    "df_operations['op_duration'] = df_operations['opend_time'] - df_operations['opstart_time']\n",
    "print(df_operations['op_duration'] [:15])\n"
   ]
  },
  {
   "cell_type": "code",
   "execution_count": 35,
   "metadata": {},
   "outputs": [
    {
     "name": "stdout",
     "output_type": "stream",
     "text": [
      "[  90.  170.  180.  100.   50.  270.  405.   60.   45.   70.  115.   30.\n",
      "   25.  285.   15.  455.  250.  430.  280.  425.  300.  275.  135.   35.\n",
      "   55.  305.  175.  210.   95.  160.  190.  120.  165.  195.  340.   85.\n",
      "  105.   40.  110.  220.   20.  630.  200.  140.  125.  240.   65.  145.\n",
      "  380.  320.  215.  130.  310.  155.  520.   75.   10.   80.  235.  225.\n",
      "  150.  360.  540.  205.  385.  395.  730.  185.  570.  335.  470.  260.\n",
      "  445.  475.  485.  440.  230.  245.  685.  255.  400.  290.  325.  315.\n",
      "  350.  650.  620.  390.  375.  370.  330.  510.  740.  295.  420.  500.\n",
      "  345.  460.  640.  265.  365.  465.  490.  525.  610.  645.  515.    5.\n",
      " 1060.  480.  550.  410.  435.  415.  450.  565.  780.  505.  555.  355.\n",
      "  530.  760.  595.  580.  670.  660.  590.  765.  720.  545.  560.  890.\n",
      "  710.  750.  875.  735.  850.  615.  845.    0.  605.  535.  715.  805.\n",
      " 1245.  625.  585. 1075.  495.  635. 1040.  675.  665.  785.  825. 1630.\n",
      " 1210.  700.   nan  575.  920.  910.  600.  840.  690.  790. 2140.  835.\n",
      " 1080. 1010.  820.  695.  895.  725. 1640.  795.  680.  800.  860.  960.\n",
      "  885.  745.  755.  705.  815.  655.  770. 1625. 1025.  945. 1610.  950.\n",
      "  990. 1125.  985. 1020.  870.  900. 1220.  935. 1430. 1560. 1135. 1345.\n",
      "  880.  775.  965.  810. 1235.  995. 1000.  865.  930. 1065.  830.  940.]\n"
     ]
    }
   ],
   "source": [
    "unique_op_time = df_operations['op_duration'].unique()\n",
    "print(unique_op_time)"
   ]
  },
  {
   "cell_type": "code",
   "execution_count": 36,
   "metadata": {},
   "outputs": [
    {
     "name": "stdout",
     "output_type": "stream",
     "text": [
      "op_duration\n",
      "20.0    5373\n",
      "25.0    4715\n",
      "15.0    4669\n",
      "50.0    4583\n",
      "30.0    4538\n",
      "40.0    4515\n",
      "60.0    4499\n",
      "35.0    4377\n",
      "70.0    4361\n",
      "45.0    4305\n",
      "Name: count, dtype: int64\n"
     ]
    }
   ],
   "source": [
    "top_10_op_time= df_operations['op_duration'].value_counts().head(10)\n",
    "print(top_10_op_time)"
   ]
  },
  {
   "cell_type": "code",
   "execution_count": 37,
   "metadata": {},
   "outputs": [
    {
     "data": {
      "text/plain": [
       "Index(['op_id', 'subject_id', 'hadm_id', 'case_id', 'opdate', 'age', 'sex',\n",
       "       'weight', 'height', 'race', 'asa', 'emop', 'department', 'antype',\n",
       "       'icd10_pcs', 'orin_time', 'orout_time', 'opstart_time', 'opend_time',\n",
       "       'admission_time', 'discharge_time', 'anstart_time', 'anend_time',\n",
       "       'cpbon_time', 'cpboff_time', 'icuin_time', 'icuout_time',\n",
       "       'inhosp_death_time', 'an_duration', 'op_duration'],\n",
       "      dtype='object')"
      ]
     },
     "execution_count": 37,
     "metadata": {},
     "output_type": "execute_result"
    }
   ],
   "source": [
    "df_operations.columns"
   ]
  },
  {
   "cell_type": "markdown",
   "metadata": {},
   "source": [
    "Duration of Cardiopumonary bypass"
   ]
  },
  {
   "cell_type": "code",
   "execution_count": 38,
   "metadata": {},
   "outputs": [
    {
     "name": "stdout",
     "output_type": "stream",
     "text": [
      "0    NaN\n",
      "1    NaN\n",
      "2    NaN\n",
      "3    NaN\n",
      "4    NaN\n",
      "5    NaN\n",
      "6    NaN\n",
      "7    NaN\n",
      "8    NaN\n",
      "9    NaN\n",
      "10   NaN\n",
      "11   NaN\n",
      "12   NaN\n",
      "13   NaN\n",
      "14   NaN\n",
      "Name: cpbon_time, dtype: float64\n"
     ]
    }
   ],
   "source": [
    "print(df_operations['cpbon_time'] [:15])"
   ]
  },
  {
   "cell_type": "code",
   "execution_count": 39,
   "metadata": {},
   "outputs": [
    {
     "name": "stdout",
     "output_type": "stream",
     "text": [
      "[   nan 10665.  2080. ...  9625. 12245. 15555.]\n"
     ]
    }
   ],
   "source": [
    "unique_cpbon_time = df_operations['cpbon_time'].unique()\n",
    "print(unique_cpbon_time)"
   ]
  },
  {
   "cell_type": "code",
   "execution_count": 40,
   "metadata": {},
   "outputs": [
    {
     "name": "stdout",
     "output_type": "stream",
     "text": [
      "0    NaN\n",
      "1    NaN\n",
      "2    NaN\n",
      "3    NaN\n",
      "4    NaN\n",
      "5    NaN\n",
      "6    NaN\n",
      "7    NaN\n",
      "8    NaN\n",
      "9    NaN\n",
      "10   NaN\n",
      "11   NaN\n",
      "12   NaN\n",
      "13   NaN\n",
      "14   NaN\n",
      "Name: cpboff_time, dtype: float64\n"
     ]
    }
   ],
   "source": [
    "print(df_operations['cpboff_time'] [:15])"
   ]
  },
  {
   "cell_type": "code",
   "execution_count": 41,
   "metadata": {},
   "outputs": [
    {
     "name": "stdout",
     "output_type": "stream",
     "text": [
      "0    NaN\n",
      "1    NaN\n",
      "2    NaN\n",
      "3    NaN\n",
      "4    NaN\n",
      "5    NaN\n",
      "6    NaN\n",
      "7    NaN\n",
      "8    NaN\n",
      "9    NaN\n",
      "10   NaN\n",
      "11   NaN\n",
      "12   NaN\n",
      "13   NaN\n",
      "14   NaN\n",
      "Name: cpb_duration, dtype: float64\n"
     ]
    }
   ],
   "source": [
    "df_operations['cpb_duration'] = df_operations['cpboff_time'] - df_operations['cpbon_time']\n",
    "print(df_operations['cpb_duration'] [:15])\n"
   ]
  },
  {
   "cell_type": "code",
   "execution_count": 42,
   "metadata": {},
   "outputs": [
    {
     "name": "stdout",
     "output_type": "stream",
     "text": [
      "[ nan 300. 255. 495. 180. 275. 230. 105. 250. 205.  95. 120. 215. 260.\n",
      " 265. 245. 310. 345. 190. 290. 295. 170. 220. 240. 160. 280. 235. 145.\n",
      " 200. 210. 185. 195. 150.  90. 225. 285. 305. 365. 320. 165. 115. 140.\n",
      " 330. 155. 325.  80. 270. 380. 135. 315. 100. 360. 175. 350. 335. 340.\n",
      " 400.  25. 110. 125.  70. 130.  60. 420.  75. 375.  55. 355. 370.  45.\n",
      " 385. 435.  85. 540. 415.  50.  65.  35.  40. 500.  20. 485. 465. 475.\n",
      " 410. 505.  30. 430. 595.  15. 390.]\n"
     ]
    }
   ],
   "source": [
    "unique_cpb_time = df_operations['cpb_duration'].unique()\n",
    "print(unique_cpb_time)"
   ]
  },
  {
   "cell_type": "code",
   "execution_count": 43,
   "metadata": {},
   "outputs": [
    {
     "data": {
      "text/plain": [
       "Index(['op_id', 'subject_id', 'hadm_id', 'case_id', 'opdate', 'age', 'sex',\n",
       "       'weight', 'height', 'race', 'asa', 'emop', 'department', 'antype',\n",
       "       'icd10_pcs', 'orin_time', 'orout_time', 'opstart_time', 'opend_time',\n",
       "       'admission_time', 'discharge_time', 'anstart_time', 'anend_time',\n",
       "       'cpbon_time', 'cpboff_time', 'icuin_time', 'icuout_time',\n",
       "       'inhosp_death_time', 'an_duration', 'op_duration', 'cpb_duration'],\n",
       "      dtype='object')"
      ]
     },
     "execution_count": 43,
     "metadata": {},
     "output_type": "execute_result"
    }
   ],
   "source": [
    "df_operations.columns"
   ]
  },
  {
   "cell_type": "markdown",
   "metadata": {},
   "source": [
    "Duration of ICU stay"
   ]
  },
  {
   "cell_type": "code",
   "execution_count": 44,
   "metadata": {},
   "outputs": [
    {
     "name": "stdout",
     "output_type": "stream",
     "text": [
      "0         NaN\n",
      "1      1550.0\n",
      "2         NaN\n",
      "3         NaN\n",
      "4         NaN\n",
      "5         NaN\n",
      "6         NaN\n",
      "7         NaN\n",
      "8         NaN\n",
      "9         NaN\n",
      "10        NaN\n",
      "11        NaN\n",
      "12        NaN\n",
      "13        NaN\n",
      "14    63275.0\n",
      "Name: icuin_time, dtype: float64\n"
     ]
    }
   ],
   "source": [
    "print(df_operations['icuin_time'] [:15])"
   ]
  },
  {
   "cell_type": "code",
   "execution_count": 45,
   "metadata": {},
   "outputs": [
    {
     "name": "stdout",
     "output_type": "stream",
     "text": [
      "0         NaN\n",
      "1     19595.0\n",
      "2         NaN\n",
      "3         NaN\n",
      "4         NaN\n",
      "5         NaN\n",
      "6         NaN\n",
      "7         NaN\n",
      "8         NaN\n",
      "9         NaN\n",
      "10        NaN\n",
      "11        NaN\n",
      "12        NaN\n",
      "13        NaN\n",
      "14    78560.0\n",
      "Name: icuout_time, dtype: float64\n"
     ]
    }
   ],
   "source": [
    "print(df_operations['icuout_time'] [:15])"
   ]
  },
  {
   "cell_type": "code",
   "execution_count": 46,
   "metadata": {},
   "outputs": [
    {
     "name": "stdout",
     "output_type": "stream",
     "text": [
      "0         NaN\n",
      "1     18045.0\n",
      "2         NaN\n",
      "3         NaN\n",
      "4         NaN\n",
      "5         NaN\n",
      "6         NaN\n",
      "7         NaN\n",
      "8         NaN\n",
      "9         NaN\n",
      "10        NaN\n",
      "11        NaN\n",
      "12        NaN\n",
      "13        NaN\n",
      "14    15285.0\n",
      "Name: icu_duration, dtype: float64\n"
     ]
    }
   ],
   "source": [
    "df_operations['icu_duration'] = df_operations['icuout_time'] - df_operations['icuin_time']\n",
    "print(df_operations['icu_duration'] [:15])\n"
   ]
  },
  {
   "cell_type": "code",
   "execution_count": 47,
   "metadata": {},
   "outputs": [
    {
     "name": "stdout",
     "output_type": "stream",
     "text": [
      "[   nan 18045. 15285. ... 25385. 27555. 27985.]\n"
     ]
    }
   ],
   "source": [
    "unique_icu_time = df_operations['icu_duration'].unique()\n",
    "print(unique_icu_time)"
   ]
  },
  {
   "cell_type": "code",
   "execution_count": 48,
   "metadata": {},
   "outputs": [
    {
     "data": {
      "text/plain": [
       "Index(['op_id', 'subject_id', 'hadm_id', 'case_id', 'opdate', 'age', 'sex',\n",
       "       'weight', 'height', 'race', 'asa', 'emop', 'department', 'antype',\n",
       "       'icd10_pcs', 'orin_time', 'orout_time', 'opstart_time', 'opend_time',\n",
       "       'admission_time', 'discharge_time', 'anstart_time', 'anend_time',\n",
       "       'cpbon_time', 'cpboff_time', 'icuin_time', 'icuout_time',\n",
       "       'inhosp_death_time', 'an_duration', 'op_duration', 'cpb_duration',\n",
       "       'icu_duration'],\n",
       "      dtype='object')"
      ]
     },
     "execution_count": 48,
     "metadata": {},
     "output_type": "execute_result"
    }
   ],
   "source": [
    "df_operations.columns"
   ]
  },
  {
   "cell_type": "code",
   "execution_count": null,
   "metadata": {},
   "outputs": [],
   "source": []
  },
  {
   "cell_type": "markdown",
   "metadata": {},
   "source": [
    "In hospital death"
   ]
  },
  {
   "cell_type": "code",
   "execution_count": 49,
   "metadata": {},
   "outputs": [
    {
     "name": "stdout",
     "output_type": "stream",
     "text": [
      "[         nan 6.986000e+04 1.326345e+06 2.680650e+05 6.749500e+04\n",
      " 2.154100e+05 2.525500e+04 3.254400e+05 3.258050e+05 1.225250e+05\n",
      " 1.273500e+04 2.206350e+05 2.470000e+03 3.415900e+05 5.691300e+05\n",
      " 1.889200e+05 3.291150e+05 2.649400e+05 2.115515e+06 3.741600e+05\n",
      " 9.514000e+04 3.650500e+04 3.750000e+04 3.357500e+04 3.254200e+06\n",
      " 2.320000e+03 1.940150e+05 5.106500e+04 3.623500e+04 1.464600e+05\n",
      " 4.681200e+05 1.932285e+06 1.407900e+05 4.378470e+06 8.329000e+04\n",
      " 2.196000e+04 8.277500e+04 1.487040e+06 1.620500e+04 4.989200e+05\n",
      " 1.888570e+06 1.874900e+05 2.400000e+04 2.300500e+04 2.345000e+03\n",
      " 2.030250e+05 7.566000e+04 3.984930e+06 4.051000e+04 1.121480e+06\n",
      " 2.041000e+05 9.158000e+04 2.862120e+06 9.907500e+04 2.715500e+04\n",
      " 2.160650e+05 3.561000e+05 4.833000e+04 8.098700e+05 1.781050e+05\n",
      " 3.122850e+05 9.423500e+04 1.916525e+06 2.412000e+06 5.104500e+04\n",
      " 4.752550e+05 1.189400e+05 3.015650e+05 4.638000e+04 1.005000e+03\n",
      " 2.824855e+06 4.531235e+06 6.317500e+04 2.648000e+04 3.330000e+04\n",
      " 1.979250e+05 1.990000e+05 7.521500e+04 4.224500e+04 2.978600e+06\n",
      " 3.358500e+04 1.163920e+06 7.656000e+04 2.432500e+04 7.375000e+04\n",
      " 2.625000e+03 6.083500e+04 9.668900e+05 4.342420e+06 1.807750e+05\n",
      " 2.116000e+04 1.692850e+05 4.920500e+04 2.160000e+04 1.097175e+06\n",
      " 1.803500e+04 2.251300e+05 3.129000e+04 2.859170e+06 3.070500e+04\n",
      " 3.458275e+06 4.455605e+06 2.070000e+04 9.189000e+04 1.168820e+06\n",
      " 1.292900e+05 2.963500e+04 5.888000e+04 2.583500e+04 1.153370e+06\n",
      " 1.507750e+05 5.200000e+03 2.638450e+05 2.006500e+04 1.542100e+05\n",
      " 9.677500e+04 4.109125e+06 1.841500e+04 2.367000e+04 9.181650e+05\n",
      " 2.834900e+06 4.865000e+03 8.925000e+03 5.163700e+05 8.021600e+05\n",
      " 3.624000e+04 2.209510e+06 2.579655e+06 5.258400e+05 1.519000e+04\n",
      " 8.245500e+04 1.755500e+05 2.970500e+04 1.113500e+04 2.585000e+03\n",
      " 2.944650e+05 4.036670e+06 2.417735e+06 1.770050e+05 1.158950e+05\n",
      " 1.091800e+05 6.196500e+04 3.124065e+06 3.266010e+06 4.042625e+06\n",
      " 9.565000e+03 5.100000e+03 1.917810e+06 2.234680e+06 1.441050e+05\n",
      " 2.543910e+06 1.019650e+05 5.989500e+04 4.981000e+04 2.435000e+03\n",
      " 2.028400e+05 2.673830e+06 4.374500e+04 7.554600e+05 2.468390e+06\n",
      " 1.166850e+05 5.680150e+05 3.789850e+05 2.570000e+03 8.413050e+05\n",
      " 2.055845e+06 3.957500e+04 4.099000e+04 3.748670e+06 2.271795e+06\n",
      " 2.165000e+03 1.417595e+06 2.390000e+03 3.491595e+06 1.339750e+05\n",
      " 1.455480e+06 3.558625e+06 2.940000e+03 3.857900e+05 8.873500e+04\n",
      " 2.611970e+06 9.425000e+03 3.155760e+06 1.010500e+04 1.324935e+06\n",
      " 3.194835e+06 3.567150e+05 4.015500e+04 1.773950e+05 2.346650e+05\n",
      " 1.282000e+04 1.413500e+04 8.965000e+03 4.953500e+04 2.535200e+05\n",
      " 1.228845e+06 7.859500e+04 2.454950e+05 3.659150e+05 3.076000e+05\n",
      " 6.909500e+04 1.615500e+04 7.788000e+04 1.575500e+04 6.824500e+04\n",
      " 4.109700e+05 7.871000e+04 2.396850e+05 2.290000e+03 2.922750e+05\n",
      " 1.135000e+04 5.359000e+05 7.850000e+02 5.708500e+04 4.636500e+04\n",
      " 1.766000e+04 4.303000e+04 7.034300e+05 1.691800e+05 6.848500e+04\n",
      " 3.629000e+04 3.887545e+06 9.815000e+03 2.247500e+04 2.556600e+06\n",
      " 2.770000e+04 2.166100e+05 1.840250e+05 4.657500e+05 1.515050e+05\n",
      " 1.923500e+04 3.126000e+04 2.798500e+04 1.721640e+06 4.110000e+04\n",
      " 3.301550e+05 8.632650e+05 1.133225e+06 1.970740e+06 2.233340e+06\n",
      " 2.185000e+04 4.580000e+03 4.252500e+04 2.127850e+05 2.132750e+05\n",
      " 1.678565e+06 7.061500e+04 1.525000e+04 3.429000e+04 1.678350e+05\n",
      " 1.104195e+06 1.560645e+06 1.566745e+06 2.925700e+06 4.702350e+05\n",
      " 6.592000e+04 1.545290e+06 2.536500e+04 1.025000e+03 9.990000e+04\n",
      " 1.902000e+04 1.341350e+05 3.415000e+04 3.690000e+03 3.325500e+04\n",
      " 1.639300e+05 1.173600e+05 2.578325e+06 3.662500e+04 6.705000e+03\n",
      " 3.133150e+05 5.315500e+04 3.782500e+04 2.651000e+04 1.664040e+06\n",
      " 2.050000e+04 1.141550e+05 1.060065e+06 1.095250e+05 3.669150e+05\n",
      " 4.513000e+04 1.530600e+05 1.798200e+05 2.447000e+04 4.756500e+04\n",
      " 1.220320e+06 7.534000e+04 1.532015e+06 1.495850e+05 2.425000e+03\n",
      " 8.866350e+05 7.712000e+04 4.255000e+04 4.052000e+04 2.640000e+03\n",
      " 2.517095e+06 4.869850e+05 4.325500e+05 2.769165e+06 5.540000e+03\n",
      " 8.322500e+04 8.942000e+04 2.349500e+04 1.910500e+04 1.784800e+05\n",
      " 6.981000e+04 1.779750e+05 1.232500e+05 4.914500e+04 2.887500e+05\n",
      " 4.825500e+04 1.380250e+05 1.850400e+05 1.853000e+04 6.257200e+05\n",
      " 1.020150e+05 6.430000e+03 3.016500e+04 5.221200e+05 4.844000e+04\n",
      " 9.701750e+05 7.460650e+05 3.511760e+06 8.527500e+04 1.913800e+05\n",
      " 2.927150e+05 1.950300e+06 1.599965e+06 1.869000e+04 8.313500e+04\n",
      " 3.495000e+04 1.388500e+04 2.929930e+06 3.216000e+04 7.230000e+03\n",
      " 1.053800e+05 3.098500e+04 2.496600e+05 2.513100e+05 9.075000e+04\n",
      " 3.578450e+05 3.790200e+05 3.015725e+06 2.074035e+06 2.935500e+05\n",
      " 6.687850e+05 9.459150e+05 2.495400e+05 2.003950e+05 3.177300e+05\n",
      " 4.244500e+04 4.745050e+05 6.177000e+04 7.938500e+04 1.706800e+05\n",
      " 1.442855e+06 5.250000e+03 2.559000e+04 3.332850e+05 2.509000e+05\n",
      " 1.485200e+05 1.507025e+06 1.019300e+05 1.174400e+05 2.210825e+06\n",
      " 3.235000e+03 2.360000e+03 6.035000e+03 2.791500e+05 1.410390e+06\n",
      " 1.059250e+05 1.852365e+06 2.200000e+03 2.256400e+05 1.869450e+05\n",
      " 1.712955e+06 3.310135e+06 1.600500e+04 2.312330e+06 6.675000e+03\n",
      " 1.240550e+05 1.010600e+05 2.245000e+03 1.334500e+05 1.034000e+04\n",
      " 1.705000e+03 2.578735e+06 7.498500e+04 1.275000e+03 2.009030e+06\n",
      " 2.871300e+05 3.431500e+04 5.742550e+05 2.127000e+04 2.866685e+06\n",
      " 9.046500e+04 1.544585e+06 3.200500e+04 9.581750e+05 1.446665e+06\n",
      " 2.958500e+04 2.533850e+05 6.260000e+03 4.070500e+04 1.562010e+06\n",
      " 1.257700e+05 3.553650e+05 1.217500e+04 1.480500e+04 2.920780e+06\n",
      " 1.012900e+05 5.460500e+04 5.385000e+04 2.584150e+05 1.534700e+05\n",
      " 2.307640e+06 1.685100e+05 2.168800e+05 3.163300e+05 1.278500e+04\n",
      " 1.599000e+05 3.440700e+05 8.740000e+03 5.127000e+04 2.000960e+06\n",
      " 1.903215e+06 3.085650e+05 1.132450e+05 8.980950e+05 1.034250e+05\n",
      " 5.125000e+03 2.447780e+06 1.499850e+05 3.995300e+05 2.770750e+05\n",
      " 2.433360e+06 1.548100e+05 2.198950e+05 1.973625e+06 1.410500e+04\n",
      " 9.460000e+03 2.790500e+04 2.206950e+05 7.715500e+04 4.113550e+05\n",
      " 1.365800e+05 2.178550e+05 9.381150e+05 1.925720e+06 2.809015e+06\n",
      " 2.047400e+05 1.379500e+04 9.463750e+05 9.723300e+05 7.116500e+04\n",
      " 1.716350e+05 2.374000e+06 1.588095e+06 2.074000e+05 5.265500e+04\n",
      " 4.328250e+05 1.158650e+05 2.542940e+06 2.560000e+03 2.479700e+05\n",
      " 1.042950e+05 9.755000e+03 1.462050e+05 8.803000e+05 6.350500e+04\n",
      " 1.072300e+05 2.766275e+06 1.981700e+05 1.175500e+05 8.877800e+05\n",
      " 1.150000e+03 2.558000e+05 7.389000e+04 2.230000e+03 8.590000e+04\n",
      " 1.066800e+05 2.831500e+04 2.628090e+06 1.488850e+05 2.787000e+04\n",
      " 1.466000e+04 1.582850e+05 1.090450e+05 2.585550e+05 1.624070e+06\n",
      " 2.120000e+03 1.456575e+06 1.041750e+05 4.278850e+05 1.353900e+05\n",
      " 1.153000e+04 2.831200e+05 7.968000e+04 2.519740e+06 5.143500e+04\n",
      " 1.968000e+04 3.819500e+04 6.075500e+05 7.641500e+04 1.769180e+06\n",
      " 5.982050e+05 1.347275e+06 1.024000e+04 2.740000e+03 4.813150e+05\n",
      " 2.220050e+05 5.030500e+04 3.751950e+05 5.202500e+04 3.813350e+05\n",
      " 1.150550e+05 4.875000e+03 4.397750e+05 7.255000e+03 4.812000e+04\n",
      " 3.653800e+05 8.836500e+04 3.123000e+04 1.078565e+06 2.992950e+05\n",
      " 1.274510e+06 1.081600e+05 7.072500e+04 1.692000e+04 3.188150e+05\n",
      " 2.180000e+03 1.228000e+04 2.155500e+04 2.869850e+05 1.801470e+06\n",
      " 1.062250e+05 4.200000e+03 1.643250e+05 1.008500e+04 2.114250e+05\n",
      " 5.760000e+03 4.390500e+04 2.617850e+05 1.262300e+05 1.576180e+06\n",
      " 4.847000e+04 1.813300e+05 2.837350e+05 3.149300e+05 1.214845e+06\n",
      " 1.867750e+05 1.000850e+05 3.915000e+03 8.458000e+04 2.256735e+06\n",
      " 6.558000e+04 4.895000e+03 2.300000e+03 5.406050e+05 3.530000e+03\n",
      " 1.118180e+06 1.086520e+06 6.302500e+04 6.723200e+05 1.230500e+04\n",
      " 3.875000e+04 9.358000e+04 1.258000e+04 4.622350e+05 2.474500e+05\n",
      " 5.702500e+05 4.367000e+04 2.008040e+06 4.907000e+04 1.512500e+04\n",
      " 7.890250e+05 8.627500e+04 9.800000e+04 3.140000e+04 2.872100e+05\n",
      " 1.389300e+05 1.267900e+05 7.046150e+05 7.250000e+03 2.538500e+04\n",
      " 1.881000e+04 1.061950e+05 4.625000e+04 1.746215e+06 5.330000e+03\n",
      " 8.604000e+04 7.367800e+05 1.935805e+06 5.930000e+03 3.449000e+04\n",
      " 1.894320e+06 2.178400e+05 6.219000e+04 3.029000e+04 2.623000e+04\n",
      " 7.188850e+05 4.085000e+03 1.699400e+05 1.319230e+06 8.114500e+04\n",
      " 5.420500e+04 7.837500e+04 1.125300e+06 2.303250e+05 2.285000e+03\n",
      " 2.235000e+03 7.519500e+04 2.283850e+05 3.312250e+05 3.334850e+05\n",
      " 1.491000e+04 1.521050e+05 5.244000e+04 8.143000e+04 1.760000e+06\n",
      " 4.226450e+05 1.228500e+05 1.925500e+04 4.750850e+05 1.406600e+05\n",
      " 9.260500e+04 3.087850e+05 3.460050e+05 1.389275e+06 1.672900e+05\n",
      " 1.635500e+05 1.458305e+06 4.038000e+04 9.133500e+05 2.228750e+05\n",
      " 1.862905e+06 8.209400e+05 3.033350e+05 6.415500e+04 8.545000e+04\n",
      " 2.735600e+05 8.106500e+04 7.760000e+03 6.106000e+04 2.490000e+03\n",
      " 1.247000e+05 9.368000e+04 1.832450e+05 4.385500e+04 4.270500e+04\n",
      " 5.079750e+05 2.236000e+04 3.870000e+03 3.483500e+04 5.308000e+04\n",
      " 5.912000e+04 1.070515e+06 7.045600e+05 6.102500e+04 7.856000e+04\n",
      " 6.765700e+05 1.558500e+05 6.126950e+05 6.653300e+05 3.052000e+04\n",
      " 5.711500e+04 6.333000e+04 2.440000e+03 1.045550e+05 9.755500e+04\n",
      " 9.654450e+05 8.145000e+04 1.801000e+04 5.634000e+04 9.897850e+05\n",
      " 8.575500e+04 5.910000e+03 1.573000e+04 4.119500e+04 8.933000e+04\n",
      " 1.510000e+04 1.243500e+04 2.210000e+03 6.509000e+04 1.214800e+05\n",
      " 5.226400e+05 2.870850e+05 3.741000e+04 1.633000e+04 3.054500e+04\n",
      " 2.283500e+04 7.318000e+04 8.460000e+03 4.376500e+04 5.207500e+04\n",
      " 5.062450e+05 3.775000e+03 1.928650e+05 1.523800e+05 6.945000e+03\n",
      " 1.311450e+06 2.175950e+05 7.958450e+05 8.030000e+04 1.216500e+04\n",
      " 1.948500e+05 2.443700e+05 3.544400e+05 1.267150e+05 3.904000e+04\n",
      " 1.099700e+06 2.965800e+05 5.863000e+04 2.262750e+05 4.260000e+04\n",
      " 1.343350e+05 1.723250e+05 2.835500e+04 1.028500e+04 3.840250e+05\n",
      " 9.818500e+04 1.524800e+05 3.044000e+04 2.556750e+05 6.664650e+05\n",
      " 1.228950e+05 6.669700e+05 3.455000e+04 7.460050e+05 5.616500e+04\n",
      " 2.223650e+05 2.511500e+04 1.531000e+04 2.140000e+03 4.119000e+04\n",
      " 4.168550e+05 5.132500e+04 5.800400e+05 6.985500e+04 2.225000e+03\n",
      " 4.932500e+04 2.495000e+03 4.413000e+05 2.729500e+05 6.245500e+04\n",
      " 7.284700e+05 8.348500e+04 3.760000e+03 4.203500e+04 9.264000e+04\n",
      " 9.004500e+04 6.733000e+04 1.400000e+03 1.250100e+05 1.533500e+04\n",
      " 1.090350e+05 1.873500e+04 9.113000e+04 5.496050e+05 1.576500e+04\n",
      " 3.885000e+04 7.390000e+04 3.906050e+05 7.882500e+04 1.196350e+05\n",
      " 4.642250e+05 1.499000e+05 3.092000e+04 3.855000e+03 8.917600e+05\n",
      " 1.296050e+05 9.463000e+04 3.143000e+04 1.116700e+05 3.966850e+05\n",
      " 5.415500e+04 2.253500e+04 1.868150e+05 7.864000e+04 2.418050e+05\n",
      " 9.949500e+04 1.643000e+04 1.667000e+04 7.362700e+05 7.926850e+05\n",
      " 4.863500e+04 1.691700e+05 6.900000e+03 6.653500e+04 3.348150e+05\n",
      " 1.221450e+05 1.824600e+05 5.717500e+04 2.867150e+05 1.645500e+04\n",
      " 7.184000e+04 1.157200e+05 5.447000e+04 1.323600e+05 2.321400e+05\n",
      " 9.114000e+04 3.901500e+05 6.272500e+04 1.881500e+05 7.170500e+04\n",
      " 6.578650e+05 1.452700e+05 3.519000e+04 1.413650e+05 2.816000e+04\n",
      " 9.645000e+03 5.772000e+05 1.088000e+04 1.116350e+05 3.842500e+04\n",
      " 6.012000e+04 3.649450e+05 4.850000e+04 1.205950e+05 1.676000e+04\n",
      " 3.740000e+04 1.059000e+04 7.848000e+04 7.429000e+04 5.483150e+05\n",
      " 6.909000e+04 5.884500e+04 9.433000e+04 4.143400e+05 9.630000e+04\n",
      " 3.653350e+05 4.080000e+03 1.483725e+06 1.414150e+05 1.023500e+04\n",
      " 4.630300e+05 2.240500e+04 6.805000e+03 5.173500e+04 1.075950e+05\n",
      " 4.645500e+04 9.873000e+04 1.910100e+05 6.951500e+04 2.661150e+05\n",
      " 4.430500e+04 3.885400e+05 3.610000e+03 4.960000e+04 3.772800e+05\n",
      " 3.064500e+04 8.019500e+04 8.917000e+04 1.365750e+05 5.338000e+04\n",
      " 1.117850e+05 2.808500e+04 1.473000e+04 1.410100e+05 6.375500e+04\n",
      " 3.634500e+04 1.481000e+05 6.989500e+04 6.380000e+03 1.569000e+04\n",
      " 2.543500e+04 9.439000e+04 6.615500e+04 2.365000e+03 1.427300e+05\n",
      " 6.460000e+04 1.359900e+05 4.446000e+04 1.012600e+05 5.428500e+04\n",
      " 1.355000e+04 7.320000e+04 5.684000e+04 3.825500e+04 2.947000e+04\n",
      " 8.090000e+03 1.177750e+05 6.274500e+04 6.889500e+04 3.501000e+04\n",
      " 2.077500e+04 5.263000e+04 2.909500e+04 1.302100e+05 3.807500e+04\n",
      " 1.356505e+06 3.725000e+03 2.473000e+04 3.482550e+05 1.368690e+06\n",
      " 1.076265e+06 4.581500e+04 3.255500e+04 2.989500e+04 1.170785e+06\n",
      " 1.543000e+04 1.511000e+04 4.510000e+04 1.899500e+04 7.954600e+05\n",
      " 6.186900e+05 2.305000e+03 1.729500e+04 1.398500e+04 5.720000e+04\n",
      " 4.530400e+05 1.999500e+04 6.404000e+04 6.110000e+03 4.623645e+06\n",
      " 4.579690e+06 1.382160e+06 1.533850e+05 1.442300e+05 2.471935e+06\n",
      " 2.395000e+03 2.217850e+05 1.434600e+05 4.152400e+06 9.638500e+04\n",
      " 1.802000e+04 4.602500e+04 2.226920e+06 9.421050e+05 3.944965e+06\n",
      " 8.929050e+05]\n"
     ]
    }
   ],
   "source": [
    "unique_inhosp_death_time = df_operations['inhosp_death_time'].unique()\n",
    "print(unique_inhosp_death_time)"
   ]
  },
  {
   "cell_type": "markdown",
   "metadata": {},
   "source": [
    "Correlation analysis"
   ]
  },
  {
   "cell_type": "markdown",
   "metadata": {},
   "source": [
    "Correlation values range between -1 and 1. A value close to 1 implies a strong positive correlation: as one variable increases, the other also tends to. A value close to -1 implies a strong negative correlation: as one variable increases, the other tends to decrease.\n",
    "This analysis only checks for linear relationships. Non-linear relationships won't be captured well by the correlation coefficient.\n",
    "Correlation does not imply causation. Even if two variables are correlated, it doesn't mean one causes the other."
   ]
  },
  {
   "cell_type": "code",
   "execution_count": 50,
   "metadata": {},
   "outputs": [
    {
     "name": "stdout",
     "output_type": "stream",
     "text": [
      "Correlation of operation duration with age: -0.013449022860988273\n"
     ]
    }
   ],
   "source": [
    "#Find the correlation between operation duration and age\n",
    "\n",
    "correlation_with_age = df_operations['op_duration'].corr(df_operations['age'])\n",
    "print(f\"Correlation of operation duration with age: {correlation_with_age}\")\n"
   ]
  },
  {
   "cell_type": "code",
   "execution_count": 51,
   "metadata": {},
   "outputs": [
    {
     "name": "stdout",
     "output_type": "stream",
     "text": [
      "icd10_pcs\n",
      "0JT10    810.0\n",
      "02B04    795.0\n",
      "0JTC0    770.0\n",
      "01Q30    747.5\n",
      "0DT54    745.0\n",
      "         ...  \n",
      "0H0X0      5.0\n",
      "0ULB7      5.0\n",
      "0UBGF      5.0\n",
      "0UH97      5.0\n",
      "089L0      NaN\n",
      "Name: op_duration, Length: 2255, dtype: float64\n"
     ]
    }
   ],
   "source": [
    "#'Type of surgery' is likely categorical (represented by the icd10_pcs column). Find the average operation duration for each type of surgery\n",
    "\n",
    "average_duration_per_surgery = df_operations.groupby('icd10_pcs')['op_duration'].mean().sort_values(ascending=False)\n",
    "print(average_duration_per_surgery)"
   ]
  },
  {
   "cell_type": "code",
   "execution_count": 52,
   "metadata": {},
   "outputs": [
    {
     "name": "stdout",
     "output_type": "stream",
     "text": [
      "Correlation of operation duration with post-op ICU admission: 0.4644855543023747\n"
     ]
    }
   ],
   "source": [
    "#Infer post-op ICU admission based on whether icuin_time is non-null. Create a binary column to indicate this and compute its correlation with operation duration.\n",
    "df_operations['icu_admission_postop'] = ~df_operations['icuin_time'].isna()\n",
    "correlation_with_icu_admission = df_operations['op_duration'].corr(df_operations['icu_admission_postop'])\n",
    "print(f\"Correlation of operation duration with post-op ICU admission: {correlation_with_icu_admission}\")\n"
   ]
  },
  {
   "cell_type": "code",
   "execution_count": 53,
   "metadata": {},
   "outputs": [
    {
     "name": "stdout",
     "output_type": "stream",
     "text": [
      "Correlation between duration of stay and deterioration: 0.021152459160176565\n"
     ]
    }
   ],
   "source": [
    "correlation_duration_deterioration = df_operations['discharge_time'].corr(df_operations['inhosp_death_time'].notnull().astype(int))\n",
    "print(f\"Correlation between duration of stay and deterioration: {correlation_duration_deterioration}\")"
   ]
  },
  {
   "cell_type": "code",
   "execution_count": 54,
   "metadata": {},
   "outputs": [
    {
     "name": "stdout",
     "output_type": "stream",
     "text": [
      "Correlation between ICU duration and deterioration: 0.08995552340232695\n"
     ]
    }
   ],
   "source": [
    "correlation_icu_deterioration = df_operations['icu_duration'].corr(df_operations['inhosp_death_time'].notnull().astype(int))\n",
    "print(f\"Correlation between ICU duration and deterioration: {correlation_icu_deterioration}\")"
   ]
  },
  {
   "cell_type": "code",
   "execution_count": 55,
   "metadata": {},
   "outputs": [
    {
     "name": "stdout",
     "output_type": "stream",
     "text": [
      "Correlation between patient's age and deterioration: 0.05325723295365794\n"
     ]
    }
   ],
   "source": [
    "correlation_age_deterioration = df_operations['age'].corr(df_operations['inhosp_death_time'].notnull().astype(int))\n",
    "print(f\"Correlation between patient's age and deterioration: {correlation_age_deterioration}\")"
   ]
  },
  {
   "cell_type": "code",
   "execution_count": 56,
   "metadata": {},
   "outputs": [
    {
     "name": "stdout",
     "output_type": "stream",
     "text": [
      "Correlation between anesthesia time and deterioration: 0.055171051517155685\n"
     ]
    }
   ],
   "source": [
    "correlation_anesthesia_deterioration = df_operations['an_duration'].corr(df_operations['inhosp_death_time'].notnull().astype(int))\n",
    "print(f\"Correlation between anesthesia time and deterioration: {correlation_anesthesia_deterioration}\")"
   ]
  },
  {
   "cell_type": "code",
   "execution_count": 57,
   "metadata": {},
   "outputs": [
    {
     "name": "stdout",
     "output_type": "stream",
     "text": [
      "department\n",
      "IM     0.112360\n",
      "AN     0.058824\n",
      "CTS    0.034601\n",
      "NS     0.020923\n",
      "OL     0.016736\n",
      "GS     0.015044\n",
      "OS     0.008743\n",
      "UR     0.005884\n",
      "RAD    0.005277\n",
      "PS     0.004062\n",
      "OT     0.003072\n",
      "OG     0.002394\n",
      "DM     0.000000\n",
      "EM     0.000000\n",
      "PED    0.000000\n",
      "RO     0.000000\n",
      "dtype: float64\n"
     ]
    }
   ],
   "source": [
    "deterioration_by_department = df_operations.groupby('department').apply(lambda x: x['inhosp_death_time'].notnull().mean())\n",
    "print(deterioration_by_department.sort_values(ascending=False))\n"
   ]
  },
  {
   "cell_type": "code",
   "execution_count": 58,
   "metadata": {},
   "outputs": [
    {
     "name": "stdout",
     "output_type": "stream",
     "text": [
      "Correlation between emergency operation and deterioration: 0.1341105894012062\n"
     ]
    }
   ],
   "source": [
    "correlation_emop_deterioration = df_operations['emop'].corr(df_operations['inhosp_death_time'].notnull().astype(int))\n",
    "print(f\"Correlation between emergency operation and deterioration: {correlation_emop_deterioration}\")\n"
   ]
  },
  {
   "cell_type": "code",
   "execution_count": 59,
   "metadata": {},
   "outputs": [
    {
     "name": "stdout",
     "output_type": "stream",
     "text": [
      "Correlation between weight and deterioration: -0.04525526947604706\n",
      "Correlation between height and deterioration: 0.0009813862372131145\n"
     ]
    }
   ],
   "source": [
    "correlation_weight_deterioration = df_operations['weight'].corr(df_operations['inhosp_death_time'].notnull().astype(int))\n",
    "correlation_height_deterioration = df_operations['height'].corr(df_operations['inhosp_death_time'].notnull().astype(int))\n",
    "print(f\"Correlation between weight and deterioration: {correlation_weight_deterioration}\")\n",
    "print(f\"Correlation between height and deterioration: {correlation_height_deterioration}\")\n"
   ]
  },
  {
   "cell_type": "code",
   "execution_count": 60,
   "metadata": {},
   "outputs": [
    {
     "name": "stdout",
     "output_type": "stream",
     "text": [
      "sex\n",
      "F    0.008235\n",
      "M    0.016876\n",
      "dtype: float64\n",
      "race\n",
      "Asian    0.012059\n",
      "dtype: float64\n"
     ]
    }
   ],
   "source": [
    "# For categorical variables like sex and race, you might want to use groupby and calculate deterioration rates for each group\n",
    "sex_deterioration_rate = df_operations.groupby('sex').apply(lambda x: x['inhosp_death_time'].notnull().mean())\n",
    "race_deterioration_rate = df_operations.groupby('race').apply(lambda x: x['inhosp_death_time'].notnull().mean())\n",
    "print(sex_deterioration_rate)\n",
    "print(race_deterioration_rate)\n"
   ]
  },
  {
   "cell_type": "code",
   "execution_count": 61,
   "metadata": {},
   "outputs": [
    {
     "name": "stdout",
     "output_type": "stream",
     "text": [
      "Correlation between ASA score and deterioration: 0.14358702786892846\n"
     ]
    }
   ],
   "source": [
    "correlation_asa_deterioration = df_operations['asa'].corr(df_operations['inhosp_death_time'].notnull().astype(int))\n",
    "print(f\"Correlation between ASA score and deterioration: {correlation_asa_deterioration}\")\n"
   ]
  },
  {
   "cell_type": "code",
   "execution_count": 62,
   "metadata": {},
   "outputs": [
    {
     "name": "stdout",
     "output_type": "stream",
     "text": [
      "icd10_pcs\n",
      "06BN0    1.000000\n",
      "03VH0    1.000000\n",
      "0BCC4    1.000000\n",
      "0RBE0    1.000000\n",
      "0TB6X    1.000000\n",
      "0WQJ0    1.000000\n",
      "02RP4    1.000000\n",
      "0MR8X    1.000000\n",
      "0FC17    1.000000\n",
      "0FHG4    1.000000\n",
      "0FJ40    1.000000\n",
      "0WDFX    1.000000\n",
      "0WDCX    1.000000\n",
      "0WD0X    1.000000\n",
      "0C1S0    1.000000\n",
      "0DGP0    1.000000\n",
      "071M0    1.000000\n",
      "0RSJ3    1.000000\n",
      "0W30X    1.000000\n",
      "0W3GX    1.000000\n",
      "0TT20    0.962963\n",
      "0RSJ0    0.666667\n",
      "021F0    0.666667\n",
      "0A122    0.600000\n",
      "072T0    0.500000\n",
      "0DQ60    0.500000\n",
      "09R70    0.500000\n",
      "09Q78    0.500000\n",
      "0RHE0    0.500000\n",
      "09J00    0.500000\n",
      "dtype: float64\n"
     ]
    }
   ],
   "source": [
    "#Certain surgical procedures might have higher risks associated with them.\n",
    "procedure_deterioration_rate = df_operations.groupby('icd10_pcs').apply(lambda x: x['inhosp_death_time'].notnull().mean())\n",
    "print(procedure_deterioration_rate.sort_values(ascending=False).head(30))\n"
   ]
  },
  {
   "cell_type": "code",
   "execution_count": 63,
   "metadata": {},
   "outputs": [
    {
     "name": "stdout",
     "output_type": "stream",
     "text": [
      "Correlation between time to ICU post-operation and deterioration: -0.10596318226237662\n"
     ]
    }
   ],
   "source": [
    "df_operations['time_to_icu_postop'] = df_operations['icuin_time'] - df_operations['opend_time']\n",
    "correlation_time_to_icu_deterioration = df_operations['time_to_icu_postop'].corr(df_operations['inhosp_death_time'].notnull().astype(int))\n",
    "print(f\"Correlation between time to ICU post-operation and deterioration: {correlation_time_to_icu_deterioration}\")\n"
   ]
  },
  {
   "cell_type": "code",
   "execution_count": 64,
   "metadata": {},
   "outputs": [
    {
     "name": "stdout",
     "output_type": "stream",
     "text": [
      "Correlation between ICU stay duration and deterioration: 0.08995552340232695\n"
     ]
    }
   ],
   "source": [
    "\n",
    "correlation_icu_stay_deterioration = df_operations['icu_duration'].corr(df_operations['inhosp_death_time'].notnull().astype(int))\n",
    "print(f\"Correlation between ICU stay duration and deterioration: {correlation_icu_stay_deterioration}\")\n"
   ]
  },
  {
   "cell_type": "code",
   "execution_count": 65,
   "metadata": {},
   "outputs": [
    {
     "name": "stdout",
     "output_type": "stream",
     "text": [
      "department\n",
      "IM     0.112360\n",
      "AN     0.058824\n",
      "CTS    0.034601\n",
      "NS     0.020923\n",
      "OL     0.016736\n",
      "GS     0.015044\n",
      "OS     0.008743\n",
      "UR     0.005884\n",
      "RAD    0.005277\n",
      "PS     0.004062\n",
      "OT     0.003072\n",
      "OG     0.002394\n",
      "DM     0.000000\n",
      "EM     0.000000\n",
      "PED    0.000000\n",
      "RO     0.000000\n",
      "dtype: float64\n"
     ]
    }
   ],
   "source": [
    "department_deterioration_rate = df_operations.groupby('department').apply(lambda x: x['inhosp_death_time'].notnull().mean())\n",
    "print(department_deterioration_rate.sort_values(ascending=False))\n"
   ]
  },
  {
   "cell_type": "code",
   "execution_count": 66,
   "metadata": {},
   "outputs": [
    {
     "name": "stdout",
     "output_type": "stream",
     "text": [
      "antype\n",
      "Regional     0.036145\n",
      "General      0.014188\n",
      "MAC          0.004191\n",
      "Neuraxial    0.003998\n",
      "dtype: float64\n"
     ]
    }
   ],
   "source": [
    "antype_deterioration_rate = df_operations.groupby('antype').apply(lambda x: x['inhosp_death_time'].notnull().mean())\n",
    "print(antype_deterioration_rate.sort_values(ascending=False))\n"
   ]
  },
  {
   "cell_type": "code",
   "execution_count": 67,
   "metadata": {},
   "outputs": [
    {
     "name": "stdout",
     "output_type": "stream",
     "text": [
      "Operation start time(s) for subject_id 109459182: [   2040.  203625.  774200. 1014280. 1015970. 1018785. 1030900.]\n",
      "Operation end time(s) for subject_id 109459182: [   2190.  203745.  774315. 1015405. 1016505. 1019220. 1031150.]\n",
      "ICU admission time(s) for subject_id 109459182: [1015405. 1015405. 1015405. 1031160.]\n",
      "ICU discharge time(s) for subject_id 109459182: [1020430. 1020430. 1020430. 1036075.]\n",
      "Discharge time(s) for subject_id 109459182: [      0  201600  771840 1010880 1010880 1010880 1010880]\n",
      "No hospital death time found for subject_id 109459182\n",
      "Department(s) for subject_id 109459182: ['OL' 'OL' 'OL' 'OL' 'PS' 'PS' 'OL']\n",
      "ICD-10-PCS code(s) for subject_id 109459182: ['09Q70' '09Q70' '09Q70' '09Q70' '0HX0X' '0W300' '0HQ00']\n",
      "Anesthesia start time(s) for subject_id 109459182: [   2015.  203600.  774185. 1014230. 1015945. 1018770. 1030860.]\n",
      "Anesthesia end time(s) for subject_id 109459182: [   2190.  203735.  774315. 1015395. 1016510. 1019200. 1031145.]\n"
     ]
    }
   ],
   "source": [
    "import pandas as pd\n",
    "\n",
    "# Assuming df is your DataFrame with the INSPIRE dataset\n",
    "# And the function is being passed the dataframe and a subject_id to look for\n",
    "def print_patient_operation_details(df, subject_id):\n",
    "    # Filter the DataFrame for the given subject_id\n",
    "    patient_data = df[df['subject_id'] == subject_id]\n",
    "    \n",
    "    # Extracting the relevant information\n",
    "    operation_begin = patient_data['opstart_time'].dropna()\n",
    "    operation_end = patient_data['opend_time'].dropna()\n",
    "    icu_in = patient_data['icuin_time'].dropna()\n",
    "    icu_out = patient_data['icuout_time'].dropna()\n",
    "    discharge_time = patient_data['admission_time'].dropna() # Verify if 'admission_time' is correct for discharge time\n",
    "    death_time = patient_data['inhosp_death_time'].dropna() # Verify if 'inhosp_death_time' is correct for hospital death time\n",
    "    department_info = patient_data['department'].dropna()\n",
    "    icd10_pcs_codes = patient_data['icd10_pcs'].dropna()\n",
    "    anesthesia_start = patient_data['anstart_time'].dropna() # Assuming 'anestart_time' is the column for anesthesia start time\n",
    "    anesthesia_end = patient_data['anend_time'].dropna() # Assuming 'aneend_time' is the column for anesthesia end time\n",
    "    \n",
    "    # Print the details\n",
    "    if not operation_begin.empty:\n",
    "        print(f\"Operation start time(s) for subject_id {subject_id}: {operation_begin.values}\")\n",
    "    else:\n",
    "        print(f\"No operation start time found for subject_id {subject_id}\")\n",
    "    \n",
    "    if not operation_end.empty:\n",
    "        print(f\"Operation end time(s) for subject_id {subject_id}: {operation_end.values}\")\n",
    "    else:\n",
    "        print(f\"No operation end time found for subject_id {subject_id}\")\n",
    "    \n",
    "    if not icu_in.empty:\n",
    "        print(f\"ICU admission time(s) for subject_id {subject_id}: {icu_in.values}\")\n",
    "    else:\n",
    "        print(f\"No ICU admission time found for subject_id {subject_id}\")\n",
    "    \n",
    "    if not icu_out.empty:\n",
    "        print(f\"ICU discharge time(s) for subject_id {subject_id}: {icu_out.values}\")\n",
    "    else:\n",
    "        print(f\"No ICU discharge time found for subject_id {subject_id}\")\n",
    "    \n",
    "    if not discharge_time.empty:\n",
    "        print(f\"Discharge time(s) for subject_id {subject_id}: {discharge_time.values}\")\n",
    "    else:\n",
    "        print(f\"No discharge time found for subject_id {subject_id}\")\n",
    "    \n",
    "    if not death_time.empty:\n",
    "        print(f\"Hospital death time(s) for subject_id {subject_id}: {death_time.values}\")\n",
    "    else:\n",
    "        print(f\"No hospital death time found for subject_id {subject_id}\")\n",
    "    \n",
    "    if not department_info.empty:\n",
    "        print(f\"Department(s) for subject_id {subject_id}: {department_info.values}\")\n",
    "    else:\n",
    "        print(f\"No department information found for subject_id {subject_id}\")\n",
    "    \n",
    "    if not icd10_pcs_codes.empty:\n",
    "        print(f\"ICD-10-PCS code(s) for subject_id {subject_id}: {icd10_pcs_codes.values}\")\n",
    "    else:\n",
    "        print(f\"No ICD-10-PCS codes found for subject_id {subject_id}\")\n",
    "    \n",
    "    if not anesthesia_start.empty:\n",
    "        print(f\"Anesthesia start time(s) for subject_id {subject_id}: {anesthesia_start.values}\")\n",
    "    else:\n",
    "        print(f\"No anesthesia start time found for subject_id {subject_id}\")\n",
    "    \n",
    "    if not anesthesia_end.empty: \n",
    "        print(f\"Anesthesia end time(s) for subject_id {subject_id}: {anesthesia_end.values}\")\n",
    "    else:\n",
    "        print(f\"No anesthesia end time found for subject_id {subject_id}\")\n",
    "\n",
    "# Example usage:\n",
    "# Replace 'your_dataframe' with the variable name of your actual DataFrame\n",
    "print_patient_operation_details(df=df_operations, subject_id=109459182)\n"
   ]
  },
  {
   "cell_type": "markdown",
   "metadata": {},
   "source": [
    "reflections 16th oct:\n",
    "\n",
    "-inhosp_death_time is intersting since it is basically deterioration\n",
    "-disgharge time is interesting\n",
    "-icuout_time is interesting\n",
    "\n",
    "feedback update meeting 17th oct:\n",
    "\n",
    "-operation time, op id?(discuss with arthur which type of surgeries would be useful for us), discharge time, inhospdeath \n",
    "-works that use public datset have higher impact, this one is better for science people can build on our work\n",
    "-we want people to be able to reproduce our work and cite us\n",
    "-for next week I need really to understan the INSPIRE dataset \n",
    "-download VBdataset\n",
    "-if i really don't get the surgery type I can email authors"
   ]
  }
 ],
 "metadata": {
  "kernelspec": {
   "display_name": "phd1",
   "language": "python",
   "name": "python3"
  },
  "language_info": {
   "codemirror_mode": {
    "name": "ipython",
    "version": 3
   },
   "file_extension": ".py",
   "mimetype": "text/x-python",
   "name": "python",
   "nbconvert_exporter": "python",
   "pygments_lexer": "ipython3",
   "version": "3.11.6"
  }
 },
 "nbformat": 4,
 "nbformat_minor": 2
}
