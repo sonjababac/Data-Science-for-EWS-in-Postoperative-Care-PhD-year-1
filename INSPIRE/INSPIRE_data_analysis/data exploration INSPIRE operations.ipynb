{
 "cells": [
  {
   "cell_type": "markdown",
   "metadata": {},
   "source": [
    "<h1 style=\"font-size:36px;\">Data exploration of INSPIRE, a publicly available research dataset for perioperative medicine</h1>\n",
    "\n",
    "<h2 style=\"font-size:20px;\">In this script data exploration and analysis of \"\"operations.csv\" is shown</h2>\n",
    "\n",
    "link: https://physionet.org/content/inspire/0.1/\n",
    "\n",
    "A full list of the ICD-10-CM codes and the description can be found on the Centers for Disease Control and Prevention (CDC) website \n",
    "https://ftp.cdc.gov/pub/Health_Statistics/NCHS/Publications/ICD10CM/April-1-2023-Update/icd10cm-code%20descriptions-%20April%201%202023.zip."
   ]
  },
  {
   "cell_type": "code",
   "execution_count": 1,
   "metadata": {},
   "outputs": [
    {
     "name": "stdout",
     "output_type": "stream",
     "text": [
      "Libraries Imported\n"
     ]
    }
   ],
   "source": [
    "import numpy as np\n",
    "import pandas as pd\n",
    "import matplotlib.pyplot as plt\n",
    "import seaborn as sns\n",
    "from sklearn import datasets  # Example, importing datasets module\n",
    "import tensorflow as tf\n",
    "import torch\n",
    "import keras\n",
    "import scipy\n",
    "import statsmodels\n",
    "\n",
    "print(\"Libraries Imported\")\n"
   ]
  },
  {
   "cell_type": "code",
   "execution_count": 2,
   "metadata": {},
   "outputs": [
    {
     "data": {
      "text/plain": [
       "\"\\n# Creating a NumPy array\\narr = np.array([1, 2, 3, 4, 5])\\n\\n# Creating a Pandas DataFrame\\ndata = {'A': [1, 2, 3], 'B': [4, 5, 6]}\\ndf = pd.DataFrame(data)\\n\\n# Creating a Matplotlib plot\\nplt.plot([1, 2, 3], [4, 5, 6])\\n\\n# Creating a Seaborn plot\\nsns.scatterplot(data=df, x='A', y='B')\\n\\n# Creating a TensorFlow constant\\ntensor = tf.constant([1, 2, 3])\\n\\n# Creating a PyTorch tensor\\ntensor = torch.tensor([1, 2, 3])\\n\\n# Using Keras layers\\nmodel = keras.Sequential()\\n\""
      ]
     },
     "execution_count": 2,
     "metadata": {},
     "output_type": "execute_result"
    }
   ],
   "source": [
    "#test\n",
    "\"\"\"\n",
    "# Creating a NumPy array\n",
    "arr = np.array([1, 2, 3, 4, 5])\n",
    "\n",
    "# Creating a Pandas DataFrame\n",
    "data = {'A': [1, 2, 3], 'B': [4, 5, 6]}\n",
    "df = pd.DataFrame(data)\n",
    "\n",
    "# Creating a Matplotlib plot\n",
    "plt.plot([1, 2, 3], [4, 5, 6])\n",
    "\n",
    "# Creating a Seaborn plot\n",
    "sns.scatterplot(data=df, x='A', y='B')\n",
    "\n",
    "# Creating a TensorFlow constant\n",
    "tensor = tf.constant([1, 2, 3])\n",
    "\n",
    "# Creating a PyTorch tensor\n",
    "tensor = torch.tensor([1, 2, 3])\n",
    "\n",
    "# Using Keras layers\n",
    "model = keras.Sequential()\n",
    "\"\"\""
   ]
  },
  {
   "cell_type": "code",
   "execution_count": 3,
   "metadata": {},
   "outputs": [],
   "source": [
    "df_operations = pd.read_csv('c:\\\\Users\\\\20181588\\\\Desktop\\\\data\\\\old_inspire-a-publicly-available-research-dataset-for-perioperative-medicine-0.1\\\\inspire-a-publicly-available-research-dataset-for-perioperative-medicine-0.1\\\\operations.csv')"
   ]
  },
  {
   "cell_type": "code",
   "execution_count": 4,
   "metadata": {},
   "outputs": [
    {
     "data": {
      "text/html": [
       "<div>\n",
       "<style scoped>\n",
       "    .dataframe tbody tr th:only-of-type {\n",
       "        vertical-align: middle;\n",
       "    }\n",
       "\n",
       "    .dataframe tbody tr th {\n",
       "        vertical-align: top;\n",
       "    }\n",
       "\n",
       "    .dataframe thead th {\n",
       "        text-align: right;\n",
       "    }\n",
       "</style>\n",
       "<table border=\"1\" class=\"dataframe\">\n",
       "  <thead>\n",
       "    <tr style=\"text-align: right;\">\n",
       "      <th></th>\n",
       "      <th>op_id</th>\n",
       "      <th>subject_id</th>\n",
       "      <th>hadm_id</th>\n",
       "      <th>case_id</th>\n",
       "      <th>opdate</th>\n",
       "      <th>age</th>\n",
       "      <th>sex</th>\n",
       "      <th>weight</th>\n",
       "      <th>height</th>\n",
       "      <th>race</th>\n",
       "      <th>...</th>\n",
       "      <th>opend_time</th>\n",
       "      <th>admission_time</th>\n",
       "      <th>discharge_time</th>\n",
       "      <th>anstart_time</th>\n",
       "      <th>anend_time</th>\n",
       "      <th>cpbon_time</th>\n",
       "      <th>cpboff_time</th>\n",
       "      <th>icuin_time</th>\n",
       "      <th>icuout_time</th>\n",
       "      <th>inhosp_death_time</th>\n",
       "    </tr>\n",
       "  </thead>\n",
       "  <tbody>\n",
       "    <tr>\n",
       "      <th>0</th>\n",
       "      <td>491416905</td>\n",
       "      <td>153073110</td>\n",
       "      <td>210586983</td>\n",
       "      <td>NaN</td>\n",
       "      <td>1440</td>\n",
       "      <td>50</td>\n",
       "      <td>F</td>\n",
       "      <td>62.0</td>\n",
       "      <td>160.0</td>\n",
       "      <td>Asian</td>\n",
       "      <td>...</td>\n",
       "      <td>2565.0</td>\n",
       "      <td>0</td>\n",
       "      <td>15840</td>\n",
       "      <td>2270.0</td>\n",
       "      <td>2580.0</td>\n",
       "      <td>NaN</td>\n",
       "      <td>NaN</td>\n",
       "      <td>NaN</td>\n",
       "      <td>NaN</td>\n",
       "      <td>NaN</td>\n",
       "    </tr>\n",
       "    <tr>\n",
       "      <th>1</th>\n",
       "      <td>467425045</td>\n",
       "      <td>134213281</td>\n",
       "      <td>225860669</td>\n",
       "      <td>NaN</td>\n",
       "      <td>1440</td>\n",
       "      <td>60</td>\n",
       "      <td>F</td>\n",
       "      <td>62.0</td>\n",
       "      <td>154.0</td>\n",
       "      <td>Asian</td>\n",
       "      <td>...</td>\n",
       "      <td>2150.0</td>\n",
       "      <td>0</td>\n",
       "      <td>5760</td>\n",
       "      <td>2070.0</td>\n",
       "      <td>2160.0</td>\n",
       "      <td>NaN</td>\n",
       "      <td>NaN</td>\n",
       "      <td>NaN</td>\n",
       "      <td>NaN</td>\n",
       "      <td>NaN</td>\n",
       "    </tr>\n",
       "    <tr>\n",
       "      <th>2</th>\n",
       "      <td>461473883</td>\n",
       "      <td>134195201</td>\n",
       "      <td>265770645</td>\n",
       "      <td>NaN</td>\n",
       "      <td>1440</td>\n",
       "      <td>35</td>\n",
       "      <td>F</td>\n",
       "      <td>50.0</td>\n",
       "      <td>160.0</td>\n",
       "      <td>Asian</td>\n",
       "      <td>...</td>\n",
       "      <td>2525.0</td>\n",
       "      <td>0</td>\n",
       "      <td>7200</td>\n",
       "      <td>2380.0</td>\n",
       "      <td>2530.0</td>\n",
       "      <td>NaN</td>\n",
       "      <td>NaN</td>\n",
       "      <td>NaN</td>\n",
       "      <td>NaN</td>\n",
       "      <td>NaN</td>\n",
       "    </tr>\n",
       "    <tr>\n",
       "      <th>3</th>\n",
       "      <td>439560439</td>\n",
       "      <td>163619571</td>\n",
       "      <td>279388936</td>\n",
       "      <td>NaN</td>\n",
       "      <td>0</td>\n",
       "      <td>75</td>\n",
       "      <td>F</td>\n",
       "      <td>65.0</td>\n",
       "      <td>154.0</td>\n",
       "      <td>Asian</td>\n",
       "      <td>...</td>\n",
       "      <td>565.0</td>\n",
       "      <td>0</td>\n",
       "      <td>0</td>\n",
       "      <td>545.0</td>\n",
       "      <td>570.0</td>\n",
       "      <td>NaN</td>\n",
       "      <td>NaN</td>\n",
       "      <td>NaN</td>\n",
       "      <td>NaN</td>\n",
       "      <td>NaN</td>\n",
       "    </tr>\n",
       "    <tr>\n",
       "      <th>4</th>\n",
       "      <td>459562341</td>\n",
       "      <td>132888590</td>\n",
       "      <td>267511777</td>\n",
       "      <td>NaN</td>\n",
       "      <td>0</td>\n",
       "      <td>60</td>\n",
       "      <td>F</td>\n",
       "      <td>53.0</td>\n",
       "      <td>149.0</td>\n",
       "      <td>Asian</td>\n",
       "      <td>...</td>\n",
       "      <td>725.0</td>\n",
       "      <td>0</td>\n",
       "      <td>0</td>\n",
       "      <td>700.0</td>\n",
       "      <td>725.0</td>\n",
       "      <td>NaN</td>\n",
       "      <td>NaN</td>\n",
       "      <td>NaN</td>\n",
       "      <td>NaN</td>\n",
       "      <td>NaN</td>\n",
       "    </tr>\n",
       "  </tbody>\n",
       "</table>\n",
       "<p>5 rows × 28 columns</p>\n",
       "</div>"
      ],
      "text/plain": [
       "       op_id  subject_id    hadm_id  case_id  opdate  age sex  weight  height  \\\n",
       "0  491416905   153073110  210586983      NaN    1440   50   F    62.0   160.0   \n",
       "1  467425045   134213281  225860669      NaN    1440   60   F    62.0   154.0   \n",
       "2  461473883   134195201  265770645      NaN    1440   35   F    50.0   160.0   \n",
       "3  439560439   163619571  279388936      NaN       0   75   F    65.0   154.0   \n",
       "4  459562341   132888590  267511777      NaN       0   60   F    53.0   149.0   \n",
       "\n",
       "    race  ...  opend_time  admission_time discharge_time anstart_time  \\\n",
       "0  Asian  ...      2565.0               0          15840       2270.0   \n",
       "1  Asian  ...      2150.0               0           5760       2070.0   \n",
       "2  Asian  ...      2525.0               0           7200       2380.0   \n",
       "3  Asian  ...       565.0               0              0        545.0   \n",
       "4  Asian  ...       725.0               0              0        700.0   \n",
       "\n",
       "  anend_time  cpbon_time  cpboff_time  icuin_time  icuout_time  \\\n",
       "0     2580.0         NaN          NaN         NaN          NaN   \n",
       "1     2160.0         NaN          NaN         NaN          NaN   \n",
       "2     2530.0         NaN          NaN         NaN          NaN   \n",
       "3      570.0         NaN          NaN         NaN          NaN   \n",
       "4      725.0         NaN          NaN         NaN          NaN   \n",
       "\n",
       "   inhosp_death_time  \n",
       "0                NaN  \n",
       "1                NaN  \n",
       "2                NaN  \n",
       "3                NaN  \n",
       "4                NaN  \n",
       "\n",
       "[5 rows x 28 columns]"
      ]
     },
     "execution_count": 4,
     "metadata": {},
     "output_type": "execute_result"
    }
   ],
   "source": [
    "df_operations.head()\n",
    "\n"
   ]
  },
  {
   "cell_type": "code",
   "execution_count": 13,
   "metadata": {},
   "outputs": [
    {
     "name": "stdout",
     "output_type": "stream",
     "text": [
      "<class 'pandas.core.frame.DataFrame'>\n",
      "RangeIndex: 52136 entries, 0 to 52135\n",
      "Data columns (total 28 columns):\n",
      " #   Column             Non-Null Count  Dtype  \n",
      "---  ------             --------------  -----  \n",
      " 0   op_id              52136 non-null  int64  \n",
      " 1   subject_id         52136 non-null  int64  \n",
      " 2   hadm_id            52136 non-null  int64  \n",
      " 3   case_id            8456 non-null   float64\n",
      " 4   opdate             52136 non-null  int64  \n",
      " 5   age                52136 non-null  int64  \n",
      " 6   sex                52136 non-null  object \n",
      " 7   weight             51525 non-null  float64\n",
      " 8   height             51817 non-null  float64\n",
      " 9   race               52136 non-null  object \n",
      " 10  asa                50770 non-null  float64\n",
      " 11  emop               52136 non-null  int64  \n",
      " 12  department         52136 non-null  object \n",
      " 13  antype             52136 non-null  object \n",
      " 14  icd10_pcs          52136 non-null  object \n",
      " 15  orin_time          52136 non-null  int64  \n",
      " 16  orout_time         52136 non-null  int64  \n",
      " 17  opstart_time       52129 non-null  float64\n",
      " 18  opend_time         52130 non-null  float64\n",
      " 19  admission_time     52136 non-null  int64  \n",
      " 20  discharge_time     52136 non-null  int64  \n",
      " 21  anstart_time       52110 non-null  float64\n",
      " 22  anend_time         51984 non-null  float64\n",
      " 23  cpbon_time         995 non-null    float64\n",
      " 24  cpboff_time        995 non-null    float64\n",
      " 25  icuin_time         5867 non-null   float64\n",
      " 26  icuout_time        5867 non-null   float64\n",
      " 27  inhosp_death_time  630 non-null    float64\n",
      "dtypes: float64(13), int64(10), object(5)\n",
      "memory usage: 11.1+ MB\n"
     ]
    }
   ],
   "source": [
    "df_operations.info(30)"
   ]
  },
  {
   "cell_type": "code",
   "execution_count": 11,
   "metadata": {},
   "outputs": [
    {
     "name": "stdout",
     "output_type": "stream",
     "text": [
      "52136\n"
     ]
    }
   ],
   "source": [
    "unique_subject_ids = df_operations['op_id'].nunique()\n",
    "print(unique_subject_ids)"
   ]
  },
  {
   "cell_type": "code",
   "execution_count": 20,
   "metadata": {},
   "outputs": [
    {
     "name": "stdout",
     "output_type": "stream",
     "text": [
      "[491416905 467425045 461473883 439560439 459562341 480242953 462956682\n",
      " 407131122 462673015 492199195 463210185 424243787 478126323 450072648\n",
      " 495130773 440391574 425183852 422621849 476967226 441260506 494608241\n",
      " 423574575 443346673 408917933 485438660 497009841 451762421 412170593\n",
      " 491957284 445363081]\n"
     ]
    }
   ],
   "source": [
    "unique_icd10_pcs_values = df_operations['op_id'].unique()\n",
    "print(unique_icd10_pcs_values[:30])"
   ]
  },
  {
   "cell_type": "code",
   "execution_count": 10,
   "metadata": {},
   "outputs": [
    {
     "name": "stdout",
     "output_type": "stream",
     "text": [
      "39797\n"
     ]
    }
   ],
   "source": [
    "unique_subject_ids = df_operations['subject_id'].nunique()\n",
    "print(unique_subject_ids)"
   ]
  },
  {
   "cell_type": "code",
   "execution_count": 21,
   "metadata": {},
   "outputs": [
    {
     "name": "stdout",
     "output_type": "stream",
     "text": [
      "[153073110 134213281 134195201 163619571 132888590 187733661 162604840\n",
      " 125708871 153210670 169725911 175447891 176189590 145606001 127079820\n",
      " 101336450 192250700 111270261 100894270 155068410 183209730 180650770\n",
      " 166328701 193188581 167279320 157200810 102707350 101336061 125388150\n",
      " 161344761 167485040]\n"
     ]
    }
   ],
   "source": [
    "unique_icd10_pcs_values = df_operations['subject_id'].unique()\n",
    "print(unique_icd10_pcs_values[:30])"
   ]
  },
  {
   "cell_type": "code",
   "execution_count": 15,
   "metadata": {},
   "outputs": [
    {
     "name": "stdout",
     "output_type": "stream",
     "text": [
      "1590\n"
     ]
    }
   ],
   "source": [
    "unique_subject_ids = df_operations['icd10_pcs'].nunique()\n",
    "print(unique_subject_ids)"
   ]
  },
  {
   "cell_type": "code",
   "execution_count": 16,
   "metadata": {},
   "outputs": [
    {
     "name": "stdout",
     "output_type": "stream",
     "text": [
      "['0WTF0' '0GTK0' '09B00' '08DJ3' '02RG0' '0VTS0' '0TBB7' '03BY0' '10D00'\n",
      " '0TB14' '0UB94' '0UT90' '0WJG0' '0SBD0' '0LQ00' '0RHP0' '0SQC4' '0PB00'\n",
      " '03VG3' '09B70' '0NQ00' '09Q70' '09B04' '0FT10' '0YQ50' '0D160' '0DTF0'\n",
      " '0UJD8' '0GTK4' '0HX0X']\n"
     ]
    }
   ],
   "source": [
    "unique_icd10_pcs_values = df_operations['icd10_pcs'].unique()\n",
    "print(unique_icd10_pcs_values[:30])"
   ]
  },
  {
   "cell_type": "code",
   "execution_count": 12,
   "metadata": {},
   "outputs": [
    {
     "name": "stdout",
     "output_type": "stream",
     "text": [
      "16\n"
     ]
    }
   ],
   "source": [
    "unique_subject_ids = df_operations['department'].nunique()\n",
    "print(unique_subject_ids)"
   ]
  },
  {
   "cell_type": "code",
   "execution_count": 18,
   "metadata": {},
   "outputs": [
    {
     "name": "stdout",
     "output_type": "stream",
     "text": [
      "['OG' 'GS' 'OS' 'OT' 'CTS' 'UR' 'OL' 'NS' 'PS' 'EM' 'AN' 'RO' 'IM' 'PED'\n",
      " 'DM' 'RAD']\n"
     ]
    }
   ],
   "source": [
    "unique_icd10_pcs_values = df_operations['department'].unique()\n",
    "print(unique_icd10_pcs_values[:16])"
   ]
  },
  {
   "cell_type": "markdown",
   "metadata": {},
   "source": [
    "OG: Obstetrics and Gynecology\n",
    "GS: General Surgery\n",
    "OS: Orthopedic Surgery\n",
    "OT: Occupational Therapy (though in a department context, this might mean something else)\n",
    "CTS: Cardiothoracic Surgery\n",
    "UR: Urology\n",
    "OL: Otolaryngology (Ear, Nose, and Throat or ENT)\n",
    "NS: Neurosurgery or Neurological Surgery\n",
    "PS: Plastic Surgery\n",
    "EM: Emergency Medicine\n",
    "AN: Anesthesiology\n",
    "RO: Radiation Oncology\n",
    "IM: Internal Medicine\n",
    "PED: Pediatrics\n",
    "DM:  Dhermathology\n",
    "RAD: Radiology"
   ]
  },
  {
   "cell_type": "code",
   "execution_count": 14,
   "metadata": {},
   "outputs": [
    {
     "name": "stdout",
     "output_type": "stream",
     "text": [
      "4\n"
     ]
    }
   ],
   "source": [
    "\n",
    "unique_subject_ids = df_operations['antype'].nunique()\n",
    "print(unique_subject_ids)"
   ]
  },
  {
   "cell_type": "code",
   "execution_count": 19,
   "metadata": {},
   "outputs": [
    {
     "name": "stdout",
     "output_type": "stream",
     "text": [
      "['General' 'Neuraxial' 'MAC' 'Regional']\n"
     ]
    }
   ],
   "source": [
    "unique_icd10_pcs_values = df_operations['antype'].unique()\n",
    "print(unique_icd10_pcs_values[:4])"
   ]
  },
  {
   "cell_type": "code",
   "execution_count": 8,
   "metadata": {},
   "outputs": [
    {
     "data": {
      "text/html": [
       "<div>\n",
       "<style scoped>\n",
       "    .dataframe tbody tr th:only-of-type {\n",
       "        vertical-align: middle;\n",
       "    }\n",
       "\n",
       "    .dataframe tbody tr th {\n",
       "        vertical-align: top;\n",
       "    }\n",
       "\n",
       "    .dataframe thead th {\n",
       "        text-align: right;\n",
       "    }\n",
       "</style>\n",
       "<table border=\"1\" class=\"dataframe\">\n",
       "  <thead>\n",
       "    <tr style=\"text-align: right;\">\n",
       "      <th></th>\n",
       "      <th>op_id</th>\n",
       "      <th>subject_id</th>\n",
       "      <th>hadm_id</th>\n",
       "      <th>case_id</th>\n",
       "      <th>opdate</th>\n",
       "      <th>age</th>\n",
       "      <th>weight</th>\n",
       "      <th>height</th>\n",
       "      <th>asa</th>\n",
       "      <th>emop</th>\n",
       "      <th>...</th>\n",
       "      <th>opend_time</th>\n",
       "      <th>admission_time</th>\n",
       "      <th>discharge_time</th>\n",
       "      <th>anstart_time</th>\n",
       "      <th>anend_time</th>\n",
       "      <th>cpbon_time</th>\n",
       "      <th>cpboff_time</th>\n",
       "      <th>icuin_time</th>\n",
       "      <th>icuout_time</th>\n",
       "      <th>inhosp_death_time</th>\n",
       "    </tr>\n",
       "  </thead>\n",
       "  <tbody>\n",
       "    <tr>\n",
       "      <th>count</th>\n",
       "      <td>5.213600e+04</td>\n",
       "      <td>5.213600e+04</td>\n",
       "      <td>5.213600e+04</td>\n",
       "      <td>8456.000000</td>\n",
       "      <td>5.213600e+04</td>\n",
       "      <td>52136.000000</td>\n",
       "      <td>51525.000000</td>\n",
       "      <td>51817.000000</td>\n",
       "      <td>50770.000000</td>\n",
       "      <td>52136.000000</td>\n",
       "      <td>...</td>\n",
       "      <td>5.213000e+04</td>\n",
       "      <td>5.213600e+04</td>\n",
       "      <td>5.213600e+04</td>\n",
       "      <td>5.211000e+04</td>\n",
       "      <td>5.198400e+04</td>\n",
       "      <td>9.950000e+02</td>\n",
       "      <td>9.950000e+02</td>\n",
       "      <td>5.867000e+03</td>\n",
       "      <td>5.867000e+03</td>\n",
       "      <td>6.300000e+02</td>\n",
       "    </tr>\n",
       "    <tr>\n",
       "      <th>mean</th>\n",
       "      <td>4.503452e+08</td>\n",
       "      <td>1.500793e+08</td>\n",
       "      <td>2.501434e+08</td>\n",
       "      <td>2823.559721</td>\n",
       "      <td>2.286114e+05</td>\n",
       "      <td>55.779116</td>\n",
       "      <td>62.770616</td>\n",
       "      <td>162.243877</td>\n",
       "      <td>1.757869</td>\n",
       "      <td>0.094464</td>\n",
       "      <td>...</td>\n",
       "      <td>2.294944e+05</td>\n",
       "      <td>2.250770e+05</td>\n",
       "      <td>2.381962e+05</td>\n",
       "      <td>2.291690e+05</td>\n",
       "      <td>2.292944e+05</td>\n",
       "      <td>1.934579e+05</td>\n",
       "      <td>1.936545e+05</td>\n",
       "      <td>2.039039e+05</td>\n",
       "      <td>2.101391e+05</td>\n",
       "      <td>6.604273e+05</td>\n",
       "    </tr>\n",
       "    <tr>\n",
       "      <th>std</th>\n",
       "      <td>2.886314e+07</td>\n",
       "      <td>2.890252e+07</td>\n",
       "      <td>2.885156e+07</td>\n",
       "      <td>20864.115723</td>\n",
       "      <td>6.755455e+05</td>\n",
       "      <td>16.013686</td>\n",
       "      <td>12.394162</td>\n",
       "      <td>77.524374</td>\n",
       "      <td>0.637124</td>\n",
       "      <td>0.292477</td>\n",
       "      <td>...</td>\n",
       "      <td>6.755795e+05</td>\n",
       "      <td>6.751874e+05</td>\n",
       "      <td>6.772112e+05</td>\n",
       "      <td>6.751995e+05</td>\n",
       "      <td>6.753133e+05</td>\n",
       "      <td>6.966206e+05</td>\n",
       "      <td>6.966252e+05</td>\n",
       "      <td>6.497051e+05</td>\n",
       "      <td>6.513805e+05</td>\n",
       "      <td>9.848221e+05</td>\n",
       "    </tr>\n",
       "    <tr>\n",
       "      <th>min</th>\n",
       "      <td>4.000005e+08</td>\n",
       "      <td>1.000018e+08</td>\n",
       "      <td>2.000009e+08</td>\n",
       "      <td>-32763.000000</td>\n",
       "      <td>-1.440000e+03</td>\n",
       "      <td>20.000000</td>\n",
       "      <td>-1.000000</td>\n",
       "      <td>-1.000000</td>\n",
       "      <td>1.000000</td>\n",
       "      <td>0.000000</td>\n",
       "      <td>...</td>\n",
       "      <td>5.500000e+01</td>\n",
       "      <td>0.000000e+00</td>\n",
       "      <td>0.000000e+00</td>\n",
       "      <td>-1.000000e+01</td>\n",
       "      <td>6.500000e+01</td>\n",
       "      <td>7.950000e+02</td>\n",
       "      <td>9.550000e+02</td>\n",
       "      <td>1.000000e+01</td>\n",
       "      <td>6.950000e+02</td>\n",
       "      <td>7.850000e+02</td>\n",
       "    </tr>\n",
       "    <tr>\n",
       "      <th>25%</th>\n",
       "      <td>4.253818e+08</td>\n",
       "      <td>1.251564e+08</td>\n",
       "      <td>2.252350e+08</td>\n",
       "      <td>-19437.250000</td>\n",
       "      <td>1.440000e+03</td>\n",
       "      <td>45.000000</td>\n",
       "      <td>54.000000</td>\n",
       "      <td>156.000000</td>\n",
       "      <td>1.000000</td>\n",
       "      <td>0.000000</td>\n",
       "      <td>...</td>\n",
       "      <td>2.205000e+03</td>\n",
       "      <td>0.000000e+00</td>\n",
       "      <td>4.320000e+03</td>\n",
       "      <td>2.080000e+03</td>\n",
       "      <td>2.210000e+03</td>\n",
       "      <td>4.895000e+03</td>\n",
       "      <td>5.062500e+03</td>\n",
       "      <td>2.762500e+03</td>\n",
       "      <td>5.075000e+03</td>\n",
       "      <td>5.639500e+04</td>\n",
       "    </tr>\n",
       "    <tr>\n",
       "      <th>50%</th>\n",
       "      <td>4.505360e+08</td>\n",
       "      <td>1.504309e+08</td>\n",
       "      <td>2.502014e+08</td>\n",
       "      <td>8115.500000</td>\n",
       "      <td>2.880000e+03</td>\n",
       "      <td>60.000000</td>\n",
       "      <td>62.000000</td>\n",
       "      <td>162.000000</td>\n",
       "      <td>2.000000</td>\n",
       "      <td>0.000000</td>\n",
       "      <td>...</td>\n",
       "      <td>3.485000e+03</td>\n",
       "      <td>0.000000e+00</td>\n",
       "      <td>1.008000e+04</td>\n",
       "      <td>3.355000e+03</td>\n",
       "      <td>3.490000e+03</td>\n",
       "      <td>7.795000e+03</td>\n",
       "      <td>8.000000e+03</td>\n",
       "      <td>4.270000e+03</td>\n",
       "      <td>8.030000e+03</td>\n",
       "      <td>2.094125e+05</td>\n",
       "    </tr>\n",
       "    <tr>\n",
       "      <th>75%</th>\n",
       "      <td>4.754082e+08</td>\n",
       "      <td>1.750259e+08</td>\n",
       "      <td>2.752636e+08</td>\n",
       "      <td>20696.250000</td>\n",
       "      <td>1.008000e+04</td>\n",
       "      <td>70.000000</td>\n",
       "      <td>70.000000</td>\n",
       "      <td>168.000000</td>\n",
       "      <td>2.000000</td>\n",
       "      <td>0.000000</td>\n",
       "      <td>...</td>\n",
       "      <td>1.076500e+04</td>\n",
       "      <td>0.000000e+00</td>\n",
       "      <td>3.024000e+04</td>\n",
       "      <td>1.068500e+04</td>\n",
       "      <td>1.076500e+04</td>\n",
       "      <td>1.352250e+04</td>\n",
       "      <td>1.369000e+04</td>\n",
       "      <td>1.388000e+04</td>\n",
       "      <td>2.522000e+04</td>\n",
       "      <td>7.954600e+05</td>\n",
       "    </tr>\n",
       "    <tr>\n",
       "      <th>max</th>\n",
       "      <td>4.999976e+08</td>\n",
       "      <td>1.999978e+08</td>\n",
       "      <td>2.999984e+08</td>\n",
       "      <td>32767.000000</td>\n",
       "      <td>5.132160e+06</td>\n",
       "      <td>90.000000</td>\n",
       "      <td>454.000000</td>\n",
       "      <td>17409.000000</td>\n",
       "      <td>6.000000</td>\n",
       "      <td>1.000000</td>\n",
       "      <td>...</td>\n",
       "      <td>5.133565e+06</td>\n",
       "      <td>5.123520e+06</td>\n",
       "      <td>5.155200e+06</td>\n",
       "      <td>5.133090e+06</td>\n",
       "      <td>5.133570e+06</td>\n",
       "      <td>5.133215e+06</td>\n",
       "      <td>5.133375e+06</td>\n",
       "      <td>5.133635e+06</td>\n",
       "      <td>5.137400e+06</td>\n",
       "      <td>4.378470e+06</td>\n",
       "    </tr>\n",
       "  </tbody>\n",
       "</table>\n",
       "<p>8 rows × 23 columns</p>\n",
       "</div>"
      ],
      "text/plain": [
       "              op_id    subject_id       hadm_id       case_id        opdate  \\\n",
       "count  5.213600e+04  5.213600e+04  5.213600e+04   8456.000000  5.213600e+04   \n",
       "mean   4.503452e+08  1.500793e+08  2.501434e+08   2823.559721  2.286114e+05   \n",
       "std    2.886314e+07  2.890252e+07  2.885156e+07  20864.115723  6.755455e+05   \n",
       "min    4.000005e+08  1.000018e+08  2.000009e+08 -32763.000000 -1.440000e+03   \n",
       "25%    4.253818e+08  1.251564e+08  2.252350e+08 -19437.250000  1.440000e+03   \n",
       "50%    4.505360e+08  1.504309e+08  2.502014e+08   8115.500000  2.880000e+03   \n",
       "75%    4.754082e+08  1.750259e+08  2.752636e+08  20696.250000  1.008000e+04   \n",
       "max    4.999976e+08  1.999978e+08  2.999984e+08  32767.000000  5.132160e+06   \n",
       "\n",
       "                age        weight        height           asa          emop  \\\n",
       "count  52136.000000  51525.000000  51817.000000  50770.000000  52136.000000   \n",
       "mean      55.779116     62.770616    162.243877      1.757869      0.094464   \n",
       "std       16.013686     12.394162     77.524374      0.637124      0.292477   \n",
       "min       20.000000     -1.000000     -1.000000      1.000000      0.000000   \n",
       "25%       45.000000     54.000000    156.000000      1.000000      0.000000   \n",
       "50%       60.000000     62.000000    162.000000      2.000000      0.000000   \n",
       "75%       70.000000     70.000000    168.000000      2.000000      0.000000   \n",
       "max       90.000000    454.000000  17409.000000      6.000000      1.000000   \n",
       "\n",
       "       ...    opend_time  admission_time  discharge_time  anstart_time  \\\n",
       "count  ...  5.213000e+04    5.213600e+04    5.213600e+04  5.211000e+04   \n",
       "mean   ...  2.294944e+05    2.250770e+05    2.381962e+05  2.291690e+05   \n",
       "std    ...  6.755795e+05    6.751874e+05    6.772112e+05  6.751995e+05   \n",
       "min    ...  5.500000e+01    0.000000e+00    0.000000e+00 -1.000000e+01   \n",
       "25%    ...  2.205000e+03    0.000000e+00    4.320000e+03  2.080000e+03   \n",
       "50%    ...  3.485000e+03    0.000000e+00    1.008000e+04  3.355000e+03   \n",
       "75%    ...  1.076500e+04    0.000000e+00    3.024000e+04  1.068500e+04   \n",
       "max    ...  5.133565e+06    5.123520e+06    5.155200e+06  5.133090e+06   \n",
       "\n",
       "         anend_time    cpbon_time   cpboff_time    icuin_time   icuout_time  \\\n",
       "count  5.198400e+04  9.950000e+02  9.950000e+02  5.867000e+03  5.867000e+03   \n",
       "mean   2.292944e+05  1.934579e+05  1.936545e+05  2.039039e+05  2.101391e+05   \n",
       "std    6.753133e+05  6.966206e+05  6.966252e+05  6.497051e+05  6.513805e+05   \n",
       "min    6.500000e+01  7.950000e+02  9.550000e+02  1.000000e+01  6.950000e+02   \n",
       "25%    2.210000e+03  4.895000e+03  5.062500e+03  2.762500e+03  5.075000e+03   \n",
       "50%    3.490000e+03  7.795000e+03  8.000000e+03  4.270000e+03  8.030000e+03   \n",
       "75%    1.076500e+04  1.352250e+04  1.369000e+04  1.388000e+04  2.522000e+04   \n",
       "max    5.133570e+06  5.133215e+06  5.133375e+06  5.133635e+06  5.137400e+06   \n",
       "\n",
       "       inhosp_death_time  \n",
       "count       6.300000e+02  \n",
       "mean        6.604273e+05  \n",
       "std         9.848221e+05  \n",
       "min         7.850000e+02  \n",
       "25%         5.639500e+04  \n",
       "50%         2.094125e+05  \n",
       "75%         7.954600e+05  \n",
       "max         4.378470e+06  \n",
       "\n",
       "[8 rows x 23 columns]"
      ]
     },
     "execution_count": 8,
     "metadata": {},
     "output_type": "execute_result"
    }
   ],
   "source": [
    "df_operations.describe()"
   ]
  },
  {
   "cell_type": "code",
   "execution_count": 9,
   "metadata": {},
   "outputs": [
    {
     "data": {
      "text/plain": [
       "Index(['op_id', 'subject_id', 'hadm_id', 'case_id', 'opdate', 'age', 'sex',\n",
       "       'weight', 'height', 'race', 'asa', 'emop', 'department', 'antype',\n",
       "       'icd10_pcs', 'orin_time', 'orout_time', 'opstart_time', 'opend_time',\n",
       "       'admission_time', 'discharge_time', 'anstart_time', 'anend_time',\n",
       "       'cpbon_time', 'cpboff_time', 'icuin_time', 'icuout_time',\n",
       "       'inhosp_death_time'],\n",
       "      dtype='object')"
      ]
     },
     "execution_count": 9,
     "metadata": {},
     "output_type": "execute_result"
    }
   ],
   "source": [
    "df_operations.columns"
   ]
  },
  {
   "cell_type": "markdown",
   "metadata": {},
   "source": [
    "reflections 16th oct:\n",
    "\n",
    "-inhosp_death_time is intersting since it is basically deterioration\n",
    "-disgharge time is interesting\n",
    "-icuout_time is interesting\n",
    "\n",
    "feedback update meeting 17th oct:\n",
    "\n",
    "-operation time, op id?(discuss with arthur which type of surgeries would be useful for us), discharge time, inhospdeath \n",
    "-works that use public datset have higher impact, this one is better for science people can build on our work\n",
    "-we want people to be able to reproduce our work and cite us\n",
    "-for next week I need really to understan the INSPIRE dataset \n",
    "-download VBdataset\n",
    "-if i really don't get the surgery type I can email authors"
   ]
  }
 ],
 "metadata": {
  "kernelspec": {
   "display_name": "phd1",
   "language": "python",
   "name": "python3"
  },
  "language_info": {
   "codemirror_mode": {
    "name": "ipython",
    "version": 3
   },
   "file_extension": ".py",
   "mimetype": "text/x-python",
   "name": "python",
   "nbconvert_exporter": "python",
   "pygments_lexer": "ipython3",
   "version": "3.11.6"
  }
 },
 "nbformat": 4,
 "nbformat_minor": 2
}
