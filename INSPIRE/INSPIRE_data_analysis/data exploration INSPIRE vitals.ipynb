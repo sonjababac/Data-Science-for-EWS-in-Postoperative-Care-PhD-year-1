{
 "cells": [
  {
   "cell_type": "markdown",
   "metadata": {},
   "source": [
    "<h1 style=\"font-size:36px;\">Data exploration of INSPIRE, a publicly available research dataset for perioperative medicine</h1>\n",
    "\n",
    "<h2 style=\"font-size:20px;\">In this script data exploration and analysis of \"\"vitals.csv\" is shown</h2>\n",
    "\n",
    "link: https://physionet.org/content/inspire/0.1/"
   ]
  },
  {
   "cell_type": "code",
   "execution_count": 2,
   "metadata": {},
   "outputs": [
    {
     "name": "stdout",
     "output_type": "stream",
     "text": [
      "Libraries Imported\n"
     ]
    }
   ],
   "source": [
    "import numpy as np\n",
    "import pandas as pd\n",
    "import matplotlib.pyplot as plt\n",
    "import seaborn as sns\n",
    "from sklearn import datasets  # Example, importing datasets module\n",
    "import tensorflow as tf\n",
    "import torch\n",
    "import keras\n",
    "import scipy\n",
    "import statsmodels\n",
    "\n",
    "print(\"Libraries Imported\")\n"
   ]
  },
  {
   "cell_type": "code",
   "execution_count": 3,
   "metadata": {},
   "outputs": [
    {
     "data": {
      "text/plain": [
       "\"\\n# Creating a NumPy array\\narr = np.array([1, 2, 3, 4, 5])\\n\\n# Creating a Pandas DataFrame\\ndata = {'A': [1, 2, 3], 'B': [4, 5, 6]}\\ndf = pd.DataFrame(data)\\n\\n# Creating a Matplotlib plot\\nplt.plot([1, 2, 3], [4, 5, 6])\\n\\n# Creating a Seaborn plot\\nsns.scatterplot(data=df, x='A', y='B')\\n\\n# Creating a TensorFlow constant\\ntensor = tf.constant([1, 2, 3])\\n\\n# Creating a PyTorch tensor\\ntensor = torch.tensor([1, 2, 3])\\n\\n# Using Keras layers\\nmodel = keras.Sequential()\\n\""
      ]
     },
     "execution_count": 3,
     "metadata": {},
     "output_type": "execute_result"
    }
   ],
   "source": [
    "#test\n",
    "\"\"\"\n",
    "# Creating a NumPy array\n",
    "arr = np.array([1, 2, 3, 4, 5])\n",
    "\n",
    "# Creating a Pandas DataFrame\n",
    "data = {'A': [1, 2, 3], 'B': [4, 5, 6]}\n",
    "df = pd.DataFrame(data)\n",
    "\n",
    "# Creating a Matplotlib plot\n",
    "plt.plot([1, 2, 3], [4, 5, 6])\n",
    "\n",
    "# Creating a Seaborn plot\n",
    "sns.scatterplot(data=df, x='A', y='B')\n",
    "\n",
    "# Creating a TensorFlow constant\n",
    "tensor = tf.constant([1, 2, 3])\n",
    "\n",
    "# Creating a PyTorch tensor\n",
    "tensor = torch.tensor([1, 2, 3])\n",
    "\n",
    "# Using Keras layers\n",
    "model = keras.Sequential()\n",
    "\"\"\""
   ]
  },
  {
   "cell_type": "code",
   "execution_count": 4,
   "metadata": {},
   "outputs": [],
   "source": [
    "df_vitals = pd.read_csv('c:\\\\Users\\\\20181588\\\\Desktop\\\\data\\\\inspire-a-publicly-available-research-dataset-for-perioperative-medicine-0.1\\\\inspire-a-publicly-available-research-dataset-for-perioperative-medicine-0.1\\\\vitals.csv')"
   ]
  },
  {
   "cell_type": "code",
   "execution_count": 5,
   "metadata": {},
   "outputs": [
    {
     "data": {
      "text/html": [
       "<div>\n",
       "<style scoped>\n",
       "    .dataframe tbody tr th:only-of-type {\n",
       "        vertical-align: middle;\n",
       "    }\n",
       "\n",
       "    .dataframe tbody tr th {\n",
       "        vertical-align: top;\n",
       "    }\n",
       "\n",
       "    .dataframe thead th {\n",
       "        text-align: right;\n",
       "    }\n",
       "</style>\n",
       "<table border=\"1\" class=\"dataframe\">\n",
       "  <thead>\n",
       "    <tr style=\"text-align: right;\">\n",
       "      <th></th>\n",
       "      <th>op_id</th>\n",
       "      <th>subject_id</th>\n",
       "      <th>chart_time</th>\n",
       "      <th>item_name</th>\n",
       "      <th>value</th>\n",
       "    </tr>\n",
       "  </thead>\n",
       "  <tbody>\n",
       "    <tr>\n",
       "      <th>0</th>\n",
       "      <td>428563245</td>\n",
       "      <td>155496940</td>\n",
       "      <td>1920</td>\n",
       "      <td>nibp_sbp</td>\n",
       "      <td>142.0</td>\n",
       "    </tr>\n",
       "    <tr>\n",
       "      <th>1</th>\n",
       "      <td>428563245</td>\n",
       "      <td>155496940</td>\n",
       "      <td>1920</td>\n",
       "      <td>nibp_dbp</td>\n",
       "      <td>60.0</td>\n",
       "    </tr>\n",
       "    <tr>\n",
       "      <th>2</th>\n",
       "      <td>428563245</td>\n",
       "      <td>155496940</td>\n",
       "      <td>1920</td>\n",
       "      <td>nibp_mbp</td>\n",
       "      <td>86.0</td>\n",
       "    </tr>\n",
       "    <tr>\n",
       "      <th>3</th>\n",
       "      <td>428563245</td>\n",
       "      <td>155496940</td>\n",
       "      <td>1920</td>\n",
       "      <td>o2</td>\n",
       "      <td>0.0</td>\n",
       "    </tr>\n",
       "    <tr>\n",
       "      <th>4</th>\n",
       "      <td>428563245</td>\n",
       "      <td>155496940</td>\n",
       "      <td>1920</td>\n",
       "      <td>hs</td>\n",
       "      <td>0.0</td>\n",
       "    </tr>\n",
       "  </tbody>\n",
       "</table>\n",
       "</div>"
      ],
      "text/plain": [
       "       op_id  subject_id  chart_time item_name  value\n",
       "0  428563245   155496940        1920  nibp_sbp  142.0\n",
       "1  428563245   155496940        1920  nibp_dbp   60.0\n",
       "2  428563245   155496940        1920  nibp_mbp   86.0\n",
       "3  428563245   155496940        1920        o2    0.0\n",
       "4  428563245   155496940        1920        hs    0.0"
      ]
     },
     "execution_count": 5,
     "metadata": {},
     "output_type": "execute_result"
    }
   ],
   "source": [
    "df_vitals.head()\n"
   ]
  },
  {
   "cell_type": "code",
   "execution_count": 6,
   "metadata": {},
   "outputs": [
    {
     "name": "stdout",
     "output_type": "stream",
     "text": [
      "<class 'pandas.core.frame.DataFrame'>\n",
      "RangeIndex: 26305136 entries, 0 to 26305135\n",
      "Data columns (total 5 columns):\n",
      " #   Column      Dtype  \n",
      "---  ------      -----  \n",
      " 0   op_id       int64  \n",
      " 1   subject_id  int64  \n",
      " 2   chart_time  int64  \n",
      " 3   item_name   object \n",
      " 4   value       float64\n",
      "dtypes: float64(1), int64(3), object(1)\n",
      "memory usage: 1003.5+ MB\n"
     ]
    }
   ],
   "source": [
    "df_vitals.info()"
   ]
  },
  {
   "cell_type": "code",
   "execution_count": 7,
   "metadata": {},
   "outputs": [
    {
     "data": {
      "text/html": [
       "<div>\n",
       "<style scoped>\n",
       "    .dataframe tbody tr th:only-of-type {\n",
       "        vertical-align: middle;\n",
       "    }\n",
       "\n",
       "    .dataframe tbody tr th {\n",
       "        vertical-align: top;\n",
       "    }\n",
       "\n",
       "    .dataframe thead th {\n",
       "        text-align: right;\n",
       "    }\n",
       "</style>\n",
       "<table border=\"1\" class=\"dataframe\">\n",
       "  <thead>\n",
       "    <tr style=\"text-align: right;\">\n",
       "      <th></th>\n",
       "      <th>op_id</th>\n",
       "      <th>subject_id</th>\n",
       "      <th>chart_time</th>\n",
       "      <th>value</th>\n",
       "    </tr>\n",
       "  </thead>\n",
       "  <tbody>\n",
       "    <tr>\n",
       "      <th>count</th>\n",
       "      <td>2.630514e+07</td>\n",
       "      <td>2.630514e+07</td>\n",
       "      <td>2.630514e+07</td>\n",
       "      <td>2.630514e+07</td>\n",
       "    </tr>\n",
       "    <tr>\n",
       "      <th>mean</th>\n",
       "      <td>4.503678e+08</td>\n",
       "      <td>1.501248e+08</td>\n",
       "      <td>2.133934e+05</td>\n",
       "      <td>6.662137e+01</td>\n",
       "    </tr>\n",
       "    <tr>\n",
       "      <th>std</th>\n",
       "      <td>2.883870e+07</td>\n",
       "      <td>2.895786e+07</td>\n",
       "      <td>6.596990e+05</td>\n",
       "      <td>1.060960e+04</td>\n",
       "    </tr>\n",
       "    <tr>\n",
       "      <th>min</th>\n",
       "      <td>4.000005e+08</td>\n",
       "      <td>1.000018e+08</td>\n",
       "      <td>-1.440000e+03</td>\n",
       "      <td>-3.274700e+04</td>\n",
       "    </tr>\n",
       "    <tr>\n",
       "      <th>25%</th>\n",
       "      <td>4.253698e+08</td>\n",
       "      <td>1.251854e+08</td>\n",
       "      <td>2.260000e+03</td>\n",
       "      <td>1.000000e+01</td>\n",
       "    </tr>\n",
       "    <tr>\n",
       "      <th>50%</th>\n",
       "      <td>4.506789e+08</td>\n",
       "      <td>1.504170e+08</td>\n",
       "      <td>3.595000e+03</td>\n",
       "      <td>3.540000e+01</td>\n",
       "    </tr>\n",
       "    <tr>\n",
       "      <th>75%</th>\n",
       "      <td>4.753104e+08</td>\n",
       "      <td>1.752116e+08</td>\n",
       "      <td>9.490000e+03</td>\n",
       "      <td>8.050000e+01</td>\n",
       "    </tr>\n",
       "    <tr>\n",
       "      <th>max</th>\n",
       "      <td>4.999976e+08</td>\n",
       "      <td>1.999978e+08</td>\n",
       "      <td>5.133570e+06</td>\n",
       "      <td>5.422222e+07</td>\n",
       "    </tr>\n",
       "  </tbody>\n",
       "</table>\n",
       "</div>"
      ],
      "text/plain": [
       "              op_id    subject_id    chart_time         value\n",
       "count  2.630514e+07  2.630514e+07  2.630514e+07  2.630514e+07\n",
       "mean   4.503678e+08  1.501248e+08  2.133934e+05  6.662137e+01\n",
       "std    2.883870e+07  2.895786e+07  6.596990e+05  1.060960e+04\n",
       "min    4.000005e+08  1.000018e+08 -1.440000e+03 -3.274700e+04\n",
       "25%    4.253698e+08  1.251854e+08  2.260000e+03  1.000000e+01\n",
       "50%    4.506789e+08  1.504170e+08  3.595000e+03  3.540000e+01\n",
       "75%    4.753104e+08  1.752116e+08  9.490000e+03  8.050000e+01\n",
       "max    4.999976e+08  1.999978e+08  5.133570e+06  5.422222e+07"
      ]
     },
     "execution_count": 7,
     "metadata": {},
     "output_type": "execute_result"
    }
   ],
   "source": [
    "df_vitals.describe()"
   ]
  },
  {
   "cell_type": "code",
   "execution_count": 8,
   "metadata": {},
   "outputs": [
    {
     "data": {
      "text/plain": [
       "Index(['op_id', 'subject_id', 'chart_time', 'item_name', 'value'], dtype='object')"
      ]
     },
     "execution_count": 8,
     "metadata": {},
     "output_type": "execute_result"
    }
   ],
   "source": [
    "df_vitals.columns"
   ]
  }
 ],
 "metadata": {
  "kernelspec": {
   "display_name": "phd1",
   "language": "python",
   "name": "python3"
  },
  "language_info": {
   "codemirror_mode": {
    "name": "ipython",
    "version": 3
   },
   "file_extension": ".py",
   "mimetype": "text/x-python",
   "name": "python",
   "nbconvert_exporter": "python",
   "pygments_lexer": "ipython3",
   "version": "3.11.6"
  }
 },
 "nbformat": 4,
 "nbformat_minor": 2
}
