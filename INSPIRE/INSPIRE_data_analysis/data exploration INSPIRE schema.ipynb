{
 "cells": [
  {
   "cell_type": "markdown",
   "metadata": {},
   "source": [
    "<h1 style=\"font-size:36px;\">Data exploration of INSPIRE, a publicly available research dataset for perioperative medicine</h1>\n",
    "\n",
    "<h2 style=\"font-size:20px;\">In this script data exploration and analysis of \"\"schema.csv\" is shown</h2>\n",
    "\n",
    "link: https://physionet.org/content/inspire/0.1/"
   ]
  },
  {
   "cell_type": "code",
   "execution_count": 1,
   "metadata": {},
   "outputs": [
    {
     "name": "stdout",
     "output_type": "stream",
     "text": [
      "Libraries Imported\n"
     ]
    }
   ],
   "source": [
    "import numpy as np\n",
    "import pandas as pd\n",
    "import matplotlib.pyplot as plt\n",
    "import seaborn as sns\n",
    "from sklearn import datasets  # Example, importing datasets module\n",
    "import tensorflow as tf\n",
    "import torch\n",
    "import keras\n",
    "import scipy\n",
    "import statsmodels\n",
    "\n",
    "print(\"Libraries Imported\")\n"
   ]
  },
  {
   "cell_type": "code",
   "execution_count": 2,
   "metadata": {},
   "outputs": [
    {
     "data": {
      "text/plain": [
       "\"\\n# Creating a NumPy array\\narr = np.array([1, 2, 3, 4, 5])\\n\\n# Creating a Pandas DataFrame\\ndata = {'A': [1, 2, 3], 'B': [4, 5, 6]}\\ndf = pd.DataFrame(data)\\n\\n# Creating a Matplotlib plot\\nplt.plot([1, 2, 3], [4, 5, 6])\\n\\n# Creating a Seaborn plot\\nsns.scatterplot(data=df, x='A', y='B')\\n\\n# Creating a TensorFlow constant\\ntensor = tf.constant([1, 2, 3])\\n\\n# Creating a PyTorch tensor\\ntensor = torch.tensor([1, 2, 3])\\n\\n# Using Keras layers\\nmodel = keras.Sequential()\\n\""
      ]
     },
     "execution_count": 2,
     "metadata": {},
     "output_type": "execute_result"
    }
   ],
   "source": [
    "#test\n",
    "\"\"\"\n",
    "# Creating a NumPy array\n",
    "arr = np.array([1, 2, 3, 4, 5])\n",
    "\n",
    "# Creating a Pandas DataFrame\n",
    "data = {'A': [1, 2, 3], 'B': [4, 5, 6]}\n",
    "df = pd.DataFrame(data)\n",
    "\n",
    "# Creating a Matplotlib plot\n",
    "plt.plot([1, 2, 3], [4, 5, 6])\n",
    "\n",
    "# Creating a Seaborn plot\n",
    "sns.scatterplot(data=df, x='A', y='B')\n",
    "\n",
    "# Creating a TensorFlow constant\n",
    "tensor = tf.constant([1, 2, 3])\n",
    "\n",
    "# Creating a PyTorch tensor\n",
    "tensor = torch.tensor([1, 2, 3])\n",
    "\n",
    "# Using Keras layers\n",
    "model = keras.Sequential()\n",
    "\"\"\""
   ]
  },
  {
   "cell_type": "code",
   "execution_count": 3,
   "metadata": {},
   "outputs": [],
   "source": [
    "df_schema = pd.read_csv('c:\\\\Users\\\\20181588\\\\Desktop\\\\data\\\\inspire-a-publicly-available-research-dataset-for-perioperative-medicine-0.1\\\\inspire-a-publicly-available-research-dataset-for-perioperative-medicine-0.1\\\\schema.csv')"
   ]
  },
  {
   "cell_type": "code",
   "execution_count": 4,
   "metadata": {},
   "outputs": [
    {
     "data": {
      "text/html": [
       "<div>\n",
       "<style scoped>\n",
       "    .dataframe tbody tr th:only-of-type {\n",
       "        vertical-align: middle;\n",
       "    }\n",
       "\n",
       "    .dataframe tbody tr th {\n",
       "        vertical-align: top;\n",
       "    }\n",
       "\n",
       "    .dataframe thead th {\n",
       "        text-align: right;\n",
       "    }\n",
       "</style>\n",
       "<table border=\"1\" class=\"dataframe\">\n",
       "  <thead>\n",
       "    <tr style=\"text-align: right;\">\n",
       "      <th></th>\n",
       "      <th>Table</th>\n",
       "      <th>Variable</th>\n",
       "      <th>Type</th>\n",
       "      <th>Description</th>\n",
       "    </tr>\n",
       "  </thead>\n",
       "  <tbody>\n",
       "    <tr>\n",
       "      <th>0</th>\n",
       "      <td>operations</td>\n",
       "      <td>op_id</td>\n",
       "      <td>Number</td>\n",
       "      <td>A random number starts with 4 for the operation.</td>\n",
       "    </tr>\n",
       "    <tr>\n",
       "      <th>1</th>\n",
       "      <td>NaN</td>\n",
       "      <td>subject_id</td>\n",
       "      <td>Number</td>\n",
       "      <td>A random number starts with 1 for the patient.</td>\n",
       "    </tr>\n",
       "    <tr>\n",
       "      <th>2</th>\n",
       "      <td>NaN</td>\n",
       "      <td>hadm_id</td>\n",
       "      <td>Number</td>\n",
       "      <td>A random number starts with 2 for hospital adm...</td>\n",
       "    </tr>\n",
       "    <tr>\n",
       "      <th>3</th>\n",
       "      <td>NaN</td>\n",
       "      <td>case_id</td>\n",
       "      <td>Number</td>\n",
       "      <td>A linker to VitalDB Open Dataset</td>\n",
       "    </tr>\n",
       "    <tr>\n",
       "      <th>4</th>\n",
       "      <td>NaN</td>\n",
       "      <td>opdate</td>\n",
       "      <td>Relative Time</td>\n",
       "      <td>Operation date</td>\n",
       "    </tr>\n",
       "  </tbody>\n",
       "</table>\n",
       "</div>"
      ],
      "text/plain": [
       "        Table    Variable           Type  \\\n",
       "0  operations       op_id         Number   \n",
       "1         NaN  subject_id         Number   \n",
       "2         NaN     hadm_id         Number   \n",
       "3         NaN     case_id         Number   \n",
       "4         NaN      opdate  Relative Time   \n",
       "\n",
       "                                         Description  \n",
       "0   A random number starts with 4 for the operation.  \n",
       "1     A random number starts with 1 for the patient.  \n",
       "2  A random number starts with 2 for hospital adm...  \n",
       "3                   A linker to VitalDB Open Dataset  \n",
       "4                                     Operation date  "
      ]
     },
     "execution_count": 4,
     "metadata": {},
     "output_type": "execute_result"
    }
   ],
   "source": [
    "df_schema.head()\n"
   ]
  },
  {
   "cell_type": "code",
   "execution_count": 5,
   "metadata": {},
   "outputs": [
    {
     "name": "stdout",
     "output_type": "stream",
     "text": [
      "<class 'pandas.core.frame.DataFrame'>\n",
      "RangeIndex: 47 entries, 0 to 46\n",
      "Data columns (total 4 columns):\n",
      " #   Column       Non-Null Count  Dtype \n",
      "---  ------       --------------  ----- \n",
      " 0   Table        6 non-null      object\n",
      " 1   Variable     47 non-null     object\n",
      " 2   Type         47 non-null     object\n",
      " 3   Description  47 non-null     object\n",
      "dtypes: object(4)\n",
      "memory usage: 1.6+ KB\n"
     ]
    }
   ],
   "source": [
    "df_schema.info()"
   ]
  },
  {
   "cell_type": "code",
   "execution_count": 6,
   "metadata": {},
   "outputs": [
    {
     "data": {
      "text/html": [
       "<div>\n",
       "<style scoped>\n",
       "    .dataframe tbody tr th:only-of-type {\n",
       "        vertical-align: middle;\n",
       "    }\n",
       "\n",
       "    .dataframe tbody tr th {\n",
       "        vertical-align: top;\n",
       "    }\n",
       "\n",
       "    .dataframe thead th {\n",
       "        text-align: right;\n",
       "    }\n",
       "</style>\n",
       "<table border=\"1\" class=\"dataframe\">\n",
       "  <thead>\n",
       "    <tr style=\"text-align: right;\">\n",
       "      <th></th>\n",
       "      <th>Table</th>\n",
       "      <th>Variable</th>\n",
       "      <th>Type</th>\n",
       "      <th>Description</th>\n",
       "    </tr>\n",
       "  </thead>\n",
       "  <tbody>\n",
       "    <tr>\n",
       "      <th>count</th>\n",
       "      <td>6</td>\n",
       "      <td>47</td>\n",
       "      <td>47</td>\n",
       "      <td>47</td>\n",
       "    </tr>\n",
       "    <tr>\n",
       "      <th>unique</th>\n",
       "      <td>6</td>\n",
       "      <td>33</td>\n",
       "      <td>6</td>\n",
       "      <td>36</td>\n",
       "    </tr>\n",
       "    <tr>\n",
       "      <th>top</th>\n",
       "      <td>operations</td>\n",
       "      <td>subject_id</td>\n",
       "      <td>Relative Time</td>\n",
       "      <td>The patient identifier defined in the operatio...</td>\n",
       "    </tr>\n",
       "    <tr>\n",
       "      <th>freq</th>\n",
       "      <td>1</td>\n",
       "      <td>6</td>\n",
       "      <td>19</td>\n",
       "      <td>5</td>\n",
       "    </tr>\n",
       "  </tbody>\n",
       "</table>\n",
       "</div>"
      ],
      "text/plain": [
       "             Table    Variable           Type  \\\n",
       "count            6          47             47   \n",
       "unique           6          33              6   \n",
       "top     operations  subject_id  Relative Time   \n",
       "freq             1           6             19   \n",
       "\n",
       "                                              Description  \n",
       "count                                                  47  \n",
       "unique                                                 36  \n",
       "top     The patient identifier defined in the operatio...  \n",
       "freq                                                    5  "
      ]
     },
     "execution_count": 6,
     "metadata": {},
     "output_type": "execute_result"
    }
   ],
   "source": [
    "df_schema.describe()"
   ]
  },
  {
   "cell_type": "code",
   "execution_count": 7,
   "metadata": {},
   "outputs": [
    {
     "data": {
      "text/plain": [
       "Index(['Table', 'Variable', 'Type', 'Description'], dtype='object')"
      ]
     },
     "execution_count": 7,
     "metadata": {},
     "output_type": "execute_result"
    }
   ],
   "source": [
    "df_schema.columns"
   ]
  }
 ],
 "metadata": {
  "kernelspec": {
   "display_name": "phd1",
   "language": "python",
   "name": "python3"
  },
  "language_info": {
   "codemirror_mode": {
    "name": "ipython",
    "version": 3
   },
   "file_extension": ".py",
   "mimetype": "text/x-python",
   "name": "python",
   "nbconvert_exporter": "python",
   "pygments_lexer": "ipython3",
   "version": "3.11.6"
  }
 },
 "nbformat": 4,
 "nbformat_minor": 2
}
